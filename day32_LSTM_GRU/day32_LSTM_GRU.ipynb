{
  "cells": [
    {
      "cell_type": "markdown",
      "metadata": {},
      "source": [
        "# Sequential Data Modeling\n",
        "\n",
        "Sequential Data: 데이터의 순서가 중요한 데이터\n",
        "\n",
        "MLP의 경우는 순서를 고려하지 않고 **모든 데이터 간의 관계**를 파악하는 데 집중 <br>\n",
        "CNN의 경우 순서를 고려하지 않고 **특정 범위 내의 관계**를 파악하는 데 집중 <br>\n",
        "따라서, **순서 정보가 중요한 데이터를 모델링하기 위한 구조의 필요성**이 대두됨 <br>\n"
      ]
    },
    {
      "cell_type": "markdown",
      "metadata": {},
      "source": [
        "## LSTM (Long Short Term Memory)\n",
        "\n",
        "<img src=\"https://miro.medium.com/v2/resize:fit:720/format:webp/1*tEN1Ziu4VvRAaH9zagN3EQ.png\" width=\"600\" height=\"300\"/>\n",
        "\n",
        "<br>\n",
        "<br>\n",
        "\n",
        "RNN의 문제점을 해결하기 위해 등장한 Cell <br>\n",
        "Input gate, forget gate, output gate의 gate를 사용하여 정보 업데이트 <br>\n",
        "\n",
        "<br>\n",
        "<br>\n",
        "\n",
        "<font style=\"font-size:20px\"> 구조 </font> <br>\n",
        "<font style=\"font-size:16px\"> Forget Gate </font> <br>\n",
        "<img src=\"https://wikidocs.net/images/page/160053/10_LSTM3-focus-f.png\" width=\"600\" height=\"300\"/>\n",
        "\n",
        "셀 상태에서 버릴 정보 결정 <br>\n",
        "Sigmoid를 통해 0이면 제거, 1이면 유지, 그 사이면 그 비율 만큼을 유지 <br>\n",
        "\n",
        "<br>\n",
        "\n",
        "<font style=\"font-size:16px\"> Input Gate </font> <br>\n",
        "<img src=\"https://wikidocs.net/images/page/160053/11_LSTM3-focus-i.png\" width=\"600\" height=\"300\"/>\n",
        "\n",
        "이젠 셀 상태($C_{t-1}$)을 새 셀 상태($C_t$)로 업데이트 <br>\n",
        "$i_t*\\tilde{C_t}$의 정보량을 추가 <br>\n",
        "&nbsp;&nbsp;&nbsp;&nbsp; $i_t$: $x_t$에서 어느 정도 비율을 업데이트 할 지 결정 <br>\n",
        "&nbsp;&nbsp;&nbsp;&nbsp; $\\tilde{C_t}$: $x_t$에서 입력된 값을 -1 ~ 1로 스케일링 <br>\n",
        "\n",
        "<br>\n",
        "\n",
        "<font style=\"font-size:16px\"> Output Gate </font> <br>\n",
        "셀 상태($C_t$)에서 어느 정도를 출력할지 결정 <br>\n",
        "<img src=\"https://wikidocs.net/images/page/160053/13_LSTM3-focus-o.png\" width=\"600\" height=\"300\"/>\n",
        "\n",
        "$o_t$: 입력된 값을 통해 $C_t$에서 어느 정도의 양을 출력할 지 결정 <br>\n",
        "$tanh(C_t)$: $C_t$를 -1 ~ 1로 스케일링 <br>\n",
        "\n",
        "<br>\n",
        "<br>\n",
        "\n",
        "<font style=\"font-size:20px\"> 장점 </font> <br>\n",
        "\n",
        "1. RNN의 학습 불안정(기울기 소실, 폭발) 문제 일부 극복\n",
        "2. 장기 정보를 RNN보다 더욱 잘 캡처\n",
        "\n",
        "<br>\n",
        "\n",
        "<font style=\"font-size:20px\"> 단점 </font> <br>\n",
        "\n",
        "1. 완벽하게 해결하지는 못 함"
      ]
    },
    {
      "cell_type": "markdown",
      "metadata": {},
      "source": [
        "### 사용 방법\n",
        "\n",
        "> ```python\n",
        "> import torch.nn as nn\n",
        "> \n",
        "> lstm = nn.LSTM(\n",
        ">    input_size,\n",
        ">    hidden_size,\n",
        ">    num_layers=,\n",
        ">    bidirectional=False,\n",
        ">    batch_first=True,\n",
        "> )\n",
        "> output, (h_n, c_n) = lstm(x)      # (초기 hidden state를 주지 않을 때)\n",
        "> output, (h_n, c_n) = lstm(x, h_0) # (초기 hidden state를 줄 때)\n",
        "> \n",
        "> # x: 입력 텐서 (batch, seq_len, n_feature)\n",
        "> # output: 매 t에 대한 output layer\n",
        "> # h_n: final hidden state\n",
        "> # c_n: final cell state\n",
        "> ```\n",
        "\n",
        "<br>\n",
        "\n",
        "<font style=\"font-size:16px\"> 주요 parameter </font> <br>\n",
        "- input_size (int): 입력 tensor의 크기 (feature의 수)\n",
        "- hidden_size (int): hidden state의 neuron의 수\n",
        "- num_layers (int): stack의 수\n",
        "- bidirectional (bool): bidirectional LSTM 유무\n",
        "- batch_first (bool): shape에서 batch를 제일 처음으로 둘 건지 결정\n",
        "    - True: (batch, seq_len, n_feature)\n",
        "    - False: (seq_len, batch, n_feature)"
      ]
    },
    {
      "cell_type": "markdown",
      "metadata": {},
      "source": [
        "## Variants\n",
        "\n",
        "LSTM 구조의 다양한 변형 <br>\n",
        "외에도 수많은 종류가 있으며 퍼포먼스는 비슷하나 일부 특정 task에 적합한 구조가 있는 것으로 발혀짐 <br>"
      ]
    },
    {
      "cell_type": "markdown",
      "metadata": {},
      "source": [
        "### Peephole\n",
        "\n",
        "<img src=\"https://wikidocs.net/images/page/160053/14_LSTM3-var-peepholes.png\" width=\"600\" height=\"300\"/>"
      ]
    },
    {
      "cell_type": "markdown",
      "metadata": {},
      "source": [
        "### Combined forget and input gate\n",
        "\n",
        "<img src=\"https://wikidocs.net/images/page/160053/15_LSTM3-var-tied.png\" width=\"600\" height=\"300\"/>"
      ]
    },
    {
      "cell_type": "markdown",
      "metadata": {},
      "source": [
        "### GRU (Gated Recurrent Unit)\n",
        "\n",
        "RNN Variant의 하나로 LSTM에서 세 개의 gate를 보다 간소화 <br>\n",
        "Update gate와 reset gate를 활용하여 정보 업데이트 <br>\n",
        "LSTM의 cell state와 hidden state가 hidden state로 통합 <br>\n",
        "\n",
        "<br>\n",
        "<br>\n",
        "\n",
        "<font style=\"font-size:20px\"> 구조 </font> <br>\n",
        "\n",
        "<img src=\"https://miro.medium.com/v2/resize:fit:720/format:webp/1*-ldMy6GqBy8D25uNKQl2gA.png\" width=\"600\" height=\"300\"/>\n",
        "\n",
        "\n",
        "<font style=\"font-size:16px\"> Reset Gate (a) </font> <br>\n",
        "\n",
        "잊을 정보량 결정\n",
        "\n",
        "\n",
        "<br>\n",
        "\n",
        "<font style=\"font-size:16px\"> Update Gate (b) </font> <br>\n",
        "\n",
        "\n",
        "이전 step의 hidden state의 정보를 현재 상태에 얼마나 반영할 것인지 결정 <br>\n",
        "0에 가까울 수록 이전 hidden state의 정보는 잊혀지고 1에 가까우면 현재의 hidden state 정보 유지 <br>\n",
        "그림의 -는 정보를 1에서 뺀다는 의미로 제거량 의미\n",
        "\n",
        "\n",
        "\n",
        "\n",
        "\n",
        "\n",
        "<br>\n",
        "<br>\n",
        "\n",
        "<font style=\"font-size:20px\"> 장점 </font> <br>\n",
        "\n",
        "1. LSTM 대비 적은 parameter로 보다 빠른 학습 속도\n",
        "\n",
        "<br>\n",
        "\n",
        "<font style=\"font-size:20px\"> 단점 </font> <br>\n",
        "\n",
        "1. 일부 task에서 긴 시퀀스 데이터에서 LSTM대비 장기 의존성 유지 어려움 "
      ]
    },
    {
      "cell_type": "markdown",
      "metadata": {},
      "source": [
        "#### 사용 방법\n",
        "\n",
        "> ```python\n",
        "> import torch.nn as nn\n",
        "> \n",
        "> gru = nn.GRU(\n",
        ">    input_size,\n",
        ">    hidden_size,\n",
        ">    num_layers=,\n",
        ">    bidirectional=False,\n",
        ">    batch_first=True,\n",
        "> )\n",
        "> output, h_n = gru(x)      # (초기 hidden state를 주지 않을 때)\n",
        "> output, h_n = gru(x, h_0) # (초기 hidden state를 줄 때)\n",
        "> \n",
        "> # x: 입력 텐서 (batch, seq_len, n_feature)\n",
        "> # output: 매 t에 대한 output layer\n",
        "> # h_n: final hidden state\n",
        "> ```\n",
        "\n",
        "<br>\n",
        "\n",
        "<font style=\"font-size:16px\"> 주요 parameter </font> <br>\n",
        "- input_size (int): 입력 tensor의 크기 (feature의 수)\n",
        "- hidden_size (int): hidden state의 neuron의 수\n",
        "- num_layers (int): stack의 수\n",
        "- bidirectional (bool): bidirectional LSTM 유무\n",
        "- batch_first (bool): shape에서 batch를 제일 처음으로 둘 건지 결정\n",
        "    - True: (batch, seq_len, n_feature)\n",
        "    - False: (seq_len, batch, n_feature)"
      ]
    },
    {
      "cell_type": "markdown",
      "metadata": {},
      "source": [
        "# Summary\n",
        "\n",
        "|Cell|Structure|\n",
        "|---|----|\n",
        "|RNN|<img src=\"https://miro.medium.com/v2/resize:fit:720/format:webp/1*iP_ahgzkiMNu2hPYhkjlXw.png\" width=\"600\" height=\"300\"/>|\n",
        "|LSTM|<img src=\"https://miro.medium.com/v2/resize:fit:720/format:webp/1*tEN1Ziu4VvRAaH9zagN3EQ.png\" width=\"600\" height=\"300\"/>|\n",
        "|GRU|<img src=\"https://miro.medium.com/v2/resize:fit:720/format:webp/1*-ldMy6GqBy8D25uNKQl2gA.png\" width=\"600\" height=\"300\"/>|"
      ]
    },
    {
      "cell_type": "markdown",
      "metadata": {},
      "source": [
        "# Practice"
      ]
    },
    {
      "cell_type": "code",
      "execution_count": 13,
      "metadata": {},
      "outputs": [],
      "source": [
        "import pandas as pd\n",
        "import numpy as np\n",
        "from tensorflow.keras.datasets import imdb\n",
        "from sklearn.model_selection import train_test_split\n",
        "from sklearn.preprocessing import StandardScaler\n",
        "\n",
        "import seaborn as sns\n",
        "\n",
        "import torch\n",
        "import torch.nn as nn\n",
        "import torch.nn.functional as F\n",
        "from torch.nn.utils.rnn import pad_sequence"
      ]
    },
    {
      "cell_type": "markdown",
      "metadata": {},
      "source": [
        "## LSTM"
      ]
    },
    {
      "cell_type": "code",
      "execution_count": 4,
      "metadata": {},
      "outputs": [
        {
          "data": {
            "text/plain": [
              "torch.Size([32, 20, 64])"
            ]
          },
          "execution_count": 4,
          "metadata": {},
          "output_type": "execute_result"
        }
      ],
      "source": [
        "x = torch.randn(32, 20, 64)\n",
        "x.shape"
      ]
    },
    {
      "cell_type": "code",
      "execution_count": 11,
      "metadata": {},
      "outputs": [
        {
          "data": {
            "text/plain": [
              "torch.Size([32, 20, 200])"
            ]
          },
          "execution_count": 11,
          "metadata": {},
          "output_type": "execute_result"
        }
      ],
      "source": [
        "rnn = nn.RNN(64, 200, batch_first=True)\n",
        "output, h_n = rnn(x)\n",
        "output.shape"
      ]
    },
    {
      "cell_type": "code",
      "execution_count": 12,
      "metadata": {},
      "outputs": [
        {
          "data": {
            "text/plain": [
              "torch.Size([1, 32, 200])"
            ]
          },
          "execution_count": 12,
          "metadata": {},
          "output_type": "execute_result"
        }
      ],
      "source": [
        "h_n.shape"
      ]
    },
    {
      "cell_type": "code",
      "execution_count": 13,
      "metadata": {},
      "outputs": [
        {
          "data": {
            "text/plain": [
              "torch.Size([32, 20, 200])"
            ]
          },
          "execution_count": 13,
          "metadata": {},
          "output_type": "execute_result"
        }
      ],
      "source": [
        "lstm = nn.LSTM(64, 200, batch_first=True)\n",
        "output, h_n = lstm(x)\n",
        "output.shape"
      ]
    },
    {
      "cell_type": "code",
      "execution_count": 16,
      "metadata": {},
      "outputs": [
        {
          "data": {
            "text/plain": [
              "2"
            ]
          },
          "execution_count": 16,
          "metadata": {},
          "output_type": "execute_result"
        }
      ],
      "source": [
        "len(h_n)"
      ]
    },
    {
      "cell_type": "code",
      "execution_count": 18,
      "metadata": {},
      "outputs": [
        {
          "data": {
            "text/plain": [
              "torch.Size([1, 32, 200])"
            ]
          },
          "execution_count": 18,
          "metadata": {},
          "output_type": "execute_result"
        }
      ],
      "source": [
        "h_n[0].shape    # 제일 마지막 hidden_state"
      ]
    },
    {
      "cell_type": "code",
      "execution_count": 19,
      "metadata": {},
      "outputs": [
        {
          "data": {
            "text/plain": [
              "torch.Size([1, 32, 200])"
            ]
          },
          "execution_count": 19,
          "metadata": {},
          "output_type": "execute_result"
        }
      ],
      "source": [
        "h_n[1].shape    # 제일 마지막 cell_state"
      ]
    },
    {
      "cell_type": "code",
      "execution_count": null,
      "metadata": {},
      "outputs": [],
      "source": [
        "lstm = nn.LSTM(64, 200, batch_first=True)\n",
        "output, (h_n, c_n) = lstm(x)    # h_n, c_n을 사용할 때\n",
        "output, _ = lstm(x)             # h_n, c_n을 사용하지 않을 때"
      ]
    },
    {
      "cell_type": "markdown",
      "metadata": {},
      "source": [
        "## GRU"
      ]
    },
    {
      "cell_type": "code",
      "execution_count": 23,
      "metadata": {},
      "outputs": [],
      "source": [
        "x = torch.randn(32, 20, 64)"
      ]
    },
    {
      "cell_type": "code",
      "execution_count": 25,
      "metadata": {},
      "outputs": [
        {
          "data": {
            "text/plain": [
              "torch.Size([32, 20, 200])"
            ]
          },
          "metadata": {},
          "output_type": "display_data"
        },
        {
          "data": {
            "text/plain": [
              "torch.Size([1, 32, 200])"
            ]
          },
          "metadata": {},
          "output_type": "display_data"
        }
      ],
      "source": [
        "gru = nn.GRU(64, 200, batch_first=True)\n",
        "output, h_n = gru(x)\n",
        "\n",
        "display(output.shape)\n",
        "display(h_n.shape)"
      ]
    },
    {
      "cell_type": "code",
      "execution_count": null,
      "metadata": {},
      "outputs": [],
      "source": [
        "# 삼성 주식데이터 2023의 데이터 활용\n",
        "# 시가, 고가, 종가, 저가, 거래량 다섯 개의 컬럼을 활용\n",
        "samsung = pd.read_csv(\n",
        "    './data/samsung_2023.csv',\n",
        "    encoding='cp949',\n",
        "    usecols=['일자', '시가', '고가', '종가', '저가', '거래량'],\n",
        ")\n",
        "samsung.일자 = pd.to_datetime(samsung.일자)\n",
        "samsung = samsung.sort_values(by=['일자'])\n",
        "samsung = samsung.set_index('일자')\n",
        "# 전일 10일의 데이터를 통하여 다음 5일의 종가 예측\n",
        "# 1. 데이터 전처리  (X, y) 생성, train, valid, test\n",
        "train, temp = train_test_split(samsung, test_size=0.4, shuffle=False, random_state=0)\n",
        "valid, test = train_test_split(temp, test_size=0.5, shuffle=False, random_state=0)\n",
        "\n",
        "standard_scaler = StandardScaler()\n",
        "train.loc[:] = standard_scaler.fit_transform(train)\n",
        "valid.loc[:] = standard_scaler.transform(valid)\n",
        "test.loc[:] = standard_scaler.transform(test)\n",
        "\n",
        "window_size = 10\n",
        "output_dim = 5\n",
        "\n",
        "# X.shape -> (batch_size, seq_len, dim)\n",
        "x_train = np.lib.stride_tricks.sliding_window_view(\n",
        "    train.iloc[:-output_dim], window_size, axis=0).transpose(0, 2, 1)\n",
        "y_train = np.lib.stride_tricks.sliding_window_view(\n",
        "    train.종가.iloc[window_size:], output_dim\n",
        ")\n",
        "x_valid = np.lib.stride_tricks.sliding_window_view(\n",
        "    valid.iloc[:-output_dim], window_size, axis=0).transpose(0, 2, 1)\n",
        "y_valid = np.lib.stride_tricks.sliding_window_view(\n",
        "    valid.종가.iloc[window_size:], output_dim, axis=0\n",
        ")  \n",
        "x_test = np.lib.stride_tricks.sliding_window_view(\n",
        "    test.iloc[:-output_dim], window_size, axis=0).transpose(0, 2, 1)\n",
        "y_test = np.lib.stride_tricks.sliding_window_view(\n",
        "    test.종가.iloc[window_size:], output_dim, axis=0\n",
        ")\n",
        "\n",
        "# 2. LSTM cell 정의\n",
        "lstm = nn.LSTM(\n",
        "    5,\n",
        "    32,\n",
        "    batch_first=True,\n",
        ")\n",
        "\n",
        "x_train = torch.Tensor(x_train)\n",
        "x, _ = lstm(x_train)\n",
        "\n",
        "# 3. 다음 5일의 종가를 맞추기 위한 전처리 및 셀 구성\n",
        "x = x.flatten(start_dim=1)\n",
        "linear = nn.Linear(320, 5)\n",
        "output = linear(x)"
      ]
    },
    {
      "cell_type": "code",
      "execution_count": 22,
      "metadata": {},
      "outputs": [
        {
          "data": {
            "text/plain": [
              "torch.Size([133, 5])"
            ]
          },
          "execution_count": 22,
          "metadata": {},
          "output_type": "execute_result"
        }
      ],
      "source": [
        "output.shape"
      ]
    },
    {
      "cell_type": "markdown",
      "metadata": {},
      "source": [
        "## IMDB"
      ]
    },
    {
      "cell_type": "code",
      "execution_count": 23,
      "metadata": {},
      "outputs": [],
      "source": [
        "(x_train, y_train), (x_test, y_test) = imdb.load_data(num_words=10000)"
      ]
    },
    {
      "cell_type": "code",
      "execution_count": 24,
      "metadata": {},
      "outputs": [
        {
          "data": {
            "text/plain": [
              "2494"
            ]
          },
          "execution_count": 24,
          "metadata": {},
          "output_type": "execute_result"
        }
      ],
      "source": [
        "# x_train이 가지고 있는 전체 문장: 25000\n",
        "# 25000개의 문장 중에서 길이가 가장 긴 문장의 단어 수가 몇 개인지 찾는 코드 작성\n",
        "max([len(sentence) for sentence in x_train])"
      ]
    },
    {
      "cell_type": "code",
      "execution_count": 26,
      "metadata": {},
      "outputs": [
        {
          "data": {
            "image/png": "[encoded data removed]",
            "text/plain": [
              "<Figure size 640x480 with 1 Axes>"
            ]
          },
          "metadata": {},
          "output_type": "display_data"
        }
      ],
      "source": [
        "# 길이 분포 확인 -> 문장의 최대 길이 정의\n",
        "sns.histplot([len(sentence) for sentence in x_train])"
      ]
    },
    {
      "cell_type": "code",
      "execution_count": 31,
      "metadata": {},
      "outputs": [],
      "source": [
        "# 200보다 길이가 긴 문장은 200개로 잘라서 사용\n",
        "max_len = 200\n",
        "x_train = [torch.Tensor(sequence[:max_len]).long() for sequence in x_train]\n",
        "x_test = [torch.Tensor(sequence[:max_len]).long() for sequence in x_test]"
      ]
    },
    {
      "cell_type": "code",
      "execution_count": 32,
      "metadata": {},
      "outputs": [],
      "source": [
        "# max_len보다 작은 문장을 max_len으로 맞춤\n",
        "x_train = pad_sequence(x_train, batch_first=True)\n",
        "x_test = pad_sequence(x_test, batch_first=True)"
      ]
    },
    {
      "cell_type": "code",
      "execution_count": 52,
      "metadata": {},
      "outputs": [],
      "source": [
        "embedding = nn.Embedding(10000, 128)\n",
        "x = embedding(x_train[:32])"
      ]
    },
    {
      "cell_type": "code",
      "execution_count": 47,
      "metadata": {},
      "outputs": [
        {
          "data": {
            "text/plain": [
              "torch.Size([32, 200, 128])"
            ]
          },
          "execution_count": 47,
          "metadata": {},
          "output_type": "execute_result"
        }
      ],
      "source": [
        "x.shape"
      ]
    },
    {
      "cell_type": "code",
      "execution_count": 53,
      "metadata": {},
      "outputs": [
        {
          "data": {
            "text/plain": [
              "torch.Size([32, 200, 256])"
            ]
          },
          "execution_count": 53,
          "metadata": {},
          "output_type": "execute_result"
        }
      ],
      "source": [
        "# embedding 된 데이터를 lstm을 통해 학습\n",
        "lstm = nn.LSTM(128, 128, batch_first=True, bidirectional=True)\n",
        "x, _ = lstm(x)\n",
        "# batch normalization 사용하지 않음\n",
        "x.shape"
      ]
    },
    {
      "cell_type": "code",
      "execution_count": 59,
      "metadata": {},
      "outputs": [
        {
          "data": {
            "text/plain": [
              "torch.Size([32, 51200])"
            ]
          },
          "execution_count": 59,
          "metadata": {},
          "output_type": "execute_result"
        }
      ],
      "source": [
        "# flatten\n",
        "x = x.flatten(start_dim=1)\n",
        "x.shape"
      ]
    },
    {
      "cell_type": "code",
      "execution_count": 60,
      "metadata": {},
      "outputs": [
        {
          "data": {
            "text/plain": [
              "torch.Size([32, 2])"
            ]
          },
          "execution_count": 60,
          "metadata": {},
          "output_type": "execute_result"
        }
      ],
      "source": [
        "# flatten 데이터를 linear를 통해 학습\n",
        "linear1 = nn.Linear(51200, 128)\n",
        "x = linear1(x)\n",
        "# 여기에는 dropout 사용 가능\n",
        "linear2 = nn.Linear(128, 2)\n",
        "x = linear2(x)\n",
        "# 여기에는 dropout 사용 불가능\n",
        "x.shape"
      ]
    },
    {
      "cell_type": "code",
      "execution_count": 67,
      "metadata": {},
      "outputs": [
        {
          "data": {
            "text/plain": [
              "tensor(0.7002, grad_fn=<NllLossBackward0>)"
            ]
          },
          "execution_count": 67,
          "metadata": {},
          "output_type": "execute_result"
        }
      ],
      "source": [
        "F.cross_entropy(x, torch.Tensor(y_train[:32]).long())"
      ]
    },
    {
      "cell_type": "code",
      "execution_count": null,
      "metadata": {},
      "outputs": [],
      "source": [
        "## 위의 코드를 바탕으로 module 코드 수정\n",
        "# 1. imdb dataset 전처리\n",
        "#    max_len: 200, padding, validation set 생성\n",
        "# 2. dataset, lightningdatamodule 구성\n",
        "# 3. model (lstm)\n",
        "    # dropout 사용 (p=0.3)\n",
        "    # Embedding\n",
        "        # input: 10000, dim: 128\n",
        "    # LSTM 2개\n",
        "        # bidirectional\n",
        "        # layer1: 128 -> 256\n",
        "        # layer2: ?   -> 64\n",
        "    # Linear 3개\n",
        "        # layer1: ? -> 512\n",
        "        # layer2: 512 -> 128\n",
        "        # layer3: 128 -> 2\n",
        "# 4. lightningmodule\n",
        "    # classification task에 맞게 수정\n",
        "    # self.log를 통해서 정확도 산출"
      ]
    }
  ],
  "metadata": {
    "colab": {
      "provenance": [],
      "toc_visible": true
    },
    "kernelspec": {
      "display_name": "Python 3.9.12 ('base')",
      "language": "python",
      "name": "python3"
    },
    "language_info": {
      "codemirror_mode": {
        "name": "ipython",
        "version": 3
      },
      "file_extension": ".py",
      "mimetype": "text/x-python",
      "name": "python",
      "nbconvert_exporter": "python",
      "pygments_lexer": "ipython3",
      "version": "3.10.14"
    },
    "vscode": {
      "interpreter": {
        "hash": "e4af6128c7e0808fede432f38729c473c5b0d80882e83c469acdb54455c56396"
      }
    }
  },
  "nbformat": 4,
  "nbformat_minor": 0
}
