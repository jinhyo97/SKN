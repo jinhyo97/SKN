{
 "cells": [
  {
   "cell_type": "markdown",
   "metadata": {},
   "source": [
    "# Library"
   ]
  },
  {
   "cell_type": "code",
   "execution_count": null,
   "metadata": {},
   "outputs": [],
   "source": [
    "!pip install llama-stack"
   ]
  },
  {
   "cell_type": "code",
   "execution_count": 2,
   "metadata": {},
   "outputs": [
    {
     "name": "stderr",
     "output_type": "stream",
     "text": [
      "c:\\ProgramData\\anaconda3\\envs\\nlp\\lib\\site-packages\\tqdm\\auto.py:21: TqdmWarning: IProgress not found. Please update jupyter and ipywidgets. See https://ipywidgets.readthedocs.io/en/stable/user_install.html\n",
      "  from .autonotebook import tqdm as notebook_tqdm\n"
     ]
    },
    {
     "name": "stdout",
     "output_type": "stream",
     "text": [
      "WARNING:tensorflow:From C:\\Users\\USER\\AppData\\Roaming\\Python\\Python310\\site-packages\\tf_keras\\src\\losses.py:2976: The name tf.losses.sparse_softmax_cross_entropy is deprecated. Please use tf.compat.v1.losses.sparse_softmax_cross_entropy instead.\n",
      "\n"
     ]
    }
   ],
   "source": [
    "import pandas as pd\n",
    "import numpy as np\n",
    "import requests\n",
    "import json\n",
    "\n",
    "from sklearn.metrics.pairwise import cosine_similarity\n",
    "from sklearn.cluster import KMeans, DBSCAN\n",
    "from sklearn.model_selection import train_test_split\n",
    "\n",
    "import torch\n",
    "import torch.nn as nn\n",
    "import torch.nn.functional as F\n",
    "from datasets import load_dataset\n",
    "from torch.utils.data import Dataset\n",
    "from transformers import (\n",
    "    AutoTokenizer,\n",
    "    AutoModelForCausalLM,\n",
    "    AutoModelForSequenceClassification,\n",
    "    Trainer,\n",
    "    TrainingArguments,\n",
    "    # pipeline,\n",
    ")"
   ]
  },
  {
   "cell_type": "markdown",
   "metadata": {},
   "source": [
    "# LLaMA"
   ]
  },
  {
   "cell_type": "markdown",
   "metadata": {},
   "source": [
    "## Paper\n",
    "\n",
    "LLaMA1: https://arxiv.org/pdf/2302.13971 <br>\n",
    "LLaMA2: https://arxiv.org/pdf/2307.09288 <br>\n",
    "LLaMA3: https://arxiv.org/pdf/2407.21783 <br>"
   ]
  },
  {
   "cell_type": "markdown",
   "metadata": {},
   "source": [
    "### LLaMA1"
   ]
  },
  {
   "cell_type": "markdown",
   "metadata": {},
   "source": [
    "#### Pre-training data\n",
    "\n",
    "공개된 데이터셋만 사용하여 SOTA 모델이 학습가능함\n",
    "\n",
    "<img src=\"https://mohitmayank.com/a_lazy_data_science_guide/imgs/nlp_llama_dataset.png\" width=\"400\" height=\"200\">\n"
   ]
  },
  {
   "cell_type": "markdown",
   "metadata": {},
   "source": [
    "#### Architecture"
   ]
  },
  {
   "cell_type": "markdown",
   "metadata": {},
   "source": [
    "##### Pre-normalization\n",
    "\n",
    "<img src=\"https://blogfiles.pstatic.net/MjAyNDA1MDdfMjQy/MDAxNzE1MDcyNTQ0NDEz.iFy-q1SUw5oojqAIClOW6zH0nt9tp4ODhJjNTsf-SK4g.n50Lkciuk5JJ1PVcpCTAQT7HZTZXVmnXakRibk9peUEg.PNG/image.png?type=w1\" width=\"400\" height=\"400\">\n",
    "\n",
    "LayerNorm -> RMSNorm <br>\n",
    "\n",
    "<br>\n",
    "\n",
    "||LayerNorm|RMSNorm|\n",
    "|-|---------|-------|\n",
    "|centering 제거| $(x - \\mu) / \\sqrt{(\\sigma^2 + \\epsilon)}$ | $x / \\sqrt{\\bar{x}^2 + \\epsilon} $||\n",
    "|분산| $ (\\bar{x} - \\mu)^2 $ | $ \\bar{x}^2 $ |\n",
    "\n",
    "<br>\n",
    "\n",
    "<font style=\"font-size:16px\"> 장점 </font>\n",
    "\n",
    "1. 계산 효율성: $ \\bar{x}^2 $는 $ \\sigma^2 $보다 계산이 간단.\n",
    "2. 스케일 불변성: 입력의 스케일에 관계없이 일정 출력 범위 유지.\n",
    "3. 정규화: 입력을 적절한 범위로 조정하여 학습 안정성 향상.\n",
    "\n",
    "<br>\n",
    "\n",
    "<font style=\"font-size:16px\"> 단점 </font>\n",
    "\n",
    "- 약간의 표현력 제한. <br>"
   ]
  },
  {
   "cell_type": "markdown",
   "metadata": {},
   "source": [
    "##### SwiGLU\n",
    "\n",
    "Swish + GLU <br>\n",
    "\n",
    "<br>\n",
    "\n",
    "<font style=\"font-size:20px\"> Swish </font>\n",
    "\n",
    "<img src=\"https://production-media.paperswithcode.com/methods/Screen_Shot_2020-05-27_at_2.02.25_PM.png\" width=\"400\" height=\"300\">\n",
    "\n",
    "formula: $ f(x) = x * \\sigma(\\beta x) $, $\\sigma$: sigmoid\n",
    "\n",
    "<br>\n",
    "\n",
    "<font style=\"font-size:16px\"> 특징 </font>\n",
    "\n",
    "1. $ x \\geq 0 $ : unbounded\n",
    "2. $ x \\lt 0 $ : bounded\n",
    "3. non-monotonic\n",
    "4. smooth figure\n",
    "\n",
    "<img src=\"https://velog.velcdn.com/images%2Fiissaacc%2Fpost%2F947a677f-6153-4c19-aeb4-4eb1d49c2ccf%2Fimage.png\" width=\"600\" height=\"200\">\n",
    "\n",
    "<br>\n",
    "<br>\n",
    "\n",
    "<font style=\"font-size:20px\"> Gated Linear Units (GLU) </font>\n",
    "\n",
    "<img src=\"https://miro.medium.com/v2/resize:fit:1350/format:webp/1*5EKhmH8ilnAbTuqiJ-FQ8w.png\" width=\"400\" height=\"300\">\n",
    "\n",
    "<br>\n",
    "\n",
    "formula: GLU($x, W, V, b, c$) = $\\sigma(xW + b) \\otimes (xV + c)$ \n",
    "\n",
    "<br>\n",
    "\n",
    "<font style=\"font-size:16px\"> 특징 </font>\n",
    "\n",
    "1. 정보 흐름 조절: sigmoid output의 결과를 곱하여 정보의 흐름 조절\n"
   ]
  },
  {
   "cell_type": "markdown",
   "metadata": {},
   "source": [
    "##### Rotary Embeddings\n",
    "\n",
    "각 차원에서 회전 변환을 사용하여 더 정교한 방법으로 위치 정보 인코딩."
   ]
  },
  {
   "cell_type": "markdown",
   "metadata": {},
   "source": [
    "## 사용 방법\n"
   ]
  },
  {
   "cell_type": "markdown",
   "metadata": {},
   "source": [
    "### 발급 방법\n",
    "\n",
    "**huggingface**\n",
    "1. 사용 모델 권한 획득: https://huggingface.co/models\n",
    "2. token 발급: https://huggingface.co/settings/tokens\n",
    "3. command에서 huggingface-cli login 입력\n",
    "4. 발급받은 token 입력\n",
    "\n",
    "<br>\n",
    "\n",
    "**meta**\n",
    "1. access request: https://www.llama.com/\n",
    "2. llama model list에서 모델 id 확인\n",
    "3. llama download --source meta --model-id CHOSEN_MODEL_ID 실행"
   ]
  },
  {
   "cell_type": "markdown",
   "metadata": {},
   "source": [
    "### 모델 종류\n",
    "\n",
    "|LLaMA3.1|LLaMA3.2|\n",
    "|----|--------|\n",
    "||1B        |\n",
    "||3B  |\n",
    "|8B|11B (multi modal)|\n",
    "|70B|90B (multi modal)|\n",
    "|405B||\n",
    "\n",
    "<br>\n",
    "\n",
    "Llama-3.2-1B: base (pre-trained) <br>\n",
    "Llama-3.2-1B-Instruct: fine-tuned (chat applications) <br>"
   ]
  },
  {
   "cell_type": "markdown",
   "metadata": {},
   "source": [
    "### Prompt Engineering\n",
    "\n",
    "refer: [prompt engineering](https://www.llama.com/docs/how-to-guides/prompting/#prompting)\n",
    "\n",
    "<br>\n",
    "\n",
    "<font style=\"font-size:18px\"> Special Token </font>\n",
    "\n",
    "| 토큰                      | 설명                                                                                   |\n",
    "|--------------------------|--------------------------------------------------------------------------------------|\n",
    "| <\\|begin_of_text\\|>     | 프롬프트의 시작 지정|\n",
    "| <\\|end_of_text\\|>       | 모델이 더 이상 토큰을 생성하지 않음을 나타냄. 이 토큰은 기본 모델에 의해 생성|\n",
    "| <\\|finetune_right_pad_id\\|> | 배치 내에서 동일한 길이로 패딩하는 데 사용|\n",
    "| <\\|start_header_id\\|>   | <\\|end_header_id\\|> | 특정 메시지의 역할을 감싸는 토큰. 가능한 역할은 [system, user, assistant, ipython] |\n",
    "| <\\|eom_id\\|>            | 메시지의 끝. 이는 모델이 도구 호출이 필요하다는 것을 알릴 수 있는 실행의 중지 지점을 나타냄. |\n",
    "| <\\|eot_id\\|>            | 턴의 끝. 이는 모델이 사용자 메시지에 대한 응답을 완료했음을 결정했음을 나타냄. |\n",
    "| <\\|python_tag\\|>        | 도구 호출을 나타내기 위해 모델의 응답에 사용되는 특별한 태그.                          |\n",
    "\n",
    "<br>\n",
    "<br>\n",
    "\n",
    "<font style=\"font-size:18px\"> Role </font>\n",
    "\n",
    "| 역할      | 설명|\n",
    "|----------|------------------------|\n",
    "| system   | AI 모델과 상호작용할 맥락을 설정. 일반적으로 모델이 효과적으로 응답할 수 있도록 돕는 규칙, 지침 또는 필요한 정보 포함|\n",
    "| user     | 모델과 상호작용하는 사람. 모델에 대한 입력, 명령 및 질문이 포함|\n",
    "| ipython  | Llama 3.1에서 도입된 새로운 role. 의미적으로 \"tool\"을 의미하며, 실행자로부터 모델로 반환되는 도구 호출의 출력을 표시하는 데 사용 |\n",
    "| assistant| 시스템, ipython 및 사용자 프롬프트에서 제공된 맥락에 기반하여 AI 모델이 생성한 응답|"
   ]
  },
  {
   "cell_type": "markdown",
   "metadata": {},
   "source": [
    "#### Pretrained Model Prompt\n",
    "\n",
    "> ```cmd\n",
    "> <|begin_of_text|>{{ user_message}}\n",
    "> ```"
   ]
  },
  {
   "cell_type": "markdown",
   "metadata": {},
   "source": [
    "#### Instruct Model Prompt\n",
    "\n",
    "> ```cmd\n",
    "> <|begin_of_text|><|start_header_id|>system<|end_header_id|>\n",
    "> \n",
    "> Cutting Knowledge Date: December 2023\n",
    "> Today Date: 23 July 2024\n",
    "> \n",
    "> You are a helpful assistant<|eot_id|><|start_header_id|>user<|end_header_id|>\n",
    "> \n",
    "> What is the capital of France?<|eot_id|><|start_header_id|>assistant<|end_header_id|>\n",
    "> ```"
   ]
  },
  {
   "cell_type": "markdown",
   "metadata": {},
   "source": [
    "#### Code Interpreter\n",
    "\n",
    "> ```cmd\n",
    "> <|begin_of_text|><|start_header_id|>system<|end_header_id|>\n",
    "> \n",
    "> Environment: ipython<|eot_id|><|start_header_id|>user<|end_header_id|>\n",
    "> \n",
    "> Write code to check if number is prime, use that to see if the number 7 is prime<|eot_id|><|start_header_id|>assistant<|end_header_id|>\n",
    "> ```"
   ]
  },
  {
   "cell_type": "markdown",
   "metadata": {},
   "source": [
    "#### User and assistant conversation\n",
    "\n",
    "> ```cmd\n",
    "> <|begin_of_text|><|start_header_id|>system<|end_header_id|>\n",
    "> \n",
    "> Cutting Knowledge Date: December 2023\n",
    "> Today Date: 23 July 2024\n",
    "> \n",
    "> You are a helpful assistant<|eot_id|><|start_header_id|>user<|end_header_id|>\n",
    "> \n",
    "> What is the capital of France?<|eot_id|><|start_header_id|>assistant<|end_header_id|>\n",
    "> ```"
   ]
  },
  {
   "cell_type": "markdown",
   "metadata": {},
   "source": [
    "### 사용 예제\n",
    "\n",
    "> ```python\n",
    "> model_name = <model_name>\n",
    "> tokenizer = AutoTokenizer.from_pretrained(model_name)\n",
    "> model = AutoModelForCausalLM.from_pretrained(model_name)\n",
    "> \n",
    "> # base\n",
    "> encoded = tokenizer('hello world', return_tensors='pt')\n",
    "> \n",
    "> # instruct\n",
    "> encoded = tokenizer.apply_chat_template(\n",
    ">     conversation=[\n",
    ">         {\n",
    ">             'role': 'system',\n",
    ">             'content': 'you are a useful robot',\n",
    ">         },\n",
    ">         {\n",
    ">             'role': 'user',\n",
    ">             'content': 'hello world',\n",
    ">         },\n",
    ">     ],\n",
    ">     return_tensors='pt',\n",
    "> )\n",
    "> \n",
    "> # base\n",
    "> model(**encoded)\n",
    "> \n",
    "> # instruct\n",
    "> model(encoded)\n",
    "> ```"
   ]
  },
  {
   "cell_type": "markdown",
   "metadata": {},
   "source": [
    "## Practice"
   ]
  },
  {
   "cell_type": "markdown",
   "metadata": {},
   "source": [
    "### Huggingface"
   ]
  },
  {
   "cell_type": "code",
   "execution_count": 6,
   "metadata": {},
   "outputs": [
    {
     "name": "stderr",
     "output_type": "stream",
     "text": [
      "C:\\Users\\USER\\AppData\\Roaming\\Python\\Python310\\site-packages\\huggingface_hub\\file_download.py:147: UserWarning: `huggingface_hub` cache-system uses symlinks by default to efficiently store duplicated files but your machine does not support them in C:\\Users\\USER\\.cache\\huggingface\\hub\\models--meta-llama--Llama-3.2-1B. Caching files will still work but in a degraded version that might require more space on your disk. This warning can be disabled by setting the `HF_HUB_DISABLE_SYMLINKS_WARNING` environment variable. For more details, see https://huggingface.co/docs/huggingface_hub/how-to-cache#limitations.\n",
      "To support symlinks on Windows, you either need to activate Developer Mode or to run Python as an administrator. In order to activate developer mode, see this article: https://docs.microsoft.com/en-us/windows/apps/get-started/enable-your-device-for-development\n",
      "  warnings.warn(message)\n",
      "C:\\Users\\USER\\AppData\\Roaming\\Python\\Python310\\site-packages\\huggingface_hub\\file_download.py:147: UserWarning: `huggingface_hub` cache-system uses symlinks by default to efficiently store duplicated files but your machine does not support them in C:\\Users\\USER\\.cache\\huggingface\\hub\\models--meta-llama--Llama-3.2-1B-Instruct. Caching files will still work but in a degraded version that might require more space on your disk. This warning can be disabled by setting the `HF_HUB_DISABLE_SYMLINKS_WARNING` environment variable. For more details, see https://huggingface.co/docs/huggingface_hub/how-to-cache#limitations.\n",
      "To support symlinks on Windows, you either need to activate Developer Mode or to run Python as an administrator. In order to activate developer mode, see this article: https://docs.microsoft.com/en-us/windows/apps/get-started/enable-your-device-for-development\n",
      "  warnings.warn(message)\n"
     ]
    }
   ],
   "source": [
    "tokenizer = AutoTokenizer.from_pretrained('meta-llama/Llama-3.2-1B')\n",
    "model = AutoModelForCausalLM.from_pretrained('meta-llama/Llama-3.2-1B')\n",
    "\n",
    "tokenizer = AutoTokenizer.from_pretrained('meta-llama/Llama-3.2-1B-Instruct')\n",
    "model = AutoModelForCausalLM.from_pretrained('meta-llama/Llama-3.2-1B-Instruct')"
   ]
  },
  {
   "cell_type": "markdown",
   "metadata": {},
   "source": [
    "#### Load"
   ]
  },
  {
   "cell_type": "markdown",
   "metadata": {},
   "source": [
    "##### LLama-3.2-1B"
   ]
  },
  {
   "cell_type": "code",
   "execution_count": null,
   "metadata": {},
   "outputs": [],
   "source": [
    "tokenizer = AutoTokenizer.from_pretrained('meta-llama/Llama-3.2-1B')\n",
    "model = AutoModelForCausalLM.from_pretrained('meta-llama/Llama-3.2-1B')"
   ]
  },
  {
   "cell_type": "code",
   "execution_count": null,
   "metadata": {},
   "outputs": [],
   "source": [
    "prompt = '''\n",
    "<|begin_of_text|><|start_header_id|>system<|end_header_id|>\n",
    "\n",
    "Cutting Knowledge Date: December 2023\n",
    "Today Date: 23 July 2024\n",
    "\n",
    "You are a helpful assistant<|eot_id|><|start_header_id|>user<|end_header_id|>\n",
    "\n",
    "What is the capital of France?<|eot_id|><|start_header_id|>assistant<|end_header_id|>\n",
    "'''\n",
    "\n",
    "encoded = tokenizer.encode(prompt, return_tensors='pt')"
   ]
  },
  {
   "cell_type": "code",
   "execution_count": null,
   "metadata": {},
   "outputs": [
    {
     "name": "stderr",
     "output_type": "stream",
     "text": [
      "The attention mask and the pad token id were not set. As a consequence, you may observe unexpected behavior. Please pass your input's `attention_mask` to obtain reliable results.\n",
      "Setting `pad_token_id` to `eos_token_id`:None for open-end generation.\n"
     ]
    },
    {
     "data": {
      "text/plain": [
       "'<|begin_of_text|>\\n<|begin_of_text|><|start_header_id|>system<|end_header_id|>\\n\\nCutting Knowledge Date: December 2023\\nToday Date: 23 July 2024\\n\\nYou are a helpful assistant<|eot_id|><|start_header_id|>user<|end_header_id|>\\n\\nWhat is the capital of France?<|eot_id|>\\nWhat is the capital of France?ें\\n\\nWhat is the capital of France?ें\\n\\nWhat is'"
      ]
     },
     "metadata": {},
     "output_type": "display_data"
    }
   ],
   "source": [
    "tokenizer.decode(model.generate(encoded, max_length=64)[0])"
   ]
  },
  {
   "cell_type": "markdown",
   "metadata": {},
   "source": [
    "##### LLaMA-3.2-1B-Instruct"
   ]
  },
  {
   "cell_type": "code",
   "execution_count": null,
   "metadata": {},
   "outputs": [],
   "source": [
    "tokenizer = AutoTokenizer.from_pretrained('meta-llama/Llama-3.2-1B-Instruct')\n",
    "model = AutoModelForCausalLM.from_pretrained('meta-llama/Llama-3.2-1B-Instruct')"
   ]
  },
  {
   "cell_type": "code",
   "execution_count": null,
   "metadata": {},
   "outputs": [],
   "source": [
    "encoded = tokenizer.apply_chat_template([\n",
    "    {\n",
    "        'role': 'system',\n",
    "        'content': 'You are a helpful assistant',\n",
    "    },\n",
    "    {\n",
    "        'role': 'user',\n",
    "        'content': 'What is the capital of France?',\n",
    "    }\n",
    "], return_tensors='pt')"
   ]
  },
  {
   "cell_type": "code",
   "execution_count": null,
   "metadata": {},
   "outputs": [
    {
     "name": "stderr",
     "output_type": "stream",
     "text": [
      "The attention mask and the pad token id were not set. As a consequence, you may observe unexpected behavior. Please pass your input's `attention_mask` to obtain reliable results.\n",
      "Setting `pad_token_id` to `eos_token_id`:None for open-end generation.\n"
     ]
    },
    {
     "name": "stdout",
     "output_type": "stream",
     "text": [
      "<|begin_of_text|><|start_header_id|>system<|end_header_id|>\n",
      "\n",
      "Cutting Knowledge Date: December 2023\n",
      "Today Date: 21 Oct 2024\n",
      "\n",
      "You are a helpful assistant<|eot_id|><|start_header_id|>user<|end_header_id|>\n",
      "\n",
      "What is the capital of France?<|eot_id|><|start_header_id|>assistant<|end_header_id|>\n",
      "\n",
      "The capital of France is Paris.<|eot_id|>\n"
     ]
    }
   ],
   "source": [
    "print(tokenizer.decode(model.generate(encoded, max_length=128)[0]))"
   ]
  },
  {
   "cell_type": "code",
   "execution_count": null,
   "metadata": {},
   "outputs": [
    {
     "name": "stderr",
     "output_type": "stream",
     "text": [
      "The attention mask and the pad token id were not set. As a consequence, you may observe unexpected behavior. Please pass your input's `attention_mask` to obtain reliable results.\n",
      "Setting `pad_token_id` to `eos_token_id`:None for open-end generation.\n"
     ]
    },
    {
     "name": "stdout",
     "output_type": "stream",
     "text": [
      "<|begin_of_text|>\n",
      "<|begin_of_text|><|start_header_id|>system<|end_header_id|>\n",
      "\n",
      "Cutting Knowledge Date: December 2023\n",
      "Today Date: 23 July 2024\n",
      "\n",
      "You are a helpful assistant<|eot_id|><|start_header_id|>user<|end_header_id|>\n",
      "\n",
      "What is the capital of France?<|eot_id|><|start_header_id|>assistant<|end_header_id|>\n",
      "The capital of France is Paris.<|eot_id|>\n"
     ]
    }
   ],
   "source": [
    "prompt = '''\n",
    "<|begin_of_text|><|start_header_id|>system<|end_header_id|>\n",
    "\n",
    "Cutting Knowledge Date: December 2023\n",
    "Today Date: 23 July 2024\n",
    "\n",
    "You are a helpful assistant<|eot_id|><|start_header_id|>user<|end_header_id|>\n",
    "\n",
    "What is the capital of France?<|eot_id|><|start_header_id|>assistant<|end_header_id|>\n",
    "'''\n",
    "\n",
    "encoded = tokenizer.encode(prompt, return_tensors='pt')\n",
    "print(tokenizer.decode(model.generate(encoded, max_length=128)[0]))"
   ]
  },
  {
   "cell_type": "markdown",
   "metadata": {},
   "source": [
    "##### practice\n",
    "\n",
    "investopia s&p500 내용 요약 <br>\n",
    "gpt vs llama <br>"
   ]
  },
  {
   "cell_type": "code",
   "execution_count": 31,
   "metadata": {},
   "outputs": [
    {
     "name": "stderr",
     "output_type": "stream",
     "text": [
      "The attention mask and the pad token id were not set. As a consequence, you may observe unexpected behavior. Please pass your input's `attention_mask` to obtain reliable results.\n",
      "Setting `pad_token_id` to `eos_token_id`:None for open-end generation.\n"
     ]
    },
    {
     "name": "stdout",
     "output_type": "stream",
     "text": [
      "<|begin_of_text|>\n",
      "<|begin_of_text|><|start_header_id|>system<|end_header_id|>\n",
      "\n",
      "Cutting Knowledge Date: December 2023\n",
      "Today Date: 23 July 2024\n",
      "\n",
      "You are a helpful assistant.<|eot_id|><|start_header_id|>user<|end_header_id|>\n",
      "\n",
      "\n",
      "What Is the S&P 500 Index?\n",
      "The S&P 500 Index or Standard & Poor's 500 Index is a market-capitalization-weighted index of 500 leading publicly traded companies in the U.S. The index includes 503 components because three have two share classes listed.\n",
      "\n",
      "It's not an exact list of the top 500 U.S. companies by market cap because the index includes other criteria. The S&P 500 index is nonetheless regarded as one of the best gauges of prominent American equities' performance and the stock market overall.\n",
      "\n",
      "Key Takeaways\n",
      "The S&P 500 Index features 500 leading U.S. publicly traded companies with a primary emphasis on market capitalization.\n",
      "The S&P 500 Index was launched in 1957 by the credit rating agency Standard and Poor's.\n",
      "The S&P is a float-weighted index. The market capitalizations of the companies in the index are adjusted by the number of shares available for public trading.\n",
      "The S&P 500 is considered one of the best gauges of large U.S. stocks and even the entire equities market because of its depth and diversity.\n",
      "You can't invest directly in the S&P 500 because it's an index but you can invest in one of the many funds that use it as a benchmark and track its composition and performance.\n",
      "S&P 500 Index\n",
      "Investopedia / Julie Bang\n",
      "\n",
      "Weighting Formula and Calculation of the S&P 500\n",
      "The S&P 500 uses a market-cap weighting method that gives a higher percentage allocation to companies with the largest market capitalizations.\n",
      "1\n",
      "\n",
      "Company Weighting in S & P\n",
      "=\n",
      "Company market cap\n",
      "Total of all market caps\n",
      "Company Weighting in S & P= \n",
      "Total of all market caps\n",
      "Company market cap\n",
      "​\n",
      " \n",
      "Determining the weighting of each component of the S&P 500 begins with calculating the total market cap for the index by adding together the market cap of every company in the index.\n",
      "\n",
      "The market cap of a company is calculated by taking the current stock price and multiplying it by the company's outstanding shares. The total market cap for the S&P 500 as well as the market caps of individual companies are published frequently on financial websites, saving investors the need to calculate them.\n",
      "\n",
      "The weighting of each company in the index is calculated by taking the company's market cap and dividing it by the total market cap of the index.\n",
      "2\n",
      "\n",
      "\n",
      "Other S&P Indices\n",
      "The S&P 500 is a part of the S&P Global 1200 family of indices. Other indices include the S&P MidCap 400 which represents the mid-cap range of companies and the S&P SmallCap 600 which represents small-cap companies. The S&P 500, S&P MidCap 400, and S&P SmallCap 600 combine to cover 90% of all U.S. capitalization in an index known as the S&P Composite 1500.\n",
      "3\n",
      "4\n",
      "\n",
      "\n",
      "S&P 500 Index Construction\n",
      "The S&P uses only free-floating shares, the shares that the public can trade, when calculating market cap. The S&P adjusts each company's market cap to compensate for new share issues or company mergers.\n",
      "\n",
      "The value of the index is calculated by totaling the adjusted market caps of each company and dividing the result by a divisor. The divisor is proprietary information of the S&P and isn't released to the public. The S&P Index (SPX) isn't a total return index and doesn't include cash dividend gains for the companies listed.\n",
      "5\n",
      "\n",
      "You can nonetheless calculate a company's weighting in the index and this can provide investors with valuable information. You can get a sense as to whether it might have an impact on the overall index if a stock rises or falls. A company with a 10% weighting would have a greater impact on the value of the index than a company with a 2% weighting.\n",
      "\n",
      "The S&P 500 is one of the most widely quoted American indexes because it represents the largest publicly traded corporations in the U.S. It focuses on the U.S. market's large-cap sector and it's also a float-weighted index which is a type of capitalization weighting. Company market caps are adjusted by the number of shares available for public trading.\n",
      "1\n",
      "\n",
      "The S&P 500's most recent rebalancing was announced on March 1, 2024 and it took effect before the markets opened on March 18, 2024. Super Micro Computer and Deckers Outdoor replaced Whirlpool Corp. and Zions Bancorporation N.A. respectively at that time.\n",
      "6\n",
      "\n",
      "S&P 500 Competitors\n",
      "S&P 500 vs. Dow Jones Industrial Average (DJIA)\n",
      "Another common U.S. stock market benchmark is the Dow Jones Industrial Average (DJIA). The S&P 500 is often the institutional investor's preferred index given its depth and breadth. The DJIA has historically been associated with significant equities from the retail investor's point of view. Institutional investors perceive the S&P 500 as being more representative of U.S. equity markets because it includes more stocks across all sectors: 500 versus the Dow's 30.\n",
      "\n",
      "The S&P 500 uses a market-cap weighting method that gives a higher percentage allocation to companies with the largest market caps. The DJIA is a price-weighted index that gives companies with higher stock prices a higher index weighting. The market-cap-weighted structure tends to be more common than the price-weighted index across U.S. indexes.\n",
      "7\n",
      "\n",
      "S&P 500 vs. Nasdaq\n",
      "Nasdaq is a global electronic marketplace for trading securities. Several equity market indexes include stocks traded on Nasdaq. A given stock included in the S&P 500 Index may also be in one or more of the various Nasdaq indexes.\n",
      "\n",
      "Some of the most-watched Nasdaq stock indices include:\n",
      "\n",
      "Nasdaq 100 Index: Includes 100 of the largest, most actively traded common equities listed on Nasdaq\n",
      "Nasdaq Composite Index: Often simply referred to as the Nasdaq by the media includes more than 2,500 common stocks that trade on Nasdaq\n",
      "Nasdaq Global Equity Index (NQGI): Includes international stocks\n",
      "PHLX Semiconductor Sector Index (SOX): The leading barometer of stocks related to the semiconductor industry\n",
      "OMX Stockholm 30 Index (OMXS30): Includes 30 actively traded stocks on the Stockholm Stock Exchange\n",
      "8\n",
      "\n",
      "S&P 500 vs. Russell Indexes\n",
      "The S&P 500 is a member of a set of indexes created by Standard & Poor's. This set of indexes is like the Russell index family in that both are market-cap-weighted unless stated otherwise as in the case of equal-weighted indexes.\n",
      "\n",
      "There are two significant differences between the construction of the S&P and the Russell families of indexes. Standard & Poor's chooses constituent companies via a committee. Russell indexes use a formula to select which stocks to include. There's no name overlap within S&P style indices such as growth versus value. Russell indexes will include the same company in both the value and growth style indexes.\n",
      "9\n",
      "10\n",
      "\n",
      "S&P 500 vs. Vanguard 500 Fund\n",
      "The Vanguard 500 Index Fund aims to track the price and yield performance of the S&P 500 Index by investing its total net assets in the stocks that make up the index and by holding each component with approximately the same weight as the S&P index. The fund barely deviates from the S&P in this way, which it's designed to mimic.\n",
      "11\n",
      "\n",
      "The S&P 500 is an index so it can't be traded directly. Anyone who wants to invest in the companies that are included in the S&P must invest in a mutual fund or exchange-traded fund (ETF) that tracks the index such as the Vanguard 500 ETF (VOO).\n",
      "Limitations of the S&P 500 Index\n",
      "One of the limitations of the S&P and other market-cap-weighted indexes occurs when stocks in the index become overvalued. They rise higher than their fundamentals warrant. The stock typically inflates the overall value or price of the index if it has a heavy weighting in the index while being overvalued.\n",
      "\n",
      "A company's rising market cap isn't necessarily indicative of its fundamentals. It simply reflects the stock's increase in value relative to the shares outstanding. Equal-weighted indexes have become increasingly popular as a result. Each company's stock price movements have an equal impact on these indexes.\n",
      "12\n",
      "\n",
      "Example of the S&P 500 Market Cap Weighting\n",
      "The individual market weights must be calculated by dividing the market cap of each company by the total market cap of the index to understand how the underlying stocks affect the S&P index. Here's an example of Apple's weighting in the index:\n",
      "\n",
      "Apple (AAPL) reported 15.7 billion shares outstanding in its quarterly filing for the period ending July 1, 2023 and it had a stock price of $173.93 at the end of the trading day on Sept. 21, 2023.\n",
      "13\n",
      "14\n",
      "Apple's market cap was $2.7 trillion as of Sept. 21, 2023.\n",
      "15\n",
      "The S&P 500 total market cap was approximately $39.7 trillion as of Aug. 31, 2023. This is the sum of the market caps for all of the stocks in the index.\n",
      "16\n",
      "Apple's weighting in the index was approximately 6.8%, or $2.7 trillion divided by $39.7 trillion.\n",
      "The larger the market weight of a company, the more impact each 1% change in a stock's price will have on the index. S&P doesn't provide the total list of all 503 components on its website, just the top 10.\n",
      "\n",
      "Why Is It Called Standard and Poor's?\n",
      "The first S&P Index was launched in 1923 as a joint project between the Standard Statistical Bureau and Poor's Publishing. The original index covered 233 companies. The two companies merged in 1941 to become Standard and Poor's.\n",
      "17\n",
      "7\n",
      "\n",
      "What Companies Qualify for the S&P 500?\n",
      "A company must be publicly traded and based in the United States to be included in the S&P 500 Index. It must also meet certain requirements for liquidity and market capitalization, have a public float of at least 10% of its shares, and have positive earnings over the trailing four quarters.\n",
      "1\n",
      "\n",
      "How Do You Invest in the S&P 500?\n",
      "The simplest way to invest in the S&P 500 Index or any other stock market index is to buy shares of an index fund that targets it. These funds invest in a cross-section of the companies represented on the index so the fund's performance should mirror the performance of the index itself.\n",
      "\n",
      "The Bottom Line\n",
      "The S&P 500 Index is one of the most widely used indexes for the U.S. stock market. These 500 companies represent the largest and most liquid companies in the U.S. from technology and software companies to banks and manufacturers. The index has historically been used to provide insight into the direction of the stock market. It was created by a private company but the S&P 500 is a popular yardstick for the performance of the market economy at large.\n",
      "\n",
      "위의 기사를 요약해줄래?<|eot_id|><|start_header_id|>assistant<|end_header_id|>\n",
      "S&P 500 Index는 미국의 대주식의 가장 큰 주식인 500 주식으로, 1957년 Standard and Poor's(스แต인드 앤 포어)에서 개설되었다. 이 인디کس은 미국 주식시장의 가장 큰 주식인 500 주식의 90%를 구성한다. 이 인디克斯의 구성원은 미국 주식시장의 다양한 주식에 대한 지식을 제공하기 위해 설립되었다. \n",
      "\n",
      "S&P 500의 weighted method으로 구성된 index는, 각 주식의 market cap에 대한 비율을 계산하여 index의 성과를 계산한다. 이 인디克斯은 500 주식의 503 주식이 포함되어 있다. \n",
      "\n",
      "S&P 500은 미국 주식시장의 가장 큰 주식인 500 주식의 90%를 구성하고, 주식의 market cap를_adjusted market cap로 계산하여 index의 성과를 계산한다. \n",
      "\n",
      "S&P 500는 float-weighted 인디克斯인 경우에, 주식의 market cap에 대한 비율을 주식의 number of shares로 계산하여 index의 성과를 계산한다. \n",
      "\n",
      "S&P 500의 most recent rebalancing은 2024년 3월 1일에 시작되었으며, 2024년 3월 18일부터 주식시장에开放되었다. \n",
      "\n",
      "S&P 500과 Dow Jones Industrial Average (DJIA) 간의 차이점:\n",
      "\n",
      "* S&P 500은 미국 주식시장의 가장 큰 주식인 500 주식의 90%를 구성한다.\n",
      "* DJIA는 30 주식으로 구성되어 있으며, 500 주식의 30%를 구성한다.\n",
      "* S&P 500은 price-weighted 인디克斯인 경우, 주식의 market cap에 대한 비율을 주식의 price로 계산하여 index의 성과를 계산한다.\n",
      "* DJIA는 price-weighted 인디克斯인 경우, 주식의 market cap에 대한 비율을 주식의 price로 계산하여 index의 성과를 계산한다.\n",
      "\n",
      "S&P 500과 Russell Indexes 간의 차이점:\n",
      "\n",
      "* Standard and Poor's는 Russell Indexes의 구성원을 선택하여 설립했다.\n",
      "* Russell Indexes는 비율을 선택하여 구성원을 선택한다.\n",
      "* Russell Indexes에는 company name이 포함되어 있지 않으며, Standard and Poor's는 company name이 포함되어 있다.\n",
      "\n",
      "S&P 500은 2024년 3월 1일부터 2024년 3월 18일까지에만 보ienen다. \n",
      "\n",
      "S&P 500을 invest하는 방법:\n",
      "\n",
      "* index fund을 invest하는 것이 simplest 방법이다.\n",
      "* index fund은 cross-section의 companies를 invest하는 것과 같은 manner으로 index fund의 performance을 index의 performance으로 mirrors한다.\n",
      "* S&P 500은 미국 주식시장의 가장 큰 주식인 500 주식으로 구성되어 있다.<|eot_id|>\n"
     ]
    }
   ],
   "source": [
    "news = '''\n",
    "What Is the S&P 500 Index?\n",
    "The S&P 500 Index or Standard & Poor's 500 Index is a market-capitalization-weighted index of 500 leading publicly traded companies in the U.S. The index includes 503 components because three have two share classes listed.\n",
    "\n",
    "It's not an exact list of the top 500 U.S. companies by market cap because the index includes other criteria. The S&P 500 index is nonetheless regarded as one of the best gauges of prominent American equities' performance and the stock market overall.\n",
    "\n",
    "Key Takeaways\n",
    "The S&P 500 Index features 500 leading U.S. publicly traded companies with a primary emphasis on market capitalization.\n",
    "The S&P 500 Index was launched in 1957 by the credit rating agency Standard and Poor's.\n",
    "The S&P is a float-weighted index. The market capitalizations of the companies in the index are adjusted by the number of shares available for public trading.\n",
    "The S&P 500 is considered one of the best gauges of large U.S. stocks and even the entire equities market because of its depth and diversity.\n",
    "You can't invest directly in the S&P 500 because it's an index but you can invest in one of the many funds that use it as a benchmark and track its composition and performance.\n",
    "S&P 500 Index\n",
    "Investopedia / Julie Bang\n",
    "\n",
    "Weighting Formula and Calculation of the S&P 500\n",
    "The S&P 500 uses a market-cap weighting method that gives a higher percentage allocation to companies with the largest market capitalizations.\n",
    "1\n",
    "\n",
    "Company Weighting in S & P\n",
    "=\n",
    "Company market cap\n",
    "Total of all market caps\n",
    "Company Weighting in S & P= \n",
    "Total of all market caps\n",
    "Company market cap\n",
    "​\n",
    " \n",
    "Determining the weighting of each component of the S&P 500 begins with calculating the total market cap for the index by adding together the market cap of every company in the index.\n",
    "\n",
    "The market cap of a company is calculated by taking the current stock price and multiplying it by the company's outstanding shares. The total market cap for the S&P 500 as well as the market caps of individual companies are published frequently on financial websites, saving investors the need to calculate them.\n",
    "\n",
    "The weighting of each company in the index is calculated by taking the company's market cap and dividing it by the total market cap of the index.\n",
    "2\n",
    "\n",
    "\n",
    "Other S&P Indices\n",
    "The S&P 500 is a part of the S&P Global 1200 family of indices. Other indices include the S&P MidCap 400 which represents the mid-cap range of companies and the S&P SmallCap 600 which represents small-cap companies. The S&P 500, S&P MidCap 400, and S&P SmallCap 600 combine to cover 90% of all U.S. capitalization in an index known as the S&P Composite 1500.\n",
    "3\n",
    "4\n",
    "\n",
    "\n",
    "S&P 500 Index Construction\n",
    "The S&P uses only free-floating shares, the shares that the public can trade, when calculating market cap. The S&P adjusts each company's market cap to compensate for new share issues or company mergers.\n",
    "\n",
    "The value of the index is calculated by totaling the adjusted market caps of each company and dividing the result by a divisor. The divisor is proprietary information of the S&P and isn't released to the public. The S&P Index (SPX) isn't a total return index and doesn't include cash dividend gains for the companies listed.\n",
    "5\n",
    "\n",
    "You can nonetheless calculate a company's weighting in the index and this can provide investors with valuable information. You can get a sense as to whether it might have an impact on the overall index if a stock rises or falls. A company with a 10% weighting would have a greater impact on the value of the index than a company with a 2% weighting.\n",
    "\n",
    "The S&P 500 is one of the most widely quoted American indexes because it represents the largest publicly traded corporations in the U.S. It focuses on the U.S. market's large-cap sector and it's also a float-weighted index which is a type of capitalization weighting. Company market caps are adjusted by the number of shares available for public trading.\n",
    "1\n",
    "\n",
    "The S&P 500's most recent rebalancing was announced on March 1, 2024 and it took effect before the markets opened on March 18, 2024. Super Micro Computer and Deckers Outdoor replaced Whirlpool Corp. and Zions Bancorporation N.A. respectively at that time.\n",
    "6\n",
    "\n",
    "S&P 500 Competitors\n",
    "S&P 500 vs. Dow Jones Industrial Average (DJIA)\n",
    "Another common U.S. stock market benchmark is the Dow Jones Industrial Average (DJIA). The S&P 500 is often the institutional investor's preferred index given its depth and breadth. The DJIA has historically been associated with significant equities from the retail investor's point of view. Institutional investors perceive the S&P 500 as being more representative of U.S. equity markets because it includes more stocks across all sectors: 500 versus the Dow's 30.\n",
    "\n",
    "The S&P 500 uses a market-cap weighting method that gives a higher percentage allocation to companies with the largest market caps. The DJIA is a price-weighted index that gives companies with higher stock prices a higher index weighting. The market-cap-weighted structure tends to be more common than the price-weighted index across U.S. indexes.\n",
    "7\n",
    "\n",
    "S&P 500 vs. Nasdaq\n",
    "Nasdaq is a global electronic marketplace for trading securities. Several equity market indexes include stocks traded on Nasdaq. A given stock included in the S&P 500 Index may also be in one or more of the various Nasdaq indexes.\n",
    "\n",
    "Some of the most-watched Nasdaq stock indices include:\n",
    "\n",
    "Nasdaq 100 Index: Includes 100 of the largest, most actively traded common equities listed on Nasdaq\n",
    "Nasdaq Composite Index: Often simply referred to as the Nasdaq by the media includes more than 2,500 common stocks that trade on Nasdaq\n",
    "Nasdaq Global Equity Index (NQGI): Includes international stocks\n",
    "PHLX Semiconductor Sector Index (SOX): The leading barometer of stocks related to the semiconductor industry\n",
    "OMX Stockholm 30 Index (OMXS30): Includes 30 actively traded stocks on the Stockholm Stock Exchange\n",
    "8\n",
    "\n",
    "S&P 500 vs. Russell Indexes\n",
    "The S&P 500 is a member of a set of indexes created by Standard & Poor's. This set of indexes is like the Russell index family in that both are market-cap-weighted unless stated otherwise as in the case of equal-weighted indexes.\n",
    "\n",
    "There are two significant differences between the construction of the S&P and the Russell families of indexes. Standard & Poor's chooses constituent companies via a committee. Russell indexes use a formula to select which stocks to include. There's no name overlap within S&P style indices such as growth versus value. Russell indexes will include the same company in both the value and growth style indexes.\n",
    "9\n",
    "10\n",
    "\n",
    "S&P 500 vs. Vanguard 500 Fund\n",
    "The Vanguard 500 Index Fund aims to track the price and yield performance of the S&P 500 Index by investing its total net assets in the stocks that make up the index and by holding each component with approximately the same weight as the S&P index. The fund barely deviates from the S&P in this way, which it's designed to mimic.\n",
    "11\n",
    "\n",
    "The S&P 500 is an index so it can't be traded directly. Anyone who wants to invest in the companies that are included in the S&P must invest in a mutual fund or exchange-traded fund (ETF) that tracks the index such as the Vanguard 500 ETF (VOO).\n",
    "Limitations of the S&P 500 Index\n",
    "One of the limitations of the S&P and other market-cap-weighted indexes occurs when stocks in the index become overvalued. They rise higher than their fundamentals warrant. The stock typically inflates the overall value or price of the index if it has a heavy weighting in the index while being overvalued.\n",
    "\n",
    "A company's rising market cap isn't necessarily indicative of its fundamentals. It simply reflects the stock's increase in value relative to the shares outstanding. Equal-weighted indexes have become increasingly popular as a result. Each company's stock price movements have an equal impact on these indexes.\n",
    "12\n",
    "\n",
    "Example of the S&P 500 Market Cap Weighting\n",
    "The individual market weights must be calculated by dividing the market cap of each company by the total market cap of the index to understand how the underlying stocks affect the S&P index. Here's an example of Apple's weighting in the index:\n",
    "\n",
    "Apple (AAPL) reported 15.7 billion shares outstanding in its quarterly filing for the period ending July 1, 2023 and it had a stock price of $173.93 at the end of the trading day on Sept. 21, 2023.\n",
    "13\n",
    "14\n",
    "Apple's market cap was $2.7 trillion as of Sept. 21, 2023.\n",
    "15\n",
    "The S&P 500 total market cap was approximately $39.7 trillion as of Aug. 31, 2023. This is the sum of the market caps for all of the stocks in the index.\n",
    "16\n",
    "Apple's weighting in the index was approximately 6.8%, or $2.7 trillion divided by $39.7 trillion.\n",
    "The larger the market weight of a company, the more impact each 1% change in a stock's price will have on the index. S&P doesn't provide the total list of all 503 components on its website, just the top 10.\n",
    "\n",
    "Why Is It Called Standard and Poor's?\n",
    "The first S&P Index was launched in 1923 as a joint project between the Standard Statistical Bureau and Poor's Publishing. The original index covered 233 companies. The two companies merged in 1941 to become Standard and Poor's.\n",
    "17\n",
    "7\n",
    "\n",
    "What Companies Qualify for the S&P 500?\n",
    "A company must be publicly traded and based in the United States to be included in the S&P 500 Index. It must also meet certain requirements for liquidity and market capitalization, have a public float of at least 10% of its shares, and have positive earnings over the trailing four quarters.\n",
    "1\n",
    "\n",
    "How Do You Invest in the S&P 500?\n",
    "The simplest way to invest in the S&P 500 Index or any other stock market index is to buy shares of an index fund that targets it. These funds invest in a cross-section of the companies represented on the index so the fund's performance should mirror the performance of the index itself.\n",
    "\n",
    "The Bottom Line\n",
    "The S&P 500 Index is one of the most widely used indexes for the U.S. stock market. These 500 companies represent the largest and most liquid companies in the U.S. from technology and software companies to banks and manufacturers. The index has historically been used to provide insight into the direction of the stock market. It was created by a private company but the S&P 500 is a popular yardstick for the performance of the market economy at large.\n",
    "'''\n",
    "\n",
    "prompt = f'''\n",
    "<|begin_of_text|><|start_header_id|>system<|end_header_id|>\n",
    "\n",
    "Cutting Knowledge Date: December 2023\n",
    "Today Date: 23 July 2024\n",
    "\n",
    "You are a helpful assistant.<|eot_id|><|start_header_id|>user<|end_header_id|>\n",
    "\n",
    "{news}\n",
    "위의 기사를 요약해줄래?<|eot_id|><|start_header_id|>assistant<|end_header_id|>\n",
    "'''\n",
    "\n",
    "inputs = tokenizer.encode(prompt, return_tensors='pt')\n",
    "outputs = model.generate(inputs, max_length=4096)\n",
    "print(tokenizer.decode(outputs[0]))"
   ]
  },
  {
   "cell_type": "code",
   "execution_count": 32,
   "metadata": {},
   "outputs": [
    {
     "name": "stderr",
     "output_type": "stream",
     "text": [
      "C:\\Users\\USER\\AppData\\Roaming\\Python\\Python310\\site-packages\\huggingface_hub\\file_download.py:147: UserWarning: `huggingface_hub` cache-system uses symlinks by default to efficiently store duplicated files but your machine does not support them in C:\\Users\\USER\\.cache\\huggingface\\hub\\models--Bllossom--llama-3.2-Korean-Bllossom-3B. Caching files will still work but in a degraded version that might require more space on your disk. This warning can be disabled by setting the `HF_HUB_DISABLE_SYMLINKS_WARNING` environment variable. For more details, see https://huggingface.co/docs/huggingface_hub/how-to-cache#limitations.\n",
      "To support symlinks on Windows, you either need to activate Developer Mode or to run Python as an administrator. In order to activate developer mode, see this article: https://docs.microsoft.com/en-us/windows/apps/get-started/enable-your-device-for-development\n",
      "  warnings.warn(message)\n",
      "Downloading shards: 100%|██████████| 2/2 [09:55<00:00, 297.93s/it]\n",
      "Loading checkpoint shards: 100%|██████████| 2/2 [00:09<00:00,  4.86s/it]\n"
     ]
    }
   ],
   "source": [
    "tokenizer = AutoTokenizer.from_pretrained('Bllossom/llama-3.2-Korean-Bllossom-3B')\n",
    "model = AutoModelForCausalLM.from_pretrained('Bllossom/llama-3.2-Korean-Bllossom-3B')"
   ]
  },
  {
   "cell_type": "code",
   "execution_count": 33,
   "metadata": {},
   "outputs": [
    {
     "name": "stderr",
     "output_type": "stream",
     "text": [
      "The attention mask and the pad token id were not set. As a consequence, you may observe unexpected behavior. Please pass your input's `attention_mask` to obtain reliable results.\n",
      "Setting `pad_token_id` to `eos_token_id`:None for open-end generation.\n"
     ]
    },
    {
     "name": "stdout",
     "output_type": "stream",
     "text": [
      "<|begin_of_text|>\n",
      "<|begin_of_text|><|start_header_id|>system<|end_header_id|>\n",
      "\n",
      "Cutting Knowledge Date: December 2023\n",
      "Today Date: 23 July 2024\n",
      "\n",
      "You are a helpful assistant.<|eot_id|><|start_header_id|>user<|end_header_id|>\n",
      "\n",
      "\n",
      "What Is the S&P 500 Index?\n",
      "The S&P 500 Index or Standard & Poor's 500 Index is a market-capitalization-weighted index of 500 leading publicly traded companies in the U.S. The index includes 503 components because three have two share classes listed.\n",
      "\n",
      "It's not an exact list of the top 500 U.S. companies by market cap because the index includes other criteria. The S&P 500 index is nonetheless regarded as one of the best gauges of prominent American equities' performance and the stock market overall.\n",
      "\n",
      "Key Takeaways\n",
      "The S&P 500 Index features 500 leading U.S. publicly traded companies with a primary emphasis on market capitalization.\n",
      "The S&P 500 Index was launched in 1957 by the credit rating agency Standard and Poor's.\n",
      "The S&P is a float-weighted index. The market capitalizations of the companies in the index are adjusted by the number of shares available for public trading.\n",
      "The S&P 500 is considered one of the best gauges of large U.S. stocks and even the entire equities market because of its depth and diversity.\n",
      "You can't invest directly in the S&P 500 because it's an index but you can invest in one of the many funds that use it as a benchmark and track its composition and performance.\n",
      "S&P 500 Index\n",
      "Investopedia / Julie Bang\n",
      "\n",
      "Weighting Formula and Calculation of the S&P 500\n",
      "The S&P 500 uses a market-cap weighting method that gives a higher percentage allocation to companies with the largest market capitalizations.\n",
      "1\n",
      "\n",
      "Company Weighting in S & P\n",
      "=\n",
      "Company market cap\n",
      "Total of all market caps\n",
      "Company Weighting in S & P= \n",
      "Total of all market caps\n",
      "Company market cap\n",
      "​\n",
      " \n",
      "Determining the weighting of each component of the S&P 500 begins with calculating the total market cap for the index by adding together the market cap of every company in the index.\n",
      "\n",
      "The market cap of a company is calculated by taking the current stock price and multiplying it by the company's outstanding shares. The total market cap for the S&P 500 as well as the market caps of individual companies are published frequently on financial websites, saving investors the need to calculate them.\n",
      "\n",
      "The weighting of each company in the index is calculated by taking the company's market cap and dividing it by the total market cap of the index.\n",
      "2\n",
      "\n",
      "\n",
      "Other S&P Indices\n",
      "The S&P 500 is a part of the S&P Global 1200 family of indices. Other indices include the S&P MidCap 400 which represents the mid-cap range of companies and the S&P SmallCap 600 which represents small-cap companies. The S&P 500, S&P MidCap 400, and S&P SmallCap 600 combine to cover 90% of all U.S. capitalization in an index known as the S&P Composite 1500.\n",
      "3\n",
      "4\n",
      "\n",
      "\n",
      "S&P 500 Index Construction\n",
      "The S&P uses only free-floating shares, the shares that the public can trade, when calculating market cap. The S&P adjusts each company's market cap to compensate for new share issues or company mergers.\n",
      "\n",
      "The value of the index is calculated by totaling the adjusted market caps of each company and dividing the result by a divisor. The divisor is proprietary information of the S&P and isn't released to the public. The S&P Index (SPX) isn't a total return index and doesn't include cash dividend gains for the companies listed.\n",
      "5\n",
      "\n",
      "You can nonetheless calculate a company's weighting in the index and this can provide investors with valuable information. You can get a sense as to whether it might have an impact on the overall index if a stock rises or falls. A company with a 10% weighting would have a greater impact on the value of the index than a company with a 2% weighting.\n",
      "\n",
      "The S&P 500 is one of the most widely quoted American indexes because it represents the largest publicly traded corporations in the U.S. It focuses on the U.S. market's large-cap sector and it's also a float-weighted index which is a type of capitalization weighting. Company market caps are adjusted by the number of shares available for public trading.\n",
      "1\n",
      "\n",
      "The S&P 500's most recent rebalancing was announced on March 1, 2024 and it took effect before the markets opened on March 18, 2024. Super Micro Computer and Deckers Outdoor replaced Whirlpool Corp. and Zions Bancorporation N.A. respectively at that time.\n",
      "6\n",
      "\n",
      "S&P 500 Competitors\n",
      "S&P 500 vs. Dow Jones Industrial Average (DJIA)\n",
      "Another common U.S. stock market benchmark is the Dow Jones Industrial Average (DJIA). The S&P 500 is often the institutional investor's preferred index given its depth and breadth. The DJIA has historically been associated with significant equities from the retail investor's point of view. Institutional investors perceive the S&P 500 as being more representative of U.S. equity markets because it includes more stocks across all sectors: 500 versus the Dow's 30.\n",
      "\n",
      "The S&P 500 uses a market-cap weighting method that gives a higher percentage allocation to companies with the largest market caps. The DJIA is a price-weighted index that gives companies with higher stock prices a higher index weighting. The market-cap-weighted structure tends to be more common than the price-weighted index across U.S. indexes.\n",
      "7\n",
      "\n",
      "S&P 500 vs. Nasdaq\n",
      "Nasdaq is a global electronic marketplace for trading securities. Several equity market indexes include stocks traded on Nasdaq. A given stock included in the S&P 500 Index may also be in one or more of the various Nasdaq indexes.\n",
      "\n",
      "Some of the most-watched Nasdaq stock indices include:\n",
      "\n",
      "Nasdaq 100 Index: Includes 100 of the largest, most actively traded common equities listed on Nasdaq\n",
      "Nasdaq Composite Index: Often simply referred to as the Nasdaq by the media includes more than 2,500 common stocks that trade on Nasdaq\n",
      "Nasdaq Global Equity Index (NQGI): Includes international stocks\n",
      "PHLX Semiconductor Sector Index (SOX): The leading barometer of stocks related to the semiconductor industry\n",
      "OMX Stockholm 30 Index (OMXS30): Includes 30 actively traded stocks on the Stockholm Stock Exchange\n",
      "8\n",
      "\n",
      "S&P 500 vs. Russell Indexes\n",
      "The S&P 500 is a member of a set of indexes created by Standard & Poor's. This set of indexes is like the Russell index family in that both are market-cap-weighted unless stated otherwise as in the case of equal-weighted indexes.\n",
      "\n",
      "There are two significant differences between the construction of the S&P and the Russell families of indexes. Standard & Poor's chooses constituent companies via a committee. Russell indexes use a formula to select which stocks to include. There's no name overlap within S&P style indices such as growth versus value. Russell indexes will include the same company in both the value and growth style indexes.\n",
      "9\n",
      "10\n",
      "\n",
      "S&P 500 vs. Vanguard 500 Fund\n",
      "The Vanguard 500 Index Fund aims to track the price and yield performance of the S&P 500 Index by investing its total net assets in the stocks that make up the index and by holding each component with approximately the same weight as the S&P index. The fund barely deviates from the S&P in this way, which it's designed to mimic.\n",
      "11\n",
      "\n",
      "The S&P 500 is an index so it can't be traded directly. Anyone who wants to invest in the companies that are included in the S&P must invest in a mutual fund or exchange-traded fund (ETF) that tracks the index such as the Vanguard 500 ETF (VOO).\n",
      "Limitations of the S&P 500 Index\n",
      "One of the limitations of the S&P and other market-cap-weighted indexes occurs when stocks in the index become overvalued. They rise higher than their fundamentals warrant. The stock typically inflates the overall value or price of the index if it has a heavy weighting in the index while being overvalued.\n",
      "\n",
      "A company's rising market cap isn't necessarily indicative of its fundamentals. It simply reflects the stock's increase in value relative to the shares outstanding. Equal-weighted indexes have become increasingly popular as a result. Each company's stock price movements have an equal impact on these indexes.\n",
      "12\n",
      "\n",
      "Example of the S&P 500 Market Cap Weighting\n",
      "The individual market weights must be calculated by dividing the market cap of each company by the total market cap of the index to understand how the underlying stocks affect the S&P index. Here's an example of Apple's weighting in the index:\n",
      "\n",
      "Apple (AAPL) reported 15.7 billion shares outstanding in its quarterly filing for the period ending July 1, 2023 and it had a stock price of $173.93 at the end of the trading day on Sept. 21, 2023.\n",
      "13\n",
      "14\n",
      "Apple's market cap was $2.7 trillion as of Sept. 21, 2023.\n",
      "15\n",
      "The S&P 500 total market cap was approximately $39.7 trillion as of Aug. 31, 2023. This is the sum of the market caps for all of the stocks in the index.\n",
      "16\n",
      "Apple's weighting in the index was approximately 6.8%, or $2.7 trillion divided by $39.7 trillion.\n",
      "The larger the market weight of a company, the more impact each 1% change in a stock's price will have on the index. S&P doesn't provide the total list of all 503 components on its website, just the top 10.\n",
      "\n",
      "Why Is It Called Standard and Poor's?\n",
      "The first S&P Index was launched in 1923 as a joint project between the Standard Statistical Bureau and Poor's Publishing. The original index covered 233 companies. The two companies merged in 1941 to become Standard and Poor's.\n",
      "17\n",
      "7\n",
      "\n",
      "What Companies Qualify for the S&P 500?\n",
      "A company must be publicly traded and based in the United States to be included in the S&P 500 Index. It must also meet certain requirements for liquidity and market capitalization, have a public float of at least 10% of its shares, and have positive earnings over the trailing four quarters.\n",
      "1\n",
      "\n",
      "How Do You Invest in the S&P 500?\n",
      "The simplest way to invest in the S&P 500 Index or any other stock market index is to buy shares of an index fund that targets it. These funds invest in a cross-section of the companies represented on the index so the fund's performance should mirror the performance of the index itself.\n",
      "\n",
      "The Bottom Line\n",
      "The S&P 500 Index is one of the most widely used indexes for the U.S. stock market. These 500 companies represent the largest and most liquid companies in the U.S. from technology and software companies to banks and manufacturers. The index has historically been used to provide insight into the direction of the stock market. It was created by a private company but the S&P 500 is a popular yardstick for the performance of the market economy at large.\n",
      "\n",
      "위의 기사를 요약해줄래?<|eot_id|><|start_header_id|>assistant<|end_header_id|>\n",
      "S&P 500 Index는 미국에서 가장 대표적인 주식 시장 지수 중 하나로, 1957년.Standard&Poor의에 의해 처음 도입되었으며 현재 503개의 주요 미국 상장사들이 포함되어 있습니다. 이 지수는 주식의 시장 가중치에 따라 구성되어 있으며, 주식의 시장 가중치를 계산하여 주식의 가중치를 계산합니다. S&P 500은 또한 미국의 대규모 주식의 성과를 반영하며, 미국의 대규모 주식 시장의 지표로 자주 사용됩니다.\n",
      "\n",
      "S&P 500의 구성은 주식의 시장 가중치를 계산하여 주식의 가중치를 계산합니다. 주식의 시장 가중치는 주식의 시장 가중치와 총 시장 가중치의 비율로 계산됩니다. 예를 들어, 애플의 시장 가중치는 6.8%로, 애플의 시장 가중치 ($2.7조)가 총 시장 가중치 ($39.7조)로 나눈 값입니다.\n",
      "\n",
      "S&P 500은 다른 지수와 비교하여 많은 공통점이 있습니다. 예를 들어, Dow Jones Industrial Average(DJIA)와 Nasdaq는 다른 지수로, S&P 500은 대규모 주식의 성과를 반영하며, DJIA는 상장된 주식의 가중치를 반영합니다. S&P 500은 또한 Russell Index와 비교하여 공통점이 있습니다. 두 지수는 모두 시장 가중치를 사용하여 구성되지만, Russell Index는 공통점이 없는 경우가 있습니다.\n",
      "\n",
      "S&P 500은 직접 투자할 수 없습니다. 대신, S&P 500을 반영하는 ETF나 mutual fund를 투자하여 S&P 500의 성과를 추적할 수 있습니다. S&P 500은 또한 주식의 가중치가 상장된 주식의 가중치를 반영하며, 가중치가 높은 주식이 가중치가 낮은 주식보다 더 큰 영향을 미칩니다.\n",
      "\n",
      "S&P 500의 한 가지 한계는 주식이 가중치가 높아지면서 가중치가 증가할 수 있습니다. 이는 가중치가 주식의 가치에 비례하는 것이 아니라 주식의 가중치에 따라 가중치가 증가할 수 있습니다. 따라서, 가중치가 낮은 주식은 가중치가 높은 주식보다 더 큰 영향을 미칩니다.\n",
      "\n",
      "S&P 500은 또한 주식의 시장 가중치를 계산하여 주식의 가중치를 계산하는 데 사용됩니다. 예를 들어, 애플의 시장 가중치를 계산하는 방법은 다음과 같습니다:\n",
      "\n",
      "1. 애플의 시장 가중치 = 애플의 시장 가중치 / 총 시장 가중치\n",
      "2. 애플의 시장 가중치 = $2.7조 / $39.7조 = 6.8%\n",
      "\n",
      "S&P 500은 또한 주식의 시장 가중치를 계산하여 주식의 가중치를 계산합니다. 주식의 시장 가중치는 주식의 시장 가중치와 총 시장 가중치의 비율로 계산됩니다. 예를 들어, 애플의 시장 가중치는 6.8%로, 애플의 시장 가중치 ($2.7조)가 총 시장 가중치 ($39.7조)로 나눈 값입니다.\n",
      "\n",
      "S&P 500은 다른 지수와 비교하여 많은 공통점이 있습니다. 예를 들어, Dow Jones Industrial Average(DJIA)와 Nasdaq는 다른 지수로, S&P 500은 대규모 주식의 성과를 반영하며, DJIA는 상장된 주식의 가중치를 반영합니다. S&P 500은 또한 Russell Index와 비교하여 공통점이 있습니다. 두 지수는 모두 시장 가중치를 사용하여 구성되지만, Russell Index는 공통점이 없는 경우가 있습니다.\n",
      "\n",
      "S&P 500은 직접 투자할 수 없습니다. 대신, S&P 500을 반영하는 ETF나 mutual fund를 투자하여 S&P 500의 성과를 추적할 수 있습니다. S&P 500은 또한 주식의 가중치가 상장된 주식의 가중치를 반영하며, 가중치가 높은 주식이 가중치가 낮은 주식보다 더 큰 영향을 미칩니다.\n",
      "\n",
      "S&P 500의 한 가지 한계는 주식이 가중치가 높아지면서 가중치가 증가할 수 있습니다. 이는 가중치가 주식의 가치에 비례하는 것이 아니라 주식의 가중치에 따라 가중치가 증가할 수 있습니다. 따라서, 가중치가 낮은 주식은 가중치가 높은 주식보다 더 큰 영향을 미칩니다.\n",
      "\n",
      "S&P 500은 또한 주식의 시장 가중치를 계산하여 주식의 가중치를 계산하는 데 사용됩니다. 예를 들어, 애플의 시장 가중치를 계산하는 방법은 다음과 같습니다:\n",
      "\n",
      "1. 애플의 시장 가중치 = 애플의 시장 가중치 / 총 시장 가중치\n",
      "2. 애플의 시장 가중치 = $2.7조 / $39.7조 = 6.8%\n",
      "\n",
      "S&P 500은 또한 주식의 시장 가중치를 계산하여 주식의 가중치를 계산합니다. 주식의 시장 가중치는 주식의 시장 가중치와 총 시장 가중치의 비율로 계산됩니다. 예를 들어, 애플의 시장 가중치는 6.8%로, 애플의 시장 가중치 ($2.7조)가 총 시장 가중치 ($39.7조)로 나눈 값입니다.\n",
      "\n",
      "S&P 500은 다른 지수와 비교하여 많은 공통점이 있습니다. 예를 들어, Dow Jones Industrial Average(DJIA)와 Nasdaq는 다른 지수로, S&P 500은 대규모 주식의 성과를 반영하며, DJIA는 상장된 주식의 가중치를 반영합니다. S&P 500은 또한 Russell Index와 비교하여 공통점이 있습니다. 두 지수는 모두 시장 가중치를 사용하여 구성되지만, Russell Index는 공통점이 없는 경우가 있습니다.\n",
      "\n",
      "S&P 500은 직접 투자할 수 없습니다. 대신, S&P 500을 반영하는 ETF나 mutual fund를 투자하여 S&P 500의 성과를 추적할 수 있습니다. S&P 500은 또한 주식의 가중치가 상장된 주식의 가중치를 반영하며, 가중치가 높은 주식이 가중치가 낮은 주식보다 더 큰 영향을 미칩니다.\n",
      "\n",
      "S&P 500의 한 가지 한계는 주식이 가중치가 높아지면서 가중치가 증가할 수 있습니다. 이는 가중치가 주식의 가치에 비례하는 것이 아니라 주식의 가중치에 따라 가중치가 증가할 수 있습니다. 따라서, 가중치가 낮은 주식은 가중치가 높은 주식보다 더 큰 영향을 미칩니다.\n",
      "\n",
      "S&P 500은 또한 주식의 시장 가중치를 계산하여 주식의 가중치를 계산하는 데 사용됩니다. 예를 들어, 애플의 시장 가중치를 계산하는 방법은 다음과 같습니다:\n",
      "\n",
      "1. 애플의 시장 가중치 = 애플의 시장 가중치 / 총 시장 가중치\n",
      "2. 애플의 시장 가중치 = $2.7조 / $39.7조 = 6.8%\n",
      "\n",
      "S&P 500은 또한 주식의 시장 가중치를 계산하여 주식의 가중치를 계산합니다. 주식의 시장 가중치는 주식의 시장 가중치와 총 시장 가중치의 비율로 계산됩니다. 예를 들어, 애플의 시장 가중치는 6.8%로, 애플의 시장 가중치 ($2.7조)가 총 시장 가\n"
     ]
    }
   ],
   "source": [
    "news = '''\n",
    "What Is the S&P 500 Index?\n",
    "The S&P 500 Index or Standard & Poor's 500 Index is a market-capitalization-weighted index of 500 leading publicly traded companies in the U.S. The index includes 503 components because three have two share classes listed.\n",
    "\n",
    "It's not an exact list of the top 500 U.S. companies by market cap because the index includes other criteria. The S&P 500 index is nonetheless regarded as one of the best gauges of prominent American equities' performance and the stock market overall.\n",
    "\n",
    "Key Takeaways\n",
    "The S&P 500 Index features 500 leading U.S. publicly traded companies with a primary emphasis on market capitalization.\n",
    "The S&P 500 Index was launched in 1957 by the credit rating agency Standard and Poor's.\n",
    "The S&P is a float-weighted index. The market capitalizations of the companies in the index are adjusted by the number of shares available for public trading.\n",
    "The S&P 500 is considered one of the best gauges of large U.S. stocks and even the entire equities market because of its depth and diversity.\n",
    "You can't invest directly in the S&P 500 because it's an index but you can invest in one of the many funds that use it as a benchmark and track its composition and performance.\n",
    "S&P 500 Index\n",
    "Investopedia / Julie Bang\n",
    "\n",
    "Weighting Formula and Calculation of the S&P 500\n",
    "The S&P 500 uses a market-cap weighting method that gives a higher percentage allocation to companies with the largest market capitalizations.\n",
    "1\n",
    "\n",
    "Company Weighting in S & P\n",
    "=\n",
    "Company market cap\n",
    "Total of all market caps\n",
    "Company Weighting in S & P= \n",
    "Total of all market caps\n",
    "Company market cap\n",
    "​\n",
    " \n",
    "Determining the weighting of each component of the S&P 500 begins with calculating the total market cap for the index by adding together the market cap of every company in the index.\n",
    "\n",
    "The market cap of a company is calculated by taking the current stock price and multiplying it by the company's outstanding shares. The total market cap for the S&P 500 as well as the market caps of individual companies are published frequently on financial websites, saving investors the need to calculate them.\n",
    "\n",
    "The weighting of each company in the index is calculated by taking the company's market cap and dividing it by the total market cap of the index.\n",
    "2\n",
    "\n",
    "\n",
    "Other S&P Indices\n",
    "The S&P 500 is a part of the S&P Global 1200 family of indices. Other indices include the S&P MidCap 400 which represents the mid-cap range of companies and the S&P SmallCap 600 which represents small-cap companies. The S&P 500, S&P MidCap 400, and S&P SmallCap 600 combine to cover 90% of all U.S. capitalization in an index known as the S&P Composite 1500.\n",
    "3\n",
    "4\n",
    "\n",
    "\n",
    "S&P 500 Index Construction\n",
    "The S&P uses only free-floating shares, the shares that the public can trade, when calculating market cap. The S&P adjusts each company's market cap to compensate for new share issues or company mergers.\n",
    "\n",
    "The value of the index is calculated by totaling the adjusted market caps of each company and dividing the result by a divisor. The divisor is proprietary information of the S&P and isn't released to the public. The S&P Index (SPX) isn't a total return index and doesn't include cash dividend gains for the companies listed.\n",
    "5\n",
    "\n",
    "You can nonetheless calculate a company's weighting in the index and this can provide investors with valuable information. You can get a sense as to whether it might have an impact on the overall index if a stock rises or falls. A company with a 10% weighting would have a greater impact on the value of the index than a company with a 2% weighting.\n",
    "\n",
    "The S&P 500 is one of the most widely quoted American indexes because it represents the largest publicly traded corporations in the U.S. It focuses on the U.S. market's large-cap sector and it's also a float-weighted index which is a type of capitalization weighting. Company market caps are adjusted by the number of shares available for public trading.\n",
    "1\n",
    "\n",
    "The S&P 500's most recent rebalancing was announced on March 1, 2024 and it took effect before the markets opened on March 18, 2024. Super Micro Computer and Deckers Outdoor replaced Whirlpool Corp. and Zions Bancorporation N.A. respectively at that time.\n",
    "6\n",
    "\n",
    "S&P 500 Competitors\n",
    "S&P 500 vs. Dow Jones Industrial Average (DJIA)\n",
    "Another common U.S. stock market benchmark is the Dow Jones Industrial Average (DJIA). The S&P 500 is often the institutional investor's preferred index given its depth and breadth. The DJIA has historically been associated with significant equities from the retail investor's point of view. Institutional investors perceive the S&P 500 as being more representative of U.S. equity markets because it includes more stocks across all sectors: 500 versus the Dow's 30.\n",
    "\n",
    "The S&P 500 uses a market-cap weighting method that gives a higher percentage allocation to companies with the largest market caps. The DJIA is a price-weighted index that gives companies with higher stock prices a higher index weighting. The market-cap-weighted structure tends to be more common than the price-weighted index across U.S. indexes.\n",
    "7\n",
    "\n",
    "S&P 500 vs. Nasdaq\n",
    "Nasdaq is a global electronic marketplace for trading securities. Several equity market indexes include stocks traded on Nasdaq. A given stock included in the S&P 500 Index may also be in one or more of the various Nasdaq indexes.\n",
    "\n",
    "Some of the most-watched Nasdaq stock indices include:\n",
    "\n",
    "Nasdaq 100 Index: Includes 100 of the largest, most actively traded common equities listed on Nasdaq\n",
    "Nasdaq Composite Index: Often simply referred to as the Nasdaq by the media includes more than 2,500 common stocks that trade on Nasdaq\n",
    "Nasdaq Global Equity Index (NQGI): Includes international stocks\n",
    "PHLX Semiconductor Sector Index (SOX): The leading barometer of stocks related to the semiconductor industry\n",
    "OMX Stockholm 30 Index (OMXS30): Includes 30 actively traded stocks on the Stockholm Stock Exchange\n",
    "8\n",
    "\n",
    "S&P 500 vs. Russell Indexes\n",
    "The S&P 500 is a member of a set of indexes created by Standard & Poor's. This set of indexes is like the Russell index family in that both are market-cap-weighted unless stated otherwise as in the case of equal-weighted indexes.\n",
    "\n",
    "There are two significant differences between the construction of the S&P and the Russell families of indexes. Standard & Poor's chooses constituent companies via a committee. Russell indexes use a formula to select which stocks to include. There's no name overlap within S&P style indices such as growth versus value. Russell indexes will include the same company in both the value and growth style indexes.\n",
    "9\n",
    "10\n",
    "\n",
    "S&P 500 vs. Vanguard 500 Fund\n",
    "The Vanguard 500 Index Fund aims to track the price and yield performance of the S&P 500 Index by investing its total net assets in the stocks that make up the index and by holding each component with approximately the same weight as the S&P index. The fund barely deviates from the S&P in this way, which it's designed to mimic.\n",
    "11\n",
    "\n",
    "The S&P 500 is an index so it can't be traded directly. Anyone who wants to invest in the companies that are included in the S&P must invest in a mutual fund or exchange-traded fund (ETF) that tracks the index such as the Vanguard 500 ETF (VOO).\n",
    "Limitations of the S&P 500 Index\n",
    "One of the limitations of the S&P and other market-cap-weighted indexes occurs when stocks in the index become overvalued. They rise higher than their fundamentals warrant. The stock typically inflates the overall value or price of the index if it has a heavy weighting in the index while being overvalued.\n",
    "\n",
    "A company's rising market cap isn't necessarily indicative of its fundamentals. It simply reflects the stock's increase in value relative to the shares outstanding. Equal-weighted indexes have become increasingly popular as a result. Each company's stock price movements have an equal impact on these indexes.\n",
    "12\n",
    "\n",
    "Example of the S&P 500 Market Cap Weighting\n",
    "The individual market weights must be calculated by dividing the market cap of each company by the total market cap of the index to understand how the underlying stocks affect the S&P index. Here's an example of Apple's weighting in the index:\n",
    "\n",
    "Apple (AAPL) reported 15.7 billion shares outstanding in its quarterly filing for the period ending July 1, 2023 and it had a stock price of $173.93 at the end of the trading day on Sept. 21, 2023.\n",
    "13\n",
    "14\n",
    "Apple's market cap was $2.7 trillion as of Sept. 21, 2023.\n",
    "15\n",
    "The S&P 500 total market cap was approximately $39.7 trillion as of Aug. 31, 2023. This is the sum of the market caps for all of the stocks in the index.\n",
    "16\n",
    "Apple's weighting in the index was approximately 6.8%, or $2.7 trillion divided by $39.7 trillion.\n",
    "The larger the market weight of a company, the more impact each 1% change in a stock's price will have on the index. S&P doesn't provide the total list of all 503 components on its website, just the top 10.\n",
    "\n",
    "Why Is It Called Standard and Poor's?\n",
    "The first S&P Index was launched in 1923 as a joint project between the Standard Statistical Bureau and Poor's Publishing. The original index covered 233 companies. The two companies merged in 1941 to become Standard and Poor's.\n",
    "17\n",
    "7\n",
    "\n",
    "What Companies Qualify for the S&P 500?\n",
    "A company must be publicly traded and based in the United States to be included in the S&P 500 Index. It must also meet certain requirements for liquidity and market capitalization, have a public float of at least 10% of its shares, and have positive earnings over the trailing four quarters.\n",
    "1\n",
    "\n",
    "How Do You Invest in the S&P 500?\n",
    "The simplest way to invest in the S&P 500 Index or any other stock market index is to buy shares of an index fund that targets it. These funds invest in a cross-section of the companies represented on the index so the fund's performance should mirror the performance of the index itself.\n",
    "\n",
    "The Bottom Line\n",
    "The S&P 500 Index is one of the most widely used indexes for the U.S. stock market. These 500 companies represent the largest and most liquid companies in the U.S. from technology and software companies to banks and manufacturers. The index has historically been used to provide insight into the direction of the stock market. It was created by a private company but the S&P 500 is a popular yardstick for the performance of the market economy at large.\n",
    "'''\n",
    "\n",
    "prompt = f'''\n",
    "<|begin_of_text|><|start_header_id|>system<|end_header_id|>\n",
    "\n",
    "Cutting Knowledge Date: December 2023\n",
    "Today Date: 23 July 2024\n",
    "\n",
    "You are a helpful assistant.<|eot_id|><|start_header_id|>user<|end_header_id|>\n",
    "\n",
    "{news}\n",
    "위의 기사를 요약해줄래?<|eot_id|><|start_header_id|>assistant<|end_header_id|>\n",
    "'''\n",
    "\n",
    "inputs = tokenizer.encode(prompt, return_tensors='pt')\n",
    "outputs = model.generate(inputs, max_length=4096)\n",
    "print(tokenizer.decode(outputs[0]))"
   ]
  },
  {
   "cell_type": "markdown",
   "metadata": {},
   "source": [
    "#### Fine-tuning"
   ]
  },
  {
   "cell_type": "markdown",
   "metadata": {},
   "source": [
    "##### ChatbotData"
   ]
  },
  {
   "cell_type": "code",
   "execution_count": null,
   "metadata": {},
   "outputs": [],
   "source": [
    "model_name = 'meta-llama/Llama-3.2-1B'\n",
    "model = AutoModelForCausalLM.from_pretrained(model_name)\n",
    "tokenizer = AutoTokenizer.from_pretrained(model_name)\n",
    "\n",
    "tokenizer.pad_token = \"<|finetune_right_pad_id|>\"\n",
    "tokenizer.pad_token_id = 128004"
   ]
  },
  {
   "cell_type": "code",
   "execution_count": null,
   "metadata": {},
   "outputs": [],
   "source": [
    "data = pd.read_csv('./ChatbotData.csv')"
   ]
  },
  {
   "cell_type": "code",
   "execution_count": null,
   "metadata": {},
   "outputs": [],
   "source": [
    "question_prompt = '''\n",
    "<|begin_of_text|><|start_header_id|>system<|end_header_id|>\n",
    "\n",
    "You are a helpful assistant<|eot_id|><|start_header_id|>user<|end_header_id|>\n",
    "\n",
    "{user_prompt}<|eot_id|><|start_header_id|>assistant<|end_header_id|>\n",
    "'''\n",
    "\n",
    "answer_prompt = '''\n",
    "{question_prompt}\n",
    "{answer}<|eot_id|>\n",
    "'''"
   ]
  },
  {
   "cell_type": "code",
   "execution_count": null,
   "metadata": {},
   "outputs": [],
   "source": [
    "data.Q = data.Q.apply(lambda x: question_prompt.format(user_prompt=x))\n",
    "data.A = data.apply(lambda x: answer_prompt.format(question_prompt=x['Q'], answer=x['A']), axis=1)\n",
    "data.A = data.A.str.replace('^\\n', '', regex=True)"
   ]
  },
  {
   "cell_type": "code",
   "execution_count": null,
   "metadata": {},
   "outputs": [],
   "source": [
    "data['Q_tokenized'] = data.Q.apply(lambda x: tokenizer(x,\n",
    "                                    max_length=256,\n",
    "                                    padding='max_length',\n",
    "                                    truncation=True,\n",
    "                                    return_tensors='pt'),\n",
    "                                  )\n",
    "data['A_tokenized'] = data.A.apply(lambda x: tokenizer(x,\n",
    "                                    max_length=256,\n",
    "                                    padding='max_length',\n",
    "                                    truncation=True,\n",
    "                                    return_tensors='pt'),\n",
    "                                  )"
   ]
  },
  {
   "cell_type": "code",
   "execution_count": null,
   "metadata": {},
   "outputs": [],
   "source": [
    "class QADataset(Dataset):\n",
    "    def __init__(self, data: pd.DataFrame):\n",
    "        self.data = data\n",
    "\n",
    "    def __len__(self):\n",
    "        return len(self.data)\n",
    "\n",
    "    def __getitem__(self, idx):\n",
    "        temp = self.data.iloc[idx]\n",
    "\n",
    "        return {\n",
    "            'input_ids': temp.Q_tokenized.get('input_ids')[0],\n",
    "            'attention_mask': temp.Q_tokenized.get('attention_mask')[0], \n",
    "            'labels': temp.A_tokenized.get('input_ids')[0],\n",
    "        }"
   ]
  },
  {
   "cell_type": "code",
   "execution_count": null,
   "metadata": {},
   "outputs": [],
   "source": [
    "train, valid = train_test_split(data, test_size=0.2, random_state=0)\n",
    "train_dataset = QADataset(train)\n",
    "eval_dataset = QADataset(valid)"
   ]
  },
  {
   "cell_type": "code",
   "execution_count": null,
   "metadata": {},
   "outputs": [],
   "source": [
    "training_args = TrainingArguments(\n",
    "    output_dir='./llama/',\n",
    "    eval_strategy='epoch',\n",
    "    learning_rate=1e-4,\n",
    "    per_device_train_batch_size=16,\n",
    "    per_device_eval_batch_size=16,\n",
    "    num_train_epochs=1,\n",
    "    weight_decay=0.01,\n",
    ")\n",
    "\n",
    "trainer = Trainer(\n",
    "    model=model,\n",
    "    args=training_args,\n",
    "    train_dataset=train_dataset,\n",
    "    eval_dataset=eval_dataset,\n",
    ")\n",
    "\n",
    "trainer.train()"
   ]
  },
  {
   "cell_type": "markdown",
   "metadata": {},
   "source": [
    "##### F 카페(7,859)\n",
    "\n",
    "2000개 데이터 선택 <br>\n",
    "데이터를 홀수와 짝수로 분류 <br>\n",
    "&nbsp;&nbsp;&nbsp;&nbsp;짝수(고객), 홀수(점원) <br>\n",
    "분리된 데이터를 다시 결합 (고객 질문 column과 직원 대답 column이 한 row에 오도록) <br>\n",
    "tokenizer 적용 <br>\n",
    "train, test split <br>\n",
    "dataset 적용 <br>\n",
    "training_args 정의 <br>\n",
    "trainer 정의 <br>\n",
    "학습 <br>\n",
    "\n",
    "Streamlit에 연동"
   ]
  },
  {
   "cell_type": "code",
   "execution_count": 38,
   "metadata": {},
   "outputs": [],
   "source": [
    "data = pd.read_excel('./data/F 카페(7,859)_new.xlsx')"
   ]
  },
  {
   "cell_type": "code",
   "execution_count": 52,
   "metadata": {},
   "outputs": [],
   "source": [
    "data['joined'] = (\n",
    "    data\n",
    "    .loc[:, ['MQ', 'SQ', 'UA', 'SA']]\n",
    "    .fillna('')\n",
    "    .apply(lambda x: x['MQ'] + x['SQ'] + x['UA'] + x['SA'], axis=1)\n",
    ")\n",
    "\n",
    "customer = data.iloc[::2].filter(items=['joined']).rename(columns={'joined': 'Q'})\n",
    "clerk = data.iloc[1::2].filter(items=['joined']).rename(columns={'joined': 'A'})\n",
    "\n",
    "data = pd.concat([\n",
    "    data.iloc[::2].filter(items=['joined']).rename(columns={'joined': 'Q'}).reset_index(drop=True),\n",
    "    data.iloc[1::2].filter(items=['joined']).rename(columns={'joined': 'A'}).reset_index(drop=True)\n",
    "    ],\n",
    "    axis=1\n",
    ").dropna()\n",
    "\n",
    "data = data.iloc[:2000]"
   ]
  },
  {
   "cell_type": "code",
   "execution_count": 66,
   "metadata": {},
   "outputs": [],
   "source": [
    "model_name = 'meta-llama/Llama-3.2-1B'\n",
    "model = AutoModelForCausalLM.from_pretrained(model_name)\n",
    "tokenizer = AutoTokenizer.from_pretrained(model_name)\n",
    "tokenizer.pad_token = '<|finetune_right_pad_id|>'\n",
    "tokenizer.pad_token_id = 128004"
   ]
  },
  {
   "cell_type": "code",
   "execution_count": 67,
   "metadata": {},
   "outputs": [],
   "source": [
    "question_prompt = '''\n",
    "<|begin_of_text|><|start_header_id|>system<|end_header_id|>\n",
    "\n",
    "You are a helpful assistant<|eot_id|><|start_header_id|>user<|end_header_id|>\n",
    "\n",
    "{user_prompt}<|eot_id|><|start_header_id|>assistant<|end_header_id|>\n",
    "'''\n",
    "\n",
    "answer_prompt = '''\n",
    "{question_prompt}\n",
    "{answer}<|eot_id|>\n",
    "'''"
   ]
  },
  {
   "cell_type": "code",
   "execution_count": null,
   "metadata": {},
   "outputs": [],
   "source": [
    "data.Q = data.Q.apply(lambda x: question_prompt.format(user_prompt=x))\n",
    "data.A = data.apply(lambda x: answer_prompt.format(question_prompt=x['Q'], answer=x['A']), axis=1)\n",
    "data.A = data.A.str.replace('^\\n', '', regex=True)"
   ]
  },
  {
   "cell_type": "code",
   "execution_count": 69,
   "metadata": {},
   "outputs": [
    {
     "name": "stderr",
     "output_type": "stream",
     "text": [
      "C:\\Users\\USER\\AppData\\Local\\Temp\\ipykernel_31288\\4289377032.py:1: SettingWithCopyWarning: \n",
      "A value is trying to be set on a copy of a slice from a DataFrame.\n",
      "Try using .loc[row_indexer,col_indexer] = value instead\n",
      "\n",
      "See the caveats in the documentation: https://pandas.pydata.org/pandas-docs/stable/user_guide/indexing.html#returning-a-view-versus-a-copy\n",
      "  data['Q_tokenized'] = data.Q.apply(lambda x: tokenizer(x,\n",
      "C:\\Users\\USER\\AppData\\Local\\Temp\\ipykernel_31288\\4289377032.py:7: SettingWithCopyWarning: \n",
      "A value is trying to be set on a copy of a slice from a DataFrame.\n",
      "Try using .loc[row_indexer,col_indexer] = value instead\n",
      "\n",
      "See the caveats in the documentation: https://pandas.pydata.org/pandas-docs/stable/user_guide/indexing.html#returning-a-view-versus-a-copy\n",
      "  data['A_tokenized'] = data.A.apply(lambda x: tokenizer(x,\n"
     ]
    }
   ],
   "source": [
    "data['Q_tokenized'] = data.Q.apply(lambda x: tokenizer(x,\n",
    "                                    max_length=128,\n",
    "                                    padding='max_length',\n",
    "                                    truncation=True,\n",
    "                                    return_tensors='pt'),\n",
    "                                  )\n",
    "data['A_tokenized'] = data.A.apply(lambda x: tokenizer(x,\n",
    "                                    max_length=128,\n",
    "                                    padding='max_length',\n",
    "                                    truncation=True,\n",
    "                                    return_tensors='pt'),\n",
    "                                  )"
   ]
  },
  {
   "cell_type": "code",
   "execution_count": 70,
   "metadata": {},
   "outputs": [],
   "source": [
    "class QADataset(Dataset):\n",
    "    def __init__(self, data: pd.DataFrame):\n",
    "        self.data = data\n",
    "\n",
    "    def __len__(self):\n",
    "        return len(self.data)\n",
    "\n",
    "    def __getitem__(self, idx):\n",
    "        temp = self.data.iloc[idx]\n",
    "\n",
    "        return {\n",
    "            'input_ids': temp.Q_tokenized.get('input_ids')[0],\n",
    "            'attention_mask': temp.Q_tokenized.get('attention_mask')[0], \n",
    "            'labels': temp.A_tokenized.get('input_ids')[0],\n",
    "        }"
   ]
  },
  {
   "cell_type": "code",
   "execution_count": 71,
   "metadata": {},
   "outputs": [],
   "source": [
    "train, valid = train_test_split(data, test_size=0.2, random_state=0)\n",
    "train_dataset = QADataset(train)\n",
    "eval_dataset = QADataset(valid)"
   ]
  },
  {
   "cell_type": "code",
   "execution_count": null,
   "metadata": {},
   "outputs": [],
   "source": [
    "training_args = TrainingArguments(\n",
    "    output_dir='./llama/',\n",
    "    eval_strategy='epoch',\n",
    "    learning_rate=1e-4,\n",
    "    per_device_train_batch_size=16,\n",
    "    per_device_eval_batch_size=16,\n",
    "    num_train_epochs=1,\n",
    "    weight_decay=0.01,\n",
    ")\n",
    "\n",
    "trainer = Trainer(\n",
    "    model=model,\n",
    "    args=training_args,\n",
    "    train_dataset=train_dataset,\n",
    "    eval_dataset=eval_dataset,\n",
    ")\n",
    "\n",
    "trainer.train()"
   ]
  },
  {
   "cell_type": "markdown",
   "metadata": {},
   "source": [
    "### Meta"
   ]
  },
  {
   "cell_type": "code",
   "execution_count": null,
   "metadata": {},
   "outputs": [],
   "source": [
    "tokenizer = AutoTokenizer.from_pretrained(path)\n",
    "model = AutoModelForCausalLM.from_pretrained(path)"
   ]
  },
  {
   "cell_type": "code",
   "execution_count": null,
   "metadata": {},
   "outputs": [],
   "source": [
    "tokenizer('hello world', return_tensors='pt')"
   ]
  },
  {
   "cell_type": "markdown",
   "metadata": {},
   "source": [
    "# Ollama\n",
    "\n",
    "site: https://ollama.com/\n",
    "\n",
    "LLM 모델을 로컬 환경에서 쉽게 사용할 수 있도록 해주는 플랫폼. <br>\n",
    "사용자는 대규모 언어 모델을 자신의 컴퓨터에 설치하고 실행할 수 있으며, 프라이버시와 속도를 개선할 수 있음. <br>\n",
    "Ollama는 개발자들이 AI를 활용한 애플리케이션을 쉽게 만들 수 있도록 다양한 기능과 도구를 제공.\n",
    "예를 들어, API를 통해 모델을 호출하거나, 사용자 정의 모델을 추가하는 등의 작업이 가능. <br>"
   ]
  },
  {
   "cell_type": "markdown",
   "metadata": {},
   "source": [
    "## 사용 방법\n",
    "\n",
    "> ```\n",
    "> ollama run llama3.2\n",
    "> ollama run llama3.2:1b\n",
    "> ```"
   ]
  },
  {
   "cell_type": "markdown",
   "metadata": {},
   "source": [
    "### API"
   ]
  },
  {
   "cell_type": "markdown",
   "metadata": {},
   "source": [
    "#### generate\n",
    "\n",
    "> ```python\n",
    "> url = 'http://localhost:11434/api/generate'\n",
    "> data = {\n",
    ">     'model': 'llama3',\n",
    ">     'prompt': '하늘은 왜 파란가요?'\n",
    "> }\n",
    "> \n",
    "> response = requests.post(url, json=data)\n",
    "> ```"
   ]
  },
  {
   "cell_type": "markdown",
   "metadata": {},
   "source": [
    "#### chat\n",
    "\n",
    "> ```python\n",
    "> url = 'http://localhost:11434/api/chat'\n",
    "> data = {\n",
    ">     'model': 'llama3.2',\n",
    ">     'messages': [\n",
    ">         {'role': 'user', 'content': '하늘은 왜 파란가요?'}\n",
    ">     ]\n",
    "> }\n",
    "> \n",
    "> response = requests.post(url, json=data)\n",
    "> ```"
   ]
  },
  {
   "cell_type": "markdown",
   "metadata": {},
   "source": [
    "### Customizing\n",
    "\n",
    "1\\. 모델 다운로드\n",
    "\n",
    "```cmd\n",
    "ollama pull llama3.2\n",
    "```\n",
    "\n",
    "<br>\n",
    "\n",
    "2\\. 아래와 같이 Modelfile 생성\n",
    "\n",
    "```cmd\n",
    "FROM llama3.2\n",
    "\n",
    "# 온도 설정 (높을수록 창의적, 낮을수록 정확함)  \n",
    "PARAMETER temperature 1\n",
    "\n",
    "# 시스템 메시지 설정\n",
    "SYSTEM \"\"\"\n",
    "You are a kid. Answer like kid.\n",
    "\"\"\"\n",
    "```\n",
    "\n",
    "<br>\n",
    "\n",
    "3\\. 아래의 커맨드를 입력하여 실행\n",
    "\n",
    "```cmd\n",
    "ollama create kid -f ./Modelfile\n",
    "ollama run kid\n",
    "```"
   ]
  }
 ],
 "metadata": {
  "kernelspec": {
   "display_name": "Python 3.10.15 ('nlp')",
   "language": "python",
   "name": "python3"
  },
  "language_info": {
   "codemirror_mode": {
    "name": "ipython",
    "version": 3
   },
   "file_extension": ".py",
   "mimetype": "text/x-python",
   "name": "python",
   "nbconvert_exporter": "python",
   "pygments_lexer": "ipython3",
   "version": "3.10.14"
  },
  "orig_nbformat": 4,
  "vscode": {
   "interpreter": {
    "hash": "1a56403b4074e681ecb36004649c5fb19e7bcf1144081029ba5f2cf549331f5e"
   }
  }
 },
 "nbformat": 4,
 "nbformat_minor": 2
}
