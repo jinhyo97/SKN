{
 "cells": [
  {
   "cell_type": "markdown",
   "metadata": {},
   "source": [
    "# 11. Closure"
   ]
  },
  {
   "cell_type": "markdown",
   "metadata": {
    "vscode": {
     "languageId": "plaintext"
    }
   },
   "source": [
    "## 11.1 Closure란?\n",
    "\n",
    "어떤 함수의 내부 함수가 외부 함수의 변수(프리변수)를 참조할 때,  <br>\n",
    "외부 함수가 종료된 후에도 내부 함수가 외부 함수의 변수를 참조할 수 있도록 <br>\n",
    "어딘가에 저장하는 함수 <br>\n",
    "\n",
    "<br>\n",
    "\n",
    "프리변수(free variable): 어떤 함수에서 사용되지만 그 함수 내부에서 선언되지 않은 변수\n",
    "\n",
    "<br>\n",
    "\n",
    "클로저 함수는 아래의 조건 충족\n",
    "1. 어떤 함수의 내부 함수일 것\n",
    "2. 그 내부 함수가 외부 함수의 변수를 참조할 것\n",
    "3. 외부 함수가 내부 함수를 리턴할 것"
   ]
  },
  {
   "cell_type": "markdown",
   "metadata": {},
   "source": [
    "## 11.2 Closure 사용\n",
    "\n",
    "```python\n",
    "def print_day(day):\n",
    "    message = f'Today is a {day}'\n",
    "\n",
    "    def print_message():\n",
    "        print(message)\n",
    "\n",
    "    return print_message\n",
    "\n",
    "day = print_day('monday')\n",
    "day()\n",
    "```\n",
    "\n",
    "<br>\n",
    "\n",
    "위의 코드에서 print_message는 closure\n",
    "1. 어떤 함수의 내부 함수일 것\n",
    "    - print_message는 print_day의 내부 함수\n",
    "2. 그 내부 함수가 외부 함수의 변수를 참조할 것\n",
    "    - print_message는 외부 함수의 message를 참조\n",
    "3. 외부 함수가 내부 함수를 리턴할 것\n",
    "    - print_day는 print_message 함수 리턴\n",
    "\n",
    "<br>\n",
    "\n",
    "위의 출력 구조를 다시 보면\n",
    "1. print_day 함수에 day의 매개변수를 통해 값 입력\n",
    "2. message에 입력받은 값을 통해 Today is a monday 할당\n",
    "3. print_message 함수가 message 변수 참조\n",
    "4. print_message 함수 return\n",
    "5. day 변수가 print_message 함수 참조\n",
    "6. day 변수 실행(print message 실행)\n",
    "7. day 변수는 message 변수 출력\n",
    "\n",
    "<br>\n",
    "\n",
    "위 구조에서 4번에서 print_message 함수가 return이 되면 print_day 함수가 종료되므로 <br>\n",
    "가지고 있는 값을 모두 해제해야하므로 내부 변수인 message를 사용할 수 없는 것이 맞으나 <br>\n",
    "closure는 이를 가능케 함. 즉, 중첩 함수인 print_message가 외부 함수인 print_day의 변수인 <br>\n",
    "message를 참조하기에 message 변수와 print_message의 환경을 저장하는 closure가 동적으로 생성 <br>\n",
    "day는 이 closure를 참조하여 message 값 출력 <br>\n",
    "closure는 day 변수에 print_message가 할당될 때 생성\n",
    "\n",
    "<br>\n",
    "\n",
    "```python\n",
    "dir(day)\n",
    "dir(day.__closure__[0])\n",
    "```\n",
    "\n",
    "<br>"
   ]
  },
  {
   "cell_type": "code",
   "execution_count": 85,
   "metadata": {},
   "outputs": [
    {
     "name": "stdout",
     "output_type": "stream",
     "text": [
      "Today is a monday\n"
     ]
    }
   ],
   "source": [
    "def print_day(day):\n",
    "    message = f'Today is a {day}'\n",
    "\n",
    "    def print_message():\n",
    "        print(message)\n",
    "\n",
    "    return print_message\n",
    "\n",
    "day = print_day('monday')\n",
    "day()"
   ]
  },
  {
   "cell_type": "code",
   "execution_count": 86,
   "metadata": {},
   "outputs": [
    {
     "data": {
      "text/plain": [
       "'Today is a monday'"
      ]
     },
     "execution_count": 86,
     "metadata": {},
     "output_type": "execute_result"
    }
   ],
   "source": [
    "day.__closure__[0].cell_contents"
   ]
  },
  {
   "cell_type": "markdown",
   "metadata": {},
   "source": [
    "## 11.3 장점\n",
    "\n",
    "**전역변수 남용 방지** <br>\n",
    "클로저를 쓰는 대신 전역변수를 선언해 상시 접근 가능하나, 변수의 책임 범위를 명확하게 할 수 없는 등의 문제 발생 <br>\n",
    "하지만 클로저를 사용하면 각 스코프가 클로저로 생성되므로 변수가 섞일 일도 없고 각 스코프에서 고유한 용도로 이용되므로 책임 범위 또한 명확 <br>\n",
    "단적으로 위의 예시에서 내부 함수가 여러 개이고, 그 여러 개의 내부 함수에서 접근할 수 있도록 전역함수를 각각 만든다면, 코드가 난잡해질 수 있음 <br>"
   ]
  },
  {
   "cell_type": "markdown",
   "metadata": {},
   "source": [
    "# 12. Generator"
   ]
  },
  {
   "cell_type": "markdown",
   "metadata": {},
   "source": [
    "## 12.1 Generator란?\n",
    "\n",
    "이터레이터(iterator)를 생성하는 객체 <br>\n",
    "comprehension 또는 함수 내부에 yield 키워드 사용을 통해 생성 가능 <br>\n",
    "**lazy**연산"
   ]
  },
  {
   "cell_type": "markdown",
   "metadata": {},
   "source": [
    "## 12.2 Generator 사용\n",
    "\n",
    "1.Comprehension <br>\n",
    "list comprehension 때와 비슷하게 사용하나 좌우에 ()를 사용\n",
    "```python\n",
    "(i for i in range(10))\n",
    "```\n",
    "\n",
    "<br>\n",
    "\n",
    "2.함수 내에 yield 키워드 사용\n",
    "```python\n",
    "def iter():\n",
    "    for i in range(10):\n",
    "        yield i\n",
    "```\n",
    "\n",
    "<br>\n",
    "\n",
    "더 이상 호출할 값이 없으면 StopIteration 예외 발생\n",
    "\n",
    "<br>\n",
    "\n",
    "generator 함수는 yield를 통해 값을 return하나, 함수의 종료와는 무관 <br>\n",
    "yield는 호출되면 값을 반환하며, 그 시점에서 함수를 잠시 정지 <br>\n",
    "다음 값이 호출되면 다시 로직 실행 <br>\n",
    "next를 통하여 다름 값으로 이동 가능 <br>\n",
    "\n",
    "<br>\n",
    "\n",
    "3.yield from\n",
    "함수 내에 iterable한 객체의 요소를 하나씩 return할 수 있는 키워드\n",
    "\n",
    "```python\n",
    "def iter():\n",
    "    values = range(10)\n",
    "    yield from values\n",
    "```"
   ]
  },
  {
   "cell_type": "code",
   "execution_count": 87,
   "metadata": {},
   "outputs": [],
   "source": [
    "a = (i for i in range(10))"
   ]
  },
  {
   "cell_type": "code",
   "execution_count": 88,
   "metadata": {},
   "outputs": [
    {
     "name": "stdout",
     "output_type": "stream",
     "text": [
      "0\n",
      "1\n",
      "2\n",
      "3\n",
      "4\n",
      "5\n",
      "6\n",
      "7\n",
      "8\n",
      "9\n"
     ]
    }
   ],
   "source": [
    "for i in a:\n",
    "    print(i)"
   ]
  },
  {
   "cell_type": "code",
   "execution_count": 89,
   "metadata": {},
   "outputs": [
    {
     "data": {
      "text/plain": [
       "[]"
      ]
     },
     "execution_count": 89,
     "metadata": {},
     "output_type": "execute_result"
    }
   ],
   "source": [
    "list(a)"
   ]
  },
  {
   "cell_type": "code",
   "execution_count": 90,
   "metadata": {},
   "outputs": [
    {
     "data": {
      "text/plain": [
       "[0, 1, 2, 3, 4, 5, 6, 7, 8, 9]"
      ]
     },
     "execution_count": 90,
     "metadata": {},
     "output_type": "execute_result"
    }
   ],
   "source": [
    "a = (i for i in range(10))\n",
    "list(a)"
   ]
  },
  {
   "cell_type": "code",
   "execution_count": 91,
   "metadata": {},
   "outputs": [],
   "source": [
    "a = (i for i in range(10))"
   ]
  },
  {
   "cell_type": "code",
   "execution_count": 92,
   "metadata": {},
   "outputs": [
    {
     "data": {
      "text/plain": [
       "0"
      ]
     },
     "execution_count": 92,
     "metadata": {},
     "output_type": "execute_result"
    }
   ],
   "source": [
    "next(a)"
   ]
  },
  {
   "cell_type": "code",
   "execution_count": 93,
   "metadata": {},
   "outputs": [],
   "source": [
    "def test():\n",
    "    print('before 1')\n",
    "    yield 1\n",
    "    print('after 1')\n",
    "    print('before 2')\n",
    "    yield 2\n",
    "    print('after 2')\n",
    "    print('before 3')\n",
    "    yield 3\n",
    "    print('after 3')\n",
    "    print('before 4')\n",
    "    yield 4\n",
    "    print('after 4')"
   ]
  },
  {
   "cell_type": "code",
   "execution_count": 94,
   "metadata": {},
   "outputs": [
    {
     "name": "stdout",
     "output_type": "stream",
     "text": [
      "before 1\n",
      "after 1\n",
      "before 2\n",
      "after 2\n",
      "before 3\n",
      "after 3\n",
      "before 4\n",
      "after 4\n"
     ]
    },
    {
     "data": {
      "text/plain": [
       "[1, 2, 3, 4]"
      ]
     },
     "execution_count": 94,
     "metadata": {},
     "output_type": "execute_result"
    }
   ],
   "source": [
    "list(test())"
   ]
  },
  {
   "cell_type": "code",
   "execution_count": 95,
   "metadata": {},
   "outputs": [],
   "source": [
    "a = test()"
   ]
  },
  {
   "cell_type": "code",
   "execution_count": 96,
   "metadata": {},
   "outputs": [
    {
     "name": "stdout",
     "output_type": "stream",
     "text": [
      "before 1\n"
     ]
    },
    {
     "data": {
      "text/plain": [
       "1"
      ]
     },
     "execution_count": 96,
     "metadata": {},
     "output_type": "execute_result"
    }
   ],
   "source": [
    "next(a)"
   ]
  },
  {
   "cell_type": "code",
   "execution_count": 97,
   "metadata": {},
   "outputs": [],
   "source": [
    "def test2():\n",
    "    list_ = [1, 2, 3, 4, 5]\n",
    "    yield from list_"
   ]
  },
  {
   "cell_type": "code",
   "execution_count": 98,
   "metadata": {},
   "outputs": [],
   "source": [
    "b = test2()"
   ]
  },
  {
   "cell_type": "code",
   "execution_count": 99,
   "metadata": {},
   "outputs": [
    {
     "data": {
      "text/plain": [
       "<generator object test2 at 0x00000216321E7280>"
      ]
     },
     "execution_count": 99,
     "metadata": {},
     "output_type": "execute_result"
    }
   ],
   "source": [
    "b"
   ]
  },
  {
   "cell_type": "code",
   "execution_count": 100,
   "metadata": {},
   "outputs": [
    {
     "data": {
      "text/plain": [
       "1"
      ]
     },
     "execution_count": 100,
     "metadata": {},
     "output_type": "execute_result"
    }
   ],
   "source": [
    "next(b)"
   ]
  },
  {
   "cell_type": "markdown",
   "metadata": {},
   "source": [
    "## 12.3 lazy\n",
    "\n",
    "lazy 연산은 처음에 모든 값을 연산하는 것이 아니라 <br>\n",
    "필요할 때 필요한 만큼 연산 <br>\n",
    "\n",
    "```python\n",
    "list_ = [1, 2, 3, 4, 5, 6, 7, 8, 9, 10]\n",
    "```\n",
    "\n",
    "이라고 하는 값이 있을 때 어떤 위치에 어떤 값이 존재하는지 쉽게 파악 가능하나 <br>\n",
    "이러한 구조로 표기하기 위해서는 크기가 커질 수록 메모리 낭비가 심해짐 <br>\n",
    "\n",
    "<br>\n",
    "\n",
    "하지만 lazy한 객체는 모든 요소를 저장하는 것이 아니라 시작, 다음, 언제까지 값을 줘야하는지 <br>\n",
    "등의 기본 정보만을 가지고 있고, 이 정보를 바탕으로 각 호출마다 값 바노한 <br>\n",
    "즉, 모든 값을 메모리에 올려두지 않고 호출 시 값을 계산하여 반환 <br>\n",
    "\n",
    "\n",
    "```python\n",
    "def number_generator():\n",
    "    num = 1\n",
    "    while num < 100:\n",
    "        yield num\n",
    "        num += 1\n",
    "\n",
    "numbers = number_generaotr()\n",
    "```\n",
    "\n",
    "위와 같은 예제가 있을 때, <br>\n",
    "처음 반환 값: 1, 다음 줄 값: 2, 언제까지: num < 100일 때의 상황에서 숫자를 계속 반환 <br>\n",
    "패턴이 존재한다면 lazy한 방법을 사용하는 것이 메모리 관점에서 이득이라고 할 수 있음 <br>"
   ]
  },
  {
   "cell_type": "code",
   "execution_count": 101,
   "metadata": {},
   "outputs": [],
   "source": [
    "def number_generator():\n",
    "    num = 1\n",
    "    while num < 100:\n",
    "        yield num\n",
    "        num += 1"
   ]
  },
  {
   "cell_type": "code",
   "execution_count": 102,
   "metadata": {},
   "outputs": [],
   "source": [
    "numbers = number_generator()"
   ]
  },
  {
   "cell_type": "markdown",
   "metadata": {
    "vscode": {
     "languageId": "plaintext"
    }
   },
   "source": [
    "# 13. Decorator"
   ]
  },
  {
   "cell_type": "markdown",
   "metadata": {},
   "source": [
    "## 13.1 Decorator란?\n",
    "\n",
    "어떤 함수를 인자로 받아 함수 앞 뒤로 로직을 추가하여 다시 함수로 리턴하는 함수 <br>\n",
    "함수 내부에 변화를 주지 않고 로직을 추가할 때 사용 <br>\n",
    "**decorator를 통하여 함수 내부에 직접적인 수정이나 로직 변환을 가할 수 없음**\n"
   ]
  },
  {
   "cell_type": "markdown",
   "metadata": {},
   "source": [
    "## 13.2 Decorator 사용\n",
    "\n",
    "```python\n",
    "def greeting(func):\n",
    "    def wrapper(*args, **kwargs):\n",
    "        print('Nice to meet you')\n",
    "        func(*args, **kwargs)\n",
    "        print('See you again')\n",
    "\n",
    "    return wrapper\n",
    "\n",
    "@greeting\n",
    "def print_hello():\n",
    "    print('hello')\n",
    "\n",
    "print_hello()\n",
    "```\n",
    "\n",
    "위의 함수는 greeting(print_hello)와 동일하다고 볼 수 있음 <br>\n",
    "위와 같이 기존 print_hello의 함수를 그대로 두고 <br>\n",
    "함수가 가지는 기능을 greeting이라고 하는 decorator를 정의하여 확장할 수 있음 <br>"
   ]
  },
  {
   "cell_type": "code",
   "execution_count": 115,
   "metadata": {},
   "outputs": [],
   "source": [
    "def greeting(func):\n",
    "    def wrapper(*args, **kwargs):\n",
    "        print('before')\n",
    "        func(*args, **kwargs)\n",
    "        print('after')\n",
    "    \n",
    "    return wrapper\n",
    "\n",
    "@greeting\n",
    "def print_hello():\n",
    "    print('hello')"
   ]
  },
  {
   "cell_type": "code",
   "execution_count": 116,
   "metadata": {},
   "outputs": [
    {
     "name": "stdout",
     "output_type": "stream",
     "text": [
      "before\n",
      "hello\n",
      "after\n"
     ]
    }
   ],
   "source": [
    "print_hello()"
   ]
  },
  {
   "cell_type": "code",
   "execution_count": 125,
   "metadata": {},
   "outputs": [],
   "source": [
    "def greeting(func):\n",
    "    def wrapper(a, b):\n",
    "        print('before')\n",
    "        print('after')\n",
    "\n",
    "        return func(a, b)    \n",
    "    return wrapper\n",
    "\n",
    "@greeting\n",
    "def add(a, b):\n",
    "    return a + b"
   ]
  },
  {
   "cell_type": "code",
   "execution_count": 126,
   "metadata": {},
   "outputs": [
    {
     "name": "stdout",
     "output_type": "stream",
     "text": [
      "before\n",
      "after\n"
     ]
    }
   ],
   "source": [
    "temp = add(1, 2)"
   ]
  },
  {
   "cell_type": "code",
   "execution_count": 127,
   "metadata": {},
   "outputs": [
    {
     "data": {
      "text/plain": [
       "3"
      ]
     },
     "execution_count": 127,
     "metadata": {},
     "output_type": "execute_result"
    }
   ],
   "source": [
    "temp"
   ]
  },
  {
   "cell_type": "markdown",
   "metadata": {},
   "source": [
    "## 13.3 장점\n",
    "\n",
    "**코드의 중복을 최소화 및 재사용성 향상**\n",
    "\n",
    "<br>\n",
    "\n",
    "```python\n",
    "def say_hello():\n",
    "    print(\"Hello\")\n",
    "```\n",
    "<br>\n",
    "\n",
    "위의 코드를 대신하여 아래와 같이 사용할 수 있을 것\n",
    "\n",
    "<br>\n",
    "\n",
    "```python\n",
    "def say_hello(name):\n",
    "    print(\"Nice to meet you\")\n",
    "    print(\"Hello\")\n",
    "```\n",
    "\n",
    "<br>\n",
    "\n",
    "프로젝트 규모가 커지면 이러한 방식으로 함수를 하나하나 찾아가 <br>\n",
    "앞뒤로 같은 로직을 추가하는 것은 중복이 많아지고 실수 유발 가능성이 높음 <br>\n",
    "이 경우 decorator 하나만 붙이면 중복을 최소화 할 수 있고 가독성을 높히리 수 있음 <br>\n",
    "추가적으로 수정이 필요할 때도 데코레이터만 수정하면 되어 유지보수 용이 <br>"
   ]
  },
  {
   "cell_type": "markdown",
   "metadata": {},
   "source": [
    "## 13.4 단점\n",
    "\n",
    "데코레이터 중첩 사용 시 에러 발생 지점을 tracking하기 어려울 수 있음 <br>\n",
    "또한, 무분별한 사용은 코드 가독성을 오히려 떨어뜨릴 수 있음 <br>"
   ]
  },
  {
   "cell_type": "code",
   "execution_count": 129,
   "metadata": {},
   "outputs": [],
   "source": [
    "import time\n",
    "\n",
    "ANSWER = 21\n",
    "\n",
    "def playtime(func):\n",
    "    def wrapper():\n",
    "        start_time = time.time()\n",
    "        func()\n",
    "        end_time = time.time() - start_time\n",
    "\n",
    "        return end_time\n",
    "    return wrapper\n",
    "\n",
    "def input_integer():\n",
    "    try:\n",
    "        user_input_number = int(input('Enter number: '))\n",
    "        return user_input_number\n",
    "    except:\n",
    "        return input_integer()\n",
    "\n",
    "@playtime\n",
    "def game():\n",
    "    trial = 0\n",
    "    while True:\n",
    "        trial += 1\n",
    "\n",
    "        if trial > 3:\n",
    "            print('exceed maximum trial')\n",
    "            break\n",
    "\n",
    "        user_input_number = input_integer()\n",
    "\n",
    "        if user_input_number == ANSWER:    \n",
    "            print(f'{trial}th trial. Correct')\n",
    "            break\n",
    "        \n",
    "        print(f'{trial}th trial. Incorrect')\n",
    "\n"
   ]
  },
  {
   "cell_type": "code",
   "execution_count": 130,
   "metadata": {},
   "outputs": [
    {
     "name": "stdout",
     "output_type": "stream",
     "text": [
      "1th trial. Incorrect\n",
      "2th trial. Correct\n"
     ]
    }
   ],
   "source": [
    "play_time = game()"
   ]
  },
  {
   "cell_type": "code",
   "execution_count": 131,
   "metadata": {},
   "outputs": [
    {
     "data": {
      "text/plain": [
       "4.36972451210022"
      ]
     },
     "execution_count": 131,
     "metadata": {},
     "output_type": "execute_result"
    }
   ],
   "source": [
    "play_time"
   ]
  }
 ],
 "metadata": {
  "kernelspec": {
   "display_name": "post_tips",
   "language": "python",
   "name": "python3"
  },
  "language_info": {
   "codemirror_mode": {
    "name": "ipython",
    "version": 3
   },
   "file_extension": ".py",
   "mimetype": "text/x-python",
   "name": "python",
   "nbconvert_exporter": "python",
   "pygments_lexer": "ipython3",
   "version": "3.12.4"
  }
 },
 "nbformat": 4,
 "nbformat_minor": 2
}
