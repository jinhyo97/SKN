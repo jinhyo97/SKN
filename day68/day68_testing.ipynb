{
 "cells": [
  {
   "cell_type": "markdown",
   "metadata": {
    "vscode": {
     "languageId": "plaintext"
    }
   },
   "source": [
    "# Library"
   ]
  },
  {
   "cell_type": "code",
   "execution_count": null,
   "metadata": {
    "vscode": {
     "languageId": "plaintext"
    }
   },
   "outputs": [],
   "source": []
  },
  {
   "cell_type": "markdown",
   "metadata": {},
   "source": [
    "# Software Engineering"
   ]
  },
  {
   "cell_type": "markdown",
   "metadata": {},
   "source": [
    "## Testing"
   ]
  },
  {
   "cell_type": "markdown",
   "metadata": {
    "vscode": {
     "languageId": "plaintext"
    }
   },
   "source": [
    "### Testing\n",
    "\n",
    "소프트웨어 테스팅은 소프트웨어의 품질을 평가하고, 운영 중 소프트웨어 장애의 발생 가능성을 줄이는 하나의 방법 <br>\n",
    "\n",
    "<br>\n",
    "\n",
    "<font style=\"font-size:18px\"> 테스팅의 필요성 </font> <br>\n",
    "\n",
    "운영 중 장애 발생 가능성을 줄이기 위해. <br>\n",
    "계약/법적 요구사항이나 특정 산업 표준을 만족시키기 위해. <br>\n",
    "컴포넌트나 시스템의 품질에 기여. <br>\n",
    "\n",
    "올바르게 동작하지 않는 소프트웨어는 금전, 시간, 비즈니스 평판 손실은 물론, 심하게는 부상이나 사망에 이르기까지 심각한 문제를 일으킬 수 있음. <br>\n",
    "ex) 에어버스의 A400M 군 수송기 추락\n",
    "\n",
    "<br>\n",
    "\n",
    "S\\W testing은 크게 **Black-Box Test**와 **White-Box Test**로 구분 <br>\n",
    "\n",
    "<br>\n",
    "\n",
    "||Black-Box|White-Box|\n",
    "|-|---------|---------|\n",
    "|내용|내부가 어떻게 돌아가는지 볼 수 없음 <br> 외부 사용자 관점에서 테스트|프로그램 코드를 보고 소프트웨어 기능 테스트 <br> 코드, 프로그램 구조 등 테스트|\n",
    "|주체|QA (Quality Assurance)|개발자|\n",
    "\n",
    "<br>\n",
    "\n",
    "테스트가 접근하는 레벨에 따라 아래와 같이 분류\n",
    "\n",
    "|분류|내용|\n",
    "|----|-----------|\n",
    "|Unit|프로그램을 구성하는 기본 단위 테스트 <br> 코드 일부분을 독립 실행한 결괏값과 예상값이 일치하는지 검증|\n",
    "|Integration|여러 컴포넌트 간 상호 작용 테스트 <br> Regression: 기능 추가나 버그 수정 등의 업데이트 시 기존 기능에 부정적 영향을 미치는지 테스트|\n",
    "|System|통합된 하나의 시스템에 대해 요구 스펙을 만족하는지 테스트 <br> 기능적, 비기능적 테스트 포함|"
   ]
  },
  {
   "cell_type": "markdown",
   "metadata": {
    "vscode": {
     "languageId": "plaintext"
    }
   },
   "source": [
    "### Quality Assurance\n",
    "\n",
    "**품질 관리**\n",
    "\n",
    "품질 측면에서 조직이 나아가야 하는 방향을 제시하고 제어하는 모든 활동 <br>\n",
    "품질 보증과 품질 제어를 포함한 여러 활동 포함 <br>\n",
    "\n",
    "<br>\n",
    "\n",
    "**품질 보증**\n",
    "\n",
    "적절한 품질 수준을 달성했는지 확신을 얻기 위해 적절한 프로세스를 준 수하도록 하는 것에 집중 <br>\n",
    "&nbsp;&nbsp;&nbsp;&nbsp;ex) 테스팅이 올바르게 적용되고 있는지 <br>\n",
    "프로세스를 바탕으로 생성되는 작업 산출물의 품질은 높은 경우가 많음 <br>\n",
    "-> 높은 작업 산출물 품질은 결함 예방에 도움 <br>\n",
    "근본 원인 분석과 회고 회의의 결과로 프로세스를 개선하는 것은 효과적인 품질 보증에 매우 중요한 사항 <br>\n",
    "\n",
    "<br>\n",
    "\n",
    "**품질 제어**\n",
    "\n",
    "품질 요구사항을 준수하는 데 중점을 둔 운영상의 기술과 활동 <br>\n",
    "테스트 활동은 여러 가지 품질 제어 활동 중 하나로 전반적인 소프트웨어 개발 및 유지보수 프로세스에 포함 <br>\n"
   ]
  },
  {
   "cell_type": "markdown",
   "metadata": {},
   "source": [
    "## Code\n",
    "\n",
    "python에서는 unittest를 통해서 white-box test 진행. <br>\n",
    ".py파일을 만들어 실행. <br>\n",
    "\n",
    "unittest.TestCase라는 class를 상속받아 class 생성. <br>\n",
    "이후 테스트하고자 하는 기능을 함수로 만들어 검증. <br>\n",
    "다수의 클래스를 사용하는 것도 가능. <br>\n",
    "unittest.main()을 실행하여 스크립트 내 모든 클래스의 test case 실행. <br>\n",
    "method 이름 작성 시 test와 setup을 구분\n",
    "- test_xxx: test를 진행할 함수, **test로 시작하지 않는 method는 testing하지 않음**\n",
    "- setUp: test 진행을 위해 사전에 준비되어야 할 코드 실행 <br>\n",
    "ex) data load, preprocessing 등 <br>\n",
    "\n",
    "사용되는 method 아래와 같음. <br>\n",
    "\n",
    "| 메서드               | 검사하는 내용         | 추가된 버전 |\n",
    "|----------------------|-----------------------|-------------|\n",
    "| assertEqual(a, b)    | a == b                |             |\n",
    "| assertNotEqual(a, b) | a != b                |             |\n",
    "| assertTrue(x)        | bool(x) is True       |             |\n",
    "| assertFalse(x)       | bool(x) is False      |             |\n",
    "| assertIs(a, b)       | a is b                | 3.1         |\n",
    "| assertIsNot(a, b)    | a is not b            | 3.1         |\n",
    "| assertIsNone(x)      | x is None             | 3.1         |\n",
    "| assertIsNotNone(x)   | x is not None         | 3.1         |\n",
    "| assertIn(a, b)       | a in b                | 3.1         |\n",
    "| assertNotIn(a, b)    | a not in b            | 3.1         |\n",
    "| assertIsInstance(a, b) | isinstance(a, b)    | 3.2         |\n",
    "| assertNotIsInstance(a, b) | not isinstance(a, b) | 3.2     |\n",
    "\n",
    "<br>\n",
    "\n",
    "<font style=\"font-size:18px\"> Code </font>\n",
    "\n",
    "> ```python\n",
    "> class TestStringMethods(unittest.TestCase):\n",
    ">     def test_upper(self):\n",
    ">         self.assertEqual('foo'.upper(), 'FOO')\n",
    ">\n",
    ">     def test_isupper(self):\n",
    ">         self.assertTrue('FOO'.isupper())\n",
    ">         self.assertFalse('Foo'.isupper())\n",
    ">\n",
    ">     def test_split(self):\n",
    ">         s = 'hello world'\n",
    ">         self.assertEqual(s.split(), ['hello', 'world'])\n",
    ">\n",
    ">         with self.assertRaises(TypeError):\n",
    ">             s.split(2)\n",
    "> \n",
    "> \n",
    "> if __name__ == '__main__':\n",
    ">     unittest.main()\n",
    "> ```"
   ]
  }
 ],
 "metadata": {
  "kernelspec": {
   "display_name": "nlp",
   "language": "python",
   "name": "python3"
  },
  "language_info": {
   "codemirror_mode": {
    "name": "ipython",
    "version": 3
   },
   "file_extension": ".py",
   "mimetype": "text/x-python",
   "name": "python",
   "nbconvert_exporter": "python",
   "pygments_lexer": "ipython3",
   "version": "3.10.14"
  }
 },
 "nbformat": 4,
 "nbformat_minor": 2
}
