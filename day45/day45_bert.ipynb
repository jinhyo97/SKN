{
 "cells": [
  {
   "cell_type": "markdown",
   "metadata": {},
   "source": [
    "# Library"
   ]
  },
  {
   "cell_type": "code",
   "execution_count": 1,
   "metadata": {},
   "outputs": [
    {
     "name": "stderr",
     "output_type": "stream",
     "text": [
      "c:\\ProgramData\\anaconda3\\envs\\nlp\\lib\\site-packages\\tqdm\\auto.py:21: TqdmWarning: IProgress not found. Please update jupyter and ipywidgets. See https://ipywidgets.readthedocs.io/en/stable/user_install.html\n",
      "  from .autonotebook import tqdm as notebook_tqdm\n"
     ]
    },
    {
     "name": "stdout",
     "output_type": "stream",
     "text": [
      "WARNING:tensorflow:From C:\\Users\\USER\\AppData\\Roaming\\Python\\Python310\\site-packages\\tf_keras\\src\\losses.py:2976: The name tf.losses.sparse_softmax_cross_entropy is deprecated. Please use tf.compat.v1.losses.sparse_softmax_cross_entropy instead.\n",
      "\n"
     ]
    }
   ],
   "source": [
    "import pandas as pd\n",
    "import numpy as np\n",
    "\n",
    "import torch\n",
    "import torch.nn as nn\n",
    "import torch.nn.functional as F\n",
    "from datasets import load_dataset\n",
    "from torch.utils.data import Dataset\n",
    "from tokenizers import BertWordPieceTokenizer, Tokenizer\n",
    "from transformers import (\n",
    "    BertTokenizer,\n",
    "    BertForMaskedLM,\n",
    "    BertForSequenceClassification,\n",
    "    BertForQuestionAnswering,\n",
    "    BertConfig,\n",
    "    Trainer,\n",
    "    TrainingArguments,\n",
    ")"
   ]
  },
  {
   "cell_type": "markdown",
   "metadata": {},
   "source": [
    "# BERT\n",
    "\n",
    "reference: [BERT](https://wikidocs.net/115055) <br>\n",
    "paper: [BERT](https://arxiv.org/pdf/1810.04805) "
   ]
  },
  {
   "cell_type": "markdown",
   "metadata": {},
   "source": [
    "## Implementation"
   ]
  },
  {
   "cell_type": "code",
   "execution_count": 29,
   "metadata": {},
   "outputs": [],
   "source": [
    "def scaled_dot_product_attention(query, key, value, mask=None):\n",
    "    matmul_qk = query @ key.transpose(-2, -1)\n",
    "    depth = query.shape[-1]\n",
    "\n",
    "    logits = matmul_qk / np.sqrt(depth)\n",
    "\n",
    "    if mask is not None:\n",
    "        logits += (mask * -1e9)\n",
    "\n",
    "    attention_weights = F.softmax(logits, dim=1)\n",
    "    output = attention_weights @ value\n",
    "\n",
    "    return output, attention_weights\n",
    "\n",
    "\n",
    "class MultiheadAttention(nn.Module):\n",
    "    def __init__(self, d_model: int, num_heads: int):\n",
    "        super().__init__()\n",
    "        self.d_model = d_model\n",
    "        self.num_heads = num_heads\n",
    "\n",
    "        assert self.d_model%self.num_heads == 0\n",
    "\n",
    "        self.depth = self.d_model // self.num_heads\n",
    "\n",
    "        self.query_dense = nn.Linear(self.d_model, self.d_model)\n",
    "        self.key_dense = nn.Linear(self.d_model, self.d_model)\n",
    "        self.value_dense = nn.Linear(self.d_model, self.d_model)\n",
    "\n",
    "        self.dense = nn.Linear(self.d_model, self.d_model)\n",
    "    \n",
    "    def forward(self, inputs: dict):\n",
    "        query, key, value = inputs.get('query'), inputs.get('key'), inputs.get('value')\n",
    "        mask = inputs.get('mask')\n",
    "        batch_size, seq_len = query.shape[:2]\n",
    "\n",
    "        query = self.query_dense(query) # batch_size, seq_len, dim\n",
    "        key = self.key_dense(key)\n",
    "        value = self.value_dense(value)\n",
    "\n",
    "        query = query.reshape(batch_size, seq_len, self.num_heads, self.depth)  # batch, seq_len, num_heads, depth\n",
    "        key = key.reshape(batch_size, seq_len, self.num_heads, self.depth)\n",
    "        value = value.reshape(batch_size, seq_len, self.num_heads, self.depth)\n",
    "\n",
    "        query = query.permute(0, 2, 1, 3)   # batch, num_heads, seq_len, depth\n",
    "        key = key.permute(0, 2, 1, 3)\n",
    "        value = value.permute(0, 2, 1, 3)\n",
    "\n",
    "        scaled_attention, _ = scaled_dot_product_attention(query, key, value, mask)   # batch, num_heads, seq_len, depth\n",
    "        scaled_attention = scaled_attention.permute(0, 2, 1, 3)                 # batch, seq_len, num_heads, depth\n",
    "        concat_attention = scaled_attention.reshape(batch_size, seq_len, self.d_model)  # batch, seq_len, dim\n",
    "\n",
    "        outputs = self.dense(concat_attention)  # batch, seq_len, dim\n",
    "\n",
    "        return outputs\n",
    "\n",
    "\n",
    "class EncoderLayer(nn.Module):\n",
    "    def __init__(self, d_model: int, d_ff: int, num_heads: int, dropout_ratio: float):    \n",
    "        super().__init__()\n",
    "        self.d_model = d_model\n",
    "        self.d_ff = d_ff\n",
    "        self.num_heads = num_heads\n",
    "        self.dropout_ratio = dropout_ratio\n",
    "\n",
    "        self.multi_head_attention = MultiheadAttention(self.d_model, self.num_heads)\n",
    "        self.dropout1 = nn.Dropout(self.dropout_ratio)\n",
    "        self.layer_norm1 = nn.LayerNorm(self.d_model)\n",
    "\n",
    "        self.ffn = nn.Sequential(\n",
    "            nn.Linear(self.d_model, self.d_ff),\n",
    "            nn.ReLU(),\n",
    "            nn.Linear(self.d_ff, self.d_model),\n",
    "        )\n",
    "\n",
    "        self.dropout2 = nn.Dropout(self.dropout_ratio)\n",
    "        self.layer_norm2 = nn.LayerNorm(self.d_model)\n",
    "\n",
    "    def forward(self, x, mask=None):\n",
    "        inputs = {'query': x, 'key': x, 'value': x, 'mask': mask}\n",
    "        x_multi_head_output = self.multi_head_attention(inputs)\n",
    "        x_multi_head_output = self.dropout1(x_multi_head_output)\n",
    "        x = self.layer_norm1(x_multi_head_output + x)\n",
    "        \n",
    "        ffn_output = self.ffn(x)\n",
    "        ffn_output = self.dropout2(ffn_output)\n",
    "        output = self.layer_norm2(x + ffn_output)\n",
    "\n",
    "        return output\n",
    "\n",
    "\n",
    "class BERT(nn.Module):\n",
    "    def __init__(\n",
    "        self,\n",
    "        seq_len: int,\n",
    "        vocab_size: int,\n",
    "        num_layers: int,\n",
    "        d_model: int,\n",
    "        d_ff: int,\n",
    "        num_heads: int,\n",
    "        dropout_ratio: float,\n",
    "        ):\n",
    "        super().__init__()\n",
    "        self.seq_len = seq_len\n",
    "        self.vocab_size = vocab_size\n",
    "        self.num_layers = num_layers\n",
    "        self.d_model = d_model\n",
    "        self.d_ff = d_ff\n",
    "        self.num_heads = num_heads\n",
    "        self.dropout_ratio = dropout_ratio\n",
    "\n",
    "        self.embedding = nn.Embedding(self.vocab_size, self.d_model)\n",
    "        self.positional_embedding = nn.Embedding(self.seq_len, self.d_model)\n",
    "        self.segment_embedding = nn.Embedding(2, self.d_model)\n",
    "        self.encoder_layers = nn.ModuleList([\n",
    "            EncoderLayer(self.d_model, self.d_ff, self.num_heads, self.dropout_ratio)\n",
    "            for _ in range(self.num_layers)\n",
    "        ])\n",
    "    \n",
    "    def forward(self, x, mask=None):\n",
    "        x = self.embedding(x)\n",
    "        x *= (self.d_model ** 0.5)\n",
    "\n",
    "        positional_encoding = (torch.ones(x.shape[:2]).cumsum(axis=1)-1).long()\n",
    "        positional_embedding = self.positional_embedding(positional_encoding)\n",
    "        x += positional_embedding\n",
    "\n",
    "        segment_encoding = torch.zeros(x.shape[:2]).long()\n",
    "        segment_embedding = self.segment_embedding(segment_encoding)\n",
    "        x += segment_embedding\n",
    "\n",
    "        for encoder_layer in self.encoder_layers:\n",
    "            x = encoder_layer(x, mask)\n",
    "        output = x\n",
    "\n",
    "        return output"
   ]
  },
  {
   "cell_type": "code",
   "execution_count": 31,
   "metadata": {},
   "outputs": [
    {
     "data": {
      "text/plain": [
       "tensor([[[-0.2906, -0.6584,  1.9619,  ..., -1.0357, -0.2678,  0.5728],\n",
       "         [-0.0104, -1.9197,  1.0588,  ..., -0.2179, -1.6125, -0.0701],\n",
       "         [ 0.5030,  0.0756,  1.1953,  ...,  0.5741, -1.0067,  1.6260],\n",
       "         ...,\n",
       "         [-0.1088, -0.2704,  0.4653,  ..., -0.2513, -1.8823, -0.3770],\n",
       "         [ 0.6014, -1.2329,  0.6875,  ..., -0.1052, -1.5198,  0.4144],\n",
       "         [ 0.1390, -1.5423,  0.5434,  ..., -0.9341, -0.8175, -0.2473]],\n",
       "\n",
       "        [[ 0.2578,  0.4389, -0.5429,  ..., -1.3440,  0.8259, -0.4212],\n",
       "         [-0.2401, -0.3437, -0.2433,  ..., -1.4168, -0.0399,  0.1204],\n",
       "         [ 1.0967, -0.4443,  0.7128,  ..., -1.0174,  1.0468,  0.8848],\n",
       "         ...,\n",
       "         [-0.5167, -0.3882, -0.8720,  ...,  0.1111,  0.3167, -0.2946],\n",
       "         [ 0.3027, -1.2595,  0.0768,  ..., -0.4451,  0.6046, -0.4611],\n",
       "         [-0.8294,  0.0169,  0.5167,  ..., -0.1644,  0.0142,  1.4447]],\n",
       "\n",
       "        [[ 0.4527, -0.6503,  0.2345,  ..., -0.1982, -1.2915,  0.1563],\n",
       "         [ 0.8184, -0.3630,  0.5080,  ...,  0.0506, -2.1922, -0.6322],\n",
       "         [-0.0122, -1.5273, -0.0720,  ..., -0.7974,  0.8421, -0.1471],\n",
       "         ...,\n",
       "         [ 0.5828, -1.8357,  0.0101,  ..., -0.5347, -1.9473, -0.0345],\n",
       "         [ 0.3667, -1.7582,  0.4395,  ..., -0.5286, -0.4925,  0.4165],\n",
       "         [ 0.4657, -0.2505,  0.0743,  ..., -0.3132, -0.7355,  0.6427]],\n",
       "\n",
       "        ...,\n",
       "\n",
       "        [[-0.4044, -0.2696,  0.4547,  ..., -0.1074,  0.9727, -0.3274],\n",
       "         [-0.5282,  0.9650,  0.9927,  ...,  0.6619, -1.2222, -0.7259],\n",
       "         [-0.9619,  0.6906,  0.5773,  ..., -0.2720, -0.9622, -1.6032],\n",
       "         ...,\n",
       "         [-0.5100, -0.3866, -0.0814,  ...,  1.1811, -1.4567,  0.1354],\n",
       "         [-0.3501,  0.7796,  0.9380,  ..., -0.5421, -0.6814, -0.7379],\n",
       "         [-0.0719, -0.4953,  0.5538,  ...,  0.2205,  0.4269, -1.1032]],\n",
       "\n",
       "        [[-0.7419, -0.1704, -0.2386,  ..., -0.3798, -0.1979, -1.2759],\n",
       "         [ 0.6489,  0.7216, -0.3562,  ..., -1.0322, -0.2352, -1.5169],\n",
       "         [ 0.0531, -0.3115, -0.3216,  ..., -0.5997,  0.4267, -0.3240],\n",
       "         ...,\n",
       "         [ 0.1741, -1.1247, -0.7723,  ..., -1.0475,  0.1056,  0.4499],\n",
       "         [ 0.4444,  1.2710, -0.1278,  ..., -1.1978,  0.6895, -0.6125],\n",
       "         [-0.8415, -0.0741, -0.2348,  ...,  0.0536,  0.8047, -1.2049]],\n",
       "\n",
       "        [[-1.6387, -0.5787, -0.1786,  ...,  0.4818, -0.3913, -0.7811],\n",
       "         [-0.3765,  0.3349,  0.6212,  ...,  0.1840, -0.0755, -0.5575],\n",
       "         [ 0.2740,  0.3620, -0.3207,  ..., -0.0469,  0.2823, -1.4063],\n",
       "         ...,\n",
       "         [-0.2132, -0.1030, -0.6525,  ...,  0.1878,  0.0059, -1.2033],\n",
       "         [-0.1420, -0.2182,  0.3035,  ...,  0.1657, -0.3726, -0.8626],\n",
       "         [ 0.0520, -0.0337,  0.1039,  ...,  1.5883, -0.1269, -1.1709]]],\n",
       "       grad_fn=<NativeLayerNormBackward0>)"
      ]
     },
     "execution_count": 31,
     "metadata": {},
     "output_type": "execute_result"
    }
   ],
   "source": [
    "x = torch.randint(0, 1000, (32, 20))\n",
    "x\n",
    "\n",
    "bert = BERT(20, 1000, 12, 768, 2048, 12, 0.1)\n",
    "bert(x)"
   ]
  },
  {
   "cell_type": "markdown",
   "metadata": {},
   "source": [
    "## Pre-training"
   ]
  },
  {
   "cell_type": "markdown",
   "metadata": {},
   "source": [
    "### Tokenizer"
   ]
  },
  {
   "cell_type": "code",
   "execution_count": null,
   "metadata": {},
   "outputs": [],
   "source": []
  },
  {
   "cell_type": "markdown",
   "metadata": {},
   "source": [
    "### Pre-training"
   ]
  },
  {
   "cell_type": "code",
   "execution_count": null,
   "metadata": {},
   "outputs": [],
   "source": []
  },
  {
   "cell_type": "markdown",
   "metadata": {},
   "source": [
    "## Fine-tuning"
   ]
  },
  {
   "cell_type": "markdown",
   "metadata": {},
   "source": [
    "### Sentiment Analysis"
   ]
  },
  {
   "cell_type": "code",
   "execution_count": 32,
   "metadata": {},
   "outputs": [
    {
     "name": "stderr",
     "output_type": "stream",
     "text": [
      "C:\\Users\\USER\\AppData\\Roaming\\Python\\Python310\\site-packages\\huggingface_hub\\file_download.py:147: UserWarning: `huggingface_hub` cache-system uses symlinks by default to efficiently store duplicated files but your machine does not support them in C:\\Users\\USER\\.cache\\huggingface\\hub\\datasets--imdb. Caching files will still work but in a degraded version that might require more space on your disk. This warning can be disabled by setting the `HF_HUB_DISABLE_SYMLINKS_WARNING` environment variable. For more details, see https://huggingface.co/docs/huggingface_hub/how-to-cache#limitations.\n",
      "To support symlinks on Windows, you either need to activate Developer Mode or to run Python as an administrator. In order to activate developer mode, see this article: https://docs.microsoft.com/en-us/windows/apps/get-started/enable-your-device-for-development\n",
      "  warnings.warn(message)\n",
      "Generating train split: 100%|██████████| 25000/25000 [00:00<00:00, 314271.41 examples/s]\n",
      "Generating test split: 100%|██████████| 25000/25000 [00:00<00:00, 400721.51 examples/s]\n",
      "Generating unsupervised split: 100%|██████████| 50000/50000 [00:00<00:00, 426128.28 examples/s]\n"
     ]
    }
   ],
   "source": [
    "dataset = load_dataset('imdb')"
   ]
  },
  {
   "cell_type": "code",
   "execution_count": 63,
   "metadata": {},
   "outputs": [],
   "source": [
    "train_data = dataset['train'].select(range(2000))\n",
    "eval_data = dataset['test'].select(range(2000))"
   ]
  },
  {
   "cell_type": "code",
   "execution_count": 64,
   "metadata": {},
   "outputs": [],
   "source": [
    "model_name = 'bert-base-uncased'\n",
    "tokenizer = BertTokenizer.from_pretrained(model_name)\n",
    "\n",
    "def preprocessing(row):\n",
    "    return tokenizer(row['text'], truncation=True, max_length=256, padding='max_length')\n",
    "\n",
    "tokenized_train_data = train_data.map(preprocessing, batched=True)\n",
    "tokenized_eval_data = eval_data.map(preprocessing, batched=True)"
   ]
  },
  {
   "cell_type": "code",
   "execution_count": 73,
   "metadata": {},
   "outputs": [],
   "source": [
    "train_data = [\n",
    "    {'input_ids': row.get('input_ids'),\n",
    "     'token_type_ids': row.get('token_type_ids'),\n",
    "     'attention_mask': row.get('attention_mask'),\n",
    "     'label': row.get('label'),\n",
    "    } for row in tokenized_train_data\n",
    "]\n",
    "eval_data = [\n",
    "    {'input_ids': row.get('input_ids'),\n",
    "     'token_type_ids': row.get('token_type_ids'),\n",
    "     'attention_mask': row.get('attention_mask'),\n",
    "     'label': row.get('label'),\n",
    "    } for row in tokenized_eval_data\n",
    "]\n",
    "\n",
    "class IMDBDataset(Dataset):\n",
    "    def __init__(self, data):\n",
    "        self.data = data\n",
    "    \n",
    "    def __len__(self):\n",
    "        return len(self.data)\n",
    "    \n",
    "    def __getitem__(self, idx):\n",
    "        return {\n",
    "            'input_ids': self.data[idx].get('input_ids'),\n",
    "            'attention_mask': self.data[idx].get('attention_mask'),\n",
    "            'labels': self.data[idx].get('label'),\n",
    "        }\n",
    "\n",
    "train_dataset = IMDBDataset(train_data)\n",
    "eval_dataset = IMDBDataset(eval_data)"
   ]
  },
  {
   "cell_type": "code",
   "execution_count": null,
   "metadata": {},
   "outputs": [],
   "source": [
    "training_args = TrainingArguments(\n",
    "    output_dir='./results',\n",
    "    eval_strategy='epoch',\n",
    "    learning_rate=2e-5,\n",
    "    per_device_train_batch_size=16,\n",
    "    per_device_eval_batch_size=16,\n",
    "    num_train_epochs=2,\n",
    "    weight_decay=0.01,\n",
    ")\n",
    "\n",
    "model = BertForSequenceClassification.from_pretrained(model_name)\n",
    "trainer = Trainer(\n",
    "    model=model,\n",
    "    args=training_args,\n",
    "    train_dataset=train_dataset,\n",
    "    eval_dataset=eval_dataset,\n",
    ")\n",
    "trainer.train()"
   ]
  },
  {
   "cell_type": "markdown",
   "metadata": {},
   "source": [
    "#### 유튜브"
   ]
  },
  {
   "cell_type": "code",
   "execution_count": 77,
   "metadata": {},
   "outputs": [
    {
     "data": {
      "text/plain": [
       "('data/ratings_test.txt', <http.client.HTTPMessage at 0x25b7b31fa30>)"
      ]
     },
     "execution_count": 77,
     "metadata": {},
     "output_type": "execute_result"
    }
   ],
   "source": [
    "import urllib.request\n",
    "\n",
    "urllib.request.urlretrieve(\n",
    "    'https://raw.githubusercontent.com/e9t/nsmc/refs/heads/master/ratings_train.txt',\n",
    "    filename='data/ratings_train.txt',\n",
    ")\n",
    "urllib.request.urlretrieve(\n",
    "    'https://raw.githubusercontent.com/e9t/nsmc/refs/heads/master/ratings_test.txt',\n",
    "    filename='data/ratings_test.txt',\n",
    ")"
   ]
  },
  {
   "cell_type": "code",
   "execution_count": 2,
   "metadata": {},
   "outputs": [],
   "source": [
    "train = pd.read_table('data/ratings_train.txt', usecols=['document', 'label']).iloc[:5000]\n",
    "valid = pd.read_table('data/ratings_test.txt', usecols=['document', 'label']).iloc[:5000]"
   ]
  },
  {
   "cell_type": "code",
   "execution_count": 3,
   "metadata": {},
   "outputs": [],
   "source": [
    "tokenizer = BertTokenizer.from_pretrained('google-bert/bert-base-multilingual-uncased')"
   ]
  },
  {
   "cell_type": "code",
   "execution_count": 4,
   "metadata": {},
   "outputs": [
    {
     "data": {
      "text/plain": [
       "<Axes: >"
      ]
     },
     "execution_count": 4,
     "metadata": {},
     "output_type": "execute_result"
    },
    {
     "data": {
      "image/png": "[encoded data removed]",
      "text/plain": [
       "<Figure size 640x480 with 1 Axes>"
      ]
     },
     "metadata": {},
     "output_type": "display_data"
    }
   ],
   "source": [
    "train['tokenized_comment'] = train.document.apply(lambda x: tokenizer(x))\n",
    "valid['tokenized_comment'] = valid.document.apply(lambda x: tokenizer(x))\n",
    "train.tokenized_comment.apply(lambda x: x.get('input_ids')).apply(len).hist()"
   ]
  },
  {
   "cell_type": "code",
   "execution_count": 6,
   "metadata": {},
   "outputs": [],
   "source": [
    "tokenized_train_comment = tokenizer(\n",
    "    train.document.tolist(),\n",
    "    return_tensors='pt',\n",
    "    padding='max_length',\n",
    "    max_length=100,\n",
    "    truncation=True,\n",
    ")\n",
    "tokenized_valid_comment = tokenizer(\n",
    "    valid.document.tolist(),\n",
    "    return_tensors='pt',\n",
    "    padding='max_length',\n",
    "    max_length=100,\n",
    "    truncation=True,\n",
    ")\n",
    "\n",
    "train_data = [\n",
    "    {'input_ids': input_ids,\n",
    "     'token_type_ids': token_type_ids,\n",
    "     'attention_mask': attention_mask,\n",
    "     'label': label,\n",
    "    } \n",
    "    for input_ids, token_type_ids, attention_mask, label \n",
    "    in zip(tokenized_train_comment.get('input_ids'),\n",
    "           tokenized_train_comment.get('token_type_ids'),\n",
    "           tokenized_train_comment.get('attention_mask'),\n",
    "           train.label.values)\n",
    "]\n",
    "\n",
    "eval_data = [\n",
    "    {'input_ids': input_ids,\n",
    "     'token_type_ids': token_type_ids,\n",
    "     'attention_mask': attention_mask,\n",
    "     'label': label,\n",
    "    } \n",
    "    for input_ids, token_type_ids, attention_mask, label \n",
    "    in zip(tokenized_valid_comment.get('input_ids'),\n",
    "           tokenized_valid_comment.get('token_type_ids'),\n",
    "           tokenized_valid_comment.get('attention_mask'),\n",
    "           train.label.values)\n",
    "]\n",
    "\n",
    "class CommentDataset(Dataset):\n",
    "    def __init__(self, data):\n",
    "        self.data = data\n",
    "    \n",
    "    def __len__(self):\n",
    "        return len(self.data)\n",
    "    \n",
    "    def __getitem__(self, idx):\n",
    "        return {\n",
    "            'input_ids': self.data[idx].get('input_ids'),\n",
    "            'attention_mask': self.data[idx].get('attention_mask'),\n",
    "            'labels': self.data[idx].get('label'),\n",
    "        }\n",
    "\n",
    "train_dataset = CommentDataset(train_data)\n",
    "eval_dataset = CommentDataset(eval_data)"
   ]
  },
  {
   "cell_type": "code",
   "execution_count": null,
   "metadata": {},
   "outputs": [],
   "source": [
    "training_args = TrainingArguments(\n",
    "    output_dir='./results',\n",
    "    eval_strategy='epoch',\n",
    "    learning_rate=2e-5,\n",
    "    per_device_train_batch_size=16,\n",
    "    per_device_eval_batch_size=16,\n",
    "    num_train_epochs=2,\n",
    "    weight_decay=0.01,\n",
    ")\n",
    "\n",
    "model = BertForSequenceClassification.from_pretrained('google-bert/bert-base-multilingual-uncased')\n",
    "trainer = Trainer(\n",
    "    model=model,\n",
    "    args=training_args,\n",
    "    train_dataset=train_dataset,\n",
    "    eval_dataset=eval_dataset,\n",
    ")\n",
    "trainer.train()"
   ]
  },
  {
   "cell_type": "code",
   "execution_count": 24,
   "metadata": {},
   "outputs": [
    {
     "data": {
      "text/plain": [
       "tensor([0])"
      ]
     },
     "execution_count": 24,
     "metadata": {},
     "output_type": "execute_result"
    }
   ],
   "source": [
    "model(**tokenizer(valid.document.iloc[3], return_tensors='pt')).logits.argmax(axis=-1)"
   ]
  },
  {
   "cell_type": "markdown",
   "metadata": {},
   "source": [
    "### Natural Language Infernce (NLI)"
   ]
  },
  {
   "cell_type": "code",
   "execution_count": null,
   "metadata": {},
   "outputs": [],
   "source": []
  },
  {
   "cell_type": "markdown",
   "metadata": {},
   "source": [
    "### Question and Answering"
   ]
  },
  {
   "cell_type": "code",
   "execution_count": null,
   "metadata": {},
   "outputs": [],
   "source": []
  }
 ],
 "metadata": {
  "kernelspec": {
   "display_name": "Python 3.10.15 ('nlp')",
   "language": "python",
   "name": "python3"
  },
  "language_info": {
   "codemirror_mode": {
    "name": "ipython",
    "version": 3
   },
   "file_extension": ".py",
   "mimetype": "text/x-python",
   "name": "python",
   "nbconvert_exporter": "python",
   "pygments_lexer": "ipython3",
   "version": "3.10.14"
  },
  "orig_nbformat": 4,
  "vscode": {
   "interpreter": {
    "hash": "1a56403b4074e681ecb36004649c5fb19e7bcf1144081029ba5f2cf549331f5e"
   }
  }
 },
 "nbformat": 4,
 "nbformat_minor": 2
}
