{
  "cells": [
    {
      "cell_type": "markdown",
      "metadata": {
        "id": "0UhoL6nMoWa0"
      },
      "source": [
        "# Library"
      ]
    },
    {
      "cell_type": "code",
      "execution_count": 241,
      "metadata": {
        "id": "whwymZ3zVzH2"
      },
      "outputs": [],
      "source": [
        "import numpy as np\n",
        "import pandas as pd\n",
        "import random\n",
        "from tqdm import tqdm\n",
        "\n",
        "from sklearn.preprocessing import StandardScaler, MinMaxScaler\n",
        "from sklearn.model_selection import train_test_split\n",
        "\n",
        "import torch\n",
        "import torch.nn as nn                               # layers\n",
        "import torch.nn.functional as F\n",
        "import torch.optim as optim                         # optimizer\n",
        "import torchvision.datasets as ds                   # mnist daataset\n",
        "import torchvision.transforms as transforms         # image -> tensor\n",
        "from torch.utils.data import DataLoader, Dataset    # torch dataset\n",
        "\n",
        "import matplotlib.pyplot as plt                     # 시각화\n",
        "import seaborn as sns\n",
        "import plotly.express as px"
      ]
    },
    {
      "cell_type": "markdown",
      "metadata": {
        "id": "tlGXlBEze4XI"
      },
      "source": [
        "# Multi-Layer Pereceptron (MLP)"
      ]
    },
    {
      "cell_type": "markdown",
      "metadata": {
        "id": "OFUsOXCiVzkP"
      },
      "source": [
        "## MLP란?\n",
        "퍼셉트론으로 이루어진 층(layer) 여러 개를 순차적으로 붙여놓은 형태\n",
        "\n",
        "<br>\n",
        "\n",
        "<font style=\"font-size:20px\"> 등장 배경 </font> <p>\n",
        "<font style=\"font-size:16px\"> XOR 게이트 문제 </font> <p>\n",
        "&nbsp;&nbsp;&nbsp;&nbsp;and나 or의 경우 직선 하나로 경계를 확정할 수 있으나 xor에서는 불가 <br>\n",
        "\n",
        "  ![](https://img1.daumcdn.net/thumb/R1280x0/?scode=mtistory2&fname=https%3A%2F%2Fblog.kakaocdn.net%2Fdn%2FNalwG%2FbtqxdrzsQAV%2FUY3iSEDRakKDjoWEpRHRWk%2Fimg.png)\n",
        "\n",
        "<br>\n",
        "\n",
        "<font style=\"font-size:20px\"> 구조 </font> <p>\n",
        "\n",
        "<img src=\"https://ars.els-cdn.com/content/image/1-s2.0-S0925231223004502-gr1.jpg\" width=\"700\" height=\"300\"/>\n",
        "\n",
        "단순 matrix 연산의 반복 <br>\n",
        "> A1 = $\\textbf{W}_1X + \\textbf{b}_1$ <br>\n",
        "> h1 = $\\phi_1$(A1) <br>\n",
        "> A2 = $\\textbf{W}_2\\text{h1} + \\textbf{b}_2 = \\textbf{W}_2\\phi_1(\\textbf{W}_1X + \\textbf{b}_1) + \\textbf{b}_2$ <br>\n",
        "> h2 = $\\phi_2$(A2) = $ \\phi(\\textbf{W}_2\\phi_1(\\textbf{W}_1X + \\textbf{b}_1) + \\textbf{b}_2) $\n",
        "> ...\n",
        "\n",
        "<br>\n",
        "\n",
        "Hidden Layer의 $\\phi$는 activation 함수는 비선형을 목적으로 사용 <br>\n",
        "\n",
        "\n"
      ]
    },
    {
      "cell_type": "markdown",
      "metadata": {
        "id": "aRPTi61Df5IV"
      },
      "source": [
        "## 사용 방법"
      ]
    },
    {
      "cell_type": "markdown",
      "metadata": {},
      "source": [
        "### GPU 사용 확인\n",
        "\n",
        "시스템에서 gpu를 사용할 수 있는지 확인\n",
        "\n",
        "<br>\n",
        "\n",
        "<font style=\"font-size:20px\"> 사용 예제 </font> <p>\n",
        "\n",
        "> ```python\n",
        "> device = 'cuda' if torch.cuda.is_available() else 'cpu'\n",
        "> ```"
      ]
    },
    {
      "cell_type": "code",
      "execution_count": 10,
      "metadata": {},
      "outputs": [],
      "source": [
        "device = 'cuda' if torch.cuda.is_available() else 'cpu'"
      ]
    },
    {
      "cell_type": "markdown",
      "metadata": {},
      "source": [
        "### Seed 고정\n",
        "\n",
        "실험 재현을 위한 난수 고정\n",
        "\n",
        "<br>\n",
        "\n",
        "<font style=\"font-size:20px\"> 사용 예제 </font> <p>\n",
        "\n",
        "> ```python\n",
        "> seed = 0\n",
        "> np.random.seed(seed)\n",
        "> torch.manual_seed(seed)\n",
        "> if device == 'cuda':\n",
        ">     torch.cuda.manual_seed(seed)\n",
        ">     torch.cuda.manual_seed_all(seed)\n",
        ">     torch.backends.cudnn.deterministic = False\n",
        ">     torch.backends.cudnn.benchmark = True\n",
        "> ```"
      ]
    },
    {
      "cell_type": "code",
      "execution_count": 11,
      "metadata": {},
      "outputs": [],
      "source": [
        "seed = 0\n",
        "np.random.seed(seed)\n",
        "torch.manual_seed(seed)\n",
        "if device == 'cuda':\n",
        "    torch.cuda.manual_seed(seed)\n",
        "    torch.cuda.manual_seed_all(seed)\n",
        "    torch.backends.cudnn.deterministic = False\n",
        "    torch.backends.cudnn.benchmark = True"
      ]
    },
    {
      "cell_type": "markdown",
      "metadata": {},
      "source": [
        "### 하이퍼파라미터 설정\n",
        "\n",
        "하이퍼파라미터: 모델에서 학습되지 않는 사용자가 직접 설정해야하는 파라미터 <br>\n",
        "대표적으로는 아래의 파라미터 존재 <br>\n",
        "- batch_size: 전체 데이터 중 데이터를 묶음으로 분할할 건데 몇 개의 묶음으로 분할할지 설정\n",
        "- epoch: 몇 번의 학습을 진행할 것인가\n",
        "- learning_rate: 얼마 만큼의 보폭으로 학습을 진행할 것인가\n"
      ]
    },
    {
      "cell_type": "code",
      "execution_count": 140,
      "metadata": {},
      "outputs": [],
      "source": [
        "batch_size = 32\n",
        "epochs = 100\n",
        "learning_rate = 1e-2"
      ]
    },
    {
      "cell_type": "markdown",
      "metadata": {},
      "source": [
        "### 데이터 전처리"
      ]
    },
    {
      "cell_type": "code",
      "execution_count": 15,
      "metadata": {},
      "outputs": [],
      "source": [
        "def load_planar_dataset():\n",
        "    np.random.seed(1)\n",
        "    m = 400 # number of examples\n",
        "    N = int(m/2) # number of points per class\n",
        "    D = 2 # dimensionality\n",
        "    X = np.zeros((m,D)) # data matrix where each row is a single example\n",
        "    Y = np.zeros((m,1), dtype='uint8') # labels vector (0 for red, 1 for blue)\n",
        "    a = 4 # maximum ray of the flower\n",
        "\n",
        "    for j in range(2):\n",
        "        ix = range(N*j,N*(j+1))\n",
        "        t = np.linspace(j*3.12,(j+1)*3.12,N) + np.random.randn(N)*0.2 # theta\n",
        "        r = a*np.sin(4*t) + np.random.randn(N)*0.2 # radius\n",
        "        X[ix] = np.c_[r*np.sin(t), r*np.cos(t)]\n",
        "        Y[ix] = j\n",
        "\n",
        "    return X, Y"
      ]
    },
    {
      "cell_type": "code",
      "execution_count": 41,
      "metadata": {},
      "outputs": [],
      "source": [
        "X, y = load_planar_dataset()"
      ]
    },
    {
      "cell_type": "markdown",
      "metadata": {},
      "source": [
        "#### 결측치 중복 처리"
      ]
    },
    {
      "cell_type": "code",
      "execution_count": 21,
      "metadata": {},
      "outputs": [
        {
          "name": "stdout",
          "output_type": "stream",
          "text": [
            "num of na: x1    0\n",
            "x2    0\n",
            "y     0\n",
            "dtype: int64\n",
            "num of duplicated: 0\n"
          ]
        }
      ],
      "source": [
        "data = pd.DataFrame(X, columns=['x1', 'x2'])\n",
        "data['y'] = y\n",
        "print(f'num of na: {data.isna().sum()}')\n",
        "print(f'num of duplicated: {data.duplicated().sum()}')"
      ]
    },
    {
      "cell_type": "markdown",
      "metadata": {},
      "source": [
        "#### train, valid, test split\n",
        "\n",
        "<img src=\"https://camo.githubusercontent.com/109b64cb7b6e1b6d912b84a1b6afefa53300033be1df4ed8c4433910f8c328bf/68747470733a2f2f76656c6f672e76656c63646e2e636f6d2f696d616765732f696775762f706f73742f38616538343265332d663262362d343463352d623762662d6131663734623361393132342f696d6167652e706e67\" width=\"500\" height=\"300\"/>\n",
        "\n",
        "<br>\n",
        "<br>\n",
        "\n",
        "<font style=\"font-size:20px\"> 사용 예제 </font> <p>\n",
        "\n",
        "> ```python\n",
        "> X_train, X_temp, y_train, y_temp = train_test_split(\n",
        ">     X, y, test_size=0.6, random_state=seed, shuffle=True)\n",
        "> X_valid, X_test, y_valid, y_test = train_test_split(\n",
        ">     X, y, test_size=0.5, random_state=seed, shuffle=True)\n",
        "> ```"
      ]
    },
    {
      "cell_type": "code",
      "execution_count": 42,
      "metadata": {},
      "outputs": [],
      "source": [
        "X_train, X_temp, y_train, y_temp = train_test_split(\n",
        "    X, y, test_size=0.4, random_state=seed\n",
        ")\n",
        "X_valid, X_test, y_valid, y_test = train_test_split(\n",
        "    X_temp, y_temp, test_size=0.5, random_state=seed\n",
        ")"
      ]
    },
    {
      "cell_type": "code",
      "execution_count": 30,
      "metadata": {},
      "outputs": [
        {
          "data": {
            "text/plain": [
              "(240, 80, 80)"
            ]
          },
          "execution_count": 30,
          "metadata": {},
          "output_type": "execute_result"
        }
      ],
      "source": [
        "len(X_train), len(X_valid), len(X_test)"
      ]
    },
    {
      "cell_type": "markdown",
      "metadata": {},
      "source": [
        "#### scaler 적용\n",
        "\n",
        "일반화 성능을 위해 scaler 적용\n",
        "\n",
        "<br>\n",
        "\n",
        "<font style=\"font-size:20px\"> 사용 예제 </font> <p>\n",
        "\n",
        "> ```python\n",
        "> standard_scaler = StandardScaler()\n",
        "> X_train = standard_scaler.fit_transform(X_train)\n",
        "> X_valid = standard_scaler.fit(X_valid)\n",
        "> X_test = standard_scaler.fit(X_test)\n",
        "> ```"
      ]
    },
    {
      "cell_type": "code",
      "execution_count": 43,
      "metadata": {},
      "outputs": [],
      "source": [
        "standard_scaler_x = StandardScaler()\n",
        "X_train = standard_scaler_x.fit_transform(X_train)\n",
        "X_valid = standard_scaler_x.transform(X_valid)\n",
        "X_test = standard_scaler_x.transform(X_test)"
      ]
    },
    {
      "cell_type": "markdown",
      "metadata": {},
      "source": [
        "### Dataset\n",
        "\n",
        "DataLoader에서 불러올 데이터의 형식을 지정하는 클래스. <br>\n",
        "\\_\\_getitem\\_\\_의 idx는 전체 데이터의 인덱스를 임의로 추출. <br>\n",
        "&nbsp;&nbsp;&nbsp;&nbsp;-> def \\_\\_len\\_\\_(self)에서 정의된 데이터의 크기를 사용하기에 **반드시 정의**하여야 함. <br>\n",
        "**Dataset class를 상속**받아 구현\n",
        "\n",
        "<br>\n",
        "\n",
        "<font style=\"font-size:20px\"> 사용 예제 </font> <p>\n",
        "\n",
        "> ```python\n",
        "> class CustomDataset(Dataset):\n",
        ">     def __init__(self, x, y, ...):\n",
        ">         super().__init__()\n",
        ">         self.x = x\n",
        ">         self.y = y\n",
        "> \n",
        ">     def __len__(self):\n",
        ">         return len(self.x)\n",
        "> \n",
        ">     def __getitem__(self, idx):\n",
        ">         x = self.x[idx]\n",
        ">         y = self.y[idx]\n",
        "> \n",
        ">         x = torch.Tensor(x)\n",
        ">         y = torch.Tensor(y)\n",
        ">         \n",
        ">         return x, y\n",
        "> ```"
      ]
    },
    {
      "cell_type": "code",
      "execution_count": 106,
      "metadata": {},
      "outputs": [],
      "source": [
        "class PlanarDataset(Dataset):\n",
        "    def __init__(self, X, y):\n",
        "        super().__init__()\n",
        "        self.X = X\n",
        "        self.y = y\n",
        "    \n",
        "    def __len__(self):\n",
        "        return len(self.X)\n",
        "    \n",
        "    def __getitem__(self, idx):\n",
        "        X = torch.from_numpy(self.X[idx]).float()\n",
        "        y = torch.from_numpy(self.y[idx]).float()\n",
        "\n",
        "        return X, y"
      ]
    },
    {
      "cell_type": "code",
      "execution_count": 129,
      "metadata": {},
      "outputs": [],
      "source": [
        "train_dataset = PlanarDataset(X_train, y_train)\n",
        "valid_dataset = PlanarDataset(X_valid, y_valid)\n",
        "test_dataset = PlanarDataset(X_test, y_test)"
      ]
    },
    {
      "cell_type": "code",
      "execution_count": 51,
      "metadata": {},
      "outputs": [
        {
          "data": {
            "text/plain": [
              "(tensor([1.5398, 0.8657], dtype=torch.float64), tensor([1], dtype=torch.uint8))"
            ]
          },
          "execution_count": 51,
          "metadata": {},
          "output_type": "execute_result"
        }
      ],
      "source": [
        "train_dataset[0]"
      ]
    },
    {
      "cell_type": "markdown",
      "metadata": {},
      "source": [
        "### DataLoader\n",
        "\n",
        "데이터셋을 순회(iterate)할 때 사용. <br>\n",
        "각 순회(iteration)는 batch_size의 특징(feature)과 정답(label)의 묶음(batch)을 반환. <br>\n",
        "\n",
        "<br>\n",
        "\n",
        "<font style=\"font-size:20px\"> 사용 예제 </font> <p>\n",
        "\n",
        "> ```python\n",
        "> train_dataloader = DataLoader(\n",
        ">     dataset=train_dataset,\n",
        ">     batch_size=batch_size,\n",
        ">     shuffle=False,\n",
        ">     drop_last=True,\n",
        "> )\n",
        "> \n",
        "> valid_dataloader = DataLoader(\n",
        ">     dataset=valid_dataset,\n",
        ">     batch_size=batch_size,\n",
        ">     shuffle=False,\n",
        ">     drop_last=True,\n",
        "> )\n",
        "> \n",
        "> test_dataloader = DataLoader(\n",
        ">     dataset=test_dataset,\n",
        ">     batch_size=batch_size,\n",
        ">     shuffle=False,\n",
        ">     drop_last=True,\n",
        "> )\n",
        "> ```"
      ]
    },
    {
      "cell_type": "code",
      "execution_count": 130,
      "metadata": {},
      "outputs": [],
      "source": [
        "train_dataloader = DataLoader(\n",
        "    dataset=train_dataset,\n",
        "    batch_size=batch_size,\n",
        "    shuffle=True,\n",
        "    drop_last=True,\n",
        ")\n",
        "\n",
        "valid_dataloader = DataLoader(\n",
        "    dataset=valid_dataset,\n",
        "    batch_size=batch_size,\n",
        "    shuffle=False,\n",
        "    drop_last=True,\n",
        ")\n",
        "\n",
        "test_dataloader = DataLoader(\n",
        "    dataset=test_dataset,\n",
        "    batch_size=batch_size,\n",
        "    shuffle=False,\n",
        "    drop_last=True,\n",
        ")"
      ]
    },
    {
      "cell_type": "code",
      "execution_count": 109,
      "metadata": {},
      "outputs": [],
      "source": [
        "X, y = list(train_dataloader)[0]"
      ]
    },
    {
      "cell_type": "code",
      "execution_count": 85,
      "metadata": {},
      "outputs": [
        {
          "data": {
            "text/plain": [
              "torch.Size([32, 2])"
            ]
          },
          "execution_count": 85,
          "metadata": {},
          "output_type": "execute_result"
        }
      ],
      "source": [
        "X.shape"
      ]
    },
    {
      "cell_type": "code",
      "execution_count": 86,
      "metadata": {},
      "outputs": [
        {
          "data": {
            "text/plain": [
              "torch.Size([32, 1])"
            ]
          },
          "execution_count": 86,
          "metadata": {},
          "output_type": "execute_result"
        }
      ],
      "source": [
        "y.shape"
      ]
    },
    {
      "cell_type": "markdown",
      "metadata": {},
      "source": [
        "### 모델 구조 정의\n",
        "\n",
        "학습 시 사용할 모델 아키텍처 정의. <br>\n",
        "- 모형 복잡도에 비해 데이터 수가 적으면 오버피팅 발생 가능성 높음\n",
        "- 모형 복잡도에 비해 데이터 수가 많으면 언더피팅 발생 가능성 높음 <br>\n",
        "\n",
        "**nn.Module을 상속받아 구현.** <br>\n",
        "생성자에서는 사용할 layer 정의 <br>\n",
        "forward 함수는 순전파 구현 <br>\n",
        "\n",
        "<br>\n",
        "\n",
        "<font style=\"font-size:20px\"> 사용 예제 </font> <p>\n",
        "\n",
        "> ```python\n",
        "> class MLP(nn.Module):\n",
        ">     def __init__(self, input_dim, hidden_dim, output_dim):\n",
        ">       super(MLP, self).__init__()\n",
        ">       self.fc1 = nn.Linear(input_dim, hidden_dim)   # input_dim: feature 수, hidden_dim: 중간에 사용될 뉴런의 수\n",
        ">       self.relu = nn.ReLU()                         # ReLU: activation function\n",
        ">       self.fc2 = nn.Linear(hidden_dim, output_dim)  # output_dim: target의 수\n",
        "> \n",
        ">     def forward(self, x):\n",
        ">       x = self.fc1(x)       # input layer -> hidden layer\n",
        ">       x = self.relu(x)      # hidden layer -> activation fuction\n",
        ">       x = self.fc2(x)       # activation function -> output layer\n",
        "> \n",
        ">       return x\n",
        "> ```"
      ]
    },
    {
      "cell_type": "code",
      "execution_count": 142,
      "metadata": {},
      "outputs": [],
      "source": [
        "class MLP(nn.Module):\n",
        "    def __init__(self, input_dim, hidden_dim, output_dim):\n",
        "        super().__init__()\n",
        "        self.input_dim = input_dim\n",
        "        self.hidden_dim = hidden_dim\n",
        "        self.output_dim = output_dim\n",
        "\n",
        "        self.linear1 = nn.Linear(input_dim, hidden_dim)\n",
        "        self.tanh = nn.Tanh()\n",
        "        self.linear2 = nn.Linear(hidden_dim, output_dim)\n",
        "        self.sigmoid = nn.Sigmoid()\n",
        "    \n",
        "    def forward(self, x):\n",
        "        x = self.linear1(x)\n",
        "        x = self.tanh(x)\n",
        "        x = self.linear2(x)\n",
        "        x = self.sigmoid(x)\n",
        "\n",
        "        return x"
      ]
    },
    {
      "cell_type": "markdown",
      "metadata": {},
      "source": [
        "### 모델 선언"
      ]
    },
    {
      "cell_type": "code",
      "execution_count": 117,
      "metadata": {},
      "outputs": [],
      "source": [
        "mlp = MLP(2, 4, 1).to(device)"
      ]
    },
    {
      "cell_type": "code",
      "execution_count": 110,
      "metadata": {},
      "outputs": [
        {
          "data": {
            "text/plain": [
              "tensor([[0.5482],\n",
              "        [0.5851],\n",
              "        [0.5564],\n",
              "        [0.5521],\n",
              "        [0.5553],\n",
              "        [0.5512],\n",
              "        [0.5865],\n",
              "        [0.5318],\n",
              "        [0.5566],\n",
              "        [0.5548],\n",
              "        [0.5591],\n",
              "        [0.5360],\n",
              "        [0.5530],\n",
              "        [0.5376],\n",
              "        [0.5497],\n",
              "        [0.5481],\n",
              "        [0.5536],\n",
              "        [0.5625],\n",
              "        [0.5371],\n",
              "        [0.5444],\n",
              "        [0.5578],\n",
              "        [0.5507],\n",
              "        [0.5316],\n",
              "        [0.5483],\n",
              "        [0.5568],\n",
              "        [0.5349],\n",
              "        [0.5477],\n",
              "        [0.5849],\n",
              "        [0.5539],\n",
              "        [0.5478],\n",
              "        [0.5481],\n",
              "        [0.5534]], grad_fn=<SigmoidBackward0>)"
            ]
          },
          "execution_count": 110,
          "metadata": {},
          "output_type": "execute_result"
        }
      ],
      "source": [
        "mlp(X)"
      ]
    },
    {
      "cell_type": "markdown",
      "metadata": {},
      "source": [
        "### Loss, Optimizer 정의\n",
        "\n",
        "학습 시 사용할 loss와 optimizer 명시\n",
        "- loss: 정답과 모델 예측 값의 차이 계산\n",
        "- optimizer: parameter를 update할 로직 설정\n",
        "\n",
        "\n",
        "<br>\n",
        "\n",
        "<font style=\"font-size:20px\"> 사용 예제 </font> <p>\n",
        "\n",
        "> ```python\n",
        "> criterion = nn.CrossEntropyLoss().to(device)\n",
        "> optimizer = optim.Adam(model.parameters(), lr=learning_rate)\n",
        "> ```"
      ]
    },
    {
      "cell_type": "code",
      "execution_count": 138,
      "metadata": {},
      "outputs": [],
      "source": [
        "criterion = nn.BCELoss().to(device)\n",
        "optimizer = optim.Adam(mlp.parameters(), learning_rate)"
      ]
    },
    {
      "cell_type": "markdown",
      "metadata": {
        "id": "X13XBcb7sNJ1"
      },
      "source": [
        "### Train & Validation\n",
        "\n",
        "<font style=\"font-size:20px\"> Train </font> <p>\n",
        "정의된 loss와 optimizer를 통해 학습 진행. <br>\n",
        "모델이 주어진 데이터에서만 잘 동작하는 것(overfitting)을 주의해야 함. <br>\n",
        "\n",
        "<br>\n",
        "\n",
        "<font style=\"font-size:20px\"> Validation </font> <p>\n",
        "학습 중인 모델의 성능을 평가하기 위한 데이터. <br>\n",
        "학습 데이터에 포함되어 있지 않기에 학습 시 validation data의 패턴을 학습하지는 않으나 <br>\n",
        "학습되지 않는 데이터를 통해 현재 학습되는 모델의 성능을 평가 <br>\n",
        "오버피팅을 확인하는 목적으로 주로 사용 <br>\n",
        "\n",
        "<br>\n",
        "\n",
        "**오버피팅** <br>\n",
        "\n",
        "<img src=\"https://camo.githubusercontent.com/32695ae0709af770e85679280d75b1d377a43eac73cece31c1b03290ed8cd911/68747470733a2f2f696d67312e6461756d63646e2e6e65742f7468756d622f523132383078302f3f73636f64653d6d746973746f72793226666e616d653d6874747073253341253246253246626c6f672e6b616b616f63646e2e6e6574253246646e2532466f73304535253246627471456d6f5168385a36253246745532756e6636426e464e6d776234597873736f696b253246696d672e706e67\" width=\"500\" height=\"300\"/>\n",
        "\n",
        "주어진 데이터에 모델이 높은 결과를 내도록 적합되는 것 <br>\n",
        "이 경우 일반화 성능이 떨어지기에 오버피팅은 딥러닝 학습에서 중요한 이슈 <br>\n",
        "\n",
        "<br>\n",
        "\n",
        "<font style=\"font-size:20px\"> 사용 예제 </font> <p>\n",
        "\n",
        "> ```python\n",
        "> train_losses = []\n",
        "> train_accs = []\n",
        "> valid_losses = []\n",
        "> valid_accs = []\n",
        "> for epoch in tqdm(range(1, epochs+1)):      # 학습 횟수 설정\n",
        ">     total_train_loss = 0\n",
        ">     total_train_acc = 0\n",
        "> \n",
        ">     model.train()                           # dropout, batch norm 등 train과 train이 아닌 경우의 동작이 다를 때 학습 시 적용\n",
        ">     for X, y in train_loader:\n",
        ">         X = X.reshape(batch_size, -1).to(device)\n",
        ">         y = y.to(device)\n",
        "> \n",
        ">         optimizer.zero_grad()               # optimizer의 parameter에 대한 gradient 초기화\n",
        ">         y_pred = model(X)                   # model 예측값 계산 (순전파)\n",
        ">         train_loss = criterion(y_pred, y)   # model 예측값과 실제 값과의 loss 계산\n",
        ">         train_loss.backward()               # 계산된 loss를 바탕으로 각 parameter에 대한 기울기 계산\n",
        ">         optimizer.step()                    # 계산한 기울기를 바탕으로 parameter update\n",
        ">\n",
        ">         total_train_loss += train_loss\n",
        ">         total_train_acc += (y == result.argmax(axis=-1)).sum()\n",
        ">     \n",
        ">     mean_test_loss = total_test_loss / len(test_loader)\n",
        ">     mean_test_acc = total_test_acc / len(test_loader)\n",
        ">     train_losses.append(total_train_loss)\n",
        ">     train_accs.append(total_train_acc)\n",
        "> \n",
        ">     model.eval()                            # dropout, batch norm 등 train과 train이 아닌 경우의 동작이 다를 때 학습이 아닐 시 적용\n",
        ">     with torch.no_grad:                     # 가중치 업데이트를 진행하지 않기에 gradient 제거\n",
        ">         for X, y in valid_loader:\n",
        ">             X = X.reshape(batch_size, -1).to(device)\n",
        ">             y = y.to(device)\n",
        "> \n",
        ">             y_pred = model(X)                \n",
        ">             valid_loss = criterion(y_pred, y)\n",
        "> \n",
        ">             total_valid_loss += valid_loss\n",
        ">             total_valid_acc += (y == result.argmax(axis=-1)).sum()\n",
        "> \n",
        ">         mean_valid_loss = total_valid_loss / len(valid_loader)\n",
        ">         mean_valid_acc = total_valid_acc / len(valid_loader)\n",
        ">         valid_losses.append(mean_valid_loss)\n",
        ">         valid_accs.append(mean_valid_acc)\n",
        ">         \n",
        ">     print(f'Epoch: {epoch: 3d} | train_loss: {mean_train_loss: .6f} | train_acc = {mean_train_acc: .2f}% | valid_loss: {mean_valid_loss: .6f} | valid_acc = {mean_valid_acc: .2f}%')\n",
        "```"
      ]
    },
    {
      "cell_type": "code",
      "execution_count": 115,
      "metadata": {},
      "outputs": [
        {
          "data": {
            "text/plain": [
              "[tensor([[ 0.1235, -0.7493],\n",
              "         [ 2.0218, -0.7239],\n",
              "         [ 0.6409, -1.7714],\n",
              "         [ 0.9353, -1.5894],\n",
              "         [ 1.5733, -0.8141],\n",
              "         [ 0.7955, -1.7908],\n",
              "         [-0.5037, -0.6293],\n",
              "         [ 0.1177,  0.8696],\n",
              "         [-1.0359, -0.7096],\n",
              "         [ 0.4149,  0.4259],\n",
              "         [-0.5617,  0.4611],\n",
              "         [-0.0413, -0.0738],\n",
              "         [-0.0224, -0.0596],\n",
              "         [-1.6016, -0.4001],\n",
              "         [ 1.0667,  0.6860],\n",
              "         [ 0.0057,  0.0217],\n",
              "         [ 1.8929,  0.8730],\n",
              "         [ 0.3786,  1.4905],\n",
              "         [-1.8570, -0.7972],\n",
              "         [-0.6047,  0.7642],\n",
              "         [ 0.0230, -0.3342],\n",
              "         [ 1.2649,  0.2188],\n",
              "         [-1.9218,  0.6822],\n",
              "         [ 0.5966, -1.6951],\n",
              "         [-1.6789,  0.8298],\n",
              "         [-0.7206,  1.0694],\n",
              "         [ 0.0527,  0.4252],\n",
              "         [ 0.0451, -0.2418],\n",
              "         [-1.1847, -0.1921],\n",
              "         [-0.6141,  1.7307],\n",
              "         [ 1.1914,  0.1648],\n",
              "         [-0.4492, -0.0330]]),\n",
              " tensor([[1.],\n",
              "         [0.],\n",
              "         [1.],\n",
              "         [1.],\n",
              "         [0.],\n",
              "         [1.],\n",
              "         [1.],\n",
              "         [0.],\n",
              "         [0.],\n",
              "         [0.],\n",
              "         [1.],\n",
              "         [0.],\n",
              "         [1.],\n",
              "         [0.],\n",
              "         [1.],\n",
              "         [0.],\n",
              "         [1.],\n",
              "         [0.],\n",
              "         [0.],\n",
              "         [0.],\n",
              "         [0.],\n",
              "         [1.],\n",
              "         [1.],\n",
              "         [1.],\n",
              "         [1.],\n",
              "         [0.],\n",
              "         [1.],\n",
              "         [1.],\n",
              "         [0.],\n",
              "         [0.],\n",
              "         [1.],\n",
              "         [0.]])]"
            ]
          },
          "execution_count": 115,
          "metadata": {},
          "output_type": "execute_result"
        }
      ],
      "source": [
        "len(list(train_dataloader)[0])"
      ]
    },
    {
      "cell_type": "code",
      "execution_count": 141,
      "metadata": {},
      "outputs": [
        {
          "name": "stdout",
          "output_type": "stream",
          "text": [
            "Epoch: 1 | train_loss:  0.5807 | train_acc:  66.07% | valid_loss:  0.6257 | valid_acc:  57.81%\n",
            "Epoch: 2 | train_loss:  0.5920 | train_acc:  65.62% | valid_loss:  0.6241 | valid_acc:  57.81%\n",
            "Epoch: 3 | train_loss:  0.5940 | train_acc:  66.52% | valid_loss:  0.6242 | valid_acc:  57.81%\n",
            "Epoch: 4 | train_loss:  0.5873 | train_acc:  66.96% | valid_loss:  0.6208 | valid_acc:  57.81%\n",
            "Epoch: 5 | train_loss:  0.5821 | train_acc:  66.96% | valid_loss:  0.6182 | valid_acc:  57.81%\n",
            "Epoch: 6 | train_loss:  0.5871 | train_acc:  66.07% | valid_loss:  0.6173 | valid_acc:  57.81%\n",
            "Epoch: 7 | train_loss:  0.5801 | train_acc:  66.96% | valid_loss:  0.6171 | valid_acc:  57.81%\n",
            "Epoch: 8 | train_loss:  0.5751 | train_acc:  66.96% | valid_loss:  0.6144 | valid_acc:  57.81%\n",
            "Epoch: 9 | train_loss:  0.5654 | train_acc:  67.86% | valid_loss:  0.6137 | valid_acc:  57.81%\n",
            "Epoch: 10 | train_loss:  0.5827 | train_acc:  67.86% | valid_loss:  0.6132 | valid_acc:  57.81%\n",
            "Epoch: 11 | train_loss:  0.5706 | train_acc:  67.86% | valid_loss:  0.6113 | valid_acc:  56.25%\n",
            "Epoch: 12 | train_loss:  0.5577 | train_acc:  68.30% | valid_loss:  0.6090 | valid_acc:  56.25%\n",
            "Epoch: 13 | train_loss:  0.5766 | train_acc:  68.30% | valid_loss:  0.6099 | valid_acc:  57.81%\n",
            "Epoch: 14 | train_loss:  0.5558 | train_acc:  69.20% | valid_loss:  0.6085 | valid_acc:  54.69%\n",
            "Epoch: 15 | train_loss:  0.5792 | train_acc:  68.30% | valid_loss:  0.6067 | valid_acc:  54.69%\n",
            "Epoch: 16 | train_loss:  0.5562 | train_acc:  70.09% | valid_loss:  0.6076 | valid_acc:  57.81%\n",
            "Epoch: 17 | train_loss:  0.5684 | train_acc:  69.20% | valid_loss:  0.6067 | valid_acc:  57.81%\n",
            "Epoch: 18 | train_loss:  0.5610 | train_acc:  68.75% | valid_loss:  0.6032 | valid_acc:  56.25%\n",
            "Epoch: 19 | train_loss:  0.5531 | train_acc:  69.64% | valid_loss:  0.6035 | valid_acc:  56.25%\n",
            "Epoch: 20 | train_loss:  0.5651 | train_acc:  68.30% | valid_loss:  0.6027 | valid_acc:  56.25%\n",
            "Epoch: 21 | train_loss:  0.5685 | train_acc:  68.30% | valid_loss:  0.6031 | valid_acc:  57.81%\n",
            "Epoch: 22 | train_loss:  0.5698 | train_acc:  69.20% | valid_loss:  0.6021 | valid_acc:  59.38%\n",
            "Epoch: 23 | train_loss:  0.5637 | train_acc:  69.20% | valid_loss:  0.6004 | valid_acc:  60.94%\n",
            "Epoch: 24 | train_loss:  0.5484 | train_acc:  71.88% | valid_loss:  0.5989 | valid_acc:  59.38%\n",
            "Epoch: 25 | train_loss:  0.5555 | train_acc:  70.98% | valid_loss:  0.5983 | valid_acc:  59.38%\n",
            "Epoch: 26 | train_loss:  0.5621 | train_acc:  69.64% | valid_loss:  0.5959 | valid_acc:  59.38%\n",
            "Epoch: 27 | train_loss:  0.5430 | train_acc:  71.88% | valid_loss:  0.5902 | valid_acc:  57.81%\n",
            "Epoch: 28 | train_loss:  0.5492 | train_acc:  70.54% | valid_loss:  0.5847 | valid_acc:  57.81%\n",
            "Epoch: 29 | train_loss:  0.5440 | train_acc:  72.32% | valid_loss:  0.5764 | valid_acc:  62.50%\n",
            "Epoch: 30 | train_loss:  0.5300 | train_acc:  76.34% | valid_loss:  0.5679 | valid_acc:  65.62%\n",
            "Epoch: 31 | train_loss:  0.5136 | train_acc:  81.25% | valid_loss:  0.5570 | valid_acc:  70.31%\n",
            "Epoch: 32 | train_loss:  0.5106 | train_acc:  81.70% | valid_loss:  0.5461 | valid_acc:  75.00%\n",
            "Epoch: 33 | train_loss:  0.4968 | train_acc:  83.04% | valid_loss:  0.5346 | valid_acc:  76.56%\n",
            "Epoch: 34 | train_loss:  0.5078 | train_acc:  83.93% | valid_loss:  0.5230 | valid_acc:  78.12%\n",
            "Epoch: 35 | train_loss:  0.4931 | train_acc:  84.82% | valid_loss:  0.5119 | valid_acc:  79.69%\n",
            "Epoch: 36 | train_loss:  0.4773 | train_acc:  85.71% | valid_loss:  0.5021 | valid_acc:  79.69%\n",
            "Epoch: 37 | train_loss:  0.4743 | train_acc:  86.16% | valid_loss:  0.4945 | valid_acc:  79.69%\n",
            "Epoch: 38 | train_loss:  0.4706 | train_acc:  85.71% | valid_loss:  0.4855 | valid_acc:  79.69%\n",
            "Epoch: 39 | train_loss:  0.4589 | train_acc:  86.16% | valid_loss:  0.4778 | valid_acc:  79.69%\n",
            "Epoch: 40 | train_loss:  0.4518 | train_acc:  86.16% | valid_loss:  0.4693 | valid_acc:  82.81%\n",
            "Epoch: 41 | train_loss:  0.4526 | train_acc:  86.61% | valid_loss:  0.4610 | valid_acc:  84.38%\n",
            "Epoch: 42 | train_loss:  0.4395 | train_acc:  87.95% | valid_loss:  0.4544 | valid_acc:  84.38%\n",
            "Epoch: 43 | train_loss:  0.4407 | train_acc:  87.05% | valid_loss:  0.4494 | valid_acc:  82.81%\n",
            "Epoch: 44 | train_loss:  0.4353 | train_acc:  87.05% | valid_loss:  0.4429 | valid_acc:  81.25%\n",
            "Epoch: 45 | train_loss:  0.4134 | train_acc:  87.95% | valid_loss:  0.4373 | valid_acc:  82.81%\n",
            "Epoch: 46 | train_loss:  0.4087 | train_acc:  87.95% | valid_loss:  0.4309 | valid_acc:  82.81%\n",
            "Epoch: 47 | train_loss:  0.4010 | train_acc:  87.50% | valid_loss:  0.4249 | valid_acc:  84.38%\n",
            "Epoch: 48 | train_loss:  0.3986 | train_acc:  88.84% | valid_loss:  0.4198 | valid_acc:  85.94%\n",
            "Epoch: 49 | train_loss:  0.4054 | train_acc:  87.95% | valid_loss:  0.4150 | valid_acc:  82.81%\n",
            "Epoch: 50 | train_loss:  0.4006 | train_acc:  88.84% | valid_loss:  0.4103 | valid_acc:  84.38%\n",
            "Epoch: 51 | train_loss:  0.3991 | train_acc:  87.50% | valid_loss:  0.4071 | valid_acc:  82.81%\n",
            "Epoch: 52 | train_loss:  0.3880 | train_acc:  88.84% | valid_loss:  0.4033 | valid_acc:  82.81%\n",
            "Epoch: 53 | train_loss:  0.3771 | train_acc:  88.39% | valid_loss:  0.3995 | valid_acc:  82.81%\n",
            "Epoch: 54 | train_loss:  0.3727 | train_acc:  87.95% | valid_loss:  0.3965 | valid_acc:  82.81%\n",
            "Epoch: 55 | train_loss:  0.3780 | train_acc:  87.50% | valid_loss:  0.3924 | valid_acc:  84.38%\n",
            "Epoch: 56 | train_loss:  0.3739 | train_acc:  87.95% | valid_loss:  0.3890 | valid_acc:  84.38%\n",
            "Epoch: 57 | train_loss:  0.3741 | train_acc:  88.39% | valid_loss:  0.3861 | valid_acc:  84.38%\n",
            "Epoch: 58 | train_loss:  0.3844 | train_acc:  87.05% | valid_loss:  0.3835 | valid_acc:  84.38%\n",
            "Epoch: 59 | train_loss:  0.3735 | train_acc:  87.95% | valid_loss:  0.3806 | valid_acc:  84.38%\n",
            "Epoch: 60 | train_loss:  0.3521 | train_acc:  90.18% | valid_loss:  0.3782 | valid_acc:  84.38%\n",
            "Epoch: 61 | train_loss:  0.3636 | train_acc:  89.73% | valid_loss:  0.3752 | valid_acc:  84.38%\n",
            "Epoch: 62 | train_loss:  0.3642 | train_acc:  87.95% | valid_loss:  0.3717 | valid_acc:  85.94%\n",
            "Epoch: 63 | train_loss:  0.3476 | train_acc:  90.18% | valid_loss:  0.3693 | valid_acc:  87.50%\n",
            "Epoch: 64 | train_loss:  0.3529 | train_acc:  88.84% | valid_loss:  0.3678 | valid_acc:  85.94%\n",
            "Epoch: 65 | train_loss:  0.3528 | train_acc:  88.84% | valid_loss:  0.3664 | valid_acc:  84.38%\n",
            "Epoch: 66 | train_loss:  0.3667 | train_acc:  87.95% | valid_loss:  0.3637 | valid_acc:  85.94%\n",
            "Epoch: 67 | train_loss:  0.3559 | train_acc:  88.84% | valid_loss:  0.3614 | valid_acc:  84.38%\n",
            "Epoch: 68 | train_loss:  0.3551 | train_acc:  88.39% | valid_loss:  0.3596 | valid_acc:  84.38%\n",
            "Epoch: 69 | train_loss:  0.3536 | train_acc:  89.29% | valid_loss:  0.3582 | valid_acc:  84.38%\n",
            "Epoch: 70 | train_loss:  0.3527 | train_acc:  88.84% | valid_loss:  0.3565 | valid_acc:  84.38%\n",
            "Epoch: 71 | train_loss:  0.3544 | train_acc:  88.39% | valid_loss:  0.3546 | valid_acc:  84.38%\n",
            "Epoch: 72 | train_loss:  0.3397 | train_acc:  90.62% | valid_loss:  0.3523 | valid_acc:  87.50%\n",
            "Epoch: 73 | train_loss:  0.3555 | train_acc:  89.29% | valid_loss:  0.3502 | valid_acc:  87.50%\n",
            "Epoch: 74 | train_loss:  0.3456 | train_acc:  88.84% | valid_loss:  0.3493 | valid_acc:  87.50%\n",
            "Epoch: 75 | train_loss:  0.3499 | train_acc:  89.29% | valid_loss:  0.3488 | valid_acc:  84.38%\n",
            "Epoch: 76 | train_loss:  0.3415 | train_acc:  87.95% | valid_loss:  0.3468 | valid_acc:  84.38%\n",
            "Epoch: 77 | train_loss:  0.3479 | train_acc:  89.73% | valid_loss:  0.3453 | valid_acc:  85.94%\n",
            "Epoch: 78 | train_loss:  0.3437 | train_acc:  89.29% | valid_loss:  0.3445 | valid_acc:  84.38%\n",
            "Epoch: 79 | train_loss:  0.3485 | train_acc:  89.29% | valid_loss:  0.3429 | valid_acc:  85.94%\n",
            "Epoch: 80 | train_loss:  0.3182 | train_acc:  91.96% | valid_loss:  0.3423 | valid_acc:  84.38%\n",
            "Epoch: 81 | train_loss:  0.3424 | train_acc:  89.29% | valid_loss:  0.3408 | valid_acc:  87.50%\n",
            "Epoch: 82 | train_loss:  0.3341 | train_acc:  90.18% | valid_loss:  0.3396 | valid_acc:  87.50%\n",
            "Epoch: 83 | train_loss:  0.3314 | train_acc:  90.18% | valid_loss:  0.3387 | valid_acc:  87.50%\n",
            "Epoch: 84 | train_loss:  0.3205 | train_acc:  90.18% | valid_loss:  0.3379 | valid_acc:  87.50%\n",
            "Epoch: 85 | train_loss:  0.3208 | train_acc:  90.18% | valid_loss:  0.3367 | valid_acc:  87.50%\n",
            "Epoch: 86 | train_loss:  0.3329 | train_acc:  89.29% | valid_loss:  0.3356 | valid_acc:  87.50%\n",
            "Epoch: 87 | train_loss:  0.3310 | train_acc:  91.07% | valid_loss:  0.3334 | valid_acc:  87.50%\n",
            "Epoch: 88 | train_loss:  0.3205 | train_acc:  91.07% | valid_loss:  0.3322 | valid_acc:  87.50%\n",
            "Epoch: 89 | train_loss:  0.3369 | train_acc:  90.18% | valid_loss:  0.3312 | valid_acc:  87.50%\n",
            "Epoch: 90 | train_loss:  0.3310 | train_acc:  91.07% | valid_loss:  0.3297 | valid_acc:  87.50%\n",
            "Epoch: 91 | train_loss:  0.3264 | train_acc:  90.62% | valid_loss:  0.3294 | valid_acc:  87.50%\n",
            "Epoch: 92 | train_loss:  0.3254 | train_acc:  90.62% | valid_loss:  0.3284 | valid_acc:  87.50%\n",
            "Epoch: 93 | train_loss:  0.3105 | train_acc:  91.07% | valid_loss:  0.3283 | valid_acc:  87.50%\n",
            "Epoch: 94 | train_loss:  0.3365 | train_acc:  89.29% | valid_loss:  0.3274 | valid_acc:  87.50%\n",
            "Epoch: 95 | train_loss:  0.3042 | train_acc:  91.52% | valid_loss:  0.3277 | valid_acc:  87.50%\n",
            "Epoch: 96 | train_loss:  0.3393 | train_acc:  88.84% | valid_loss:  0.3284 | valid_acc:  85.94%\n",
            "Epoch: 97 | train_loss:  0.3210 | train_acc:  89.73% | valid_loss:  0.3262 | valid_acc:  87.50%\n",
            "Epoch: 98 | train_loss:  0.3231 | train_acc:  90.18% | valid_loss:  0.3247 | valid_acc:  87.50%\n",
            "Epoch: 99 | train_loss:  0.3224 | train_acc:  89.73% | valid_loss:  0.3236 | valid_acc:  87.50%\n",
            "Epoch: 100 | train_loss:  0.3165 | train_acc:  90.62% | valid_loss:  0.3225 | valid_acc:  87.50%\n"
          ]
        }
      ],
      "source": [
        "train_losses = []\n",
        "train_accs = []\n",
        "valid_losses = []\n",
        "valid_accs = []\n",
        "for epoch in range(1, epochs+1):\n",
        "    ##################### train #####################\n",
        "    total_train_loss = 0\n",
        "    total_train_acc = 0\n",
        "\n",
        "    mlp.train()\n",
        "    for X, y in train_dataloader:\n",
        "        X = X.to(device)\n",
        "        y = y.to(device)\n",
        "\n",
        "        optimizer.zero_grad()               # set gradient 0\n",
        "        logit = mlp(X)                      # calculate y_pred\n",
        "        train_loss = criterion(logit, y)    # calculate loss\n",
        "        train_loss.backward()               # backward\n",
        "        optimizer.step()                    # parameter update\n",
        "\n",
        "        predicted_label = torch.where(logit > 0.5, 1, 0)\n",
        "        train_acc = (predicted_label == y).float().mean()\n",
        "        total_train_loss += train_loss\n",
        "        total_train_acc += train_acc\n",
        "    \n",
        "    mean_train_loss = total_train_loss / len(train_dataloader)\n",
        "    mean_train_acc = total_train_acc / len(train_dataloader)\n",
        "    train_losses.append(mean_train_loss)\n",
        "    train_accs.append(mean_train_acc)\n",
        "\n",
        "    ##################### validation #####################\n",
        "    total_valid_loss = 0\n",
        "    total_valid_acc = 0\n",
        "\n",
        "    mlp.eval()\n",
        "    with torch.no_grad():\n",
        "        for X, y in valid_dataloader:\n",
        "            X = X.to(device)\n",
        "            y = y.to(device)\n",
        "\n",
        "            logit = mlp(X)                      # calculate y_pred\n",
        "            valid_loss = criterion(logit, y)    # calculate loss\n",
        "\n",
        "            predicted_label = torch.where(logit > 0.5, 1, 0)\n",
        "            valid_acc = (predicted_label == y).float().mean()\n",
        "            total_valid_loss += valid_loss\n",
        "            total_valid_acc += valid_acc\n",
        "        \n",
        "    mean_valid_loss = total_valid_loss / len(valid_dataloader)\n",
        "    mean_valid_acc = total_valid_acc / len(valid_dataloader)\n",
        "    valid_losses.append(mean_valid_loss)\n",
        "    valid_accs.append(mean_valid_acc)\n",
        "\n",
        "    print(f'Epoch: {epoch} | train_loss: {mean_train_loss: .4f} | train_acc: {mean_train_acc*100: .2f}% | valid_loss: {mean_valid_loss: .4f} | valid_acc: {mean_valid_acc*100: .2f}%')"
      ]
    },
    {
      "cell_type": "markdown",
      "metadata": {},
      "source": [
        "Overfitting check"
      ]
    },
    {
      "cell_type": "code",
      "execution_count": 147,
      "metadata": {},
      "outputs": [
        {
          "data": {
            "text/plain": [
              "<Axes: >"
            ]
          },
          "execution_count": 147,
          "metadata": {},
          "output_type": "execute_result"
        },
        {
          "data": {
            "image/png": "[encoded data removed]",
            "text/plain": [
              "<Figure size 640x480 with 1 Axes>"
            ]
          },
          "metadata": {},
          "output_type": "display_data"
        }
      ],
      "source": [
        "pd.DataFrame({\n",
        "    'train_loss': [train_loss.item() for train_loss in train_losses],\n",
        "    'valid_loss': [valid_loss.item() for valid_loss in valid_losses]\n",
        "}).plot()"
      ]
    },
    {
      "cell_type": "markdown",
      "metadata": {},
      "source": [
        "### Test\n",
        "\n",
        "학습에서 사용한 모델의 성능 평가. <br>\n",
        "train의 정확도가 높았을지라도 test의 정확도가 낮을 수 있음. <br>\n",
        "&nbsp;&nbsp;&nbsp;&nbsp;이는 학습 데이터와 test 데이터가 상이함을 의미. <br>\n",
        "학습 평가 시 eval() 사용. <br>\n",
        "validation data와의 차이는 validation data는 학습 중에 사용되는 데이터이지만 <br>\n",
        "&nbsp;&nbsp;&nbsp;&nbsp;테스트 데이터는 학습이 종료된 이후 사용되는 데이터 <br>\n",
        "\n",
        "<br>\n",
        "\n",
        "<font style=\"font-size:20px\"> 사용 예제 </font> <p>\n",
        "\n",
        "> ```python\n",
        "> model.eval()                            # dropout, batch norm 등 train과 train이 아닌 경우의 동작이 다를 때 학습이 아닐 시 적용\n",
        "> with torch.no_grad:                     # 가중치 업데이트를 진행하지 않기에 gradient 제거\n",
        ">     for X, y in test_loader:\n",
        ">         X = X.reshape(batch_size, -1).to(device)\n",
        ">         y = y.to(device)\n",
        "> \n",
        ">         y_pred = model(X)                \n",
        ">         test_loss = criterion(y_pred, y)\n",
        "> \n",
        ">         total_test_loss += test_loss\n",
        ">         total_test_acc += (y == result.argmax(axis=-1)).sum()\n",
        "> \n",
        "> ```"
      ]
    },
    {
      "cell_type": "code",
      "execution_count": 176,
      "metadata": {},
      "outputs": [],
      "source": [
        "total_test_loss = 0 \n",
        "total_test_acc = 0 \n",
        "\n",
        "mlp.eval()\n",
        "with torch.no_grad():\n",
        "    for X, y in test_dataloader:\n",
        "        X = X.to(device)\n",
        "        y = y.to(device)\n",
        "\n",
        "        logit = mlp(X)                     # calculate y_pred\n",
        "        test_loss = criterion(logit, y)    # calculate loss\n",
        "\n",
        "        predicted_label = torch.where(logit > 0.5, 1, 0)\n",
        "        test_acc = (predicted_label == y).float().mean()\n",
        "        total_test_loss += test_loss\n",
        "        total_test_acc += test_acc\n",
        "\n",
        "    mean_test_loss = total_test_loss / len(test_dataloader)\n",
        "    mean_test_acc = total_test_acc / len(test_dataloader)"
      ]
    },
    {
      "cell_type": "code",
      "execution_count": 177,
      "metadata": {},
      "outputs": [
        {
          "data": {
            "text/plain": [
              "0.859375"
            ]
          },
          "execution_count": 177,
          "metadata": {},
          "output_type": "execute_result"
        }
      ],
      "source": [
        "mean_test_acc.item()"
      ]
    },
    {
      "cell_type": "markdown",
      "metadata": {},
      "source": [
        "### Save & Load\n",
        "\n",
        "학습된 모델의 weight를 저장 및 로드\n",
        "\n",
        "<br>\n",
        "\n",
        "<font style=\"font-size:20px\"> Save </font> <p>\n",
        "\n",
        "> ```python\n",
        "> torch.save(model.state_dict(), './checkpoint/model_state_dict.pth')\n",
        "> ```\n",
        "\n",
        "<br>\n",
        "\n",
        "<font style=\"font-size:20px\"> Load </font> <p>\n",
        "\n",
        "> ```python\n",
        "> model = Model()\n",
        "> model.load_state_dict(torch.load('./checkpoint/model_state_dict.pth'), map_location='cpu')\n",
        "> ```\n",
        "\n",
        "<br>\n",
        "\n",
        "<font style=\"font-size:20px\"> torch script </font> <p>\n",
        "\n",
        "```python\n",
        "scripted_model = torch.jit.script(model)\n",
        "\n",
        "# save\n",
        "scripted_model.save('./checkpoint/scripted_model.pt')\n",
        "\n",
        "# load\n",
        "loaded_model = torch.jit.load('./checkpoint/scripted_model.pt')\n",
        "```"
      ]
    },
    {
      "cell_type": "code",
      "execution_count": 150,
      "metadata": {},
      "outputs": [],
      "source": [
        "torch.save(mlp.state_dict(), './model/mlp.pth')"
      ]
    },
    {
      "cell_type": "code",
      "execution_count": 159,
      "metadata": {},
      "outputs": [],
      "source": [
        "new_mlp = MLP(2, 4, 1)\n",
        "new_mlp.load_state_dict(torch.load('./model/mlp.pth'))\n",
        "new_mlp.state_dict()"
      ]
    },
    {
      "cell_type": "code",
      "execution_count": 162,
      "metadata": {},
      "outputs": [],
      "source": [
        "scripted_model = torch.jit.script(mlp)\n",
        "scripted_model.save('./model/scripted_model.pt')"
      ]
    },
    {
      "cell_type": "code",
      "execution_count": 164,
      "metadata": {},
      "outputs": [],
      "source": [
        "loaded_scripted_model = torch.jit.load('./model/scripted_model.pt')"
      ]
    },
    {
      "cell_type": "markdown",
      "metadata": {},
      "source": [
        "# Practice"
      ]
    },
    {
      "cell_type": "markdown",
      "metadata": {
        "id": "oEim4kEdi4VB"
      },
      "source": [
        "## MNIST\n",
        "\n",
        "- MNIST 데이터베이스 (Modified National Institute of Standards and Technology database)는 <br>\n",
        "손으로 쓴 숫자들로 이루어진 대형 데이터베이스\n",
        "- 딥러닝 예제에서 자주 사용"
      ]
    },
    {
      "cell_type": "code",
      "execution_count": 274,
      "metadata": {},
      "outputs": [
        {
          "name": "stderr",
          "output_type": "stream",
          "text": [
            "  5%|▌         | 1/20 [00:00<00:12,  1.47it/s]"
          ]
        },
        {
          "name": "stdout",
          "output_type": "stream",
          "text": [
            "Epoch: 1 | train_loss:  1.6072 | train_acc:  87.02% | valid_loss:  1.5341 | valid_acc:  93.06%\n"
          ]
        },
        {
          "name": "stderr",
          "output_type": "stream",
          "text": [
            " 10%|█         | 2/20 [00:01<00:12,  1.49it/s]"
          ]
        },
        {
          "name": "stdout",
          "output_type": "stream",
          "text": [
            "Epoch: 2 | train_loss:  1.5217 | train_acc:  94.35% | valid_loss:  1.5121 | valid_acc:  95.31%\n"
          ]
        },
        {
          "name": "stderr",
          "output_type": "stream",
          "text": [
            " 15%|█▌        | 3/20 [00:02<00:12,  1.37it/s]"
          ]
        },
        {
          "name": "stdout",
          "output_type": "stream",
          "text": [
            "Epoch: 3 | train_loss:  1.5054 | train_acc:  95.88% | valid_loss:  1.5036 | valid_acc:  95.97%\n"
          ]
        },
        {
          "name": "stderr",
          "output_type": "stream",
          "text": [
            " 20%|██        | 4/20 [00:02<00:11,  1.35it/s]"
          ]
        },
        {
          "name": "stdout",
          "output_type": "stream",
          "text": [
            "Epoch: 4 | train_loss:  1.4974 | train_acc:  96.58% | valid_loss:  1.4972 | valid_acc:  96.56%\n"
          ]
        },
        {
          "name": "stderr",
          "output_type": "stream",
          "text": [
            " 25%|██▌       | 5/20 [00:03<00:11,  1.35it/s]"
          ]
        },
        {
          "name": "stdout",
          "output_type": "stream",
          "text": [
            "Epoch: 5 | train_loss:  1.4908 | train_acc:  97.24% | valid_loss:  1.4993 | valid_acc:  96.41%\n"
          ]
        },
        {
          "name": "stderr",
          "output_type": "stream",
          "text": [
            " 30%|███       | 6/20 [00:04<00:10,  1.31it/s]"
          ]
        },
        {
          "name": "stdout",
          "output_type": "stream",
          "text": [
            "Epoch: 6 | train_loss:  1.4867 | train_acc:  97.61% | valid_loss:  1.4921 | valid_acc:  97.09%\n"
          ]
        },
        {
          "name": "stderr",
          "output_type": "stream",
          "text": [
            " 35%|███▌      | 7/20 [00:05<00:10,  1.28it/s]"
          ]
        },
        {
          "name": "stdout",
          "output_type": "stream",
          "text": [
            "Epoch: 7 | train_loss:  1.4837 | train_acc:  97.89% | valid_loss:  1.4958 | valid_acc:  96.64%\n"
          ]
        },
        {
          "name": "stderr",
          "output_type": "stream",
          "text": [
            " 40%|████      | 8/20 [00:06<00:09,  1.28it/s]"
          ]
        },
        {
          "name": "stdout",
          "output_type": "stream",
          "text": [
            "Epoch: 8 | train_loss:  1.4811 | train_acc:  98.13% | valid_loss:  1.4893 | valid_acc:  97.37%\n"
          ]
        },
        {
          "name": "stderr",
          "output_type": "stream",
          "text": [
            " 45%|████▌     | 9/20 [00:06<00:08,  1.27it/s]"
          ]
        },
        {
          "name": "stdout",
          "output_type": "stream",
          "text": [
            "Epoch: 9 | train_loss:  1.4784 | train_acc:  98.38% | valid_loss:  1.4887 | valid_acc:  97.36%\n"
          ]
        },
        {
          "name": "stderr",
          "output_type": "stream",
          "text": [
            " 50%|█████     | 10/20 [00:07<00:07,  1.27it/s]"
          ]
        },
        {
          "name": "stdout",
          "output_type": "stream",
          "text": [
            "Epoch: 10 | train_loss:  1.4781 | train_acc:  98.39% | valid_loss:  1.4877 | valid_acc:  97.49%\n"
          ]
        },
        {
          "name": "stderr",
          "output_type": "stream",
          "text": [
            " 55%|█████▌    | 11/20 [00:08<00:07,  1.28it/s]"
          ]
        },
        {
          "name": "stdout",
          "output_type": "stream",
          "text": [
            "Epoch: 11 | train_loss:  1.4757 | train_acc:  98.64% | valid_loss:  1.4868 | valid_acc:  97.53%\n"
          ]
        },
        {
          "name": "stderr",
          "output_type": "stream",
          "text": [
            " 60%|██████    | 12/20 [00:09<00:06,  1.27it/s]"
          ]
        },
        {
          "name": "stdout",
          "output_type": "stream",
          "text": [
            "Epoch: 12 | train_loss:  1.4757 | train_acc:  98.62% | valid_loss:  1.4867 | valid_acc:  97.54%\n"
          ]
        },
        {
          "name": "stderr",
          "output_type": "stream",
          "text": [
            " 65%|██████▌   | 13/20 [00:10<00:05,  1.26it/s]"
          ]
        },
        {
          "name": "stdout",
          "output_type": "stream",
          "text": [
            "Epoch: 13 | train_loss:  1.4740 | train_acc:  98.80% | valid_loss:  1.4889 | valid_acc:  97.24%\n"
          ]
        },
        {
          "name": "stderr",
          "output_type": "stream",
          "text": [
            " 70%|███████   | 14/20 [00:10<00:04,  1.25it/s]"
          ]
        },
        {
          "name": "stdout",
          "output_type": "stream",
          "text": [
            "Epoch: 14 | train_loss:  1.4738 | train_acc:  98.80% | valid_loss:  1.4883 | valid_acc:  97.35%\n"
          ]
        },
        {
          "name": "stderr",
          "output_type": "stream",
          "text": [
            " 75%|███████▌  | 15/20 [00:11<00:04,  1.23it/s]"
          ]
        },
        {
          "name": "stdout",
          "output_type": "stream",
          "text": [
            "Epoch: 15 | train_loss:  1.4734 | train_acc:  98.84% | valid_loss:  1.4880 | valid_acc:  97.31%\n"
          ]
        },
        {
          "name": "stderr",
          "output_type": "stream",
          "text": [
            " 80%|████████  | 16/20 [00:12<00:03,  1.22it/s]"
          ]
        },
        {
          "name": "stdout",
          "output_type": "stream",
          "text": [
            "Epoch: 16 | train_loss:  1.4721 | train_acc:  98.94% | valid_loss:  1.4856 | valid_acc:  97.62%\n"
          ]
        },
        {
          "name": "stderr",
          "output_type": "stream",
          "text": [
            " 85%|████████▌ | 17/20 [00:13<00:02,  1.19it/s]"
          ]
        },
        {
          "name": "stdout",
          "output_type": "stream",
          "text": [
            "Epoch: 17 | train_loss:  1.4712 | train_acc:  99.06% | valid_loss:  1.4847 | valid_acc:  97.69%\n"
          ]
        },
        {
          "name": "stderr",
          "output_type": "stream",
          "text": [
            " 90%|█████████ | 18/20 [00:14<00:01,  1.18it/s]"
          ]
        },
        {
          "name": "stdout",
          "output_type": "stream",
          "text": [
            "Epoch: 18 | train_loss:  1.4715 | train_acc:  99.00% | valid_loss:  1.4873 | valid_acc:  97.44%\n"
          ]
        },
        {
          "name": "stderr",
          "output_type": "stream",
          "text": [
            " 95%|█████████▌| 19/20 [00:15<00:00,  1.16it/s]"
          ]
        },
        {
          "name": "stdout",
          "output_type": "stream",
          "text": [
            "Epoch: 19 | train_loss:  1.4704 | train_acc:  99.11% | valid_loss:  1.4842 | valid_acc:  97.72%\n"
          ]
        },
        {
          "name": "stderr",
          "output_type": "stream",
          "text": [
            "100%|██████████| 20/20 [00:16<00:00,  1.25it/s]"
          ]
        },
        {
          "name": "stdout",
          "output_type": "stream",
          "text": [
            "Epoch: 20 | train_loss:  1.4698 | train_acc:  99.18% | valid_loss:  1.4859 | valid_acc:  97.48%\n"
          ]
        },
        {
          "name": "stderr",
          "output_type": "stream",
          "text": [
            "\n"
          ]
        }
      ],
      "source": [
        "device = 'cuda' if torch.cuda.is_available() else 'cpu'\n",
        "\n",
        "# seed\n",
        "seed = 0\n",
        "np.random.seed(seed)\n",
        "torch.manual_seed(seed)\n",
        "random.seed(seed)\n",
        "if device == 'cuda':\n",
        "    torch.cuda.manual_seed(seed)\n",
        "    torch.cuda.manual_seed_all(seed)\n",
        "    torch.backends.cudnn.deterministic = False\n",
        "    torch.backends.cudnn.benchmark = True\n",
        "\n",
        "# hyperprameter\n",
        "batch_size = 256\n",
        "epochs = 20\n",
        "learning_rate = 4e-3\n",
        "\n",
        "# data and preprocessing\n",
        "train = ds.MNIST(\n",
        "    root='data/mnist',\n",
        "    train=True,\n",
        "    transform=transforms.ToTensor(),\n",
        "    download=True,\n",
        ")\n",
        "\n",
        "test = ds.MNIST(\n",
        "    root='data/mnist',\n",
        "    train=False,\n",
        "    transform=transforms.ToTensor(),\n",
        "    download=True,\n",
        ")\n",
        "\n",
        "train, valid = train_test_split(train, test_size=0.2)\n",
        "\n",
        "class MNISTDataset(Dataset):\n",
        "    def __init__(self, data):\n",
        "        super().__init__()\n",
        "        self.data = data\n",
        "    \n",
        "    def __len__(self):\n",
        "        return len(self.data)\n",
        "    \n",
        "    def __getitem__(self, idx):\n",
        "        X, y = self.data[idx]\n",
        "\n",
        "        return X, y\n",
        "\n",
        "train_dataset = MNISTDataset(train)\n",
        "valid_dataset = MNISTDataset(valid)\n",
        "test_dataset = MNISTDataset(test)\n",
        "\n",
        "# data loader\n",
        "train_dataloader = DataLoader(\n",
        "    dataset=train_dataset,\n",
        "    batch_size=batch_size,\n",
        "    shuffle=True,\n",
        "    drop_last=True,\n",
        ")\n",
        "valid_dataloader = DataLoader(\n",
        "    dataset=valid_dataset,\n",
        "    batch_size=batch_size,\n",
        "    shuffle=False,\n",
        "    drop_last=True,\n",
        ")\n",
        "test_dataloader = DataLoader(\n",
        "    dataset=test_dataset,\n",
        "    batch_size=batch_size,\n",
        "    shuffle=False,\n",
        "    drop_last=True,\n",
        ")\n",
        "\n",
        "# model\n",
        "class Model(nn.Module):\n",
        "    def __init__(self, input_dim, hidden_dim, output_dim):\n",
        "        super().__init__()\n",
        "        self.input_dim = input_dim\n",
        "        self.hidden_dim = hidden_dim\n",
        "        self.output_dim = output_dim\n",
        "    \n",
        "        self.linear = nn.Linear(input_dim, hidden_dim)\n",
        "        self.relu = nn.ReLU()\n",
        "        self.output = nn.Linear(hidden_dim, output_dim)\n",
        "    \n",
        "    def forward(self, x):\n",
        "        x = self.linear(x)\n",
        "        x = self.relu(x)\n",
        "        x = self.output(x)\n",
        "\n",
        "        return x\n",
        "\n",
        "model = Model(28*28, 256, 10).to(device)\n",
        "\n",
        "# loss and optimizer\n",
        "criterion = nn.CrossEntropyLoss().to(device)\n",
        "optimizer = optim.Adam(\n",
        "    model.parameters(),\n",
        "    lr=learning_rate,\n",
        ")\n",
        "\n",
        "train_losses = []\n",
        "train_accs = []\n",
        "valid_losses = []\n",
        "valid_accs = []\n",
        "for epoch in tqdm(range(1, epochs+1)):\n",
        "    ###################### train ######################\n",
        "    total_train_acc = 0\n",
        "    total_train_loss = 0\n",
        "\n",
        "    model.train()\n",
        "    for X, y in train_dataloader:\n",
        "        X = X.to(device)\n",
        "        X = X.flatten(start_dim=1)\n",
        "        y = y.to(device)\n",
        "\n",
        "        optimizer.zero_grad()\n",
        "        output = model(X)\n",
        "        logit = F.softmax(output, dim=-1)\n",
        "        train_loss = criterion(logit, y)\n",
        "        train_loss.backward()\n",
        "        optimizer.step()\n",
        "\n",
        "        train_acc = (logit.argmax(dim=-1) == y).float().mean()\n",
        "        total_train_acc += train_acc\n",
        "        total_train_loss += train_loss\n",
        "    \n",
        "    mean_train_acc = total_train_acc / len(train_dataloader)\n",
        "    mean_train_loss = total_train_loss / len(train_dataloader)\n",
        "    train_losses.append(mean_train_loss.item())\n",
        "    train_accs.append(mean_train_acc)\n",
        "\n",
        "    ###################### valid ######################\n",
        "    total_valid_acc = 0\n",
        "    total_valid_loss = 0\n",
        "\n",
        "    model.eval()\n",
        "    with torch.no_grad():\n",
        "        for X, y in valid_dataloader:\n",
        "            X = X.to(device)\n",
        "            X = X.flatten(start_dim=1)\n",
        "            y = y.to(device)\n",
        "\n",
        "            output = model(X)\n",
        "            logit = F.softmax(output, dim=-1)\n",
        "            valid_loss = criterion(logit, y)\n",
        "\n",
        "            valid_acc = (logit.argmax(dim=-1) == y).float().mean()\n",
        "            total_valid_acc += valid_acc\n",
        "            total_valid_loss += valid_loss\n",
        "        \n",
        "    mean_valid_acc = total_valid_acc / len(valid_dataloader)\n",
        "    mean_valid_loss = total_valid_loss / len(valid_dataloader)\n",
        "    valid_losses.append(mean_valid_loss.item())\n",
        "    valid_accs.append(mean_valid_acc)\n",
        "\n",
        "    print(f'Epoch: {epoch} | train_loss: {mean_train_loss: .4f} | train_acc: {mean_train_acc*100: .2f}% | valid_loss: {mean_valid_loss: .4f} | valid_acc: {mean_valid_acc*100: .2f}%')"
      ]
    },
    {
      "cell_type": "code",
      "execution_count": 276,
      "metadata": {},
      "outputs": [
        {
          "name": "stderr",
          "output_type": "stream",
          "text": [
            "C:\\Users\\USER\\AppData\\Local\\Temp\\ipykernel_19628\\1641817439.py:3: FutureWarning: You are using `torch.load` with `weights_only=False` (the current default value), which uses the default pickle module implicitly. It is possible to construct malicious pickle data which will execute arbitrary code during unpickling (See https://github.com/pytorch/pytorch/blob/main/SECURITY.md#untrusted-models for more details). In a future release, the default value for `weights_only` will be flipped to `True`. This limits the functions that could be executed during unpickling. Arbitrary objects will no longer be allowed to be loaded via this mode unless they are explicitly allowlisted by the user via `torch.serialization.add_safe_globals`. We recommend you start setting `weights_only=True` for any use case where you don't have full control of the loaded file. Please open an issue on GitHub for any issues related to this experimental feature.\n",
            "  model.load_state_dict(torch.load('./model/mnist.pth'))\n"
          ]
        },
        {
          "data": {
            "text/plain": [
              "<All keys matched successfully>"
            ]
          },
          "execution_count": 276,
          "metadata": {},
          "output_type": "execute_result"
        }
      ],
      "source": [
        "torch.save(model.state_dict(), './model/mnist.pth')\n",
        "model = Model(28*28, 256, 10)\n",
        "model.load_state_dict(torch.load('./model/mnist.pth'))"
      ]
    },
    {
      "cell_type": "code",
      "execution_count": 278,
      "metadata": {},
      "outputs": [
        {
          "name": "stdout",
          "output_type": "stream",
          "text": [
            "0.9778645634651184\n"
          ]
        }
      ],
      "source": [
        "total_test_acc = 0\n",
        "total_test_loss = 0\n",
        "\n",
        "model.eval()\n",
        "with torch.no_grad():\n",
        "    for X, y in test_dataloader:\n",
        "        X = X.to(device)\n",
        "        X = X.flatten(start_dim=1)\n",
        "        y = y.to(device)\n",
        "\n",
        "        output = model(X)\n",
        "        logit = F.softmax(output, dim=-1)\n",
        "        test_loss = criterion(logit, y)\n",
        "\n",
        "        test_acc = (logit.argmax(dim=-1) == y).float().mean()\n",
        "        total_test_acc += test_acc\n",
        "        total_test_loss += test_loss\n",
        "    \n",
        "mean_test_acc = total_test_acc / len(test_dataloader)\n",
        "print(mean_test_acc.item())"
      ]
    }
  ],
  "metadata": {
    "colab": {
      "provenance": []
    },
    "kernelspec": {
      "display_name": "Python 3.9.12 ('base')",
      "language": "python",
      "name": "python3"
    },
    "language_info": {
      "codemirror_mode": {
        "name": "ipython",
        "version": 3
      },
      "file_extension": ".py",
      "mimetype": "text/x-python",
      "name": "python",
      "nbconvert_exporter": "python",
      "pygments_lexer": "ipython3",
      "version": "3.10.14"
    },
    "vscode": {
      "interpreter": {
        "hash": "e4af6128c7e0808fede432f38729c473c5b0d80882e83c469acdb54455c56396"
      }
    }
  },
  "nbformat": 4,
  "nbformat_minor": 0
}
