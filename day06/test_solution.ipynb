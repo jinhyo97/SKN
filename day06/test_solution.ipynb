{
 "cells": [
  {
   "cell_type": "markdown",
   "metadata": {},
   "source": [
    "# 1.\n",
    "유저로부터 값을 입력받아 두 값의 곱을 출력하는 코드를 작성하시오"
   ]
  },
  {
   "cell_type": "code",
   "execution_count": null,
   "metadata": {},
   "outputs": [],
   "source": [
    "a, b = map(int, (input().split()))\n",
    "\n",
    "print(a * b)"
   ]
  },
  {
   "cell_type": "markdown",
   "metadata": {},
   "source": [
    "# 2.\n",
    "유저로부터 두 값을 입력받는다. 앞에는 숫자를 입력받으며 뒤에는 문자열을 입력받는다.  \n",
    "이 때, 입력은 한 줄로 ; 없이 받아야 하며, 입력한 두 값의 곱을 출력하는 코드를 작성하시오"
   ]
  },
  {
   "cell_type": "code",
   "execution_count": null,
   "metadata": {},
   "outputs": [],
   "source": [
    "user_input = input().split()\n",
    "num = int(user_input[0])\n",
    "string = user_input[1]\n",
    "\n",
    "print(string * num)\n"
   ]
  },
  {
   "cell_type": "markdown",
   "metadata": {},
   "source": [
    "## 3.\n",
    "\n",
    "리스트 내에 중복 없이 값을 채우려고 한다.  \n",
    "사용자로부터 몇 개의 중복 없는 값을 입력받을 지를 받으며,  \n",
    "그 수만큼 값을 입력할 수 있도록 코드를 작성하라"
   ]
  },
  {
   "cell_type": "code",
   "execution_count": 5,
   "metadata": {},
   "outputs": [],
   "source": [
    "maximum_list_length = int(input())\n",
    "number_list = []\n",
    "\n",
    "while len(number_list) < maximum_list_length:\n",
    "    user_input = input()\n",
    "    while user_input in number_list:\n",
    "        user_input = input()\n",
    "    \n",
    "    number_list.append(user_input)\n"
   ]
  },
  {
   "cell_type": "code",
   "execution_count": 6,
   "metadata": {},
   "outputs": [
    {
     "data": {
      "text/plain": [
       "['1', '2', '4']"
      ]
     },
     "execution_count": 6,
     "metadata": {},
     "output_type": "execute_result"
    }
   ],
   "source": [
    "number_list"
   ]
  },
  {
   "cell_type": "markdown",
   "metadata": {},
   "source": [
    "## 4.\n",
    "\n",
    "튜플 내 최댓값을 구현하는 코드를 작성하려고 한다.  \n",
    "max 함수를 사용하지 않고 구현하시오."
   ]
  },
  {
   "cell_type": "code",
   "execution_count": 9,
   "metadata": {},
   "outputs": [
    {
     "data": {
      "text/plain": [
       "5"
      ]
     },
     "execution_count": 9,
     "metadata": {},
     "output_type": "execute_result"
    }
   ],
   "source": [
    "tuple_ = (1, 3, 2, 4, 5, 4)\n",
    "\n",
    "sorted(tuple_)[-1]"
   ]
  },
  {
   "cell_type": "markdown",
   "metadata": {},
   "source": [
    "## 5.\n",
    "\n",
    "두 개의 딕셔너리를 구성하려고 한다.  \n",
    "각기 3개의 key-value값을 가지며 이를 사용자로부터 입력받는다.  \n",
    "이후 두 딕셔너리를 하나로 합하여 전체 딕셔너리를 출력하는 코드를 작성하시오"
   ]
  },
  {
   "cell_type": "code",
   "execution_count": 12,
   "metadata": {},
   "outputs": [
    {
     "name": "stdout",
     "output_type": "stream",
     "text": [
      "{'1': '2', '3': '4', '5': '6', '7': '8', '9': '10', '11': '12'}\n"
     ]
    }
   ],
   "source": [
    "dict1 = {}\n",
    "dict2 = {}\n",
    "\n",
    "for i in range(3):\n",
    "    user_input = input(f'{i+1}th key-value enter: (split by \\';\\')')\n",
    "    key, value = user_input.split(';')\n",
    "    dict1.update({key: value})\n",
    "\n",
    "for i in range(3):\n",
    "    user_input = input(f'{i+1}th key-value enter: (split by \\';\\')')\n",
    "    key, value = user_input.split(';')\n",
    "    dict2.update({key: value})\n",
    "\n",
    "dict1.update(dict2)\n",
    "\n",
    "print(dict1)"
   ]
  },
  {
   "cell_type": "markdown",
   "metadata": {},
   "source": [
    "## 6. \n",
    "\n",
    "30 이하의 숫자 중 정답을 맞추는 게임을 진행하려고 한다. (정답은 21)  \n",
    "user로부터 숫자를 하나 입력받는다. (입력은 문자를 포함할 수 있다)  \n",
    "입력된 숫자를 가지고 정답을 세 번 이하의 시도로 맞추는 게임을 코드로 작성하시오."
   ]
  },
  {
   "cell_type": "code",
   "execution_count": 19,
   "metadata": {},
   "outputs": [
    {
     "name": "stdout",
     "output_type": "stream",
     "text": [
      "1th trial. Incorrect\n",
      "2th trial. Incorrect\n",
      "3th trial. Incorrect\n",
      "exceed maximum trial\n"
     ]
    }
   ],
   "source": [
    "ANSWER = 21\n",
    "trial = 0\n",
    "\n",
    "def input_integer():\n",
    "    try:\n",
    "        user_input_number = int(input('Enter number: '))\n",
    "        return user_input_number\n",
    "    except:\n",
    "        return input_integer()\n",
    "\n",
    "while True:\n",
    "    trial += 1\n",
    "\n",
    "    if trial > 3:\n",
    "        print('exceed maximum trial')\n",
    "        break\n",
    "\n",
    "    user_input_number = input_integer()\n",
    "\n",
    "    if user_input_number == ANSWER:    \n",
    "        print(f'{trial}th trial. Correct')\n",
    "        break\n",
    "    \n",
    "    print(f'{trial}th trial. Incorrect')\n"
   ]
  },
  {
   "cell_type": "markdown",
   "metadata": {},
   "source": [
    "## 7. \n",
    "\n",
    "숫자를 하나 입력받는다.  \n",
    "좌우 대칭인 숫자가 있으면 대칭, 그렇지 않으면 비대칭을 출력하는 코드를 작성하시오"
   ]
  },
  {
   "cell_type": "code",
   "execution_count": 21,
   "metadata": {},
   "outputs": [
    {
     "name": "stdout",
     "output_type": "stream",
     "text": [
      "비대칭\n"
     ]
    }
   ],
   "source": [
    "user_input = input()\n",
    "\n",
    "if user_input == user_input[::-1]:\n",
    "    print('대칭')\n",
    "else:\n",
    "    print('비대칭')"
   ]
  },
  {
   "cell_type": "markdown",
   "metadata": {},
   "source": [
    "## 8.\n",
    "\n",
    "성적 입력 프로그램을 구성하려고 한다.  \n",
    "점수가 입력되면 90이상은 A, 70이상은 B, 나머지는 C를 출력하는 프로그램을 작성하시오"
   ]
  },
  {
   "cell_type": "code",
   "execution_count": null,
   "metadata": {},
   "outputs": [],
   "source": [
    "score = int(input())\n",
    "\n",
    "if score >= 90:\n",
    "    print('A')\n",
    "elif score >= 70:\n",
    "    print('B')\n",
    "else:\n",
    "    print('C')"
   ]
  },
  {
   "cell_type": "markdown",
   "metadata": {},
   "source": [
    "# 9.\n",
    "\n",
    "자동차 컨트롤 프로그램을 만들려고 한다.  \n",
    "자동차는 hyundai, kia가 있으며,  \n",
    "hyundai에는 genesis, grandeur, sonata가 있으며,  \n",
    "kia에는 K9, K7, K5가 존재한다.  \n",
    "\n",
    "자동차의 속성에는  \n",
    "height, width, weight가 존재하며  \n",
    "기능으로는  \n",
    "accel, break가 존재한다.\n",
    "\n",
    "accel은 accel_padal_angle / 100으로 구성되며,  \n",
    "break는 break_padal_angle / weight로 구성된다.\n",
    "\n",
    "각 차종을 한 번에 달리거나 멈출 수 있게 하는 함수를 구성하여 조작하는 프로그램을 작성하라.  "
   ]
  },
  {
   "cell_type": "code",
   "execution_count": 25,
   "metadata": {},
   "outputs": [
    {
     "name": "stdout",
     "output_type": "stream",
     "text": [
      "0.5\n",
      "0.5\n",
      "0.5\n",
      "1.0\n",
      "1.0\n",
      "1.0\n"
     ]
    }
   ],
   "source": [
    "class Car:\n",
    "    def __init__(self, height, width, weight) -> None:\n",
    "        self.height = height\n",
    "        self.width = width\n",
    "        self.weight = weight\n",
    "\n",
    "class Hyundai(Car):\n",
    "    def __init__(self, height, width, weight, name) -> None:\n",
    "        super().__init__(height, width, weight)\n",
    "        self.name = name\n",
    "    \n",
    "    def accel_(self, accel_padal_angle):\n",
    "        return accel_padal_angle / 100\n",
    "    \n",
    "    def break_(self, break_padal_angle):\n",
    "        return break_padal_angle / self.weight\n",
    "\n",
    "class Kia(Car):\n",
    "    def __init__(self, height, width, weight, name) -> None:\n",
    "        super().__init__(height, width, weight)\n",
    "        self.name = name\n",
    "    \n",
    "    def accel_(self, accel_padal_angle):\n",
    "        return accel_padal_angle / 100\n",
    "\n",
    "    def break_(self, break_padal_angle):\n",
    "        return break_padal_angle / self.weight\n",
    "\n",
    "genesis = Hyundai(100, 100, 100, 'genesis')\n",
    "grandeur = Hyundai(100, 100, 100, 'grandeur')\n",
    "sonata = Hyundai(100, 100, 100, 'sonata')\n",
    "\n",
    "hyundai_cars = [genesis, grandeur, sonata]\n",
    "\n",
    "k9 = Kia(50, 50, 50, 'K9')\n",
    "k7 = Kia(50, 50, 50, 'K7')\n",
    "k5 = Kia(50, 50, 50, 'K5')\n",
    "\n",
    "kia_cars = [k9, k7, k5]\n",
    "\n",
    "def accel_(cars: list):\n",
    "    for car in cars:\n",
    "        print(car.accel_(50))\n",
    "\n",
    "def break_(cars: list):\n",
    "    for car in cars:\n",
    "        print(car.break_(50))\n",
    "\n",
    "accel_(hyundai_cars)\n",
    "break_(kia_cars)"
   ]
  },
  {
   "cell_type": "markdown",
   "metadata": {},
   "source": [
    "## 10. \n",
    "\n",
    "주어진 배열 arr이 있다.  \n",
    "배열의 각 원소는 0부터 9까지의 숫자입니다.  \n",
    "이 배열에서 연속해서 같은 숫자가 나타나는 경우, 그 중 하나만 남기고 나머지는 모두 제거한다.  \n",
    "제거한 후에는 배열의 순서를 그대로 유지하며 결과를 반환한다.  \n",
    "예를 들어,  \n",
    "\n",
    "arr = [1, 1, 3, 3, 0, 1, 1]이라면, 결과는 [1, 3, 0, 1]이 된다.  \n",
    "arr = [4, 4, 4, 3, 3]이라면, 결과는 [4, 3]이 된다.  \n",
    "이런 방식으로 연속적으로 나타나는 숫자를 제거하고 남은 수들을 반환하는 solution 함수를 작성하라.\n",
    "\n",
    "<br>\n",
    "\n",
    "```python\n",
    "def solution(arr):\n",
    "    pass\n",
    "```"
   ]
  },
  {
   "cell_type": "code",
   "execution_count": 41,
   "metadata": {},
   "outputs": [],
   "source": [
    "def solution(arr: list) -> list:\n",
    "    answer = [arr[0]]\n",
    "    \n",
    "    for i, element in enumerate(arr[1:]):\n",
    "        if arr[i+1] != arr[i]:\n",
    "            answer.append(element) \n",
    "\n",
    "    return answer"
   ]
  },
  {
   "cell_type": "code",
   "execution_count": 42,
   "metadata": {},
   "outputs": [
    {
     "data": {
      "text/plain": [
       "[1, 3, 0, 1]"
      ]
     },
     "execution_count": 42,
     "metadata": {},
     "output_type": "execute_result"
    }
   ],
   "source": [
    "solution([1, 1, 3, 3, 0, 1, 1])"
   ]
  }
 ],
 "metadata": {
  "kernelspec": {
   "display_name": "Python 3.9.12 ('base')",
   "language": "python",
   "name": "python3"
  },
  "language_info": {
   "codemirror_mode": {
    "name": "ipython",
    "version": 3
   },
   "file_extension": ".py",
   "mimetype": "text/x-python",
   "name": "python",
   "nbconvert_exporter": "python",
   "pygments_lexer": "ipython3",
   "version": "3.9.12"
  },
  "orig_nbformat": 4,
  "vscode": {
   "interpreter": {
    "hash": "e4af6128c7e0808fede432f38729c473c5b0d80882e83c469acdb54455c56396"
   }
  }
 },
 "nbformat": 4,
 "nbformat_minor": 2
}
