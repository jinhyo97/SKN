{
  "cells": [
    {
      "cell_type": "markdown",
      "metadata": {
        "id": "mZoepzGCkfk8"
      },
      "source": [
        "# 9.파이썬 모듈"
      ]
    },
    {
      "cell_type": "markdown",
      "metadata": {
        "id": "co_EH3TINa6_"
      },
      "source": [
        "## 9.1 모듈과 import"
      ]
    },
    {
      "cell_type": "markdown",
      "metadata": {
        "id": "goP2BMG0lZcr"
      },
      "source": [
        "### 9.1.1 모듈이란?\n",
        "\n",
        "모듈(module)이란 언제든지 사용할 수 있도록  \n",
        "변수나 함수 또는 클래스를 모아 놓은 파이썬 파일.  \n",
        "따라서 모든 파이썬 파일은 모듈이 될 수 있음."
      ]
    },
    {
      "cell_type": "markdown",
      "metadata": {
        "id": "l5jLbftAQfiz"
      },
      "source": [
        "### 9.1.2 모듈의 생성\n",
        "\n",
        "converter.py라는 이름으로 다음과 같은 파일 저장\n",
        "```python\n",
        "MILES = 0.621371\n",
        "POUND = 0.00220462\n",
        "\n",
        "def kilometer_to_miles(kilometer):\n",
        "  return kilometer * MILES\n",
        "\n",
        "def gram_to_pounds(gram):\n",
        "  return gram * POUND\n",
        "```"
      ]
    },
    {
      "cell_type": "markdown",
      "metadata": {
        "id": "9VJ9h2qjglLT"
      },
      "source": [
        "### 9.1.3 모듈의 사용\n",
        "\n",
        "모듈을 사용하기 위해서는 import를 해야 함.  \n",
        "import에는 두 가지 방법이 존재.  \n",
        "\n",
        "모듈에 저장된 모든 클래스나 함수를 사용하고자 할 때 사용.\n",
        "```python\n",
        "import module\n",
        "```\n",
        "\n",
        "모듈에 포함된 함수나 클래스 중 특정한 것만 골라서 가져오는 방법.  \n",
        "1번은 하나만 가져오는 방법, 2번은 2개, 3번은 전체를 가지고 오는 방법\n",
        "```python\n",
        "from module import function\n",
        "from module import function1, function2\n",
        "from module import *\n",
        "```\n"
      ]
    },
    {
      "cell_type": "code",
      "execution_count": 1,
      "metadata": {},
      "outputs": [],
      "source": [
        "import converter"
      ]
    },
    {
      "cell_type": "code",
      "execution_count": 2,
      "metadata": {},
      "outputs": [
        {
          "name": "stdout",
          "output_type": "stream",
          "text": [
            "0.621371\n",
            "0.00220462\n"
          ]
        }
      ],
      "source": [
        "print(converter.MILES)\n",
        "print(converter.POUND)"
      ]
    },
    {
      "cell_type": "code",
      "execution_count": 4,
      "metadata": {},
      "outputs": [
        {
          "name": "stdout",
          "output_type": "stream",
          "text": [
            "62.137100000000004\n",
            "0.220462\n"
          ]
        }
      ],
      "source": [
        "print(converter.kilometer_to_miles(100))\n",
        "print(converter.gram_to_pounds(100))"
      ]
    },
    {
      "cell_type": "code",
      "execution_count": 7,
      "metadata": {},
      "outputs": [],
      "source": [
        "from converter import MILES, POUND"
      ]
    },
    {
      "cell_type": "code",
      "execution_count": 6,
      "metadata": {},
      "outputs": [
        {
          "data": {
            "text/plain": [
              "0.621371"
            ]
          },
          "execution_count": 6,
          "metadata": {},
          "output_type": "execute_result"
        }
      ],
      "source": [
        "MILES"
      ]
    },
    {
      "cell_type": "code",
      "execution_count": 8,
      "metadata": {},
      "outputs": [
        {
          "data": {
            "text/plain": [
              "0.00220462"
            ]
          },
          "execution_count": 8,
          "metadata": {},
          "output_type": "execute_result"
        }
      ],
      "source": [
        "POUND"
      ]
    },
    {
      "cell_type": "code",
      "execution_count": 11,
      "metadata": {},
      "outputs": [],
      "source": [
        "from converter import *"
      ]
    },
    {
      "cell_type": "code",
      "execution_count": 13,
      "metadata": {},
      "outputs": [
        {
          "data": {
            "text/plain": [
              "62.137100000000004"
            ]
          },
          "execution_count": 13,
          "metadata": {},
          "output_type": "execute_result"
        }
      ],
      "source": [
        "kilometer_to_miles(100)"
      ]
    },
    {
      "cell_type": "code",
      "execution_count": 14,
      "metadata": {},
      "outputs": [],
      "source": [
        "from converter import *\n",
        "from converter2 import *"
      ]
    },
    {
      "cell_type": "code",
      "execution_count": 15,
      "metadata": {},
      "outputs": [
        {
          "data": {
            "text/plain": [
              "1000000"
            ]
          },
          "execution_count": 15,
          "metadata": {},
          "output_type": "execute_result"
        }
      ],
      "source": [
        "# 마지막에 불러온 함수로 사용됨\n",
        "kilometer_to_miles(10)"
      ]
    },
    {
      "cell_type": "code",
      "execution_count": 16,
      "metadata": {},
      "outputs": [
        {
          "name": "stdout",
          "output_type": "stream",
          "text": [
            "hello world\n"
          ]
        }
      ],
      "source": [
        "# test라는 모듈을 만든 뒤\n",
        "# hello world라는 함수를 생성한다\n",
        "# 함수의 내용은 hello world를 출력하는 함수이다.\n",
        "# 이를 현재 주피터 셀에서 불러온 후 호출하시오.\n",
        "\n",
        "from test import hello_world\n",
        "\n",
        "hello_world()"
      ]
    },
    {
      "cell_type": "markdown",
      "metadata": {
        "id": "QuCYU56VhOqu"
      },
      "source": [
        "### 9.1.4 별명 사용하기\n",
        "\n",
        "모듈이나 함수를 import하는 경우 원래 이름 대신 별명을 지정하고 사용 가능.  \n",
        "함수나 클래스의 이름이 긴 경우 주로 짧은 별명을 지정하고 긴 본래 이름 대신 사용.  \n",
        "별명을 지정할 때는 as라는 키워드 사용\n",
        "\n",
        "```python\n",
        "import module as 별명\n",
        "```\n",
        "\n"
      ]
    },
    {
      "cell_type": "code",
      "execution_count": 18,
      "metadata": {},
      "outputs": [
        {
          "name": "stdout",
          "output_type": "stream",
          "text": [
            "0.220462\n",
            "0.220462\n"
          ]
        }
      ],
      "source": [
        "import converter as cv  # cv = converter\n",
        "from converter import gram_to_pounds as gtp\n",
        "\n",
        "print(cv.gram_to_pounds(100))\n",
        "print(gtp(100))"
      ]
    },
    {
      "cell_type": "code",
      "execution_count": null,
      "metadata": {},
      "outputs": [],
      "source": [
        "import numpy as np\n",
        "import pandas as pd\n",
        "import scipy as sp"
      ]
    },
    {
      "cell_type": "markdown",
      "metadata": {
        "id": "JlWD8y8PkYdW"
      },
      "source": [
        "## 9.2 표준 모듈의 활용"
      ]
    },
    {
      "cell_type": "markdown",
      "metadata": {
        "id": "DPnMaVXokxpB"
      },
      "source": [
        "### 9.2.1 math 모듈"
      ]
    },
    {
      "cell_type": "code",
      "execution_count": 19,
      "metadata": {},
      "outputs": [],
      "source": [
        "import math"
      ]
    },
    {
      "cell_type": "markdown",
      "metadata": {
        "id": "HRt2v8k6k_jX"
      },
      "source": [
        "#### pi\n",
        "\n",
        "pi값을 출력"
      ]
    },
    {
      "cell_type": "code",
      "execution_count": 20,
      "metadata": {},
      "outputs": [
        {
          "data": {
            "text/plain": [
              "3.141592653589793"
            ]
          },
          "execution_count": 20,
          "metadata": {},
          "output_type": "execute_result"
        }
      ],
      "source": [
        "math.pi"
      ]
    },
    {
      "cell_type": "markdown",
      "metadata": {
        "id": "BbbU3Okek_nU"
      },
      "source": [
        "#### ceil()\n",
        "\n",
        "정수로 올림"
      ]
    },
    {
      "cell_type": "code",
      "execution_count": 21,
      "metadata": {},
      "outputs": [
        {
          "data": {
            "text/plain": [
              "3"
            ]
          },
          "execution_count": 21,
          "metadata": {},
          "output_type": "execute_result"
        }
      ],
      "source": [
        "math.ceil(2.13)"
      ]
    },
    {
      "cell_type": "markdown",
      "metadata": {
        "id": "22-lGad-k_zh"
      },
      "source": [
        "#### floor()\n",
        "\n",
        "정수로 내림"
      ]
    },
    {
      "cell_type": "code",
      "execution_count": 24,
      "metadata": {},
      "outputs": [
        {
          "data": {
            "text/plain": [
              "2"
            ]
          },
          "execution_count": 24,
          "metadata": {},
          "output_type": "execute_result"
        }
      ],
      "source": [
        "math.floor(2.13)"
      ]
    },
    {
      "cell_type": "code",
      "execution_count": 25,
      "metadata": {},
      "outputs": [
        {
          "data": {
            "text/plain": [
              "-3"
            ]
          },
          "execution_count": 25,
          "metadata": {},
          "output_type": "execute_result"
        }
      ],
      "source": [
        "math.floor(-2.13)"
      ]
    },
    {
      "cell_type": "markdown",
      "metadata": {
        "id": "stEWQs22k_1v"
      },
      "source": [
        "#### trunc()\n",
        "\n",
        "정수로 절사.  \n",
        "floor과 비교 시 양수에서는 차이가 없으나,  \n",
        "음수 처리 시 차이 존재."
      ]
    },
    {
      "cell_type": "code",
      "execution_count": 26,
      "metadata": {},
      "outputs": [
        {
          "name": "stdout",
          "output_type": "stream",
          "text": [
            "-2\n",
            "-3\n"
          ]
        }
      ],
      "source": [
        "print(math.trunc(-2.13))\n",
        "print(math.floor(-2.13))"
      ]
    },
    {
      "cell_type": "markdown",
      "metadata": {
        "id": "pp_rE59Vk_3q"
      },
      "source": [
        "#### sqrt()\n",
        "\n",
        "제곱근 계산"
      ]
    },
    {
      "cell_type": "code",
      "execution_count": 27,
      "metadata": {},
      "outputs": [
        {
          "data": {
            "text/plain": [
              "2.0"
            ]
          },
          "execution_count": 27,
          "metadata": {},
          "output_type": "execute_result"
        }
      ],
      "source": [
        "math.sqrt(4)"
      ]
    },
    {
      "cell_type": "code",
      "execution_count": 28,
      "metadata": {},
      "outputs": [
        {
          "data": {
            "text/plain": [
              "2.0"
            ]
          },
          "execution_count": 28,
          "metadata": {},
          "output_type": "execute_result"
        }
      ],
      "source": [
        "4 ** 0.5"
      ]
    },
    {
      "cell_type": "code",
      "execution_count": 29,
      "metadata": {},
      "outputs": [
        {
          "data": {
            "text/plain": [
              "2.0"
            ]
          },
          "execution_count": 29,
          "metadata": {},
          "output_type": "execute_result"
        }
      ],
      "source": [
        "pow(4, 0.5)"
      ]
    },
    {
      "cell_type": "markdown",
      "metadata": {
        "id": "CYSaBtTllGwG"
      },
      "source": [
        "#### pow()\n",
        "\n",
        "제곱 계산"
      ]
    },
    {
      "cell_type": "code",
      "execution_count": 30,
      "metadata": {},
      "outputs": [
        {
          "data": {
            "text/plain": [
              "4.0"
            ]
          },
          "execution_count": 30,
          "metadata": {},
          "output_type": "execute_result"
        }
      ],
      "source": [
        "math.pow(2, 2)"
      ]
    },
    {
      "cell_type": "markdown",
      "metadata": {
        "id": "ZxKSxFAXkxzv"
      },
      "source": [
        "### 9.2.2 random 모듈"
      ]
    },
    {
      "cell_type": "code",
      "execution_count": 31,
      "metadata": {
        "id": "uO00ltZ0mOrM"
      },
      "outputs": [],
      "source": [
        "import random"
      ]
    },
    {
      "cell_type": "markdown",
      "metadata": {
        "id": "pW15yhnImRBJ"
      },
      "source": [
        "##### randint()\n",
        "\n",
        "전달하는 두 인수 사이의 정수를 임의로 생성"
      ]
    },
    {
      "cell_type": "code",
      "execution_count": 94,
      "metadata": {},
      "outputs": [
        {
          "data": {
            "text/plain": [
              "10"
            ]
          },
          "execution_count": 94,
          "metadata": {},
          "output_type": "execute_result"
        }
      ],
      "source": [
        "random.randint(1, 10)"
      ]
    },
    {
      "cell_type": "markdown",
      "metadata": {
        "id": "xKiWkFa0mRtQ"
      },
      "source": [
        "##### randrange()\n",
        "\n",
        "특정 범위에 속한 정수 중 하나만 임의로 생성"
      ]
    },
    {
      "cell_type": "code",
      "execution_count": 111,
      "metadata": {},
      "outputs": [
        {
          "data": {
            "text/plain": [
              "4"
            ]
          },
          "execution_count": 111,
          "metadata": {},
          "output_type": "execute_result"
        }
      ],
      "source": [
        "random.randrange(1, 10)"
      ]
    },
    {
      "cell_type": "code",
      "execution_count": 112,
      "metadata": {},
      "outputs": [
        {
          "name": "stdout",
          "output_type": "stream",
          "text": [
            "Help on method randrange in module random:\n",
            "\n",
            "randrange(start, stop=None, step=1) method of random.Random instance\n",
            "    Choose a random item from range(stop) or range(start, stop[, step]).\n",
            "\n",
            "    Roughly equivalent to ``choice(range(start, stop, step))`` but\n",
            "    supports arbitrarily large ranges and is optimized for common cases.\n",
            "\n"
          ]
        }
      ],
      "source": [
        "help(random.randrange)"
      ]
    },
    {
      "cell_type": "code",
      "execution_count": 139,
      "metadata": {},
      "outputs": [
        {
          "name": "stdout",
          "output_type": "stream",
          "text": [
            "6\n"
          ]
        }
      ],
      "source": [
        "print(random.randrange(10))\n",
        "print(random.randrange(1, 10))\n",
        "print(random.randrange(1, 10, 2))"
      ]
    },
    {
      "cell_type": "code",
      "execution_count": 141,
      "metadata": {},
      "outputs": [],
      "source": [
        "# 스텟의 총 합: 25\n",
        "# 스텟 최솟값: 4\n",
        "# 스텟의 최댓값: 7 (한 개의 스텟은 이를 무시한다)\n",
        "\n",
        "# str\n",
        "# dex\n",
        "# int\n",
        "# lux\n",
        "\n",
        "def stat_roll():\n",
        "    str = random.randrange(4, 8)\n",
        "    dex = random.randrange(4, 8)\n",
        "    int = random.randrange(4, 8)\n",
        "    lux = 25 - str - dex - int\n",
        "\n",
        "    print(f'str: {str}')\n",
        "    print(f'dex: {dex}')\n",
        "    print(f'int: {int}')\n",
        "    print(f'lux: {lux}')"
      ]
    },
    {
      "cell_type": "code",
      "execution_count": 154,
      "metadata": {},
      "outputs": [
        {
          "name": "stdout",
          "output_type": "stream",
          "text": [
            "str: 4\n",
            "dex: 4\n",
            "int: 5\n",
            "lux: 12\n"
          ]
        }
      ],
      "source": [
        "stat_roll()"
      ]
    },
    {
      "cell_type": "markdown",
      "metadata": {
        "id": "f-nZYgdBmRwo"
      },
      "source": [
        "##### random()\n",
        "\n",
        "0이상 1미만 범위에서 임의의 실수 생성"
      ]
    },
    {
      "cell_type": "code",
      "execution_count": 171,
      "metadata": {},
      "outputs": [
        {
          "data": {
            "text/plain": [
              "0.2533161331853916"
            ]
          },
          "execution_count": 171,
          "metadata": {},
          "output_type": "execute_result"
        }
      ],
      "source": [
        "random.random()"
      ]
    },
    {
      "cell_type": "code",
      "execution_count": 189,
      "metadata": {},
      "outputs": [
        {
          "data": {
            "text/plain": [
              "4"
            ]
          },
          "execution_count": 189,
          "metadata": {},
          "output_type": "execute_result"
        }
      ],
      "source": [
        "# 1 ~ 10의 값이 출력되도록 random 함수 적절하게 변형\n",
        "\n",
        "int(10*random.random() + 1)"
      ]
    },
    {
      "cell_type": "markdown",
      "metadata": {
        "id": "pxzR-zLkmRzi"
      },
      "source": [
        "##### choice()\n",
        "\n",
        "전달된 시퀀스 자료형 요소 중 하나를 임의로 반환.  "
      ]
    },
    {
      "cell_type": "code",
      "execution_count": 208,
      "metadata": {},
      "outputs": [
        {
          "data": {
            "text/plain": [
              "2"
            ]
          },
          "execution_count": 208,
          "metadata": {},
          "output_type": "execute_result"
        }
      ],
      "source": [
        "random.choice([1, 2, 3])"
      ]
    },
    {
      "cell_type": "code",
      "execution_count": null,
      "metadata": {},
      "outputs": [],
      "source": [
        "ANSWER = random.randrange(1, 31) # random.choice(range(1, 31))\n",
        "trial = 0\n",
        "\n",
        "def input_integer():\n",
        "    try:\n",
        "        user_input_number = int(input('Enter number: '))\n",
        "        return user_input_number\n",
        "    except:\n",
        "        return input_integer()\n",
        "\n",
        "while True:\n",
        "    trial += 1\n",
        "\n",
        "    if trial > 3:\n",
        "        print('exceed maximum trial')\n",
        "        break\n",
        "\n",
        "    user_input_number = input_integer()\n",
        "\n",
        "    if user_input_number == ANSWER:    \n",
        "        print(f'{trial}th trial. Correct')\n",
        "        break\n",
        "    \n",
        "    print(f'{trial}th trial. Incorrect')\n"
      ]
    },
    {
      "cell_type": "markdown",
      "metadata": {
        "id": "q4kHNwzzmR2Q"
      },
      "source": [
        "##### sample()\n",
        "전달된 시퀀스 자료형 요소 중 지정된 개수를 임의로 반환.  \n",
        "반환 결과는 리스트 자료형이며 중복 없이 임의의 요소 선택."
      ]
    },
    {
      "cell_type": "code",
      "execution_count": 227,
      "metadata": {},
      "outputs": [
        {
          "data": {
            "text/plain": [
              "[1, 8, 5]"
            ]
          },
          "execution_count": 227,
          "metadata": {},
          "output_type": "execute_result"
        }
      ],
      "source": [
        "random.sample(range(10), 3)"
      ]
    },
    {
      "cell_type": "code",
      "execution_count": 235,
      "metadata": {},
      "outputs": [],
      "source": [
        "from tqdm import tqdm\n",
        "# 금주 로또 번호: [6, 7, 19, 28, 34, 41]\n",
        "WIN_NUMBERS = [6, 7, 19, 28, 34, 41]\n",
        "\n",
        "def lottery(money, win_numbers=WIN_NUMBERS):\n",
        "    assert money%1000 == 0, '1000원 단위로 구매할 수 있습니다'\n",
        "\n",
        "    count = 0\n",
        "    for _ in tqdm(range(money//1000)):\n",
        "        my_numbers = random.sample(range(1, 46), 6)\n",
        "        my_numbers.sort()\n",
        "        if win_numbers == my_numbers:\n",
        "            print('당첨')\n",
        "            count += 1\n",
        "    \n",
        "    return count"
      ]
    },
    {
      "cell_type": "code",
      "execution_count": 241,
      "metadata": {},
      "outputs": [
        {
          "name": "stderr",
          "output_type": "stream",
          "text": [
            " 78%|███████▊  | 7762849/10000000 [00:22<00:06, 345949.95it/s]"
          ]
        },
        {
          "name": "stdout",
          "output_type": "stream",
          "text": [
            "당첨\n"
          ]
        },
        {
          "name": "stderr",
          "output_type": "stream",
          "text": [
            " 86%|████████▌ | 8608988/10000000 [00:24<00:03, 350346.43it/s]"
          ]
        },
        {
          "name": "stdout",
          "output_type": "stream",
          "text": [
            "당첨\n"
          ]
        },
        {
          "name": "stderr",
          "output_type": "stream",
          "text": [
            "100%|██████████| 10000000/10000000 [00:28<00:00, 347128.79it/s]\n"
          ]
        },
        {
          "data": {
            "text/plain": [
              "2"
            ]
          },
          "execution_count": 241,
          "metadata": {},
          "output_type": "execute_result"
        }
      ],
      "source": [
        "lottery(10000000000)"
      ]
    },
    {
      "cell_type": "markdown",
      "metadata": {
        "id": "M_aBAcVsmR9U"
      },
      "source": [
        "##### shuffle()\n",
        "\n",
        "전달된 시퀀스를 임의로 섞음."
      ]
    },
    {
      "cell_type": "code",
      "execution_count": 214,
      "metadata": {},
      "outputs": [
        {
          "data": {
            "text/plain": [
              "[5, 4, 1, 3, 2]"
            ]
          },
          "execution_count": 214,
          "metadata": {},
          "output_type": "execute_result"
        }
      ],
      "source": [
        "list_ = [1, 2, 3, 4, 5]\n",
        "random.shuffle(list_)\n",
        "list_"
      ]
    },
    {
      "cell_type": "code",
      "execution_count": 212,
      "metadata": {},
      "outputs": [
        {
          "ename": "TypeError",
          "evalue": "'set' object is not subscriptable",
          "output_type": "error",
          "traceback": [
            "\u001b[1;31m---------------------------------------------------------------------------\u001b[0m",
            "\u001b[1;31mTypeError\u001b[0m                                 Traceback (most recent call last)",
            "Cell \u001b[1;32mIn[212], line 2\u001b[0m\n\u001b[0;32m      1\u001b[0m list_ \u001b[38;5;241m=\u001b[39m {\u001b[38;5;241m1\u001b[39m, \u001b[38;5;241m2\u001b[39m, \u001b[38;5;241m3\u001b[39m, \u001b[38;5;241m4\u001b[39m, \u001b[38;5;241m5\u001b[39m}\n\u001b[1;32m----> 2\u001b[0m random\u001b[38;5;241m.\u001b[39mshuffle(list_)\n\u001b[0;32m      3\u001b[0m list_\n",
            "File \u001b[1;32mc:\\ProgramData\\anaconda3\\Lib\\random.py:357\u001b[0m, in \u001b[0;36mRandom.shuffle\u001b[1;34m(self, x)\u001b[0m\n\u001b[0;32m    354\u001b[0m \u001b[38;5;28;01mfor\u001b[39;00m i \u001b[38;5;129;01min\u001b[39;00m \u001b[38;5;28mreversed\u001b[39m(\u001b[38;5;28mrange\u001b[39m(\u001b[38;5;241m1\u001b[39m, \u001b[38;5;28mlen\u001b[39m(x))):\n\u001b[0;32m    355\u001b[0m     \u001b[38;5;66;03m# pick an element in x[:i+1] with which to exchange x[i]\u001b[39;00m\n\u001b[0;32m    356\u001b[0m     j \u001b[38;5;241m=\u001b[39m randbelow(i \u001b[38;5;241m+\u001b[39m \u001b[38;5;241m1\u001b[39m)\n\u001b[1;32m--> 357\u001b[0m     x[i], x[j] \u001b[38;5;241m=\u001b[39m x[j], x[i]\n",
            "\u001b[1;31mTypeError\u001b[0m: 'set' object is not subscriptable"
          ]
        }
      ],
      "source": [
        "list_ = {1, 2, 3, 4, 5}\n",
        "random.shuffle(list_)\n",
        "list_"
      ]
    },
    {
      "cell_type": "markdown",
      "metadata": {
        "id": "mFem-URIkx3E"
      },
      "source": [
        "### 9.2.3 time 모듈"
      ]
    },
    {
      "cell_type": "code",
      "execution_count": 242,
      "metadata": {
        "id": "VLCovlIznk-J"
      },
      "outputs": [],
      "source": [
        "import time"
      ]
    },
    {
      "cell_type": "markdown",
      "metadata": {
        "id": "v4pZxedtnmdR"
      },
      "source": [
        "#### time() 함수\n",
        "\n",
        "1970년 1월 1일 0시 0분 1초부터 현재까지 경과된 시간 반환.  \n",
        "소숫점 이하는 마이크로초 의미."
      ]
    },
    {
      "cell_type": "code",
      "execution_count": 243,
      "metadata": {},
      "outputs": [
        {
          "data": {
            "text/plain": [
              "1723429196.5744052"
            ]
          },
          "execution_count": 243,
          "metadata": {},
          "output_type": "execute_result"
        }
      ],
      "source": [
        "time.time()"
      ]
    },
    {
      "cell_type": "code",
      "execution_count": 245,
      "metadata": {},
      "outputs": [
        {
          "name": "stderr",
          "output_type": "stream",
          "text": [
            "100%|██████████| 100/100 [00:00<00:00, 99983.41it/s]\n"
          ]
        },
        {
          "data": {
            "text/plain": [
              "0.002999544143676758"
            ]
          },
          "execution_count": 245,
          "metadata": {},
          "output_type": "execute_result"
        }
      ],
      "source": [
        "start_time = time.time()\n",
        "\n",
        "lottery(100000)\n",
        "\n",
        "time.time() - start_time"
      ]
    },
    {
      "cell_type": "markdown",
      "metadata": {
        "id": "LPZgJAFFnoeL"
      },
      "source": [
        "#### ctime() 함수\n",
        "\n",
        "인수로 전달된 시간을 형식을 갖춰 반환"
      ]
    },
    {
      "cell_type": "code",
      "execution_count": 247,
      "metadata": {},
      "outputs": [
        {
          "data": {
            "text/plain": [
              "'Mon Aug 12 11:22:48 2024'"
            ]
          },
          "execution_count": 247,
          "metadata": {},
          "output_type": "execute_result"
        }
      ],
      "source": [
        "time.ctime(time.time())"
      ]
    },
    {
      "cell_type": "markdown",
      "metadata": {
        "id": "nTDksqvonpSA"
      },
      "source": [
        "#### strftime() 함수\n",
        "\n",
        "인수로 전달된 날짜와 지시자를 이용하여 형식을 갖춘 날짜 데이터가 문자열로 반환.  \n",
        "지시자는 대소문자를 구분."
      ]
    },
    {
      "cell_type": "code",
      "execution_count": 253,
      "metadata": {},
      "outputs": [
        {
          "data": {
            "text/plain": [
              "'2024-08-12 11:26:45'"
            ]
          },
          "execution_count": 253,
          "metadata": {},
          "output_type": "execute_result"
        }
      ],
      "source": [
        "time.strftime('%Y-%m-%d %a %H:%M:%S')"
      ]
    },
    {
      "cell_type": "markdown",
      "metadata": {
        "id": "gaPuKyQynpY8"
      },
      "source": [
        "#### sleep()\n",
        "\n",
        "인수로 전달된 초(second) 만큼 시스템 정지"
      ]
    },
    {
      "cell_type": "code",
      "execution_count": 254,
      "metadata": {},
      "outputs": [
        {
          "name": "stdout",
          "output_type": "stream",
          "text": [
            "hello world\n",
            "done\n"
          ]
        }
      ],
      "source": [
        "print('hello world')\n",
        "\n",
        "time.sleep(10)\n",
        "\n",
        "print('done')"
      ]
    },
    {
      "cell_type": "markdown",
      "metadata": {
        "id": "tbLcIsgmkx5F"
      },
      "source": [
        "### 9.2.4 datetime 모듈"
      ]
    },
    {
      "cell_type": "code",
      "execution_count": 255,
      "metadata": {
        "id": "FmURKQg7oeCZ"
      },
      "outputs": [],
      "source": [
        "import datetime"
      ]
    },
    {
      "cell_type": "markdown",
      "metadata": {
        "id": "Tx0c6QY9ogpS"
      },
      "source": [
        "##### now()\n",
        "\n",
        "시스템의 현재 날짜와 시간 반환"
      ]
    },
    {
      "cell_type": "code",
      "execution_count": 256,
      "metadata": {},
      "outputs": [
        {
          "data": {
            "text/plain": [
              "datetime.datetime(2024, 8, 12, 11, 36, 2, 886457)"
            ]
          },
          "execution_count": 256,
          "metadata": {},
          "output_type": "execute_result"
        }
      ],
      "source": [
        "datetime.datetime.now()"
      ]
    },
    {
      "cell_type": "markdown",
      "metadata": {
        "id": "HfJLpLIJohJl"
      },
      "source": [
        "#### date()\n",
        "\n",
        "특정 날짜를 만들어 반환"
      ]
    },
    {
      "cell_type": "code",
      "execution_count": 257,
      "metadata": {},
      "outputs": [
        {
          "data": {
            "text/plain": [
              "datetime.date(2024, 8, 12)"
            ]
          },
          "execution_count": 257,
          "metadata": {},
          "output_type": "execute_result"
        }
      ],
      "source": [
        "datetime.date(2024, 8, 12)"
      ]
    },
    {
      "cell_type": "markdown",
      "metadata": {
        "id": "vLYeGVi6ohN6"
      },
      "source": [
        "#### time()\n",
        "\n",
        "특정 시간을 만들어 반환"
      ]
    },
    {
      "cell_type": "code",
      "execution_count": 258,
      "metadata": {},
      "outputs": [
        {
          "data": {
            "text/plain": [
              "datetime.time(11, 38, 20)"
            ]
          },
          "execution_count": 258,
          "metadata": {},
          "output_type": "execute_result"
        }
      ],
      "source": [
        "datetime.time(11, 38, 20)"
      ]
    },
    {
      "cell_type": "markdown",
      "metadata": {
        "id": "qMriB2VWohQ4"
      },
      "source": [
        "#### 날짜/시간 관련 필드값\n",
        "\n",
        "특정 날짜에서 원하는 데이터만 추출하고자 하는 경우 해당 필드값 이용"
      ]
    },
    {
      "cell_type": "code",
      "execution_count": 259,
      "metadata": {},
      "outputs": [],
      "source": [
        "today = datetime.datetime.now()"
      ]
    },
    {
      "cell_type": "code",
      "execution_count": 262,
      "metadata": {},
      "outputs": [
        {
          "data": {
            "text/plain": [
              "datetime.datetime(2024, 8, 12, 11, 40, 4, 936854)"
            ]
          },
          "execution_count": 262,
          "metadata": {},
          "output_type": "execute_result"
        }
      ],
      "source": [
        "today"
      ]
    },
    {
      "cell_type": "code",
      "execution_count": 266,
      "metadata": {},
      "outputs": [
        {
          "name": "stdout",
          "output_type": "stream",
          "text": [
            "2024\n",
            "8\n",
            "12\n",
            "11\n",
            "40\n",
            "4\n"
          ]
        }
      ],
      "source": [
        "print(today.year)\n",
        "print(today.month)\n",
        "print(today.day)\n",
        "print(today.hour)\n",
        "print(today.minute)\n",
        "print(today.second)"
      ]
    },
    {
      "cell_type": "markdown",
      "metadata": {
        "id": "T255ajP5ohTc"
      },
      "source": [
        "#### timedelta()\n",
        "\n",
        "시간/날짜 데이터 연산을 위해 사용\n",
        "\n",
        "|구분  |사용 방법|\n",
        "|------|--------------------|\n",
        "|1주   |timedelta(weeks=1)  |\n",
        "|1일   |timedelta(days=1)  |\n",
        "|1시간 |timedelta(hours=1)  |\n",
        "|1분   |timedelta(minutes=1)|\n",
        "|1초   |timedelta(seconds=1)|"
      ]
    },
    {
      "cell_type": "code",
      "execution_count": 269,
      "metadata": {},
      "outputs": [
        {
          "name": "stdout",
          "output_type": "stream",
          "text": [
            "2024-08-11 11:45:05.534571\n",
            "2024-08-05 11:45:05.534571\n"
          ]
        }
      ],
      "source": [
        "today = datetime.datetime.now()\n",
        "\n",
        "yesterday = today - datetime.timedelta(days=1)\n",
        "print(yesterday)\n",
        "last_week = today - datetime.timedelta(weeks=1)\n",
        "print(last_week)"
      ]
    },
    {
      "cell_type": "markdown",
      "metadata": {
        "id": "Yqp26_asohWn"
      },
      "source": [
        "#### total_seconds()\n",
        "\n",
        "어떤 기간에 포함된 총 시간을 초(seconds)로 반환."
      ]
    },
    {
      "cell_type": "code",
      "execution_count": 270,
      "metadata": {},
      "outputs": [
        {
          "name": "stdout",
          "output_type": "stream",
          "text": [
            "1 day, 0:00:00\n",
            "86400.0\n"
          ]
        }
      ],
      "source": [
        "date1 = datetime.date(2024, 8, 12)\n",
        "date2 = datetime.date(2024, 8, 11)\n",
        "\n",
        "print(date1 - date2)\n",
        "print((date1-date2).total_seconds())"
      ]
    },
    {
      "cell_type": "code",
      "execution_count": null,
      "metadata": {},
      "outputs": [],
      "source": [
        "start_time = time.time()\n",
        "\n",
        "ANSWER = random.randrange(1, 31)\n",
        "trial = 0\n",
        "\n",
        "def input_integer():\n",
        "    try:\n",
        "        user_input_number = int(input('Enter number: '))\n",
        "        return user_input_number\n",
        "    except:\n",
        "        return input_integer()\n",
        "\n",
        "while True:\n",
        "    trial += 1\n",
        "\n",
        "    if trial > 3:\n",
        "        print('exceed maximum trial')\n",
        "        break\n",
        "\n",
        "    user_input_number = input_integer()\n",
        "\n",
        "    if user_input_number == ANSWER:    \n",
        "        print(f'{trial}th trial. Correct')\n",
        "        break\n",
        "    \n",
        "    print(f'{trial}th trial. Incorrect')\n",
        "\n",
        "print(f'play time: {time.time() - start_time}')"
      ]
    },
    {
      "cell_type": "markdown",
      "metadata": {
        "id": "zG86N0roqhr6"
      },
      "source": [
        "## 9.3 외부 모듈의 활용\n",
        "\n",
        "모듈의 상위 개념으로 패키지(package)가 존재.  \n",
        "패키지란 모듈의 집합을 의미.\n",
        "\n",
        "설치 시 다음과 같은 커맨드 활용\n",
        "```python\n",
        "pip install package\n",
        "```"
      ]
    },
    {
      "cell_type": "code",
      "execution_count": 271,
      "metadata": {},
      "outputs": [
        {
          "name": "stdout",
          "output_type": "stream",
          "text": [
            "Defaulting to user installation because normal site-packages is not writeable\n",
            "Collecting kiwipiepy\n",
            "  Downloading kiwipiepy-0.18.0-cp312-cp312-win_amd64.whl.metadata (1.1 kB)\n",
            "Collecting kiwipiepy-model<0.19,>=0.18 (from kiwipiepy)\n",
            "  Downloading kiwipiepy_model-0.18.0.tar.gz (34.7 MB)\n",
            "     ---------------------------------------- 0.0/34.7 MB ? eta -:--:--\n",
            "     --------------------------------------- 0.0/34.7 MB 660.6 kB/s eta 0:00:53\n",
            "     ---------------------------------------- 0.3/34.7 MB 3.5 MB/s eta 0:00:10\n",
            "     -- ------------------------------------- 2.6/34.7 MB 18.2 MB/s eta 0:00:02\n",
            "     --------- ------------------------------ 7.9/34.7 MB 45.8 MB/s eta 0:00:01\n",
            "     ------------- ------------------------ 12.6/34.7 MB 108.8 MB/s eta 0:00:01\n",
            "     -------------- ------------------------ 12.6/34.7 MB 72.6 MB/s eta 0:00:01\n",
            "     ------------------- ------------------- 17.4/34.7 MB 65.6 MB/s eta 0:00:01\n",
            "     ------------------------- ------------ 23.0/34.7 MB 108.8 MB/s eta 0:00:01\n",
            "     ------------------------------ ------- 27.5/34.7 MB 108.8 MB/s eta 0:00:01\n",
            "     --------------------------------- ----- 29.9/34.7 MB 81.8 MB/s eta 0:00:01\n",
            "     ------------------------------------ -- 33.0/34.7 MB 65.2 MB/s eta 0:00:01\n",
            "     --------------------------------------  34.7/34.7 MB 73.1 MB/s eta 0:00:01\n",
            "     --------------------------------------- 34.7/34.7 MB 50.4 MB/s eta 0:00:00\n",
            "  Preparing metadata (setup.py): started\n",
            "  Preparing metadata (setup.py): finished with status 'done'\n",
            "Requirement already satisfied: numpy<2 in c:\\programdata\\anaconda3\\lib\\site-packages (from kiwipiepy) (1.26.4)\n",
            "Requirement already satisfied: tqdm in c:\\programdata\\anaconda3\\lib\\site-packages (from kiwipiepy) (4.66.4)\n",
            "Requirement already satisfied: colorama in c:\\programdata\\anaconda3\\lib\\site-packages (from tqdm->kiwipiepy) (0.4.6)\n",
            "Downloading kiwipiepy-0.18.0-cp312-cp312-win_amd64.whl (1.2 MB)\n",
            "   ---------------------------------------- 0.0/1.2 MB ? eta -:--:--\n",
            "   ---------------------------------------- 1.2/1.2 MB 73.0 MB/s eta 0:00:00\n",
            "Building wheels for collected packages: kiwipiepy-model\n",
            "  Building wheel for kiwipiepy-model (setup.py): started\n",
            "  Building wheel for kiwipiepy-model (setup.py): finished with status 'done'\n",
            "  Created wheel for kiwipiepy-model: filename=kiwipiepy_model-0.18.0-py3-none-any.whl size=34843387 sha256=5f8e6677c5d4f3798e4c935292902b0c4079a7d153e445271a3b3e507548718e\n",
            "  Stored in directory: c:\\users\\user\\appdata\\local\\pip\\cache\\wheels\\b4\\c7\\33\\caef143c1b818c5da3a0d253b05bce7eae3f1934d99c0fdc70\n",
            "Successfully built kiwipiepy-model\n",
            "Installing collected packages: kiwipiepy-model, kiwipiepy\n",
            "Successfully installed kiwipiepy-0.18.0 kiwipiepy-model-0.18.0\n"
          ]
        }
      ],
      "source": [
        "!pip install kiwipiepy"
      ]
    },
    {
      "cell_type": "code",
      "execution_count": 1,
      "metadata": {},
      "outputs": [],
      "source": [
        "from kiwipiepy import Kiwi"
      ]
    },
    {
      "cell_type": "code",
      "execution_count": 2,
      "metadata": {},
      "outputs": [],
      "source": [
        "kiwi = Kiwi()"
      ]
    },
    {
      "cell_type": "code",
      "execution_count": 3,
      "metadata": {},
      "outputs": [
        {
          "data": {
            "text/plain": [
              "[([Token(form='안녕', tag='NNG', start=0, len=2),\n",
              "   Token(form='하', tag='XSA', start=2, len=1),\n",
              "   Token(form='세요', tag='EF', start=3, len=2),\n",
              "   Token(form='.', tag='SF', start=5, len=1),\n",
              "   Token(form='여러분', tag='NP', start=7, len=3),\n",
              "   Token(form='.', tag='SF', start=10, len=1),\n",
              "   Token(form='오늘', tag='NNG', start=12, len=2),\n",
              "   Token(form='로', tag='JKB', start=14, len=1),\n",
              "   Token(form='파이썬', tag='NNP', start=16, len=3),\n",
              "   Token(form='은', tag='JX', start=19, len=1),\n",
              "   Token(form='6', tag='SN', start=21, len=1),\n",
              "   Token(form='일', tag='NNB', start=22, len=1),\n",
              "   Token(form='차', tag='XSN', start=23, len=1),\n",
              "   Token(form='를', tag='JKO', start=24, len=1),\n",
              "   Token(form='맞이하', tag='VV', start=26, len=3),\n",
              "   Token(form='었', tag='EP', start=28, len=1),\n",
              "   Token(form='습니다', tag='EF', start=29, len=3),\n",
              "   Token(form='.', tag='SF', start=32, len=1),\n",
              "   Token(form='재밌', tag='VA', start=34, len=2),\n",
              "   Token(form='죠', tag='EF', start=36, len=1),\n",
              "   Token(form='?', tag='SF', start=37, len=1)],\n",
              "  -116.63371276855469)]"
            ]
          },
          "execution_count": 3,
          "metadata": {},
          "output_type": "execute_result"
        }
      ],
      "source": [
        "kiwi.analyze('안녕하세요. 여러분. 오늘로 파이썬은 6일차를 맞이했습니다. 재밌죠?')"
      ]
    },
    {
      "cell_type": "markdown",
      "metadata": {
        "id": "QYKtvX9aiAki"
      },
      "source": [
        "# 10.파이썬의 파일 입출력"
      ]
    },
    {
      "cell_type": "markdown",
      "metadata": {
        "id": "dy7o59BwrmYk"
      },
      "source": [
        "## 10.1 파일 입출력의 개요"
      ]
    },
    {
      "cell_type": "markdown",
      "metadata": {
        "id": "SacUKsx4rcvq"
      },
      "source": [
        "### 10.1.1 파일 열기\n",
        "\n",
        "입출력 작업을 진행할 파일을 지정하는 것을 의미.  \n",
        "파일 입력과 파일 출력 모두 반드시 파일 열기 작업을 가장 먼저 수행해야 함.\n",
        "\n",
        "```python\n",
        "파일객체 = open(파일명, 모드)\n",
        "```\n",
        "\n",
        "1. 파일명  \n",
        "입출력 작업을 수행할 파일을 의미  \n",
        "현재 디렉토리가 'C:\\PythonStudy\\Section10' 디렉터리에서 소스 코드를 작성하고 있다고 가정'\n",
        "```python\n",
        "open('sample.txt') 'C:\\PythonStudy\\Section10\\sample.txt\n",
        "```\n",
        "```python\n",
        "open('C:/sample.txt') 'C:\\sample.txt\n",
        "```\n",
        "```python\n",
        "open('./sample.txt') 'C:\\PythonStudy\\Section10\\sample.txt\n",
        "```\n",
        "```python\n",
        "open('../sample.txt') 'C:\\PythonStudy\\sample.txt\n",
        "```\n",
        "\n",
        "\n",
        "2. 모드\n",
        "파일을 여는 목적을 의미.  \n",
        "파일 입력을 위해서인지 출력을 위해서인지는 모드를 통해 결정.  \n",
        "모드의 종류는 아래와 같음.\n",
        "\n",
        "|분류|종류|의미       |파일이 없을 때 동작|파일이 있을 때 동작|\n",
        "|----|----|-----------|-------------------|-------------------|\n",
        "|입력|  r |읽기       |오류 발생          |읽기|\n",
        "|출력|  w |쓰기       |새로 생성          |새로 생성|\n",
        "|    |  a |추가       |새로 생성          |추가|\n",
        "|    |  x |배타적 추가|새로 생성          |오류 발생|\n",
        "\n",
        "입출력 모드를 생략하면 기본적으로 r모드로 열림.  \n",
        "w나 a모드와 같이 출력을 목적으로 한다면 반드시 해당 모드 명시.  \n",
        "<br>\n",
        "\n",
        "여는 목적을 결정했다면 어떤 파일인지 파일 종류를 구분.  \n",
        "열려고 하는 파일이 텍스트인가 아닌가로 결정.  \n",
        "\n",
        "|종류|의미  |설명                                     |\n",
        "|----|------|-----------------------------------------|\n",
        "|t   |text  |텍스트 파일                              |\n",
        "|b   |binary|바이너리 파일(텍스트 파일 외의 모든 파일)|\n",
        "\n",
        "\n",
        "열고자 하는 파일의 종류를 생략하면 기본적으로 t모드(텍스트 모드)로 파일이 열림.  \n",
        "바이너리 파일인 경우 반드시 b모드 명시.  \n",
        "\n",
        "텍스트 모드는 문자를 대상으로 입출력을 처리하기 때문에  \n",
        "영문이나 한글 등으로 작성된 텍스트 파일에서 사용.  \n",
        "<br>\n",
        "바이너리 모드는 모든 파일의 데이터를 1바이트 기본 단위로 입출력을 처리하기 때문에  \n",
        "텍스트를 사용하지 않는 모든 파일(이미지, 사운드, 영상)에서 사용.  \n",
        "텍스트가 아니라면 반드시 바이너리 모드를 사용.\n",
        "\n",
        "지금까지 살펴본 모드는 다음과 같이 종합하여 사용 가능.  \n",
        "\n",
        "|모드|설명                          |\n",
        "|----|------------------------------|\n",
        "|rt  |t텍스트 파일 읽기 모드        |\n",
        "|rb  |바이너리 파일 읽기 모드       |\n",
        "|wt  |텍스트 파일 쓰기 모드         |\n",
        "|wb  |바이너리 파일 쓰기 모드       |\n",
        "|at  |텍스트 파일 추가 모드         |\n",
        "|ab  |바이너리 파일 추가 모드       |\n",
        "|xt  |텍스트 파일 배타적 추가 모드  |\n",
        "|xb  |바이너리 파일 배타적 추가 모드|"
      ]
    },
    {
      "cell_type": "code",
      "execution_count": 3,
      "metadata": {},
      "outputs": [],
      "source": [
        "file = open('./test.txt', 'w')"
      ]
    },
    {
      "cell_type": "markdown",
      "metadata": {
        "id": "q34qKaESrcx8"
      },
      "source": [
        "### 10.1.2 파일 닫기\n",
        "\n",
        "파일을 더 이상 사용하지 않거나 프로그램을 종료하고자 할 때 열어놓은 파일을 닫음.\n",
        "\n",
        "```python\n",
        "파일객체.close()\n",
        "```\n",
        "\n"
      ]
    },
    {
      "cell_type": "code",
      "execution_count": 6,
      "metadata": {},
      "outputs": [],
      "source": [
        "file.close()"
      ]
    },
    {
      "cell_type": "markdown",
      "metadata": {
        "id": "JH4-kJNwrc0X"
      },
      "source": [
        "### 10.1.3 파일 생성\n",
        "\n",
        "```python\n",
        "file = open('myFile.txt', 'wt')\n",
        "print('myFile.txt 파일이 생성되었습니다')\n",
        "file.close()\n",
        "```\n",
        "\n",
        "텍스트 파일을 새로 만들 수 있는 모드인 wt 모드를 사용하여  \n",
        "myFile.txt라는 텍스트 파일을 생성하는 코드.  \n",
        "별도의 파일 경로가 없으면 현재 작업 중인 디렉토리에 저장."
      ]
    },
    {
      "cell_type": "markdown",
      "metadata": {
        "id": "XsWBep2qrc2n"
      },
      "source": [
        "### 10.1.4 with문\n",
        "\n",
        "파일을 사용하는 프로그램은 언제든지 예기치 않은 문제 발생 가능성 존재.  \n",
        "생성에 문제가 생길 수도 있고, 파일을 여는 데 문제가 생길 수도 있음.  \n",
        "이러한 이유로 파일은 예외처리와 함께 하면 좋음.  \n",
        "<br>\n",
        "하지만 예외 처리가 아니라도 파이썬에서는 close() 메소드를 자동으로 호출하는 문법을 제공.  \n",
        "이는 with문으로 with문을 활용하면 with문이 끝날 때 언제나 close()를 자동으로 호출.  \n",
        "이로 별도의 예외처리 없이 파일 에러로 인해 close()를 호출하지 못하는 불상사 방지.  \n",
        "또한, close()를 작성하지 않아도 됨.\n",
        "\n",
        "```python\n",
        "with open(파일명, 모드) as 파일객체:\n",
        "  파일처리 코드\n",
        "```"
      ]
    },
    {
      "cell_type": "code",
      "execution_count": 7,
      "metadata": {},
      "outputs": [
        {
          "name": "stdout",
          "output_type": "stream",
          "text": [
            "test.txt 파일이 생성되었습니다\n"
          ]
        }
      ],
      "source": [
        "with open('./test.txt') as file:\n",
        "    print('test.txt 파일이 생성되었습니다')"
      ]
    },
    {
      "cell_type": "markdown",
      "metadata": {
        "id": "gr5lkgNjiDJl"
      },
      "source": [
        "## 10.2 파일 출력(output)"
      ]
    },
    {
      "cell_type": "markdown",
      "metadata": {
        "id": "fqAuSFqyrsAo"
      },
      "source": [
        "### 10.2.1 텍스트 파일 생성"
      ]
    },
    {
      "cell_type": "code",
      "execution_count": 21,
      "metadata": {},
      "outputs": [
        {
          "name": "stdout",
          "output_type": "stream",
          "text": [
            "test.txt 파일이 생성되었습니다\n"
          ]
        }
      ],
      "source": [
        "with open('./test.txt', 'w') as file:\n",
        "    file.write('안녕하세요')\n",
        "    file.write('\\n')\n",
        "    file.write('반갑습니다')\n",
        "    file.write('\\n')\n",
        "\n",
        "    print('test.txt 파일이 생성되었습니다')"
      ]
    },
    {
      "cell_type": "markdown",
      "metadata": {
        "id": "l3GRqhhqr2Yk"
      },
      "source": [
        "### 10.2.2 텍스트 파일에 내용 추가하기"
      ]
    },
    {
      "cell_type": "code",
      "execution_count": 25,
      "metadata": {},
      "outputs": [
        {
          "name": "stdout",
          "output_type": "stream",
          "text": [
            "test.txt 파일이 생성되었습니다\n"
          ]
        }
      ],
      "source": [
        "with open('./test.txt', 'a') as file:\n",
        "    file.write('안녕하세요')\n",
        "    file.write('\\n')\n",
        "    file.write('반갑습니다')\n",
        "    file.write('\\n')\n",
        "\n",
        "    print('test.txt 파일이 생성되었습니다')"
      ]
    },
    {
      "cell_type": "markdown",
      "metadata": {
        "id": "DEx2DhDNr5i2"
      },
      "source": [
        "## 10.3 파일 입력(input)"
      ]
    },
    {
      "cell_type": "markdown",
      "metadata": {
        "id": "bbwKe1sOsCk6"
      },
      "source": [
        "### 10.3.1 텍스트 파일 읽기\n",
        "\n",
        "파일을 읽을 때 사용하는 여러 메소드를 이용해  \n",
        "hello.txt 파일을 읽은 뒤 화면에 그대로 출력하는 프로그램 구현."
      ]
    },
    {
      "cell_type": "markdown",
      "metadata": {
        "id": "gTeUbGOysGDE"
      },
      "source": [
        "#### read()\n",
        "\n",
        "read 메소드는 다음과 같은 형식을 가지고 있음\n",
        "```python\n",
        "file.read(size)\n",
        "```\n",
        "\n",
        "read() 메소드는 파일로부터 데이터를 읽는 메소드.  \n",
        "텍스트 모드와 바이너리 모드에서 다른 방식으로 동작.  \n",
        "아래는 메소드 간 차이점을 나타낸 표.  \n",
        "\n",
        "|항목              |텍스트 모드             |바이너리 모드|\n",
        "|------------------|------------------------|------------------------|\n",
        "|반환값            |읽어 들인 문자열        |읽어 들인 바이트열      |\n",
        "|매개변수 size     |읽어 들일 최대 문자 개수|읽어 들일 최대 바이트 수|\n",
        "|매개변수 size 생략|파일 전체 읽음||\n",
        "|파일 끝에 도달    |빈 문자열('') 반환||\n",
        "\n",
        "모드 상관없이 공통적으로 size를 생략하면 전체 파일을 읽음.  \n",
        "size 값으로 음수를 전달해도 파일 전체를 읽음.  \n",
        "size 값을 양수로 전달하면 텍스트 모드는 읽어 들일 글자의 개수로 인식.  \n",
        "바이너리 모드는 읽어 들일 바이트 수로 인식.  \n",
        "<br>\n",
        "1글자와 1바이트는 차이 존재.\n",
        "영문은 1글자가 1바이트로 서로 동일  \n",
        "한글은 1글자가 2바이트로 서로 다름. (인코딩에 따라 3바이트일 수도 있음)  \n",
        "텍스트 모드에서 read(2)는 2글자를 읽어들인다는 의미인데  \n",
        "영문이면 2바이트, 한글이면 4바이트를 읽음."
      ]
    },
    {
      "cell_type": "code",
      "execution_count": 35,
      "metadata": {},
      "outputs": [
        {
          "name": "stdout",
          "output_type": "stream",
          "text": [
            "안녕하세요\n",
            "반갑습니다\n",
            "안녕하세요\n",
            "반갑습니다\n",
            "안녕하세요\n",
            "반갑습니다\n",
            "안녕하세요\n",
            "반갑습니다\n",
            "안녕하세요\n",
            "반갑습니다\n"
          ]
        }
      ],
      "source": [
        "with open('./test.txt') as file:\n",
        "    while True:\n",
        "        string = file.read(1)\n",
        "\n",
        "        if not string:\n",
        "            break\n",
        "        \n",
        "        print(string, end='')"
      ]
    },
    {
      "cell_type": "markdown",
      "metadata": {
        "id": "ad8LFGJ2sGHF"
      },
      "source": [
        "#### readline()\n",
        "\n",
        "텍스트 파일을 한 줄씩 읽어서 처리하는 메소드.  \n",
        "만약 파일이 종료되어 더 이상 읽을 파일이 없으면 빈 문자열을('')을 읽음.  \n",
        "반복문을 통해 여러 번 읽어야 파일 전체를 읽을 수 있음."
      ]
    },
    {
      "cell_type": "code",
      "execution_count": 36,
      "metadata": {},
      "outputs": [
        {
          "name": "stdout",
          "output_type": "stream",
          "text": [
            "안녕하세요\n",
            "반갑습니다\n",
            "안녕하세요\n",
            "반갑습니다\n",
            "안녕하세요\n",
            "반갑습니다\n",
            "안녕하세요\n",
            "반갑습니다\n",
            "안녕하세요\n",
            "반갑습니다\n"
          ]
        }
      ],
      "source": [
        "with open('./test.txt') as file:\n",
        "    while True:\n",
        "        string = file.readline()\n",
        "\n",
        "        if string == '':\n",
        "            break\n",
        "        \n",
        "        print(string, end='')"
      ]
    },
    {
      "cell_type": "markdown",
      "metadata": {
        "id": "JUh3qrVgsGLY"
      },
      "source": [
        "#### readlines()\n",
        "\n",
        "라인 전체를 모두 읽어 각 라인 단위로 리스트에 저장하는 메소드.  \n",
        "enumerate를 이용하면 라인 번호도 함께 출력 가능"
      ]
    },
    {
      "cell_type": "code",
      "execution_count": 37,
      "metadata": {},
      "outputs": [],
      "source": [
        "with open('./test.txt') as file:    \n",
        "    string = file.readlines()"
      ]
    },
    {
      "cell_type": "code",
      "execution_count": 38,
      "metadata": {},
      "outputs": [
        {
          "data": {
            "text/plain": [
              "['안녕하세요\\n',\n",
              " '반갑습니다\\n',\n",
              " '안녕하세요\\n',\n",
              " '반갑습니다\\n',\n",
              " '안녕하세요\\n',\n",
              " '반갑습니다\\n',\n",
              " '안녕하세요\\n',\n",
              " '반갑습니다\\n',\n",
              " '안녕하세요\\n',\n",
              " '반갑습니다\\n']"
            ]
          },
          "execution_count": 38,
          "metadata": {},
          "output_type": "execute_result"
        }
      ],
      "source": [
        "string"
      ]
    },
    {
      "cell_type": "code",
      "execution_count": 41,
      "metadata": {},
      "outputs": [
        {
          "name": "stdout",
          "output_type": "stream",
          "text": [
            "1th trial. Incorrect\n",
            "2th trial. Incorrect\n",
            "3th trial. Incorrect\n",
            "exceed maximum trial\n",
            "play time: 7.356363534927368\n"
          ]
        }
      ],
      "source": [
        "import time\n",
        "import random\n",
        "## 게임 로그 기록 코드 작성\n",
        "\n",
        "def input_integer():\n",
        "    try:\n",
        "        user_input_number = int(input('Enter number: '))\n",
        "        return user_input_number\n",
        "    except:\n",
        "        return input_integer()\n",
        "\n",
        "with open('log.log', 'w') as file:\n",
        "    start_time = time.time()\n",
        "    file.write(f'[{time.ctime(time.time())}] 게임 시작 시간\\n')\n",
        "\n",
        "    ANSWER = random.randrange(1, 31)\n",
        "    file.write(f'[{time.ctime(time.time())}] 정답: {ANSWER}\\n')\n",
        "    trial = 0\n",
        "\n",
        "    while True:\n",
        "        trial += 1\n",
        "\n",
        "        if trial > 3:\n",
        "            print('exceed maximum trial')\n",
        "            file.write(f'[{time.ctime(time.time())}] 최대 허용 시도 횟수 초과\\n')\n",
        "            break\n",
        "\n",
        "        user_input_number = input_integer()\n",
        "        file.write(f'[{time.ctime(time.time())}] 사용자가 입력한 숫자: {user_input_number}\\n')\n",
        "\n",
        "        if user_input_number == ANSWER:    \n",
        "            print(f'{trial}th trial. Correct')\n",
        "            file.write(f'[{time.ctime(time.time())}] {trial}th trial. Correct\\n')\n",
        "            break\n",
        "        \n",
        "        print(f'{trial}th trial. Incorrect')\n",
        "        file.write(f'[{time.ctime(time.time())}] {trial}th trial. Incorrect\\n')\n",
        "\n",
        "    print(f'play time: {time.time() - start_time}')\n",
        "    file.write(f'[{time.ctime(time.time())}] play time: {time.time() - start_time}\\n')"
      ]
    }
  ],
  "metadata": {
    "colab": {
      "provenance": [],
      "toc_visible": true
    },
    "kernelspec": {
      "display_name": "Python 3",
      "name": "python3"
    },
    "language_info": {
      "codemirror_mode": {
        "name": "ipython",
        "version": 3
      },
      "file_extension": ".py",
      "mimetype": "text/x-python",
      "name": "python",
      "nbconvert_exporter": "python",
      "pygments_lexer": "ipython3",
      "version": "3.12.4"
    }
  },
  "nbformat": 4,
  "nbformat_minor": 0
}
