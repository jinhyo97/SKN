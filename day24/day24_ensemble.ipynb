{
 "cells": [
  {
   "cell_type": "markdown",
   "metadata": {},
   "source": [
    "# Library"
   ]
  },
  {
   "cell_type": "code",
   "execution_count": 148,
   "metadata": {},
   "outputs": [],
   "source": [
    "import pandas as pd\n",
    "import numpy as np\n",
    "\n",
    "from sklearn.linear_model import Lasso, Ridge, ElasticNet, LogisticRegression\n",
    "from sklearn.svm import SVC, SVR\n",
    "from sklearn.ensemble import (\n",
    "    RandomForestRegressor,\n",
    "    RandomForestClassifier,\n",
    "    VotingRegressor,\n",
    "    VotingClassifier,\n",
    "    StackingRegressor,\n",
    "    StackingClassifier,\n",
    "    GradientBoostingRegressor,\n",
    "    GradientBoostingClassifier,\n",
    "    BaggingRegressor,\n",
    ")\n",
    "from sklearn.tree import DecisionTreeRegressor, DecisionTreeClassifier, plot_tree, export_graphviz\n",
    "\n",
    "from sklearn.preprocessing import LabelEncoder, StandardScaler, MinMaxScaler\n",
    "from sklearn.model_selection import train_test_split\n",
    "from sklearn.model_selection import RandomizedSearchCV\n",
    "import graphviz\n",
    "\n",
    "import matplotlib.pyplot as plt\n",
    "import seaborn as sns\n",
    "import plotly.express as px"
   ]
  },
  {
   "cell_type": "markdown",
   "metadata": {},
   "source": [
    "# Ensemble\n",
    "\n",
    "<img src=\"https://cdn.prod.website-files.com/5d7b77b063a9066d83e1209c/61f7bbd4e90cce440b88ea32_ensemble-learning.png\" width=\"600\" height=\"300\"/>\n",
    "\n",
    "<br>\n",
    "\n",
    "두 개 이상의 모델을 결합하여 task를 수행하는 기법 <br> \n",
    "오차의 분산을 줄이기에 개별 모델보다 강건함(robust) <br>\n",
    "    -> 한 모델에서 포착하지 못했던 정보를 다른 모델에서 포착할 수 있음 <br>\n",
    "따라서 모델 간 다양성이 클수록 ensemble 모델의 효과가 커짐 <br>\n",
    "\n",
    "<br>\n",
    "\n",
    "<font style=\"font-size:20px\"> 아래와 같은 상황에서 사용 </font> <p>\n",
    "1. 모델 선택의 어려움: 데이터셋 내의 다양한 부분에서 서로 다른 모델들이 강점을 보이는 경우, 여러 모델을 앙상블하여 각 클래스에 대한 강점을 결합함으로써 전체적인 성능 향상\n",
    "2. 문제의 복잡성: 단일 분류기로 처리하기 어려운 복잡한 결정 경계를 다룰 때, 여러 분류기의 앙상블은 보다 복잡한 결정 경계 근사\n",
    "3. 데이터 양: 충분한 데이터가 있는 경우, 단일 분류기보다 여러 분류기를 사용하여 작업을 분할하고 예측 시에 앙상블하는 것이 더 효과적일 수 있음. 반대로, 데이터가 제한적인 경우, 부트스트래핑(데이터의 여러 부분집합에서 다양한 분류기를 훈련) 전략 사용\n",
    "\n",
    "<br>\n",
    "\n",
    "<font style=\"font-size:20px\"> 앙상블을 통한 이점 </font> <p>\n",
    "1. 예측 신뢰도: 앙상블은 각 개별 모델의 신뢰도에 의존하기에, 높은 신뢰도를 가진 모델의 예측을 결합함으로써 단순한 과반수 투표보다 전체적인 예측 신뢰성을 향상\n",
    "2. 정보 통합: 앙상블은 동일한 클래스에 관련된 다양한 데이터셋이나 조건에서 훈련된 모델들의 예측을 통합하여 분류의 견고성을 향상시키고 편향을 줄임"
   ]
  },
  {
   "cell_type": "markdown",
   "metadata": {},
   "source": [
    "## Voting\n",
    "\n",
    "<img src=\"https://www.researchgate.net/publication/362311832/figure/fig3/AS:11431281078760466@1660240577836/The-figure-shows-with-an-example-how-both-hard-and-soft-voting-work-The-ensemble.ppm\" width=\"600\" height=\"300\"/>\n",
    "\n",
    "모델의 결과를 취합하여 성능 향상을 취하는 방법 <br>\n",
    "hard voting과 soft voting 두 방법 존재 <br>\n",
    "\n",
    "<br>\n",
    "\n",
    "<font style=\"font-size:20px\"> Hard Voting </font> <p>\n",
    "각 모델에서의 결과를 다수결로 결정하는 방법\n",
    "\n",
    "<br>\n",
    "\n",
    "<font style=\"font-size:20px\"> Soft Voting </font> <p>\n",
    "각 모델에서 결과를 확률로 받은 후 확률의 평균 등을 이용하여 최종 결과 결정\n",
    "\n",
    "<br>\n",
    "\n",
    "<font style=\"font-size:20px\"> 사용 방법 </font> <p>\n",
    "\n",
    "> ```python\n",
    "> from sklearn.ensemble import VotingRegressor\n",
    "> \n",
    "> voting_regressor = VotingRegressor([\n",
    ">   ('model1', model1),\n",
    ">   ('model2', model2),\n",
    ">   ('model3', model3),\n",
    "> ])\n",
    "> \n",
    "> voting_regressor.fit(X, y)    # train\n",
    "> voting_regressor.predict(X)   # predict\n",
    "> ```\n",
    "\n",
    "<br>\n",
    "\n",
    "주요 파라미터\n",
    "- estimators: base learners\n",
    "- weights: base learner 결과에 계산할 가중치"
   ]
  },
  {
   "cell_type": "code",
   "execution_count": 86,
   "metadata": {},
   "outputs": [],
   "source": [
    "def convert_category_into_integer(df: pd.DataFrame, columns: list):\n",
    "    label_encoders = {}\n",
    "    for column in columns:\n",
    "        label_encoder = LabelEncoder()\n",
    "        df.loc[:, column] = label_encoder.fit_transform(df[column])\n",
    "\n",
    "        label_encoders.update({column: label_encoder})\n",
    "    \n",
    "    return df, label_encoders\n",
    "\n",
    "def scaler(dfs: list, scaler, non_targer_column: list):\n",
    "    target_columns = dfs[0].columns.difference(non_targer_column)\n",
    "    scaler.fit(dfs[0].loc[:, target_columns])\n",
    "    for data in dfs:\n",
    "        data.loc[:, target_columns] = scaler.transform(data.loc[:, target_columns])\n",
    "\n",
    "    return dfs, scaler"
   ]
  },
  {
   "cell_type": "code",
   "execution_count": 17,
   "metadata": {},
   "outputs": [
    {
     "name": "stderr",
     "output_type": "stream",
     "text": [
      "C:\\Users\\USER\\AppData\\Local\\Temp\\ipykernel_20444\\1150649826.py:5: FutureWarning: Setting an item of incompatible dtype is deprecated and will raise in a future error of pandas. Value '[2 3 1 ... 4 3 2]' has dtype incompatible with category, please explicitly cast to a compatible dtype first.\n",
      "  df.loc[:, column] = label_encoder.fit_transform(df[column])\n",
      "C:\\Users\\USER\\AppData\\Local\\Temp\\ipykernel_20444\\1150649826.py:5: FutureWarning: Setting an item of incompatible dtype is deprecated and will raise in a future error of pandas. Value '[1 1 1 ... 0 4 0]' has dtype incompatible with category, please explicitly cast to a compatible dtype first.\n",
      "  df.loc[:, column] = label_encoder.fit_transform(df[column])\n",
      "C:\\Users\\USER\\AppData\\Local\\Temp\\ipykernel_20444\\1150649826.py:5: FutureWarning: Setting an item of incompatible dtype is deprecated and will raise in a future error of pandas. Value '[3 2 4 ... 2 3 3]' has dtype incompatible with category, please explicitly cast to a compatible dtype first.\n",
      "  df.loc[:, column] = label_encoder.fit_transform(df[column])\n"
     ]
    }
   ],
   "source": [
    "diamonds = sns.load_dataset('diamonds')\n",
    "diamonds, _ = convert_category_into_integer(diamonds, ('cut', 'color', 'clarity'))\n",
    "diamonds = diamonds.drop_duplicates().reset_index(drop=True)\n",
    "train, test = train_test_split(diamonds, test_size=0.2, random_state=0)"
   ]
  },
  {
   "cell_type": "code",
   "execution_count": 21,
   "metadata": {},
   "outputs": [
    {
     "data": {
      "text/html": [
       "<style>#sk-container-id-2 {\n",
       "  /* Definition of color scheme common for light and dark mode */\n",
       "  --sklearn-color-text: black;\n",
       "  --sklearn-color-line: gray;\n",
       "  /* Definition of color scheme for unfitted estimators */\n",
       "  --sklearn-color-unfitted-level-0: #fff5e6;\n",
       "  --sklearn-color-unfitted-level-1: #f6e4d2;\n",
       "  --sklearn-color-unfitted-level-2: #ffe0b3;\n",
       "  --sklearn-color-unfitted-level-3: chocolate;\n",
       "  /* Definition of color scheme for fitted estimators */\n",
       "  --sklearn-color-fitted-level-0: #f0f8ff;\n",
       "  --sklearn-color-fitted-level-1: #d4ebff;\n",
       "  --sklearn-color-fitted-level-2: #b3dbfd;\n",
       "  --sklearn-color-fitted-level-3: cornflowerblue;\n",
       "\n",
       "  /* Specific color for light theme */\n",
       "  --sklearn-color-text-on-default-background: var(--sg-text-color, var(--theme-code-foreground, var(--jp-content-font-color1, black)));\n",
       "  --sklearn-color-background: var(--sg-background-color, var(--theme-background, var(--jp-layout-color0, white)));\n",
       "  --sklearn-color-border-box: var(--sg-text-color, var(--theme-code-foreground, var(--jp-content-font-color1, black)));\n",
       "  --sklearn-color-icon: #696969;\n",
       "\n",
       "  @media (prefers-color-scheme: dark) {\n",
       "    /* Redefinition of color scheme for dark theme */\n",
       "    --sklearn-color-text-on-default-background: var(--sg-text-color, var(--theme-code-foreground, var(--jp-content-font-color1, white)));\n",
       "    --sklearn-color-background: var(--sg-background-color, var(--theme-background, var(--jp-layout-color0, #111)));\n",
       "    --sklearn-color-border-box: var(--sg-text-color, var(--theme-code-foreground, var(--jp-content-font-color1, white)));\n",
       "    --sklearn-color-icon: #878787;\n",
       "  }\n",
       "}\n",
       "\n",
       "#sk-container-id-2 {\n",
       "  color: var(--sklearn-color-text);\n",
       "}\n",
       "\n",
       "#sk-container-id-2 pre {\n",
       "  padding: 0;\n",
       "}\n",
       "\n",
       "#sk-container-id-2 input.sk-hidden--visually {\n",
       "  border: 0;\n",
       "  clip: rect(1px 1px 1px 1px);\n",
       "  clip: rect(1px, 1px, 1px, 1px);\n",
       "  height: 1px;\n",
       "  margin: -1px;\n",
       "  overflow: hidden;\n",
       "  padding: 0;\n",
       "  position: absolute;\n",
       "  width: 1px;\n",
       "}\n",
       "\n",
       "#sk-container-id-2 div.sk-dashed-wrapped {\n",
       "  border: 1px dashed var(--sklearn-color-line);\n",
       "  margin: 0 0.4em 0.5em 0.4em;\n",
       "  box-sizing: border-box;\n",
       "  padding-bottom: 0.4em;\n",
       "  background-color: var(--sklearn-color-background);\n",
       "}\n",
       "\n",
       "#sk-container-id-2 div.sk-container {\n",
       "  /* jupyter's `normalize.less` sets `[hidden] { display: none; }`\n",
       "     but bootstrap.min.css set `[hidden] { display: none !important; }`\n",
       "     so we also need the `!important` here to be able to override the\n",
       "     default hidden behavior on the sphinx rendered scikit-learn.org.\n",
       "     See: https://github.com/scikit-learn/scikit-learn/issues/21755 */\n",
       "  display: inline-block !important;\n",
       "  position: relative;\n",
       "}\n",
       "\n",
       "#sk-container-id-2 div.sk-text-repr-fallback {\n",
       "  display: none;\n",
       "}\n",
       "\n",
       "div.sk-parallel-item,\n",
       "div.sk-serial,\n",
       "div.sk-item {\n",
       "  /* draw centered vertical line to link estimators */\n",
       "  background-image: linear-gradient(var(--sklearn-color-text-on-default-background), var(--sklearn-color-text-on-default-background));\n",
       "  background-size: 2px 100%;\n",
       "  background-repeat: no-repeat;\n",
       "  background-position: center center;\n",
       "}\n",
       "\n",
       "/* Parallel-specific style estimator block */\n",
       "\n",
       "#sk-container-id-2 div.sk-parallel-item::after {\n",
       "  content: \"\";\n",
       "  width: 100%;\n",
       "  border-bottom: 2px solid var(--sklearn-color-text-on-default-background);\n",
       "  flex-grow: 1;\n",
       "}\n",
       "\n",
       "#sk-container-id-2 div.sk-parallel {\n",
       "  display: flex;\n",
       "  align-items: stretch;\n",
       "  justify-content: center;\n",
       "  background-color: var(--sklearn-color-background);\n",
       "  position: relative;\n",
       "}\n",
       "\n",
       "#sk-container-id-2 div.sk-parallel-item {\n",
       "  display: flex;\n",
       "  flex-direction: column;\n",
       "}\n",
       "\n",
       "#sk-container-id-2 div.sk-parallel-item:first-child::after {\n",
       "  align-self: flex-end;\n",
       "  width: 50%;\n",
       "}\n",
       "\n",
       "#sk-container-id-2 div.sk-parallel-item:last-child::after {\n",
       "  align-self: flex-start;\n",
       "  width: 50%;\n",
       "}\n",
       "\n",
       "#sk-container-id-2 div.sk-parallel-item:only-child::after {\n",
       "  width: 0;\n",
       "}\n",
       "\n",
       "/* Serial-specific style estimator block */\n",
       "\n",
       "#sk-container-id-2 div.sk-serial {\n",
       "  display: flex;\n",
       "  flex-direction: column;\n",
       "  align-items: center;\n",
       "  background-color: var(--sklearn-color-background);\n",
       "  padding-right: 1em;\n",
       "  padding-left: 1em;\n",
       "}\n",
       "\n",
       "\n",
       "/* Toggleable style: style used for estimator/Pipeline/ColumnTransformer box that is\n",
       "clickable and can be expanded/collapsed.\n",
       "- Pipeline and ColumnTransformer use this feature and define the default style\n",
       "- Estimators will overwrite some part of the style using the `sk-estimator` class\n",
       "*/\n",
       "\n",
       "/* Pipeline and ColumnTransformer style (default) */\n",
       "\n",
       "#sk-container-id-2 div.sk-toggleable {\n",
       "  /* Default theme specific background. It is overwritten whether we have a\n",
       "  specific estimator or a Pipeline/ColumnTransformer */\n",
       "  background-color: var(--sklearn-color-background);\n",
       "}\n",
       "\n",
       "/* Toggleable label */\n",
       "#sk-container-id-2 label.sk-toggleable__label {\n",
       "  cursor: pointer;\n",
       "  display: block;\n",
       "  width: 100%;\n",
       "  margin-bottom: 0;\n",
       "  padding: 0.5em;\n",
       "  box-sizing: border-box;\n",
       "  text-align: center;\n",
       "}\n",
       "\n",
       "#sk-container-id-2 label.sk-toggleable__label-arrow:before {\n",
       "  /* Arrow on the left of the label */\n",
       "  content: \"▸\";\n",
       "  float: left;\n",
       "  margin-right: 0.25em;\n",
       "  color: var(--sklearn-color-icon);\n",
       "}\n",
       "\n",
       "#sk-container-id-2 label.sk-toggleable__label-arrow:hover:before {\n",
       "  color: var(--sklearn-color-text);\n",
       "}\n",
       "\n",
       "/* Toggleable content - dropdown */\n",
       "\n",
       "#sk-container-id-2 div.sk-toggleable__content {\n",
       "  max-height: 0;\n",
       "  max-width: 0;\n",
       "  overflow: hidden;\n",
       "  text-align: left;\n",
       "  /* unfitted */\n",
       "  background-color: var(--sklearn-color-unfitted-level-0);\n",
       "}\n",
       "\n",
       "#sk-container-id-2 div.sk-toggleable__content.fitted {\n",
       "  /* fitted */\n",
       "  background-color: var(--sklearn-color-fitted-level-0);\n",
       "}\n",
       "\n",
       "#sk-container-id-2 div.sk-toggleable__content pre {\n",
       "  margin: 0.2em;\n",
       "  border-radius: 0.25em;\n",
       "  color: var(--sklearn-color-text);\n",
       "  /* unfitted */\n",
       "  background-color: var(--sklearn-color-unfitted-level-0);\n",
       "}\n",
       "\n",
       "#sk-container-id-2 div.sk-toggleable__content.fitted pre {\n",
       "  /* unfitted */\n",
       "  background-color: var(--sklearn-color-fitted-level-0);\n",
       "}\n",
       "\n",
       "#sk-container-id-2 input.sk-toggleable__control:checked~div.sk-toggleable__content {\n",
       "  /* Expand drop-down */\n",
       "  max-height: 200px;\n",
       "  max-width: 100%;\n",
       "  overflow: auto;\n",
       "}\n",
       "\n",
       "#sk-container-id-2 input.sk-toggleable__control:checked~label.sk-toggleable__label-arrow:before {\n",
       "  content: \"▾\";\n",
       "}\n",
       "\n",
       "/* Pipeline/ColumnTransformer-specific style */\n",
       "\n",
       "#sk-container-id-2 div.sk-label input.sk-toggleable__control:checked~label.sk-toggleable__label {\n",
       "  color: var(--sklearn-color-text);\n",
       "  background-color: var(--sklearn-color-unfitted-level-2);\n",
       "}\n",
       "\n",
       "#sk-container-id-2 div.sk-label.fitted input.sk-toggleable__control:checked~label.sk-toggleable__label {\n",
       "  background-color: var(--sklearn-color-fitted-level-2);\n",
       "}\n",
       "\n",
       "/* Estimator-specific style */\n",
       "\n",
       "/* Colorize estimator box */\n",
       "#sk-container-id-2 div.sk-estimator input.sk-toggleable__control:checked~label.sk-toggleable__label {\n",
       "  /* unfitted */\n",
       "  background-color: var(--sklearn-color-unfitted-level-2);\n",
       "}\n",
       "\n",
       "#sk-container-id-2 div.sk-estimator.fitted input.sk-toggleable__control:checked~label.sk-toggleable__label {\n",
       "  /* fitted */\n",
       "  background-color: var(--sklearn-color-fitted-level-2);\n",
       "}\n",
       "\n",
       "#sk-container-id-2 div.sk-label label.sk-toggleable__label,\n",
       "#sk-container-id-2 div.sk-label label {\n",
       "  /* The background is the default theme color */\n",
       "  color: var(--sklearn-color-text-on-default-background);\n",
       "}\n",
       "\n",
       "/* On hover, darken the color of the background */\n",
       "#sk-container-id-2 div.sk-label:hover label.sk-toggleable__label {\n",
       "  color: var(--sklearn-color-text);\n",
       "  background-color: var(--sklearn-color-unfitted-level-2);\n",
       "}\n",
       "\n",
       "/* Label box, darken color on hover, fitted */\n",
       "#sk-container-id-2 div.sk-label.fitted:hover label.sk-toggleable__label.fitted {\n",
       "  color: var(--sklearn-color-text);\n",
       "  background-color: var(--sklearn-color-fitted-level-2);\n",
       "}\n",
       "\n",
       "/* Estimator label */\n",
       "\n",
       "#sk-container-id-2 div.sk-label label {\n",
       "  font-family: monospace;\n",
       "  font-weight: bold;\n",
       "  display: inline-block;\n",
       "  line-height: 1.2em;\n",
       "}\n",
       "\n",
       "#sk-container-id-2 div.sk-label-container {\n",
       "  text-align: center;\n",
       "}\n",
       "\n",
       "/* Estimator-specific */\n",
       "#sk-container-id-2 div.sk-estimator {\n",
       "  font-family: monospace;\n",
       "  border: 1px dotted var(--sklearn-color-border-box);\n",
       "  border-radius: 0.25em;\n",
       "  box-sizing: border-box;\n",
       "  margin-bottom: 0.5em;\n",
       "  /* unfitted */\n",
       "  background-color: var(--sklearn-color-unfitted-level-0);\n",
       "}\n",
       "\n",
       "#sk-container-id-2 div.sk-estimator.fitted {\n",
       "  /* fitted */\n",
       "  background-color: var(--sklearn-color-fitted-level-0);\n",
       "}\n",
       "\n",
       "/* on hover */\n",
       "#sk-container-id-2 div.sk-estimator:hover {\n",
       "  /* unfitted */\n",
       "  background-color: var(--sklearn-color-unfitted-level-2);\n",
       "}\n",
       "\n",
       "#sk-container-id-2 div.sk-estimator.fitted:hover {\n",
       "  /* fitted */\n",
       "  background-color: var(--sklearn-color-fitted-level-2);\n",
       "}\n",
       "\n",
       "/* Specification for estimator info (e.g. \"i\" and \"?\") */\n",
       "\n",
       "/* Common style for \"i\" and \"?\" */\n",
       "\n",
       ".sk-estimator-doc-link,\n",
       "a:link.sk-estimator-doc-link,\n",
       "a:visited.sk-estimator-doc-link {\n",
       "  float: right;\n",
       "  font-size: smaller;\n",
       "  line-height: 1em;\n",
       "  font-family: monospace;\n",
       "  background-color: var(--sklearn-color-background);\n",
       "  border-radius: 1em;\n",
       "  height: 1em;\n",
       "  width: 1em;\n",
       "  text-decoration: none !important;\n",
       "  margin-left: 1ex;\n",
       "  /* unfitted */\n",
       "  border: var(--sklearn-color-unfitted-level-1) 1pt solid;\n",
       "  color: var(--sklearn-color-unfitted-level-1);\n",
       "}\n",
       "\n",
       ".sk-estimator-doc-link.fitted,\n",
       "a:link.sk-estimator-doc-link.fitted,\n",
       "a:visited.sk-estimator-doc-link.fitted {\n",
       "  /* fitted */\n",
       "  border: var(--sklearn-color-fitted-level-1) 1pt solid;\n",
       "  color: var(--sklearn-color-fitted-level-1);\n",
       "}\n",
       "\n",
       "/* On hover */\n",
       "div.sk-estimator:hover .sk-estimator-doc-link:hover,\n",
       ".sk-estimator-doc-link:hover,\n",
       "div.sk-label-container:hover .sk-estimator-doc-link:hover,\n",
       ".sk-estimator-doc-link:hover {\n",
       "  /* unfitted */\n",
       "  background-color: var(--sklearn-color-unfitted-level-3);\n",
       "  color: var(--sklearn-color-background);\n",
       "  text-decoration: none;\n",
       "}\n",
       "\n",
       "div.sk-estimator.fitted:hover .sk-estimator-doc-link.fitted:hover,\n",
       ".sk-estimator-doc-link.fitted:hover,\n",
       "div.sk-label-container:hover .sk-estimator-doc-link.fitted:hover,\n",
       ".sk-estimator-doc-link.fitted:hover {\n",
       "  /* fitted */\n",
       "  background-color: var(--sklearn-color-fitted-level-3);\n",
       "  color: var(--sklearn-color-background);\n",
       "  text-decoration: none;\n",
       "}\n",
       "\n",
       "/* Span, style for the box shown on hovering the info icon */\n",
       ".sk-estimator-doc-link span {\n",
       "  display: none;\n",
       "  z-index: 9999;\n",
       "  position: relative;\n",
       "  font-weight: normal;\n",
       "  right: .2ex;\n",
       "  padding: .5ex;\n",
       "  margin: .5ex;\n",
       "  width: min-content;\n",
       "  min-width: 20ex;\n",
       "  max-width: 50ex;\n",
       "  color: var(--sklearn-color-text);\n",
       "  box-shadow: 2pt 2pt 4pt #999;\n",
       "  /* unfitted */\n",
       "  background: var(--sklearn-color-unfitted-level-0);\n",
       "  border: .5pt solid var(--sklearn-color-unfitted-level-3);\n",
       "}\n",
       "\n",
       ".sk-estimator-doc-link.fitted span {\n",
       "  /* fitted */\n",
       "  background: var(--sklearn-color-fitted-level-0);\n",
       "  border: var(--sklearn-color-fitted-level-3);\n",
       "}\n",
       "\n",
       ".sk-estimator-doc-link:hover span {\n",
       "  display: block;\n",
       "}\n",
       "\n",
       "/* \"?\"-specific style due to the `<a>` HTML tag */\n",
       "\n",
       "#sk-container-id-2 a.estimator_doc_link {\n",
       "  float: right;\n",
       "  font-size: 1rem;\n",
       "  line-height: 1em;\n",
       "  font-family: monospace;\n",
       "  background-color: var(--sklearn-color-background);\n",
       "  border-radius: 1rem;\n",
       "  height: 1rem;\n",
       "  width: 1rem;\n",
       "  text-decoration: none;\n",
       "  /* unfitted */\n",
       "  color: var(--sklearn-color-unfitted-level-1);\n",
       "  border: var(--sklearn-color-unfitted-level-1) 1pt solid;\n",
       "}\n",
       "\n",
       "#sk-container-id-2 a.estimator_doc_link.fitted {\n",
       "  /* fitted */\n",
       "  border: var(--sklearn-color-fitted-level-1) 1pt solid;\n",
       "  color: var(--sklearn-color-fitted-level-1);\n",
       "}\n",
       "\n",
       "/* On hover */\n",
       "#sk-container-id-2 a.estimator_doc_link:hover {\n",
       "  /* unfitted */\n",
       "  background-color: var(--sklearn-color-unfitted-level-3);\n",
       "  color: var(--sklearn-color-background);\n",
       "  text-decoration: none;\n",
       "}\n",
       "\n",
       "#sk-container-id-2 a.estimator_doc_link.fitted:hover {\n",
       "  /* fitted */\n",
       "  background-color: var(--sklearn-color-fitted-level-3);\n",
       "}\n",
       "</style><div id=\"sk-container-id-2\" class=\"sk-top-container\"><div class=\"sk-text-repr-fallback\"><pre>DecisionTreeClassifier(random_state=0)</pre><b>In a Jupyter environment, please rerun this cell to show the HTML representation or trust the notebook. <br />On GitHub, the HTML representation is unable to render, please try loading this page with nbviewer.org.</b></div><div class=\"sk-container\" hidden><div class=\"sk-item\"><div class=\"sk-estimator fitted sk-toggleable\"><input class=\"sk-toggleable__control sk-hidden--visually\" id=\"sk-estimator-id-2\" type=\"checkbox\" checked><label for=\"sk-estimator-id-2\" class=\"sk-toggleable__label fitted sk-toggleable__label-arrow fitted\">&nbsp;&nbsp;DecisionTreeClassifier<a class=\"sk-estimator-doc-link fitted\" rel=\"noreferrer\" target=\"_blank\" href=\"https://scikit-learn.org/1.4/modules/generated/sklearn.tree.DecisionTreeClassifier.html\">?<span>Documentation for DecisionTreeClassifier</span></a><span class=\"sk-estimator-doc-link fitted\">i<span>Fitted</span></span></label><div class=\"sk-toggleable__content fitted\"><pre>DecisionTreeClassifier(random_state=0)</pre></div> </div></div></div></div>"
      ],
      "text/plain": [
       "DecisionTreeClassifier(random_state=0)"
      ]
     },
     "execution_count": 21,
     "metadata": {},
     "output_type": "execute_result"
    }
   ],
   "source": [
    "decision_tree = DecisionTreeClassifier(random_state=0)\n",
    "decision_tree.fit(train.drop(columns=['cut']), train['cut'])"
   ]
  },
  {
   "cell_type": "code",
   "execution_count": 24,
   "metadata": {},
   "outputs": [
    {
     "data": {
      "text/plain": [
       "0.708523096942095"
      ]
     },
     "execution_count": 24,
     "metadata": {},
     "output_type": "execute_result"
    }
   ],
   "source": [
    "(decision_tree.predict(test.drop(columns=['cut'])) == test['cut']).mean()"
   ]
  },
  {
   "cell_type": "code",
   "execution_count": 27,
   "metadata": {},
   "outputs": [
    {
     "data": {
      "text/plain": [
       "0.713263314434427"
      ]
     },
     "execution_count": 27,
     "metadata": {},
     "output_type": "execute_result"
    }
   ],
   "source": [
    "# hard voting\n",
    "voting_classifier = VotingClassifier(\n",
    "    [(f'model{i+1}', DecisionTreeClassifier(random_state=i)) for i in range(10)]\n",
    ")\n",
    "voting_classifier.fit(train.drop(columns=['cut']), train['cut'])\n",
    "(voting_classifier.predict(test.drop(columns=['cut'])) == test['cut']).mean()"
   ]
  },
  {
   "cell_type": "code",
   "execution_count": 28,
   "metadata": {},
   "outputs": [
    {
     "data": {
      "text/plain": [
       "0.7131703689934009"
      ]
     },
     "execution_count": 28,
     "metadata": {},
     "output_type": "execute_result"
    }
   ],
   "source": [
    "# soft voting\n",
    "voting_classifier = VotingClassifier(\n",
    "    [(f'model{i+1}', DecisionTreeClassifier(random_state=i)) for i in range(10)],\n",
    "    voting='soft',\n",
    ")\n",
    "voting_classifier.fit(train.drop(columns=['cut']), train['cut'])\n",
    "(voting_classifier.predict(test.drop(columns=['cut'])) == test['cut']).mean()"
   ]
  },
  {
   "cell_type": "code",
   "execution_count": 35,
   "metadata": {},
   "outputs": [
    {
     "name": "stderr",
     "output_type": "stream",
     "text": [
      "C:\\Users\\USER\\AppData\\Local\\Temp\\ipykernel_20444\\1150649826.py:5: FutureWarning: Setting an item of incompatible dtype is deprecated and will raise in a future error of pandas. Value '[2 3 1 ... 4 3 2]' has dtype incompatible with category, please explicitly cast to a compatible dtype first.\n",
      "  df.loc[:, column] = label_encoder.fit_transform(df[column])\n",
      "C:\\Users\\USER\\AppData\\Local\\Temp\\ipykernel_20444\\1150649826.py:5: FutureWarning: Setting an item of incompatible dtype is deprecated and will raise in a future error of pandas. Value '[1 1 1 ... 0 4 0]' has dtype incompatible with category, please explicitly cast to a compatible dtype first.\n",
      "  df.loc[:, column] = label_encoder.fit_transform(df[column])\n",
      "C:\\Users\\USER\\AppData\\Local\\Temp\\ipykernel_20444\\1150649826.py:5: FutureWarning: Setting an item of incompatible dtype is deprecated and will raise in a future error of pandas. Value '[3 2 4 ... 2 3 3]' has dtype incompatible with category, please explicitly cast to a compatible dtype first.\n",
      "  df.loc[:, column] = label_encoder.fit_transform(df[column])\n",
      "C:\\Users\\USER\\AppData\\Local\\Temp\\ipykernel_20444\\3616883502.py:16: FutureWarning: Setting an item of incompatible dtype is deprecated and will raise in a future error of pandas. Value '[-0.27916889 -0.42288433 -0.75771872 ... -0.85854525 -0.62629309\n",
      " -0.1710688 ]' has dtype incompatible with int64, please explicitly cast to a compatible dtype first.\n",
      "  train.loc[:, target_columns] = standard_scaler.transform(train.loc[:, target_columns])\n",
      "C:\\Users\\USER\\AppData\\Local\\Temp\\ipykernel_20444\\3616883502.py:17: FutureWarning: Setting an item of incompatible dtype is deprecated and will raise in a future error of pandas. Value '[ 0.20188905  0.62601261  0.39677019 ... -0.24982386 -0.12692584\n",
      " -0.69100265]' has dtype incompatible with int64, please explicitly cast to a compatible dtype first.\n",
      "  test.loc[:, target_columns] = standard_scaler.transform(test.loc[:, target_columns])\n"
     ]
    },
    {
     "name": "stdout",
     "output_type": "stream",
     "text": [
      "svc acc:  0.6760103819058213\n",
      "logistic acc:  0.6560622914349277\n",
      "voting acc:  0.6698553948832036\n"
     ]
    }
   ],
   "source": [
    "# diamonds dataset\n",
    "# 1. 결측치, 중복값 확인 및 처리\n",
    "diamonds = sns.load_dataset('diamonds')\n",
    "\n",
    "# 2. label encoder를 활용하여 범주형 데이터 정수화\n",
    "diamonds, _ = convert_category_into_integer(diamonds, ('cut', 'color', 'clarity'))\n",
    "\n",
    "# 3. train, test split (random_state=0)\n",
    "train, test = train_test_split(diamonds, random_state=0)\n",
    "\n",
    "# 4. train 데이터로 scaler fit 후 train과 test scaling\n",
    "# (정수화된 범주형 데이터는 scaling하지 않음)\n",
    "target_columns = train.columns.difference(['cut', 'color', 'clarity'])\n",
    "standard_scaler = StandardScaler()\n",
    "standard_scaler.fit(train.loc[:, target_columns])\n",
    "train.loc[:, target_columns] = standard_scaler.transform(train.loc[:, target_columns])\n",
    "test.loc[:, target_columns] = standard_scaler.transform(test.loc[:, target_columns])\n",
    "\n",
    "# 5. SVC, Logistic Regression 객체 정의\n",
    "support_vector_classifier = SVC(kernel='linear')\n",
    "logistic_regression = LogisticRegression(random_state=0, max_iter=1000)\n",
    "\n",
    "# 6. SVC, logistic regresson 개별적으로 학습 후 각 모델의 성능 확인\n",
    "support_vector_classifier.fit(train.drop(columns=['cut']), train['cut'])\n",
    "logistic_regression.fit(train.drop(columns=['cut']), train['cut'])\n",
    "\n",
    "print('svc acc: ', (support_vector_classifier.predict(\n",
    "    test.drop(columns=['cut'])) == test['cut']).mean()\n",
    ")\n",
    "print('logistic acc: ', (logistic_regression.predict(\n",
    "    test.drop(columns=['cut'])) == test['cut']).mean()\n",
    ")\n",
    "\n",
    "# 7. voting classifier에 사용할 분류기 정의\n",
    "voting_classifier = VotingClassifier([\n",
    "    ('svm', SVC(kernel='linear')),\n",
    "    ('logistic_regression', LogisticRegression(random_state=0, max_iter=1000)),\n",
    "])\n",
    "\n",
    "# 8. voting classifier 학습 후 성능 확인\n",
    "voting_classifier.fit(train.drop(columns=['cut']), train['cut'])\n",
    "\n",
    "# 9. 개별 모델의 성능과 voting 모델의 성능 비교\n",
    "print('voting acc: ', (voting_classifier.predict(\n",
    "    test.drop(columns=['cut'])) == test['cut']).mean()\n",
    ")"
   ]
  },
  {
   "cell_type": "markdown",
   "metadata": {},
   "source": [
    "## Stacking\n",
    "\n",
    "<img src=\"https://cdn.prod.website-files.com/5d7b77b063a9066d83e1209c/61a4414dba9e9f94d7b31368_RhQ6ctlYepNo3J-yChyk_jLM_siHT9eGIJTpcI0NEPhADEcGic31JW4TWwLLzWv0LvqyDjFx9yQ8m16kKENTtPZeW-fY-9z6k7m-rsmPseGIeHhB-IiI0V5t4hImEPZRnEWPChAo.png\" width=\"600\" height=\"300\"/>\n",
    "\n",
    "<br>\n",
    "<br>\n",
    "\n",
    "<img src=\"https://miro.medium.com/v2/resize:fit:720/format:webp/1*T-JHq4AK3dyRNi7gpn9-Xw.png\" width=\"600\" height=\"300\"/>\n",
    "\n",
    "<br>\n",
    "\n",
    "base 모델 학습과 meta model 학습의 두 가지 단계를 통하여 ensemble 모델 구축 <br>\n",
    "base learner는 동일 데이터에서 여러 모델을 학습하거나 혹은 bagging 방법을 통하여 구축 <br>\n",
    "이렇게 학습한 모델을의 결과를 meta learner라고 하는 모델의 input으로 사용하여 meta learner 학습 <br>\n",
    "\n",
    "<br>\n",
    "\n",
    "<font style=\"font-size:20px\"> 사용 방법 </font> <p>\n",
    "\n",
    "> ```python\n",
    "> from sklearn.ensemble import StackingRegressor\n",
    "> \n",
    "> base_learners = [\n",
    ">   ('model1', model1),\n",
    ">   ('model2', model2),\n",
    ">   ('model3', model3),\n",
    "> ]\n",
    "> meta_learner = model4\n",
    "> \n",
    "> stacking_regressor = StackingRegressor(\n",
    ">   estimators=base_learners,\n",
    ">   final_estimator=meta_learner,\n",
    "> )\n",
    "> \n",
    "> stacking_regressor.fit(X, y)    # train\n",
    "> stacking_regressor.predict(X)   # predict\n",
    "> ```\n",
    "\n",
    "<br>\n",
    "\n",
    "주요 파라미터\n",
    "- estimators: base learners\n",
    "- final_estimator: meta learner\n",
    "- cv: num of folds (cross-validation)"
   ]
  },
  {
   "cell_type": "code",
   "execution_count": 51,
   "metadata": {},
   "outputs": [
    {
     "name": "stdout",
     "output_type": "stream",
     "text": [
      "svc acc:  0.99\n",
      "logistic_regression acc:  0.97\n",
      "decision_tree acc:  0.98\n",
      "stacking_classifier acc:  0.99\n"
     ]
    }
   ],
   "source": [
    "# penguin dataset\n",
    "# 1. 결측치, 중복값 확인 및 처리 (penguin data)\n",
    "penguins = sns.load_dataset('penguins')\n",
    "penguins = penguins.dropna()\n",
    "penguins = penguins.drop_duplicates()\n",
    "\n",
    "# 2. label encoder를 활용하여 범주형 데이터 정수화\n",
    "penguins, _ = convert_category_into_integer(penguins, ('species', 'island', 'sex'))\n",
    "\n",
    "# 3. train, test split (random_state=0)\n",
    "train, test = train_test_split(penguins, test_size=0.3, random_state=0)\n",
    "\n",
    "# 4. train 데이터로 scaler fit 후 train과 test scaling\n",
    "# (정수화된 범주형 데이터는 scaling하지 않음)\n",
    "def scaler(dfs: list, scaler, non_targer_column: list):\n",
    "    target_columns = dfs[0].columns.difference(non_targer_column)\n",
    "    scaler.fit(dfs[0].loc[:, target_columns])\n",
    "    for data in dfs:\n",
    "        data.loc[:, target_columns] = scaler.transform(data.loc[:, target_columns])\n",
    "\n",
    "    return dfs\n",
    "\n",
    "non_target_columns = ['species', 'island', 'sex']\n",
    "min_max_scaler = MinMaxScaler()\n",
    "\n",
    "train, test = scaler([train, test], min_max_scaler, non_target_columns)\n",
    "\n",
    "# 5. SVC, Logistic Regression, Decision Tree 객체 정의 (random_state=0)\n",
    "support_vector_classifier = SVC()\n",
    "logistic_regression = LogisticRegression(random_state=0)\n",
    "decision_tree = DecisionTreeClassifier(random_state=0)\n",
    "\n",
    "# 6. SVC, logistic regresson, Decision Tree 개별적으로 학습 후 각 모델의 성능 확인\n",
    "support_vector_classifier.fit(train.drop(columns=['species']), train.species.astype(int))\n",
    "logistic_regression.fit(train.drop(columns=['species']), train.species.astype(int))\n",
    "decision_tree.fit(train.drop(columns=['species']), train.species.astype(int))\n",
    "\n",
    "print('svc acc: ', (support_vector_classifier.predict(\n",
    "    test.drop(columns=['species'])) == test['species']).mean()\n",
    ")\n",
    "print('logistic_regression acc: ', (logistic_regression.predict(\n",
    "    test.drop(columns=['species'])) == test['species']).mean()\n",
    ")\n",
    "print('decision_tree acc: ', (decision_tree.predict(\n",
    "    test.drop(columns=['species'])) == test['species']).mean()\n",
    ")\n",
    "\n",
    "# 7. stacking classifier에 사용할 분류기 정의 (SVC, logistic regresson, Decision Tree)\n",
    "#    meta learner 정의 (random forest)\n",
    "meta_learner = RandomForestClassifier(random_state=0)\n",
    "stacking_classifier = StackingClassifier([\n",
    "    ('svc', SVC()),\n",
    "    ('logistic_regression', LogisticRegression(random_state=0)),\n",
    "    ('decision_tree', DecisionTreeClassifier(random_state=0)),\n",
    "], final_estimator=meta_learner)\n",
    "\n",
    "# 8. stacking classifier 학습 후 성능 확인\n",
    "stacking_classifier.fit(train.drop(columns=['species']), train.species.astype(int))\n",
    "\n",
    "# 9. 개별 모델의 성능과 stacking 모델의 성능 비교\n",
    "print('stacking_classifier acc: ', (stacking_classifier.predict(\n",
    "    test.drop(columns=['species'])) == test['species']).mean()\n",
    ")"
   ]
  },
  {
   "cell_type": "markdown",
   "metadata": {},
   "source": [
    "## Boosting\n",
    "\n",
    "<img src=\"https://cdn.prod.website-files.com/5d7b77b063a9066d83e1209c/61a4414d5e568a661fb7896c_mji7xyiAlyQAdxQde14HY1OVvAVzDyyKhDOo4a4bg53_m2OHUvHhMGexaHuHCfKGRVQQlfFlihuodX7LD5hugPgGw8ZzJV4bHjHc648Zr0LyVr2I0i6ciJvJri_OFCuQpOf81xcn.png\" width=\"600\" height=\"300\"/>\n",
    "\n",
    "<br>\n",
    "\n",
    "데이터 병렬 처리 대신 순차 처리 발생. <br>\n",
    "주어진 데이터를 첫 번째 모델로 학습. <br>\n",
    "첫 번째 모델에 의한 오차를 두 번째 모델에서 학습. <br>\n",
    "두 번째 모델은 첫 번째 모델이 못 맞춘 부분만을 학습. <br>\n",
    "위의 작업을 반복하여 개별 모델을 학습 후 ensemble하여 최종 모델 구축. <br>\n",
    "\n",
    "<br>\n",
    "\n",
    "<font style=\"font-size:20px\"> 대표 알고리즘 </font> <p>\n",
    "- Adaptive Boosting (AdaBoost)\n",
    "- XGBoost\n",
    "- LightGBM\n",
    "- CatBoost"
   ]
  },
  {
   "cell_type": "code",
   "execution_count": 56,
   "metadata": {},
   "outputs": [
    {
     "name": "stdout",
     "output_type": "stream",
     "text": [
      "total_bill    0\n",
      "tip           0\n",
      "sex           0\n",
      "smoker        0\n",
      "day           0\n",
      "time          0\n",
      "size          0\n",
      "dtype: int64\n",
      "1\n"
     ]
    }
   ],
   "source": [
    "tips = sns.load_dataset('tips')\n",
    "print(tips.isna().sum())\n",
    "print(tips.duplicated().sum())\n",
    "tips = tips.drop_duplicates()"
   ]
  },
  {
   "cell_type": "code",
   "execution_count": null,
   "metadata": {},
   "outputs": [],
   "source": [
    "tips, _ = convert_category_into_integer(tips, ('sex', 'smoker', 'day', 'time'))\n",
    "train, test = train_test_split(tips, test_size=0.3, random_state=0)"
   ]
  },
  {
   "cell_type": "code",
   "execution_count": null,
   "metadata": {},
   "outputs": [],
   "source": [
    "min_max_scaler = MinMaxScaler()\n",
    "train, test = scaler(\n",
    "    (train, test),\n",
    "    min_max_scaler,\n",
    "    ('sex', 'smoker', 'day', 'time'),\n",
    ")"
   ]
  },
  {
   "cell_type": "code",
   "execution_count": 70,
   "metadata": {},
   "outputs": [
    {
     "data": {
      "text/html": [
       "<style>#sk-container-id-3 {\n",
       "  /* Definition of color scheme common for light and dark mode */\n",
       "  --sklearn-color-text: black;\n",
       "  --sklearn-color-line: gray;\n",
       "  /* Definition of color scheme for unfitted estimators */\n",
       "  --sklearn-color-unfitted-level-0: #fff5e6;\n",
       "  --sklearn-color-unfitted-level-1: #f6e4d2;\n",
       "  --sklearn-color-unfitted-level-2: #ffe0b3;\n",
       "  --sklearn-color-unfitted-level-3: chocolate;\n",
       "  /* Definition of color scheme for fitted estimators */\n",
       "  --sklearn-color-fitted-level-0: #f0f8ff;\n",
       "  --sklearn-color-fitted-level-1: #d4ebff;\n",
       "  --sklearn-color-fitted-level-2: #b3dbfd;\n",
       "  --sklearn-color-fitted-level-3: cornflowerblue;\n",
       "\n",
       "  /* Specific color for light theme */\n",
       "  --sklearn-color-text-on-default-background: var(--sg-text-color, var(--theme-code-foreground, var(--jp-content-font-color1, black)));\n",
       "  --sklearn-color-background: var(--sg-background-color, var(--theme-background, var(--jp-layout-color0, white)));\n",
       "  --sklearn-color-border-box: var(--sg-text-color, var(--theme-code-foreground, var(--jp-content-font-color1, black)));\n",
       "  --sklearn-color-icon: #696969;\n",
       "\n",
       "  @media (prefers-color-scheme: dark) {\n",
       "    /* Redefinition of color scheme for dark theme */\n",
       "    --sklearn-color-text-on-default-background: var(--sg-text-color, var(--theme-code-foreground, var(--jp-content-font-color1, white)));\n",
       "    --sklearn-color-background: var(--sg-background-color, var(--theme-background, var(--jp-layout-color0, #111)));\n",
       "    --sklearn-color-border-box: var(--sg-text-color, var(--theme-code-foreground, var(--jp-content-font-color1, white)));\n",
       "    --sklearn-color-icon: #878787;\n",
       "  }\n",
       "}\n",
       "\n",
       "#sk-container-id-3 {\n",
       "  color: var(--sklearn-color-text);\n",
       "}\n",
       "\n",
       "#sk-container-id-3 pre {\n",
       "  padding: 0;\n",
       "}\n",
       "\n",
       "#sk-container-id-3 input.sk-hidden--visually {\n",
       "  border: 0;\n",
       "  clip: rect(1px 1px 1px 1px);\n",
       "  clip: rect(1px, 1px, 1px, 1px);\n",
       "  height: 1px;\n",
       "  margin: -1px;\n",
       "  overflow: hidden;\n",
       "  padding: 0;\n",
       "  position: absolute;\n",
       "  width: 1px;\n",
       "}\n",
       "\n",
       "#sk-container-id-3 div.sk-dashed-wrapped {\n",
       "  border: 1px dashed var(--sklearn-color-line);\n",
       "  margin: 0 0.4em 0.5em 0.4em;\n",
       "  box-sizing: border-box;\n",
       "  padding-bottom: 0.4em;\n",
       "  background-color: var(--sklearn-color-background);\n",
       "}\n",
       "\n",
       "#sk-container-id-3 div.sk-container {\n",
       "  /* jupyter's `normalize.less` sets `[hidden] { display: none; }`\n",
       "     but bootstrap.min.css set `[hidden] { display: none !important; }`\n",
       "     so we also need the `!important` here to be able to override the\n",
       "     default hidden behavior on the sphinx rendered scikit-learn.org.\n",
       "     See: https://github.com/scikit-learn/scikit-learn/issues/21755 */\n",
       "  display: inline-block !important;\n",
       "  position: relative;\n",
       "}\n",
       "\n",
       "#sk-container-id-3 div.sk-text-repr-fallback {\n",
       "  display: none;\n",
       "}\n",
       "\n",
       "div.sk-parallel-item,\n",
       "div.sk-serial,\n",
       "div.sk-item {\n",
       "  /* draw centered vertical line to link estimators */\n",
       "  background-image: linear-gradient(var(--sklearn-color-text-on-default-background), var(--sklearn-color-text-on-default-background));\n",
       "  background-size: 2px 100%;\n",
       "  background-repeat: no-repeat;\n",
       "  background-position: center center;\n",
       "}\n",
       "\n",
       "/* Parallel-specific style estimator block */\n",
       "\n",
       "#sk-container-id-3 div.sk-parallel-item::after {\n",
       "  content: \"\";\n",
       "  width: 100%;\n",
       "  border-bottom: 2px solid var(--sklearn-color-text-on-default-background);\n",
       "  flex-grow: 1;\n",
       "}\n",
       "\n",
       "#sk-container-id-3 div.sk-parallel {\n",
       "  display: flex;\n",
       "  align-items: stretch;\n",
       "  justify-content: center;\n",
       "  background-color: var(--sklearn-color-background);\n",
       "  position: relative;\n",
       "}\n",
       "\n",
       "#sk-container-id-3 div.sk-parallel-item {\n",
       "  display: flex;\n",
       "  flex-direction: column;\n",
       "}\n",
       "\n",
       "#sk-container-id-3 div.sk-parallel-item:first-child::after {\n",
       "  align-self: flex-end;\n",
       "  width: 50%;\n",
       "}\n",
       "\n",
       "#sk-container-id-3 div.sk-parallel-item:last-child::after {\n",
       "  align-self: flex-start;\n",
       "  width: 50%;\n",
       "}\n",
       "\n",
       "#sk-container-id-3 div.sk-parallel-item:only-child::after {\n",
       "  width: 0;\n",
       "}\n",
       "\n",
       "/* Serial-specific style estimator block */\n",
       "\n",
       "#sk-container-id-3 div.sk-serial {\n",
       "  display: flex;\n",
       "  flex-direction: column;\n",
       "  align-items: center;\n",
       "  background-color: var(--sklearn-color-background);\n",
       "  padding-right: 1em;\n",
       "  padding-left: 1em;\n",
       "}\n",
       "\n",
       "\n",
       "/* Toggleable style: style used for estimator/Pipeline/ColumnTransformer box that is\n",
       "clickable and can be expanded/collapsed.\n",
       "- Pipeline and ColumnTransformer use this feature and define the default style\n",
       "- Estimators will overwrite some part of the style using the `sk-estimator` class\n",
       "*/\n",
       "\n",
       "/* Pipeline and ColumnTransformer style (default) */\n",
       "\n",
       "#sk-container-id-3 div.sk-toggleable {\n",
       "  /* Default theme specific background. It is overwritten whether we have a\n",
       "  specific estimator or a Pipeline/ColumnTransformer */\n",
       "  background-color: var(--sklearn-color-background);\n",
       "}\n",
       "\n",
       "/* Toggleable label */\n",
       "#sk-container-id-3 label.sk-toggleable__label {\n",
       "  cursor: pointer;\n",
       "  display: block;\n",
       "  width: 100%;\n",
       "  margin-bottom: 0;\n",
       "  padding: 0.5em;\n",
       "  box-sizing: border-box;\n",
       "  text-align: center;\n",
       "}\n",
       "\n",
       "#sk-container-id-3 label.sk-toggleable__label-arrow:before {\n",
       "  /* Arrow on the left of the label */\n",
       "  content: \"▸\";\n",
       "  float: left;\n",
       "  margin-right: 0.25em;\n",
       "  color: var(--sklearn-color-icon);\n",
       "}\n",
       "\n",
       "#sk-container-id-3 label.sk-toggleable__label-arrow:hover:before {\n",
       "  color: var(--sklearn-color-text);\n",
       "}\n",
       "\n",
       "/* Toggleable content - dropdown */\n",
       "\n",
       "#sk-container-id-3 div.sk-toggleable__content {\n",
       "  max-height: 0;\n",
       "  max-width: 0;\n",
       "  overflow: hidden;\n",
       "  text-align: left;\n",
       "  /* unfitted */\n",
       "  background-color: var(--sklearn-color-unfitted-level-0);\n",
       "}\n",
       "\n",
       "#sk-container-id-3 div.sk-toggleable__content.fitted {\n",
       "  /* fitted */\n",
       "  background-color: var(--sklearn-color-fitted-level-0);\n",
       "}\n",
       "\n",
       "#sk-container-id-3 div.sk-toggleable__content pre {\n",
       "  margin: 0.2em;\n",
       "  border-radius: 0.25em;\n",
       "  color: var(--sklearn-color-text);\n",
       "  /* unfitted */\n",
       "  background-color: var(--sklearn-color-unfitted-level-0);\n",
       "}\n",
       "\n",
       "#sk-container-id-3 div.sk-toggleable__content.fitted pre {\n",
       "  /* unfitted */\n",
       "  background-color: var(--sklearn-color-fitted-level-0);\n",
       "}\n",
       "\n",
       "#sk-container-id-3 input.sk-toggleable__control:checked~div.sk-toggleable__content {\n",
       "  /* Expand drop-down */\n",
       "  max-height: 200px;\n",
       "  max-width: 100%;\n",
       "  overflow: auto;\n",
       "}\n",
       "\n",
       "#sk-container-id-3 input.sk-toggleable__control:checked~label.sk-toggleable__label-arrow:before {\n",
       "  content: \"▾\";\n",
       "}\n",
       "\n",
       "/* Pipeline/ColumnTransformer-specific style */\n",
       "\n",
       "#sk-container-id-3 div.sk-label input.sk-toggleable__control:checked~label.sk-toggleable__label {\n",
       "  color: var(--sklearn-color-text);\n",
       "  background-color: var(--sklearn-color-unfitted-level-2);\n",
       "}\n",
       "\n",
       "#sk-container-id-3 div.sk-label.fitted input.sk-toggleable__control:checked~label.sk-toggleable__label {\n",
       "  background-color: var(--sklearn-color-fitted-level-2);\n",
       "}\n",
       "\n",
       "/* Estimator-specific style */\n",
       "\n",
       "/* Colorize estimator box */\n",
       "#sk-container-id-3 div.sk-estimator input.sk-toggleable__control:checked~label.sk-toggleable__label {\n",
       "  /* unfitted */\n",
       "  background-color: var(--sklearn-color-unfitted-level-2);\n",
       "}\n",
       "\n",
       "#sk-container-id-3 div.sk-estimator.fitted input.sk-toggleable__control:checked~label.sk-toggleable__label {\n",
       "  /* fitted */\n",
       "  background-color: var(--sklearn-color-fitted-level-2);\n",
       "}\n",
       "\n",
       "#sk-container-id-3 div.sk-label label.sk-toggleable__label,\n",
       "#sk-container-id-3 div.sk-label label {\n",
       "  /* The background is the default theme color */\n",
       "  color: var(--sklearn-color-text-on-default-background);\n",
       "}\n",
       "\n",
       "/* On hover, darken the color of the background */\n",
       "#sk-container-id-3 div.sk-label:hover label.sk-toggleable__label {\n",
       "  color: var(--sklearn-color-text);\n",
       "  background-color: var(--sklearn-color-unfitted-level-2);\n",
       "}\n",
       "\n",
       "/* Label box, darken color on hover, fitted */\n",
       "#sk-container-id-3 div.sk-label.fitted:hover label.sk-toggleable__label.fitted {\n",
       "  color: var(--sklearn-color-text);\n",
       "  background-color: var(--sklearn-color-fitted-level-2);\n",
       "}\n",
       "\n",
       "/* Estimator label */\n",
       "\n",
       "#sk-container-id-3 div.sk-label label {\n",
       "  font-family: monospace;\n",
       "  font-weight: bold;\n",
       "  display: inline-block;\n",
       "  line-height: 1.2em;\n",
       "}\n",
       "\n",
       "#sk-container-id-3 div.sk-label-container {\n",
       "  text-align: center;\n",
       "}\n",
       "\n",
       "/* Estimator-specific */\n",
       "#sk-container-id-3 div.sk-estimator {\n",
       "  font-family: monospace;\n",
       "  border: 1px dotted var(--sklearn-color-border-box);\n",
       "  border-radius: 0.25em;\n",
       "  box-sizing: border-box;\n",
       "  margin-bottom: 0.5em;\n",
       "  /* unfitted */\n",
       "  background-color: var(--sklearn-color-unfitted-level-0);\n",
       "}\n",
       "\n",
       "#sk-container-id-3 div.sk-estimator.fitted {\n",
       "  /* fitted */\n",
       "  background-color: var(--sklearn-color-fitted-level-0);\n",
       "}\n",
       "\n",
       "/* on hover */\n",
       "#sk-container-id-3 div.sk-estimator:hover {\n",
       "  /* unfitted */\n",
       "  background-color: var(--sklearn-color-unfitted-level-2);\n",
       "}\n",
       "\n",
       "#sk-container-id-3 div.sk-estimator.fitted:hover {\n",
       "  /* fitted */\n",
       "  background-color: var(--sklearn-color-fitted-level-2);\n",
       "}\n",
       "\n",
       "/* Specification for estimator info (e.g. \"i\" and \"?\") */\n",
       "\n",
       "/* Common style for \"i\" and \"?\" */\n",
       "\n",
       ".sk-estimator-doc-link,\n",
       "a:link.sk-estimator-doc-link,\n",
       "a:visited.sk-estimator-doc-link {\n",
       "  float: right;\n",
       "  font-size: smaller;\n",
       "  line-height: 1em;\n",
       "  font-family: monospace;\n",
       "  background-color: var(--sklearn-color-background);\n",
       "  border-radius: 1em;\n",
       "  height: 1em;\n",
       "  width: 1em;\n",
       "  text-decoration: none !important;\n",
       "  margin-left: 1ex;\n",
       "  /* unfitted */\n",
       "  border: var(--sklearn-color-unfitted-level-1) 1pt solid;\n",
       "  color: var(--sklearn-color-unfitted-level-1);\n",
       "}\n",
       "\n",
       ".sk-estimator-doc-link.fitted,\n",
       "a:link.sk-estimator-doc-link.fitted,\n",
       "a:visited.sk-estimator-doc-link.fitted {\n",
       "  /* fitted */\n",
       "  border: var(--sklearn-color-fitted-level-1) 1pt solid;\n",
       "  color: var(--sklearn-color-fitted-level-1);\n",
       "}\n",
       "\n",
       "/* On hover */\n",
       "div.sk-estimator:hover .sk-estimator-doc-link:hover,\n",
       ".sk-estimator-doc-link:hover,\n",
       "div.sk-label-container:hover .sk-estimator-doc-link:hover,\n",
       ".sk-estimator-doc-link:hover {\n",
       "  /* unfitted */\n",
       "  background-color: var(--sklearn-color-unfitted-level-3);\n",
       "  color: var(--sklearn-color-background);\n",
       "  text-decoration: none;\n",
       "}\n",
       "\n",
       "div.sk-estimator.fitted:hover .sk-estimator-doc-link.fitted:hover,\n",
       ".sk-estimator-doc-link.fitted:hover,\n",
       "div.sk-label-container:hover .sk-estimator-doc-link.fitted:hover,\n",
       ".sk-estimator-doc-link.fitted:hover {\n",
       "  /* fitted */\n",
       "  background-color: var(--sklearn-color-fitted-level-3);\n",
       "  color: var(--sklearn-color-background);\n",
       "  text-decoration: none;\n",
       "}\n",
       "\n",
       "/* Span, style for the box shown on hovering the info icon */\n",
       ".sk-estimator-doc-link span {\n",
       "  display: none;\n",
       "  z-index: 9999;\n",
       "  position: relative;\n",
       "  font-weight: normal;\n",
       "  right: .2ex;\n",
       "  padding: .5ex;\n",
       "  margin: .5ex;\n",
       "  width: min-content;\n",
       "  min-width: 20ex;\n",
       "  max-width: 50ex;\n",
       "  color: var(--sklearn-color-text);\n",
       "  box-shadow: 2pt 2pt 4pt #999;\n",
       "  /* unfitted */\n",
       "  background: var(--sklearn-color-unfitted-level-0);\n",
       "  border: .5pt solid var(--sklearn-color-unfitted-level-3);\n",
       "}\n",
       "\n",
       ".sk-estimator-doc-link.fitted span {\n",
       "  /* fitted */\n",
       "  background: var(--sklearn-color-fitted-level-0);\n",
       "  border: var(--sklearn-color-fitted-level-3);\n",
       "}\n",
       "\n",
       ".sk-estimator-doc-link:hover span {\n",
       "  display: block;\n",
       "}\n",
       "\n",
       "/* \"?\"-specific style due to the `<a>` HTML tag */\n",
       "\n",
       "#sk-container-id-3 a.estimator_doc_link {\n",
       "  float: right;\n",
       "  font-size: 1rem;\n",
       "  line-height: 1em;\n",
       "  font-family: monospace;\n",
       "  background-color: var(--sklearn-color-background);\n",
       "  border-radius: 1rem;\n",
       "  height: 1rem;\n",
       "  width: 1rem;\n",
       "  text-decoration: none;\n",
       "  /* unfitted */\n",
       "  color: var(--sklearn-color-unfitted-level-1);\n",
       "  border: var(--sklearn-color-unfitted-level-1) 1pt solid;\n",
       "}\n",
       "\n",
       "#sk-container-id-3 a.estimator_doc_link.fitted {\n",
       "  /* fitted */\n",
       "  border: var(--sklearn-color-fitted-level-1) 1pt solid;\n",
       "  color: var(--sklearn-color-fitted-level-1);\n",
       "}\n",
       "\n",
       "/* On hover */\n",
       "#sk-container-id-3 a.estimator_doc_link:hover {\n",
       "  /* unfitted */\n",
       "  background-color: var(--sklearn-color-unfitted-level-3);\n",
       "  color: var(--sklearn-color-background);\n",
       "  text-decoration: none;\n",
       "}\n",
       "\n",
       "#sk-container-id-3 a.estimator_doc_link.fitted:hover {\n",
       "  /* fitted */\n",
       "  background-color: var(--sklearn-color-fitted-level-3);\n",
       "}\n",
       "</style><div id=\"sk-container-id-3\" class=\"sk-top-container\"><div class=\"sk-text-repr-fallback\"><pre>GradientBoostingClassifier(learning_rate=0.5, max_depth=4, random_state=0)</pre><b>In a Jupyter environment, please rerun this cell to show the HTML representation or trust the notebook. <br />On GitHub, the HTML representation is unable to render, please try loading this page with nbviewer.org.</b></div><div class=\"sk-container\" hidden><div class=\"sk-item\"><div class=\"sk-estimator fitted sk-toggleable\"><input class=\"sk-toggleable__control sk-hidden--visually\" id=\"sk-estimator-id-3\" type=\"checkbox\" checked><label for=\"sk-estimator-id-3\" class=\"sk-toggleable__label fitted sk-toggleable__label-arrow fitted\">&nbsp;&nbsp;GradientBoostingClassifier<a class=\"sk-estimator-doc-link fitted\" rel=\"noreferrer\" target=\"_blank\" href=\"https://scikit-learn.org/1.4/modules/generated/sklearn.ensemble.GradientBoostingClassifier.html\">?<span>Documentation for GradientBoostingClassifier</span></a><span class=\"sk-estimator-doc-link fitted\">i<span>Fitted</span></span></label><div class=\"sk-toggleable__content fitted\"><pre>GradientBoostingClassifier(learning_rate=0.5, max_depth=4, random_state=0)</pre></div> </div></div></div></div>"
      ],
      "text/plain": [
       "GradientBoostingClassifier(learning_rate=0.5, max_depth=4, random_state=0)"
      ]
     },
     "execution_count": 70,
     "metadata": {},
     "output_type": "execute_result"
    }
   ],
   "source": [
    "gradient_boosting = GradientBoostingClassifier(\n",
    "    n_estimators=100,\n",
    "    learning_rate=0.5,\n",
    "    max_depth=4,\n",
    "    random_state=0\n",
    ")\n",
    "gradient_boosting.fit(train.drop(columns=['sex']), train.sex)"
   ]
  },
  {
   "cell_type": "code",
   "execution_count": 74,
   "metadata": {},
   "outputs": [
    {
     "data": {
      "text/plain": [
       "0.5205479452054794"
      ]
     },
     "execution_count": 74,
     "metadata": {},
     "output_type": "execute_result"
    }
   ],
   "source": [
    "(gradient_boosting.predict(test.drop(columns=['sex'])) == test.sex).mean()"
   ]
  },
  {
   "cell_type": "code",
   "execution_count": 75,
   "metadata": {},
   "outputs": [
    {
     "data": {
      "text/plain": [
       "0.5205479452054794"
      ]
     },
     "execution_count": 75,
     "metadata": {},
     "output_type": "execute_result"
    }
   ],
   "source": [
    "gradient_boosting.score(test.drop(columns=['sex']), test.sex)"
   ]
  },
  {
   "cell_type": "code",
   "execution_count": 113,
   "metadata": {},
   "outputs": [
    {
     "name": "stdout",
     "output_type": "stream",
     "text": [
      "train mse: 1.4540119349091774\n",
      "test mse: 252.62913149249945\n"
     ]
    },
    {
     "name": "stderr",
     "output_type": "stream",
     "text": [
      "C:\\Users\\USER\\AppData\\Local\\Temp\\ipykernel_20444\\2940792817.py:15: FutureWarning:\n",
      "\n",
      "Setting an item of incompatible dtype is deprecated and will raise in a future error of pandas. Value '[-1.73606189 -1.327913   -1.39993927 -1.37593051 -1.37593051 -1.30390424\n",
      " -1.23187796 -1.25588672 -1.39993927 -1.13584293 -1.06381665 -0.67967652\n",
      " -0.55963273 -0.39157142 -0.70368528 -1.25588672 -1.06381665 -0.65566776\n",
      " -0.58364148 -1.11183417 -1.03980789 -0.75170279 -0.77571155 -0.82372907\n",
      " -0.79972031 -0.72769404 -0.96778162 -0.60765024 -0.87174659 -0.84773783\n",
      " -0.99179038 -1.23187796 -1.01579914 -1.18386045 -1.37593051 -1.35192175\n",
      " -1.30390424 -1.37593051 -1.13584293 -1.327913   -1.42394803 -1.47196555\n",
      " -1.6160181  -1.4959743  -1.73606189 -1.54399182 -1.51998306 -1.18386045\n",
      " -1.44795679 -1.42394803 -1.23187796 -0.94377286 -0.77571155 -0.99179038\n",
      " -0.79972031 -0.84773783 -0.72769404 -0.53562397 -0.75170279 -0.631659\n",
      " -0.55963273 -0.94377286 -0.29553638 -0.12747507 -0.07945756 -0.0554488\n",
      " -0.03144004 -0.27152763 -0.22351011 -0.15148383 -0.17549259 -0.22351011\n",
      " -0.12747507 -0.24751887 -0.631659   -0.51161521 -0.39157142 -0.17549259\n",
      " -0.12747507 -0.19950135 -0.27152763 -0.07945756 -0.22351011 -0.39157142\n",
      " -0.48760645 -0.51161521 -0.41558018 -0.19950135 -0.29553638 -0.00743128\n",
      "  0.5207614   0.54477016  0.5207614   0.54477016  0.61679644  0.97692781\n",
      "  1.45710298  1.24102416  1.12098036  1.43309422  1.31305043  1.14498912\n",
      "  1.12098036  1.38507671  1.14498912  1.38507671  1.36106795  1.26503291\n",
      "  1.33705919  1.19300664  1.24102416  1.02494533  1.2170154   1.28904167\n",
      "  1.48111174  1.52912926  1.55313802  1.48111174  1.43309422  1.62516429\n",
      "  1.62516429  1.38507671  1.28904167  0.88089278  0.78485775  1.26503291\n",
      "  1.36106795  1.36106795  1.72119932  1.69719057  1.38507671  1.31305043\n",
      "  1.14498912  0.97692781  1.00093657  0.90490154  0.85688402  1.31305043\n",
      "  1.04895409  0.85688402  1.16899788  0.88089278  0.61679644  0.49675264\n",
      "  0.54477016  0.32869134  0.6408052   0.42472637  0.30468258  0.25666506\n",
      "  0.18463879  0.11261251  0.01657748  0.08860375  0.08860375  0.20864754\n",
      "  0.47274389  0.20864754  0.13662127  0.13662127  0.20864754  0.16063003\n",
      "  1.14498912  1.19300664  1.07296285  0.90490154  1.00093657  0.97692781]' has dtype incompatible with int64, please explicitly cast to a compatible dtype first.\n",
      "\n",
      "C:\\Users\\USER\\AppData\\Local\\Temp\\ipykernel_20444\\2940792817.py:15: FutureWarning:\n",
      "\n",
      "Setting an item of incompatible dtype is deprecated and will raise in a future error of pandas. Value '[-1.35227622e+00 -1.42470419e+00 -1.40056153e+00 -1.40056153e+00\n",
      " -1.32813356e+00 -1.25570559e+00 -1.27984824e+00 -1.42470419e+00\n",
      " -1.15913496e+00 -1.08670699e+00 -7.00424471e-01 -5.79711185e-01\n",
      " -4.10712585e-01 -7.24567129e-01 -1.27984824e+00 -1.08670699e+00\n",
      " -6.76281814e-01 -6.03853843e-01 -1.13499230e+00 -1.06256433e+00\n",
      " -7.72852443e-01 -7.96995100e-01 -8.45280415e-01 -8.21137757e-01\n",
      " -7.48709786e-01 -9.90136358e-01 -6.27996500e-01 -8.93565729e-01\n",
      " -8.69423072e-01 -1.01427902e+00 -1.25570559e+00 -1.03842167e+00\n",
      " -1.20742027e+00 -1.40056153e+00 -1.37641887e+00 -1.32813356e+00\n",
      " -1.40056153e+00 -1.15913496e+00 -1.35227622e+00 -1.44884684e+00\n",
      " -1.49713216e+00 -1.64198810e+00 -1.52127482e+00 -1.76270139e+00\n",
      " -1.56956013e+00 -1.54541747e+00 -1.20742027e+00 -1.47298950e+00\n",
      " -1.44884684e+00 -1.25570559e+00 -9.65993701e-01 -7.96995100e-01\n",
      " -1.01427902e+00 -8.21137757e-01 -8.69423072e-01 -7.48709786e-01\n",
      " -5.55568528e-01 -7.72852443e-01 -6.52139157e-01 -5.79711185e-01\n",
      " -9.65993701e-01 -3.14141956e-01 -1.45143356e-01 -9.68580414e-02\n",
      " -7.27153842e-02 -4.85727270e-02 -2.89999299e-01 -2.41713985e-01\n",
      " -1.69286013e-01 -1.93428670e-01 -2.41713985e-01 -1.45143356e-01\n",
      " -2.65856642e-01 -6.52139157e-01 -5.31425871e-01 -4.10712585e-01\n",
      " -1.93428670e-01 -1.45143356e-01 -2.17571327e-01 -2.89999299e-01\n",
      " -9.68580414e-02 -2.41713985e-01 -4.10712585e-01 -5.07283214e-01\n",
      " -5.31425871e-01 -4.34855242e-01 -2.17571327e-01 -3.14141956e-01\n",
      " -2.44300698e-02  5.06708389e-01  5.30851046e-01  5.06708389e-01\n",
      "  5.30851046e-01  6.03279017e-01  9.65418875e-01  1.44827202e+00\n",
      "  1.23098810e+00  1.11027482e+00  1.42412936e+00  1.30341608e+00\n",
      "  1.13441748e+00  1.11027482e+00  1.37584405e+00  1.13441748e+00\n",
      "  1.37584405e+00  1.35170139e+00  1.25513076e+00  1.32755873e+00\n",
      "  1.18270279e+00  1.23098810e+00  1.01370419e+00  1.20684545e+00\n",
      "  1.27927342e+00  1.47241468e+00  1.52069999e+00  1.54484265e+00\n",
      "  1.47241468e+00  1.42412936e+00  1.61727062e+00  1.61727062e+00\n",
      "  1.37584405e+00  1.27927342e+00  8.68848247e-01  7.72277618e-01\n",
      "  1.25513076e+00  1.35170139e+00  1.35170139e+00  1.71384125e+00\n",
      "  1.68969859e+00  1.37584405e+00  1.30341608e+00  1.13441748e+00\n",
      "  9.65418875e-01  9.89561533e-01  8.92990904e-01  8.44705589e-01\n",
      "  1.30341608e+00  1.03784685e+00  8.44705589e-01  1.15856013e+00\n",
      "  8.68848247e-01  6.03279017e-01  4.82565731e-01  5.30851046e-01\n",
      "  3.13567131e-01  6.27421675e-01  4.10137760e-01  2.89424474e-01\n",
      "  2.41139159e-01  1.68711188e-01  9.62832162e-02 -2.87412586e-04\n",
      "  7.21405590e-02  7.21405590e-02  1.92853845e-01  4.58423074e-01\n",
      "  1.92853845e-01  1.20425873e-01  1.20425873e-01  1.92853845e-01\n",
      "  1.44568531e-01  1.13441748e+00  1.18270279e+00  1.06198950e+00\n",
      "  8.92990904e-01  9.89561533e-01  9.65418875e-01  1.08613216e+00]' has dtype incompatible with int64, please explicitly cast to a compatible dtype first.\n",
      "\n",
      "C:\\Users\\USER\\AppData\\Local\\Temp\\ipykernel_20444\\2940792817.py:15: FutureWarning:\n",
      "\n",
      "Setting an item of incompatible dtype is deprecated and will raise in a future error of pandas. Value '[-1.89559504 -1.70505733 -1.30016469 -1.37161633 -1.34779912 -1.34779912\n",
      " -1.27634748 -1.20489584 -1.22871305 -1.37161633 -1.10962698 -1.03817534\n",
      " -0.65709992 -0.53801385 -0.37129335 -0.68091713 -1.22871305 -1.03817534\n",
      " -0.6332827  -0.56183106 -1.08580977 -1.01435812 -0.72855156 -0.75236877\n",
      " -0.8000032  -0.77618599 -0.70473434 -0.94290648 -0.58564828 -0.84763763\n",
      " -0.82382041 -0.9667237  -1.20489584 -0.99054091 -1.15726141 -1.34779912\n",
      " -1.3239819  -1.27634748 -1.34779912 -1.10962698 -1.30016469 -1.39543355\n",
      " -1.44306797 -1.58597126 -1.46688519 -1.70505733 -1.51451962 -1.4907024\n",
      " -1.15726141 -1.41925076 -1.39543355 -1.20489584 -0.91908927 -0.75236877\n",
      " -0.9667237  -0.77618599 -0.82382041 -0.70473434 -0.51419663 -0.72855156\n",
      " -0.60946549 -0.53801385 -0.91908927 -0.2760245  -0.109304   -0.06166957\n",
      " -0.03785236 -0.01403514 -0.25220728 -0.20457285 -0.13312121 -0.15693843\n",
      " -0.20457285 -0.109304   -0.22839007 -0.60946549 -0.49037942 -0.37129335\n",
      " -0.15693843 -0.109304   -0.18075564 -0.25220728 -0.06166957 -0.20457285\n",
      " -0.37129335 -0.46656221 -0.49037942 -0.39511057 -0.18075564 -0.2760245\n",
      "  0.00978207  0.53376077  0.55757799  0.53376077  0.55757799  0.62902963\n",
      "  0.98628784  1.46263211  1.24827719  1.12919112  1.4388149   1.31972883\n",
      "  1.15300833  1.12919112  1.39118047  1.15300833  1.39118047  1.36736326\n",
      "  1.2720944   1.34354604  1.20064276  1.24827719  1.03392226  1.22445998\n",
      "  1.29591162  1.48644933  1.53408375  1.55790097  1.48644933  1.4388149\n",
      "  1.62935261  1.62935261  1.39118047  1.29591162  0.89101898  0.79575013\n",
      "  1.2720944   1.36736326  1.36736326  1.72462147  1.70080425  1.39118047\n",
      "  1.31972883  1.15300833  0.98628784  1.01010505  0.9148362   0.86720177\n",
      "  1.31972883  1.05773948  0.86720177  1.17682555  0.89101898  0.62902963\n",
      "  0.50994356  0.55757799  0.34322306  0.65284684  0.43849192  0.31940585\n",
      "  0.27177142  0.20031978  0.12886814  0.03359928  0.10505093  0.10505093\n",
      "  0.22413699  0.48612635  0.22413699  0.15268535  0.15268535  0.22413699\n",
      "  0.17650257  1.15300833  1.20064276  1.08155669  0.9148362   1.01010505]' has dtype incompatible with int64, please explicitly cast to a compatible dtype first.\n",
      "\n",
      "C:\\Users\\USER\\AppData\\Local\\Temp\\ipykernel_20444\\2940792817.py:15: FutureWarning:\n",
      "\n",
      "Setting an item of incompatible dtype is deprecated and will raise in a future error of pandas. Value '[-1.95624885 -1.86178889 -1.67286898 -1.27141416 -1.34225913 -1.31864414\n",
      " -1.31864414 -1.24779917 -1.1769542  -1.20056919 -1.34225913 -1.08249424\n",
      " -1.01164927 -0.63380945 -0.5157345  -0.35042957 -0.65742443 -1.20056919\n",
      " -1.01164927 -0.61019446 -0.53934949 -1.05887925 -0.98803429 -0.70465441\n",
      " -0.7282694  -0.77549938 -0.75188439 -0.68103942 -0.91718932 -0.56296448\n",
      " -0.82272936 -0.79911437 -0.94080431 -1.1769542  -0.9644193  -1.12972422\n",
      " -1.31864414 -1.29502915 -1.24779917 -1.31864414 -1.08249424 -1.27141416\n",
      " -1.36587411 -1.41310409 -1.55479403 -1.43671908 -1.67286898 -1.48394906\n",
      " -1.46033407 -1.12972422 -1.3894891  -1.36587411 -1.1769542  -0.89357433\n",
      " -0.7282694  -0.94080431 -0.75188439 -0.79911437 -0.68103942 -0.49211951\n",
      " -0.70465441 -0.58657947 -0.5157345  -0.89357433 -0.25596962 -0.09066469\n",
      " -0.04343471 -0.01981972  0.00379527 -0.23235463 -0.18512465 -0.11427968\n",
      " -0.13789467 -0.18512465 -0.09066469 -0.20873964 -0.58657947 -0.46850452\n",
      " -0.35042957 -0.13789467 -0.09066469 -0.16150966 -0.23235463 -0.04343471\n",
      " -0.18512465 -0.35042957 -0.44488953 -0.46850452 -0.37404456 -0.16150966\n",
      " -0.25596962  0.02741026  0.54694002  0.57055501  0.54694002  0.57055501\n",
      "  0.64139998  0.99562482  1.4679246   1.2553897   1.13731475  1.44430961\n",
      "  1.32623467  1.16092974  1.13731475  1.39707964  1.16092974  1.39707964\n",
      "  1.37346465  1.27900469  1.34984966  1.20815972  1.2553897   1.0428548\n",
      "  1.23177471  1.30261968  1.49153959  1.53876957  1.56238456  1.49153959\n",
      "  1.44430961  1.63322953  1.63322953  1.39707964  1.30261968  0.90116486\n",
      "  0.8067049   1.27900469  1.37346465  1.37346465  1.72768949  1.7040745\n",
      "  1.39707964  1.32623467  1.16092974  0.99562482  1.01923981  0.92477985\n",
      "  0.87754987  1.32623467  1.06646979  0.87754987  1.18454473  0.90116486\n",
      "  0.64139998  0.52332503  0.57055501  0.35802011  0.66501497  0.45248006\n",
      "  0.33440512  0.28717514  0.21633017  0.1454852   0.05102524  0.12187021\n",
      "  0.12187021  0.23994516  0.49971004  0.23994516  0.16910019  0.16910019\n",
      "  0.23994516  0.19271518  1.16092974  1.20815972  1.09008478  0.92477985]' has dtype incompatible with int64, please explicitly cast to a compatible dtype first.\n",
      "\n",
      "C:\\Users\\USER\\AppData\\Local\\Temp\\ipykernel_20444\\2940792817.py:15: FutureWarning:\n",
      "\n",
      "Setting an item of incompatible dtype is deprecated and will raise in a future error of pandas. Value '[-2.46293061e+00 -1.90512933e+00 -1.81216245e+00 -1.62622869e+00\n",
      " -1.23111945e+00 -1.30084461e+00 -1.27760289e+00 -1.27760289e+00\n",
      " -1.20787773e+00 -1.13815257e+00 -1.16139429e+00 -1.30084461e+00\n",
      " -1.04518569e+00 -9.75460526e-01 -6.03593004e-01 -4.87384404e-01\n",
      " -3.24692363e-01 -6.26834724e-01 -1.16139429e+00 -9.75460526e-01\n",
      " -5.80351284e-01 -5.10626124e-01 -1.02194397e+00 -9.52218805e-01\n",
      " -6.73318165e-01 -6.96559885e-01 -7.43043325e-01 -7.19801605e-01\n",
      " -6.50076444e-01 -8.82493645e-01 -5.33867844e-01 -7.89526765e-01\n",
      " -7.66285045e-01 -9.05735365e-01 -1.13815257e+00 -9.28977085e-01\n",
      " -1.09166913e+00 -1.27760289e+00 -1.25436117e+00 -1.20787773e+00\n",
      " -1.27760289e+00 -1.04518569e+00 -1.23111945e+00 -1.32408633e+00\n",
      " -1.37056977e+00 -1.51002009e+00 -1.39381149e+00 -1.62622869e+00\n",
      " -1.44029493e+00 -1.41705321e+00 -1.09166913e+00 -1.34732805e+00\n",
      " -1.32408633e+00 -1.13815257e+00 -8.59251925e-01 -6.96559885e-01\n",
      " -9.05735365e-01 -7.19801605e-01 -7.66285045e-01 -6.50076444e-01\n",
      " -4.64142684e-01 -6.73318165e-01 -5.57109564e-01 -4.87384404e-01\n",
      " -8.59251925e-01 -2.31725483e-01 -6.90334424e-02 -2.25500022e-02\n",
      "  6.91717860e-04  2.39334379e-02 -2.08483763e-01 -1.62000323e-01\n",
      " -9.22751625e-02 -1.15516883e-01 -1.62000323e-01 -6.90334424e-02\n",
      " -1.85242043e-01 -5.57109564e-01 -4.40900964e-01 -3.24692363e-01\n",
      " -1.15516883e-01 -6.90334424e-02 -1.38758603e-01 -2.08483763e-01\n",
      " -2.25500022e-02 -1.62000323e-01 -3.24692363e-01 -4.17659244e-01\n",
      " -4.40900964e-01 -3.47934083e-01 -1.38758603e-01 -2.31725483e-01\n",
      "  4.71751580e-02  5.58493000e-01  5.81734720e-01  5.58493000e-01\n",
      "  5.81734720e-01  6.51459880e-01  1.00008568e+00  1.46492008e+00\n",
      "  1.25574460e+00  1.13953600e+00  1.44167836e+00  1.32546976e+00\n",
      "  1.16277772e+00  1.13953600e+00  1.39519492e+00  1.16277772e+00\n",
      "  1.39519492e+00  1.37195320e+00  1.27898632e+00  1.34871148e+00\n",
      "  1.20926116e+00  1.25574460e+00  1.04656912e+00  1.23250288e+00\n",
      "  1.30222804e+00  1.48816180e+00  1.53464524e+00  1.55788696e+00\n",
      "  1.48816180e+00  1.44167836e+00  1.62761212e+00  1.62761212e+00\n",
      "  1.39519492e+00  1.30222804e+00  9.07118801e-01  8.14151921e-01\n",
      "  1.27898632e+00  1.37195320e+00  1.37195320e+00  1.72057900e+00\n",
      "  1.69733728e+00  1.39519492e+00  1.32546976e+00  1.16277772e+00\n",
      "  1.00008568e+00  1.02332740e+00  9.30360521e-01  8.83877081e-01\n",
      "  1.32546976e+00  1.06981084e+00  8.83877081e-01  1.18601944e+00\n",
      "  9.07118801e-01  6.51459880e-01  5.35251280e-01  5.81734720e-01\n",
      "  3.72559239e-01  6.74701600e-01  4.65526119e-01  3.49317519e-01\n",
      "  3.02834079e-01  2.33108919e-01  1.63383758e-01  7.04168781e-02\n",
      "  1.40142038e-01  1.40142038e-01  2.56350639e-01  5.12009560e-01\n",
      "  2.56350639e-01  1.86625479e-01  1.86625479e-01  2.56350639e-01\n",
      "  2.09867199e-01  1.16277772e+00  1.20926116e+00  1.09305256e+00]' has dtype incompatible with int64, please explicitly cast to a compatible dtype first.\n",
      "\n",
      "C:\\Users\\USER\\AppData\\Local\\Temp\\ipykernel_20444\\2940792817.py:15: FutureWarning:\n",
      "\n",
      "Setting an item of incompatible dtype is deprecated and will raise in a future error of pandas. Value '[-2.38563914e+00 -2.40856355e+00 -1.85837782e+00 -1.76668020e+00\n",
      " -1.58328496e+00 -1.19357007e+00 -1.26234329e+00 -1.23941888e+00\n",
      " -1.23941888e+00 -1.17064567e+00 -1.10187245e+00 -1.12479686e+00\n",
      " -1.26234329e+00 -1.01017483e+00 -9.41401616e-01 -5.74611133e-01\n",
      " -4.59989107e-01 -2.99518270e-01 -5.97535538e-01 -1.12479686e+00\n",
      " -9.41401616e-01 -5.51686727e-01 -4.82913512e-01 -9.87250426e-01\n",
      " -9.18477210e-01 -6.43384348e-01 -6.66308753e-01 -7.12157564e-01\n",
      " -6.89233159e-01 -6.20459943e-01 -8.49703995e-01 -5.05837917e-01\n",
      " -7.58006374e-01 -7.35081969e-01 -8.72628400e-01 -1.10187245e+00\n",
      " -8.95552805e-01 -1.05602364e+00 -1.23941888e+00 -1.21649448e+00\n",
      " -1.17064567e+00 -1.23941888e+00 -1.01017483e+00 -1.19357007e+00\n",
      " -1.28526769e+00 -1.33111650e+00 -1.46866294e+00 -1.35404091e+00\n",
      " -1.58328496e+00 -1.39988972e+00 -1.37696531e+00 -1.05602364e+00\n",
      " -1.30819210e+00 -1.28526769e+00 -1.10187245e+00 -8.26779590e-01\n",
      " -6.66308753e-01 -8.72628400e-01 -6.89233159e-01 -7.35081969e-01\n",
      " -6.20459943e-01 -4.37064701e-01 -6.43384348e-01 -5.28762322e-01\n",
      " -4.59989107e-01 -8.26779590e-01 -2.07820649e-01 -4.73498131e-02\n",
      " -1.50100272e-03  2.14234025e-02  4.43478077e-02 -1.84896244e-01\n",
      " -1.39047434e-01 -7.02742183e-02 -9.31986235e-02 -1.39047434e-01\n",
      " -4.73498131e-02 -1.61971839e-01 -5.28762322e-01 -4.14140296e-01\n",
      " -2.99518270e-01 -9.31986235e-02 -4.73498131e-02 -1.16123029e-01\n",
      " -1.84896244e-01 -1.50100272e-03 -1.39047434e-01 -2.99518270e-01\n",
      " -3.91215891e-01 -4.14140296e-01 -3.22442675e-01 -1.16123029e-01\n",
      " -2.07820649e-01  6.72722129e-02  5.71609127e-01  5.94533532e-01\n",
      "  5.71609127e-01  5.94533532e-01  6.63306748e-01  1.00717283e+00\n",
      "  1.46566093e+00  1.25934128e+00  1.14471926e+00  1.44273652e+00\n",
      "  1.32811450e+00  1.16764366e+00  1.14471926e+00  1.39688771e+00\n",
      "  1.16764366e+00  1.39688771e+00  1.37396331e+00  1.28226569e+00\n",
      "  1.35103890e+00  1.21349247e+00  1.25934128e+00  1.05302164e+00\n",
      "  1.23641688e+00  1.30519009e+00  1.48858533e+00  1.53443415e+00\n",
      "  1.55735855e+00  1.48858533e+00  1.44273652e+00  1.62613177e+00\n",
      "  1.62613177e+00  1.39688771e+00  1.30519009e+00  9.15475205e-01\n",
      "  8.23777584e-01  1.28226569e+00  1.37396331e+00  1.37396331e+00\n",
      "  1.71782939e+00  1.69490498e+00  1.39688771e+00  1.32811450e+00\n",
      "  1.16764366e+00  1.00717283e+00  1.03009723e+00  9.38399610e-01\n",
      "  8.92550800e-01  1.32811450e+00  1.07594604e+00  8.92550800e-01\n",
      "  1.19056807e+00  9.15475205e-01  6.63306748e-01  5.48684722e-01\n",
      "  5.94533532e-01  3.88213886e-01  6.86231153e-01  4.79911506e-01\n",
      "  3.65289480e-01  3.19440670e-01  2.50667454e-01  1.81894239e-01\n",
      "  9.01966181e-02  1.58969834e-01  1.58969834e-01  2.73591860e-01\n",
      "  5.25760317e-01  2.73591860e-01  2.04818644e-01  2.04818644e-01\n",
      "  2.73591860e-01  2.27743049e-01  1.16764366e+00  1.21349247e+00]' has dtype incompatible with int64, please explicitly cast to a compatible dtype first.\n",
      "\n",
      "C:\\Users\\USER\\AppData\\Local\\Temp\\ipykernel_20444\\2940792817.py:15: FutureWarning:\n",
      "\n",
      "Setting an item of incompatible dtype is deprecated and will raise in a future error of pandas. Value '[ 1.09697161  1.02494533  1.12098036  1.31305043  1.38507671  0.95291905\n",
      "  0.85688402  0.8088665   0.6408052   0.61679644  0.76084899  0.56877892\n",
      "  0.5207614   0.30468258  0.11261251 -0.0554488   0.04058623  0.47274389\n",
      "  0.6408052   0.42472637  0.25666506  0.76084899  1.02494533  0.78485775\n",
      "  0.61679644  0.5207614   0.54477016  0.42472637  0.11261251  0.25666506\n",
      "  0.25666506  0.16063003  0.56877892  0.83287526  0.8088665   1.12098036\n",
      "  1.12098036  0.88089278  0.97692781  1.02494533  1.00093657  1.09697161\n",
      "  1.43309422  1.57714677  1.5051205   1.55313802  1.57714677  1.57714677\n",
      "  1.48111174  1.31305043  1.2170154   1.55313802  1.55313802  1.57714677\n",
      "  1.38507671  1.52912926  1.19300664  1.31305043  1.26503291  1.52912926\n",
      "  1.62516429  1.74520808  1.57714677  1.64917305  1.69719057  1.60115553\n",
      "  1.72119932  2.05732194  2.10533946  2.32141828  2.48947959  2.82560221]' has dtype incompatible with int64, please explicitly cast to a compatible dtype first.\n",
      "\n",
      "C:\\Users\\USER\\AppData\\Local\\Temp\\ipykernel_20444\\2940792817.py:15: FutureWarning:\n",
      "\n",
      "Setting an item of incompatible dtype is deprecated and will raise in a future error of pandas. Value '[ 1.01370419  1.11027482  1.30341608  1.37584405  0.94127622  0.84470559\n",
      "  0.79642028  0.62742167  0.60327902  0.74813496  0.5549937   0.50670839\n",
      "  0.28942447  0.09628322 -0.07271538  0.02385524  0.45842307  0.62742167\n",
      "  0.41013776  0.24113916  0.74813496  1.01370419  0.77227762  0.60327902\n",
      "  0.50670839  0.53085105  0.41013776  0.09628322  0.24113916  0.24113916\n",
      "  0.14456853  0.5549937   0.82056293  0.79642028  1.11027482  1.11027482\n",
      "  0.86884825  0.96541888  1.01370419  0.98956153  1.08613216  1.42412936\n",
      "  1.56898531  1.49655733  1.54484265  1.56898531  1.56898531  1.47241468\n",
      "  1.30341608  1.20684545  1.54484265  1.54484265  1.56898531  1.37584405\n",
      "  1.52069999  1.18270279  1.30341608  1.25513076  1.52069999  1.61727062\n",
      "  1.73798391  1.56898531  1.64141328  1.68969859  1.59312796  1.71384125\n",
      "  2.05183845  2.10012376  2.31740768  2.48640628  2.82440348  2.94511677]' has dtype incompatible with int64, please explicitly cast to a compatible dtype first.\n",
      "\n",
      "C:\\Users\\USER\\AppData\\Local\\Temp\\ipykernel_20444\\2940792817.py:15: FutureWarning:\n",
      "\n",
      "Setting an item of incompatible dtype is deprecated and will raise in a future error of pandas. Value '[ 0.98628784  1.10537391  1.03392226  1.12919112  1.31972883  1.39118047\n",
      "  0.96247062  0.86720177  0.81956734  0.65284684  0.62902963  0.77193291\n",
      "  0.5813952   0.53376077  0.31940585  0.12886814 -0.03785236  0.0574165\n",
      "  0.48612635  0.65284684  0.43849192  0.27177142  0.77193291  1.03392226\n",
      "  0.79575013  0.62902963  0.53376077  0.55757799  0.43849192  0.12886814\n",
      "  0.27177142  0.27177142  0.17650257  0.5813952   0.84338455  0.81956734\n",
      "  1.12919112  1.12919112  0.89101898  0.98628784  1.03392226  1.01010505\n",
      "  1.10537391  1.4388149   1.58171818  1.51026654  1.55790097  1.58171818\n",
      "  1.58171818  1.48644933  1.31972883  1.22445998  1.55790097  1.55790097\n",
      "  1.58171818  1.39118047  1.53408375  1.20064276  1.31972883  1.2720944\n",
      "  1.53408375  1.62935261  1.74843868  1.58171818  1.65316982  1.70080425\n",
      "  1.6055354   1.72462147  2.05806246  2.10569689  2.32005181  2.48677231]' has dtype incompatible with int64, please explicitly cast to a compatible dtype first.\n",
      "\n",
      "C:\\Users\\USER\\AppData\\Local\\Temp\\ipykernel_20444\\2940792817.py:15: FutureWarning:\n",
      "\n",
      "Setting an item of incompatible dtype is deprecated and will raise in a future error of pandas. Value '[ 1.01923981  0.99562482  1.11369976  1.0428548   1.13731475  1.32623467\n",
      "  1.39707964  0.97200983  0.87754987  0.83031989  0.66501497  0.64139998\n",
      "  0.78308991  0.59417     0.54694002  0.33440512  0.1454852  -0.01981972\n",
      "  0.07464023  0.49971004  0.66501497  0.45248006  0.28717514  0.78308991\n",
      "  1.0428548   0.8067049   0.64139998  0.54694002  0.57055501  0.45248006\n",
      "  0.1454852   0.28717514  0.28717514  0.19271518  0.59417     0.85393488\n",
      "  0.83031989  1.13731475  1.13731475  0.90116486  0.99562482  1.0428548\n",
      "  1.01923981  1.11369976  1.44430961  1.58599955  1.51515458  1.56238456\n",
      "  1.58599955  1.58599955  1.49153959  1.32623467  1.23177471  1.56238456\n",
      "  1.56238456  1.58599955  1.39707964  1.53876957  1.20815972  1.32623467\n",
      "  1.27900469  1.53876957  1.63322953  1.75130448  1.58599955  1.65684452\n",
      "  1.7040745   1.60961454  1.72768949  2.05829934  2.10552932  2.31806422]' has dtype incompatible with int64, please explicitly cast to a compatible dtype first.\n",
      "\n",
      "C:\\Users\\USER\\AppData\\Local\\Temp\\ipykernel_20444\\2940792817.py:15: FutureWarning:\n",
      "\n",
      "Setting an item of incompatible dtype is deprecated and will raise in a future error of pandas. Value '[9.30360521e-01 1.02332740e+00 1.00008568e+00 1.11629428e+00\n",
      " 1.04656912e+00 1.13953600e+00 1.32546976e+00 1.39519492e+00\n",
      " 9.76843961e-01 8.83877081e-01 8.37393641e-01 6.74701600e-01\n",
      " 6.51459880e-01 7.90910201e-01 6.04976440e-01 5.58493000e-01\n",
      " 3.49317519e-01 1.63383758e-01 6.91717860e-04 9.36585982e-02\n",
      " 5.12009560e-01 6.74701600e-01 4.65526119e-01 3.02834079e-01\n",
      " 7.90910201e-01 1.04656912e+00 8.14151921e-01 6.51459880e-01\n",
      " 5.58493000e-01 5.81734720e-01 4.65526119e-01 1.63383758e-01\n",
      " 3.02834079e-01 3.02834079e-01 2.09867199e-01 6.04976440e-01\n",
      " 8.60635361e-01 8.37393641e-01 1.13953600e+00 1.13953600e+00\n",
      " 9.07118801e-01 1.00008568e+00 1.04656912e+00 1.02332740e+00\n",
      " 1.11629428e+00 1.44167836e+00 1.58112868e+00 1.51140352e+00\n",
      " 1.55788696e+00 1.58112868e+00 1.58112868e+00 1.48816180e+00\n",
      " 1.32546976e+00 1.23250288e+00 1.55788696e+00 1.55788696e+00\n",
      " 1.58112868e+00 1.39519492e+00 1.53464524e+00 1.20926116e+00\n",
      " 1.32546976e+00 1.27898632e+00 1.53464524e+00 1.62761212e+00\n",
      " 1.74382072e+00 1.58112868e+00 1.65085384e+00 1.69733728e+00\n",
      " 1.60437040e+00 1.72057900e+00 2.04596309e+00 2.09244653e+00]' has dtype incompatible with int64, please explicitly cast to a compatible dtype first.\n",
      "\n",
      "C:\\Users\\USER\\AppData\\Local\\Temp\\ipykernel_20444\\2940792817.py:15: FutureWarning:\n",
      "\n",
      "Setting an item of incompatible dtype is deprecated and will raise in a future error of pandas. Value '[1.09887045 0.93839961 1.03009723 1.00717283 1.12179485 1.05302164\n",
      " 1.14471926 1.3281145  1.39688771 0.98424842 0.8925508  0.84670199\n",
      " 0.68623115 0.66330675 0.80085318 0.61745794 0.57160913 0.36528948\n",
      " 0.18189424 0.0214234  0.11312102 0.52576032 0.68623115 0.47991151\n",
      " 0.31944067 0.80085318 1.05302164 0.82377758 0.66330675 0.57160913\n",
      " 0.59453353 0.47991151 0.18189424 0.31944067 0.31944067 0.22774305\n",
      " 0.61745794 0.86962639 0.84670199 1.14471926 1.14471926 0.91547521\n",
      " 1.00717283 1.05302164 1.03009723 1.12179485 1.44273652 1.58028296\n",
      " 1.51150974 1.55735855 1.58028296 1.58028296 1.48858533 1.3281145\n",
      " 1.23641688 1.55735855 1.55735855 1.58028296 1.39688771 1.53443415\n",
      " 1.21349247 1.3281145  1.28226569 1.53443415 1.62613177 1.74075379\n",
      " 1.58028296 1.64905617 1.69490498 1.60320736 1.71782939 2.03877106]' has dtype incompatible with int64, please explicitly cast to a compatible dtype first.\n",
      "\n"
     ]
    }
   ],
   "source": [
    "# 삼성전자 dataset\n",
    "# 삼성전자의 이전 5일의 주가를 가지고 내일의 주가를 맞추려고 한다.\n",
    "# 1. 데이터 로드 (일자와 종가만 로드)\n",
    "samsung = pd.read_csv(\n",
    "    './data/samsung_2023.csv',\n",
    "    encoding='cp949',\n",
    "    usecols=['일자', '종가'])\n",
    "\n",
    "# 2. 일자를 datetime으로 변환하여 index에 입력\n",
    "samsung.일자 = pd.to_datetime(samsung.일자)\n",
    "samsung = samsung.sort_values(by=['일자'])\n",
    "samsung = samsung.set_index('일자')\n",
    "\n",
    "# 3. 데이터 전처리 (sliding window를 사용하여 데이터를 window size가 6이 되도록 구성)\n",
    "window_size = 6\n",
    "slided_data = np.lib.stride_tricks.sliding_window_view(\n",
    "    samsung.종가.values,\n",
    "    window_size,\n",
    ")\n",
    "\n",
    "# 4. 3에서의 데이터를 DataFrame으로 구성\n",
    "#    (column과 index에 적절한 값을 대입)\n",
    "slided_data = pd.DataFrame(\n",
    "    slided_data,\n",
    "    columns=['t-4', 't-3', 't-2', 't-1', 't', 't+1'],\n",
    "    index=samsung.index[window_size-1:]\n",
    ")\n",
    "\n",
    "# 5. train, test split (random_state=0)\n",
    "train, test = train_test_split(\n",
    "    slided_data,\n",
    "    test_size=0.3,\n",
    "    shuffle=False,\n",
    ")\n",
    "\n",
    "# 6. train과 test에 standard scaler 적용\n",
    "standard_scaler = StandardScaler()\n",
    "(train, test), standard_scaler = scaler((train, test), standard_scaler, [''])\n",
    "\n",
    "# 7. gradient boosting 모델 적합 (random_state=0)\n",
    "gradient_boosting = GradientBoostingRegressor(\n",
    "    n_estimators=50,\n",
    "    learning_rate=1,\n",
    "    random_state=0,\n",
    ")\n",
    "gradient_boosting.fit(train.drop(columns=['t+1']), train['t+1'])\n",
    "\n",
    "# 8. mse 계산 및 예측 결과와 실제 결과를 시각화\n",
    "predicted_train = gradient_boosting.predict(train.drop(columns=['t+1']))\n",
    "predicted_train = predicted_train*standard_scaler.scale_[-1] + standard_scaler.mean_[-1]\n",
    "predicted_test = gradient_boosting.predict(test.drop(columns=['t+1']))\n",
    "predicted_test = predicted_test*standard_scaler.scale_[-1] + standard_scaler.mean_[-1]\n",
    "\n",
    "ground_truth_train = train['t+1']*standard_scaler.scale_[-1] + standard_scaler.mean_[-1]\n",
    "ground_truth_test = test['t+1']*standard_scaler.scale_[-1] + standard_scaler.mean_[-1]\n",
    "\n",
    "# train.loc[:] = standard_scaler.inverse_transform(train)\n",
    "# test.loc[:] = standard_scaler.inverse_transform(test)\n",
    "\n",
    "print(f'train mse: {np.sqrt(((predicted_train - ground_truth_train)**2).sum()) / len(train)}')\n",
    "print(f'test mse: {np.sqrt(((predicted_test - ground_truth_test)**2).sum()) / len(test)}')"
   ]
  },
  {
   "cell_type": "code",
   "execution_count": 118,
   "metadata": {},
   "outputs": [
    {
     "data": {
      "application/vnd.plotly.v1+json": {
       "config": {
        "plotlyServerURL": "https://plot.ly"
       },
       "data": [
        {
         "hovertemplate": "variable=predicted<br>일자=%{x}<br>value=%{y}<extra></extra>",
         "legendgroup": "predicted",
         "line": {
          "color": "#636efa",
          "dash": "solid"
         },
         "marker": {
          "symbol": "circle"
         },
         "mode": "lines",
         "name": "predicted",
         "orientation": "v",
         "showlegend": true,
         "type": "scatter",
         "x": [
          "2023-01-09T00:00:00",
          "2023-01-10T00:00:00",
          "2023-01-11T00:00:00",
          "2023-01-12T00:00:00",
          "2023-01-13T00:00:00",
          "2023-01-16T00:00:00",
          "2023-01-17T00:00:00",
          "2023-01-18T00:00:00",
          "2023-01-19T00:00:00",
          "2023-01-20T00:00:00",
          "2023-01-25T00:00:00",
          "2023-01-26T00:00:00",
          "2023-01-27T00:00:00",
          "2023-01-30T00:00:00",
          "2023-01-31T00:00:00",
          "2023-02-01T00:00:00",
          "2023-02-02T00:00:00",
          "2023-02-03T00:00:00",
          "2023-02-06T00:00:00",
          "2023-02-07T00:00:00",
          "2023-02-08T00:00:00",
          "2023-02-09T00:00:00",
          "2023-02-10T00:00:00",
          "2023-02-13T00:00:00",
          "2023-02-14T00:00:00",
          "2023-02-15T00:00:00",
          "2023-02-16T00:00:00",
          "2023-02-17T00:00:00",
          "2023-02-20T00:00:00",
          "2023-02-21T00:00:00",
          "2023-02-22T00:00:00",
          "2023-02-23T00:00:00",
          "2023-02-24T00:00:00",
          "2023-02-27T00:00:00",
          "2023-02-28T00:00:00",
          "2023-03-02T00:00:00",
          "2023-03-03T00:00:00",
          "2023-03-06T00:00:00",
          "2023-03-07T00:00:00",
          "2023-03-08T00:00:00",
          "2023-03-09T00:00:00",
          "2023-03-10T00:00:00",
          "2023-03-13T00:00:00",
          "2023-03-14T00:00:00",
          "2023-03-15T00:00:00",
          "2023-03-16T00:00:00",
          "2023-03-17T00:00:00",
          "2023-03-20T00:00:00",
          "2023-03-21T00:00:00",
          "2023-03-22T00:00:00",
          "2023-03-23T00:00:00",
          "2023-03-24T00:00:00",
          "2023-03-27T00:00:00",
          "2023-03-28T00:00:00",
          "2023-03-29T00:00:00",
          "2023-03-30T00:00:00",
          "2023-03-31T00:00:00",
          "2023-04-03T00:00:00",
          "2023-04-04T00:00:00",
          "2023-04-05T00:00:00",
          "2023-04-06T00:00:00",
          "2023-04-07T00:00:00",
          "2023-04-10T00:00:00",
          "2023-04-11T00:00:00",
          "2023-04-12T00:00:00",
          "2023-04-13T00:00:00",
          "2023-04-14T00:00:00",
          "2023-04-17T00:00:00",
          "2023-04-18T00:00:00",
          "2023-04-19T00:00:00",
          "2023-04-20T00:00:00",
          "2023-04-21T00:00:00",
          "2023-04-24T00:00:00",
          "2023-04-25T00:00:00",
          "2023-04-26T00:00:00",
          "2023-04-27T00:00:00",
          "2023-04-28T00:00:00",
          "2023-05-02T00:00:00",
          "2023-05-03T00:00:00",
          "2023-05-04T00:00:00",
          "2023-05-08T00:00:00",
          "2023-05-09T00:00:00",
          "2023-05-10T00:00:00",
          "2023-05-11T00:00:00",
          "2023-05-12T00:00:00",
          "2023-05-15T00:00:00",
          "2023-05-16T00:00:00",
          "2023-05-17T00:00:00",
          "2023-05-18T00:00:00",
          "2023-05-19T00:00:00",
          "2023-05-22T00:00:00",
          "2023-05-23T00:00:00",
          "2023-05-24T00:00:00",
          "2023-05-25T00:00:00",
          "2023-05-26T00:00:00",
          "2023-05-30T00:00:00",
          "2023-05-31T00:00:00",
          "2023-06-01T00:00:00",
          "2023-06-02T00:00:00",
          "2023-06-05T00:00:00",
          "2023-06-07T00:00:00",
          "2023-06-08T00:00:00",
          "2023-06-09T00:00:00",
          "2023-06-12T00:00:00",
          "2023-06-13T00:00:00",
          "2023-06-14T00:00:00",
          "2023-06-15T00:00:00",
          "2023-06-16T00:00:00",
          "2023-06-19T00:00:00",
          "2023-06-20T00:00:00",
          "2023-06-21T00:00:00",
          "2023-06-22T00:00:00",
          "2023-06-23T00:00:00",
          "2023-06-26T00:00:00",
          "2023-06-27T00:00:00",
          "2023-06-28T00:00:00",
          "2023-06-29T00:00:00",
          "2023-06-30T00:00:00",
          "2023-07-03T00:00:00",
          "2023-07-04T00:00:00",
          "2023-07-05T00:00:00",
          "2023-07-06T00:00:00",
          "2023-07-07T00:00:00",
          "2023-07-10T00:00:00",
          "2023-07-11T00:00:00",
          "2023-07-12T00:00:00",
          "2023-07-13T00:00:00",
          "2023-07-14T00:00:00",
          "2023-07-17T00:00:00",
          "2023-07-18T00:00:00",
          "2023-07-19T00:00:00",
          "2023-07-20T00:00:00",
          "2023-07-21T00:00:00",
          "2023-07-24T00:00:00",
          "2023-07-25T00:00:00",
          "2023-07-26T00:00:00",
          "2023-07-27T00:00:00",
          "2023-07-28T00:00:00",
          "2023-07-31T00:00:00",
          "2023-08-01T00:00:00",
          "2023-08-02T00:00:00",
          "2023-08-03T00:00:00",
          "2023-08-04T00:00:00",
          "2023-08-07T00:00:00",
          "2023-08-08T00:00:00",
          "2023-08-09T00:00:00",
          "2023-08-10T00:00:00",
          "2023-08-11T00:00:00",
          "2023-08-14T00:00:00",
          "2023-08-16T00:00:00",
          "2023-08-17T00:00:00",
          "2023-08-18T00:00:00",
          "2023-08-21T00:00:00",
          "2023-08-22T00:00:00",
          "2023-08-23T00:00:00",
          "2023-08-24T00:00:00",
          "2023-08-25T00:00:00",
          "2023-08-28T00:00:00",
          "2023-08-29T00:00:00",
          "2023-08-30T00:00:00",
          "2023-08-31T00:00:00",
          "2023-09-01T00:00:00",
          "2023-09-04T00:00:00",
          "2023-09-05T00:00:00",
          "2023-09-06T00:00:00",
          "2023-09-07T00:00:00",
          "2023-09-08T00:00:00",
          "2023-09-11T00:00:00"
         ],
         "xaxis": "x",
         "y": [
          60008.168769842625,
          59692.27085447379,
          59797.54588395996,
          59819.453531659885,
          60120.8766200367,
          60416.23461148692,
          60382.21200714194,
          59676.533917214925,
          60845.15933955823,
          61167.865551951174,
          62842.96622359558,
          63406.79860243291,
          64077.86668154058,
          62760.31789483892,
          60318.24318677962,
          61163.446157597224,
          62961.040269359575,
          63257.31795319554,
          60964.12881687824,
          61257.0180072393,
          62556.951090210045,
          62429.24594000468,
          62232.00017208112,
          62337.15018070961,
          62679.22279887341,
          61587.41109402693,
          63186.36536552116,
          62014.58921689318,
          62129.690283084376,
          61482.09687977389,
          60444.18220274891,
          61356.007229832016,
          60620.11332370161,
          59831.3642467264,
          59905.76698739854,
          60144.12647638713,
          59792.52516533503,
          60813.93079525996,
          59987.677467851914,
          59581.552508175504,
          59369.35715968733,
          58743.61228176174,
          59271.422547909184,
          58211.575618484516,
          59057.48414506989,
          59165.65505581827,
          60647.37610553905,
          59478.34544824301,
          59573.053720932956,
          60429.4703542451,
          61698.96978931846,
          62443.29890506674,
          61509.13001209854,
          62292.26989914049,
          62138.34359354447,
          62580.98698226694,
          63470.527363670364,
          62540.78699248769,
          63054.378449230004,
          63374.46071834084,
          61689.17209367837,
          64490.21277283731,
          65211.92839828028,
          65503.14455987678,
          65599.96654909394,
          65698.04816937714,
          64693.19298644482,
          64808.09781391103,
          65168.9934823877,
          65063.67926813465,
          64847.22435698782,
          65279.00231565137,
          64752.84314113709,
          63069.80421216631,
          63566.87189991203,
          64125.13052891852,
          65080.83631250609,
          65280.093091142706,
          64957.38070256429,
          64615.81773863399,
          65496.10304632857,
          64801.376974049555,
          64128.16594822491,
          63707.028004122534,
          63565.29754797678,
          64010.537125604205,
          64950.610956745004,
          64538.11670404326,
          65802.90095308603,
          68093.94363939918,
          68217.55620906498,
          68121.4022171041,
          68198.12171350724,
          68553.71943882699,
          70109.86342584004,
          72234.62088830747,
          71278.59254549487,
          70771.45531724786,
          72129.79190588128,
          71602.25970928364,
          70843.39451331535,
          70763.53381790241,
          71905.87796096623,
          70843.39451331535,
          71906.10036677118,
          71814.23156440529,
          71374.59853294028,
          71694.0137977607,
          71076.0349692142,
          71284.84226898401,
          70351.4503634882,
          71165.90581826995,
          71463.00243482839,
          72349.98089791475,
          72538.26007280526,
          72636.65426614523,
          72337.9086119683,
          72125.1197564167,
          72949.76136558577,
          72960.64616846881,
          71902.5872913329,
          71479.2106759514,
          69691.00808032422,
          69289.86209680402,
          71394.25032218343,
          71803.63141995428,
          71796.6970813268,
          73384.79355605571,
          73284.78898775707,
          71911.1771167889,
          71592.8793591846,
          70857.84028645881,
          70114.03025736262,
          70216.32803525902,
          69778.75076293666,
          69591.86903734315,
          71528.16388162167,
          70445.61355929251,
          69601.41262166055,
          70966.09833661088,
          69674.81555964806,
          68538.32191322959,
          68042.8346462469,
          68207.20021125801,
          67267.73502158643,
          68663.26598313349,
          67696.32832030696,
          67156.8479705507,
          66960.2077420904,
          66644.26509933127,
          66343.97024136082,
          65884.77712428846,
          66213.31069738317,
          66219.29435646339,
          66751.54796463811,
          67912.98953560759,
          66719.38203574104,
          66440.35211587016,
          66414.2136162044,
          66739.8817686484,
          66529.25334014231,
          70902.41498372743,
          71068.82190364356,
          70521.30170629843,
          69811.47644740817,
          70226.94735835756,
          70176.682217271,
          70645.01117987359
         ],
         "yaxis": "y"
        },
        {
         "hovertemplate": "variable=ground_truth<br>일자=%{x}<br>value=%{y}<extra></extra>",
         "legendgroup": "ground_truth",
         "line": {
          "color": "#EF553B",
          "dash": "solid"
         },
         "marker": {
          "symbol": "circle"
         },
         "mode": "lines",
         "name": "ground_truth",
         "orientation": "v",
         "showlegend": true,
         "type": "scatter",
         "x": [
          "2023-01-09T00:00:00",
          "2023-01-10T00:00:00",
          "2023-01-11T00:00:00",
          "2023-01-12T00:00:00",
          "2023-01-13T00:00:00",
          "2023-01-16T00:00:00",
          "2023-01-17T00:00:00",
          "2023-01-18T00:00:00",
          "2023-01-19T00:00:00",
          "2023-01-20T00:00:00",
          "2023-01-25T00:00:00",
          "2023-01-26T00:00:00",
          "2023-01-27T00:00:00",
          "2023-01-30T00:00:00",
          "2023-01-31T00:00:00",
          "2023-02-01T00:00:00",
          "2023-02-02T00:00:00",
          "2023-02-03T00:00:00",
          "2023-02-06T00:00:00",
          "2023-02-07T00:00:00",
          "2023-02-08T00:00:00",
          "2023-02-09T00:00:00",
          "2023-02-10T00:00:00",
          "2023-02-13T00:00:00",
          "2023-02-14T00:00:00",
          "2023-02-15T00:00:00",
          "2023-02-16T00:00:00",
          "2023-02-17T00:00:00",
          "2023-02-20T00:00:00",
          "2023-02-21T00:00:00",
          "2023-02-22T00:00:00",
          "2023-02-23T00:00:00",
          "2023-02-24T00:00:00",
          "2023-02-27T00:00:00",
          "2023-02-28T00:00:00",
          "2023-03-02T00:00:00",
          "2023-03-03T00:00:00",
          "2023-03-06T00:00:00",
          "2023-03-07T00:00:00",
          "2023-03-08T00:00:00",
          "2023-03-09T00:00:00",
          "2023-03-10T00:00:00",
          "2023-03-13T00:00:00",
          "2023-03-14T00:00:00",
          "2023-03-15T00:00:00",
          "2023-03-16T00:00:00",
          "2023-03-17T00:00:00",
          "2023-03-20T00:00:00",
          "2023-03-21T00:00:00",
          "2023-03-22T00:00:00",
          "2023-03-23T00:00:00",
          "2023-03-24T00:00:00",
          "2023-03-27T00:00:00",
          "2023-03-28T00:00:00",
          "2023-03-29T00:00:00",
          "2023-03-30T00:00:00",
          "2023-03-31T00:00:00",
          "2023-04-03T00:00:00",
          "2023-04-04T00:00:00",
          "2023-04-05T00:00:00",
          "2023-04-06T00:00:00",
          "2023-04-07T00:00:00",
          "2023-04-10T00:00:00",
          "2023-04-11T00:00:00",
          "2023-04-12T00:00:00",
          "2023-04-13T00:00:00",
          "2023-04-14T00:00:00",
          "2023-04-17T00:00:00",
          "2023-04-18T00:00:00",
          "2023-04-19T00:00:00",
          "2023-04-20T00:00:00",
          "2023-04-21T00:00:00",
          "2023-04-24T00:00:00",
          "2023-04-25T00:00:00",
          "2023-04-26T00:00:00",
          "2023-04-27T00:00:00",
          "2023-04-28T00:00:00",
          "2023-05-02T00:00:00",
          "2023-05-03T00:00:00",
          "2023-05-04T00:00:00",
          "2023-05-08T00:00:00",
          "2023-05-09T00:00:00",
          "2023-05-10T00:00:00",
          "2023-05-11T00:00:00",
          "2023-05-12T00:00:00",
          "2023-05-15T00:00:00",
          "2023-05-16T00:00:00",
          "2023-05-17T00:00:00",
          "2023-05-18T00:00:00",
          "2023-05-19T00:00:00",
          "2023-05-22T00:00:00",
          "2023-05-23T00:00:00",
          "2023-05-24T00:00:00",
          "2023-05-25T00:00:00",
          "2023-05-26T00:00:00",
          "2023-05-30T00:00:00",
          "2023-05-31T00:00:00",
          "2023-06-01T00:00:00",
          "2023-06-02T00:00:00",
          "2023-06-05T00:00:00",
          "2023-06-07T00:00:00",
          "2023-06-08T00:00:00",
          "2023-06-09T00:00:00",
          "2023-06-12T00:00:00",
          "2023-06-13T00:00:00",
          "2023-06-14T00:00:00",
          "2023-06-15T00:00:00",
          "2023-06-16T00:00:00",
          "2023-06-19T00:00:00",
          "2023-06-20T00:00:00",
          "2023-06-21T00:00:00",
          "2023-06-22T00:00:00",
          "2023-06-23T00:00:00",
          "2023-06-26T00:00:00",
          "2023-06-27T00:00:00",
          "2023-06-28T00:00:00",
          "2023-06-29T00:00:00",
          "2023-06-30T00:00:00",
          "2023-07-03T00:00:00",
          "2023-07-04T00:00:00",
          "2023-07-05T00:00:00",
          "2023-07-06T00:00:00",
          "2023-07-07T00:00:00",
          "2023-07-10T00:00:00",
          "2023-07-11T00:00:00",
          "2023-07-12T00:00:00",
          "2023-07-13T00:00:00",
          "2023-07-14T00:00:00",
          "2023-07-17T00:00:00",
          "2023-07-18T00:00:00",
          "2023-07-19T00:00:00",
          "2023-07-20T00:00:00",
          "2023-07-21T00:00:00",
          "2023-07-24T00:00:00",
          "2023-07-25T00:00:00",
          "2023-07-26T00:00:00",
          "2023-07-27T00:00:00",
          "2023-07-28T00:00:00",
          "2023-07-31T00:00:00",
          "2023-08-01T00:00:00",
          "2023-08-02T00:00:00",
          "2023-08-03T00:00:00",
          "2023-08-04T00:00:00",
          "2023-08-07T00:00:00",
          "2023-08-08T00:00:00",
          "2023-08-09T00:00:00",
          "2023-08-10T00:00:00",
          "2023-08-11T00:00:00",
          "2023-08-14T00:00:00",
          "2023-08-16T00:00:00",
          "2023-08-17T00:00:00",
          "2023-08-18T00:00:00",
          "2023-08-21T00:00:00",
          "2023-08-22T00:00:00",
          "2023-08-23T00:00:00",
          "2023-08-24T00:00:00",
          "2023-08-25T00:00:00",
          "2023-08-28T00:00:00",
          "2023-08-29T00:00:00",
          "2023-08-30T00:00:00",
          "2023-08-31T00:00:00",
          "2023-09-01T00:00:00",
          "2023-09-04T00:00:00",
          "2023-09-05T00:00:00",
          "2023-09-06T00:00:00",
          "2023-09-07T00:00:00",
          "2023-09-08T00:00:00",
          "2023-09-11T00:00:00"
         ],
         "xaxis": "x",
         "y": [
          -1.3522762158608872,
          -1.4247041874649136,
          -1.4005615302635714,
          -1.4005615302635714,
          -1.328133558659545,
          -1.2557055870555187,
          -1.2798482442568608,
          -1.4247041874649136,
          -1.1591349582501504,
          -1.086706986646124,
          -0.7004244714246505,
          -0.57971118541794,
          -0.4107125850085453,
          -0.7245671286259926,
          -1.2798482442568608,
          -1.086706986646124,
          -0.6762818142233084,
          -0.6038538426192821,
          -1.1349923010488083,
          -1.062564329444782,
          -0.7728524430286767,
          -0.7969951002300188,
          -0.8452804146327031,
          -0.821137757431361,
          -0.7487097858273347,
          -0.9901363578407557,
          -0.6279964998206242,
          -0.8935657290353872,
          -0.8694230718340452,
          -1.0142790150420977,
          -1.2557055870555187,
          -1.0384216722434398,
          -1.2074202726528345,
          -1.4005615302635714,
          -1.3764188730622293,
          -1.328133558659545,
          -1.4005615302635714,
          -1.1591349582501504,
          -1.3522762158608872,
          -1.4488468446662555,
          -1.4971321590689397,
          -1.6419881022769924,
          -1.5212748162702818,
          -1.7627013882837028,
          -1.569560130672966,
          -1.545417473471624,
          -1.2074202726528345,
          -1.4729895018675976,
          -1.4488468446662555,
          -1.2557055870555187,
          -0.9659937006394136,
          -0.7969951002300188,
          -1.0142790150420977,
          -0.821137757431361,
          -0.8694230718340452,
          -0.7487097858273347,
          -0.5555685282165979,
          -0.7728524430286767,
          -0.6521391570219662,
          -0.57971118541794,
          -0.9659937006394136,
          -0.31414195620317686,
          -0.14514335579378218,
          -0.096858041391098,
          -0.07271538418975589,
          -0.04857272698841379,
          -0.2899992990018348,
          -0.24171398459915058,
          -0.1692860129951243,
          -0.1934286701964664,
          -0.24171398459915058,
          -0.14514335579378218,
          -0.2658566418004927,
          -0.6521391570219662,
          -0.5314258710152557,
          -0.4107125850085453,
          -0.1934286701964664,
          -0.14514335579378218,
          -0.2175713273978085,
          -0.2899992990018348,
          -0.096858041391098,
          -0.24171398459915058,
          -0.4107125850085453,
          -0.5072832138139137,
          -0.5314258710152557,
          -0.43485524220988736,
          -0.2175713273978085,
          -0.31414195620317686,
          -0.024430069787071695,
          0.5067083886424545,
          0.5308510458437966,
          0.5067083886424545,
          0.5308510458437966,
          0.6032790174478229,
          0.9654188754679544,
          1.4482720194947964,
          1.2309881046827176,
          1.110274818676007,
          1.4241293622934543,
          1.3034160762867437,
          1.134417475877349,
          1.110274818676007,
          1.37584404789077,
          1.134417475877349,
          1.37584404789077,
          1.351701390689428,
          1.2551307618840595,
          1.3275587334880858,
          1.1827027902800333,
          1.2309881046827176,
          1.0137041898706385,
          1.2068454474813755,
          1.2792734190854016,
          1.4724146766961386,
          1.5206999910988226,
          1.5448426483001647,
          1.4724146766961386,
          1.4241293622934543,
          1.617270619904191,
          1.617270619904191,
          1.37584404789077,
          1.2792734190854016,
          0.868848246662586,
          0.7722776178572176,
          1.2551307618840595,
          1.351701390689428,
          1.351701390689428,
          1.7138412487095596,
          1.6896985915082174,
          1.37584404789077,
          1.3034160762867437,
          1.134417475877349,
          0.9654188754679544,
          0.9895615326692965,
          0.8929909038639281,
          0.8447055894612439,
          1.3034160762867437,
          1.0378468470719806,
          0.8447055894612439,
          1.1585601330786912,
          0.868848246662586,
          0.6032790174478229,
          0.4825657314411124,
          0.5308510458437966,
          0.3135671310317177,
          0.627421674649165,
          0.4101377598370861,
          0.2894244738303756,
          0.2411391594276914,
          0.1687111878236651,
          0.0962832162196388,
          -0.0002874125857295939,
          0.0721405590182967,
          0.0721405590182967,
          0.19285384502500721,
          0.4584230742397703,
          0.19285384502500721,
          0.1204258734209809,
          0.1204258734209809,
          0.19285384502500721,
          0.144568530622323,
          1.134417475877349,
          1.1827027902800333,
          1.0619895042733227,
          0.8929909038639281,
          0.9895615326692965,
          0.9654188754679544,
          1.0861321614746648
         ],
         "yaxis": "y"
        }
       ],
       "layout": {
        "legend": {
         "title": {
          "text": "variable"
         },
         "tracegroupgap": 0
        },
        "margin": {
         "t": 60
        },
        "template": {
         "data": {
          "bar": [
           {
            "error_x": {
             "color": "#2a3f5f"
            },
            "error_y": {
             "color": "#2a3f5f"
            },
            "marker": {
             "line": {
              "color": "#E5ECF6",
              "width": 0.5
             },
             "pattern": {
              "fillmode": "overlay",
              "size": 10,
              "solidity": 0.2
             }
            },
            "type": "bar"
           }
          ],
          "barpolar": [
           {
            "marker": {
             "line": {
              "color": "#E5ECF6",
              "width": 0.5
             },
             "pattern": {
              "fillmode": "overlay",
              "size": 10,
              "solidity": 0.2
             }
            },
            "type": "barpolar"
           }
          ],
          "carpet": [
           {
            "aaxis": {
             "endlinecolor": "#2a3f5f",
             "gridcolor": "white",
             "linecolor": "white",
             "minorgridcolor": "white",
             "startlinecolor": "#2a3f5f"
            },
            "baxis": {
             "endlinecolor": "#2a3f5f",
             "gridcolor": "white",
             "linecolor": "white",
             "minorgridcolor": "white",
             "startlinecolor": "#2a3f5f"
            },
            "type": "carpet"
           }
          ],
          "choropleth": [
           {
            "colorbar": {
             "outlinewidth": 0,
             "ticks": ""
            },
            "type": "choropleth"
           }
          ],
          "contour": [
           {
            "colorbar": {
             "outlinewidth": 0,
             "ticks": ""
            },
            "colorscale": [
             [
              0,
              "#0d0887"
             ],
             [
              0.1111111111111111,
              "#46039f"
             ],
             [
              0.2222222222222222,
              "#7201a8"
             ],
             [
              0.3333333333333333,
              "#9c179e"
             ],
             [
              0.4444444444444444,
              "#bd3786"
             ],
             [
              0.5555555555555556,
              "#d8576b"
             ],
             [
              0.6666666666666666,
              "#ed7953"
             ],
             [
              0.7777777777777778,
              "#fb9f3a"
             ],
             [
              0.8888888888888888,
              "#fdca26"
             ],
             [
              1,
              "#f0f921"
             ]
            ],
            "type": "contour"
           }
          ],
          "contourcarpet": [
           {
            "colorbar": {
             "outlinewidth": 0,
             "ticks": ""
            },
            "type": "contourcarpet"
           }
          ],
          "heatmap": [
           {
            "colorbar": {
             "outlinewidth": 0,
             "ticks": ""
            },
            "colorscale": [
             [
              0,
              "#0d0887"
             ],
             [
              0.1111111111111111,
              "#46039f"
             ],
             [
              0.2222222222222222,
              "#7201a8"
             ],
             [
              0.3333333333333333,
              "#9c179e"
             ],
             [
              0.4444444444444444,
              "#bd3786"
             ],
             [
              0.5555555555555556,
              "#d8576b"
             ],
             [
              0.6666666666666666,
              "#ed7953"
             ],
             [
              0.7777777777777778,
              "#fb9f3a"
             ],
             [
              0.8888888888888888,
              "#fdca26"
             ],
             [
              1,
              "#f0f921"
             ]
            ],
            "type": "heatmap"
           }
          ],
          "heatmapgl": [
           {
            "colorbar": {
             "outlinewidth": 0,
             "ticks": ""
            },
            "colorscale": [
             [
              0,
              "#0d0887"
             ],
             [
              0.1111111111111111,
              "#46039f"
             ],
             [
              0.2222222222222222,
              "#7201a8"
             ],
             [
              0.3333333333333333,
              "#9c179e"
             ],
             [
              0.4444444444444444,
              "#bd3786"
             ],
             [
              0.5555555555555556,
              "#d8576b"
             ],
             [
              0.6666666666666666,
              "#ed7953"
             ],
             [
              0.7777777777777778,
              "#fb9f3a"
             ],
             [
              0.8888888888888888,
              "#fdca26"
             ],
             [
              1,
              "#f0f921"
             ]
            ],
            "type": "heatmapgl"
           }
          ],
          "histogram": [
           {
            "marker": {
             "pattern": {
              "fillmode": "overlay",
              "size": 10,
              "solidity": 0.2
             }
            },
            "type": "histogram"
           }
          ],
          "histogram2d": [
           {
            "colorbar": {
             "outlinewidth": 0,
             "ticks": ""
            },
            "colorscale": [
             [
              0,
              "#0d0887"
             ],
             [
              0.1111111111111111,
              "#46039f"
             ],
             [
              0.2222222222222222,
              "#7201a8"
             ],
             [
              0.3333333333333333,
              "#9c179e"
             ],
             [
              0.4444444444444444,
              "#bd3786"
             ],
             [
              0.5555555555555556,
              "#d8576b"
             ],
             [
              0.6666666666666666,
              "#ed7953"
             ],
             [
              0.7777777777777778,
              "#fb9f3a"
             ],
             [
              0.8888888888888888,
              "#fdca26"
             ],
             [
              1,
              "#f0f921"
             ]
            ],
            "type": "histogram2d"
           }
          ],
          "histogram2dcontour": [
           {
            "colorbar": {
             "outlinewidth": 0,
             "ticks": ""
            },
            "colorscale": [
             [
              0,
              "#0d0887"
             ],
             [
              0.1111111111111111,
              "#46039f"
             ],
             [
              0.2222222222222222,
              "#7201a8"
             ],
             [
              0.3333333333333333,
              "#9c179e"
             ],
             [
              0.4444444444444444,
              "#bd3786"
             ],
             [
              0.5555555555555556,
              "#d8576b"
             ],
             [
              0.6666666666666666,
              "#ed7953"
             ],
             [
              0.7777777777777778,
              "#fb9f3a"
             ],
             [
              0.8888888888888888,
              "#fdca26"
             ],
             [
              1,
              "#f0f921"
             ]
            ],
            "type": "histogram2dcontour"
           }
          ],
          "mesh3d": [
           {
            "colorbar": {
             "outlinewidth": 0,
             "ticks": ""
            },
            "type": "mesh3d"
           }
          ],
          "parcoords": [
           {
            "line": {
             "colorbar": {
              "outlinewidth": 0,
              "ticks": ""
             }
            },
            "type": "parcoords"
           }
          ],
          "pie": [
           {
            "automargin": true,
            "type": "pie"
           }
          ],
          "scatter": [
           {
            "fillpattern": {
             "fillmode": "overlay",
             "size": 10,
             "solidity": 0.2
            },
            "type": "scatter"
           }
          ],
          "scatter3d": [
           {
            "line": {
             "colorbar": {
              "outlinewidth": 0,
              "ticks": ""
             }
            },
            "marker": {
             "colorbar": {
              "outlinewidth": 0,
              "ticks": ""
             }
            },
            "type": "scatter3d"
           }
          ],
          "scattercarpet": [
           {
            "marker": {
             "colorbar": {
              "outlinewidth": 0,
              "ticks": ""
             }
            },
            "type": "scattercarpet"
           }
          ],
          "scattergeo": [
           {
            "marker": {
             "colorbar": {
              "outlinewidth": 0,
              "ticks": ""
             }
            },
            "type": "scattergeo"
           }
          ],
          "scattergl": [
           {
            "marker": {
             "colorbar": {
              "outlinewidth": 0,
              "ticks": ""
             }
            },
            "type": "scattergl"
           }
          ],
          "scattermapbox": [
           {
            "marker": {
             "colorbar": {
              "outlinewidth": 0,
              "ticks": ""
             }
            },
            "type": "scattermapbox"
           }
          ],
          "scatterpolar": [
           {
            "marker": {
             "colorbar": {
              "outlinewidth": 0,
              "ticks": ""
             }
            },
            "type": "scatterpolar"
           }
          ],
          "scatterpolargl": [
           {
            "marker": {
             "colorbar": {
              "outlinewidth": 0,
              "ticks": ""
             }
            },
            "type": "scatterpolargl"
           }
          ],
          "scatterternary": [
           {
            "marker": {
             "colorbar": {
              "outlinewidth": 0,
              "ticks": ""
             }
            },
            "type": "scatterternary"
           }
          ],
          "surface": [
           {
            "colorbar": {
             "outlinewidth": 0,
             "ticks": ""
            },
            "colorscale": [
             [
              0,
              "#0d0887"
             ],
             [
              0.1111111111111111,
              "#46039f"
             ],
             [
              0.2222222222222222,
              "#7201a8"
             ],
             [
              0.3333333333333333,
              "#9c179e"
             ],
             [
              0.4444444444444444,
              "#bd3786"
             ],
             [
              0.5555555555555556,
              "#d8576b"
             ],
             [
              0.6666666666666666,
              "#ed7953"
             ],
             [
              0.7777777777777778,
              "#fb9f3a"
             ],
             [
              0.8888888888888888,
              "#fdca26"
             ],
             [
              1,
              "#f0f921"
             ]
            ],
            "type": "surface"
           }
          ],
          "table": [
           {
            "cells": {
             "fill": {
              "color": "#EBF0F8"
             },
             "line": {
              "color": "white"
             }
            },
            "header": {
             "fill": {
              "color": "#C8D4E3"
             },
             "line": {
              "color": "white"
             }
            },
            "type": "table"
           }
          ]
         },
         "layout": {
          "annotationdefaults": {
           "arrowcolor": "#2a3f5f",
           "arrowhead": 0,
           "arrowwidth": 1
          },
          "autotypenumbers": "strict",
          "coloraxis": {
           "colorbar": {
            "outlinewidth": 0,
            "ticks": ""
           }
          },
          "colorscale": {
           "diverging": [
            [
             0,
             "#8e0152"
            ],
            [
             0.1,
             "#c51b7d"
            ],
            [
             0.2,
             "#de77ae"
            ],
            [
             0.3,
             "#f1b6da"
            ],
            [
             0.4,
             "#fde0ef"
            ],
            [
             0.5,
             "#f7f7f7"
            ],
            [
             0.6,
             "#e6f5d0"
            ],
            [
             0.7,
             "#b8e186"
            ],
            [
             0.8,
             "#7fbc41"
            ],
            [
             0.9,
             "#4d9221"
            ],
            [
             1,
             "#276419"
            ]
           ],
           "sequential": [
            [
             0,
             "#0d0887"
            ],
            [
             0.1111111111111111,
             "#46039f"
            ],
            [
             0.2222222222222222,
             "#7201a8"
            ],
            [
             0.3333333333333333,
             "#9c179e"
            ],
            [
             0.4444444444444444,
             "#bd3786"
            ],
            [
             0.5555555555555556,
             "#d8576b"
            ],
            [
             0.6666666666666666,
             "#ed7953"
            ],
            [
             0.7777777777777778,
             "#fb9f3a"
            ],
            [
             0.8888888888888888,
             "#fdca26"
            ],
            [
             1,
             "#f0f921"
            ]
           ],
           "sequentialminus": [
            [
             0,
             "#0d0887"
            ],
            [
             0.1111111111111111,
             "#46039f"
            ],
            [
             0.2222222222222222,
             "#7201a8"
            ],
            [
             0.3333333333333333,
             "#9c179e"
            ],
            [
             0.4444444444444444,
             "#bd3786"
            ],
            [
             0.5555555555555556,
             "#d8576b"
            ],
            [
             0.6666666666666666,
             "#ed7953"
            ],
            [
             0.7777777777777778,
             "#fb9f3a"
            ],
            [
             0.8888888888888888,
             "#fdca26"
            ],
            [
             1,
             "#f0f921"
            ]
           ]
          },
          "colorway": [
           "#636efa",
           "#EF553B",
           "#00cc96",
           "#ab63fa",
           "#FFA15A",
           "#19d3f3",
           "#FF6692",
           "#B6E880",
           "#FF97FF",
           "#FECB52"
          ],
          "font": {
           "color": "#2a3f5f"
          },
          "geo": {
           "bgcolor": "white",
           "lakecolor": "white",
           "landcolor": "#E5ECF6",
           "showlakes": true,
           "showland": true,
           "subunitcolor": "white"
          },
          "hoverlabel": {
           "align": "left"
          },
          "hovermode": "closest",
          "mapbox": {
           "style": "light"
          },
          "paper_bgcolor": "white",
          "plot_bgcolor": "#E5ECF6",
          "polar": {
           "angularaxis": {
            "gridcolor": "white",
            "linecolor": "white",
            "ticks": ""
           },
           "bgcolor": "#E5ECF6",
           "radialaxis": {
            "gridcolor": "white",
            "linecolor": "white",
            "ticks": ""
           }
          },
          "scene": {
           "xaxis": {
            "backgroundcolor": "#E5ECF6",
            "gridcolor": "white",
            "gridwidth": 2,
            "linecolor": "white",
            "showbackground": true,
            "ticks": "",
            "zerolinecolor": "white"
           },
           "yaxis": {
            "backgroundcolor": "#E5ECF6",
            "gridcolor": "white",
            "gridwidth": 2,
            "linecolor": "white",
            "showbackground": true,
            "ticks": "",
            "zerolinecolor": "white"
           },
           "zaxis": {
            "backgroundcolor": "#E5ECF6",
            "gridcolor": "white",
            "gridwidth": 2,
            "linecolor": "white",
            "showbackground": true,
            "ticks": "",
            "zerolinecolor": "white"
           }
          },
          "shapedefaults": {
           "line": {
            "color": "#2a3f5f"
           }
          },
          "ternary": {
           "aaxis": {
            "gridcolor": "white",
            "linecolor": "white",
            "ticks": ""
           },
           "baxis": {
            "gridcolor": "white",
            "linecolor": "white",
            "ticks": ""
           },
           "bgcolor": "#E5ECF6",
           "caxis": {
            "gridcolor": "white",
            "linecolor": "white",
            "ticks": ""
           }
          },
          "title": {
           "x": 0.05
          },
          "xaxis": {
           "automargin": true,
           "gridcolor": "white",
           "linecolor": "white",
           "ticks": "",
           "title": {
            "standoff": 15
           },
           "zerolinecolor": "white",
           "zerolinewidth": 2
          },
          "yaxis": {
           "automargin": true,
           "gridcolor": "white",
           "linecolor": "white",
           "ticks": "",
           "title": {
            "standoff": 15
           },
           "zerolinecolor": "white",
           "zerolinewidth": 2
          }
         }
        },
        "xaxis": {
         "anchor": "y",
         "domain": [
          0,
          1
         ],
         "title": {
          "text": "일자"
         }
        },
        "yaxis": {
         "anchor": "x",
         "domain": [
          0,
          1
         ],
         "title": {
          "text": "value"
         }
        }
       }
      }
     },
     "metadata": {},
     "output_type": "display_data"
    }
   ],
   "source": [
    "temp = pd.DataFrame({\n",
    "    'predicted': predicted_train,\n",
    "    'ground_truth': train['t+1'],\n",
    "})\n",
    "px.line(\n",
    "    temp,\n",
    "    x=temp.index,\n",
    "    y=['predicted', 'ground_truth']\n",
    ")"
   ]
  },
  {
   "cell_type": "code",
   "execution_count": 110,
   "metadata": {},
   "outputs": [
    {
     "data": {
      "application/vnd.plotly.v1+json": {
       "config": {
        "plotlyServerURL": "https://plot.ly"
       },
       "data": [
        {
         "hovertemplate": "variable=predicted<br>일자=%{x}<br>value=%{y}<extra></extra>",
         "legendgroup": "predicted",
         "line": {
          "color": "#636efa",
          "dash": "solid"
         },
         "marker": {
          "symbol": "circle"
         },
         "mode": "lines",
         "name": "predicted",
         "orientation": "v",
         "showlegend": true,
         "type": "scatter",
         "x": [
          "2023-09-12T00:00:00",
          "2023-09-13T00:00:00",
          "2023-09-14T00:00:00",
          "2023-09-15T00:00:00",
          "2023-09-18T00:00:00",
          "2023-09-19T00:00:00",
          "2023-09-20T00:00:00",
          "2023-09-21T00:00:00",
          "2023-09-22T00:00:00",
          "2023-09-25T00:00:00",
          "2023-09-26T00:00:00",
          "2023-09-27T00:00:00",
          "2023-10-04T00:00:00",
          "2023-10-05T00:00:00",
          "2023-10-06T00:00:00",
          "2023-10-10T00:00:00",
          "2023-10-11T00:00:00",
          "2023-10-12T00:00:00",
          "2023-10-13T00:00:00",
          "2023-10-16T00:00:00",
          "2023-10-17T00:00:00",
          "2023-10-18T00:00:00",
          "2023-10-19T00:00:00",
          "2023-10-20T00:00:00",
          "2023-10-23T00:00:00",
          "2023-10-24T00:00:00",
          "2023-10-25T00:00:00",
          "2023-10-26T00:00:00",
          "2023-10-27T00:00:00",
          "2023-10-30T00:00:00",
          "2023-10-31T00:00:00",
          "2023-11-01T00:00:00",
          "2023-11-02T00:00:00",
          "2023-11-03T00:00:00",
          "2023-11-06T00:00:00",
          "2023-11-07T00:00:00",
          "2023-11-08T00:00:00",
          "2023-11-09T00:00:00",
          "2023-11-10T00:00:00",
          "2023-11-13T00:00:00",
          "2023-11-14T00:00:00",
          "2023-11-15T00:00:00",
          "2023-11-16T00:00:00",
          "2023-11-17T00:00:00",
          "2023-11-20T00:00:00",
          "2023-11-21T00:00:00",
          "2023-11-22T00:00:00",
          "2023-11-23T00:00:00",
          "2023-11-24T00:00:00",
          "2023-11-27T00:00:00",
          "2023-11-28T00:00:00",
          "2023-11-29T00:00:00",
          "2023-11-30T00:00:00",
          "2023-12-01T00:00:00",
          "2023-12-04T00:00:00",
          "2023-12-05T00:00:00",
          "2023-12-06T00:00:00",
          "2023-12-07T00:00:00",
          "2023-12-08T00:00:00",
          "2023-12-11T00:00:00",
          "2023-12-12T00:00:00",
          "2023-12-13T00:00:00",
          "2023-12-14T00:00:00",
          "2023-12-15T00:00:00",
          "2023-12-18T00:00:00",
          "2023-12-19T00:00:00",
          "2023-12-20T00:00:00",
          "2023-12-21T00:00:00",
          "2023-12-22T00:00:00",
          "2023-12-26T00:00:00",
          "2023-12-27T00:00:00",
          "2023-12-28T00:00:00"
         ],
         "xaxis": "x",
         "y": [
          71446.0693880878,
          71446.0693880878,
          71446.0693880878,
          71446.0693880878,
          71446.0693880878,
          71446.0693880878,
          71446.0693880878,
          71446.0693880878,
          71446.0693880878,
          71446.0693880878,
          71446.0693880878,
          71446.0693880878,
          71446.0693880878,
          71446.0693880878,
          71446.0693880878,
          71446.0693880878,
          71446.0693880878,
          71446.0693880878,
          71446.0693880878,
          71446.0693880878,
          71446.0693880878,
          71446.0693880878,
          71446.0693880878,
          71446.0693880878,
          71446.0693880878,
          71446.0693880878,
          71446.0693880878,
          71446.0693880878,
          71446.0693880878,
          71446.0693880878,
          71446.0693880878,
          71446.0693880878,
          71446.0693880878,
          71446.0693880878,
          71446.0693880878,
          71446.0693880878,
          71446.0693880878,
          71446.0693880878,
          71446.0693880878,
          71446.0693880878,
          71446.0693880878,
          71446.0693880878,
          71446.0693880878,
          71446.0693880878,
          71446.0693880878,
          71446.0693880878,
          71446.0693880878,
          71446.0693880878,
          71446.0693880878,
          71446.0693880878,
          71446.0693880878,
          71446.0693880878,
          71446.0693880878,
          71446.0693880878,
          71446.0693880878,
          71446.0693880878,
          71446.0693880878,
          71446.0693880878,
          71446.0693880878,
          71446.0693880878,
          71446.0693880878,
          71446.0693880878,
          71446.0693880878,
          71446.0693880878,
          71446.0693880878,
          71446.0693880878,
          71446.0693880878,
          71446.0693880878,
          71446.0693880878,
          71446.0693880878,
          71446.0693880878,
          71446.0693880878
         ],
         "yaxis": "y"
        },
        {
         "hovertemplate": "variable=ground_truth<br>일자=%{x}<br>value=%{y}<extra></extra>",
         "legendgroup": "ground_truth",
         "line": {
          "color": "#EF553B",
          "dash": "solid"
         },
         "marker": {
          "symbol": "circle"
         },
         "mode": "lines",
         "name": "ground_truth",
         "orientation": "v",
         "showlegend": true,
         "type": "scatter",
         "x": [
          "2023-09-12T00:00:00",
          "2023-09-13T00:00:00",
          "2023-09-14T00:00:00",
          "2023-09-15T00:00:00",
          "2023-09-18T00:00:00",
          "2023-09-19T00:00:00",
          "2023-09-20T00:00:00",
          "2023-09-21T00:00:00",
          "2023-09-22T00:00:00",
          "2023-09-25T00:00:00",
          "2023-09-26T00:00:00",
          "2023-09-27T00:00:00",
          "2023-10-04T00:00:00",
          "2023-10-05T00:00:00",
          "2023-10-06T00:00:00",
          "2023-10-10T00:00:00",
          "2023-10-11T00:00:00",
          "2023-10-12T00:00:00",
          "2023-10-13T00:00:00",
          "2023-10-16T00:00:00",
          "2023-10-17T00:00:00",
          "2023-10-18T00:00:00",
          "2023-10-19T00:00:00",
          "2023-10-20T00:00:00",
          "2023-10-23T00:00:00",
          "2023-10-24T00:00:00",
          "2023-10-25T00:00:00",
          "2023-10-26T00:00:00",
          "2023-10-27T00:00:00",
          "2023-10-30T00:00:00",
          "2023-10-31T00:00:00",
          "2023-11-01T00:00:00",
          "2023-11-02T00:00:00",
          "2023-11-03T00:00:00",
          "2023-11-06T00:00:00",
          "2023-11-07T00:00:00",
          "2023-11-08T00:00:00",
          "2023-11-09T00:00:00",
          "2023-11-10T00:00:00",
          "2023-11-13T00:00:00",
          "2023-11-14T00:00:00",
          "2023-11-15T00:00:00",
          "2023-11-16T00:00:00",
          "2023-11-17T00:00:00",
          "2023-11-20T00:00:00",
          "2023-11-21T00:00:00",
          "2023-11-22T00:00:00",
          "2023-11-23T00:00:00",
          "2023-11-24T00:00:00",
          "2023-11-27T00:00:00",
          "2023-11-28T00:00:00",
          "2023-11-29T00:00:00",
          "2023-11-30T00:00:00",
          "2023-12-01T00:00:00",
          "2023-12-04T00:00:00",
          "2023-12-05T00:00:00",
          "2023-12-06T00:00:00",
          "2023-12-07T00:00:00",
          "2023-12-08T00:00:00",
          "2023-12-11T00:00:00",
          "2023-12-12T00:00:00",
          "2023-12-13T00:00:00",
          "2023-12-14T00:00:00",
          "2023-12-15T00:00:00",
          "2023-12-18T00:00:00",
          "2023-12-19T00:00:00",
          "2023-12-20T00:00:00",
          "2023-12-21T00:00:00",
          "2023-12-22T00:00:00",
          "2023-12-26T00:00:00",
          "2023-12-27T00:00:00",
          "2023-12-28T00:00:00"
         ],
         "xaxis": "x",
         "y": [
          70328.49087702962,
          70749.7477340418,
          71592.26144806614,
          71908.20409082528,
          70012.54823427048,
          69591.29137725831,
          69380.66294875222,
          68643.46344898091,
          68538.14923472787,
          69170.03452024613,
          68327.52080622177,
          68116.89237771569,
          67169.06444943829,
          66326.55073541393,
          65589.35123564262,
          66010.6080926548,
          67906.26394920959,
          68643.46344898091,
          67695.63552070351,
          66958.43602093219,
          69170.03452024613,
          70328.49087702962,
          69275.34873449917,
          68538.14923472787,
          68116.89237771569,
          68222.20659196873,
          67695.63552070351,
          66326.55073541393,
          66958.43602093219,
          66958.43602093219,
          66537.17916392002,
          68327.52080622177,
          69485.97716300526,
          69380.66294875222,
          70749.7477340418,
          70749.7477340418,
          69696.60559151135,
          70117.86244852353,
          70328.49087702962,
          70223.17666277658,
          70644.43351978876,
          72118.83251933136,
          72750.71780484964,
          72434.7751620905,
          72645.4035905966,
          72750.71780484964,
          72750.71780484964,
          72329.46094783746,
          71592.26144806614,
          71171.00459105398,
          72645.4035905966,
          72645.4035905966,
          72750.71780484964,
          71908.20409082528,
          72540.08937634355,
          71065.69037680092,
          71592.26144806614,
          71381.63301956006,
          72540.08937634355,
          72961.34623335573,
          73487.91730462095,
          72750.71780484964,
          73066.66044760877,
          73277.28887611486,
          72856.03201910268,
          73382.6030903679,
          74857.00208991053,
          75067.63051841661,
          76015.45844669401,
          76752.65794646533,
          78227.05694600794,
          78753.62801727316
         ],
         "yaxis": "y"
        }
       ],
       "layout": {
        "legend": {
         "title": {
          "text": "variable"
         },
         "tracegroupgap": 0
        },
        "margin": {
         "t": 60
        },
        "template": {
         "data": {
          "bar": [
           {
            "error_x": {
             "color": "#2a3f5f"
            },
            "error_y": {
             "color": "#2a3f5f"
            },
            "marker": {
             "line": {
              "color": "#E5ECF6",
              "width": 0.5
             },
             "pattern": {
              "fillmode": "overlay",
              "size": 10,
              "solidity": 0.2
             }
            },
            "type": "bar"
           }
          ],
          "barpolar": [
           {
            "marker": {
             "line": {
              "color": "#E5ECF6",
              "width": 0.5
             },
             "pattern": {
              "fillmode": "overlay",
              "size": 10,
              "solidity": 0.2
             }
            },
            "type": "barpolar"
           }
          ],
          "carpet": [
           {
            "aaxis": {
             "endlinecolor": "#2a3f5f",
             "gridcolor": "white",
             "linecolor": "white",
             "minorgridcolor": "white",
             "startlinecolor": "#2a3f5f"
            },
            "baxis": {
             "endlinecolor": "#2a3f5f",
             "gridcolor": "white",
             "linecolor": "white",
             "minorgridcolor": "white",
             "startlinecolor": "#2a3f5f"
            },
            "type": "carpet"
           }
          ],
          "choropleth": [
           {
            "colorbar": {
             "outlinewidth": 0,
             "ticks": ""
            },
            "type": "choropleth"
           }
          ],
          "contour": [
           {
            "colorbar": {
             "outlinewidth": 0,
             "ticks": ""
            },
            "colorscale": [
             [
              0,
              "#0d0887"
             ],
             [
              0.1111111111111111,
              "#46039f"
             ],
             [
              0.2222222222222222,
              "#7201a8"
             ],
             [
              0.3333333333333333,
              "#9c179e"
             ],
             [
              0.4444444444444444,
              "#bd3786"
             ],
             [
              0.5555555555555556,
              "#d8576b"
             ],
             [
              0.6666666666666666,
              "#ed7953"
             ],
             [
              0.7777777777777778,
              "#fb9f3a"
             ],
             [
              0.8888888888888888,
              "#fdca26"
             ],
             [
              1,
              "#f0f921"
             ]
            ],
            "type": "contour"
           }
          ],
          "contourcarpet": [
           {
            "colorbar": {
             "outlinewidth": 0,
             "ticks": ""
            },
            "type": "contourcarpet"
           }
          ],
          "heatmap": [
           {
            "colorbar": {
             "outlinewidth": 0,
             "ticks": ""
            },
            "colorscale": [
             [
              0,
              "#0d0887"
             ],
             [
              0.1111111111111111,
              "#46039f"
             ],
             [
              0.2222222222222222,
              "#7201a8"
             ],
             [
              0.3333333333333333,
              "#9c179e"
             ],
             [
              0.4444444444444444,
              "#bd3786"
             ],
             [
              0.5555555555555556,
              "#d8576b"
             ],
             [
              0.6666666666666666,
              "#ed7953"
             ],
             [
              0.7777777777777778,
              "#fb9f3a"
             ],
             [
              0.8888888888888888,
              "#fdca26"
             ],
             [
              1,
              "#f0f921"
             ]
            ],
            "type": "heatmap"
           }
          ],
          "heatmapgl": [
           {
            "colorbar": {
             "outlinewidth": 0,
             "ticks": ""
            },
            "colorscale": [
             [
              0,
              "#0d0887"
             ],
             [
              0.1111111111111111,
              "#46039f"
             ],
             [
              0.2222222222222222,
              "#7201a8"
             ],
             [
              0.3333333333333333,
              "#9c179e"
             ],
             [
              0.4444444444444444,
              "#bd3786"
             ],
             [
              0.5555555555555556,
              "#d8576b"
             ],
             [
              0.6666666666666666,
              "#ed7953"
             ],
             [
              0.7777777777777778,
              "#fb9f3a"
             ],
             [
              0.8888888888888888,
              "#fdca26"
             ],
             [
              1,
              "#f0f921"
             ]
            ],
            "type": "heatmapgl"
           }
          ],
          "histogram": [
           {
            "marker": {
             "pattern": {
              "fillmode": "overlay",
              "size": 10,
              "solidity": 0.2
             }
            },
            "type": "histogram"
           }
          ],
          "histogram2d": [
           {
            "colorbar": {
             "outlinewidth": 0,
             "ticks": ""
            },
            "colorscale": [
             [
              0,
              "#0d0887"
             ],
             [
              0.1111111111111111,
              "#46039f"
             ],
             [
              0.2222222222222222,
              "#7201a8"
             ],
             [
              0.3333333333333333,
              "#9c179e"
             ],
             [
              0.4444444444444444,
              "#bd3786"
             ],
             [
              0.5555555555555556,
              "#d8576b"
             ],
             [
              0.6666666666666666,
              "#ed7953"
             ],
             [
              0.7777777777777778,
              "#fb9f3a"
             ],
             [
              0.8888888888888888,
              "#fdca26"
             ],
             [
              1,
              "#f0f921"
             ]
            ],
            "type": "histogram2d"
           }
          ],
          "histogram2dcontour": [
           {
            "colorbar": {
             "outlinewidth": 0,
             "ticks": ""
            },
            "colorscale": [
             [
              0,
              "#0d0887"
             ],
             [
              0.1111111111111111,
              "#46039f"
             ],
             [
              0.2222222222222222,
              "#7201a8"
             ],
             [
              0.3333333333333333,
              "#9c179e"
             ],
             [
              0.4444444444444444,
              "#bd3786"
             ],
             [
              0.5555555555555556,
              "#d8576b"
             ],
             [
              0.6666666666666666,
              "#ed7953"
             ],
             [
              0.7777777777777778,
              "#fb9f3a"
             ],
             [
              0.8888888888888888,
              "#fdca26"
             ],
             [
              1,
              "#f0f921"
             ]
            ],
            "type": "histogram2dcontour"
           }
          ],
          "mesh3d": [
           {
            "colorbar": {
             "outlinewidth": 0,
             "ticks": ""
            },
            "type": "mesh3d"
           }
          ],
          "parcoords": [
           {
            "line": {
             "colorbar": {
              "outlinewidth": 0,
              "ticks": ""
             }
            },
            "type": "parcoords"
           }
          ],
          "pie": [
           {
            "automargin": true,
            "type": "pie"
           }
          ],
          "scatter": [
           {
            "fillpattern": {
             "fillmode": "overlay",
             "size": 10,
             "solidity": 0.2
            },
            "type": "scatter"
           }
          ],
          "scatter3d": [
           {
            "line": {
             "colorbar": {
              "outlinewidth": 0,
              "ticks": ""
             }
            },
            "marker": {
             "colorbar": {
              "outlinewidth": 0,
              "ticks": ""
             }
            },
            "type": "scatter3d"
           }
          ],
          "scattercarpet": [
           {
            "marker": {
             "colorbar": {
              "outlinewidth": 0,
              "ticks": ""
             }
            },
            "type": "scattercarpet"
           }
          ],
          "scattergeo": [
           {
            "marker": {
             "colorbar": {
              "outlinewidth": 0,
              "ticks": ""
             }
            },
            "type": "scattergeo"
           }
          ],
          "scattergl": [
           {
            "marker": {
             "colorbar": {
              "outlinewidth": 0,
              "ticks": ""
             }
            },
            "type": "scattergl"
           }
          ],
          "scattermapbox": [
           {
            "marker": {
             "colorbar": {
              "outlinewidth": 0,
              "ticks": ""
             }
            },
            "type": "scattermapbox"
           }
          ],
          "scatterpolar": [
           {
            "marker": {
             "colorbar": {
              "outlinewidth": 0,
              "ticks": ""
             }
            },
            "type": "scatterpolar"
           }
          ],
          "scatterpolargl": [
           {
            "marker": {
             "colorbar": {
              "outlinewidth": 0,
              "ticks": ""
             }
            },
            "type": "scatterpolargl"
           }
          ],
          "scatterternary": [
           {
            "marker": {
             "colorbar": {
              "outlinewidth": 0,
              "ticks": ""
             }
            },
            "type": "scatterternary"
           }
          ],
          "surface": [
           {
            "colorbar": {
             "outlinewidth": 0,
             "ticks": ""
            },
            "colorscale": [
             [
              0,
              "#0d0887"
             ],
             [
              0.1111111111111111,
              "#46039f"
             ],
             [
              0.2222222222222222,
              "#7201a8"
             ],
             [
              0.3333333333333333,
              "#9c179e"
             ],
             [
              0.4444444444444444,
              "#bd3786"
             ],
             [
              0.5555555555555556,
              "#d8576b"
             ],
             [
              0.6666666666666666,
              "#ed7953"
             ],
             [
              0.7777777777777778,
              "#fb9f3a"
             ],
             [
              0.8888888888888888,
              "#fdca26"
             ],
             [
              1,
              "#f0f921"
             ]
            ],
            "type": "surface"
           }
          ],
          "table": [
           {
            "cells": {
             "fill": {
              "color": "#EBF0F8"
             },
             "line": {
              "color": "white"
             }
            },
            "header": {
             "fill": {
              "color": "#C8D4E3"
             },
             "line": {
              "color": "white"
             }
            },
            "type": "table"
           }
          ]
         },
         "layout": {
          "annotationdefaults": {
           "arrowcolor": "#2a3f5f",
           "arrowhead": 0,
           "arrowwidth": 1
          },
          "autotypenumbers": "strict",
          "coloraxis": {
           "colorbar": {
            "outlinewidth": 0,
            "ticks": ""
           }
          },
          "colorscale": {
           "diverging": [
            [
             0,
             "#8e0152"
            ],
            [
             0.1,
             "#c51b7d"
            ],
            [
             0.2,
             "#de77ae"
            ],
            [
             0.3,
             "#f1b6da"
            ],
            [
             0.4,
             "#fde0ef"
            ],
            [
             0.5,
             "#f7f7f7"
            ],
            [
             0.6,
             "#e6f5d0"
            ],
            [
             0.7,
             "#b8e186"
            ],
            [
             0.8,
             "#7fbc41"
            ],
            [
             0.9,
             "#4d9221"
            ],
            [
             1,
             "#276419"
            ]
           ],
           "sequential": [
            [
             0,
             "#0d0887"
            ],
            [
             0.1111111111111111,
             "#46039f"
            ],
            [
             0.2222222222222222,
             "#7201a8"
            ],
            [
             0.3333333333333333,
             "#9c179e"
            ],
            [
             0.4444444444444444,
             "#bd3786"
            ],
            [
             0.5555555555555556,
             "#d8576b"
            ],
            [
             0.6666666666666666,
             "#ed7953"
            ],
            [
             0.7777777777777778,
             "#fb9f3a"
            ],
            [
             0.8888888888888888,
             "#fdca26"
            ],
            [
             1,
             "#f0f921"
            ]
           ],
           "sequentialminus": [
            [
             0,
             "#0d0887"
            ],
            [
             0.1111111111111111,
             "#46039f"
            ],
            [
             0.2222222222222222,
             "#7201a8"
            ],
            [
             0.3333333333333333,
             "#9c179e"
            ],
            [
             0.4444444444444444,
             "#bd3786"
            ],
            [
             0.5555555555555556,
             "#d8576b"
            ],
            [
             0.6666666666666666,
             "#ed7953"
            ],
            [
             0.7777777777777778,
             "#fb9f3a"
            ],
            [
             0.8888888888888888,
             "#fdca26"
            ],
            [
             1,
             "#f0f921"
            ]
           ]
          },
          "colorway": [
           "#636efa",
           "#EF553B",
           "#00cc96",
           "#ab63fa",
           "#FFA15A",
           "#19d3f3",
           "#FF6692",
           "#B6E880",
           "#FF97FF",
           "#FECB52"
          ],
          "font": {
           "color": "#2a3f5f"
          },
          "geo": {
           "bgcolor": "white",
           "lakecolor": "white",
           "landcolor": "#E5ECF6",
           "showlakes": true,
           "showland": true,
           "subunitcolor": "white"
          },
          "hoverlabel": {
           "align": "left"
          },
          "hovermode": "closest",
          "mapbox": {
           "style": "light"
          },
          "paper_bgcolor": "white",
          "plot_bgcolor": "#E5ECF6",
          "polar": {
           "angularaxis": {
            "gridcolor": "white",
            "linecolor": "white",
            "ticks": ""
           },
           "bgcolor": "#E5ECF6",
           "radialaxis": {
            "gridcolor": "white",
            "linecolor": "white",
            "ticks": ""
           }
          },
          "scene": {
           "xaxis": {
            "backgroundcolor": "#E5ECF6",
            "gridcolor": "white",
            "gridwidth": 2,
            "linecolor": "white",
            "showbackground": true,
            "ticks": "",
            "zerolinecolor": "white"
           },
           "yaxis": {
            "backgroundcolor": "#E5ECF6",
            "gridcolor": "white",
            "gridwidth": 2,
            "linecolor": "white",
            "showbackground": true,
            "ticks": "",
            "zerolinecolor": "white"
           },
           "zaxis": {
            "backgroundcolor": "#E5ECF6",
            "gridcolor": "white",
            "gridwidth": 2,
            "linecolor": "white",
            "showbackground": true,
            "ticks": "",
            "zerolinecolor": "white"
           }
          },
          "shapedefaults": {
           "line": {
            "color": "#2a3f5f"
           }
          },
          "ternary": {
           "aaxis": {
            "gridcolor": "white",
            "linecolor": "white",
            "ticks": ""
           },
           "baxis": {
            "gridcolor": "white",
            "linecolor": "white",
            "ticks": ""
           },
           "bgcolor": "#E5ECF6",
           "caxis": {
            "gridcolor": "white",
            "linecolor": "white",
            "ticks": ""
           }
          },
          "title": {
           "x": 0.05
          },
          "xaxis": {
           "automargin": true,
           "gridcolor": "white",
           "linecolor": "white",
           "ticks": "",
           "title": {
            "standoff": 15
           },
           "zerolinecolor": "white",
           "zerolinewidth": 2
          },
          "yaxis": {
           "automargin": true,
           "gridcolor": "white",
           "linecolor": "white",
           "ticks": "",
           "title": {
            "standoff": 15
           },
           "zerolinecolor": "white",
           "zerolinewidth": 2
          }
         }
        },
        "xaxis": {
         "anchor": "y",
         "domain": [
          0,
          1
         ],
         "title": {
          "text": "일자"
         }
        },
        "yaxis": {
         "anchor": "x",
         "domain": [
          0,
          1
         ],
         "title": {
          "text": "value"
         }
        }
       }
      }
     },
     "metadata": {},
     "output_type": "display_data"
    }
   ],
   "source": [
    "temp = pd.DataFrame({\n",
    "    'predicted': predicted_test,\n",
    "    'ground_truth': test['t+1'],\n",
    "})\n",
    "px.line(\n",
    "    temp,\n",
    "    x=temp.index,\n",
    "    y=['predicted', 'ground_truth']\n",
    ")"
   ]
  },
  {
   "cell_type": "markdown",
   "metadata": {},
   "source": [
    "## Mixture of Experts (MoE)\n",
    "\n",
    "<img src=\"https://cdn.prod.website-files.com/5d7b77b063a9066d83e1209c/61a4414da1649f856e553d74_jiy3kw7cLPoe3-DClXGWwEZo4FNQuf3NzqSpelWXN0di_Ydnyz9QnHqGiFAd87pc-WELMSXGKKdw1wqeA5pjSioytSVNXCmU6wdaV3nFUYZjkKKs_deV_XyUjLOfU8K9o5RWu_n4.png\" width=\"600\" height=\"300\"/>\n",
    "\n",
    "여러 전문화된 하위 모델(전문가)를 조합하여 복잡하고 다양한 패턴을 학습하도록 하는 방법. <br>\n",
    "기존 단일 모델이 모든 것을 잘 하도록 학습하는 방식에서 모델 별로 잘 하는 분야를 두고 전문화된 모델을 학습. <br>\n",
    "이러한 모델을 조합하여 최종적인 모델을 구축. <br>\n",
    "입력 데이터에 따라 각 모델(전문가)의 중요도를 산출하는 gating network를 통해 비중 설정 <br>\n",
    "\n",
    "<br>\n",
    "\n",
    "최근 자연어 처리에서 각광받는 GPT도 해당 로직을 탑재한 것으로 추정됨"
   ]
  },
  {
   "cell_type": "markdown",
   "metadata": {},
   "source": [
    "## Bagging\n",
    "\n",
    "<img src=\"https://cdn.prod.website-files.com/5d7b77b063a9066d83e1209c/61a4414d28946a3ac3e69ed9_q-FrlRMLk-5nSxZ_3ONlFpu5hQ61PsuAxkusTD1vEX5NqkdH2Ie0u_75rIySTZKXVI4VBxM-AIw3APQvRboG3kv-3l3cA5c5qyMwwTMe2OLXzoAgA051Dqbx7XVfdJaDyNwrSLUf.png\" width=\"600\" height=\"300\"/>\n",
    "\n",
    "<br>\n",
    "\n",
    "Boostrap AGGregatING의 약자로 부트스트랩을 통한 방법 <br>\n",
    "전체 집합에서 일부 데이터를 선택하여 subset을 만든 후(복원추출) 개별 모델을 학습 <br>\n",
    "-> subset을 여러 개 만들어 동시에 학습할 수 있기에 병렬화 가능\n",
    "최종 예측은 평균 등의 방법으로 산출 <br>\n",
    "이 때 사용되는 모델은 **모두 동일한 모델**이어야 함\n",
    "\n",
    "<br>\n",
    "\n",
    "<font style=\"font-size:20px\"> 대표 알고리즘 </font> <p>\n",
    "- Random Forest\n",
    "\n",
    "<br>\n",
    "\n",
    "<font style=\"font-size:20px\"> 사용 방법 </font> <p>\n",
    "\n",
    "> ```python\n",
    "> from sklearn.ensemble import BaggingRegressor\n",
    "> \n",
    "> bagging_regressor = BaggingRegressor(\n",
    ">   estimator=model,\n",
    "> )\n",
    "> \n",
    "> bagging_regressor.fit(X, y)    # train\n",
    "> bagging_regressor.predict(X)   # predict\n",
    "> ```\n",
    "\n",
    "<br>\n",
    "\n",
    "주요 파라미터\n",
    "- estimator: base model\n",
    "- n_estimators: base learner의 수\n",
    "- random_state: 난수 고정을 위한 seed"
   ]
  },
  {
   "cell_type": "code",
   "execution_count": null,
   "metadata": {},
   "outputs": [],
   "source": [
    "bagging_classifier = BaggingClassifier(\n",
    "    estimator=DecisionTreeClassifier(random_state=0, max_depth=5, min_samples_split=10),\n",
    ").fit(train.drop(columns=['cut']), train['cut'])"
   ]
  },
  {
   "cell_type": "code",
   "execution_count": null,
   "metadata": {},
   "outputs": [],
   "source": [
    "print(f'train_acc: {(bagging_classifier.predict(train.drop(columns=['cut'])) == train.cut).mean()}')\n",
    "print(f'test_acc: {(bagging_classifier.predict(test.drop(columns=['cut'])) == test.cut).mean()}')"
   ]
  },
  {
   "cell_type": "code",
   "execution_count": 152,
   "metadata": {},
   "outputs": [
    {
     "name": "stderr",
     "output_type": "stream",
     "text": [
      "c:\\ProgramData\\anaconda3\\Lib\\site-packages\\sklearn\\linear_model\\_logistic.py:469: ConvergenceWarning:\n",
      "\n",
      "lbfgs failed to converge (status=1):\n",
      "STOP: TOTAL NO. of ITERATIONS REACHED LIMIT.\n",
      "\n",
      "Increase the number of iterations (max_iter) or scale the data as shown in:\n",
      "    https://scikit-learn.org/stable/modules/preprocessing.html\n",
      "Please also refer to the documentation for alternative solver options:\n",
      "    https://scikit-learn.org/stable/modules/linear_model.html#logistic-regression\n",
      "\n",
      "c:\\ProgramData\\anaconda3\\Lib\\site-packages\\sklearn\\linear_model\\_logistic.py:469: ConvergenceWarning:\n",
      "\n",
      "lbfgs failed to converge (status=1):\n",
      "STOP: TOTAL NO. of ITERATIONS REACHED LIMIT.\n",
      "\n",
      "Increase the number of iterations (max_iter) or scale the data as shown in:\n",
      "    https://scikit-learn.org/stable/modules/preprocessing.html\n",
      "Please also refer to the documentation for alternative solver options:\n",
      "    https://scikit-learn.org/stable/modules/linear_model.html#logistic-regression\n",
      "\n",
      "c:\\ProgramData\\anaconda3\\Lib\\site-packages\\sklearn\\linear_model\\_logistic.py:469: ConvergenceWarning:\n",
      "\n",
      "lbfgs failed to converge (status=1):\n",
      "STOP: TOTAL NO. of ITERATIONS REACHED LIMIT.\n",
      "\n",
      "Increase the number of iterations (max_iter) or scale the data as shown in:\n",
      "    https://scikit-learn.org/stable/modules/preprocessing.html\n",
      "Please also refer to the documentation for alternative solver options:\n",
      "    https://scikit-learn.org/stable/modules/linear_model.html#logistic-regression\n",
      "\n",
      "c:\\ProgramData\\anaconda3\\Lib\\site-packages\\sklearn\\linear_model\\_logistic.py:469: ConvergenceWarning:\n",
      "\n",
      "lbfgs failed to converge (status=1):\n",
      "STOP: TOTAL NO. of ITERATIONS REACHED LIMIT.\n",
      "\n",
      "Increase the number of iterations (max_iter) or scale the data as shown in:\n",
      "    https://scikit-learn.org/stable/modules/preprocessing.html\n",
      "Please also refer to the documentation for alternative solver options:\n",
      "    https://scikit-learn.org/stable/modules/linear_model.html#logistic-regression\n",
      "\n",
      "c:\\ProgramData\\anaconda3\\Lib\\site-packages\\sklearn\\linear_model\\_logistic.py:469: ConvergenceWarning:\n",
      "\n",
      "lbfgs failed to converge (status=1):\n",
      "STOP: TOTAL NO. of ITERATIONS REACHED LIMIT.\n",
      "\n",
      "Increase the number of iterations (max_iter) or scale the data as shown in:\n",
      "    https://scikit-learn.org/stable/modules/preprocessing.html\n",
      "Please also refer to the documentation for alternative solver options:\n",
      "    https://scikit-learn.org/stable/modules/linear_model.html#logistic-regression\n",
      "\n",
      "c:\\ProgramData\\anaconda3\\Lib\\site-packages\\sklearn\\linear_model\\_logistic.py:469: ConvergenceWarning:\n",
      "\n",
      "lbfgs failed to converge (status=1):\n",
      "STOP: TOTAL NO. of ITERATIONS REACHED LIMIT.\n",
      "\n",
      "Increase the number of iterations (max_iter) or scale the data as shown in:\n",
      "    https://scikit-learn.org/stable/modules/preprocessing.html\n",
      "Please also refer to the documentation for alternative solver options:\n",
      "    https://scikit-learn.org/stable/modules/linear_model.html#logistic-regression\n",
      "\n"
     ]
    },
    {
     "data": {
      "text/plain": [
       "0.9988584474885844"
      ]
     },
     "execution_count": 152,
     "metadata": {},
     "output_type": "execute_result"
    }
   ],
   "source": [
    "# 서울시 대기질자료\n",
    "fine_dust = pd.read_csv('./data/서울시 대기질 자료 제공_2022.csv', encoding='cp949')\n",
    "\n",
    "# 1. 중복값 확인 후 제거, 결측: ffill\n",
    "fine_dust = fine_dust.ffill()\n",
    "fine_dust = fine_dust.sort_values(by=['일시']).reset_index(drop=True)\n",
    "\n",
    "# 2. 구분에서 평균은 제거\n",
    "fine_dust = fine_dust.query('구분 != \"평균\"')\n",
    "\n",
    "# 3. 미세먼지와 초미세먼지로 데이터 프레임 분할\n",
    "ultra_fine_dust = pd.DataFrame(fine_dust.drop(columns=['미세먼지(PM10)']))\n",
    "find_dust = pd.DataFrame(fine_dust.drop(columns=['초미세먼지(PM2.5)']))\n",
    "\n",
    "# 4. 칼럼 재정의\n",
    "#   df1: 강남구-미세먼지(pm10), 강동구-미세먼지(pm10), ...\n",
    "#   df2: 강남구-초미세먼지(pm2.5), 강동구-초미세먼지(pm2.5), ...\n",
    "fine_dust = fine_dust.pivot(index='일시', columns='구분', values='미세먼지(PM10)')\n",
    "ultra_fine_dust = ultra_fine_dust.pivot(index='일시', columns='구분', values='초미세먼지(PM2.5)')\n",
    "\n",
    "# 5. label 생성\n",
    "#   - row의 평균이 70보다 크면 1, 아니면 0\n",
    "fine_dust['fine_dust_label'] = np.where(fine_dust.mean(axis=1) > 70, 1, 0)\n",
    "ultra_fine_dust['ultra_fine_dust_label'] = np.where(ultra_fine_dust.mean(axis=1) > 70, 1, 0)\n",
    "\n",
    "# 6. 두 개의 데이터 프레임 결합\n",
    "total_dust = pd.concat([\n",
    "    fine_dust,\n",
    "    ultra_fine_dust,\n",
    "], axis=1)\n",
    "\n",
    "# 7. label 재생성 \n",
    "#   - pm10과 pm2.5가 모두 70보다 크면 2, 둘 중에 하나만 70보다 크면 1, 그렇지 않으면 0\n",
    "total_dust['label'] = total_dust.filter(regex='label').sum(axis=1)\n",
    "total_dust = total_dust.drop(columns=['fine_dust_label', 'ultra_fine_dust_label'])\n",
    "\n",
    "# 8. Stacking을 통해 label을 예측하는 모델 구성\n",
    "#   base_learners: svc, logistic regression, decision tree\n",
    "#   meta_learner: random forest\n",
    "train, test = train_test_split(\n",
    "    total_dust,\n",
    "    test_size=0.3,\n",
    "    random_state=0,\n",
    "    shuffle=False,\n",
    ")\n",
    "\n",
    "meta_learner = RandomForestClassifier(random_state=0)\n",
    "stacking_regressor = StackingClassifier([\n",
    "    ('svc', SVC()),\n",
    "    ('logistic_regression', LogisticRegression(random_state=0)),\n",
    "    ('decision_tree', DecisionTreeClassifier(random_state=0)),\n",
    "], final_estimator=meta_learner)\n",
    "stacking_regressor.fit(train.drop(columns=['label']), train.label)\n",
    "stacking_regressor.score(train.drop(columns=['label']), train.label)"
   ]
  }
 ],
 "metadata": {
  "kernelspec": {
   "display_name": "Python 3.9.12 ('base')",
   "language": "python",
   "name": "python3"
  },
  "language_info": {
   "codemirror_mode": {
    "name": "ipython",
    "version": 3
   },
   "file_extension": ".py",
   "mimetype": "text/x-python",
   "name": "python",
   "nbconvert_exporter": "python",
   "pygments_lexer": "ipython3",
   "version": "3.12.4"
  },
  "orig_nbformat": 4,
  "vscode": {
   "interpreter": {
    "hash": "e4af6128c7e0808fede432f38729c473c5b0d80882e83c469acdb54455c56396"
   }
  }
 },
 "nbformat": 4,
 "nbformat_minor": 2
}
