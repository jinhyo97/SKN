{
 "cells": [
  {
   "cell_type": "code",
   "execution_count": null,
   "metadata": {},
   "outputs": [],
   "source": [
    "!conda install -c anaconda swig"
   ]
  },
  {
   "cell_type": "code",
   "execution_count": null,
   "metadata": {},
   "outputs": [],
   "source": [
    "!pip install gym \"gym[box2d]\" matplotlib moviepy"
   ]
  },
  {
   "cell_type": "code",
   "execution_count": 2,
   "metadata": {},
   "outputs": [],
   "source": [
    "import base64, io\n",
    "import numpy as np\n",
    "from numpy.random import rand, seed\n",
    "import glob\n",
    "from collections import deque, namedtuple\n",
    "import matplotlib.pyplot as plt\n",
    "import gym\n",
    "import random\n",
    "import torch\n",
    "import torch.nn as nn\n",
    "import torch.nn.functional as F\n",
    "import torch.optim as optim\n",
    "import matplotlib.pyplot as plt\n",
    "\n",
    "from gym.wrappers.monitoring import video_recorder\n",
    "from IPython.display import HTML\n",
    "from IPython import display "
   ]
  },
  {
   "cell_type": "markdown",
   "metadata": {},
   "source": [
    "# Reinforcement Learning\n",
    "\n",
    "<img src=\"https://wikidocs.net/images/page/169311/00_Taxonomy_RL.png\" width=\"600\"/>\n",
    "\n",
    "에이전트가 행동을 선택하고 그 행동의 보상을 통해 최적의 의사 결정을 학습하는 방법. <br> 에이전트는 주어진 환경 내에서 최적의 누적 보상을 얻기 위해 일련의 행동을 취하게 됨. <br> 강화 학습의 목표는 이러한 일련의 행동을 통해 최종적으로 최대 누적 보상을 받는 것. <br>\n",
    "\n",
    "<br>\n",
    "\n",
    "<font style=\"font-size:18px\"> 종류 </font><br>\n",
    "\n",
    "Model-Based Algorithm:\n",
    "- environment의 다음 state와 reward가 어떨지에 대한 agent의 예상을 알 수 있음 <br>\n",
    "- state와 action을 받아 다음 상태와 보상 예측\n",
    "\n",
    "Model-Free Algorithm\n",
    "- nvironment의 다음 state와 reward가 어떨지에 대한 agent의 예상을 모름 <br>\n",
    "- action을 통해 reward의 합이 기댓값을 최대로 하는 policy function을 찾음 <br>\n",
    "- 환경 파악을 위해서 exploration 진행"
   ]
  },
  {
   "cell_type": "markdown",
   "metadata": {},
   "source": [
    "## Markov Decision Process"
   ]
  },
  {
   "cell_type": "markdown",
   "metadata": {},
   "source": [
    "### Markov Property\n",
    "\n",
    "미래의 상태가 현재 상태와 행동에만 의존하며, 과거의 모든 이력에는 의존하지 않음. <br>\n",
    "마코프 특성에 따르면 현재 상태와 행동만으로 미래 상태와 보상을 예측 가능. <br>\n",
    "\n",
    "$\\mathbb{P}(s_{t+1}|s_{t}, a_{t}) = \\mathbb{P}(s_{t+1}|s_{t}, a_{t}, ..., s_{0}, a_{0})$ <br>\n",
    "$\\mathbb{P}(r_{t}|s_{t}, a_{t}) = \\mathbb{P}(r_{t}|s_{t}, a_{t}, ..., s_{0}, a_{0})$"
   ]
  },
  {
   "cell_type": "markdown",
   "metadata": {},
   "source": [
    "#### Credit Rating\n",
    "\n",
    "![SP Transition matrix 2021.png](data:image/png;base64,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)"
   ]
  },
  {
   "cell_type": "code",
   "execution_count": 4,
   "metadata": {},
   "outputs": [
    {
     "name": "stdout",
     "output_type": "stream",
     "text": [
      "[[0.353 0.387 0.192 0.046 0.011 0.006 0.001 0.005]\n",
      " [0.021 0.42  0.395 0.124 0.021 0.01  0.002 0.008]\n",
      " [0.003 0.083 0.541 0.276 0.055 0.023 0.003 0.016]\n",
      " [0.001 0.019 0.182 0.515 0.156 0.07  0.01  0.047]\n",
      " [0.    0.005 0.044 0.203 0.311 0.228 0.031 0.178]\n",
      " [0.    0.002 0.012 0.054 0.154 0.302 0.045 0.432]\n",
      " [0.    0.001 0.005 0.018 0.052 0.115 0.018 0.79 ]\n",
      " [0.    0.    0.    0.    0.    0.    0.    1.   ]]\n",
      "[[0.001 0.011 0.044 0.053 0.024 0.018 0.003 0.847]\n",
      " [0.001 0.01  0.04  0.047 0.022 0.016 0.002 0.862]\n",
      " [0.001 0.009 0.035 0.042 0.019 0.014 0.002 0.878]\n",
      " [0.    0.007 0.028 0.033 0.015 0.011 0.002 0.905]\n",
      " [0.    0.004 0.016 0.019 0.009 0.007 0.001 0.945]\n",
      " [0.    0.002 0.008 0.009 0.004 0.003 0.    0.973]\n",
      " [0.    0.001 0.003 0.003 0.002 0.001 0.    0.99 ]\n",
      " [0.    0.    0.    0.    0.    0.    0.    1.   ]]\n",
      "Default time: 8.28688524590164\n"
     ]
    }
   ],
   "source": [
    "# seed random number generator\n",
    "seed(12345)\n",
    "\n",
    "np.set_printoptions(precision=3, suppress=True)\n",
    "\n",
    "P0 = np.array(\n",
    "    [\n",
    "        [87.06, 9.06, 0.53, 0.05, 0.11, 0.03, 0.05, 0.0, 3.11],\n",
    "        [0.48, 87.23, 7.77, 0.47, 0.05, 0.06, 0.02, 0.02, 3.89],\n",
    "        [0.03, 1.6, 88.58, 5.0, 0.26, 0.11, 0.02, 0.05, 4.35],\n",
    "        [0, 0.09, 3.25, 86.49, 3.56, 0.43, 0.1, 0.16, 5.92],\n",
    "        [0.01, 0.03, 0.11, 4.55, 77.82, 6.8, 0.55, 0.63, 9.51],\n",
    "        [0.0, 0.02, 0.07, 0.15, 4.54, 74.6, 4.96, 3.34, 12.33],\n",
    "        [0.0, 0.0, 0.1, 0.17, 0.55, 12.47, 43.11, 28.3, 15.31],\n",
    "        [0.0, 0.0, 0.0, 0.0, 0.0, 0.0, 0.0, 100.0, 0.0],\n",
    "    ]\n",
    ")\n",
    "\n",
    "# Normalize transition matrix, ignoring NR type\n",
    "P = P0[:, 0 : P0.shape[1] - 1]  # noQA E203\n",
    "P = (P.T / np.sum(P, axis=1)).T\n",
    "\n",
    "# Verify where the ratings process converges given these estimates\n",
    "P10 = np.linalg.matrix_power(P, 10)\n",
    "print(P10)\n",
    "\n",
    "P40 = np.linalg.matrix_power(P, 200)\n",
    "print(P40)\n",
    "\n",
    "# SAMPLING FROM THE MARKOV CHAIN\n",
    "# Simulate how long it takes a firm to default starting with some current rating\n",
    "RATINGS = dict(\n",
    "    [\n",
    "        (\"AAA\", 0),\n",
    "        (\"AA\", 1),\n",
    "        (\"A\", 2),\n",
    "        (\"BBB\", 3),\n",
    "        (\"BB\", 4),\n",
    "        (\"B\", 5),\n",
    "        (\"CCC\", 6),\n",
    "        (\"D\", 7),\n",
    "    ]\n",
    ")\n",
    "CURR_RATING = \"CCC\"\n",
    "\n",
    "N_HISTORIES = 1000\n",
    "LEN_HIST = 100\n",
    "histories = np.zeros((N_HISTORIES, LEN_HIST), np.int8)\n",
    "histories[:, 0] = RATINGS[CURR_RATING]\n",
    "randarray = rand(N_HISTORIES, LEN_HIST)\n",
    "\n",
    "default_time = np.zeros(N_HISTORIES)\n",
    "default_sum = 0\n",
    "\n",
    "for i in range(0, N_HISTORIES):\n",
    "    for j in range(1, LEN_HIST):\n",
    "        for r in RATINGS:\n",
    "            if randarray[i, j] < np.cumsum(P[histories[i, j - 1], :])[RATINGS[r]]:\n",
    "                histories[i, j] = RATINGS[r]\n",
    "                break\n",
    "        if histories[i, j] == RATINGS[\"D\"]:\n",
    "            break\n",
    "    # Compute the average time to default\n",
    "    if np.max(histories[i, :]) == RATINGS[\"D\"]:\n",
    "        where_default = np.where((histories[i, :] == RATINGS[\"D\"]))\n",
    "        default_time[i] = where_default[0][0]\n",
    "        default_sum += 1\n",
    "    else:\n",
    "        default_time[i] = 0.0\n",
    "\n",
    "print(\"Default time:\", np.sum(default_time) / default_sum)"
   ]
  },
  {
   "cell_type": "markdown",
   "metadata": {},
   "source": [
    "#### Gambler"
   ]
  },
  {
   "cell_type": "code",
   "execution_count": 5,
   "metadata": {},
   "outputs": [
    {
     "name": "stdout",
     "output_type": "stream",
     "text": [
      "Transition matrix:\n",
      " [[1.  0.  0.  0.  0.  0.  0.  0.  0.  0.  0. ]\n",
      " [0.5 0.  0.5 0.  0.  0.  0.  0.  0.  0.  0. ]\n",
      " [0.  0.5 0.  0.5 0.  0.  0.  0.  0.  0.  0. ]\n",
      " [0.  0.  0.5 0.  0.5 0.  0.  0.  0.  0.  0. ]\n",
      " [0.  0.  0.  0.5 0.  0.5 0.  0.  0.  0.  0. ]\n",
      " [0.  0.  0.  0.  0.5 0.  0.5 0.  0.  0.  0. ]\n",
      " [0.  0.  0.  0.  0.  0.5 0.  0.5 0.  0.  0. ]\n",
      " [0.  0.  0.  0.  0.  0.  0.5 0.  0.5 0.  0. ]\n",
      " [0.  0.  0.  0.  0.  0.  0.  0.5 0.  0.5 0. ]\n",
      " [0.  0.  0.  0.  0.  0.  0.  0.  0.5 0.  0.5]\n",
      " [0.  0.  0.  0.  0.  0.  0.  0.  0.  0.  1. ]]\n"
     ]
    }
   ],
   "source": [
    "# seed random number generator\n",
    "seed(12345)\n",
    "\n",
    "TARGET_PURSE = 10\n",
    "INIT_PURSE = 1\n",
    "\n",
    "N_STATES = TARGET_PURSE + 1\n",
    "\n",
    "S = np.zeros((N_STATES, 1))\n",
    "P = np.zeros((N_STATES, N_STATES))\n",
    "\n",
    "P[0, 0] = 1.0\n",
    "P[N_STATES - 1, N_STATES - 1] = 1.0\n",
    "\n",
    "for ii in range(1, N_STATES - 1):\n",
    "    for jj in range(0, N_STATES):\n",
    "        if jj == ii - 1 or jj == ii + 1:\n",
    "            P[ii, jj] = 0.5\n",
    "\n",
    "print(\"Transition matrix:\\n\", P)"
   ]
  },
  {
   "cell_type": "code",
   "execution_count": 6,
   "metadata": {},
   "outputs": [
    {
     "name": "stdout",
     "output_type": "stream",
     "text": [
      "Probability of getting the target: 0.09766 \n",
      "Probability of losing all the money: 0.89954\n",
      "Expected time until reaching a stopping result: 8.682410750100281 \n",
      "Total number of simulations: 99720\n"
     ]
    }
   ],
   "source": [
    "N_HISTORIES = 100000  # number of histories or simulations\n",
    "LEN_HIST = 100  # Length of each simulation\n",
    "histories = np.zeros((N_HISTORIES, LEN_HIST))\n",
    "histories[:, 0] = INIT_PURSE * np.ones(N_HISTORIES)\n",
    "randarray = rand(N_HISTORIES, LEN_HIST)\n",
    "\n",
    "for i in range(0, N_HISTORIES):\n",
    "    for j in range(1, LEN_HIST):\n",
    "        histories[i, j] = (\n",
    "            histories[i, j - 1] + (randarray[i, j] >= 0.5) - (randarray[i, j] < 0.5)\n",
    "        )\n",
    "        if histories[i, j] == TARGET_PURSE or histories[i, j] < 1:\n",
    "            histories[i, j + 1 : LEN_HIST + 1] = histories[i, j]  # noQA E203\n",
    "            break\n",
    "\n",
    "target_num = np.sum(np.max(histories, axis=1) == TARGET_PURSE)\n",
    "\n",
    "end_gamble = np.zeros(N_HISTORIES)\n",
    "end_gamble_sum = 0\n",
    "\n",
    "for i in range(0, N_HISTORIES):\n",
    "    if np.max(histories[i, :]) == TARGET_PURSE:\n",
    "        where_gamble_ends_T = np.where((histories[i, :] == TARGET_PURSE))\n",
    "        end_gamble[i] = where_gamble_ends_T[0][0]\n",
    "        end_gamble_sum += 1\n",
    "    elif np.min(histories[i, :]) < 1:\n",
    "        where_gamble_ends_0 = np.where((histories[i, :] < 1))\n",
    "        end_gamble[i] = where_gamble_ends_0[0][0]\n",
    "        end_gamble_sum += 1\n",
    "    else:\n",
    "        end_gamble[i] = 0.0\n",
    "\n",
    "broke_num = np.sum(np.min(histories, axis=1) < 1)\n",
    "\n",
    "print(\n",
    "    \"Probability of getting the target:\",\n",
    "    target_num / N_HISTORIES,\n",
    "    \"\\nProbability of losing all the money:\",\n",
    "    broke_num / N_HISTORIES,\n",
    ")\n",
    "print(\n",
    "    \"Expected time until reaching a stopping result:\",\n",
    "    np.sum(end_gamble) / end_gamble_sum,\n",
    "    \"\\nTotal number of simulations:\",\n",
    "    end_gamble_sum,\n",
    ")"
   ]
  },
  {
   "cell_type": "markdown",
   "metadata": {},
   "source": [
    "### Markov Decision Process\n",
    "\n",
    "<img src=\"https://www.altexsoft.com/static/blog-post/2023/11/345fadfa-549a-462a-b757-9ab258e747f3.webp\" width=\"400\"/>\n",
    "\n",
    "에이전트가 특정 환경에서 최적의 행동을 선택할 수 있도록 돕는 기법. <br>\n",
    "각 상태에서 최선의 행동을 선택해 누적 보상을 최대화 할 수 있는 최적의 정책을 찾는 것. <br>\n",
    "\n",
    "<br>\n",
    "\n",
    "<font style=\"font-size:18px\"> 용어 </font><br>\n",
    "$s_t$: 시간 $t$에서의 환경 상태 <br>\n",
    "$a_t$: 에이전트가 취할 수 있는 행동 <br>\n",
    "$r_t$: 행동에 대한 즉각적인 보상 <br>\n",
    "$s_{t+1}$: 다음 시간의 상태 <br>\n",
    "$\\gamma$: discount <br>\n",
    "\n",
    "<br>\n",
    "\n",
    "<img src=\"https://img1.daumcdn.net/thumb/R1280x0/?scode=mtistory2&fname=https%3A%2F%2Ft1.daumcdn.net%2Fcfile%2Ftistory%2F9971CC3A5AC84F370E\" width=\"400\"/>\n"
   ]
  },
  {
   "cell_type": "markdown",
   "metadata": {},
   "source": [
    "## Q-Learning\n",
    "\n",
    "<img src=\"https://wikidocs.net/images/page/169311/20_Q_Table.png\" width=\"500\"/>\n",
    "\n",
    "에이전트가 환경과 상호작용하며 최적의 행동을 학습하도록 하는 기법. <br>\n",
    "**Q-value** 이라는 state-action 쌍에 대한 가치를 업데이트. <br>\n",
    "-> 에이전트가 각 상태에서 최적의 행동을 선택할 수 있도록 도움\n"
   ]
  },
  {
   "cell_type": "markdown",
   "metadata": {},
   "source": [
    "### Exploration vs. Exploitation\n",
    "\n",
    "최적 전략을 찾기 위한 방법\n",
    "\n",
    "exploitation (활용): 지금까지 얻은 정보나 경험을 바탕으로 가장 높은 보상을 기대할 수 있는 행동을 선택하는 과정. <br>\n",
    "이미 잘 알고 있는 영역에서 최상의 보상을 얻기 위해 익숙한 선택을 반복 <br>\n",
    "\n",
    "exploration (탐색): 새로운 행동이나 선택지를 시도하여 더 많은 정보를 수집하는 과정. <br> \n",
    "이를 통해 현재는 모르는 더 나은 결과를 찾을 가능성을 확보. <br>"
   ]
  },
  {
   "cell_type": "markdown",
   "metadata": {},
   "source": [
    "#### Cliff Walk"
   ]
  },
  {
   "cell_type": "code",
   "execution_count": 7,
   "metadata": {},
   "outputs": [
    {
     "name": "stdout",
     "output_type": "stream",
     "text": [
      "[[ 0 12  1  0]\n",
      " [ 1 13  2  0]\n",
      " [ 2 14  3  1]\n",
      " [ 3 15  4  2]\n",
      " [ 4 16  5  3]\n",
      " [ 5 17  6  4]\n",
      " [ 6 18  7  5]\n",
      " [ 7 19  8  6]\n",
      " [ 8 20  9  7]\n",
      " [ 9 21 10  8]\n",
      " [10 22 11  9]\n",
      " [11 23 11 10]\n",
      " [ 0 24 13 12]\n",
      " [ 1 25 14 12]\n",
      " [ 2 26 15 13]\n",
      " [ 3 27 16 14]\n",
      " [ 4 28 17 15]\n",
      " [ 5 29 18 16]\n",
      " [ 6 30 19 17]\n",
      " [ 7 31 20 18]\n",
      " [ 8 32 21 19]\n",
      " [ 9 33 22 20]\n",
      " [10 34 23 21]\n",
      " [11 35 23 22]\n",
      " [12 36 25 24]\n",
      " [13 37 26 24]\n",
      " [14 38 27 25]\n",
      " [15 39 28 26]\n",
      " [16 40 29 27]\n",
      " [17 41 30 28]\n",
      " [18 42 31 29]\n",
      " [19 43 32 30]\n",
      " [20 44 33 31]\n",
      " [21 45 34 32]\n",
      " [22 46 35 33]\n",
      " [23 47 35 34]\n",
      " [24 36 37 36]\n",
      " [36 36 36 36]\n",
      " [36 36 36 36]\n",
      " [36 36 36 36]\n",
      " [36 36 36 36]\n",
      " [36 36 36 36]\n",
      " [36 36 36 36]\n",
      " [36 36 36 36]\n",
      " [36 36 36 36]\n",
      " [36 36 36 36]\n",
      " [36 36 36 36]\n",
      " [ 0  0  0  0]]\n"
     ]
    }
   ],
   "source": [
    "# The cliff walk: Comparing SARSA and Q-learning\n",
    "GRID_WIDTH = 12\n",
    "NROWS = 4\n",
    "N = NROWS * GRID_WIDTH\n",
    "A = 4\n",
    "\n",
    "# Build an array that indicates, for each state, the destination cells\n",
    "# from moving up, down, right, or left\n",
    "destinations = np.zeros((N, A), dtype=np.int8)\n",
    "for ss in range(0, (NROWS - 1) * GRID_WIDTH + 1):\n",
    "    # determine row of position ss in the grid\n",
    "    row_ss = np.floor(ss / GRID_WIDTH) + 1\n",
    "    destinations[ss, 0] = (ss - GRID_WIDTH) * (ss - GRID_WIDTH >= 0) + ss * (\n",
    "        ss - GRID_WIDTH < 0\n",
    "    )\n",
    "    destinations[ss, 1] = (ss + GRID_WIDTH) * (ss + GRID_WIDTH <= N - 1) + ss * (\n",
    "        ss + GRID_WIDTH > N - 1\n",
    "    )\n",
    "    destinations[ss, 2] = (ss + 1) * (ss < row_ss * GRID_WIDTH - 1) + ss * (\n",
    "        ss >= row_ss * GRID_WIDTH - 1\n",
    "    )\n",
    "    destinations[ss, 3] = (ss - 1) * (ss > (row_ss - 1) * GRID_WIDTH) + ss * (\n",
    "        ss <= (row_ss - 1) * GRID_WIDTH\n",
    "    )\n",
    "# Destinations from falling in the cliff\n",
    "destinations[(NROWS - 1) * GRID_WIDTH + 1 : NROWS * GRID_WIDTH - 1, :] = (\n",
    "    NROWS - 1\n",
    ") * GRID_WIDTH\n",
    "\n",
    "print(destinations)"
   ]
  },
  {
   "cell_type": "code",
   "execution_count": 8,
   "metadata": {},
   "outputs": [],
   "source": [
    "def transition(state_init, action, dest, prdown, gridw, randnum):\n",
    "    row_ss = np.floor(state_init / gridw)\n",
    "    if randnum < prdown[int(row_ss)]:\n",
    "        state_end = dest[int(state_init), 1]\n",
    "    else:\n",
    "        state_end = dest[int(state_init), action]\n",
    "    return state_end\n",
    "\n",
    "\n",
    "def exploring_starts(nstates, randnum):\n",
    "    for ss in range(nstates):\n",
    "        if randnum < (ss + 1) / nstates:\n",
    "            break\n",
    "    return ss\n",
    "\n",
    "\n",
    "def e_greedy_policy(nactions, pol, eps, randnum1, randnum2, randnum3):\n",
    "    if randnum1 < eps:\n",
    "        for aa in range(nactions):\n",
    "            if randnum2 < (aa + 1) / A:\n",
    "                break\n",
    "    else:\n",
    "        for aa in range(nactions):\n",
    "            if randnum3 < np.cumsum(pol)[aa]:\n",
    "                break\n",
    "    return aa"
   ]
  },
  {
   "cell_type": "code",
   "execution_count": 9,
   "metadata": {},
   "outputs": [
    {
     "name": "stdout",
     "output_type": "stream",
     "text": [
      "[2. 2. 2. 2. 1. 2. 1. 2. 1. 2. 2. 1.]\n",
      "[2. 2. 2. 2. 1. 2. 1. 2. 2. 1. 1. 1.]\n",
      "[2. 2. 2. 2. 2. 2. 2. 2. 2. 2. 2. 1.]\n",
      "[0. 2. 0. 3. 0. 2. 0. 2. 2. 2. 1. 0.]\n"
     ]
    }
   ],
   "source": [
    "# Q-Learning method in cliff walk\n",
    "\n",
    "seed(1234)\n",
    "\n",
    "# Assume an initial policy that is random\n",
    "policy = np.ones((N, A)) / A\n",
    "qvalue = np.zeros((N, A))\n",
    "\n",
    "# Array to fill with optimal action at each cell\n",
    "policy0 = np.zeros((N))\n",
    "\n",
    "EPISODES = 2000\n",
    "EPISODE_TMAX = 500\n",
    "EPSILON = 0.1\n",
    "ALPHA = 0.1\n",
    "\n",
    "for episode in range(EPISODES):\n",
    "    # Choose initial state\n",
    "    ss0 = exploring_starts(N, rand())\n",
    "    # Use policy to generate history\n",
    "    for tt in range(EPISODE_TMAX):\n",
    "        qvalue_old = qvalue.copy()\n",
    "        if ss0 > N - 2:\n",
    "            break\n",
    "        # e-greedy policy to choose a\n",
    "        aa = e_greedy_policy(A, policy[int(ss0), :], EPSILON, rand(), rand(), rand())\n",
    "        # Determine S' given (S,A)\n",
    "        ss1 = destinations[int(ss0), aa]\n",
    "        if ss1 < N - 1:\n",
    "            qvalue[ss0, aa] = qvalue_old[ss0, aa] + ALPHA * (\n",
    "                -1 * (ss1 <= (NROWS - 1) * GRID_WIDTH)\n",
    "                - 100 * (ss1 > (NROWS - 1) * GRID_WIDTH)\n",
    "                + np.max(qvalue_old[ss1, :])\n",
    "                - qvalue_old[ss0, aa]\n",
    "            )\n",
    "        else:\n",
    "            qvalue[ss0, aa] = qvalue_old[ss0, aa] + ALPHA * (-1 - qvalue_old[ss0, aa])\n",
    "        # Improve policy\n",
    "        policy0[ss0] = np.argmax(qvalue[ss0, :])\n",
    "        policy[ss0, :] = np.zeros((A))\n",
    "        policy[ss0, int(policy0[ss0])] = 1.0\n",
    "        ss0 = ss1\n",
    "\n",
    "# Optimal policy at each cell\n",
    "for rr in range(NROWS):\n",
    "    print(policy0[rr * GRID_WIDTH : rr * GRID_WIDTH + GRID_WIDTH])"
   ]
  },
  {
   "cell_type": "code",
   "execution_count": 10,
   "metadata": {},
   "outputs": [
    {
     "data": {
      "text/plain": [
       "array([[0.  , 0.  , 1.  , 0.  ],\n",
       "       [0.  , 0.  , 1.  , 0.  ],\n",
       "       [0.  , 0.  , 1.  , 0.  ],\n",
       "       [0.  , 0.  , 1.  , 0.  ],\n",
       "       [0.  , 1.  , 0.  , 0.  ],\n",
       "       [0.  , 0.  , 1.  , 0.  ],\n",
       "       [0.  , 1.  , 0.  , 0.  ],\n",
       "       [0.  , 0.  , 1.  , 0.  ],\n",
       "       [0.  , 1.  , 0.  , 0.  ],\n",
       "       [0.  , 0.  , 1.  , 0.  ],\n",
       "       [0.  , 0.  , 1.  , 0.  ],\n",
       "       [0.  , 1.  , 0.  , 0.  ],\n",
       "       [0.  , 0.  , 1.  , 0.  ],\n",
       "       [0.  , 0.  , 1.  , 0.  ],\n",
       "       [0.  , 0.  , 1.  , 0.  ],\n",
       "       [0.  , 0.  , 1.  , 0.  ],\n",
       "       [0.  , 1.  , 0.  , 0.  ],\n",
       "       [0.  , 0.  , 1.  , 0.  ],\n",
       "       [0.  , 1.  , 0.  , 0.  ],\n",
       "       [0.  , 0.  , 1.  , 0.  ],\n",
       "       [0.  , 0.  , 1.  , 0.  ],\n",
       "       [0.  , 1.  , 0.  , 0.  ],\n",
       "       [0.  , 1.  , 0.  , 0.  ],\n",
       "       [0.  , 1.  , 0.  , 0.  ],\n",
       "       [0.  , 0.  , 1.  , 0.  ],\n",
       "       [0.  , 0.  , 1.  , 0.  ],\n",
       "       [0.  , 0.  , 1.  , 0.  ],\n",
       "       [0.  , 0.  , 1.  , 0.  ],\n",
       "       [0.  , 0.  , 1.  , 0.  ],\n",
       "       [0.  , 0.  , 1.  , 0.  ],\n",
       "       [0.  , 0.  , 1.  , 0.  ],\n",
       "       [0.  , 0.  , 1.  , 0.  ],\n",
       "       [0.  , 0.  , 1.  , 0.  ],\n",
       "       [0.  , 0.  , 1.  , 0.  ],\n",
       "       [0.  , 0.  , 1.  , 0.  ],\n",
       "       [0.  , 1.  , 0.  , 0.  ],\n",
       "       [1.  , 0.  , 0.  , 0.  ],\n",
       "       [0.  , 0.  , 1.  , 0.  ],\n",
       "       [1.  , 0.  , 0.  , 0.  ],\n",
       "       [0.  , 0.  , 0.  , 1.  ],\n",
       "       [1.  , 0.  , 0.  , 0.  ],\n",
       "       [0.  , 0.  , 1.  , 0.  ],\n",
       "       [1.  , 0.  , 0.  , 0.  ],\n",
       "       [0.  , 0.  , 1.  , 0.  ],\n",
       "       [0.  , 0.  , 1.  , 0.  ],\n",
       "       [0.  , 0.  , 1.  , 0.  ],\n",
       "       [0.  , 1.  , 0.  , 0.  ],\n",
       "       [0.25, 0.25, 0.25, 0.25]])"
      ]
     },
     "execution_count": 10,
     "metadata": {},
     "output_type": "execute_result"
    }
   ],
   "source": [
    "policy"
   ]
  },
  {
   "cell_type": "markdown",
   "metadata": {},
   "source": [
    "## Policy Gradient Learning\n",
    "\n",
    "<img src=\"https://wikidocs.net/images/page/172862/Fig_4_6.png\" width=\"700\"/>\n",
    "\n",
    "Policy Gradient 방식으로 Q-learning의 한계점을 보완한 학습 방법. <br>\n",
    "다르게 신경망을 이용하여 Softmax Regression 방식으로 action들의 확률을 구하고 분포를 얻어 학습하는 방식."
   ]
  },
  {
   "cell_type": "code",
   "execution_count": 3,
   "metadata": {},
   "outputs": [
    {
     "name": "stdout",
     "output_type": "stream",
     "text": [
      "State shape:  (8,)\n",
      "Number of actions:  4\n"
     ]
    }
   ],
   "source": [
    "env = gym.make('LunarLander-v2')\n",
    "print('State shape: ', env.observation_space.shape)\n",
    "print('Number of actions: ', env.action_space.n)"
   ]
  },
  {
   "cell_type": "code",
   "execution_count": 4,
   "metadata": {},
   "outputs": [],
   "source": [
    "class ReplayBuffer:\n",
    "    \"\"\"Fixed-size buffer to store experience tuples.\"\"\"\n",
    "\n",
    "    def __init__(self, action_size, buffer_size, batch_size, seed):\n",
    "        \"\"\"Initialize a ReplayBuffer object.\n",
    "\n",
    "        Params\n",
    "        ======\n",
    "            action_size (int): dimension of each action\n",
    "            buffer_size (int): maximum size of buffer\n",
    "            batch_size (int): size of each training batch\n",
    "            seed (int): random seed\n",
    "        \"\"\"\n",
    "        self.action_size = action_size\n",
    "        self.memory = deque(maxlen=buffer_size)  \n",
    "        self.batch_size = batch_size\n",
    "        self.experience = namedtuple(\"Experience\", field_names=[\"state\", \"action\", \"reward\", \"next_state\", \"done\"])\n",
    "        self.seed = random.seed(seed)\n",
    "    \n",
    "    def add(self, state, action, reward, next_state, done):\n",
    "        \"\"\"Add a new experience to memory.\"\"\"\n",
    "        e = self.experience(state, action, reward, next_state, done)\n",
    "        self.memory.append(e)\n",
    "    \n",
    "    def sample(self):\n",
    "        \"\"\"Randomly sample a batch of experiences from memory.\"\"\"\n",
    "        experiences = random.sample(self.memory, k=self.batch_size)\n",
    "\n",
    "        states = torch.from_numpy(np.vstack([e.state for e in experiences if e is not None])).float().to(device)\n",
    "        actions = torch.from_numpy(np.vstack([e.action for e in experiences if e is not None])).long().to(device)\n",
    "        rewards = torch.from_numpy(np.vstack([e.reward for e in experiences if e is not None])).float().to(device)\n",
    "        next_states = torch.from_numpy(np.vstack([e.next_state for e in experiences if e is not None])).float().to(device)\n",
    "        dones = torch.from_numpy(np.vstack([e.done for e in experiences if e is not None]).astype(np.uint8)).float().to(device)\n",
    "  \n",
    "        return (states, actions, rewards, next_states, dones)\n",
    "\n",
    "    def __len__(self):\n",
    "        \"\"\"Return the current size of internal memory.\"\"\"\n",
    "        return len(self.memory)"
   ]
  },
  {
   "cell_type": "code",
   "execution_count": 5,
   "metadata": {},
   "outputs": [],
   "source": [
    "class QNetwork(nn.Module):\n",
    "    \"\"\"Actor (Policy) Model.\"\"\"\n",
    "\n",
    "    def __init__(self, state_size, action_size, seed):\n",
    "        \"\"\"Initialize parameters and build model.\n",
    "        Params\n",
    "        ======\n",
    "            state_size (int): Dimension of each state\n",
    "            action_size (int): Dimension of each action\n",
    "            seed (int): Random seed\n",
    "        \"\"\"\n",
    "        super(QNetwork, self).__init__()\n",
    "        self.seed = torch.manual_seed(seed)\n",
    "        self.fc1 = nn.Linear(state_size, 64)\n",
    "        self.fc2 = nn.Linear(64, 64)\n",
    "        self.fc3 = nn.Linear(64, action_size)\n",
    "        \n",
    "    def forward(self, state):\n",
    "        \"\"\"Build a network that maps state -> action values.\"\"\"\n",
    "        x = self.fc1(state)\n",
    "        x = F.relu(x)\n",
    "        x = self.fc2(x)\n",
    "        x = F.relu(x)\n",
    "        return self.fc3(x)"
   ]
  },
  {
   "cell_type": "code",
   "execution_count": 6,
   "metadata": {},
   "outputs": [],
   "source": [
    "BUFFER_SIZE = int(1e5)  # replay buffer size\n",
    "BATCH_SIZE = 64         # minibatch size\n",
    "GAMMA = 0.99            # discount factor\n",
    "TAU = 1e-3              # for soft update of target parameters\n",
    "LR = 5e-4               # learning rate \n",
    "UPDATE_EVERY = 4        # how often to update the network\n",
    "device = 'cpu'"
   ]
  },
  {
   "cell_type": "code",
   "execution_count": 7,
   "metadata": {},
   "outputs": [],
   "source": [
    "class Agent():\n",
    "    \"\"\"Interacts with and learns from the environment.\"\"\"\n",
    "\n",
    "    def __init__(self, state_size, action_size, seed):\n",
    "        \"\"\"Initialize an Agent object.\n",
    "        \n",
    "        Params\n",
    "        ======\n",
    "            state_size (int): dimension of each state\n",
    "            action_size (int): dimension of each action\n",
    "            seed (int): random seed\n",
    "        \"\"\"\n",
    "        self.state_size = state_size\n",
    "        self.action_size = action_size\n",
    "        self.seed = random.seed(seed)\n",
    "\n",
    "        # Q-Network\n",
    "        self.qnetwork_local = QNetwork(state_size, action_size, seed).to(device)\n",
    "        self.qnetwork_target = QNetwork(state_size, action_size, seed).to(device)\n",
    "        self.optimizer = optim.Adam(self.qnetwork_local.parameters(), lr=LR)\n",
    "\n",
    "        # Replay memory\n",
    "        self.memory = ReplayBuffer(action_size, BUFFER_SIZE, BATCH_SIZE, seed)\n",
    "        # Initialize time step (for updating every UPDATE_EVERY steps)\n",
    "        self.t_step = 0\n",
    "    \n",
    "    def step(self, state, action, reward, next_state, done):\n",
    "        # Save experience in replay memory\n",
    "        self.memory.add(state, action, reward, next_state, done)\n",
    "        \n",
    "        # Learn every UPDATE_EVERY time steps.\n",
    "        self.t_step = (self.t_step + 1) % UPDATE_EVERY\n",
    "        if self.t_step == 0:\n",
    "            # If enough samples are available in memory, get random subset and learn\n",
    "            if len(self.memory) > BATCH_SIZE:\n",
    "                experiences = self.memory.sample()\n",
    "                self.learn(experiences, GAMMA)\n",
    "\n",
    "    def act(self, state, eps=0.):\n",
    "        \"\"\"Returns actions for given state as per current policy.\n",
    "        \n",
    "        Params\n",
    "        ======\n",
    "            state (array_like): current state\n",
    "            eps (float): epsilon, for epsilon-greedy action selection\n",
    "        \"\"\"\n",
    "        state = torch.from_numpy(state).float().unsqueeze(0).to(device)\n",
    "        self.qnetwork_local.eval()\n",
    "        with torch.no_grad():\n",
    "            action_values = self.qnetwork_local(state)\n",
    "        self.qnetwork_local.train()\n",
    "\n",
    "        # Epsilon-greedy action selection\n",
    "        if random.random() > eps:\n",
    "            return np.argmax(action_values.cpu().data.numpy())\n",
    "        else:\n",
    "            return random.choice(np.arange(self.action_size))\n",
    "\n",
    "    def learn(self, experiences, gamma):\n",
    "        \"\"\"Update value parameters using given batch of experience tuples.\n",
    "\n",
    "        Params\n",
    "        ======\n",
    "            experiences (Tuple[torch.Variable]): tuple of (s, a, r, s', done) tuples \n",
    "            gamma (float): discount factor\n",
    "        \"\"\"\n",
    "        # Obtain random minibatch of tuples from D\n",
    "        states, actions, rewards, next_states, dones = experiences\n",
    "\n",
    "        ## Compute and minimize the loss\n",
    "        ### Extract next maximum estimated value from target network\n",
    "        q_targets_next = self.qnetwork_target(next_states).detach().max(1)[0].unsqueeze(1)\n",
    "        ### Calculate target value from bellman equation\n",
    "        q_targets = rewards + gamma * q_targets_next * (1 - dones)\n",
    "        ### Calculate expected value from local network\n",
    "        q_expected = self.qnetwork_local(states).gather(1, actions)\n",
    "        \n",
    "        ### Loss calculation (we used Mean squared error)\n",
    "        loss = F.mse_loss(q_expected, q_targets)\n",
    "        self.optimizer.zero_grad()\n",
    "        loss.backward()\n",
    "        self.optimizer.step()\n",
    "\n",
    "        # ------------------- update target network ------------------- #\n",
    "        self.soft_update(self.qnetwork_local, self.qnetwork_target, TAU)                     \n",
    "\n",
    "    def soft_update(self, local_model, target_model, tau):\n",
    "        \"\"\"Soft update model parameters.\n",
    "        θ_target = τ*θ_local + (1 - τ)*θ_target\n",
    "\n",
    "        Params\n",
    "        ======\n",
    "            local_model (PyTorch model): weights will be copied from\n",
    "            target_model (PyTorch model): weights will be copied to\n",
    "            tau (float): interpolation parameter \n",
    "        \"\"\"\n",
    "        for target_param, local_param in zip(target_model.parameters(), local_model.parameters()):\n",
    "            target_param.data.copy_(tau*local_param.data + (1.0-tau)*target_param.data)"
   ]
  },
  {
   "cell_type": "code",
   "execution_count": 17,
   "metadata": {},
   "outputs": [
    {
     "name": "stderr",
     "output_type": "stream",
     "text": [
      "C:\\Users\\USER\\AppData\\Roaming\\Python\\Python310\\site-packages\\gym\\utils\\passive_env_checker.py:233: DeprecationWarning: `np.bool8` is a deprecated alias for `np.bool_`.  (Deprecated NumPy 1.24)\n",
      "  if not isinstance(terminated, (bool, np.bool8)):\n"
     ]
    },
    {
     "name": "stdout",
     "output_type": "stream",
     "text": [
      "Episode 100\tAverage Score: -174.88\n",
      "Episode 200\tAverage Score: -134.91\n",
      "Episode 300\tAverage Score: -61.114\n",
      "Episode 400\tAverage Score: -18.87\n",
      "Episode 500\tAverage Score: 95.377\n",
      "Episode 600\tAverage Score: 104.36\n",
      "Episode 700\tAverage Score: 109.25\n",
      "Episode 800\tAverage Score: 189.04\n",
      "Episode 821\tAverage Score: 200.08\n",
      "Environment solved in 721 episodes!\tAverage Score: 200.08\n"
     ]
    }
   ],
   "source": [
    "def dqn(n_episodes=2000, max_t=1000, eps_start=1.0, eps_end=0.01, eps_decay=0.995):\n",
    "    \"\"\"Deep Q-Learning.\n",
    "    \n",
    "    Params\n",
    "    ======\n",
    "        n_episodes (int): maximum number of training episodes\n",
    "        max_t (int): maximum number of timesteps per episode\n",
    "        eps_start (float): starting value of epsilon, for epsilon-greedy action selection\n",
    "        eps_end (float): minimum value of epsilon\n",
    "        eps_decay (float): multiplicative factor (per episode) for decreasing epsilon\n",
    "    \"\"\"\n",
    "    scores = []                        # list containing scores from each episode\n",
    "    scores_window = deque(maxlen=100)  # last 100 scores\n",
    "    eps = eps_start                    # initialize epsilon\n",
    "    for i_episode in range(1, n_episodes+1):\n",
    "        state = env.reset()\n",
    "        if isinstance(state, tuple):   # check if state is a tuple\n",
    "            state = state[0]           # extract first element if it is a tuple\n",
    "        score = 0\n",
    "        for t in range(max_t):\n",
    "            action = agent.act(state, eps)\n",
    "            # Unpack only the required variables (next_state, reward, done)\n",
    "            step_result = env.step(action)\n",
    "            if len(step_result) == 3:\n",
    "                next_state, reward, done = step_result\n",
    "            else:\n",
    "                next_state, reward, done, *_ = step_result\n",
    "            if isinstance(next_state, tuple):\n",
    "                next_state = next_state[0]  # extract first element if next_state is a tuple\n",
    "            agent.step(state, action, reward, next_state, done)\n",
    "            state = next_state\n",
    "            score += reward\n",
    "            if done:\n",
    "                break \n",
    "        scores_window.append(score)       # save most recent score\n",
    "        scores.append(score)              # save most recent score\n",
    "        eps = max(eps_end, eps_decay*eps) # decrease epsilon\n",
    "        print('\\rEpisode {}\\tAverage Score: {:.2f}'.format(i_episode, np.mean(scores_window)), end=\"\")\n",
    "        if i_episode % 100 == 0:\n",
    "            print('\\rEpisode {}\\tAverage Score: {:.2f}'.format(i_episode, np.mean(scores_window)))\n",
    "        if np.mean(scores_window) >= 200.0:\n",
    "            print('\\nEnvironment solved in {:d} episodes!\\tAverage Score: {:.2f}'.format(i_episode-100, np.mean(scores_window)))\n",
    "            torch.save(agent.qnetwork_local.state_dict(), 'checkpoint.pth')\n",
    "            break\n",
    "    return scores\n",
    "\n",
    "\n",
    "agent = Agent(state_size=8, action_size=4, seed=0)\n",
    "scores = dqn()"
   ]
  },
  {
   "cell_type": "code",
   "execution_count": 18,
   "metadata": {},
   "outputs": [
    {
     "data": {
      "image/png": "[encoded data removed]",
      "text/plain": [
       "<Figure size 640x480 with 1 Axes>"
      ]
     },
     "metadata": {},
     "output_type": "display_data"
    }
   ],
   "source": [
    "# plot the scores\n",
    "fig = plt.figure()\n",
    "ax = fig.add_subplot(111)\n",
    "plt.plot(np.arange(len(scores)), scores)\n",
    "plt.ylabel('Score')\n",
    "plt.xlabel('Episode #')\n",
    "plt.show()"
   ]
  },
  {
   "cell_type": "code",
   "execution_count": 30,
   "metadata": {},
   "outputs": [],
   "source": [
    "def show_video(env_name):\n",
    "    mp4list = glob.glob('video/*.mp4')\n",
    "    if len(mp4list) > 0:\n",
    "        mp4 = 'video/{}.mp4'.format(env_name)\n",
    "        video = io.open(mp4, 'r+b').read()\n",
    "        encoded = base64.b64encode(video)\n",
    "        display.display(HTML(data='''<video alt=\"test\" autoplay \n",
    "                loop controls style=\"height: 400px;\">\n",
    "                <source src=\"data:video/mp4;base64,{0}\" type=\"video/mp4\" />\n",
    "             </video>'''.format(encoded.decode('ascii'))))\n",
    "    else:\n",
    "        print(\"Could not find video\")\n",
    "        \n",
    "def show_video_of_model(agent, env_name):\n",
    "    env = gym.make(env_name, render_mode='rgb_array')\n",
    "    vid = video_recorder.VideoRecorder(env, path=\"video/{}.mp4\".format(env_name))\n",
    "    agent.qnetwork_local.load_state_dict(torch.load('checkpoint.pth'))\n",
    "    state, *_ = env.reset()\n",
    "    done = False\n",
    "    while not done:\n",
    "        frame = env.render()\n",
    "        vid.capture_frame()  # 프레임 캡처\n",
    "        \n",
    "        action = agent.act(state)\n",
    "        state, reward, done, *_ = env.step(action)\n",
    "\n",
    "    env.close()"
   ]
  },
  {
   "cell_type": "code",
   "execution_count": 35,
   "metadata": {},
   "outputs": [
    {
     "name": "stderr",
     "output_type": "stream",
     "text": [
      "C:\\Users\\USER\\AppData\\Local\\Temp\\ipykernel_48368\\546709118.py:17: FutureWarning: You are using `torch.load` with `weights_only=False` (the current default value), which uses the default pickle module implicitly. It is possible to construct malicious pickle data which will execute arbitrary code during unpickling (See https://github.com/pytorch/pytorch/blob/main/SECURITY.md#untrusted-models for more details). In a future release, the default value for `weights_only` will be flipped to `True`. This limits the functions that could be executed during unpickling. Arbitrary objects will no longer be allowed to be loaded via this mode unless they are explicitly allowlisted by the user via `torch.serialization.add_safe_globals`. We recommend you start setting `weights_only=True` for any use case where you don't have full control of the loaded file. Please open an issue on GitHub for any issues related to this experimental feature.\n",
      "  agent.qnetwork_local.load_state_dict(torch.load('checkpoint.pth'))\n"
     ]
    },
    {
     "name": "stdout",
     "output_type": "stream",
     "text": [
      "Moviepy - Building video video/LunarLander-v2.mp4.\n",
      "Moviepy - Writing video video/LunarLander-v2.mp4\n",
      "\n"
     ]
    },
    {
     "name": "stderr",
     "output_type": "stream",
     "text": [
      "                                                                "
     ]
    },
    {
     "name": "stdout",
     "output_type": "stream",
     "text": [
      "Moviepy - Done !\n",
      "Moviepy - video ready video/LunarLander-v2.mp4\n"
     ]
    },
    {
     "name": "stderr",
     "output_type": "stream",
     "text": [
      "\r"
     ]
    }
   ],
   "source": [
    "agent = Agent(state_size=8, action_size=4, seed=0)\n",
    "show_video_of_model(agent, 'LunarLander-v2')"
   ]
  },
  {
   "cell_type": "code",
   "execution_count": 36,
   "metadata": {},
   "outputs": [
    {
     "data": {
      "text/html": [
       "<video alt=\"test\" autoplay \n",
       "                loop controls style=\"height: 400px;\">\n",
       "                <source src=\"data:video/mp4;base64,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\" type=\"video/mp4\" />\n",
       "             </video>"
      ],
      "text/plain": [
       "<IPython.core.display.HTML object>"
      ]
     },
     "metadata": {},
     "output_type": "display_data"
    }
   ],
   "source": [
    "show_video('LunarLander-v2')"
   ]
  },
  {
   "cell_type": "markdown",
   "metadata": {},
   "source": [
    "## Proximal Policy Optimization\n",
    "\n",
    "<img src=\"https://www.researchgate.net/publication/366247043/figure/fig1/AS:11431281107244964@1670987438222/High-level-diagram-of-the-proximal-policy-optimization-algorithm.png\" width=\"700\"/>\n",
    "\n",
    "Policy Gradient의 문제점을 보완한 방법. <br>\n",
    "\n",
    "<br>\n",
    "\n",
    "<font style=\"font-size:18px\"> Policy Gradient의 단점 </font>\n",
    "- gradient 이용으로 경사가 급격한 경우 상반된 결과가 반복될 수 있어 불안정 학습 (learning rate가 클 때와 비슷한 효과)\n",
    "- 경사가 완만한 경우 학습 속도가 매우 느림 (learning rate가 작을 때와 비슷한 효과)\n",
    "- episode 단위로 결과가 반영되어, 한 step내에서 학습된 결과가 반영되지 않은 채 episode가 진행\n",
    "\n",
    "<br>\n",
    "\n",
    "<font style=\"font-size:18px\"> 제안 방법 </font>\n",
    "\n",
    "- 학습 데이터 재사용 <br>\n",
    "    - episode 단위로 반영하는 것이아닌 step 단위로 데이터 학습 <br>\n",
    "    -> agent가 보다 빠르게 정책 업데이트 가능\n",
    "- importance sampling\n",
    "    - 값을 보정하여 상하한선을 만듦 (기존 정책에 대한 새로운 정책의 비율) <br>\n",
    "    -> 업데이트가 너무 커지지 않도록 함\n",
    "- actor/critic 신경망\n",
    "    - actor: 정책 업데이트\n",
    "    - critic: 가치 함수 업데이트, actor의 보상을 최대화 할 수 있도록 방향 제시"
   ]
  }
 ],
 "metadata": {
  "kernelspec": {
   "display_name": "Python 3.10.14 ('nvidia')",
   "language": "python",
   "name": "python3"
  },
  "language_info": {
   "codemirror_mode": {
    "name": "ipython",
    "version": 3
   },
   "file_extension": ".py",
   "mimetype": "text/x-python",
   "name": "python",
   "nbconvert_exporter": "python",
   "pygments_lexer": "ipython3",
   "version": "3.10.14"
  },
  "orig_nbformat": 4,
  "vscode": {
   "interpreter": {
    "hash": "1b30f4482c361111eca58f3c09882dc861420fad921c1de91541c94e2158b8ec"
   }
  }
 },
 "nbformat": 4,
 "nbformat_minor": 2
}
