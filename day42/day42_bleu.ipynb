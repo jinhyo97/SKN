{
 "cells": [
  {
   "cell_type": "markdown",
   "metadata": {},
   "source": [
    "# BLEU\n",
    "\n",
    "paper: [BLEU: a Method for Automatic Evaluation of Machine Translation](https://aclanthology.org/P02-1040.pdf) <br>\n",
    "reference: [https://wikidocs.net/31695](BLEU) <br>"
   ]
  },
  {
   "cell_type": "markdown",
   "metadata": {},
   "source": [
    "## 사용 방법\n",
    "\n",
    "```python\n",
    "import nltk\n",
    "from nltk.translate.bleu_score import sentence_bleu\n",
    "\n",
    "# 참조 문장 (정답)\n",
    "reference1 = \"나는 사과를 좋아해\".split()\n",
    "reference2 = \"나는 사과를 매우 좋아해\".split()\n",
    "reference3 = \"사과는 나의 최애 과일이야\".split()\n",
    "\n",
    "# 후보 문장 (예측)\n",
    "candidate = \"나는 사과를 좋아합니다\".split()\n",
    "\n",
    "# BLEU 점수 계산\n",
    "references = [reference1, reference2, reference3]\n",
    "bleu_score = sentence_bleu(references, candidate)\n",
    "\n",
    "print(f\"BLEU score: {bleu_score:.4f}\")\n",
    "```"
   ]
  }
 ],
 "metadata": {
  "kernelspec": {
   "display_name": "Python 3.9.12 ('base')",
   "language": "python",
   "name": "python3"
  },
  "language_info": {
   "name": "python",
   "version": "3.9.12"
  },
  "orig_nbformat": 4,
  "vscode": {
   "interpreter": {
    "hash": "e4af6128c7e0808fede432f38729c473c5b0d80882e83c469acdb54455c56396"
   }
  }
 },
 "nbformat": 4,
 "nbformat_minor": 2
}
