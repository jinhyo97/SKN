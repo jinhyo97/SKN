{
 "cells": [
  {
   "cell_type": "markdown",
   "metadata": {},
   "source": [
    "# 1.\n",
    "유저로부터 값을 입력받아 두 값의 곱을 출력하는 코드를 작성하시오"
   ]
  },
  {
   "cell_type": "markdown",
   "metadata": {},
   "source": [
    "# 2.\n",
    "유저로부터 두 값을 입력받는다. 앞에는 숫자를 입력받으며 뒤에는 문자열을 입력받는다.  \n",
    "이 때, 입력은 한 줄로 ; 없이 받아야 하며, 입력한 두 값의 곱을 출력하는 코드를 작성하시오"
   ]
  },
  {
   "cell_type": "markdown",
   "metadata": {},
   "source": [
    "## 3.\n",
    "\n",
    "리스트 내에 중복 없이 값을 채우려고 한다.  \n",
    "사용자로부터 몇 개의 중복 없는 값을 입력받을 지를 받으며,  \n",
    "그 수만큼 값을 입력할 수 있도록 코드를 작성하라"
   ]
  },
  {
   "cell_type": "markdown",
   "metadata": {},
   "source": [
    "## 4.\n",
    "\n",
    "튜플 내 최댓값을 구현하는 코드를 작성하려고 한다.  \n",
    "max 함수를 사용하지 않고 구현하시오."
   ]
  },
  {
   "cell_type": "markdown",
   "metadata": {},
   "source": [
    "## 5.\n",
    "\n",
    "두 개의 딕셔너리를 구성하려고 한다.  \n",
    "각기 3개의 key-value값을 가지며 이를 사용자로부터 입력받는다.  \n",
    "이후 두 딕셔너리를 하나로 합하여 전체 딕셔너리를 출력하는 코드를 작성하시오"
   ]
  },
  {
   "cell_type": "markdown",
   "metadata": {},
   "source": [
    "## 6. \n",
    "\n",
    "30 이하의 숫자 중 정답을 맞추는 게임을 진행하려고 한다. (정답은 21)  \n",
    "user로부터 숫자를 하나 입력받는다. (입력은 문자를 포함할 수 있다)  \n",
    "입력된 숫자를 가지고 정답을 세 번 이하의 시도로 맞추는 게임을 코드로 작성하시오."
   ]
  },
  {
   "cell_type": "markdown",
   "metadata": {},
   "source": [
    "## 7. \n",
    "\n",
    "숫자를 하나 입력받는다.  \n",
    "좌우 대칭인 숫자가 있으면 대칭, 그렇지 않으면 비대칭을 출력하는 코드를 작성하시오"
   ]
  },
  {
   "cell_type": "markdown",
   "metadata": {},
   "source": [
    "## 8.\n",
    "\n",
    "성적 입력 프로그램을 구성하려고 한다.  \n",
    "점수가 입력되면 90이상은 A, 70이상은 B, 나머지는 C를 출력하는 프로그램을 작성하시오"
   ]
  },
  {
   "cell_type": "markdown",
   "metadata": {},
   "source": [
    "# 9.\n",
    "\n",
    "자동차 컨트롤 프로그램을 만들려고 한다.  \n",
    "자동차는 hyundai, kia가 있으며,  \n",
    "hyundai에는 genesis, grandeur, sonata가 있으며,  \n",
    "kia에는 K9, K7, K5가 존재한다.  \n",
    "\n",
    "자동차의 속성에는  \n",
    "height, width, weight가 존재하며  \n",
    "기능으로는  \n",
    "accel, break가 존재한다.\n",
    "\n",
    "accel은 accel_padal_angle / 100으로 구성되며,  \n",
    "break는 break_padal_angle / weight로 구성된다.\n",
    "\n",
    "각 차종을 한 번에 달리거나 멈출 수 있게 하는 함수를 구성하여 조작하는 프로그램을 작성하라.  "
   ]
  },
  {
   "cell_type": "markdown",
   "metadata": {},
   "source": [
    "## 10. \n",
    "\n",
    "주어진 배열 arr이 있다.  \n",
    "배열의 각 원소는 0부터 9까지의 숫자입니다.  \n",
    "이 배열에서 연속해서 같은 숫자가 나타나는 경우, 그 중 하나만 남기고 나머지는 모두 제거한다.  \n",
    "제거한 후에는 배열의 순서를 그대로 유지하며 결과를 반환한다.  \n",
    "예를 들어,  \n",
    "\n",
    "arr = [1, 1, 3, 3, 0, 1, 1]이라면, 결과는 [1, 3, 0, 1]이 된다.  \n",
    "arr = [4, 4, 4, 3, 3]이라면, 결과는 [4, 3]이 된다.  \n",
    "이런 방식으로 연속적으로 나타나는 숫자를 제거하고 남은 수들을 반환하는 solution 함수를 작성하라.\n",
    "\n",
    "<br>\n",
    "\n",
    "```python\n",
    "def solution(arr):\n",
    "    pass\n",
    "```"
   ]
  }
 ],
 "metadata": {
  "kernelspec": {
   "display_name": "Python 3.9.12 ('base')",
   "language": "python",
   "name": "python3"
  },
  "language_info": {
   "codemirror_mode": {
    "name": "ipython",
    "version": 3
   },
   "file_extension": ".py",
   "mimetype": "text/x-python",
   "name": "python",
   "nbconvert_exporter": "python",
   "pygments_lexer": "ipython3",
   "version": "3.9.12"
  },
  "orig_nbformat": 4,
  "vscode": {
   "interpreter": {
    "hash": "e4af6128c7e0808fede432f38729c473c5b0d80882e83c469acdb54455c56396"
   }
  }
 },
 "nbformat": 4,
 "nbformat_minor": 2
}
