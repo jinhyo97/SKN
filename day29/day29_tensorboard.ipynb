{
 "cells": [
  {
   "cell_type": "markdown",
   "metadata": {},
   "source": [
    "# Tensorboard"
   ]
  },
  {
   "cell_type": "markdown",
   "metadata": {},
   "source": [
    "## 설치 방법\n",
    "\n",
    "```cmd\n",
    "!pip install tensorboard\n",
    "```"
   ]
  },
  {
   "cell_type": "code",
   "execution_count": null,
   "metadata": {},
   "outputs": [],
   "source": [
    "!pip install tensorboard"
   ]
  },
  {
   "cell_type": "markdown",
   "metadata": {},
   "source": [
    "## Tensorboard\n",
    "\n",
    "TensorFlow에서 제공하는 시각화 도구로, 머신러닝 모델의 훈련과 평가를 시각적으로 이해하고 분석하는 데 용이 <br>\n",
    "Pytorch Lightning에서는 log를 통하여 지원 <br>\n",
    "\n",
    "1. 훈련 과정 시각화: 모델 훈련 중의 loss, accuracy 등의 지표를 그래프로 시각화하여 학습 과정 모니터링 가능\n",
    "2. 그래프 시각화: 모델의 연산 그래프를 시각화하여, 각 노드와 엣지가 어떻게 연결되어 있는지 확인 가능\n",
    "3. 이미지, 텍스트, 오디오 시각화: 모델이 처리하는 입력 데이터(예: 이미지, 텍스트, 오디오)를 시각화하여, 모델이 어떻게 데이터를 처리하고 있는지 직접 확인 가능\n",
    "4. 임베딩 시각화: 고차원 데이터를 저차원 공간에 매핑하여, 데이터의 클러스터링이나 패턴을 시각적으로 분석할 수 있습니다. 주로 t-SNE 또는 PCA를 사용하여 시각화 가능\n",
    "\n",
    "<br>\n",
    "\n",
    "<span style=\"font-size: 20pt;\"> 파이썬 코드 </span>\n",
    "\n",
    "일반적으로 tensorboard 사용 시에는 아래와 같은 코드를 입력하여 기록 <br>\n",
    "pytorch lightning에서는 self.log를 통해 아래의 내용을 쉽게 대체 가능\n",
    "\n",
    "\n",
    "> ```python\n",
    "> # 일반적인 tensorboard 사용법\n",
    "> from torch.utils.tensorboard import SummaryWriter\n",
    "> writer = SummaryWriter()\n",
    "> \n",
    "> writer.add_scalar(\"Loss/train\", train_loss, epoch)\n",
    "> writer.add_scalar(\"Loss/valid\", valid_loss, epoch)\n",
    ">\n",
    "> # lightning에서 사용법\n",
    "> self.log_dict({'acc': acc, 'loss': loss}, on_step=True, on_epoch=True, prog_bar=True, logger=True)\n",
    "> ## on_step: 현재 스텝에 대한 log 유무\n",
    "> ## on_epoch: 현재 스텝의 모든 정보를 종합하여 epoch 마지막에 logging 유무\n",
    "> ## prog_bar: 현재 진행 상황에 대한 progress bar 표기 유무\n",
    "> ## logger에 기록할 것인지 유무\n",
    "> \n",
    "> self.log_dict({'acc/train': acc, 'loss/train': loss}, on_step=True, on_epoch=True, prog_bar=True, logger=True)\n",
    "> self.log_dict({'acc/valid': acc, 'loss/valid': loss}, on_step=True, on_epoch=True, prog_bar=True, logger=True)\n",
    "> # 위와 같이 /를 통해 내용을 그룹화 가능\n",
    "> \n",
    "> trainer = Trainer(\n",
    ">     max_epochs=epochs,\n",
    ">     callbacks=[\n",
    ">         EarlyStopping(monitor='loss/val_loss', mode='min', patience=5)\n",
    ">     ],\n",
    ">     log_every_n_steps=1,\n",
    ">     logger=TensorBoardLogger(\n",
    ">         \"Tensorboard\",                                                # root folder\n",
    ">         name=f\"{model}/batch_size={batch_size},lr={learning_rate}\",   # folder name\n",
    ">     )\n",
    "> )\n",
    "> # log가 정의되어야 callback의 earlystop 사용 가능\n",
    "> # monitor은 log에서 정의된 이름이고, mode를 기준으로 학습이 patience회 진행됐을 때 개선이 없으면 학습 중단\n",
    "> # TensorBoardLogger를 통해 저장되는 폴더의 이름을 지정할 수 있음\n",
    "> ```"
   ]
  },
  {
   "cell_type": "markdown",
   "metadata": {},
   "source": [
    "## 사용 방법\n",
    "\n",
    "tensorboard가 설치된 환경에서 아래의 커맨드 입력\n",
    "\n",
    "<br>\n",
    "\n",
    "<span style=\"font-size: 20pt;\"> command </span>\n",
    "\n",
    "> ```\n",
    "> tensorboard --logdir=[path]\n",
    "> ```\n",
    "\n"
   ]
  }
 ],
 "metadata": {
  "kernelspec": {
   "display_name": "Python 3.9.12 ('base')",
   "language": "python",
   "name": "python3"
  },
  "language_info": {
   "codemirror_mode": {
    "name": "ipython",
    "version": 3
   },
   "file_extension": ".py",
   "mimetype": "text/x-python",
   "name": "python",
   "nbconvert_exporter": "python",
   "pygments_lexer": "ipython3",
   "version": "3.9.12"
  },
  "orig_nbformat": 4,
  "vscode": {
   "interpreter": {
    "hash": "e4af6128c7e0808fede432f38729c473c5b0d80882e83c469acdb54455c56396"
   }
  }
 },
 "nbformat": 4,
 "nbformat_minor": 2
}
