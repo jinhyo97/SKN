{
 "cells": [
  {
   "cell_type": "code",
   "execution_count": 8,
   "metadata": {},
   "outputs": [],
   "source": [
    "import pandas as pd"
   ]
  },
  {
   "cell_type": "code",
   "execution_count": 9,
   "metadata": {},
   "outputs": [
    {
     "name": "stderr",
     "output_type": "stream",
     "text": [
      "C:\\Users\\USER\\AppData\\Local\\Temp\\ipykernel_8900\\13301075.py:1: DtypeWarning: Columns (2) have mixed types. Specify dtype option on import or set low_memory=False.\n",
      "  data = pd.read_csv('./data/data_1.csv')\n"
     ]
    }
   ],
   "source": [
    "data = pd.read_csv('./data/data_1.csv')"
   ]
  },
  {
   "cell_type": "markdown",
   "metadata": {},
   "source": [
    "# 1."
   ]
  },
  {
   "cell_type": "code",
   "execution_count": 12,
   "metadata": {},
   "outputs": [
    {
     "data": {
      "text/plain": [
       "np.int64(460408)"
      ]
     },
     "execution_count": 12,
     "metadata": {},
     "output_type": "execute_result"
    }
   ],
   "source": [
    "temp = data.isna().sum()[data.isna().sum()>0]\n",
    "temp.max() - temp.min()"
   ]
  },
  {
   "cell_type": "markdown",
   "metadata": {},
   "source": [
    "# 2."
   ]
  },
  {
   "cell_type": "code",
   "execution_count": 19,
   "metadata": {},
   "outputs": [
    {
     "data": {
      "text/plain": [
       "460287"
      ]
     },
     "execution_count": 19,
     "metadata": {},
     "output_type": "execute_result"
    }
   ],
   "source": [
    "data = data.loc[:, data.isna().sum() < 500].dropna()\n",
    "len(data)"
   ]
  },
  {
   "cell_type": "markdown",
   "metadata": {},
   "source": [
    "# 3."
   ]
  },
  {
   "cell_type": "code",
   "execution_count": 24,
   "metadata": {},
   "outputs": [
    {
     "data": {
      "text/plain": [
       "상권업종대분류코드\n",
       "I2    0.273612\n",
       "G2    0.214542\n",
       "M1    0.187205\n",
       "S2    0.101261\n",
       "P1    0.056476\n",
       "L1    0.050986\n",
       "N1    0.046504\n",
       "R1    0.039525\n",
       "Q1    0.016692\n",
       "I1    0.013198\n",
       "Name: count, dtype: float64"
      ]
     },
     "execution_count": 24,
     "metadata": {},
     "output_type": "execute_result"
    }
   ],
   "source": [
    "data.상권업종대분류코드.value_counts() / len(data.상권업종대분류코드)"
   ]
  },
  {
   "cell_type": "markdown",
   "metadata": {},
   "source": [
    "# 4."
   ]
  },
  {
   "cell_type": "code",
   "execution_count": 36,
   "metadata": {},
   "outputs": [
    {
     "data": {
      "text/plain": [
       "상권업종소분류명\n",
       "경영 컨설팅업            5107\n",
       "부동산 중개/대리업         3417\n",
       "광고 대행업             3077\n",
       "백반/한정식             2103\n",
       "카페                 1926\n",
       "                   ... \n",
       "분류 안된 외국식 음식점         2\n",
       "그 외 기타 숙박업            2\n",
       "비디오방                  1\n",
       "음반/비디오물 대여업           1\n",
       "바둑/장기/체스 경기 운영업       1\n",
       "Name: count, Length: 245, dtype: int64"
      ]
     },
     "execution_count": 36,
     "metadata": {},
     "output_type": "execute_result"
    }
   ],
   "source": [
    "data.query('시군구명==\"강남구\"').상권업종소분류명.value_counts()"
   ]
  },
  {
   "cell_type": "markdown",
   "metadata": {},
   "source": [
    "# 5."
   ]
  },
  {
   "cell_type": "code",
   "execution_count": 38,
   "metadata": {},
   "outputs": [
    {
     "data": {
      "text/plain": [
       "상권업종소분류명\n",
       "백반/한정식             1177\n",
       "카페                 1111\n",
       "시계/귀금속 소매업          648\n",
       "여행사                 613\n",
       "경영 컨설팅업             611\n",
       "                   ... \n",
       "수상/해양 레저업             1\n",
       "방사선 진단/병리 검사 의원       1\n",
       "일반병원                  1\n",
       "캠핑/글램핑                1\n",
       "가축 사료 소매업             1\n",
       "Name: count, Length: 244, dtype: int64"
      ]
     },
     "execution_count": 38,
     "metadata": {},
     "output_type": "execute_result"
    }
   ],
   "source": [
    "data.query('시군구명==\"종로구\"').상권업종소분류명.value_counts()"
   ]
  },
  {
   "cell_type": "markdown",
   "metadata": {},
   "source": [
    "# 6."
   ]
  },
  {
   "cell_type": "code",
   "execution_count": 47,
   "metadata": {},
   "outputs": [
    {
     "data": {
      "text/plain": [
       "상호명\n",
       "씨유       2110\n",
       "지에스      1710\n",
       "세븐일레븐    1371\n",
       "세븐       1149\n",
       "GS       1096\n",
       "CU        130\n",
       "Name: count, dtype: int64"
      ]
     },
     "execution_count": 47,
     "metadata": {},
     "output_type": "execute_result"
    }
   ],
   "source": [
    "data.query('상권업종소분류명==\"편의점\"').상호명.str.extract('(세븐일레븐|세븐|씨유|CU|GS|지에스).+', expand=False).value_counts()"
   ]
  },
  {
   "cell_type": "markdown",
   "metadata": {},
   "source": [
    "# 7."
   ]
  },
  {
   "cell_type": "code",
   "execution_count": 55,
   "metadata": {},
   "outputs": [
    {
     "data": {
      "text/plain": [
       "np.float64(0.3192279138827023)"
      ]
     },
     "execution_count": 55,
     "metadata": {},
     "output_type": "execute_result"
    }
   ],
   "source": [
    "(len(data.query('상권업종소분류명==\"편의점\"')) - data.query('상권업종소분류명==\"편의점\"').상호명.str.extract('(세븐일레븐|씨유|CU|GS|지에스).+', expand=False).value_counts().sum()) / len(data.query('상권업종소분류명==\"편의점\"'))"
   ]
  },
  {
   "cell_type": "code",
   "execution_count": 54,
   "metadata": {},
   "outputs": [
    {
     "data": {
      "text/plain": [
       "np.float64(0.19758192809417754)"
      ]
     },
     "execution_count": 54,
     "metadata": {},
     "output_type": "execute_result"
    }
   ],
   "source": [
    "(len(data.query('상권업종소분류명==\"편의점\"')) - data.query('상권업종소분류명==\"편의점\"').상호명.str.extract('(세븐일레븐|세븐|씨유|CU|GS|지에스).+', expand=False).value_counts().sum()) / len(data.query('상권업종소분류명==\"편의점\"'))"
   ]
  },
  {
   "cell_type": "markdown",
   "metadata": {},
   "source": [
    "# 8."
   ]
  },
  {
   "cell_type": "code",
   "execution_count": 67,
   "metadata": {},
   "outputs": [
    {
     "data": {
      "text/plain": [
       "95126"
      ]
     },
     "execution_count": 67,
     "metadata": {},
     "output_type": "execute_result"
    }
   ],
   "source": [
    "len(\n",
    "    data.filter(items=['시군구명', '상호명', '위도', '경도'])\n",
    "    .merge(data.filter(items=['시군구명', '위도', '경도']).groupby(['시군구명']).mean().rename(columns={'위도': '위도평균', '경도': '경도평균'}).reset_index(), on=['시군구명'])\n",
    "    .query('위도 > 위도평균 and 경도 > 경도평균')\n",
    ")"
   ]
  },
  {
   "cell_type": "markdown",
   "metadata": {},
   "source": [
    "# 9."
   ]
  },
  {
   "cell_type": "code",
   "execution_count": 85,
   "metadata": {},
   "outputs": [
    {
     "data": {
      "text/html": [
       "<div>\n",
       "<style scoped>\n",
       "    .dataframe tbody tr th:only-of-type {\n",
       "        vertical-align: middle;\n",
       "    }\n",
       "\n",
       "    .dataframe tbody tr th {\n",
       "        vertical-align: top;\n",
       "    }\n",
       "\n",
       "    .dataframe thead th {\n",
       "        text-align: right;\n",
       "    }\n",
       "</style>\n",
       "<table border=\"1\" class=\"dataframe\">\n",
       "  <thead>\n",
       "    <tr style=\"text-align: right;\">\n",
       "      <th></th>\n",
       "      <th>target_len</th>\n",
       "    </tr>\n",
       "    <tr>\n",
       "      <th>시군구명</th>\n",
       "      <th></th>\n",
       "    </tr>\n",
       "  </thead>\n",
       "  <tbody>\n",
       "    <tr>\n",
       "      <th>서초구</th>\n",
       "      <td>0.167329</td>\n",
       "    </tr>\n",
       "    <tr>\n",
       "      <th>송파구</th>\n",
       "      <td>0.149883</td>\n",
       "    </tr>\n",
       "  </tbody>\n",
       "</table>\n",
       "</div>"
      ],
      "text/plain": [
       "      target_len\n",
       "시군구명            \n",
       "서초구     0.167329\n",
       "송파구     0.149883"
      ]
     },
     "execution_count": 85,
     "metadata": {},
     "output_type": "execute_result"
    }
   ],
   "source": [
    "temp = data.filter(items=['시군구명', '상호명'])\n",
    "temp['상호길이'] = data.상호명.str.len()\n",
    "temp['target_len'] = temp.상호길이 >= 10\n",
    "temp.filter(items=['시군구명', 'target_len']).groupby(['시군구명']).mean().sort_values(by=['target_len'], ascending=False).head(2)"
   ]
  },
  {
   "cell_type": "markdown",
   "metadata": {},
   "source": [
    "# 10."
   ]
  },
  {
   "cell_type": "code",
   "execution_count": 92,
   "metadata": {},
   "outputs": [],
   "source": [
    "from sklearn.metrics.pairwise import pairwise_distances\n",
    "import numpy as np"
   ]
  },
  {
   "cell_type": "code",
   "execution_count": 119,
   "metadata": {},
   "outputs": [
    {
     "data": {
      "text/plain": [
       "Index(['강동구', '강서구'], dtype='object', name='시군구명')"
      ]
     },
     "execution_count": 119,
     "metadata": {},
     "output_type": "execute_result"
    }
   ],
   "source": [
    "average_coordinates = data.filter(items=['시군구명', '위도', '경도']).groupby(['시군구명']).mean()\n",
    "distances = pairwise_distances(average_coordinates)\n",
    "target_index = np.where(np.abs(distances.max() - distances) < 1e-10)[0]\n",
    "average_coordinates.index[target_index]"
   ]
  },
  {
   "cell_type": "markdown",
   "metadata": {},
   "source": [
    "# 11."
   ]
  },
  {
   "cell_type": "markdown",
   "metadata": {},
   "source": [
    "corr 그림을 그려보면 정상 데이터는 corr이 1에 가까운 것을 확인할 수 있음. <br>\n",
    "corr이 직선을 벗어나는 점을 이상치로 간주하여 이상탐지 가능."
   ]
  }
 ],
 "metadata": {
  "kernelspec": {
   "display_name": "deep_learning",
   "language": "python",
   "name": "python3"
  },
  "language_info": {
   "codemirror_mode": {
    "name": "ipython",
    "version": 3
   },
   "file_extension": ".py",
   "mimetype": "text/x-python",
   "name": "python",
   "nbconvert_exporter": "python",
   "pygments_lexer": "ipython3",
   "version": "3.10.14"
  }
 },
 "nbformat": 4,
 "nbformat_minor": 2
}
