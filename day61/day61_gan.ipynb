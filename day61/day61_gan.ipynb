{
 "cells": [
  {
   "cell_type": "markdown",
   "metadata": {},
   "source": [
    "# Library"
   ]
  },
  {
   "cell_type": "code",
   "execution_count": 1,
   "metadata": {},
   "outputs": [],
   "source": [
    "import numpy as np\n",
    "import matplotlib.pyplot as plt\n",
    "\n",
    "import torch\n",
    "import torch.nn as nn\n",
    "import torch.optim as optim\n",
    "import torchvision.models as models\n",
    "from torchvision import datasets, transforms\n",
    "from torch.utils.data import DataLoader"
   ]
  },
  {
   "cell_type": "markdown",
   "metadata": {},
   "source": [
    "# GAN\n",
    "\n",
    "paper: https://arxiv.org/pdf/1406.2661\n",
    "\n",
    "<br>\n",
    "\n",
    "<img src=\"https://img1.daumcdn.net/thumb/R1280x0/?scode=mtistory2&fname=https%3A%2F%2Fblog.kakaocdn.net%2Fdn%2FbFzwr6%2FbtrrLOmiBsp%2F4ZfYfzsuYdAszzsTDvuDdK%2Fimg.png\" width=600>\n",
    "\n",
    "<br>\n",
    "\n",
    "GAN(Generative Adversarial Network)은 생성적 적대 신경망으로, 두 개의 신경망이 서로 경쟁하는 구조로 이루어짐.\n",
    "\n",
    "<br>\n",
    "\n",
    "<font style=\"font-size:20px\"> 구조 </font>\n",
    "\n",
    "생성자(Generator): 무작위 노이즈를 입력받아 실제와 유사한 가짜 데이터 생성. <br>\n",
    "판별자(Discriminator): 입력된 데이터가 실제 데이터인지 생성자가 만든 가짜 데이터인지 판별.\n",
    "\n",
    "\n",
    "<br>\n",
    "\n",
    "<font style=\"font-size:20px\"> 특징 </font>\n",
    "\n",
    "두 네트워크는 적대적으로 훈련되며, 생성자는 판별자를 속이기 위해 점점 더 나은 데이터를 생성하려 하고, 판별자는 생성자가 만든 가짜 데이터를 정확하게 구별하려 함. <br>\n",
    "-> 생성자는 매우 사실적인 데이터를 생성."
   ]
  },
  {
   "cell_type": "markdown",
   "metadata": {},
   "source": [
    "## Vanilla GAN\n",
    "\n",
    "Ian Goodfellow에 의해 처음 제안된 GAN. <br>\n",
    "generator와 discriminator를 번갈아 가면서 학습하며 아래와 같음 손실함수를 가짐. <br>\n",
    "\n",
    "<br>\n",
    "\n",
    "**Discriminator Loss**:\n",
    "$$\n",
    "L_D = -\\mathbb{E}[\\log(D(x))] - \\mathbb{E}[\\log(1 - D(G(z)))]\n",
    "$$\n",
    "where:\n",
    "- $ D(x) $: 판별자가 실제 이미지를 진짜로 분류하는 확률.\n",
    "- $ G(z) $: 생성자가 생성한 이미지.\n",
    "\n",
    "<br>\n",
    "\n",
    "**Generator Loss**:\n",
    "  \n",
    "$$\n",
    "L_G = -\\mathbb{E}[\\log(D(G(z)))]\n",
    "$$\n",
    ": 생성한 이미지가 판별자에 의해 진짜로 판단되도록 손실을 최소화\n"
   ]
  },
  {
   "cell_type": "markdown",
   "metadata": {},
   "source": [
    "#### Mode Collapse\n",
    "\n",
    "GAN 훈련 과정에서 발생하는 문제로, generator가 제한된 수의 패턴이나 변형만 생성하게 되는 현상. <br>\n",
    "-> 생성된 이미지나 데이터가 다양성이 부족하고, 특정 유형의 이미지만을 생성\n",
    "\n",
    "<br>\n",
    "\n",
    "**모드 붕괴의 원인** <br>\n",
    "생성기와 판별기 간의 불균형: 생성기가 판별기에 비해 너무 빨리 학습하거나 반대로 판별기가 너무 빨리 학습하는 경우, 생성기가 특정 패턴에만 집중. <br>\n",
    "\n",
    "손실 함수의 특성: GAN의 손실 함수는 비대칭적일 수 있어, 생성기가 특정 유형의 샘플을 생성하는 데 집중하도록 유도 가능. <br>\n",
    "\n",
    "네트워크의 용량: 생성기나 판별기가 충분한 용량을 갖추지 못하면, 다양한 모드를 표현하기 어려울 수 있음. <br>"
   ]
  },
  {
   "cell_type": "markdown",
   "metadata": {},
   "source": [
    "## Practice"
   ]
  },
  {
   "cell_type": "code",
   "execution_count": 4,
   "metadata": {},
   "outputs": [],
   "source": [
    "class Generator(nn.Module):\n",
    "    def __init__(self, configs):\n",
    "        super().__init__()\n",
    "        self.configs = configs.get('generator')\n",
    "        self.latent_dim = configs.get('latent_dim', 10)\n",
    "\n",
    "        self.layer1 = nn.Sequential(\n",
    "            nn.Linear(self.latent_dim, 64),\n",
    "            nn.ReLU(),\n",
    "            nn.Dropout(),\n",
    "        )\n",
    "\n",
    "        self.layer2 = nn.Sequential(\n",
    "            nn.Linear(64, 256),\n",
    "            nn.ReLU(),\n",
    "            nn.Dropout(),\n",
    "        )\n",
    "\n",
    "        self.layer3 = nn.Sequential(\n",
    "            nn.Linear(256, 28*28),\n",
    "            nn.ReLU(),\n",
    "            nn.Dropout(),\n",
    "        )\n",
    "\n",
    "        self.sigmoid = nn.Sigmoid()\n",
    "\n",
    "\n",
    "    def forward(self, z):\n",
    "        x = self.layer1(z)\n",
    "        x = self.layer2(x)\n",
    "        x = self.layer3(x)\n",
    "        x = self.sigmoid(x)\n",
    "\n",
    "        return x"
   ]
  },
  {
   "cell_type": "code",
   "execution_count": 14,
   "metadata": {},
   "outputs": [],
   "source": [
    "configs = {\n",
    "    'generator': {\n",
    "        'latent_dim' : 10,\n",
    "    },\n",
    "    'discriminator': {\n",
    "        'input_dim' : 28*28\n",
    "    }\n",
    "}\n"
   ]
  },
  {
   "cell_type": "code",
   "execution_count": 15,
   "metadata": {},
   "outputs": [],
   "source": [
    "generator = Generator(configs)\n",
    "z = torch.randn(32, 10)"
   ]
  },
  {
   "cell_type": "code",
   "execution_count": 24,
   "metadata": {},
   "outputs": [
    {
     "data": {
      "text/plain": [
       "Generator(\n",
       "  (layer1): Sequential(\n",
       "    (0): Linear(in_features=10, out_features=64, bias=True)\n",
       "    (1): ReLU()\n",
       "    (2): Dropout(p=0.5, inplace=False)\n",
       "  )\n",
       "  (layer2): Sequential(\n",
       "    (0): Linear(in_features=64, out_features=256, bias=True)\n",
       "    (1): ReLU()\n",
       "    (2): Dropout(p=0.5, inplace=False)\n",
       "  )\n",
       "  (layer3): Sequential(\n",
       "    (0): Linear(in_features=256, out_features=784, bias=True)\n",
       "    (1): ReLU()\n",
       "    (2): Dropout(p=0.5, inplace=False)\n",
       "  )\n",
       "  (sigmoid): Sigmoid()\n",
       ")"
      ]
     },
     "execution_count": 24,
     "metadata": {},
     "output_type": "execute_result"
    }
   ],
   "source": [
    "generator"
   ]
  },
  {
   "cell_type": "code",
   "execution_count": 17,
   "metadata": {},
   "outputs": [
    {
     "data": {
      "text/plain": [
       "torch.Size([32, 28, 28])"
      ]
     },
     "execution_count": 17,
     "metadata": {},
     "output_type": "execute_result"
    }
   ],
   "source": [
    "generator(z).reshape(32, 28, 28).shape"
   ]
  },
  {
   "cell_type": "code",
   "execution_count": null,
   "metadata": {},
   "outputs": [],
   "source": [
    "class Discriminator(nn.Module):\n",
    "    def __init__(self, configs):\n",
    "        super().__init__()\n",
    "        self.configs = configs.get('discriminator')\n",
    "        self.latent_dim = configs.get('input_dim')\n",
    "\n",
    "        self.layer1 = nn.Sequential(\n",
    "            nn.Linear(self.latent_dim, 256),\n",
    "            nn.ReLU(),\n",
    "            nn.Dropout(),\n",
    "        )\n",
    "\n",
    "        self.layer2 = nn.Sequential(\n",
    "            nn.Linear(256, 64),\n",
    "            nn.ReLU(),\n",
    "            nn.Dropout(),\n",
    "        )\n",
    "\n",
    "        self.layer3 = nn.Sequential(\n",
    "            nn.Linear(64, 1),\n",
    "            nn.ReLU(),\n",
    "            nn.Dropout(),\n",
    "        )\n",
    "\n",
    "        self.sigmoid = nn.Sigmoid()\n",
    "\n",
    "\n",
    "    def forward(self, x):\n",
    "        x = self.layer1(x)\n",
    "        x = self.layer2(x)\n",
    "        x = self.layer3(x)\n",
    "        x = self.sigmoid(x)\n",
    "\n",
    "        return x"
   ]
  },
  {
   "cell_type": "code",
   "execution_count": 41,
   "metadata": {},
   "outputs": [
    {
     "ename": "TypeError",
     "evalue": "empty(): argument 'size' failed to unpack the object at pos 2 with error \"type must be tuple of ints,but got NoneType\"",
     "output_type": "error",
     "traceback": [
      "\u001b[1;31m---------------------------------------------------------------------------\u001b[0m",
      "\u001b[1;31mTypeError\u001b[0m                                 Traceback (most recent call last)",
      "Cell \u001b[1;32mIn[41], line 1\u001b[0m\n\u001b[1;32m----> 1\u001b[0m discriminator \u001b[38;5;241m=\u001b[39m \u001b[43mDiscriminator\u001b[49m\u001b[43m(\u001b[49m\u001b[43mconfigs\u001b[49m\u001b[43m)\u001b[49m\n\u001b[0;32m      2\u001b[0m \u001b[38;5;66;03m# z = torch.randn(32, 28*28)\u001b[39;00m\n\u001b[0;32m      3\u001b[0m \u001b[38;5;66;03m# discriminator(z).shape\u001b[39;00m\n",
      "Cell \u001b[1;32mIn[40], line 8\u001b[0m, in \u001b[0;36mDiscriminator.__init__\u001b[1;34m(self, configs)\u001b[0m\n\u001b[0;32m      4\u001b[0m \u001b[38;5;28mself\u001b[39m\u001b[38;5;241m.\u001b[39mconfigs \u001b[38;5;241m=\u001b[39m configs\u001b[38;5;241m.\u001b[39mget(\u001b[38;5;124m'\u001b[39m\u001b[38;5;124mdiscriminator\u001b[39m\u001b[38;5;124m'\u001b[39m)\n\u001b[0;32m      5\u001b[0m \u001b[38;5;28mself\u001b[39m\u001b[38;5;241m.\u001b[39mlatent_dim \u001b[38;5;241m=\u001b[39m configs\u001b[38;5;241m.\u001b[39mget(\u001b[38;5;124m'\u001b[39m\u001b[38;5;124minput_dim\u001b[39m\u001b[38;5;124m'\u001b[39m)\n\u001b[0;32m      7\u001b[0m \u001b[38;5;28mself\u001b[39m\u001b[38;5;241m.\u001b[39mlayer1 \u001b[38;5;241m=\u001b[39m nn\u001b[38;5;241m.\u001b[39mSequential(\n\u001b[1;32m----> 8\u001b[0m     \u001b[43mnn\u001b[49m\u001b[38;5;241;43m.\u001b[39;49m\u001b[43mLinear\u001b[49m\u001b[43m(\u001b[49m\u001b[38;5;28;43mself\u001b[39;49m\u001b[38;5;241;43m.\u001b[39;49m\u001b[43mlatent_dim\u001b[49m\u001b[43m,\u001b[49m\u001b[43m \u001b[49m\u001b[38;5;241;43m256\u001b[39;49m\u001b[43m)\u001b[49m,\n\u001b[0;32m      9\u001b[0m     nn\u001b[38;5;241m.\u001b[39mReLU(),\n\u001b[0;32m     10\u001b[0m     nn\u001b[38;5;241m.\u001b[39mDropout(),\n\u001b[0;32m     11\u001b[0m )\n\u001b[0;32m     13\u001b[0m \u001b[38;5;28mself\u001b[39m\u001b[38;5;241m.\u001b[39mlayer2 \u001b[38;5;241m=\u001b[39m nn\u001b[38;5;241m.\u001b[39mSequential(\n\u001b[0;32m     14\u001b[0m     nn\u001b[38;5;241m.\u001b[39mLinear(\u001b[38;5;241m256\u001b[39m, \u001b[38;5;241m64\u001b[39m),\n\u001b[0;32m     15\u001b[0m     nn\u001b[38;5;241m.\u001b[39mReLU(),\n\u001b[0;32m     16\u001b[0m     nn\u001b[38;5;241m.\u001b[39mDropout(),\n\u001b[0;32m     17\u001b[0m )\n\u001b[0;32m     19\u001b[0m \u001b[38;5;28mself\u001b[39m\u001b[38;5;241m.\u001b[39mlayer3 \u001b[38;5;241m=\u001b[39m nn\u001b[38;5;241m.\u001b[39mSequential(\n\u001b[0;32m     20\u001b[0m     nn\u001b[38;5;241m.\u001b[39mLinear(\u001b[38;5;241m64\u001b[39m, \u001b[38;5;241m1\u001b[39m),\n\u001b[0;32m     21\u001b[0m     nn\u001b[38;5;241m.\u001b[39mReLU(),\n\u001b[0;32m     22\u001b[0m     nn\u001b[38;5;241m.\u001b[39mDropout(),\n\u001b[0;32m     23\u001b[0m )\n",
      "File \u001b[1;32mc:\\Users\\USER\\.conda\\envs\\nlp\\lib\\site-packages\\torch\\nn\\modules\\linear.py:99\u001b[0m, in \u001b[0;36mLinear.__init__\u001b[1;34m(self, in_features, out_features, bias, device, dtype)\u001b[0m\n\u001b[0;32m     97\u001b[0m \u001b[38;5;28mself\u001b[39m\u001b[38;5;241m.\u001b[39min_features \u001b[38;5;241m=\u001b[39m in_features\n\u001b[0;32m     98\u001b[0m \u001b[38;5;28mself\u001b[39m\u001b[38;5;241m.\u001b[39mout_features \u001b[38;5;241m=\u001b[39m out_features\n\u001b[1;32m---> 99\u001b[0m \u001b[38;5;28mself\u001b[39m\u001b[38;5;241m.\u001b[39mweight \u001b[38;5;241m=\u001b[39m Parameter(torch\u001b[38;5;241m.\u001b[39mempty((out_features, in_features), \u001b[38;5;241m*\u001b[39m\u001b[38;5;241m*\u001b[39mfactory_kwargs))\n\u001b[0;32m    100\u001b[0m \u001b[38;5;28;01mif\u001b[39;00m bias:\n\u001b[0;32m    101\u001b[0m     \u001b[38;5;28mself\u001b[39m\u001b[38;5;241m.\u001b[39mbias \u001b[38;5;241m=\u001b[39m Parameter(torch\u001b[38;5;241m.\u001b[39mempty(out_features, \u001b[38;5;241m*\u001b[39m\u001b[38;5;241m*\u001b[39mfactory_kwargs))\n",
      "\u001b[1;31mTypeError\u001b[0m: empty(): argument 'size' failed to unpack the object at pos 2 with error \"type must be tuple of ints,but got NoneType\""
     ]
    }
   ],
   "source": [
    "discriminator = Discriminator(configs)\n",
    "# z = torch.randn(32, 28*28)\n",
    "# discriminator(z).shape"
   ]
  },
  {
   "cell_type": "code",
   "execution_count": 22,
   "metadata": {},
   "outputs": [
    {
     "data": {
      "text/plain": [
       "__main__.Discriminator"
      ]
     },
     "execution_count": 22,
     "metadata": {},
     "output_type": "execute_result"
    }
   ],
   "source": [
    "Discriminator"
   ]
  },
  {
   "cell_type": "markdown",
   "metadata": {},
   "source": [
    "## Practice"
   ]
  },
  {
   "cell_type": "code",
   "execution_count": null,
   "metadata": {},
   "outputs": [],
   "source": []
  }
 ],
 "metadata": {
  "kernelspec": {
   "display_name": "nlp",
   "language": "python",
   "name": "python3"
  },
  "language_info": {
   "codemirror_mode": {
    "name": "ipython",
    "version": 3
   },
   "file_extension": ".py",
   "mimetype": "text/x-python",
   "name": "python",
   "nbconvert_exporter": "python",
   "pygments_lexer": "ipython3",
   "version": "3.10.14"
  },
  "orig_nbformat": 4
 },
 "nbformat": 4,
 "nbformat_minor": 2
}
