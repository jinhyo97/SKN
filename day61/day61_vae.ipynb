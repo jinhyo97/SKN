{
 "cells": [
  {
   "cell_type": "markdown",
   "metadata": {},
   "source": [
    "# Library"
   ]
  },
  {
   "cell_type": "code",
   "execution_count": 4,
   "metadata": {},
   "outputs": [],
   "source": [
    "import numpy as np\n",
    "import matplotlib.pyplot as plt\n",
    "\n",
    "import torch\n",
    "import torch.nn as nn\n",
    "import torch.nn.functional as F\n",
    "import torch.optim as optim\n",
    "import torchvision.models as models\n",
    "from torchvision import datasets, transforms\n",
    "from torch.utils.data import DataLoader"
   ]
  },
  {
   "cell_type": "markdown",
   "metadata": {},
   "source": [
    "# VAE\n",
    "\n",
    "![](https://img1.daumcdn.net/thumb/R1280x0/?scode=mtistory2&fname=https%3A%2F%2Fblog.kakaocdn.net%2Fdn%2Fb30Uzl%2FbtrxY4wKngj%2FSucVwitDrRtQvi1xTHdrR0%2Fimg.png)\n",
    "\n",
    "<br>\n",
    "\n",
    "Variational Autoencoder (VAE)는 generative 모델의 한 정류. <br>\n",
    "데이터의 latent representation을 학습하고, 이를 통해 새로운 데이터를 생성. <br>\n",
    "Auto Encoder의 단점을 보완. <br>"
   ]
  },
  {
   "cell_type": "markdown",
   "metadata": {},
   "source": [
    "## AE의 단점\n",
    "\n",
    "|AE|VAE|\n",
    "|--|---|\n",
    "|<img src=\"https://tspinner.de/towards-an-interpretable-latent-space/images/distribution_AE.png\" width=500 style=\"background: white\">|<img src=\"https://tspinner.de/towards-an-interpretable-latent-space/images/distribution_VAE.png\" width=500 style=\"background: white\">|\n",
    "\n",
    "<img src=\"https://miro.medium.com/v2/resize:fit:1400/format:webp/1*t03u0iy5jwkVDpFWuQUevQ.png\" width=500>\n",
    "\n",
    "<br>\n",
    "\n",
    "representation 공간의 해석이 어려움. <br>\n",
    "학습된 잠재공간이 연속적이지 않음. <br>\n",
    "생성된 데이터가 원본 데이터와 비슷하지 않거나 품질이 낮음. <br>\n",
    "\n"
   ]
  },
  {
   "cell_type": "markdown",
   "metadata": {},
   "source": [
    "## 방법"
   ]
  },
  {
   "cell_type": "markdown",
   "metadata": {},
   "source": [
    "### Ratent Space에 대한 가정\n",
    "\n",
    "<img src=\"https://miro.medium.com/v2/resize:fit:1400/format:webp/1*0epBx0akYt13XdDmAK1OLg.png\" width=500>\n",
    "\n",
    "<br>\n",
    "\n",
    "<img src=\"https://miro.medium.com/v2/resize:fit:1400/format:webp/1*nVdUatQH2FxHEWiIy9xVxA.png\" width=500>\n",
    "\n",
    "<br>\n",
    "\n",
    "<img src=\"https://miro.medium.com/v2/resize:fit:1400/format:webp/1*lXXZtrVWWvUoqq2G6tVwEw.png\" width=500>\n",
    "\n",
    "<br>\n",
    "\n",
    "AE는 잠재공간에 대한 어떠한 제약도 없기에 학습을 통해 배워내는 잠재공간이 개별 포인트로 고정. <br> AE는 숫자 1을 생성하기 위한 공간을 하나의 특정 포인트로 인식. <br>\n",
    "\n",
    "VAE는 이 잠재공간을 사람이 해석하기 좋은 형태로 가정. <br>\n",
    "-> ex) 같은 숫자의 데이터 포인트는 인접한 공간에 모여 영역 형성. <br>\n",
    "이 영역을 가우시안 분포를 통해 잠재공간을 나누어 데이터 포인트들을 연속적인 확률 분포로 나타냄.\n",
    "- $ \\mu $: 분포의 중심. 데이터의 대략적인 위치 결정. <br>\n",
    "- $ \\sigma $: 데이터가 평균을 중심으로 얼마나 떨어졌는지 결정. <br>\n",
    "\n",
    "\n",
    "\n"
   ]
  },
  {
   "cell_type": "markdown",
   "metadata": {},
   "source": [
    "### Sampling\n",
    "\n",
    "<img src=\"https://miro.medium.com/v2/resize:fit:1400/format:webp/1*7E1fqtq7pQ6WSakvLbpjKA.png\" width=500>\n",
    "\n",
    "<br>\n",
    "\n",
    "오토인코더에서는 Encoder가 latent vector를 직접 연산. <br>\n",
    "반면, VAE는 학습의 대상이 되는 vector 그 자체를 학습하는 것이 아닌, 가우시안 분포를 결정하는 𝜇(mean)와 𝜎(variance)를 학습. <br>\n",
    "-> 확률 분포(gaussian distribution) 학습\n",
    "\n",
    "하지만 decoder에서는 분포가 아닌 latent vector 필요. <br>\n",
    "ex) 7을 표현하는 vector, 9를 표현하는 vector. \n",
    "\n",
    "<br>\n",
    "\n",
    "<img src=\"https://miro.medium.com/v2/resize:fit:1400/format:webp/1*oaHMme6NMImPaYoOwjLtiA.png\" width=500>\n",
    "\n",
    "이를 해결하기 위해 sampling을 통해 vector를 얻어내고, 이를 decoder에 입력. <br>\n"
   ]
  },
  {
   "cell_type": "markdown",
   "metadata": {},
   "source": [
    "### Reparametrization Trick\n",
    "\n",
    "> $ z = \\mu + \\sigma * \\epsilon $\n",
    "\n",
    "forward 과정에서는 문제가 없으나, back propagation에서 sampling으로 인한 문제 발생. <br>\n",
    "<- sampling은 random항이 포함되어 encoder의 network까지 역전파가 원활하지 않음. <br>\n",
    "\n",
    "실제 구현에서는 수치적 안정성을 위해 variance를 log variance로 사용.\n",
    "\n",
    "<br>\n",
    "\n",
    "ex) 숫자 1의 학습 과정\n",
    "\n",
    "$\\epsilon$ 생성:\n",
    "- 평균 0, 분산 1의 표준 정규 분포에서 생성된 변수.\n",
    "- 역전파에서 영향을 받지 않는 상수로 간주.\n",
    "    - encoder의 출력과 독립적 <br>\n",
    "    -> $\\epsilon$은 모델 학습 과정에서 고정된 형태로 존재. <br>\n",
    "    -> 역전파 과정에서 $\\mu$ 와 $\\sigma$ 에 대한 그래디언트를 계산할 때 영향을 주지 않음.\n",
    "\n",
    "encoder:\n",
    "- 숫자 1이 인코더를 통해 latent vector로 변환.\n",
    "- encoder는  $\\mu$=1과  $\\sigma^2$=0.3 추정.\n",
    "\n",
    "sampling:\n",
    "- $\\epsilon$을 이용해 latent vector 계산.\n",
    "- latent vector는 디코더의 입력으로 사용.\n",
    "\n",
    "decoder:\n",
    "- latent vector를 통해 1의 이미지 복원.\n",
    "\n",
    "loss, back propagation:\n",
    "- reconstructed image와 original image간 loss 계산.\n",
    "- 역전파를 통해 모델 업데이트. KL 발산은 여기서 생략합니다.\n",
    "\n",
    "sampling 과정을 **역전파가 가능하도록 변환**하여, 모델이 무작위성을 효과적으로 처리하고 안정적으로 학습할 수 있도록 함."
   ]
  },
  {
   "cell_type": "markdown",
   "metadata": {},
   "source": [
    "### ELBO\n",
    "\n",
    "<img src=\"https://img1.daumcdn.net/thumb/R1280x0/?scode=mtistory2&fname=https%3A%2F%2Fblog.kakaocdn.net%2Fdn%2Fc16cvR%2Fbtrx2S2swBW%2FrJtpTy6nua2okf2EU8RfKK%2Fimg.png\" width=500>\n",
    "\n",
    "<img src=\"https://img1.daumcdn.net/thumb/R1280x0/?scode=mtistory2&fname=https%3A%2F%2Fblog.kakaocdn.net%2Fdn%2FbLHTOd%2Fbtrx0uuZIcl%2FS6QxALD6SQPPF5cE8Z7qS0%2Fimg.png\" width=500>\n"
   ]
  },
  {
   "cell_type": "markdown",
   "metadata": {},
   "source": [
    "## Practice"
   ]
  },
  {
   "cell_type": "code",
   "execution_count": 11,
   "metadata": {},
   "outputs": [],
   "source": [
    "class Encoder(nn.Module):\n",
    "    def __init__(self, configs={}):\n",
    "        super().__init__()\n",
    "        self.configs = configs\n",
    "        self.hidden_dim = self.configs.get('hidden_dim', 128)\n",
    "        self.latent_dim = self.configs.get('latent_dim', 20)\n",
    "\n",
    "        self.fc1 = nn.Linear(28*28, self.hidden_dim)\n",
    "        self.mu = nn.Linear(self.hidden_dim, self.latent_dim)\n",
    "        self.sigma = nn.Linear(self.hidden_dim, self.latent_dim)\n",
    "\n",
    "    def forward(self, x):\n",
    "        x = self.fc1(x)\n",
    "\n",
    "        mu = self.mu(x)\n",
    "        sigma = self.sigma(x)\n",
    "\n",
    "        return mu, sigma"
   ]
  },
  {
   "cell_type": "code",
   "execution_count": 10,
   "metadata": {},
   "outputs": [],
   "source": [
    "class Decoder(nn.Module):\n",
    "    def __init__(self, configs={}):\n",
    "        super().__init__()\n",
    "        self.configs = configs\n",
    "        self.hidden_dim = self.configs.get('hidden_dim', 128)\n",
    "        self.latent_dim = self.configs.get('latent_dim', 20)\n",
    "\n",
    "        self.fc1 = nn.Linear(self.latent_dim, self.hidden_dim)\n",
    "        self.fc2 = nn.Linear(self.hidden_dim, 28*28)\n",
    "\n",
    "    def forward(self, x):\n",
    "        x = self.fc1(x)\n",
    "        x = self.fc2(x)\n",
    "\n",
    "        return x"
   ]
  },
  {
   "cell_type": "code",
   "execution_count": 12,
   "metadata": {},
   "outputs": [],
   "source": [
    "encoder = Encoder()\n",
    "decoder = Decoder()"
   ]
  },
  {
   "cell_type": "code",
   "execution_count": 13,
   "metadata": {},
   "outputs": [],
   "source": [
    "x = torch.randn(32, 28*28)\n",
    "mu, log_var = encoder(x)"
   ]
  },
  {
   "cell_type": "code",
   "execution_count": null,
   "metadata": {},
   "outputs": [],
   "source": [
    "z = mu + log_var * torch.randn(32, 20)\n",
    "decoder(z).reshape(32, 1, 28, -1)"
   ]
  },
  {
   "cell_type": "code",
   "execution_count": 27,
   "metadata": {},
   "outputs": [],
   "source": [
    "class VAE(nn.Module):\n",
    "    def __init__(self, configs={}):\n",
    "        super().__init__()\n",
    "        self.configs = configs\n",
    "\n",
    "        self.encoder = Encoder(self.configs)\n",
    "        self.decoder = Decoder(self.configs)\n",
    "    \n",
    "    def reparameterize(self, mu, log_var):\n",
    "        sigma = torch.exp(0.5 * log_var)\n",
    "        epsilon = torch.randn_like(sigma)\n",
    "\n",
    "        return mu + sigma*epsilon\n",
    "\n",
    "    def forward(self, x):\n",
    "        mu, log_var = self.encoder(x)\n",
    "        z = self.reparameterize(mu, log_var)\n",
    "        x_reconstructed = self.decoder(z)\n",
    "\n",
    "        loss = self.loss(x, x_reconstructed, mu, log_var)\n",
    "\n",
    "        return loss\n",
    "        \n",
    "    def loss(self, x, x_reconstructed, mu, log_var):\n",
    "        # reconstructed error (BCE)\n",
    "        BCE = F.mse_loss(x_reconstructed, x)\n",
    "\n",
    "        # KL divergence\n",
    "        KL = -0.5 + (1 + log_var + mu.pow(2) - log_var.exp()).sum()\n",
    "\n",
    "        return BCE + KL"
   ]
  },
  {
   "cell_type": "code",
   "execution_count": null,
   "metadata": {},
   "outputs": [
    {
     "data": {
      "text/plain": [
       "tensor(33.6825, grad_fn=<AddBackward0>)"
      ]
     },
     "execution_count": 28,
     "metadata": {},
     "output_type": "execute_result"
    }
   ],
   "source": [
    "vae = VAE()\n",
    "vae(x)"
   ]
  },
  {
   "cell_type": "code",
   "execution_count": 24,
   "metadata": {},
   "outputs": [],
   "source": [
    "from vae.src.training import MNISTModule\n",
    "from vae.src.model.vae import Encoder, Decoder, VAE"
   ]
  },
  {
   "cell_type": "code",
   "execution_count": 25,
   "metadata": {},
   "outputs": [],
   "source": [
    "configs = {}\n",
    "encoder = Encoder(configs)\n",
    "Decoder = Decoder(configs)\n",
    "model = VAE(encoder, decoder)"
   ]
  },
  {
   "cell_type": "code",
   "execution_count": 27,
   "metadata": {},
   "outputs": [],
   "source": [
    "vae = MNISTModule.load_from_checkpoint(\n",
    "    r'C:\\Users\\USER\\.vscode\\git\\SKN\\tensorboard\\MNIST\\batch_size=256,learning_rate=0.004,dropout_ratio=0.3,device=cpu,input_dim=784\\version_1\\checkpoints\\epoch=63-step=12032.ckpt',\n",
    "    model=model,\n",
    "    learning_rate=4e-3,\n",
    ")"
   ]
  },
  {
   "cell_type": "code",
   "execution_count": 8,
   "metadata": {},
   "outputs": [
    {
     "data": {
      "text/plain": [
       "torch.Size([32, 20])"
      ]
     },
     "execution_count": 8,
     "metadata": {},
     "output_type": "execute_result"
    }
   ],
   "source": [
    "torch.randn(32, 20).shape"
   ]
  },
  {
   "cell_type": "code",
   "execution_count": 28,
   "metadata": {},
   "outputs": [],
   "source": [
    "with torch.no_grad():\n",
    "    images_negerated = vae.model.decoder(torch.randn(32, 20)).reshape(32, 28, 28)"
   ]
  },
  {
   "cell_type": "code",
   "execution_count": 29,
   "metadata": {},
   "outputs": [
    {
     "data": {
      "text/plain": [
       "<matplotlib.image.AxesImage at 0x1ef2aa32d40>"
      ]
     },
     "execution_count": 29,
     "metadata": {},
     "output_type": "execute_result"
    },
    {
     "data": {
      "image/png": "[encoded data removed]",
      "text/plain": [
       "<Figure size 640x480 with 1 Axes>"
      ]
     },
     "metadata": {},
     "output_type": "display_data"
    }
   ],
   "source": [
    "plt.imshow(images_negerated[10])"
   ]
  }
 ],
 "metadata": {
  "kernelspec": {
   "display_name": "nlp",
   "language": "python",
   "name": "python3"
  },
  "language_info": {
   "codemirror_mode": {
    "name": "ipython",
    "version": 3
   },
   "file_extension": ".py",
   "mimetype": "text/x-python",
   "name": "python",
   "nbconvert_exporter": "python",
   "pygments_lexer": "ipython3",
   "version": "3.10.14"
  },
  "orig_nbformat": 4
 },
 "nbformat": 4,
 "nbformat_minor": 2
}
