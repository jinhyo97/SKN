{
  "cells": [
    {
      "cell_type": "markdown",
      "metadata": {},
      "source": [
        "# Scaling\n",
        "\n",
        "데이터의 scale을 일치시키는 작업\n",
        "\n",
        "> ex) 학습 데이터의 범위가 아래와 같다고 하자  \n",
        "> $X_1$: 0 ~ 1  \n",
        "> $X_2$: 100 ~ 1000  \n",
        "> $X_3$: 10000 ~ 100000  \n",
        "\n",
        "이 경우 모델은 $X_1$이나 $X_2$의 값이 크게 중요하지 않다고 생각할 수 있음\n",
        "\n",
        "<br>\n",
        "\n",
        "또한, 새로 들어오는 데이터가 아래와 같으며, 학습 데이터는 scale1과 같은 scale에서 학습됐다고 가정\n",
        "\n",
        "|scale|data|\n",
        "|-----|----|\n",
        "|1    |[1, 2, 3, 4, 5]|\n",
        "|2    |[10, 20, 30, 40, 50]|\n",
        "|3    |[100, 200, 300, 400, 500]|\n",
        "\n",
        "이 경우, 앞으로 들어올 test 데이터가 scale1의 범위를 갖으면 모델은 학습한 결과를 옳게 출력할 것  \n",
        "하지만, scale2나 scale3에 대해서는 모델이 이전에 학습한 적이 없음  \n",
        "따라서, 매우 저조한 퍼포먼스를 보이게 될 것\n",
        "\n",
        "하지만 scale2와 3은 각각 10과 100으로 나누어 scale1과 동일하게 scale을 맞출 수 있음\n",
        "이 경우, 모델은 올바르게 동작할 것\n",
        "\n",
        "이와 같이 generalization 측면에서의 목적에서도 scaling은 중요\n",
        "\n",
        "<br>\n",
        "\n",
        "<span style=\"font-size: 15pt;\"> 1. Normalization (정규화) </span>\n",
        "- feature의 최솟값을 0으로 최댓값을 1로 만드는 작업\n",
        "- 이상치에 매우 민감\n",
        "- Equation:\n",
        "\n",
        "$$ X_i^{\\prime} = \\frac {X_i -  X_{min}}{X_{max} - X_{min}}$$\n",
        "\n",
        "- sklearn의 MinMaxScaler 이용\n",
        "- 적용 방법\n",
        "\n",
        "    > ```python\n",
        "    > from sklearn.preprocessing import MinMaxScaler\n",
        "    > minmax_scaler = MinMaxScaler()\n",
        "    >\n",
        "    > minmax_scaler.fit(data)             # 주어진 data를 통해 표준화시키는 방법 학습\n",
        "    > minmax_scaler.transform(data)       # 학습된 object를 통해 data 표준화\n",
        "    >\n",
        "    > minmax_scaler.fit_transform(data)   # data를 표준화시키는 방법 학습과 동시에 주어진 data 표준화\n",
        "    > ```\n",
        "\n",
        "<br>\n",
        "\n",
        "<span style=\"font-size: 15pt;\"> 2. Standardization (표준화) </span>\n",
        "- feature의 평균을 0, 분산을 1로 스케일링하는 방법\n",
        "- 즉, 데이터의 분포를 표준정규분포로 만드는 작업\n",
        "- 이상치에 매우 민감\n",
        "- Equation:\n",
        "\n",
        "$$ X_i^{\\prime} = \\frac {X_i -  \\mu}{\\sigma}$$\n",
        "\n",
        "- sklearn의 StandardScaler 이용\n",
        "- 적용 방법\n",
        "\n",
        "    > ```python\n",
        "    > from sklearn.preprocessing import StandardScaler\n",
        "    > standard_scaler = StandardScaler()\n",
        "    >\n",
        "    > standard_scaler.fit(data)             # 주어진 data를 통해 표준화시키는 방법 학습\n",
        "    > standard_scaler.transform(data)       # 학습된 object를 통해 data 표준화\n",
        "    >\n",
        "    > standard_scaler.fit_transform(data)   # data를 표준화시키는 방법 학습과 동시에 주어진 data 표준화\n",
        "    > ```\n",
        "\n",
        "<br>\n",
        "\n",
        "<span style=\"font-size: 15pt;\"> 3. Robust Scaling </span>\n",
        "- 평균과 분산 대신 중간값과 사분위값을 사용하여 scaling\n",
        "    - 중간값: 데이터 정렬 후 중간에 있는 값\n",
        "    - 사분위값: 데이터 정렬 후 1/4, 3/4에 위치한 값\n",
        "- 이상치의 영향력 감소\n",
        "- Equation:\n",
        "\n",
        "$$ X_i^{\\prime} = \\frac {X_i -  X_{median}}{Q_3 - Q_1}$$\n",
        "\n",
        "- sklearn의 RobustScaler 이용\n",
        "- 적용 방법\n",
        "\n",
        "    > ```python\n",
        "    > from sklearn.preprocessing import RobustScaler\n",
        "    > robust_scaler = RobustScaler()\n",
        "    >\n",
        "    > robust_scaler.fit(data)             # 주어진 data를 통해 표준화시키는 방법 학습\n",
        "    > robust_scaler.transform(data)       # 학습된 object를 통해 data 표준화\n",
        "    >\n",
        "    > robust_scaler.fit_transform(data)   # data를 표준화시키는 방법 학습과 동시에 주어진 data 표준화\n",
        "    > ```\n",
        "\n",
        "<br>\n",
        "\n",
        "![](https://miro.medium.com/v2/resize:fit:720/format:webp/1*y0esOCH8O2NV1c_8iY3ouA.png)"
      ]
    },
    {
      "cell_type": "code",
      "execution_count": 144,
      "metadata": {},
      "outputs": [],
      "source": [
        "import pandas as pd\n",
        "import numpy as np\n",
        "from sklearn.preprocessing import MinMaxScaler\n",
        "import matplotlib.pyplot as plt\n",
        "import seaborn as sns\n",
        "import plotly.express as px"
      ]
    },
    {
      "cell_type": "code",
      "execution_count": 123,
      "metadata": {},
      "outputs": [],
      "source": [
        "plt.rcParams['font.family'] = 'Malgun Gothic'"
      ]
    },
    {
      "cell_type": "code",
      "execution_count": 23,
      "metadata": {},
      "outputs": [],
      "source": [
        "data = pd.read_csv(\n",
        "    './data/국민건강보험공단_건강검진정보_2023.CSV',\n",
        "    encoding='cp949',\n",
        "    usecols=['신장(5cm단위)', '허리둘레', '혈청지피티(ALT)', '감마지티피'],\n",
        ")"
      ]
    },
    {
      "cell_type": "code",
      "execution_count": 24,
      "metadata": {},
      "outputs": [],
      "source": [
        "data = data.dropna()"
      ]
    },
    {
      "cell_type": "markdown",
      "metadata": {},
      "source": [
        "scaler에 사용할 min, max값 학습"
      ]
    },
    {
      "cell_type": "code",
      "execution_count": 14,
      "metadata": {},
      "outputs": [],
      "source": [
        "min_max_scaler = MinMaxScaler()"
      ]
    },
    {
      "cell_type": "code",
      "execution_count": 16,
      "metadata": {},
      "outputs": [
        {
          "data": {
            "text/plain": [
              "{'feature_range': (0, 1), 'copy': True, 'clip': False}"
            ]
          },
          "execution_count": 16,
          "metadata": {},
          "output_type": "execute_result"
        }
      ],
      "source": [
        "min_max_scaler.__dict__"
      ]
    },
    {
      "cell_type": "code",
      "execution_count": 17,
      "metadata": {},
      "outputs": [
        {
          "data": {
            "text/html": [
              "<style>#sk-container-id-2 {\n",
              "  /* Definition of color scheme common for light and dark mode */\n",
              "  --sklearn-color-text: black;\n",
              "  --sklearn-color-line: gray;\n",
              "  /* Definition of color scheme for unfitted estimators */\n",
              "  --sklearn-color-unfitted-level-0: #fff5e6;\n",
              "  --sklearn-color-unfitted-level-1: #f6e4d2;\n",
              "  --sklearn-color-unfitted-level-2: #ffe0b3;\n",
              "  --sklearn-color-unfitted-level-3: chocolate;\n",
              "  /* Definition of color scheme for fitted estimators */\n",
              "  --sklearn-color-fitted-level-0: #f0f8ff;\n",
              "  --sklearn-color-fitted-level-1: #d4ebff;\n",
              "  --sklearn-color-fitted-level-2: #b3dbfd;\n",
              "  --sklearn-color-fitted-level-3: cornflowerblue;\n",
              "\n",
              "  /* Specific color for light theme */\n",
              "  --sklearn-color-text-on-default-background: var(--sg-text-color, var(--theme-code-foreground, var(--jp-content-font-color1, black)));\n",
              "  --sklearn-color-background: var(--sg-background-color, var(--theme-background, var(--jp-layout-color0, white)));\n",
              "  --sklearn-color-border-box: var(--sg-text-color, var(--theme-code-foreground, var(--jp-content-font-color1, black)));\n",
              "  --sklearn-color-icon: #696969;\n",
              "\n",
              "  @media (prefers-color-scheme: dark) {\n",
              "    /* Redefinition of color scheme for dark theme */\n",
              "    --sklearn-color-text-on-default-background: var(--sg-text-color, var(--theme-code-foreground, var(--jp-content-font-color1, white)));\n",
              "    --sklearn-color-background: var(--sg-background-color, var(--theme-background, var(--jp-layout-color0, #111)));\n",
              "    --sklearn-color-border-box: var(--sg-text-color, var(--theme-code-foreground, var(--jp-content-font-color1, white)));\n",
              "    --sklearn-color-icon: #878787;\n",
              "  }\n",
              "}\n",
              "\n",
              "#sk-container-id-2 {\n",
              "  color: var(--sklearn-color-text);\n",
              "}\n",
              "\n",
              "#sk-container-id-2 pre {\n",
              "  padding: 0;\n",
              "}\n",
              "\n",
              "#sk-container-id-2 input.sk-hidden--visually {\n",
              "  border: 0;\n",
              "  clip: rect(1px 1px 1px 1px);\n",
              "  clip: rect(1px, 1px, 1px, 1px);\n",
              "  height: 1px;\n",
              "  margin: -1px;\n",
              "  overflow: hidden;\n",
              "  padding: 0;\n",
              "  position: absolute;\n",
              "  width: 1px;\n",
              "}\n",
              "\n",
              "#sk-container-id-2 div.sk-dashed-wrapped {\n",
              "  border: 1px dashed var(--sklearn-color-line);\n",
              "  margin: 0 0.4em 0.5em 0.4em;\n",
              "  box-sizing: border-box;\n",
              "  padding-bottom: 0.4em;\n",
              "  background-color: var(--sklearn-color-background);\n",
              "}\n",
              "\n",
              "#sk-container-id-2 div.sk-container {\n",
              "  /* jupyter's `normalize.less` sets `[hidden] { display: none; }`\n",
              "     but bootstrap.min.css set `[hidden] { display: none !important; }`\n",
              "     so we also need the `!important` here to be able to override the\n",
              "     default hidden behavior on the sphinx rendered scikit-learn.org.\n",
              "     See: https://github.com/scikit-learn/scikit-learn/issues/21755 */\n",
              "  display: inline-block !important;\n",
              "  position: relative;\n",
              "}\n",
              "\n",
              "#sk-container-id-2 div.sk-text-repr-fallback {\n",
              "  display: none;\n",
              "}\n",
              "\n",
              "div.sk-parallel-item,\n",
              "div.sk-serial,\n",
              "div.sk-item {\n",
              "  /* draw centered vertical line to link estimators */\n",
              "  background-image: linear-gradient(var(--sklearn-color-text-on-default-background), var(--sklearn-color-text-on-default-background));\n",
              "  background-size: 2px 100%;\n",
              "  background-repeat: no-repeat;\n",
              "  background-position: center center;\n",
              "}\n",
              "\n",
              "/* Parallel-specific style estimator block */\n",
              "\n",
              "#sk-container-id-2 div.sk-parallel-item::after {\n",
              "  content: \"\";\n",
              "  width: 100%;\n",
              "  border-bottom: 2px solid var(--sklearn-color-text-on-default-background);\n",
              "  flex-grow: 1;\n",
              "}\n",
              "\n",
              "#sk-container-id-2 div.sk-parallel {\n",
              "  display: flex;\n",
              "  align-items: stretch;\n",
              "  justify-content: center;\n",
              "  background-color: var(--sklearn-color-background);\n",
              "  position: relative;\n",
              "}\n",
              "\n",
              "#sk-container-id-2 div.sk-parallel-item {\n",
              "  display: flex;\n",
              "  flex-direction: column;\n",
              "}\n",
              "\n",
              "#sk-container-id-2 div.sk-parallel-item:first-child::after {\n",
              "  align-self: flex-end;\n",
              "  width: 50%;\n",
              "}\n",
              "\n",
              "#sk-container-id-2 div.sk-parallel-item:last-child::after {\n",
              "  align-self: flex-start;\n",
              "  width: 50%;\n",
              "}\n",
              "\n",
              "#sk-container-id-2 div.sk-parallel-item:only-child::after {\n",
              "  width: 0;\n",
              "}\n",
              "\n",
              "/* Serial-specific style estimator block */\n",
              "\n",
              "#sk-container-id-2 div.sk-serial {\n",
              "  display: flex;\n",
              "  flex-direction: column;\n",
              "  align-items: center;\n",
              "  background-color: var(--sklearn-color-background);\n",
              "  padding-right: 1em;\n",
              "  padding-left: 1em;\n",
              "}\n",
              "\n",
              "\n",
              "/* Toggleable style: style used for estimator/Pipeline/ColumnTransformer box that is\n",
              "clickable and can be expanded/collapsed.\n",
              "- Pipeline and ColumnTransformer use this feature and define the default style\n",
              "- Estimators will overwrite some part of the style using the `sk-estimator` class\n",
              "*/\n",
              "\n",
              "/* Pipeline and ColumnTransformer style (default) */\n",
              "\n",
              "#sk-container-id-2 div.sk-toggleable {\n",
              "  /* Default theme specific background. It is overwritten whether we have a\n",
              "  specific estimator or a Pipeline/ColumnTransformer */\n",
              "  background-color: var(--sklearn-color-background);\n",
              "}\n",
              "\n",
              "/* Toggleable label */\n",
              "#sk-container-id-2 label.sk-toggleable__label {\n",
              "  cursor: pointer;\n",
              "  display: block;\n",
              "  width: 100%;\n",
              "  margin-bottom: 0;\n",
              "  padding: 0.5em;\n",
              "  box-sizing: border-box;\n",
              "  text-align: center;\n",
              "}\n",
              "\n",
              "#sk-container-id-2 label.sk-toggleable__label-arrow:before {\n",
              "  /* Arrow on the left of the label */\n",
              "  content: \"▸\";\n",
              "  float: left;\n",
              "  margin-right: 0.25em;\n",
              "  color: var(--sklearn-color-icon);\n",
              "}\n",
              "\n",
              "#sk-container-id-2 label.sk-toggleable__label-arrow:hover:before {\n",
              "  color: var(--sklearn-color-text);\n",
              "}\n",
              "\n",
              "/* Toggleable content - dropdown */\n",
              "\n",
              "#sk-container-id-2 div.sk-toggleable__content {\n",
              "  max-height: 0;\n",
              "  max-width: 0;\n",
              "  overflow: hidden;\n",
              "  text-align: left;\n",
              "  /* unfitted */\n",
              "  background-color: var(--sklearn-color-unfitted-level-0);\n",
              "}\n",
              "\n",
              "#sk-container-id-2 div.sk-toggleable__content.fitted {\n",
              "  /* fitted */\n",
              "  background-color: var(--sklearn-color-fitted-level-0);\n",
              "}\n",
              "\n",
              "#sk-container-id-2 div.sk-toggleable__content pre {\n",
              "  margin: 0.2em;\n",
              "  border-radius: 0.25em;\n",
              "  color: var(--sklearn-color-text);\n",
              "  /* unfitted */\n",
              "  background-color: var(--sklearn-color-unfitted-level-0);\n",
              "}\n",
              "\n",
              "#sk-container-id-2 div.sk-toggleable__content.fitted pre {\n",
              "  /* unfitted */\n",
              "  background-color: var(--sklearn-color-fitted-level-0);\n",
              "}\n",
              "\n",
              "#sk-container-id-2 input.sk-toggleable__control:checked~div.sk-toggleable__content {\n",
              "  /* Expand drop-down */\n",
              "  max-height: 200px;\n",
              "  max-width: 100%;\n",
              "  overflow: auto;\n",
              "}\n",
              "\n",
              "#sk-container-id-2 input.sk-toggleable__control:checked~label.sk-toggleable__label-arrow:before {\n",
              "  content: \"▾\";\n",
              "}\n",
              "\n",
              "/* Pipeline/ColumnTransformer-specific style */\n",
              "\n",
              "#sk-container-id-2 div.sk-label input.sk-toggleable__control:checked~label.sk-toggleable__label {\n",
              "  color: var(--sklearn-color-text);\n",
              "  background-color: var(--sklearn-color-unfitted-level-2);\n",
              "}\n",
              "\n",
              "#sk-container-id-2 div.sk-label.fitted input.sk-toggleable__control:checked~label.sk-toggleable__label {\n",
              "  background-color: var(--sklearn-color-fitted-level-2);\n",
              "}\n",
              "\n",
              "/* Estimator-specific style */\n",
              "\n",
              "/* Colorize estimator box */\n",
              "#sk-container-id-2 div.sk-estimator input.sk-toggleable__control:checked~label.sk-toggleable__label {\n",
              "  /* unfitted */\n",
              "  background-color: var(--sklearn-color-unfitted-level-2);\n",
              "}\n",
              "\n",
              "#sk-container-id-2 div.sk-estimator.fitted input.sk-toggleable__control:checked~label.sk-toggleable__label {\n",
              "  /* fitted */\n",
              "  background-color: var(--sklearn-color-fitted-level-2);\n",
              "}\n",
              "\n",
              "#sk-container-id-2 div.sk-label label.sk-toggleable__label,\n",
              "#sk-container-id-2 div.sk-label label {\n",
              "  /* The background is the default theme color */\n",
              "  color: var(--sklearn-color-text-on-default-background);\n",
              "}\n",
              "\n",
              "/* On hover, darken the color of the background */\n",
              "#sk-container-id-2 div.sk-label:hover label.sk-toggleable__label {\n",
              "  color: var(--sklearn-color-text);\n",
              "  background-color: var(--sklearn-color-unfitted-level-2);\n",
              "}\n",
              "\n",
              "/* Label box, darken color on hover, fitted */\n",
              "#sk-container-id-2 div.sk-label.fitted:hover label.sk-toggleable__label.fitted {\n",
              "  color: var(--sklearn-color-text);\n",
              "  background-color: var(--sklearn-color-fitted-level-2);\n",
              "}\n",
              "\n",
              "/* Estimator label */\n",
              "\n",
              "#sk-container-id-2 div.sk-label label {\n",
              "  font-family: monospace;\n",
              "  font-weight: bold;\n",
              "  display: inline-block;\n",
              "  line-height: 1.2em;\n",
              "}\n",
              "\n",
              "#sk-container-id-2 div.sk-label-container {\n",
              "  text-align: center;\n",
              "}\n",
              "\n",
              "/* Estimator-specific */\n",
              "#sk-container-id-2 div.sk-estimator {\n",
              "  font-family: monospace;\n",
              "  border: 1px dotted var(--sklearn-color-border-box);\n",
              "  border-radius: 0.25em;\n",
              "  box-sizing: border-box;\n",
              "  margin-bottom: 0.5em;\n",
              "  /* unfitted */\n",
              "  background-color: var(--sklearn-color-unfitted-level-0);\n",
              "}\n",
              "\n",
              "#sk-container-id-2 div.sk-estimator.fitted {\n",
              "  /* fitted */\n",
              "  background-color: var(--sklearn-color-fitted-level-0);\n",
              "}\n",
              "\n",
              "/* on hover */\n",
              "#sk-container-id-2 div.sk-estimator:hover {\n",
              "  /* unfitted */\n",
              "  background-color: var(--sklearn-color-unfitted-level-2);\n",
              "}\n",
              "\n",
              "#sk-container-id-2 div.sk-estimator.fitted:hover {\n",
              "  /* fitted */\n",
              "  background-color: var(--sklearn-color-fitted-level-2);\n",
              "}\n",
              "\n",
              "/* Specification for estimator info (e.g. \"i\" and \"?\") */\n",
              "\n",
              "/* Common style for \"i\" and \"?\" */\n",
              "\n",
              ".sk-estimator-doc-link,\n",
              "a:link.sk-estimator-doc-link,\n",
              "a:visited.sk-estimator-doc-link {\n",
              "  float: right;\n",
              "  font-size: smaller;\n",
              "  line-height: 1em;\n",
              "  font-family: monospace;\n",
              "  background-color: var(--sklearn-color-background);\n",
              "  border-radius: 1em;\n",
              "  height: 1em;\n",
              "  width: 1em;\n",
              "  text-decoration: none !important;\n",
              "  margin-left: 1ex;\n",
              "  /* unfitted */\n",
              "  border: var(--sklearn-color-unfitted-level-1) 1pt solid;\n",
              "  color: var(--sklearn-color-unfitted-level-1);\n",
              "}\n",
              "\n",
              ".sk-estimator-doc-link.fitted,\n",
              "a:link.sk-estimator-doc-link.fitted,\n",
              "a:visited.sk-estimator-doc-link.fitted {\n",
              "  /* fitted */\n",
              "  border: var(--sklearn-color-fitted-level-1) 1pt solid;\n",
              "  color: var(--sklearn-color-fitted-level-1);\n",
              "}\n",
              "\n",
              "/* On hover */\n",
              "div.sk-estimator:hover .sk-estimator-doc-link:hover,\n",
              ".sk-estimator-doc-link:hover,\n",
              "div.sk-label-container:hover .sk-estimator-doc-link:hover,\n",
              ".sk-estimator-doc-link:hover {\n",
              "  /* unfitted */\n",
              "  background-color: var(--sklearn-color-unfitted-level-3);\n",
              "  color: var(--sklearn-color-background);\n",
              "  text-decoration: none;\n",
              "}\n",
              "\n",
              "div.sk-estimator.fitted:hover .sk-estimator-doc-link.fitted:hover,\n",
              ".sk-estimator-doc-link.fitted:hover,\n",
              "div.sk-label-container:hover .sk-estimator-doc-link.fitted:hover,\n",
              ".sk-estimator-doc-link.fitted:hover {\n",
              "  /* fitted */\n",
              "  background-color: var(--sklearn-color-fitted-level-3);\n",
              "  color: var(--sklearn-color-background);\n",
              "  text-decoration: none;\n",
              "}\n",
              "\n",
              "/* Span, style for the box shown on hovering the info icon */\n",
              ".sk-estimator-doc-link span {\n",
              "  display: none;\n",
              "  z-index: 9999;\n",
              "  position: relative;\n",
              "  font-weight: normal;\n",
              "  right: .2ex;\n",
              "  padding: .5ex;\n",
              "  margin: .5ex;\n",
              "  width: min-content;\n",
              "  min-width: 20ex;\n",
              "  max-width: 50ex;\n",
              "  color: var(--sklearn-color-text);\n",
              "  box-shadow: 2pt 2pt 4pt #999;\n",
              "  /* unfitted */\n",
              "  background: var(--sklearn-color-unfitted-level-0);\n",
              "  border: .5pt solid var(--sklearn-color-unfitted-level-3);\n",
              "}\n",
              "\n",
              ".sk-estimator-doc-link.fitted span {\n",
              "  /* fitted */\n",
              "  background: var(--sklearn-color-fitted-level-0);\n",
              "  border: var(--sklearn-color-fitted-level-3);\n",
              "}\n",
              "\n",
              ".sk-estimator-doc-link:hover span {\n",
              "  display: block;\n",
              "}\n",
              "\n",
              "/* \"?\"-specific style due to the `<a>` HTML tag */\n",
              "\n",
              "#sk-container-id-2 a.estimator_doc_link {\n",
              "  float: right;\n",
              "  font-size: 1rem;\n",
              "  line-height: 1em;\n",
              "  font-family: monospace;\n",
              "  background-color: var(--sklearn-color-background);\n",
              "  border-radius: 1rem;\n",
              "  height: 1rem;\n",
              "  width: 1rem;\n",
              "  text-decoration: none;\n",
              "  /* unfitted */\n",
              "  color: var(--sklearn-color-unfitted-level-1);\n",
              "  border: var(--sklearn-color-unfitted-level-1) 1pt solid;\n",
              "}\n",
              "\n",
              "#sk-container-id-2 a.estimator_doc_link.fitted {\n",
              "  /* fitted */\n",
              "  border: var(--sklearn-color-fitted-level-1) 1pt solid;\n",
              "  color: var(--sklearn-color-fitted-level-1);\n",
              "}\n",
              "\n",
              "/* On hover */\n",
              "#sk-container-id-2 a.estimator_doc_link:hover {\n",
              "  /* unfitted */\n",
              "  background-color: var(--sklearn-color-unfitted-level-3);\n",
              "  color: var(--sklearn-color-background);\n",
              "  text-decoration: none;\n",
              "}\n",
              "\n",
              "#sk-container-id-2 a.estimator_doc_link.fitted:hover {\n",
              "  /* fitted */\n",
              "  background-color: var(--sklearn-color-fitted-level-3);\n",
              "}\n",
              "</style><div id=\"sk-container-id-2\" class=\"sk-top-container\"><div class=\"sk-text-repr-fallback\"><pre>MinMaxScaler()</pre><b>In a Jupyter environment, please rerun this cell to show the HTML representation or trust the notebook. <br />On GitHub, the HTML representation is unable to render, please try loading this page with nbviewer.org.</b></div><div class=\"sk-container\" hidden><div class=\"sk-item\"><div class=\"sk-estimator fitted sk-toggleable\"><input class=\"sk-toggleable__control sk-hidden--visually\" id=\"sk-estimator-id-2\" type=\"checkbox\" checked><label for=\"sk-estimator-id-2\" class=\"sk-toggleable__label fitted sk-toggleable__label-arrow fitted\">&nbsp;&nbsp;MinMaxScaler<a class=\"sk-estimator-doc-link fitted\" rel=\"noreferrer\" target=\"_blank\" href=\"https://scikit-learn.org/1.4/modules/generated/sklearn.preprocessing.MinMaxScaler.html\">?<span>Documentation for MinMaxScaler</span></a><span class=\"sk-estimator-doc-link fitted\">i<span>Fitted</span></span></label><div class=\"sk-toggleable__content fitted\"><pre>MinMaxScaler()</pre></div> </div></div></div></div>"
            ],
            "text/plain": [
              "MinMaxScaler()"
            ]
          },
          "execution_count": 17,
          "metadata": {},
          "output_type": "execute_result"
        }
      ],
      "source": [
        "min_max_scaler.fit(data)"
      ]
    },
    {
      "cell_type": "code",
      "execution_count": 18,
      "metadata": {},
      "outputs": [
        {
          "data": {
            "text/plain": [
              "{'feature_range': (0, 1),\n",
              " 'copy': True,\n",
              " 'clip': False,\n",
              " 'feature_names_in_': array(['신장(5cm단위)', '허리둘레', '혈청지피티(ALT)', '감마지티피'], dtype=object),\n",
              " 'n_features_in_': 4,\n",
              " 'n_samples_seen_': 993774,\n",
              " 'scale_': array([0.01538462, 0.00100857, 0.00015883, 0.00010002]),\n",
              " 'min_': array([-2.00000000e+00, -7.56429652e-03, -1.58831004e-04, -1.00020004e-04]),\n",
              " 'data_min_': array([130. ,   7.5,   1. ,   1. ]),\n",
              " 'data_max_': array([ 195.,  999., 6297., 9999.]),\n",
              " 'data_range_': array([  65. ,  991.5, 6296. , 9998. ])}"
            ]
          },
          "execution_count": 18,
          "metadata": {},
          "output_type": "execute_result"
        }
      ],
      "source": [
        "min_max_scaler.__dict__"
      ]
    },
    {
      "cell_type": "markdown",
      "metadata": {},
      "source": [
        "scaler 적용"
      ]
    },
    {
      "cell_type": "code",
      "execution_count": 26,
      "metadata": {},
      "outputs": [
        {
          "name": "stderr",
          "output_type": "stream",
          "text": [
            "C:\\Users\\USER\\AppData\\Local\\Temp\\ipykernel_9084\\2137108129.py:1: FutureWarning: Setting an item of incompatible dtype is deprecated and will raise in a future error of pandas. Value '[0.38461538 0.46153846 0.30769231 ... 0.38461538 0.46153846 0.46153846]' has dtype incompatible with int64, please explicitly cast to a compatible dtype first.\n",
            "  data.loc[:] = min_max_scaler.transform(data)\n"
          ]
        }
      ],
      "source": [
        "data.loc[:] = min_max_scaler.transform(data)"
      ]
    },
    {
      "cell_type": "code",
      "execution_count": 27,
      "metadata": {},
      "outputs": [
        {
          "data": {
            "text/html": [
              "<div>\n",
              "<style scoped>\n",
              "    .dataframe tbody tr th:only-of-type {\n",
              "        vertical-align: middle;\n",
              "    }\n",
              "\n",
              "    .dataframe tbody tr th {\n",
              "        vertical-align: top;\n",
              "    }\n",
              "\n",
              "    .dataframe thead th {\n",
              "        text-align: right;\n",
              "    }\n",
              "</style>\n",
              "<table border=\"1\" class=\"dataframe\">\n",
              "  <thead>\n",
              "    <tr style=\"text-align: right;\">\n",
              "      <th></th>\n",
              "      <th>신장(5cm단위)</th>\n",
              "      <th>허리둘레</th>\n",
              "      <th>혈청지피티(ALT)</th>\n",
              "      <th>감마지티피</th>\n",
              "    </tr>\n",
              "  </thead>\n",
              "  <tbody>\n",
              "    <tr>\n",
              "      <th>0</th>\n",
              "      <td>0.384615</td>\n",
              "      <td>0.085224</td>\n",
              "      <td>0.003653</td>\n",
              "      <td>0.004901</td>\n",
              "    </tr>\n",
              "    <tr>\n",
              "      <th>1</th>\n",
              "      <td>0.461538</td>\n",
              "      <td>0.079173</td>\n",
              "      <td>0.001588</td>\n",
              "      <td>0.003001</td>\n",
              "    </tr>\n",
              "    <tr>\n",
              "      <th>2</th>\n",
              "      <td>0.307692</td>\n",
              "      <td>0.089259</td>\n",
              "      <td>0.004447</td>\n",
              "      <td>0.002300</td>\n",
              "    </tr>\n",
              "    <tr>\n",
              "      <th>3</th>\n",
              "      <td>0.461538</td>\n",
              "      <td>0.078164</td>\n",
              "      <td>0.003177</td>\n",
              "      <td>0.002601</td>\n",
              "    </tr>\n",
              "    <tr>\n",
              "      <th>4</th>\n",
              "      <td>0.538462</td>\n",
              "      <td>0.077660</td>\n",
              "      <td>0.005083</td>\n",
              "      <td>0.004801</td>\n",
              "    </tr>\n",
              "    <tr>\n",
              "      <th>...</th>\n",
              "      <td>...</td>\n",
              "      <td>...</td>\n",
              "      <td>...</td>\n",
              "      <td>...</td>\n",
              "    </tr>\n",
              "    <tr>\n",
              "      <th>999995</th>\n",
              "      <td>0.615385</td>\n",
              "      <td>0.071104</td>\n",
              "      <td>0.001906</td>\n",
              "      <td>0.002100</td>\n",
              "    </tr>\n",
              "    <tr>\n",
              "      <th>999996</th>\n",
              "      <td>0.538462</td>\n",
              "      <td>0.089360</td>\n",
              "      <td>0.010165</td>\n",
              "      <td>0.015903</td>\n",
              "    </tr>\n",
              "    <tr>\n",
              "      <th>999997</th>\n",
              "      <td>0.384615</td>\n",
              "      <td>0.080182</td>\n",
              "      <td>0.003971</td>\n",
              "      <td>0.002400</td>\n",
              "    </tr>\n",
              "    <tr>\n",
              "      <th>999998</th>\n",
              "      <td>0.461538</td>\n",
              "      <td>0.062027</td>\n",
              "      <td>0.003018</td>\n",
              "      <td>0.001500</td>\n",
              "    </tr>\n",
              "    <tr>\n",
              "      <th>999999</th>\n",
              "      <td>0.461538</td>\n",
              "      <td>0.068079</td>\n",
              "      <td>0.003177</td>\n",
              "      <td>0.003301</td>\n",
              "    </tr>\n",
              "  </tbody>\n",
              "</table>\n",
              "<p>993774 rows × 4 columns</p>\n",
              "</div>"
            ],
            "text/plain": [
              "        신장(5cm단위)      허리둘레  혈청지피티(ALT)     감마지티피\n",
              "0        0.384615  0.085224    0.003653  0.004901\n",
              "1        0.461538  0.079173    0.001588  0.003001\n",
              "2        0.307692  0.089259    0.004447  0.002300\n",
              "3        0.461538  0.078164    0.003177  0.002601\n",
              "4        0.538462  0.077660    0.005083  0.004801\n",
              "...           ...       ...         ...       ...\n",
              "999995   0.615385  0.071104    0.001906  0.002100\n",
              "999996   0.538462  0.089360    0.010165  0.015903\n",
              "999997   0.384615  0.080182    0.003971  0.002400\n",
              "999998   0.461538  0.062027    0.003018  0.001500\n",
              "999999   0.461538  0.068079    0.003177  0.003301\n",
              "\n",
              "[993774 rows x 4 columns]"
            ]
          },
          "execution_count": 27,
          "metadata": {},
          "output_type": "execute_result"
        }
      ],
      "source": [
        "data"
      ]
    },
    {
      "cell_type": "markdown",
      "metadata": {},
      "source": [
        "scaling된 데이터의 역변환"
      ]
    },
    {
      "cell_type": "code",
      "execution_count": 29,
      "metadata": {},
      "outputs": [],
      "source": [
        "data.loc[:] = min_max_scaler.inverse_transform(data)"
      ]
    },
    {
      "cell_type": "code",
      "execution_count": 32,
      "metadata": {},
      "outputs": [
        {
          "data": {
            "text/html": [
              "<div>\n",
              "<style scoped>\n",
              "    .dataframe tbody tr th:only-of-type {\n",
              "        vertical-align: middle;\n",
              "    }\n",
              "\n",
              "    .dataframe tbody tr th {\n",
              "        vertical-align: top;\n",
              "    }\n",
              "\n",
              "    .dataframe thead th {\n",
              "        text-align: right;\n",
              "    }\n",
              "</style>\n",
              "<table border=\"1\" class=\"dataframe\">\n",
              "  <thead>\n",
              "    <tr style=\"text-align: right;\">\n",
              "      <th></th>\n",
              "      <th>신장(5cm단위)</th>\n",
              "      <th>허리둘레</th>\n",
              "      <th>혈청지피티(ALT)</th>\n",
              "      <th>감마지티피</th>\n",
              "    </tr>\n",
              "  </thead>\n",
              "  <tbody>\n",
              "    <tr>\n",
              "      <th>0</th>\n",
              "      <td>155.0</td>\n",
              "      <td>92.0</td>\n",
              "      <td>24.0</td>\n",
              "      <td>50.0</td>\n",
              "    </tr>\n",
              "    <tr>\n",
              "      <th>1</th>\n",
              "      <td>160.0</td>\n",
              "      <td>86.0</td>\n",
              "      <td>11.0</td>\n",
              "      <td>31.0</td>\n",
              "    </tr>\n",
              "    <tr>\n",
              "      <th>2</th>\n",
              "      <td>150.0</td>\n",
              "      <td>96.0</td>\n",
              "      <td>29.0</td>\n",
              "      <td>24.0</td>\n",
              "    </tr>\n",
              "    <tr>\n",
              "      <th>3</th>\n",
              "      <td>160.0</td>\n",
              "      <td>85.0</td>\n",
              "      <td>21.0</td>\n",
              "      <td>27.0</td>\n",
              "    </tr>\n",
              "    <tr>\n",
              "      <th>4</th>\n",
              "      <td>165.0</td>\n",
              "      <td>84.5</td>\n",
              "      <td>33.0</td>\n",
              "      <td>49.0</td>\n",
              "    </tr>\n",
              "    <tr>\n",
              "      <th>...</th>\n",
              "      <td>...</td>\n",
              "      <td>...</td>\n",
              "      <td>...</td>\n",
              "      <td>...</td>\n",
              "    </tr>\n",
              "    <tr>\n",
              "      <th>999995</th>\n",
              "      <td>170.0</td>\n",
              "      <td>78.0</td>\n",
              "      <td>13.0</td>\n",
              "      <td>22.0</td>\n",
              "    </tr>\n",
              "    <tr>\n",
              "      <th>999996</th>\n",
              "      <td>165.0</td>\n",
              "      <td>96.1</td>\n",
              "      <td>65.0</td>\n",
              "      <td>160.0</td>\n",
              "    </tr>\n",
              "    <tr>\n",
              "      <th>999997</th>\n",
              "      <td>155.0</td>\n",
              "      <td>87.0</td>\n",
              "      <td>26.0</td>\n",
              "      <td>25.0</td>\n",
              "    </tr>\n",
              "    <tr>\n",
              "      <th>999998</th>\n",
              "      <td>160.0</td>\n",
              "      <td>69.0</td>\n",
              "      <td>20.0</td>\n",
              "      <td>16.0</td>\n",
              "    </tr>\n",
              "    <tr>\n",
              "      <th>999999</th>\n",
              "      <td>160.0</td>\n",
              "      <td>75.0</td>\n",
              "      <td>21.0</td>\n",
              "      <td>34.0</td>\n",
              "    </tr>\n",
              "  </tbody>\n",
              "</table>\n",
              "<p>993774 rows × 4 columns</p>\n",
              "</div>"
            ],
            "text/plain": [
              "        신장(5cm단위)  허리둘레  혈청지피티(ALT)  감마지티피\n",
              "0           155.0  92.0        24.0   50.0\n",
              "1           160.0  86.0        11.0   31.0\n",
              "2           150.0  96.0        29.0   24.0\n",
              "3           160.0  85.0        21.0   27.0\n",
              "4           165.0  84.5        33.0   49.0\n",
              "...           ...   ...         ...    ...\n",
              "999995      170.0  78.0        13.0   22.0\n",
              "999996      165.0  96.1        65.0  160.0\n",
              "999997      155.0  87.0        26.0   25.0\n",
              "999998      160.0  69.0        20.0   16.0\n",
              "999999      160.0  75.0        21.0   34.0\n",
              "\n",
              "[993774 rows x 4 columns]"
            ]
          },
          "execution_count": 32,
          "metadata": {},
          "output_type": "execute_result"
        }
      ],
      "source": [
        "data"
      ]
    },
    {
      "cell_type": "markdown",
      "metadata": {},
      "source": [
        "학습된 변수 외에 새로운 변수가 들어올 시 에러"
      ]
    },
    {
      "cell_type": "code",
      "execution_count": 34,
      "metadata": {},
      "outputs": [],
      "source": [
        "data['a'] = 1"
      ]
    },
    {
      "cell_type": "code",
      "execution_count": 36,
      "metadata": {},
      "outputs": [
        {
          "ename": "ValueError",
          "evalue": "The feature names should match those that were passed during fit.\nFeature names unseen at fit time:\n- a\n",
          "output_type": "error",
          "traceback": [
            "\u001b[1;31m---------------------------------------------------------------------------\u001b[0m",
            "\u001b[1;31mValueError\u001b[0m                                Traceback (most recent call last)",
            "Cell \u001b[1;32mIn[36], line 1\u001b[0m\n\u001b[1;32m----> 1\u001b[0m min_max_scaler\u001b[38;5;241m.\u001b[39mtransform(data)\n",
            "File \u001b[1;32mc:\\ProgramData\\anaconda3\\Lib\\site-packages\\sklearn\\utils\\_set_output.py:295\u001b[0m, in \u001b[0;36m_wrap_method_output.<locals>.wrapped\u001b[1;34m(self, X, *args, **kwargs)\u001b[0m\n\u001b[0;32m    293\u001b[0m \u001b[38;5;129m@wraps\u001b[39m(f)\n\u001b[0;32m    294\u001b[0m \u001b[38;5;28;01mdef\u001b[39;00m \u001b[38;5;21mwrapped\u001b[39m(\u001b[38;5;28mself\u001b[39m, X, \u001b[38;5;241m*\u001b[39margs, \u001b[38;5;241m*\u001b[39m\u001b[38;5;241m*\u001b[39mkwargs):\n\u001b[1;32m--> 295\u001b[0m     data_to_wrap \u001b[38;5;241m=\u001b[39m f(\u001b[38;5;28mself\u001b[39m, X, \u001b[38;5;241m*\u001b[39margs, \u001b[38;5;241m*\u001b[39m\u001b[38;5;241m*\u001b[39mkwargs)\n\u001b[0;32m    296\u001b[0m     \u001b[38;5;28;01mif\u001b[39;00m \u001b[38;5;28misinstance\u001b[39m(data_to_wrap, \u001b[38;5;28mtuple\u001b[39m):\n\u001b[0;32m    297\u001b[0m         \u001b[38;5;66;03m# only wrap the first output for cross decomposition\u001b[39;00m\n\u001b[0;32m    298\u001b[0m         return_tuple \u001b[38;5;241m=\u001b[39m (\n\u001b[0;32m    299\u001b[0m             _wrap_data_with_container(method, data_to_wrap[\u001b[38;5;241m0\u001b[39m], X, \u001b[38;5;28mself\u001b[39m),\n\u001b[0;32m    300\u001b[0m             \u001b[38;5;241m*\u001b[39mdata_to_wrap[\u001b[38;5;241m1\u001b[39m:],\n\u001b[0;32m    301\u001b[0m         )\n",
            "File \u001b[1;32mc:\\ProgramData\\anaconda3\\Lib\\site-packages\\sklearn\\preprocessing\\_data.py:534\u001b[0m, in \u001b[0;36mMinMaxScaler.transform\u001b[1;34m(self, X)\u001b[0m\n\u001b[0;32m    530\u001b[0m check_is_fitted(\u001b[38;5;28mself\u001b[39m)\n\u001b[0;32m    532\u001b[0m xp, _ \u001b[38;5;241m=\u001b[39m get_namespace(X)\n\u001b[1;32m--> 534\u001b[0m X \u001b[38;5;241m=\u001b[39m \u001b[38;5;28mself\u001b[39m\u001b[38;5;241m.\u001b[39m_validate_data(\n\u001b[0;32m    535\u001b[0m     X,\n\u001b[0;32m    536\u001b[0m     copy\u001b[38;5;241m=\u001b[39m\u001b[38;5;28mself\u001b[39m\u001b[38;5;241m.\u001b[39mcopy,\n\u001b[0;32m    537\u001b[0m     dtype\u001b[38;5;241m=\u001b[39m_array_api\u001b[38;5;241m.\u001b[39msupported_float_dtypes(xp),\n\u001b[0;32m    538\u001b[0m     force_all_finite\u001b[38;5;241m=\u001b[39m\u001b[38;5;124m\"\u001b[39m\u001b[38;5;124mallow-nan\u001b[39m\u001b[38;5;124m\"\u001b[39m,\n\u001b[0;32m    539\u001b[0m     reset\u001b[38;5;241m=\u001b[39m\u001b[38;5;28;01mFalse\u001b[39;00m,\n\u001b[0;32m    540\u001b[0m )\n\u001b[0;32m    542\u001b[0m X \u001b[38;5;241m*\u001b[39m\u001b[38;5;241m=\u001b[39m \u001b[38;5;28mself\u001b[39m\u001b[38;5;241m.\u001b[39mscale_\n\u001b[0;32m    543\u001b[0m X \u001b[38;5;241m+\u001b[39m\u001b[38;5;241m=\u001b[39m \u001b[38;5;28mself\u001b[39m\u001b[38;5;241m.\u001b[39mmin_\n",
            "File \u001b[1;32mc:\\ProgramData\\anaconda3\\Lib\\site-packages\\sklearn\\base.py:608\u001b[0m, in \u001b[0;36mBaseEstimator._validate_data\u001b[1;34m(self, X, y, reset, validate_separately, cast_to_ndarray, **check_params)\u001b[0m\n\u001b[0;32m    537\u001b[0m \u001b[38;5;28;01mdef\u001b[39;00m \u001b[38;5;21m_validate_data\u001b[39m(\n\u001b[0;32m    538\u001b[0m     \u001b[38;5;28mself\u001b[39m,\n\u001b[0;32m    539\u001b[0m     X\u001b[38;5;241m=\u001b[39m\u001b[38;5;124m\"\u001b[39m\u001b[38;5;124mno_validation\u001b[39m\u001b[38;5;124m\"\u001b[39m,\n\u001b[1;32m   (...)\u001b[0m\n\u001b[0;32m    544\u001b[0m     \u001b[38;5;241m*\u001b[39m\u001b[38;5;241m*\u001b[39mcheck_params,\n\u001b[0;32m    545\u001b[0m ):\n\u001b[0;32m    546\u001b[0m \u001b[38;5;250m    \u001b[39m\u001b[38;5;124;03m\"\"\"Validate input data and set or check the `n_features_in_` attribute.\u001b[39;00m\n\u001b[0;32m    547\u001b[0m \n\u001b[0;32m    548\u001b[0m \u001b[38;5;124;03m    Parameters\u001b[39;00m\n\u001b[1;32m   (...)\u001b[0m\n\u001b[0;32m    606\u001b[0m \u001b[38;5;124;03m        validated.\u001b[39;00m\n\u001b[0;32m    607\u001b[0m \u001b[38;5;124;03m    \"\"\"\u001b[39;00m\n\u001b[1;32m--> 608\u001b[0m     \u001b[38;5;28mself\u001b[39m\u001b[38;5;241m.\u001b[39m_check_feature_names(X, reset\u001b[38;5;241m=\u001b[39mreset)\n\u001b[0;32m    610\u001b[0m     \u001b[38;5;28;01mif\u001b[39;00m y \u001b[38;5;129;01mis\u001b[39;00m \u001b[38;5;28;01mNone\u001b[39;00m \u001b[38;5;129;01mand\u001b[39;00m \u001b[38;5;28mself\u001b[39m\u001b[38;5;241m.\u001b[39m_get_tags()[\u001b[38;5;124m\"\u001b[39m\u001b[38;5;124mrequires_y\u001b[39m\u001b[38;5;124m\"\u001b[39m]:\n\u001b[0;32m    611\u001b[0m         \u001b[38;5;28;01mraise\u001b[39;00m \u001b[38;5;167;01mValueError\u001b[39;00m(\n\u001b[0;32m    612\u001b[0m             \u001b[38;5;124mf\u001b[39m\u001b[38;5;124m\"\u001b[39m\u001b[38;5;124mThis \u001b[39m\u001b[38;5;132;01m{\u001b[39;00m\u001b[38;5;28mself\u001b[39m\u001b[38;5;241m.\u001b[39m\u001b[38;5;18m__class__\u001b[39m\u001b[38;5;241m.\u001b[39m\u001b[38;5;18m__name__\u001b[39m\u001b[38;5;132;01m}\u001b[39;00m\u001b[38;5;124m estimator \u001b[39m\u001b[38;5;124m\"\u001b[39m\n\u001b[0;32m    613\u001b[0m             \u001b[38;5;124m\"\u001b[39m\u001b[38;5;124mrequires y to be passed, but the target y is None.\u001b[39m\u001b[38;5;124m\"\u001b[39m\n\u001b[0;32m    614\u001b[0m         )\n",
            "File \u001b[1;32mc:\\ProgramData\\anaconda3\\Lib\\site-packages\\sklearn\\base.py:535\u001b[0m, in \u001b[0;36mBaseEstimator._check_feature_names\u001b[1;34m(self, X, reset)\u001b[0m\n\u001b[0;32m    530\u001b[0m \u001b[38;5;28;01mif\u001b[39;00m \u001b[38;5;129;01mnot\u001b[39;00m missing_names \u001b[38;5;129;01mand\u001b[39;00m \u001b[38;5;129;01mnot\u001b[39;00m unexpected_names:\n\u001b[0;32m    531\u001b[0m     message \u001b[38;5;241m+\u001b[39m\u001b[38;5;241m=\u001b[39m (\n\u001b[0;32m    532\u001b[0m         \u001b[38;5;124m\"\u001b[39m\u001b[38;5;124mFeature names must be in the same order as they were in fit.\u001b[39m\u001b[38;5;130;01m\\n\u001b[39;00m\u001b[38;5;124m\"\u001b[39m\n\u001b[0;32m    533\u001b[0m     )\n\u001b[1;32m--> 535\u001b[0m \u001b[38;5;28;01mraise\u001b[39;00m \u001b[38;5;167;01mValueError\u001b[39;00m(message)\n",
            "\u001b[1;31mValueError\u001b[0m: The feature names should match those that were passed during fit.\nFeature names unseen at fit time:\n- a\n"
          ]
        }
      ],
      "source": [
        "min_max_scaler.transform(data)"
      ]
    },
    {
      "cell_type": "markdown",
      "metadata": {},
      "source": [
        "fit을 사용하지 않은 scaler를 사용할 수 없음"
      ]
    },
    {
      "cell_type": "code",
      "execution_count": 41,
      "metadata": {},
      "outputs": [],
      "source": [
        "del min_max_scaler"
      ]
    },
    {
      "cell_type": "code",
      "execution_count": 42,
      "metadata": {},
      "outputs": [],
      "source": [
        "min_max_scaler = MinMaxScaler()"
      ]
    },
    {
      "cell_type": "code",
      "execution_count": 45,
      "metadata": {},
      "outputs": [
        {
          "ename": "NotFittedError",
          "evalue": "This MinMaxScaler instance is not fitted yet. Call 'fit' with appropriate arguments before using this estimator.",
          "output_type": "error",
          "traceback": [
            "\u001b[1;31m---------------------------------------------------------------------------\u001b[0m",
            "\u001b[1;31mNotFittedError\u001b[0m                            Traceback (most recent call last)",
            "Cell \u001b[1;32mIn[45], line 1\u001b[0m\n\u001b[1;32m----> 1\u001b[0m min_max_scaler\u001b[38;5;241m.\u001b[39mtransform(data)\n",
            "File \u001b[1;32mc:\\ProgramData\\anaconda3\\Lib\\site-packages\\sklearn\\utils\\_set_output.py:295\u001b[0m, in \u001b[0;36m_wrap_method_output.<locals>.wrapped\u001b[1;34m(self, X, *args, **kwargs)\u001b[0m\n\u001b[0;32m    293\u001b[0m \u001b[38;5;129m@wraps\u001b[39m(f)\n\u001b[0;32m    294\u001b[0m \u001b[38;5;28;01mdef\u001b[39;00m \u001b[38;5;21mwrapped\u001b[39m(\u001b[38;5;28mself\u001b[39m, X, \u001b[38;5;241m*\u001b[39margs, \u001b[38;5;241m*\u001b[39m\u001b[38;5;241m*\u001b[39mkwargs):\n\u001b[1;32m--> 295\u001b[0m     data_to_wrap \u001b[38;5;241m=\u001b[39m f(\u001b[38;5;28mself\u001b[39m, X, \u001b[38;5;241m*\u001b[39margs, \u001b[38;5;241m*\u001b[39m\u001b[38;5;241m*\u001b[39mkwargs)\n\u001b[0;32m    296\u001b[0m     \u001b[38;5;28;01mif\u001b[39;00m \u001b[38;5;28misinstance\u001b[39m(data_to_wrap, \u001b[38;5;28mtuple\u001b[39m):\n\u001b[0;32m    297\u001b[0m         \u001b[38;5;66;03m# only wrap the first output for cross decomposition\u001b[39;00m\n\u001b[0;32m    298\u001b[0m         return_tuple \u001b[38;5;241m=\u001b[39m (\n\u001b[0;32m    299\u001b[0m             _wrap_data_with_container(method, data_to_wrap[\u001b[38;5;241m0\u001b[39m], X, \u001b[38;5;28mself\u001b[39m),\n\u001b[0;32m    300\u001b[0m             \u001b[38;5;241m*\u001b[39mdata_to_wrap[\u001b[38;5;241m1\u001b[39m:],\n\u001b[0;32m    301\u001b[0m         )\n",
            "File \u001b[1;32mc:\\ProgramData\\anaconda3\\Lib\\site-packages\\sklearn\\preprocessing\\_data.py:530\u001b[0m, in \u001b[0;36mMinMaxScaler.transform\u001b[1;34m(self, X)\u001b[0m\n\u001b[0;32m    517\u001b[0m \u001b[38;5;28;01mdef\u001b[39;00m \u001b[38;5;21mtransform\u001b[39m(\u001b[38;5;28mself\u001b[39m, X):\n\u001b[0;32m    518\u001b[0m \u001b[38;5;250m    \u001b[39m\u001b[38;5;124;03m\"\"\"Scale features of X according to feature_range.\u001b[39;00m\n\u001b[0;32m    519\u001b[0m \n\u001b[0;32m    520\u001b[0m \u001b[38;5;124;03m    Parameters\u001b[39;00m\n\u001b[1;32m   (...)\u001b[0m\n\u001b[0;32m    528\u001b[0m \u001b[38;5;124;03m        Transformed data.\u001b[39;00m\n\u001b[0;32m    529\u001b[0m \u001b[38;5;124;03m    \"\"\"\u001b[39;00m\n\u001b[1;32m--> 530\u001b[0m     check_is_fitted(\u001b[38;5;28mself\u001b[39m)\n\u001b[0;32m    532\u001b[0m     xp, _ \u001b[38;5;241m=\u001b[39m get_namespace(X)\n\u001b[0;32m    534\u001b[0m     X \u001b[38;5;241m=\u001b[39m \u001b[38;5;28mself\u001b[39m\u001b[38;5;241m.\u001b[39m_validate_data(\n\u001b[0;32m    535\u001b[0m         X,\n\u001b[0;32m    536\u001b[0m         copy\u001b[38;5;241m=\u001b[39m\u001b[38;5;28mself\u001b[39m\u001b[38;5;241m.\u001b[39mcopy,\n\u001b[1;32m   (...)\u001b[0m\n\u001b[0;32m    539\u001b[0m         reset\u001b[38;5;241m=\u001b[39m\u001b[38;5;28;01mFalse\u001b[39;00m,\n\u001b[0;32m    540\u001b[0m     )\n",
            "File \u001b[1;32mc:\\ProgramData\\anaconda3\\Lib\\site-packages\\sklearn\\utils\\validation.py:1622\u001b[0m, in \u001b[0;36mcheck_is_fitted\u001b[1;34m(estimator, attributes, msg, all_or_any)\u001b[0m\n\u001b[0;32m   1619\u001b[0m     \u001b[38;5;28;01mraise\u001b[39;00m \u001b[38;5;167;01mTypeError\u001b[39;00m(\u001b[38;5;124m\"\u001b[39m\u001b[38;5;132;01m%s\u001b[39;00m\u001b[38;5;124m is not an estimator instance.\u001b[39m\u001b[38;5;124m\"\u001b[39m \u001b[38;5;241m%\u001b[39m (estimator))\n\u001b[0;32m   1621\u001b[0m \u001b[38;5;28;01mif\u001b[39;00m \u001b[38;5;129;01mnot\u001b[39;00m _is_fitted(estimator, attributes, all_or_any):\n\u001b[1;32m-> 1622\u001b[0m     \u001b[38;5;28;01mraise\u001b[39;00m NotFittedError(msg \u001b[38;5;241m%\u001b[39m {\u001b[38;5;124m\"\u001b[39m\u001b[38;5;124mname\u001b[39m\u001b[38;5;124m\"\u001b[39m: \u001b[38;5;28mtype\u001b[39m(estimator)\u001b[38;5;241m.\u001b[39m\u001b[38;5;18m__name__\u001b[39m})\n",
            "\u001b[1;31mNotFittedError\u001b[0m: This MinMaxScaler instance is not fitted yet. Call 'fit' with appropriate arguments before using this estimator."
          ]
        }
      ],
      "source": [
        "min_max_scaler.transform(data)"
      ]
    },
    {
      "cell_type": "markdown",
      "metadata": {},
      "source": [
        "fit_transform을 통해 fit과 transform을 동시에 처리할 수 있음"
      ]
    },
    {
      "cell_type": "code",
      "execution_count": 47,
      "metadata": {},
      "outputs": [
        {
          "data": {
            "text/plain": [
              "{'feature_range': (0, 1), 'copy': True, 'clip': False}"
            ]
          },
          "execution_count": 47,
          "metadata": {},
          "output_type": "execute_result"
        }
      ],
      "source": [
        "min_max_scaler.__dict__"
      ]
    },
    {
      "cell_type": "code",
      "execution_count": 48,
      "metadata": {},
      "outputs": [],
      "source": [
        "data.loc[:] = min_max_scaler.fit_transform(data)"
      ]
    },
    {
      "cell_type": "code",
      "execution_count": 49,
      "metadata": {},
      "outputs": [
        {
          "data": {
            "text/plain": [
              "{'feature_range': (0, 1),\n",
              " 'copy': True,\n",
              " 'clip': False,\n",
              " 'feature_names_in_': array(['신장(5cm단위)', '허리둘레', '혈청지피티(ALT)', '감마지티피'], dtype=object),\n",
              " 'n_features_in_': 4,\n",
              " 'n_samples_seen_': 993774,\n",
              " 'scale_': array([0.01538462, 0.00100857, 0.00015883, 0.00010002]),\n",
              " 'min_': array([-2.00000000e+00, -7.56429652e-03, -1.58831004e-04, -1.00020004e-04]),\n",
              " 'data_min_': array([130. ,   7.5,   1. ,   1. ]),\n",
              " 'data_max_': array([ 195.,  999., 6297., 9999.]),\n",
              " 'data_range_': array([  65. ,  991.5, 6296. , 9998. ])}"
            ]
          },
          "execution_count": 49,
          "metadata": {},
          "output_type": "execute_result"
        }
      ],
      "source": [
        "min_max_scaler.__dict__"
      ]
    },
    {
      "cell_type": "code",
      "execution_count": 50,
      "metadata": {},
      "outputs": [
        {
          "data": {
            "text/html": [
              "<div>\n",
              "<style scoped>\n",
              "    .dataframe tbody tr th:only-of-type {\n",
              "        vertical-align: middle;\n",
              "    }\n",
              "\n",
              "    .dataframe tbody tr th {\n",
              "        vertical-align: top;\n",
              "    }\n",
              "\n",
              "    .dataframe thead th {\n",
              "        text-align: right;\n",
              "    }\n",
              "</style>\n",
              "<table border=\"1\" class=\"dataframe\">\n",
              "  <thead>\n",
              "    <tr style=\"text-align: right;\">\n",
              "      <th></th>\n",
              "      <th>신장(5cm단위)</th>\n",
              "      <th>허리둘레</th>\n",
              "      <th>혈청지피티(ALT)</th>\n",
              "      <th>감마지티피</th>\n",
              "    </tr>\n",
              "  </thead>\n",
              "  <tbody>\n",
              "    <tr>\n",
              "      <th>0</th>\n",
              "      <td>0.384615</td>\n",
              "      <td>0.085224</td>\n",
              "      <td>0.003653</td>\n",
              "      <td>0.004901</td>\n",
              "    </tr>\n",
              "    <tr>\n",
              "      <th>1</th>\n",
              "      <td>0.461538</td>\n",
              "      <td>0.079173</td>\n",
              "      <td>0.001588</td>\n",
              "      <td>0.003001</td>\n",
              "    </tr>\n",
              "    <tr>\n",
              "      <th>2</th>\n",
              "      <td>0.307692</td>\n",
              "      <td>0.089259</td>\n",
              "      <td>0.004447</td>\n",
              "      <td>0.002300</td>\n",
              "    </tr>\n",
              "    <tr>\n",
              "      <th>3</th>\n",
              "      <td>0.461538</td>\n",
              "      <td>0.078164</td>\n",
              "      <td>0.003177</td>\n",
              "      <td>0.002601</td>\n",
              "    </tr>\n",
              "    <tr>\n",
              "      <th>4</th>\n",
              "      <td>0.538462</td>\n",
              "      <td>0.077660</td>\n",
              "      <td>0.005083</td>\n",
              "      <td>0.004801</td>\n",
              "    </tr>\n",
              "    <tr>\n",
              "      <th>...</th>\n",
              "      <td>...</td>\n",
              "      <td>...</td>\n",
              "      <td>...</td>\n",
              "      <td>...</td>\n",
              "    </tr>\n",
              "    <tr>\n",
              "      <th>999995</th>\n",
              "      <td>0.615385</td>\n",
              "      <td>0.071104</td>\n",
              "      <td>0.001906</td>\n",
              "      <td>0.002100</td>\n",
              "    </tr>\n",
              "    <tr>\n",
              "      <th>999996</th>\n",
              "      <td>0.538462</td>\n",
              "      <td>0.089360</td>\n",
              "      <td>0.010165</td>\n",
              "      <td>0.015903</td>\n",
              "    </tr>\n",
              "    <tr>\n",
              "      <th>999997</th>\n",
              "      <td>0.384615</td>\n",
              "      <td>0.080182</td>\n",
              "      <td>0.003971</td>\n",
              "      <td>0.002400</td>\n",
              "    </tr>\n",
              "    <tr>\n",
              "      <th>999998</th>\n",
              "      <td>0.461538</td>\n",
              "      <td>0.062027</td>\n",
              "      <td>0.003018</td>\n",
              "      <td>0.001500</td>\n",
              "    </tr>\n",
              "    <tr>\n",
              "      <th>999999</th>\n",
              "      <td>0.461538</td>\n",
              "      <td>0.068079</td>\n",
              "      <td>0.003177</td>\n",
              "      <td>0.003301</td>\n",
              "    </tr>\n",
              "  </tbody>\n",
              "</table>\n",
              "<p>993774 rows × 4 columns</p>\n",
              "</div>"
            ],
            "text/plain": [
              "        신장(5cm단위)      허리둘레  혈청지피티(ALT)     감마지티피\n",
              "0        0.384615  0.085224    0.003653  0.004901\n",
              "1        0.461538  0.079173    0.001588  0.003001\n",
              "2        0.307692  0.089259    0.004447  0.002300\n",
              "3        0.461538  0.078164    0.003177  0.002601\n",
              "4        0.538462  0.077660    0.005083  0.004801\n",
              "...           ...       ...         ...       ...\n",
              "999995   0.615385  0.071104    0.001906  0.002100\n",
              "999996   0.538462  0.089360    0.010165  0.015903\n",
              "999997   0.384615  0.080182    0.003971  0.002400\n",
              "999998   0.461538  0.062027    0.003018  0.001500\n",
              "999999   0.461538  0.068079    0.003177  0.003301\n",
              "\n",
              "[993774 rows x 4 columns]"
            ]
          },
          "execution_count": 50,
          "metadata": {},
          "output_type": "execute_result"
        }
      ],
      "source": [
        "data"
      ]
    },
    {
      "cell_type": "markdown",
      "metadata": {},
      "source": [
        "train, valid, test 데이터에 대한 scaling"
      ]
    },
    {
      "cell_type": "code",
      "execution_count": 60,
      "metadata": {},
      "outputs": [],
      "source": [
        "data.loc[:] = min_max_scaler.inverse_transform(data)"
      ]
    },
    {
      "cell_type": "code",
      "execution_count": 53,
      "metadata": {},
      "outputs": [],
      "source": [
        "train, valid, test = data.iloc[:300000], data.iloc[300000:600000], data.iloc[600000:]"
      ]
    },
    {
      "cell_type": "code",
      "execution_count": 61,
      "metadata": {},
      "outputs": [],
      "source": [
        "train.loc[:] = min_max_scaler.fit_transform(train)\n",
        "valid.loc[:] = min_max_scaler.transform(valid)\n",
        "test.loc[:] = min_max_scaler.transform(test)"
      ]
    },
    {
      "cell_type": "code",
      "execution_count": 62,
      "metadata": {},
      "outputs": [
        {
          "data": {
            "text/html": [
              "<div>\n",
              "<style scoped>\n",
              "    .dataframe tbody tr th:only-of-type {\n",
              "        vertical-align: middle;\n",
              "    }\n",
              "\n",
              "    .dataframe tbody tr th {\n",
              "        vertical-align: top;\n",
              "    }\n",
              "\n",
              "    .dataframe thead th {\n",
              "        text-align: right;\n",
              "    }\n",
              "</style>\n",
              "<table border=\"1\" class=\"dataframe\">\n",
              "  <thead>\n",
              "    <tr style=\"text-align: right;\">\n",
              "      <th></th>\n",
              "      <th>신장(5cm단위)</th>\n",
              "      <th>허리둘레</th>\n",
              "      <th>혈청지피티(ALT)</th>\n",
              "      <th>감마지티피</th>\n",
              "    </tr>\n",
              "  </thead>\n",
              "  <tbody>\n",
              "    <tr>\n",
              "      <th>0</th>\n",
              "      <td>0.384615</td>\n",
              "      <td>0.071458</td>\n",
              "      <td>0.003653</td>\n",
              "      <td>0.004901</td>\n",
              "    </tr>\n",
              "    <tr>\n",
              "      <th>1</th>\n",
              "      <td>0.461538</td>\n",
              "      <td>0.065315</td>\n",
              "      <td>0.001588</td>\n",
              "      <td>0.003001</td>\n",
              "    </tr>\n",
              "    <tr>\n",
              "      <th>2</th>\n",
              "      <td>0.307692</td>\n",
              "      <td>0.075553</td>\n",
              "      <td>0.004447</td>\n",
              "      <td>0.002300</td>\n",
              "    </tr>\n",
              "    <tr>\n",
              "      <th>3</th>\n",
              "      <td>0.461538</td>\n",
              "      <td>0.064292</td>\n",
              "      <td>0.003177</td>\n",
              "      <td>0.002601</td>\n",
              "    </tr>\n",
              "    <tr>\n",
              "      <th>4</th>\n",
              "      <td>0.538462</td>\n",
              "      <td>0.063780</td>\n",
              "      <td>0.005083</td>\n",
              "      <td>0.004801</td>\n",
              "    </tr>\n",
              "    <tr>\n",
              "      <th>...</th>\n",
              "      <td>...</td>\n",
              "      <td>...</td>\n",
              "      <td>...</td>\n",
              "      <td>...</td>\n",
              "    </tr>\n",
              "    <tr>\n",
              "      <th>301859</th>\n",
              "      <td>0.461538</td>\n",
              "      <td>0.073505</td>\n",
              "      <td>0.003971</td>\n",
              "      <td>0.005201</td>\n",
              "    </tr>\n",
              "    <tr>\n",
              "      <th>301860</th>\n",
              "      <td>0.307692</td>\n",
              "      <td>0.067363</td>\n",
              "      <td>0.003018</td>\n",
              "      <td>0.008602</td>\n",
              "    </tr>\n",
              "    <tr>\n",
              "      <th>301861</th>\n",
              "      <td>0.384615</td>\n",
              "      <td>0.068387</td>\n",
              "      <td>0.002859</td>\n",
              "      <td>0.004301</td>\n",
              "    </tr>\n",
              "    <tr>\n",
              "      <th>301862</th>\n",
              "      <td>0.461538</td>\n",
              "      <td>0.066544</td>\n",
              "      <td>0.008100</td>\n",
              "      <td>0.004901</td>\n",
              "    </tr>\n",
              "    <tr>\n",
              "      <th>301863</th>\n",
              "      <td>0.230769</td>\n",
              "      <td>0.057125</td>\n",
              "      <td>0.005400</td>\n",
              "      <td>0.002200</td>\n",
              "    </tr>\n",
              "  </tbody>\n",
              "</table>\n",
              "<p>300000 rows × 4 columns</p>\n",
              "</div>"
            ],
            "text/plain": [
              "        신장(5cm단위)      허리둘레  혈청지피티(ALT)     감마지티피\n",
              "0        0.384615  0.071458    0.003653  0.004901\n",
              "1        0.461538  0.065315    0.001588  0.003001\n",
              "2        0.307692  0.075553    0.004447  0.002300\n",
              "3        0.461538  0.064292    0.003177  0.002601\n",
              "4        0.538462  0.063780    0.005083  0.004801\n",
              "...           ...       ...         ...       ...\n",
              "301859   0.461538  0.073505    0.003971  0.005201\n",
              "301860   0.307692  0.067363    0.003018  0.008602\n",
              "301861   0.384615  0.068387    0.002859  0.004301\n",
              "301862   0.461538  0.066544    0.008100  0.004901\n",
              "301863   0.230769  0.057125    0.005400  0.002200\n",
              "\n",
              "[300000 rows x 4 columns]"
            ]
          },
          "execution_count": 62,
          "metadata": {},
          "output_type": "execute_result"
        }
      ],
      "source": [
        "train"
      ]
    },
    {
      "cell_type": "code",
      "execution_count": 63,
      "metadata": {},
      "outputs": [
        {
          "data": {
            "text/html": [
              "<div>\n",
              "<style scoped>\n",
              "    .dataframe tbody tr th:only-of-type {\n",
              "        vertical-align: middle;\n",
              "    }\n",
              "\n",
              "    .dataframe tbody tr th {\n",
              "        vertical-align: top;\n",
              "    }\n",
              "\n",
              "    .dataframe thead th {\n",
              "        text-align: right;\n",
              "    }\n",
              "</style>\n",
              "<table border=\"1\" class=\"dataframe\">\n",
              "  <thead>\n",
              "    <tr style=\"text-align: right;\">\n",
              "      <th></th>\n",
              "      <th>신장(5cm단위)</th>\n",
              "      <th>허리둘레</th>\n",
              "      <th>혈청지피티(ALT)</th>\n",
              "      <th>감마지티피</th>\n",
              "    </tr>\n",
              "  </thead>\n",
              "  <tbody>\n",
              "    <tr>\n",
              "      <th>301864</th>\n",
              "      <td>0.384615</td>\n",
              "      <td>0.066339</td>\n",
              "      <td>0.004447</td>\n",
              "      <td>0.002400</td>\n",
              "    </tr>\n",
              "    <tr>\n",
              "      <th>301865</th>\n",
              "      <td>0.615385</td>\n",
              "      <td>0.063268</td>\n",
              "      <td>0.008577</td>\n",
              "      <td>0.002901</td>\n",
              "    </tr>\n",
              "    <tr>\n",
              "      <th>301866</th>\n",
              "      <td>0.615385</td>\n",
              "      <td>0.052007</td>\n",
              "      <td>0.003177</td>\n",
              "      <td>0.001400</td>\n",
              "    </tr>\n",
              "    <tr>\n",
              "      <th>301867</th>\n",
              "      <td>0.307692</td>\n",
              "      <td>0.053030</td>\n",
              "      <td>0.001588</td>\n",
              "      <td>0.001100</td>\n",
              "    </tr>\n",
              "    <tr>\n",
              "      <th>301868</th>\n",
              "      <td>0.307692</td>\n",
              "      <td>0.055078</td>\n",
              "      <td>0.002224</td>\n",
              "      <td>0.001800</td>\n",
              "    </tr>\n",
              "    <tr>\n",
              "      <th>...</th>\n",
              "      <td>...</td>\n",
              "      <td>...</td>\n",
              "      <td>...</td>\n",
              "      <td>...</td>\n",
              "    </tr>\n",
              "    <tr>\n",
              "      <th>603772</th>\n",
              "      <td>0.384615</td>\n",
              "      <td>0.034603</td>\n",
              "      <td>0.001588</td>\n",
              "      <td>0.000800</td>\n",
              "    </tr>\n",
              "    <tr>\n",
              "      <th>603773</th>\n",
              "      <td>0.538462</td>\n",
              "      <td>0.066646</td>\n",
              "      <td>0.009212</td>\n",
              "      <td>0.005901</td>\n",
              "    </tr>\n",
              "    <tr>\n",
              "      <th>603774</th>\n",
              "      <td>0.615385</td>\n",
              "      <td>0.080160</td>\n",
              "      <td>0.005718</td>\n",
              "      <td>0.003401</td>\n",
              "    </tr>\n",
              "    <tr>\n",
              "      <th>603775</th>\n",
              "      <td>0.692308</td>\n",
              "      <td>0.083743</td>\n",
              "      <td>0.004606</td>\n",
              "      <td>0.004001</td>\n",
              "    </tr>\n",
              "    <tr>\n",
              "      <th>603776</th>\n",
              "      <td>0.461538</td>\n",
              "      <td>0.053030</td>\n",
              "      <td>0.001588</td>\n",
              "      <td>0.001200</td>\n",
              "    </tr>\n",
              "  </tbody>\n",
              "</table>\n",
              "<p>300000 rows × 4 columns</p>\n",
              "</div>"
            ],
            "text/plain": [
              "        신장(5cm단위)      허리둘레  혈청지피티(ALT)     감마지티피\n",
              "301864   0.384615  0.066339    0.004447  0.002400\n",
              "301865   0.615385  0.063268    0.008577  0.002901\n",
              "301866   0.615385  0.052007    0.003177  0.001400\n",
              "301867   0.307692  0.053030    0.001588  0.001100\n",
              "301868   0.307692  0.055078    0.002224  0.001800\n",
              "...           ...       ...         ...       ...\n",
              "603772   0.384615  0.034603    0.001588  0.000800\n",
              "603773   0.538462  0.066646    0.009212  0.005901\n",
              "603774   0.615385  0.080160    0.005718  0.003401\n",
              "603775   0.692308  0.083743    0.004606  0.004001\n",
              "603776   0.461538  0.053030    0.001588  0.001200\n",
              "\n",
              "[300000 rows x 4 columns]"
            ]
          },
          "execution_count": 63,
          "metadata": {},
          "output_type": "execute_result"
        }
      ],
      "source": [
        "valid"
      ]
    },
    {
      "cell_type": "code",
      "execution_count": 64,
      "metadata": {},
      "outputs": [
        {
          "data": {
            "text/html": [
              "<div>\n",
              "<style scoped>\n",
              "    .dataframe tbody tr th:only-of-type {\n",
              "        vertical-align: middle;\n",
              "    }\n",
              "\n",
              "    .dataframe tbody tr th {\n",
              "        vertical-align: top;\n",
              "    }\n",
              "\n",
              "    .dataframe thead th {\n",
              "        text-align: right;\n",
              "    }\n",
              "</style>\n",
              "<table border=\"1\" class=\"dataframe\">\n",
              "  <thead>\n",
              "    <tr style=\"text-align: right;\">\n",
              "      <th></th>\n",
              "      <th>신장(5cm단위)</th>\n",
              "      <th>허리둘레</th>\n",
              "      <th>혈청지피티(ALT)</th>\n",
              "      <th>감마지티피</th>\n",
              "    </tr>\n",
              "  </thead>\n",
              "  <tbody>\n",
              "    <tr>\n",
              "      <th>603777</th>\n",
              "      <td>0.692308</td>\n",
              "      <td>0.069410</td>\n",
              "      <td>0.003812</td>\n",
              "      <td>0.003401</td>\n",
              "    </tr>\n",
              "    <tr>\n",
              "      <th>603778</th>\n",
              "      <td>0.384615</td>\n",
              "      <td>0.041769</td>\n",
              "      <td>0.001429</td>\n",
              "      <td>0.001200</td>\n",
              "    </tr>\n",
              "    <tr>\n",
              "      <th>603779</th>\n",
              "      <td>0.307692</td>\n",
              "      <td>0.058149</td>\n",
              "      <td>0.004130</td>\n",
              "      <td>0.001700</td>\n",
              "    </tr>\n",
              "    <tr>\n",
              "      <th>603780</th>\n",
              "      <td>0.692308</td>\n",
              "      <td>0.082719</td>\n",
              "      <td>0.029860</td>\n",
              "      <td>0.023505</td>\n",
              "    </tr>\n",
              "    <tr>\n",
              "      <th>603781</th>\n",
              "      <td>0.615385</td>\n",
              "      <td>0.051290</td>\n",
              "      <td>0.001271</td>\n",
              "      <td>0.001000</td>\n",
              "    </tr>\n",
              "    <tr>\n",
              "      <th>...</th>\n",
              "      <td>...</td>\n",
              "      <td>...</td>\n",
              "      <td>...</td>\n",
              "      <td>...</td>\n",
              "    </tr>\n",
              "    <tr>\n",
              "      <th>999995</th>\n",
              "      <td>0.615385</td>\n",
              "      <td>0.057125</td>\n",
              "      <td>0.001906</td>\n",
              "      <td>0.002100</td>\n",
              "    </tr>\n",
              "    <tr>\n",
              "      <th>999996</th>\n",
              "      <td>0.538462</td>\n",
              "      <td>0.075655</td>\n",
              "      <td>0.010165</td>\n",
              "      <td>0.015903</td>\n",
              "    </tr>\n",
              "    <tr>\n",
              "      <th>999997</th>\n",
              "      <td>0.384615</td>\n",
              "      <td>0.066339</td>\n",
              "      <td>0.003971</td>\n",
              "      <td>0.002400</td>\n",
              "    </tr>\n",
              "    <tr>\n",
              "      <th>999998</th>\n",
              "      <td>0.461538</td>\n",
              "      <td>0.047912</td>\n",
              "      <td>0.003018</td>\n",
              "      <td>0.001500</td>\n",
              "    </tr>\n",
              "    <tr>\n",
              "      <th>999999</th>\n",
              "      <td>0.461538</td>\n",
              "      <td>0.054054</td>\n",
              "      <td>0.003177</td>\n",
              "      <td>0.003301</td>\n",
              "    </tr>\n",
              "  </tbody>\n",
              "</table>\n",
              "<p>393774 rows × 4 columns</p>\n",
              "</div>"
            ],
            "text/plain": [
              "        신장(5cm단위)      허리둘레  혈청지피티(ALT)     감마지티피\n",
              "603777   0.692308  0.069410    0.003812  0.003401\n",
              "603778   0.384615  0.041769    0.001429  0.001200\n",
              "603779   0.307692  0.058149    0.004130  0.001700\n",
              "603780   0.692308  0.082719    0.029860  0.023505\n",
              "603781   0.615385  0.051290    0.001271  0.001000\n",
              "...           ...       ...         ...       ...\n",
              "999995   0.615385  0.057125    0.001906  0.002100\n",
              "999996   0.538462  0.075655    0.010165  0.015903\n",
              "999997   0.384615  0.066339    0.003971  0.002400\n",
              "999998   0.461538  0.047912    0.003018  0.001500\n",
              "999999   0.461538  0.054054    0.003177  0.003301\n",
              "\n",
              "[393774 rows x 4 columns]"
            ]
          },
          "execution_count": 64,
          "metadata": {},
          "output_type": "execute_result"
        }
      ],
      "source": [
        "test"
      ]
    },
    {
      "cell_type": "markdown",
      "metadata": {},
      "source": [
        "원본 데이터가 가지고 있는 문제를 제거 후 scaling"
      ]
    },
    {
      "cell_type": "code",
      "execution_count": 67,
      "metadata": {},
      "outputs": [],
      "source": [
        "data.loc[:] = min_max_scaler.inverse_transform(data)"
      ]
    },
    {
      "cell_type": "code",
      "execution_count": 69,
      "metadata": {},
      "outputs": [
        {
          "data": {
            "text/html": [
              "<div>\n",
              "<style scoped>\n",
              "    .dataframe tbody tr th:only-of-type {\n",
              "        vertical-align: middle;\n",
              "    }\n",
              "\n",
              "    .dataframe tbody tr th {\n",
              "        vertical-align: top;\n",
              "    }\n",
              "\n",
              "    .dataframe thead th {\n",
              "        text-align: right;\n",
              "    }\n",
              "</style>\n",
              "<table border=\"1\" class=\"dataframe\">\n",
              "  <thead>\n",
              "    <tr style=\"text-align: right;\">\n",
              "      <th></th>\n",
              "      <th>신장(5cm단위)</th>\n",
              "      <th>허리둘레</th>\n",
              "      <th>혈청지피티(ALT)</th>\n",
              "      <th>감마지티피</th>\n",
              "    </tr>\n",
              "  </thead>\n",
              "  <tbody>\n",
              "    <tr>\n",
              "      <th>count</th>\n",
              "      <td>993774.000000</td>\n",
              "      <td>993774.000000</td>\n",
              "      <td>993774.000000</td>\n",
              "      <td>993774.000000</td>\n",
              "    </tr>\n",
              "    <tr>\n",
              "      <th>mean</th>\n",
              "      <td>162.733796</td>\n",
              "      <td>81.306499</td>\n",
              "      <td>26.367730</td>\n",
              "      <td>35.390904</td>\n",
              "    </tr>\n",
              "    <tr>\n",
              "      <th>std</th>\n",
              "      <td>9.330001</td>\n",
              "      <td>10.861462</td>\n",
              "      <td>26.104448</td>\n",
              "      <td>62.448236</td>\n",
              "    </tr>\n",
              "    <tr>\n",
              "      <th>min</th>\n",
              "      <td>130.000000</td>\n",
              "      <td>7.500000</td>\n",
              "      <td>1.000000</td>\n",
              "      <td>1.000000</td>\n",
              "    </tr>\n",
              "    <tr>\n",
              "      <th>25%</th>\n",
              "      <td>155.000000</td>\n",
              "      <td>74.000000</td>\n",
              "      <td>15.000000</td>\n",
              "      <td>15.000000</td>\n",
              "    </tr>\n",
              "    <tr>\n",
              "      <th>50%</th>\n",
              "      <td>165.000000</td>\n",
              "      <td>81.000000</td>\n",
              "      <td>21.000000</td>\n",
              "      <td>22.000000</td>\n",
              "    </tr>\n",
              "    <tr>\n",
              "      <th>75%</th>\n",
              "      <td>170.000000</td>\n",
              "      <td>88.000000</td>\n",
              "      <td>30.000000</td>\n",
              "      <td>37.000000</td>\n",
              "    </tr>\n",
              "    <tr>\n",
              "      <th>max</th>\n",
              "      <td>195.000000</td>\n",
              "      <td>999.000000</td>\n",
              "      <td>6297.000000</td>\n",
              "      <td>9999.000000</td>\n",
              "    </tr>\n",
              "  </tbody>\n",
              "</table>\n",
              "</div>"
            ],
            "text/plain": [
              "           신장(5cm단위)           허리둘레     혈청지피티(ALT)          감마지티피\n",
              "count  993774.000000  993774.000000  993774.000000  993774.000000\n",
              "mean      162.733796      81.306499      26.367730      35.390904\n",
              "std         9.330001      10.861462      26.104448      62.448236\n",
              "min       130.000000       7.500000       1.000000       1.000000\n",
              "25%       155.000000      74.000000      15.000000      15.000000\n",
              "50%       165.000000      81.000000      21.000000      22.000000\n",
              "75%       170.000000      88.000000      30.000000      37.000000\n",
              "max       195.000000     999.000000    6297.000000    9999.000000"
            ]
          },
          "execution_count": 69,
          "metadata": {},
          "output_type": "execute_result"
        }
      ],
      "source": [
        "data.describe()"
      ]
    },
    {
      "cell_type": "code",
      "execution_count": 77,
      "metadata": {},
      "outputs": [
        {
          "data": {
            "text/html": [
              "<div>\n",
              "<style scoped>\n",
              "    .dataframe tbody tr th:only-of-type {\n",
              "        vertical-align: middle;\n",
              "    }\n",
              "\n",
              "    .dataframe tbody tr th {\n",
              "        vertical-align: top;\n",
              "    }\n",
              "\n",
              "    .dataframe thead th {\n",
              "        text-align: right;\n",
              "    }\n",
              "</style>\n",
              "<table border=\"1\" class=\"dataframe\">\n",
              "  <thead>\n",
              "    <tr style=\"text-align: right;\">\n",
              "      <th></th>\n",
              "      <th>신장(5cm단위)</th>\n",
              "      <th>허리둘레</th>\n",
              "      <th>혈청지피티(ALT)</th>\n",
              "      <th>감마지티피</th>\n",
              "    </tr>\n",
              "  </thead>\n",
              "  <tbody>\n",
              "    <tr>\n",
              "      <th>0</th>\n",
              "      <td>155.0</td>\n",
              "      <td>92.0</td>\n",
              "      <td>24.0</td>\n",
              "      <td>50.0</td>\n",
              "    </tr>\n",
              "    <tr>\n",
              "      <th>1</th>\n",
              "      <td>160.0</td>\n",
              "      <td>86.0</td>\n",
              "      <td>11.0</td>\n",
              "      <td>31.0</td>\n",
              "    </tr>\n",
              "    <tr>\n",
              "      <th>2</th>\n",
              "      <td>150.0</td>\n",
              "      <td>96.0</td>\n",
              "      <td>29.0</td>\n",
              "      <td>24.0</td>\n",
              "    </tr>\n",
              "    <tr>\n",
              "      <th>3</th>\n",
              "      <td>160.0</td>\n",
              "      <td>85.0</td>\n",
              "      <td>21.0</td>\n",
              "      <td>27.0</td>\n",
              "    </tr>\n",
              "    <tr>\n",
              "      <th>4</th>\n",
              "      <td>165.0</td>\n",
              "      <td>84.5</td>\n",
              "      <td>33.0</td>\n",
              "      <td>49.0</td>\n",
              "    </tr>\n",
              "    <tr>\n",
              "      <th>...</th>\n",
              "      <td>...</td>\n",
              "      <td>...</td>\n",
              "      <td>...</td>\n",
              "      <td>...</td>\n",
              "    </tr>\n",
              "    <tr>\n",
              "      <th>999995</th>\n",
              "      <td>170.0</td>\n",
              "      <td>78.0</td>\n",
              "      <td>13.0</td>\n",
              "      <td>22.0</td>\n",
              "    </tr>\n",
              "    <tr>\n",
              "      <th>999996</th>\n",
              "      <td>165.0</td>\n",
              "      <td>96.1</td>\n",
              "      <td>65.0</td>\n",
              "      <td>160.0</td>\n",
              "    </tr>\n",
              "    <tr>\n",
              "      <th>999997</th>\n",
              "      <td>155.0</td>\n",
              "      <td>87.0</td>\n",
              "      <td>26.0</td>\n",
              "      <td>25.0</td>\n",
              "    </tr>\n",
              "    <tr>\n",
              "      <th>999998</th>\n",
              "      <td>160.0</td>\n",
              "      <td>69.0</td>\n",
              "      <td>20.0</td>\n",
              "      <td>16.0</td>\n",
              "    </tr>\n",
              "    <tr>\n",
              "      <th>999999</th>\n",
              "      <td>160.0</td>\n",
              "      <td>75.0</td>\n",
              "      <td>21.0</td>\n",
              "      <td>34.0</td>\n",
              "    </tr>\n",
              "  </tbody>\n",
              "</table>\n",
              "<p>988445 rows × 4 columns</p>\n",
              "</div>"
            ],
            "text/plain": [
              "        신장(5cm단위)  허리둘레  혈청지피티(ALT)  감마지티피\n",
              "0           155.0  92.0        24.0   50.0\n",
              "1           160.0  86.0        11.0   31.0\n",
              "2           150.0  96.0        29.0   24.0\n",
              "3           160.0  85.0        21.0   27.0\n",
              "4           165.0  84.5        33.0   49.0\n",
              "...           ...   ...         ...    ...\n",
              "999995      170.0  78.0        13.0   22.0\n",
              "999996      165.0  96.1        65.0  160.0\n",
              "999997      155.0  87.0        26.0   25.0\n",
              "999998      160.0  69.0        20.0   16.0\n",
              "999999      160.0  75.0        21.0   34.0\n",
              "\n",
              "[988445 rows x 4 columns]"
            ]
          },
          "execution_count": 77,
          "metadata": {},
          "output_type": "execute_result"
        }
      ],
      "source": [
        "data.query('허리둘레 < 300 and `혈청지피티(ALT)` < 300 and `감마지티피` < 300')"
      ]
    },
    {
      "cell_type": "markdown",
      "metadata": {},
      "source": [
        "Standard Scaler"
      ]
    },
    {
      "cell_type": "code",
      "execution_count": 82,
      "metadata": {},
      "outputs": [],
      "source": [
        "from sklearn.preprocessing import StandardScaler"
      ]
    },
    {
      "cell_type": "code",
      "execution_count": 83,
      "metadata": {},
      "outputs": [],
      "source": [
        "standard_scaler = StandardScaler()"
      ]
    },
    {
      "cell_type": "code",
      "execution_count": 80,
      "metadata": {},
      "outputs": [],
      "source": [
        "temp = data.query('허리둘레 < 300 and `혈청지피티(ALT)` < 300 and `감마지티피` < 300')"
      ]
    },
    {
      "cell_type": "code",
      "execution_count": 84,
      "metadata": {},
      "outputs": [],
      "source": [
        "train, valid, test = temp.iloc[:300000], temp.iloc[300000:600000], temp.iloc[600000:]"
      ]
    },
    {
      "cell_type": "code",
      "execution_count": 85,
      "metadata": {},
      "outputs": [],
      "source": [
        "train.loc[:] = standard_scaler.fit_transform(train)\n",
        "valid.loc[:] = standard_scaler.transform(valid)\n",
        "test.loc[:] = standard_scaler.transform(test)"
      ]
    },
    {
      "cell_type": "code",
      "execution_count": 86,
      "metadata": {},
      "outputs": [
        {
          "data": {
            "text/html": [
              "<div>\n",
              "<style scoped>\n",
              "    .dataframe tbody tr th:only-of-type {\n",
              "        vertical-align: middle;\n",
              "    }\n",
              "\n",
              "    .dataframe tbody tr th {\n",
              "        vertical-align: top;\n",
              "    }\n",
              "\n",
              "    .dataframe thead th {\n",
              "        text-align: right;\n",
              "    }\n",
              "</style>\n",
              "<table border=\"1\" class=\"dataframe\">\n",
              "  <thead>\n",
              "    <tr style=\"text-align: right;\">\n",
              "      <th></th>\n",
              "      <th>신장(5cm단위)</th>\n",
              "      <th>허리둘레</th>\n",
              "      <th>혈청지피티(ALT)</th>\n",
              "      <th>감마지티피</th>\n",
              "    </tr>\n",
              "  </thead>\n",
              "  <tbody>\n",
              "    <tr>\n",
              "      <th>0</th>\n",
              "      <td>-0.827731</td>\n",
              "      <td>1.003189</td>\n",
              "      <td>-0.097986</td>\n",
              "      <td>0.536376</td>\n",
              "    </tr>\n",
              "    <tr>\n",
              "      <th>1</th>\n",
              "      <td>-0.292152</td>\n",
              "      <td>0.440300</td>\n",
              "      <td>-0.761794</td>\n",
              "      <td>-0.057631</td>\n",
              "    </tr>\n",
              "    <tr>\n",
              "      <th>2</th>\n",
              "      <td>-1.363311</td>\n",
              "      <td>1.378448</td>\n",
              "      <td>0.157324</td>\n",
              "      <td>-0.276476</td>\n",
              "    </tr>\n",
              "    <tr>\n",
              "      <th>3</th>\n",
              "      <td>-0.292152</td>\n",
              "      <td>0.346485</td>\n",
              "      <td>-0.251173</td>\n",
              "      <td>-0.182685</td>\n",
              "    </tr>\n",
              "    <tr>\n",
              "      <th>4</th>\n",
              "      <td>0.243428</td>\n",
              "      <td>0.299577</td>\n",
              "      <td>0.361573</td>\n",
              "      <td>0.505112</td>\n",
              "    </tr>\n",
              "    <tr>\n",
              "      <th>...</th>\n",
              "      <td>...</td>\n",
              "      <td>...</td>\n",
              "      <td>...</td>\n",
              "      <td>...</td>\n",
              "    </tr>\n",
              "    <tr>\n",
              "      <th>303453</th>\n",
              "      <td>-1.363311</td>\n",
              "      <td>-1.060738</td>\n",
              "      <td>-0.251173</td>\n",
              "      <td>-0.339003</td>\n",
              "    </tr>\n",
              "    <tr>\n",
              "      <th>303454</th>\n",
              "      <td>0.243428</td>\n",
              "      <td>-0.404034</td>\n",
              "      <td>-0.812856</td>\n",
              "      <td>-0.745429</td>\n",
              "    </tr>\n",
              "    <tr>\n",
              "      <th>303455</th>\n",
              "      <td>-1.363311</td>\n",
              "      <td>-1.248368</td>\n",
              "      <td>-0.149048</td>\n",
              "      <td>-0.526584</td>\n",
              "    </tr>\n",
              "    <tr>\n",
              "      <th>303456</th>\n",
              "      <td>0.243428</td>\n",
              "      <td>1.284634</td>\n",
              "      <td>0.208387</td>\n",
              "      <td>-0.339003</td>\n",
              "    </tr>\n",
              "    <tr>\n",
              "      <th>303457</th>\n",
              "      <td>-0.292152</td>\n",
              "      <td>1.097004</td>\n",
              "      <td>0.310511</td>\n",
              "      <td>-0.026368</td>\n",
              "    </tr>\n",
              "  </tbody>\n",
              "</table>\n",
              "<p>300000 rows × 4 columns</p>\n",
              "</div>"
            ],
            "text/plain": [
              "        신장(5cm단위)      허리둘레  혈청지피티(ALT)     감마지티피\n",
              "0       -0.827731  1.003189   -0.097986  0.536376\n",
              "1       -0.292152  0.440300   -0.761794 -0.057631\n",
              "2       -1.363311  1.378448    0.157324 -0.276476\n",
              "3       -0.292152  0.346485   -0.251173 -0.182685\n",
              "4        0.243428  0.299577    0.361573  0.505112\n",
              "...           ...       ...         ...       ...\n",
              "303453  -1.363311 -1.060738   -0.251173 -0.339003\n",
              "303454   0.243428 -0.404034   -0.812856 -0.745429\n",
              "303455  -1.363311 -1.248368   -0.149048 -0.526584\n",
              "303456   0.243428  1.284634    0.208387 -0.339003\n",
              "303457  -0.292152  1.097004    0.310511 -0.026368\n",
              "\n",
              "[300000 rows x 4 columns]"
            ]
          },
          "execution_count": 86,
          "metadata": {},
          "output_type": "execute_result"
        }
      ],
      "source": [
        "train"
      ]
    },
    {
      "cell_type": "code",
      "execution_count": 87,
      "metadata": {},
      "outputs": [
        {
          "data": {
            "text/plain": [
              "{'with_mean': True,\n",
              " 'with_std': True,\n",
              " 'copy': True,\n",
              " 'feature_names_in_': array(['신장(5cm단위)', '허리둘레', '혈청지피티(ALT)', '감마지티피'], dtype=object),\n",
              " 'n_features_in_': 4,\n",
              " 'n_samples_seen_': 300000,\n",
              " 'mean_': array([162.72743333,  81.30671733,  25.91896   ,  32.84340333]),\n",
              " 'var_': array([  87.15494075,  113.62047401,  383.53267252, 1023.11427415]),\n",
              " 'scale_': array([ 9.33568105, 10.6592905 , 19.58399021, 31.98615754])}"
            ]
          },
          "execution_count": 87,
          "metadata": {},
          "output_type": "execute_result"
        }
      ],
      "source": [
        "standard_scaler.__dict__"
      ]
    },
    {
      "cell_type": "code",
      "execution_count": 91,
      "metadata": {},
      "outputs": [
        {
          "data": {
            "text/plain": [
              "array([[155.,  92.,  24.,  50.],\n",
              "       [160.,  86.,  11.,  31.],\n",
              "       [150.,  96.,  29.,  24.],\n",
              "       ...,\n",
              "       [150.,  68.,  23.,  16.],\n",
              "       [165.,  95.,  30.,  22.],\n",
              "       [160.,  93.,  32.,  32.]])"
            ]
          },
          "execution_count": 91,
          "metadata": {},
          "output_type": "execute_result"
        }
      ],
      "source": [
        "# inverse_transform 사용하지 않고 원 스케일로 변환\n",
        "train.values*standard_scaler.scale_ + standard_scaler.mean_"
      ]
    },
    {
      "cell_type": "code",
      "execution_count": 93,
      "metadata": {},
      "outputs": [
        {
          "data": {
            "text/plain": [
              "array([[155.,  92.,  24.,  50.],\n",
              "       [160.,  86.,  11.,  31.],\n",
              "       [150.,  96.,  29.,  24.],\n",
              "       ...,\n",
              "       [150.,  68.,  23.,  16.],\n",
              "       [165.,  95.,  30.,  22.],\n",
              "       [160.,  93.,  32.,  32.]])"
            ]
          },
          "execution_count": 93,
          "metadata": {},
          "output_type": "execute_result"
        }
      ],
      "source": [
        "standard_scaler.inverse_transform(train)"
      ]
    },
    {
      "cell_type": "markdown",
      "metadata": {},
      "source": [
        "train"
      ]
    },
    {
      "cell_type": "code",
      "execution_count": 97,
      "metadata": {},
      "outputs": [],
      "source": [
        "# 남성과 여성의 허리둘레 분포 시각화\n",
        "# 단, 시각화에는 min-max와 standard scaling이 적용된 두 개의 그림이 존재하며\n",
        "# 남성과 여성의 분포가 각기 그려져야 한다\n",
        "data = pd.read_csv(\n",
        "    './data/국민건강보험공단_건강검진정보_2023.CSV',\n",
        "    encoding='cp949',\n",
        "    usecols=['성별코드', '허리둘레'],\n",
        ")"
      ]
    },
    {
      "cell_type": "code",
      "execution_count": 103,
      "metadata": {},
      "outputs": [],
      "source": [
        "data = data.query('허리둘레 < 300')"
      ]
    },
    {
      "cell_type": "code",
      "execution_count": 104,
      "metadata": {},
      "outputs": [],
      "source": [
        "man = data.query('성별코드==1')\n",
        "woman = data.query('성별코드==2')"
      ]
    },
    {
      "cell_type": "code",
      "execution_count": 108,
      "metadata": {},
      "outputs": [],
      "source": [
        "man = man.drop(columns=['성별코드'])\n",
        "woman = woman.drop(columns=['성별코드'])"
      ]
    },
    {
      "cell_type": "code",
      "execution_count": 110,
      "metadata": {},
      "outputs": [],
      "source": [
        "standard_scaler = StandardScaler()\n",
        "man_standard = standard_scaler.fit_transform(man)"
      ]
    },
    {
      "cell_type": "code",
      "execution_count": null,
      "metadata": {},
      "outputs": [],
      "source": [
        "man_standard = pd.DataFrame(man_standard, columns=['허리둘레'])\n",
        "man_standard['성별'] = '남자'"
      ]
    },
    {
      "cell_type": "code",
      "execution_count": 115,
      "metadata": {},
      "outputs": [],
      "source": [
        "standard_scaler = StandardScaler()\n",
        "woman_standard = standard_scaler.fit_transform(woman)"
      ]
    },
    {
      "cell_type": "code",
      "execution_count": null,
      "metadata": {},
      "outputs": [],
      "source": [
        "woman_standard = pd.DataFrame(woman_standard, columns=['허리둘레'])\n",
        "woman_standard['성별'] = '여자'"
      ]
    },
    {
      "cell_type": "code",
      "execution_count": 117,
      "metadata": {},
      "outputs": [],
      "source": [
        "df_standard = pd.concat([man_standard, woman_standard])"
      ]
    },
    {
      "cell_type": "code",
      "execution_count": 125,
      "metadata": {},
      "outputs": [
        {
          "name": "stderr",
          "output_type": "stream",
          "text": [
            "c:\\ProgramData\\anaconda3\\Lib\\site-packages\\seaborn\\utils.py:61: UserWarning:\n",
            "\n",
            "Glyph 8722 (\\N{MINUS SIGN}) missing from current font.\n",
            "\n"
          ]
        },
        {
          "data": {
            "text/plain": [
              "<seaborn.axisgrid.FacetGrid at 0x265c2513bc0>"
            ]
          },
          "execution_count": 125,
          "metadata": {},
          "output_type": "execute_result"
        },
        {
          "name": "stderr",
          "output_type": "stream",
          "text": [
            "c:\\ProgramData\\anaconda3\\Lib\\site-packages\\IPython\\core\\events.py:82: UserWarning:\n",
            "\n",
            "Glyph 8722 (\\N{MINUS SIGN}) missing from current font.\n",
            "\n",
            "c:\\ProgramData\\anaconda3\\Lib\\site-packages\\IPython\\core\\pylabtools.py:170: UserWarning:\n",
            "\n",
            "Glyph 8722 (\\N{MINUS SIGN}) missing from current font.\n",
            "\n"
          ]
        },
        {
          "data": {
            "image/png": "[encoded data removed]",
            "text/plain": [
              "<Figure size 577.75x500 with 1 Axes>"
            ]
          },
          "metadata": {},
          "output_type": "display_data"
        }
      ],
      "source": [
        "sns.displot(\n",
        "    df_standard,\n",
        "    x='허리둘레',\n",
        "    hue='성별',\n",
        "    kind='kde',\n",
        ")"
      ]
    },
    {
      "cell_type": "code",
      "execution_count": 126,
      "metadata": {},
      "outputs": [],
      "source": [
        "min_max_scaler = MinMaxScaler()\n",
        "man_min_max = min_max_scaler.fit_transform(man)"
      ]
    },
    {
      "cell_type": "code",
      "execution_count": 127,
      "metadata": {},
      "outputs": [],
      "source": [
        "man_min_max = pd.DataFrame(man_min_max, columns=['허리둘레'])\n",
        "man_min_max['성별'] = '남자'"
      ]
    },
    {
      "cell_type": "code",
      "execution_count": 131,
      "metadata": {},
      "outputs": [],
      "source": [
        "min_max_scaler = MinMaxScaler()\n",
        "woman_min_max = min_max_scaler.fit_transform(woman)"
      ]
    },
    {
      "cell_type": "code",
      "execution_count": 132,
      "metadata": {},
      "outputs": [],
      "source": [
        "woman_min_max = pd.DataFrame(woman_min_max, columns=['허리둘레'])\n",
        "woman_min_max['성별'] = '여자'"
      ]
    },
    {
      "cell_type": "code",
      "execution_count": 134,
      "metadata": {},
      "outputs": [],
      "source": [
        "df_min_max = pd.concat([man_min_max, woman_min_max])"
      ]
    },
    {
      "cell_type": "code",
      "execution_count": 145,
      "metadata": {},
      "outputs": [
        {
          "data": {
            "text/plain": [
              "<seaborn.axisgrid.FacetGrid at 0x265ad827e60>"
            ]
          },
          "execution_count": 145,
          "metadata": {},
          "output_type": "execute_result"
        },
        {
          "data": {
            "image/png": "[encoded data removed]",
            "text/plain": [
              "<Figure size 577.75x500 with 1 Axes>"
            ]
          },
          "metadata": {},
          "output_type": "display_data"
        }
      ],
      "source": [
        "sns.displot(\n",
        "    df_min_max,\n",
        "    x='허리둘레',\n",
        "    hue='성별',\n",
        "    kind='kde',\n",
        ")"
      ]
    },
    {
      "cell_type": "code",
      "execution_count": 157,
      "metadata": {},
      "outputs": [
        {
          "name": "stderr",
          "output_type": "stream",
          "text": [
            "c:\\ProgramData\\anaconda3\\Lib\\site-packages\\numpy\\core\\fromnumeric.py:59: FutureWarning:\n",
            "\n",
            "'DataFrame.swapaxes' is deprecated and will be removed in a future version. Please use 'DataFrame.transpose' instead.\n",
            "\n"
          ]
        }
      ],
      "source": [
        "# 삼성전자 주식 데이터 사용, numpy를 이용하여 10일 이동평균(종가) 계산\n",
        "samsung_stock_price = pd.read_csv(\n",
        "    './data/samsung.csv',\n",
        "    usecols=['일자', '종가'],\n",
        "    encoding='cp949',\n",
        ").sort_values(['일자']).set_index(['일자'])\n",
        "# 전체 구간을 3등분하여 train, valid, test set을 구성하려고 한다\n",
        "train, valid, test = np.array_split(samsung_stock_price, 3)\n",
        "\n",
        "# standard scaler를 사용하여 scaling을 진행하려고 한다\n",
        "standard_scaler = StandardScaler()\n",
        "train.loc[:] = standard_scaler.fit_transform(train)\n",
        "valid.loc[:] = standard_scaler.transform(valid)\n",
        "test.loc[:] = standard_scaler.transform(test)\n",
        "\n",
        "# 이 때 데이터는 train, valid, test 내에서 이동평균을 학습하려고 하며\n",
        "train_sliding_view = np.lib.stride_tricks.sliding_window_view(train.종가, 10)\n",
        "train_mean_average = train_sliding_view.mean(axis=1)\n",
        "\n",
        "valid_sliding_view = np.lib.stride_tricks.sliding_window_view(valid.종가, 10)\n",
        "valid_mean_average = valid_sliding_view.mean(axis=1)\n",
        "\n",
        "test_sliding_view = np.lib.stride_tricks.sliding_window_view(test.종가, 10)\n",
        "test_mean_average = test_sliding_view.mean(axis=1)\n",
        "\n",
        "\n",
        "#  이동평균의 경우 1, 2, 3, 4, 5, 6, 7에서 window가 5일 때,\n",
        "# 1은 1까지의 평균\n",
        "# 2는 2까지의 평균\n",
        "# 3은 3까지의 평균\n",
        "# 4는 4까지의 평균으로 결측치를 채우려고 한다\n",
        "\n",
        "# 완성된 이동평균을 시계열 그림으로 출력하라"
      ]
    },
    {
      "cell_type": "code",
      "execution_count": 171,
      "metadata": {},
      "outputs": [],
      "source": [
        "x = np.tril(train.종가[:9].values)\n",
        "x = np.nanmean(np.where(x == 0, np.nan, x), axis=-1)"
      ]
    },
    {
      "cell_type": "code",
      "execution_count": 172,
      "metadata": {},
      "outputs": [],
      "source": [
        "train_mean_average = train_sliding_view.mean(axis=1)"
      ]
    },
    {
      "cell_type": "code",
      "execution_count": 174,
      "metadata": {},
      "outputs": [],
      "source": [
        "x = np.concatenate([x, train_mean_average])"
      ]
    },
    {
      "cell_type": "code",
      "execution_count": 176,
      "metadata": {},
      "outputs": [
        {
          "data": {
            "text/plain": [
              "(82, 1)"
            ]
          },
          "execution_count": 176,
          "metadata": {},
          "output_type": "execute_result"
        }
      ],
      "source": [
        "train.shape"
      ]
    },
    {
      "cell_type": "code",
      "execution_count": 175,
      "metadata": {},
      "outputs": [
        {
          "data": {
            "text/plain": [
              "(82,)"
            ]
          },
          "execution_count": 175,
          "metadata": {},
          "output_type": "execute_result"
        }
      ],
      "source": [
        "x.shape"
      ]
    }
  ],
  "metadata": {
    "colab": {
      "provenance": []
    },
    "kernelspec": {
      "display_name": "Python 3.9.12 ('base')",
      "language": "python",
      "name": "python3"
    },
    "language_info": {
      "codemirror_mode": {
        "name": "ipython",
        "version": 3
      },
      "file_extension": ".py",
      "mimetype": "text/x-python",
      "name": "python",
      "nbconvert_exporter": "python",
      "pygments_lexer": "ipython3",
      "version": "3.12.4"
    },
    "vscode": {
      "interpreter": {
        "hash": "e4af6128c7e0808fede432f38729c473c5b0d80882e83c469acdb54455c56396"
      }
    }
  },
  "nbformat": 4,
  "nbformat_minor": 0
}
