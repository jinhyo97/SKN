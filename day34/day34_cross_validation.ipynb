{
  "cells": [
    {
      "cell_type": "markdown",
      "metadata": {},
      "source": [
        "# Library"
      ]
    },
    {
      "cell_type": "code",
      "execution_count": 34,
      "metadata": {},
      "outputs": [],
      "source": [
        "import pandas as pd\n",
        "import numpy as np\n",
        "import json\n",
        "from lightgbm import LGBMClassifier\n",
        "\n",
        "from sklearn.preprocessing import StandardScaler\n",
        "from sklearn.model_selection import (\n",
        "    train_test_split,\n",
        "    KFold,\n",
        "    StratifiedKFold,\n",
        "    TimeSeriesSplit,\n",
        ")\n",
        "from sklearn.metrics import classification_report, confusion_matrix\n",
        "\n",
        "import torch\n",
        "import torch.nn as nn\n",
        "import torch.nn.functional as F\n",
        "import torchvision.datasets as ds\n",
        "import torchvision.transforms as transforms\n",
        "from torch.utils.data import DataLoader\n",
        "\n",
        "import matplotlib.pyplot as plt\n",
        "import seaborn as sns\n",
        "import plotly.express as px"
      ]
    },
    {
      "cell_type": "code",
      "execution_count": 14,
      "metadata": {},
      "outputs": [],
      "source": [
        "def convert_category_into_integer(df: pd.DataFrame, columns: list):\n",
        "    label_encoders = {}\n",
        "    for column in columns:\n",
        "        label_encoder = LabelEncoder()\n",
        "        df.loc[:, column] = label_encoder.fit_transform(df[column])\n",
        "\n",
        "        label_encoders.update({column: label_encoder})\n",
        "    \n",
        "    return df, label_encoders"
      ]
    },
    {
      "cell_type": "markdown",
      "metadata": {},
      "source": [
        "# Metrics\n",
        "\n",
        "특정한 성과나 특성을 수치적으로 측정하고 평가하는 방법이나 기준. <br>\n",
        "classificaiton task에서는 accuracy, F1 등이 존재"
      ]
    },
    {
      "cell_type": "markdown",
      "metadata": {},
      "source": [
        "## Confusion Matrix\n",
        "\n",
        "<img src=\"https://images.prismic.io/encord/edfa849b-03fb-43d2-aba5-1f53a8884e6f_image5.png?auto=compress,format\" width=\"600\" height=\"300\"/>\n",
        "\n",
        "혼동 행렬(confusion matrix)은 분류 모델의 성능을 평가하기 위해 사용되는 표 형식의 도구 <br>\n",
        "모델의 예측 결과와 실제 값을 비교하여 각 클래스에 대한 정확한 예측과 잘못된 예측의 수를 시각적으로 표현 <br>\n",
        "\n",
        "<br>\n",
        "\n",
        "<font style=\"font-size:20px\"> 구성 요소 </font> <br>\n",
        "- True Positive (TP): 실제 양성 클래스를 모델이 올바르게 양성으로 예측한 수\n",
        "- True Negative (TN): 실제 음성 클래스를 모델이 올바르게 음성으로 예측한 수\n",
        "- False Positive (FP): 실제 음성 클래스를 모델이 잘못 양성으로 예측한 수 (Type I error)\n",
        "- False Negative (FN): 실제 양성 클래스를 모델이 잘못 음성으로 예측한 수 (Type II error)"
      ]
    },
    {
      "cell_type": "markdown",
      "metadata": {},
      "source": [
        "### Accuracy\n",
        "\n",
        "전체 샘플 중에서 모델이 올바르게 분류한 샘플의 비율\n",
        "\n",
        "$$\n",
        "\\text{Accuracy} = \\frac{\\text{TP} + \\text{TN}}{\\text{TP} + \\text{TN} + \\text{FP} + \\text{FN}}\n",
        "$$\n",
        "\n",
        "<br>\n",
        "\n",
        "<font style=\"font-size:16px\"> 특징 </font> <br>\n",
        "\n",
        "모든 클래스의 균형이 잡혀 있을 때 좋은 지표. <br>\n",
        "1에 가까울수록 모델의 성능이 좋음. <br>\n",
        "클래스 불균형이 심할 경우, 정확도는 오해를 불러일으킬 수 있음. <br>\n",
        "&nbsp;&nbsp;&nbsp;&nbsp; ex) 99.99%의 샘플이 음성이고 0.01%가 양성인 경우, 모델이 항상 음성으로 예측하더라도 99.99%의 정확도를 보일 수 있음"
      ]
    },
    {
      "cell_type": "markdown",
      "metadata": {},
      "source": [
        "### Precision\n",
        "\n",
        "모델이 양성으로 예측한 샘플 중 실제로 양성인 샘플의 비율 <br>\n",
        "\n",
        "<br>\n",
        "\n",
        "$$\n",
        "\\text{Precision} = \\frac{\\text{TP}}{\\text{TP} + \\text{FP}}\n",
        "$$\n",
        "\n",
        "<br>\n",
        "\n",
        "<font style=\"font-size:16px\"> 특징 </font> <br>\n",
        "정밀도(precision)가 높으면 모델이 양성으로 예측한 결과가 신뢰할 수 있다는 의미. 즉, 잘못된 긍정 예측(FP)이 적음. <br>\n",
        "1에 가까울수록 모델의 성능이 좋음. <br>\n",
        "기존 시스템에서 오분류가 심각할 경우 주요 지표로 활용. <br>\n",
        "&nbsp;&nbsp;&nbsp;&nbsp; ex) 정상 메일 중 스팸 메일로 분류되는 비율이 높은 시스템을 개선할 때. <br>\n",
        "&nbsp;&nbsp;&nbsp;&nbsp;&nbsp;&nbsp;&nbsp;&nbsp;&nbsp;&nbsp;&nbsp; 암 진단에서 기존 모델이 암이 아닌데도 암이라고 예측하는 시스템을 개선하는 경우. <br> "
      ]
    },
    {
      "cell_type": "markdown",
      "metadata": {},
      "source": [
        "### Recall\n",
        "\n",
        "실제 양성 샘플 중 모델이 양성으로 올바르게 예측한 비율 <br>\n",
        "\n",
        "<br>\n",
        "\n",
        "$$\n",
        "\\text{Recall} = \\frac{\\text{TP}}{\\text{TP} + \\text{FN}}\n",
        "$$\n",
        "\n",
        "<font style=\"font-size:16px\"> 특징 </font> <br>\n",
        "재현율(recall)이 높으면 모델의 검출력이 좋다는 의미. <br>\n",
        "1에 가까울수록 모델의 성능이 좋음. <br>\n",
        "특정 현상을 검출하는 것이 중요할 때 활용. <br>\n",
        "&nbsp;&nbsp;&nbsp;&nbsp; ex) default 위험을 조기진단 할 때 default를 예측하지 못하는 경우 시스템 붕괴로 이어질 수 있음. <br>\n",
        "\n"
      ]
    },
    {
      "cell_type": "markdown",
      "metadata": {},
      "source": [
        "### F1\n",
        "\n",
        "정밀도(Precision)와 재현율(Recall)의 조화 평균. <br>\n",
        "두 지표 간의 균형을 중요시할 때 사용. <br>\n",
        "\n",
        "<br>\n",
        "\n",
        "$$\n",
        "\\text{F1 Score} = 2 \\times \\frac{\\text{Precision} \\times \\text{Recall}}{\\text{Precision} + \\text{Recall}}\n",
        "$$\n",
        "\n",
        "<br>\n",
        "\n",
        "<font style=\"font-size:16px\"> 특징 </font> <br>\n",
        "\n",
        "클래스 불균형이 심할 때 유용. <br>\n",
        "1에 가까울수록 모델의 성능이 좋음. <br>"
      ]
    },
    {
      "cell_type": "code",
      "execution_count": 74,
      "metadata": {},
      "outputs": [],
      "source": [
        "titanic = sns.load_dataset('titanic')\n",
        "titanic.deck = titanic.deck.astype(str)\n",
        "titanic = titanic.drop(columns=['alive'])\n",
        "titanic = titanic.dropna()\n",
        "titanic = titanic.reset_index()"
      ]
    },
    {
      "cell_type": "code",
      "execution_count": 75,
      "metadata": {},
      "outputs": [
        {
          "name": "stdout",
          "output_type": "stream",
          "text": [
            "<class 'pandas.core.frame.DataFrame'>\n",
            "RangeIndex: 712 entries, 0 to 711\n",
            "Data columns (total 15 columns):\n",
            " #   Column       Non-Null Count  Dtype   \n",
            "---  ------       --------------  -----   \n",
            " 0   index        712 non-null    int64   \n",
            " 1   survived     712 non-null    int64   \n",
            " 2   pclass       712 non-null    int64   \n",
            " 3   sex          712 non-null    category\n",
            " 4   age          712 non-null    float64 \n",
            " 5   sibsp        712 non-null    int64   \n",
            " 6   parch        712 non-null    int64   \n",
            " 7   fare         712 non-null    float64 \n",
            " 8   embarked     712 non-null    category\n",
            " 9   class        712 non-null    category\n",
            " 10  who          712 non-null    category\n",
            " 11  adult_male   712 non-null    category\n",
            " 12  deck         712 non-null    category\n",
            " 13  embark_town  712 non-null    category\n",
            " 14  alone        712 non-null    category\n",
            "dtypes: category(8), float64(2), int64(5)\n",
            "memory usage: 45.8 KB\n"
          ]
        }
      ],
      "source": [
        "titanic.sex = titanic.sex.astype('category')\n",
        "titanic.embarked = titanic.embarked.astype('category')\n",
        "titanic['class'] = titanic['class'].astype('category')\n",
        "titanic.who = titanic.who.astype('category')\n",
        "titanic.adult_male = titanic.adult_male.astype('category')\n",
        "titanic.deck = titanic.deck.astype('category')\n",
        "titanic.embark_town = titanic.embark_town.astype('category')\n",
        "titanic.alone = titanic.alone.astype('category')\n",
        "titanic.info()"
      ]
    },
    {
      "cell_type": "code",
      "execution_count": 22,
      "metadata": {},
      "outputs": [],
      "source": [
        "seed = 0\n",
        "train, temp = train_test_split(titanic, test_size=0.4, random_state=seed)\n",
        "valid, test = train_test_split(temp, test_size=0.5, random_state=seed)"
      ]
    },
    {
      "cell_type": "code",
      "execution_count": null,
      "metadata": {},
      "outputs": [],
      "source": [
        "lgbm = LGBMClassifier(verbose=0)\n",
        "lgbm.fit(\n",
        "    train.drop(columns=['survived']), train.survived,\n",
        "    eval_set=(valid.drop(columns=['survived']), valid.survived)\n",
        ")"
      ]
    },
    {
      "cell_type": "code",
      "execution_count": 28,
      "metadata": {},
      "outputs": [
        {
          "data": {
            "text/plain": [
              "0.7972027972027972"
            ]
          },
          "execution_count": 28,
          "metadata": {},
          "output_type": "execute_result"
        }
      ],
      "source": [
        "lgbm.score(test.drop(columns=['survived']), test.survived)"
      ]
    },
    {
      "cell_type": "code",
      "execution_count": 32,
      "metadata": {},
      "outputs": [
        {
          "name": "stdout",
          "output_type": "stream",
          "text": [
            "              precision    recall  f1-score   support\n",
            "\n",
            "           0       0.83      0.84      0.83        86\n",
            "           1       0.75      0.74      0.74        57\n",
            "\n",
            "    accuracy                           0.80       143\n",
            "   macro avg       0.79      0.79      0.79       143\n",
            "weighted avg       0.80      0.80      0.80       143\n",
            "\n"
          ]
        }
      ],
      "source": [
        "print(\n",
        "    classification_report(\n",
        "        test.survived,\n",
        "        lgbm.predict(test.drop(columns=['survived'])),\n",
        "    )\n",
        ")"
      ]
    },
    {
      "cell_type": "code",
      "execution_count": 35,
      "metadata": {},
      "outputs": [
        {
          "data": {
            "text/plain": [
              "array([[72, 14],\n",
              "       [15, 42]], dtype=int64)"
            ]
          },
          "execution_count": 35,
          "metadata": {},
          "output_type": "execute_result"
        }
      ],
      "source": [
        "confusion_matrix(\n",
        "    test.survived,\n",
        "    lgbm.predict(test.drop(columns=['survived'])),\n",
        ")"
      ]
    },
    {
      "cell_type": "code",
      "execution_count": 40,
      "metadata": {},
      "outputs": [
        {
          "name": "stdout",
          "output_type": "stream",
          "text": [
            "acc:  79.72%\n",
            "precision:  82.76%\n",
            "recall:  83.72%\n",
            "f1:  83.24%\n"
          ]
        }
      ],
      "source": [
        "# target: 0 \n",
        "acc = (72+42) / (72+14+15+42)\n",
        "precision = 72 / (72+15)\n",
        "recall = 72 / (72+14)\n",
        "f1 = 2*precision*recall / (precision+recall)\n",
        "\n",
        "print(f'acc: {acc*100: .2f}%')\n",
        "print(f'precision: {precision*100: .2f}%')\n",
        "print(f'recall: {recall*100: .2f}%')\n",
        "print(f'f1: {f1*100: .2f}%')"
      ]
    },
    {
      "cell_type": "code",
      "execution_count": 43,
      "metadata": {},
      "outputs": [
        {
          "name": "stdout",
          "output_type": "stream",
          "text": [
            "acc:  79.72%\n",
            "precision:  75.00%\n",
            "recall:  73.68%\n",
            "f1:  74.34%\n"
          ]
        }
      ],
      "source": [
        "# target: 1 \n",
        "acc = (72+42) / (72+14+15+42)\n",
        "precision = 42 / (42+14)\n",
        "recall = 42 / (42+15)\n",
        "f1 = 2*precision*recall / (precision+recall)\n",
        "\n",
        "print(f'acc: {acc*100: .2f}%')\n",
        "print(f'precision: {precision*100: .2f}%')\n",
        "print(f'recall: {recall*100: .2f}%')\n",
        "print(f'f1: {f1*100: .2f}%')"
      ]
    },
    {
      "cell_type": "code",
      "execution_count": 44,
      "metadata": {},
      "outputs": [
        {
          "data": {
            "text/plain": [
              "array([[42, 15],\n",
              "       [14, 72]], dtype=int64)"
            ]
          },
          "execution_count": 44,
          "metadata": {},
          "output_type": "execute_result"
        }
      ],
      "source": [
        "confusion_matrix(\n",
        "    np.where(test.survived==0, 1, 0),\n",
        "    np.where(lgbm.predict(test.drop(columns=['survived']))==0, 1, 0),\n",
        ")"
      ]
    },
    {
      "cell_type": "markdown",
      "metadata": {
        "id": "uHNXXHMkmDbj"
      },
      "source": [
        "# Cross-Validation\n",
        "\n",
        "Cross-validation은 머신러닝에서 일반화 성능을 평가하기 위한 방법 중 하나. <br>\n",
        "머신러닝 퍼포먼스 측정 시 평가 데이터에서 퍼포먼스를 측정하게 되는데, 이 때 퍼포먼스는 주어진 테스트 데이터의 패턴이 얼마나 학습 데이터와 유사한가에 의존. <br>\n",
        "따라서, 학습 시 여러 조합의 학습, 평가 데이터로 나누어 모델의 퍼포먼스를 측정하여, 특정 데이터 조합에서 퍼포먼스가 과도하게 높은지, 낮은지 확인하여 모델의 일반화 성능을 측정.\n",
        "\n",
        "일반적으로는 K-fold cross-validation을 사용."
      ]
    },
    {
      "cell_type": "markdown",
      "metadata": {
        "id": "7YBsGydft0MT"
      },
      "source": [
        "## K-fold Cross-Validation\n",
        "\n",
        "<img src=\"https://scikit-learn.org/stable/_images/grid_search_cross_validation.png\" width=\"700\" height=\"400\"/>\n",
        "\n",
        "<br>\n",
        "\n",
        "<font style=\"font-size:30px\"> **방법** </font>\n",
        "1. 원본 데이터를 k개의 동일한 사이즈로 분할 (K-fold)\n",
        "2. fold에서 1 fold를 테스트 데이터로 나머지 데이터를 학습 데이터로하여 fold의 개수 만큼 학습 진행\n",
        "3. fold별 performane 추정\n",
        "4. 얻어진 fold별 performance를 평균 등으로 집계하여 전체적인 퍼포먼스 추정\n",
        "  - 퍼포먼스의 편차가 큰지, 혹은 과하거나 적은 fold가 존재하는지 파악\n",
        "  - overestimated된 fold나 underestimated된 fold를 파악하여 분석\n",
        "\n",
        "**장점** <br>\n",
        "1. Bias 감소: 여러 결과를 결합하기에 단일 데이터 셋에서 수행됐던 결과보다 더 낮은 bias를 가짐.<br>\n",
        "    -> 모델 신뢰도 향상\n",
        "2. 모델 및 하이퍼파라미터 선택: 여러 조합 중 가장 높은 퍼포먼스를 보이는 모델을 선택하거나 하이퍼파라미터를 선택할 수 있음\n",
        "\n",
        "<br>\n",
        "\n",
        "**사용 방법**\n",
        "\n",
        "> ```python\n",
        "> from sklearn.model_selection import KFold\n",
        ">\n",
        "> k_fold = KFold()  # n_splits: 5 (default)\n",
        "> for i, (train_index, test_index) in enumerate(k_fold.split(data)):\n",
        ">   train_x = data[train_index]\n",
        ">   train_y = data[test_index]\n",
        ">   ...\n",
        "> ```\n",
        "\n",
        "<br>\n",
        "\n",
        "**Parameters of KFold**\n",
        "- shuffle: 데이터를 섞어서 fold 생성\n",
        "- random state: 재현성을 위한 시드 넘버\n",
        "- n_splits: 몇 개의 fold로 구성할 것인지 설정"
      ]
    },
    {
      "cell_type": "code",
      "execution_count": 47,
      "metadata": {},
      "outputs": [
        {
          "name": "stdout",
          "output_type": "stream",
          "text": [
            "1-fold\n",
            "[143 144 145 146 147 148 149 150 151 152 153 154 155 156 157 158 159 160\n",
            " 161 162 163 164 165 166 167 168 169 170 171 172 173 174 175 176 177 178\n",
            " 179 180 181 182 183 184 185 186 187 188 189 190 191 192 193 194 195 196\n",
            " 197 198 199 200 201 202 203 204 205 206 207 208 209 210 211 212 213 214\n",
            " 215 216 217 218 219 220 221 222 223 224 225 226 227 228 229 230 231 232\n",
            " 233 234 235 236 237 238 239 240 241 242 243 244 245 246 247 248 249 250\n",
            " 251 252 253 254 255 256 257 258 259 260 261 262 263 264 265 266 267 268\n",
            " 269 270 271 272 273 274 275 276 277 278 279 280 281 282 283 284 285 286\n",
            " 287 288 289 290 291 292 293 294 295 296 297 298 299 300 301 302 303 304\n",
            " 305 306 307 308 309 310 311 312 313 314 315 316 317 318 319 320 321 322\n",
            " 323 324 325 326 327 328 329 330 331 332 333 334 335 336 337 338 339 340\n",
            " 341 342 343 344 345 346 347 348 349 350 351 352 353 354 355 356 357 358\n",
            " 359 360 361 362 363 364 365 366 367 368 369 370 371 372 373 374 375 376\n",
            " 377 378 379 380 381 382 383 384 385 386 387 388 389 390 391 392 393 394\n",
            " 395 396 397 398 399 400 401 402 403 404 405 406 407 408 409 410 411 412\n",
            " 413 414 415 416 417 418 419 420 421 422 423 424 425 426 427 428 429 430\n",
            " 431 432 433 434 435 436 437 438 439 440 441 442 443 444 445 446 447 448\n",
            " 449 450 451 452 453 454 455 456 457 458 459 460 461 462 463 464 465 466\n",
            " 467 468 469 470 471 472 473 474 475 476 477 478 479 480 481 482 483 484\n",
            " 485 486 487 488 489 490 491 492 493 494 495 496 497 498 499 500 501 502\n",
            " 503 504 505 506 507 508 509 510 511 512 513 514 515 516 517 518 519 520\n",
            " 521 522 523 524 525 526 527 528 529 530 531 532 533 534 535 536 537 538\n",
            " 539 540 541 542 543 544 545 546 547 548 549 550 551 552 553 554 555 556\n",
            " 557 558 559 560 561 562 563 564 565 566 567 568 569 570 571 572 573 574\n",
            " 575 576 577 578 579 580 581 582 583 584 585 586 587 588 589 590 591 592\n",
            " 593 594 595 596 597 598 599 600 601 602 603 604 605 606 607 608 609 610\n",
            " 611 612 613 614 615 616 617 618 619 620 621 622 623 624 625 626 627 628\n",
            " 629 630 631 632 633 634 635 636 637 638 639 640 641 642 643 644 645 646\n",
            " 647 648 649 650 651 652 653 654 655 656 657 658 659 660 661 662 663 664\n",
            " 665 666 667 668 669 670 671 672 673 674 675 676 677 678 679 680 681 682\n",
            " 683 684 685 686 687 688 689 690 691 692 693 694 695 696 697 698 699 700\n",
            " 701 702 703 704 705 706 707 708 709 710 711]\n",
            "[  0   1   2   3   4   5   6   7   8   9  10  11  12  13  14  15  16  17\n",
            "  18  19  20  21  22  23  24  25  26  27  28  29  30  31  32  33  34  35\n",
            "  36  37  38  39  40  41  42  43  44  45  46  47  48  49  50  51  52  53\n",
            "  54  55  56  57  58  59  60  61  62  63  64  65  66  67  68  69  70  71\n",
            "  72  73  74  75  76  77  78  79  80  81  82  83  84  85  86  87  88  89\n",
            "  90  91  92  93  94  95  96  97  98  99 100 101 102 103 104 105 106 107\n",
            " 108 109 110 111 112 113 114 115 116 117 118 119 120 121 122 123 124 125\n",
            " 126 127 128 129 130 131 132 133 134 135 136 137 138 139 140 141 142]\n",
            "--------------------------------------------------\n",
            "2-fold\n",
            "[  0   1   2   3   4   5   6   7   8   9  10  11  12  13  14  15  16  17\n",
            "  18  19  20  21  22  23  24  25  26  27  28  29  30  31  32  33  34  35\n",
            "  36  37  38  39  40  41  42  43  44  45  46  47  48  49  50  51  52  53\n",
            "  54  55  56  57  58  59  60  61  62  63  64  65  66  67  68  69  70  71\n",
            "  72  73  74  75  76  77  78  79  80  81  82  83  84  85  86  87  88  89\n",
            "  90  91  92  93  94  95  96  97  98  99 100 101 102 103 104 105 106 107\n",
            " 108 109 110 111 112 113 114 115 116 117 118 119 120 121 122 123 124 125\n",
            " 126 127 128 129 130 131 132 133 134 135 136 137 138 139 140 141 142 286\n",
            " 287 288 289 290 291 292 293 294 295 296 297 298 299 300 301 302 303 304\n",
            " 305 306 307 308 309 310 311 312 313 314 315 316 317 318 319 320 321 322\n",
            " 323 324 325 326 327 328 329 330 331 332 333 334 335 336 337 338 339 340\n",
            " 341 342 343 344 345 346 347 348 349 350 351 352 353 354 355 356 357 358\n",
            " 359 360 361 362 363 364 365 366 367 368 369 370 371 372 373 374 375 376\n",
            " 377 378 379 380 381 382 383 384 385 386 387 388 389 390 391 392 393 394\n",
            " 395 396 397 398 399 400 401 402 403 404 405 406 407 408 409 410 411 412\n",
            " 413 414 415 416 417 418 419 420 421 422 423 424 425 426 427 428 429 430\n",
            " 431 432 433 434 435 436 437 438 439 440 441 442 443 444 445 446 447 448\n",
            " 449 450 451 452 453 454 455 456 457 458 459 460 461 462 463 464 465 466\n",
            " 467 468 469 470 471 472 473 474 475 476 477 478 479 480 481 482 483 484\n",
            " 485 486 487 488 489 490 491 492 493 494 495 496 497 498 499 500 501 502\n",
            " 503 504 505 506 507 508 509 510 511 512 513 514 515 516 517 518 519 520\n",
            " 521 522 523 524 525 526 527 528 529 530 531 532 533 534 535 536 537 538\n",
            " 539 540 541 542 543 544 545 546 547 548 549 550 551 552 553 554 555 556\n",
            " 557 558 559 560 561 562 563 564 565 566 567 568 569 570 571 572 573 574\n",
            " 575 576 577 578 579 580 581 582 583 584 585 586 587 588 589 590 591 592\n",
            " 593 594 595 596 597 598 599 600 601 602 603 604 605 606 607 608 609 610\n",
            " 611 612 613 614 615 616 617 618 619 620 621 622 623 624 625 626 627 628\n",
            " 629 630 631 632 633 634 635 636 637 638 639 640 641 642 643 644 645 646\n",
            " 647 648 649 650 651 652 653 654 655 656 657 658 659 660 661 662 663 664\n",
            " 665 666 667 668 669 670 671 672 673 674 675 676 677 678 679 680 681 682\n",
            " 683 684 685 686 687 688 689 690 691 692 693 694 695 696 697 698 699 700\n",
            " 701 702 703 704 705 706 707 708 709 710 711]\n",
            "[143 144 145 146 147 148 149 150 151 152 153 154 155 156 157 158 159 160\n",
            " 161 162 163 164 165 166 167 168 169 170 171 172 173 174 175 176 177 178\n",
            " 179 180 181 182 183 184 185 186 187 188 189 190 191 192 193 194 195 196\n",
            " 197 198 199 200 201 202 203 204 205 206 207 208 209 210 211 212 213 214\n",
            " 215 216 217 218 219 220 221 222 223 224 225 226 227 228 229 230 231 232\n",
            " 233 234 235 236 237 238 239 240 241 242 243 244 245 246 247 248 249 250\n",
            " 251 252 253 254 255 256 257 258 259 260 261 262 263 264 265 266 267 268\n",
            " 269 270 271 272 273 274 275 276 277 278 279 280 281 282 283 284 285]\n",
            "--------------------------------------------------\n",
            "3-fold\n",
            "[  0   1   2   3   4   5   6   7   8   9  10  11  12  13  14  15  16  17\n",
            "  18  19  20  21  22  23  24  25  26  27  28  29  30  31  32  33  34  35\n",
            "  36  37  38  39  40  41  42  43  44  45  46  47  48  49  50  51  52  53\n",
            "  54  55  56  57  58  59  60  61  62  63  64  65  66  67  68  69  70  71\n",
            "  72  73  74  75  76  77  78  79  80  81  82  83  84  85  86  87  88  89\n",
            "  90  91  92  93  94  95  96  97  98  99 100 101 102 103 104 105 106 107\n",
            " 108 109 110 111 112 113 114 115 116 117 118 119 120 121 122 123 124 125\n",
            " 126 127 128 129 130 131 132 133 134 135 136 137 138 139 140 141 142 143\n",
            " 144 145 146 147 148 149 150 151 152 153 154 155 156 157 158 159 160 161\n",
            " 162 163 164 165 166 167 168 169 170 171 172 173 174 175 176 177 178 179\n",
            " 180 181 182 183 184 185 186 187 188 189 190 191 192 193 194 195 196 197\n",
            " 198 199 200 201 202 203 204 205 206 207 208 209 210 211 212 213 214 215\n",
            " 216 217 218 219 220 221 222 223 224 225 226 227 228 229 230 231 232 233\n",
            " 234 235 236 237 238 239 240 241 242 243 244 245 246 247 248 249 250 251\n",
            " 252 253 254 255 256 257 258 259 260 261 262 263 264 265 266 267 268 269\n",
            " 270 271 272 273 274 275 276 277 278 279 280 281 282 283 284 285 428 429\n",
            " 430 431 432 433 434 435 436 437 438 439 440 441 442 443 444 445 446 447\n",
            " 448 449 450 451 452 453 454 455 456 457 458 459 460 461 462 463 464 465\n",
            " 466 467 468 469 470 471 472 473 474 475 476 477 478 479 480 481 482 483\n",
            " 484 485 486 487 488 489 490 491 492 493 494 495 496 497 498 499 500 501\n",
            " 502 503 504 505 506 507 508 509 510 511 512 513 514 515 516 517 518 519\n",
            " 520 521 522 523 524 525 526 527 528 529 530 531 532 533 534 535 536 537\n",
            " 538 539 540 541 542 543 544 545 546 547 548 549 550 551 552 553 554 555\n",
            " 556 557 558 559 560 561 562 563 564 565 566 567 568 569 570 571 572 573\n",
            " 574 575 576 577 578 579 580 581 582 583 584 585 586 587 588 589 590 591\n",
            " 592 593 594 595 596 597 598 599 600 601 602 603 604 605 606 607 608 609\n",
            " 610 611 612 613 614 615 616 617 618 619 620 621 622 623 624 625 626 627\n",
            " 628 629 630 631 632 633 634 635 636 637 638 639 640 641 642 643 644 645\n",
            " 646 647 648 649 650 651 652 653 654 655 656 657 658 659 660 661 662 663\n",
            " 664 665 666 667 668 669 670 671 672 673 674 675 676 677 678 679 680 681\n",
            " 682 683 684 685 686 687 688 689 690 691 692 693 694 695 696 697 698 699\n",
            " 700 701 702 703 704 705 706 707 708 709 710 711]\n",
            "[286 287 288 289 290 291 292 293 294 295 296 297 298 299 300 301 302 303\n",
            " 304 305 306 307 308 309 310 311 312 313 314 315 316 317 318 319 320 321\n",
            " 322 323 324 325 326 327 328 329 330 331 332 333 334 335 336 337 338 339\n",
            " 340 341 342 343 344 345 346 347 348 349 350 351 352 353 354 355 356 357\n",
            " 358 359 360 361 362 363 364 365 366 367 368 369 370 371 372 373 374 375\n",
            " 376 377 378 379 380 381 382 383 384 385 386 387 388 389 390 391 392 393\n",
            " 394 395 396 397 398 399 400 401 402 403 404 405 406 407 408 409 410 411\n",
            " 412 413 414 415 416 417 418 419 420 421 422 423 424 425 426 427]\n",
            "--------------------------------------------------\n",
            "4-fold\n",
            "[  0   1   2   3   4   5   6   7   8   9  10  11  12  13  14  15  16  17\n",
            "  18  19  20  21  22  23  24  25  26  27  28  29  30  31  32  33  34  35\n",
            "  36  37  38  39  40  41  42  43  44  45  46  47  48  49  50  51  52  53\n",
            "  54  55  56  57  58  59  60  61  62  63  64  65  66  67  68  69  70  71\n",
            "  72  73  74  75  76  77  78  79  80  81  82  83  84  85  86  87  88  89\n",
            "  90  91  92  93  94  95  96  97  98  99 100 101 102 103 104 105 106 107\n",
            " 108 109 110 111 112 113 114 115 116 117 118 119 120 121 122 123 124 125\n",
            " 126 127 128 129 130 131 132 133 134 135 136 137 138 139 140 141 142 143\n",
            " 144 145 146 147 148 149 150 151 152 153 154 155 156 157 158 159 160 161\n",
            " 162 163 164 165 166 167 168 169 170 171 172 173 174 175 176 177 178 179\n",
            " 180 181 182 183 184 185 186 187 188 189 190 191 192 193 194 195 196 197\n",
            " 198 199 200 201 202 203 204 205 206 207 208 209 210 211 212 213 214 215\n",
            " 216 217 218 219 220 221 222 223 224 225 226 227 228 229 230 231 232 233\n",
            " 234 235 236 237 238 239 240 241 242 243 244 245 246 247 248 249 250 251\n",
            " 252 253 254 255 256 257 258 259 260 261 262 263 264 265 266 267 268 269\n",
            " 270 271 272 273 274 275 276 277 278 279 280 281 282 283 284 285 286 287\n",
            " 288 289 290 291 292 293 294 295 296 297 298 299 300 301 302 303 304 305\n",
            " 306 307 308 309 310 311 312 313 314 315 316 317 318 319 320 321 322 323\n",
            " 324 325 326 327 328 329 330 331 332 333 334 335 336 337 338 339 340 341\n",
            " 342 343 344 345 346 347 348 349 350 351 352 353 354 355 356 357 358 359\n",
            " 360 361 362 363 364 365 366 367 368 369 370 371 372 373 374 375 376 377\n",
            " 378 379 380 381 382 383 384 385 386 387 388 389 390 391 392 393 394 395\n",
            " 396 397 398 399 400 401 402 403 404 405 406 407 408 409 410 411 412 413\n",
            " 414 415 416 417 418 419 420 421 422 423 424 425 426 427 570 571 572 573\n",
            " 574 575 576 577 578 579 580 581 582 583 584 585 586 587 588 589 590 591\n",
            " 592 593 594 595 596 597 598 599 600 601 602 603 604 605 606 607 608 609\n",
            " 610 611 612 613 614 615 616 617 618 619 620 621 622 623 624 625 626 627\n",
            " 628 629 630 631 632 633 634 635 636 637 638 639 640 641 642 643 644 645\n",
            " 646 647 648 649 650 651 652 653 654 655 656 657 658 659 660 661 662 663\n",
            " 664 665 666 667 668 669 670 671 672 673 674 675 676 677 678 679 680 681\n",
            " 682 683 684 685 686 687 688 689 690 691 692 693 694 695 696 697 698 699\n",
            " 700 701 702 703 704 705 706 707 708 709 710 711]\n",
            "[428 429 430 431 432 433 434 435 436 437 438 439 440 441 442 443 444 445\n",
            " 446 447 448 449 450 451 452 453 454 455 456 457 458 459 460 461 462 463\n",
            " 464 465 466 467 468 469 470 471 472 473 474 475 476 477 478 479 480 481\n",
            " 482 483 484 485 486 487 488 489 490 491 492 493 494 495 496 497 498 499\n",
            " 500 501 502 503 504 505 506 507 508 509 510 511 512 513 514 515 516 517\n",
            " 518 519 520 521 522 523 524 525 526 527 528 529 530 531 532 533 534 535\n",
            " 536 537 538 539 540 541 542 543 544 545 546 547 548 549 550 551 552 553\n",
            " 554 555 556 557 558 559 560 561 562 563 564 565 566 567 568 569]\n",
            "--------------------------------------------------\n",
            "5-fold\n",
            "[  0   1   2   3   4   5   6   7   8   9  10  11  12  13  14  15  16  17\n",
            "  18  19  20  21  22  23  24  25  26  27  28  29  30  31  32  33  34  35\n",
            "  36  37  38  39  40  41  42  43  44  45  46  47  48  49  50  51  52  53\n",
            "  54  55  56  57  58  59  60  61  62  63  64  65  66  67  68  69  70  71\n",
            "  72  73  74  75  76  77  78  79  80  81  82  83  84  85  86  87  88  89\n",
            "  90  91  92  93  94  95  96  97  98  99 100 101 102 103 104 105 106 107\n",
            " 108 109 110 111 112 113 114 115 116 117 118 119 120 121 122 123 124 125\n",
            " 126 127 128 129 130 131 132 133 134 135 136 137 138 139 140 141 142 143\n",
            " 144 145 146 147 148 149 150 151 152 153 154 155 156 157 158 159 160 161\n",
            " 162 163 164 165 166 167 168 169 170 171 172 173 174 175 176 177 178 179\n",
            " 180 181 182 183 184 185 186 187 188 189 190 191 192 193 194 195 196 197\n",
            " 198 199 200 201 202 203 204 205 206 207 208 209 210 211 212 213 214 215\n",
            " 216 217 218 219 220 221 222 223 224 225 226 227 228 229 230 231 232 233\n",
            " 234 235 236 237 238 239 240 241 242 243 244 245 246 247 248 249 250 251\n",
            " 252 253 254 255 256 257 258 259 260 261 262 263 264 265 266 267 268 269\n",
            " 270 271 272 273 274 275 276 277 278 279 280 281 282 283 284 285 286 287\n",
            " 288 289 290 291 292 293 294 295 296 297 298 299 300 301 302 303 304 305\n",
            " 306 307 308 309 310 311 312 313 314 315 316 317 318 319 320 321 322 323\n",
            " 324 325 326 327 328 329 330 331 332 333 334 335 336 337 338 339 340 341\n",
            " 342 343 344 345 346 347 348 349 350 351 352 353 354 355 356 357 358 359\n",
            " 360 361 362 363 364 365 366 367 368 369 370 371 372 373 374 375 376 377\n",
            " 378 379 380 381 382 383 384 385 386 387 388 389 390 391 392 393 394 395\n",
            " 396 397 398 399 400 401 402 403 404 405 406 407 408 409 410 411 412 413\n",
            " 414 415 416 417 418 419 420 421 422 423 424 425 426 427 428 429 430 431\n",
            " 432 433 434 435 436 437 438 439 440 441 442 443 444 445 446 447 448 449\n",
            " 450 451 452 453 454 455 456 457 458 459 460 461 462 463 464 465 466 467\n",
            " 468 469 470 471 472 473 474 475 476 477 478 479 480 481 482 483 484 485\n",
            " 486 487 488 489 490 491 492 493 494 495 496 497 498 499 500 501 502 503\n",
            " 504 505 506 507 508 509 510 511 512 513 514 515 516 517 518 519 520 521\n",
            " 522 523 524 525 526 527 528 529 530 531 532 533 534 535 536 537 538 539\n",
            " 540 541 542 543 544 545 546 547 548 549 550 551 552 553 554 555 556 557\n",
            " 558 559 560 561 562 563 564 565 566 567 568 569]\n",
            "[570 571 572 573 574 575 576 577 578 579 580 581 582 583 584 585 586 587\n",
            " 588 589 590 591 592 593 594 595 596 597 598 599 600 601 602 603 604 605\n",
            " 606 607 608 609 610 611 612 613 614 615 616 617 618 619 620 621 622 623\n",
            " 624 625 626 627 628 629 630 631 632 633 634 635 636 637 638 639 640 641\n",
            " 642 643 644 645 646 647 648 649 650 651 652 653 654 655 656 657 658 659\n",
            " 660 661 662 663 664 665 666 667 668 669 670 671 672 673 674 675 676 677\n",
            " 678 679 680 681 682 683 684 685 686 687 688 689 690 691 692 693 694 695\n",
            " 696 697 698 699 700 701 702 703 704 705 706 707 708 709 710 711]\n",
            "--------------------------------------------------\n"
          ]
        }
      ],
      "source": [
        "k_fold = KFold(shuffle=False)\n",
        "for i, (train_index, test_index) in enumerate(k_fold.split(titanic)):\n",
        "    print(f'{i+1}-fold')\n",
        "    print(train_index)\n",
        "    print(test_index)\n",
        "    print('-'*50)"
      ]
    },
    {
      "cell_type": "code",
      "execution_count": 76,
      "metadata": {},
      "outputs": [
        {
          "name": "stdout",
          "output_type": "stream",
          "text": [
            "[LightGBM] [Warning] No further splits with positive gain, best gain: -inf\n",
            "[LightGBM] [Warning] No further splits with positive gain, best gain: -inf\n",
            "[LightGBM] [Warning] No further splits with positive gain, best gain: -inf\n",
            "[LightGBM] [Warning] No further splits with positive gain, best gain: -inf\n",
            "[LightGBM] [Warning] No further splits with positive gain, best gain: -inf\n",
            "[LightGBM] [Warning] No further splits with positive gain, best gain: -inf\n",
            "[LightGBM] [Warning] No further splits with positive gain, best gain: -inf\n",
            "[LightGBM] [Warning] No further splits with positive gain, best gain: -inf\n",
            "[LightGBM] [Warning] No further splits with positive gain, best gain: -inf\n",
            "[LightGBM] [Warning] No further splits with positive gain, best gain: -inf\n",
            "[LightGBM] [Warning] No further splits with positive gain, best gain: -inf\n",
            "[LightGBM] [Warning] No further splits with positive gain, best gain: -inf\n",
            "[LightGBM] [Warning] No further splits with positive gain, best gain: -inf\n",
            "[LightGBM] [Warning] No further splits with positive gain, best gain: -inf\n",
            "[LightGBM] [Warning] No further splits with positive gain, best gain: -inf\n",
            "[LightGBM] [Warning] No further splits with positive gain, best gain: -inf\n",
            "[LightGBM] [Warning] No further splits with positive gain, best gain: -inf\n",
            "[LightGBM] [Warning] No further splits with positive gain, best gain: -inf\n",
            "[LightGBM] [Warning] No further splits with positive gain, best gain: -inf\n",
            "[LightGBM] [Warning] No further splits with positive gain, best gain: -inf\n",
            "[LightGBM] [Warning] No further splits with positive gain, best gain: -inf\n",
            "[LightGBM] [Warning] No further splits with positive gain, best gain: -inf\n",
            "[LightGBM] [Warning] No further splits with positive gain, best gain: -inf\n",
            "[LightGBM] [Warning] No further splits with positive gain, best gain: -inf\n",
            "[LightGBM] [Warning] No further splits with positive gain, best gain: -inf\n",
            "[LightGBM] [Warning] No further splits with positive gain, best gain: -inf\n",
            "[LightGBM] [Warning] No further splits with positive gain, best gain: -inf\n",
            "[LightGBM] [Warning] No further splits with positive gain, best gain: -inf\n",
            "[LightGBM] [Warning] No further splits with positive gain, best gain: -inf\n",
            "[LightGBM] [Warning] No further splits with positive gain, best gain: -inf\n",
            "[LightGBM] [Warning] No further splits with positive gain, best gain: -inf\n",
            "[LightGBM] [Warning] No further splits with positive gain, best gain: -inf\n",
            "[LightGBM] [Warning] No further splits with positive gain, best gain: -inf\n",
            "[LightGBM] [Warning] No further splits with positive gain, best gain: -inf\n",
            "[LightGBM] [Warning] No further splits with positive gain, best gain: -inf\n",
            "[LightGBM] [Warning] No further splits with positive gain, best gain: -inf\n",
            "[LightGBM] [Warning] No further splits with positive gain, best gain: -inf\n",
            "[LightGBM] [Warning] No further splits with positive gain, best gain: -inf\n",
            "[LightGBM] [Warning] No further splits with positive gain, best gain: -inf\n",
            "[LightGBM] [Warning] No further splits with positive gain, best gain: -inf\n",
            "[LightGBM] [Warning] No further splits with positive gain, best gain: -inf\n",
            "[LightGBM] [Warning] No further splits with positive gain, best gain: -inf\n",
            "[LightGBM] [Warning] No further splits with positive gain, best gain: -inf\n",
            "[LightGBM] [Warning] No further splits with positive gain, best gain: -inf\n",
            "[LightGBM] [Warning] No further splits with positive gain, best gain: -inf\n",
            "[LightGBM] [Warning] No further splits with positive gain, best gain: -inf\n",
            "[LightGBM] [Warning] No further splits with positive gain, best gain: -inf\n",
            "[LightGBM] [Warning] No further splits with positive gain, best gain: -inf\n",
            "[LightGBM] [Warning] No further splits with positive gain, best gain: -inf\n",
            "[LightGBM] [Warning] No further splits with positive gain, best gain: -inf\n",
            "[LightGBM] [Warning] No further splits with positive gain, best gain: -inf\n",
            "[LightGBM] [Warning] No further splits with positive gain, best gain: -inf\n",
            "[LightGBM] [Warning] No further splits with positive gain, best gain: -inf\n",
            "[LightGBM] [Warning] No further splits with positive gain, best gain: -inf\n",
            "[LightGBM] [Warning] No further splits with positive gain, best gain: -inf\n",
            "[LightGBM] [Warning] No further splits with positive gain, best gain: -inf\n",
            "[LightGBM] [Warning] No further splits with positive gain, best gain: -inf\n",
            "[LightGBM] [Warning] No further splits with positive gain, best gain: -inf\n",
            "[LightGBM] [Warning] No further splits with positive gain, best gain: -inf\n",
            "[LightGBM] [Warning] No further splits with positive gain, best gain: -inf\n",
            "[LightGBM] [Warning] No further splits with positive gain, best gain: -inf\n",
            "[LightGBM] [Warning] No further splits with positive gain, best gain: -inf\n",
            "[LightGBM] [Warning] No further splits with positive gain, best gain: -inf\n",
            "[LightGBM] [Warning] No further splits with positive gain, best gain: -inf\n",
            "[LightGBM] [Warning] No further splits with positive gain, best gain: -inf\n",
            "[LightGBM] [Warning] No further splits with positive gain, best gain: -inf\n",
            "[LightGBM] [Warning] No further splits with positive gain, best gain: -inf\n",
            "[LightGBM] [Warning] No further splits with positive gain, best gain: -inf\n",
            "[LightGBM] [Warning] No further splits with positive gain, best gain: -inf\n",
            "[LightGBM] [Warning] No further splits with positive gain, best gain: -inf\n",
            "[LightGBM] [Warning] No further splits with positive gain, best gain: -inf\n",
            "[LightGBM] [Warning] No further splits with positive gain, best gain: -inf\n",
            "[LightGBM] [Warning] No further splits with positive gain, best gain: -inf\n",
            "[LightGBM] [Warning] No further splits with positive gain, best gain: -inf\n",
            "[LightGBM] [Warning] No further splits with positive gain, best gain: -inf\n",
            "[LightGBM] [Warning] No further splits with positive gain, best gain: -inf\n",
            "[LightGBM] [Warning] No further splits with positive gain, best gain: -inf\n",
            "[LightGBM] [Warning] No further splits with positive gain, best gain: -inf\n",
            "[LightGBM] [Warning] No further splits with positive gain, best gain: -inf\n",
            "[LightGBM] [Warning] No further splits with positive gain, best gain: -inf\n",
            "[LightGBM] [Warning] No further splits with positive gain, best gain: -inf\n",
            "[LightGBM] [Warning] No further splits with positive gain, best gain: -inf\n",
            "[LightGBM] [Warning] No further splits with positive gain, best gain: -inf\n",
            "[LightGBM] [Warning] No further splits with positive gain, best gain: -inf\n",
            "[LightGBM] [Warning] No further splits with positive gain, best gain: -inf\n",
            "[LightGBM] [Warning] No further splits with positive gain, best gain: -inf\n",
            "[LightGBM] [Warning] No further splits with positive gain, best gain: -inf\n",
            "[LightGBM] [Warning] No further splits with positive gain, best gain: -inf\n",
            "[LightGBM] [Warning] No further splits with positive gain, best gain: -inf\n",
            "[LightGBM] [Warning] No further splits with positive gain, best gain: -inf\n",
            "[LightGBM] [Warning] No further splits with positive gain, best gain: -inf\n",
            "[LightGBM] [Warning] No further splits with positive gain, best gain: -inf\n",
            "[LightGBM] [Warning] No further splits with positive gain, best gain: -inf\n",
            "[LightGBM] [Warning] No further splits with positive gain, best gain: -inf\n",
            "[LightGBM] [Warning] No further splits with positive gain, best gain: -inf\n",
            "[LightGBM] [Warning] No further splits with positive gain, best gain: -inf\n",
            "[LightGBM] [Warning] No further splits with positive gain, best gain: -inf\n",
            "[LightGBM] [Warning] No further splits with positive gain, best gain: -inf\n",
            "[LightGBM] [Warning] No further splits with positive gain, best gain: -inf\n",
            "[LightGBM] [Warning] No further splits with positive gain, best gain: -inf\n",
            "fold0 | precision:  0.80, recall:  0.67, recall:  0.67, accuracy:  0.79\n",
            "[LightGBM] [Warning] No further splits with positive gain, best gain: -inf\n",
            "[LightGBM] [Warning] No further splits with positive gain, best gain: -inf\n",
            "[LightGBM] [Warning] No further splits with positive gain, best gain: -inf\n",
            "[LightGBM] [Warning] No further splits with positive gain, best gain: -inf\n",
            "[LightGBM] [Warning] No further splits with positive gain, best gain: -inf\n",
            "[LightGBM] [Warning] No further splits with positive gain, best gain: -inf\n",
            "[LightGBM] [Warning] No further splits with positive gain, best gain: -inf\n",
            "[LightGBM] [Warning] No further splits with positive gain, best gain: -inf\n",
            "[LightGBM] [Warning] No further splits with positive gain, best gain: -inf\n",
            "[LightGBM] [Warning] No further splits with positive gain, best gain: -inf\n",
            "[LightGBM] [Warning] No further splits with positive gain, best gain: -inf\n",
            "[LightGBM] [Warning] No further splits with positive gain, best gain: -inf\n",
            "[LightGBM] [Warning] No further splits with positive gain, best gain: -inf\n",
            "[LightGBM] [Warning] No further splits with positive gain, best gain: -inf\n",
            "[LightGBM] [Warning] No further splits with positive gain, best gain: -inf\n",
            "[LightGBM] [Warning] No further splits with positive gain, best gain: -inf\n",
            "[LightGBM] [Warning] No further splits with positive gain, best gain: -inf\n",
            "[LightGBM] [Warning] No further splits with positive gain, best gain: -inf\n",
            "[LightGBM] [Warning] No further splits with positive gain, best gain: -inf\n",
            "[LightGBM] [Warning] No further splits with positive gain, best gain: -inf\n",
            "[LightGBM] [Warning] No further splits with positive gain, best gain: -inf\n",
            "[LightGBM] [Warning] No further splits with positive gain, best gain: -inf\n",
            "[LightGBM] [Warning] No further splits with positive gain, best gain: -inf\n",
            "[LightGBM] [Warning] No further splits with positive gain, best gain: -inf\n",
            "[LightGBM] [Warning] No further splits with positive gain, best gain: -inf\n",
            "[LightGBM] [Warning] No further splits with positive gain, best gain: -inf\n",
            "[LightGBM] [Warning] No further splits with positive gain, best gain: -inf\n",
            "[LightGBM] [Warning] No further splits with positive gain, best gain: -inf\n",
            "[LightGBM] [Warning] No further splits with positive gain, best gain: -inf\n",
            "[LightGBM] [Warning] No further splits with positive gain, best gain: -inf\n",
            "[LightGBM] [Warning] No further splits with positive gain, best gain: -inf\n",
            "[LightGBM] [Warning] No further splits with positive gain, best gain: -inf\n",
            "[LightGBM] [Warning] No further splits with positive gain, best gain: -inf\n",
            "[LightGBM] [Warning] No further splits with positive gain, best gain: -inf\n",
            "[LightGBM] [Warning] No further splits with positive gain, best gain: -inf\n",
            "[LightGBM] [Warning] No further splits with positive gain, best gain: -inf\n",
            "[LightGBM] [Warning] No further splits with positive gain, best gain: -inf\n",
            "[LightGBM] [Warning] No further splits with positive gain, best gain: -inf\n",
            "[LightGBM] [Warning] No further splits with positive gain, best gain: -inf\n",
            "[LightGBM] [Warning] No further splits with positive gain, best gain: -inf\n",
            "[LightGBM] [Warning] No further splits with positive gain, best gain: -inf\n",
            "[LightGBM] [Warning] No further splits with positive gain, best gain: -inf\n",
            "[LightGBM] [Warning] No further splits with positive gain, best gain: -inf\n",
            "[LightGBM] [Warning] No further splits with positive gain, best gain: -inf\n",
            "[LightGBM] [Warning] No further splits with positive gain, best gain: -inf\n",
            "[LightGBM] [Warning] No further splits with positive gain, best gain: -inf\n",
            "[LightGBM] [Warning] No further splits with positive gain, best gain: -inf\n",
            "[LightGBM] [Warning] No further splits with positive gain, best gain: -inf\n",
            "[LightGBM] [Warning] No further splits with positive gain, best gain: -inf\n",
            "[LightGBM] [Warning] No further splits with positive gain, best gain: -inf\n",
            "[LightGBM] [Warning] No further splits with positive gain, best gain: -inf\n",
            "[LightGBM] [Warning] No further splits with positive gain, best gain: -inf\n",
            "[LightGBM] [Warning] No further splits with positive gain, best gain: -inf\n",
            "[LightGBM] [Warning] No further splits with positive gain, best gain: -inf\n",
            "[LightGBM] [Warning] No further splits with positive gain, best gain: -inf\n",
            "[LightGBM] [Warning] No further splits with positive gain, best gain: -inf\n",
            "[LightGBM] [Warning] No further splits with positive gain, best gain: -inf\n",
            "[LightGBM] [Warning] No further splits with positive gain, best gain: -inf\n",
            "[LightGBM] [Warning] No further splits with positive gain, best gain: -inf\n",
            "[LightGBM] [Warning] No further splits with positive gain, best gain: -inf\n",
            "[LightGBM] [Warning] No further splits with positive gain, best gain: -inf\n",
            "[LightGBM] [Warning] No further splits with positive gain, best gain: -inf\n",
            "[LightGBM] [Warning] No further splits with positive gain, best gain: -inf\n",
            "[LightGBM] [Warning] No further splits with positive gain, best gain: -inf\n",
            "[LightGBM] [Warning] No further splits with positive gain, best gain: -inf\n",
            "[LightGBM] [Warning] No further splits with positive gain, best gain: -inf\n",
            "[LightGBM] [Warning] No further splits with positive gain, best gain: -inf\n",
            "[LightGBM] [Warning] No further splits with positive gain, best gain: -inf\n",
            "[LightGBM] [Warning] No further splits with positive gain, best gain: -inf\n",
            "[LightGBM] [Warning] No further splits with positive gain, best gain: -inf\n",
            "[LightGBM] [Warning] No further splits with positive gain, best gain: -inf\n",
            "[LightGBM] [Warning] No further splits with positive gain, best gain: -inf\n",
            "[LightGBM] [Warning] No further splits with positive gain, best gain: -inf\n",
            "[LightGBM] [Warning] No further splits with positive gain, best gain: -inf\n",
            "[LightGBM] [Warning] No further splits with positive gain, best gain: -inf\n",
            "[LightGBM] [Warning] No further splits with positive gain, best gain: -inf\n",
            "[LightGBM] [Warning] No further splits with positive gain, best gain: -inf\n",
            "[LightGBM] [Warning] No further splits with positive gain, best gain: -inf\n",
            "[LightGBM] [Warning] No further splits with positive gain, best gain: -inf\n",
            "[LightGBM] [Warning] No further splits with positive gain, best gain: -inf\n",
            "[LightGBM] [Warning] No further splits with positive gain, best gain: -inf\n",
            "[LightGBM] [Warning] No further splits with positive gain, best gain: -inf\n",
            "[LightGBM] [Warning] No further splits with positive gain, best gain: -inf\n",
            "[LightGBM] [Warning] No further splits with positive gain, best gain: -inf\n",
            "[LightGBM] [Warning] No further splits with positive gain, best gain: -inf\n",
            "[LightGBM] [Warning] No further splits with positive gain, best gain: -inf\n",
            "[LightGBM] [Warning] No further splits with positive gain, best gain: -inf\n",
            "[LightGBM] [Warning] No further splits with positive gain, best gain: -inf\n",
            "[LightGBM] [Warning] No further splits with positive gain, best gain: -inf\n",
            "[LightGBM] [Warning] No further splits with positive gain, best gain: -inf\n",
            "[LightGBM] [Warning] No further splits with positive gain, best gain: -inf\n",
            "[LightGBM] [Warning] No further splits with positive gain, best gain: -inf\n",
            "[LightGBM] [Warning] No further splits with positive gain, best gain: -inf\n",
            "[LightGBM] [Warning] No further splits with positive gain, best gain: -inf\n",
            "[LightGBM] [Warning] No further splits with positive gain, best gain: -inf\n",
            "[LightGBM] [Warning] No further splits with positive gain, best gain: -inf\n",
            "[LightGBM] [Warning] No further splits with positive gain, best gain: -inf\n",
            "[LightGBM] [Warning] No further splits with positive gain, best gain: -inf\n",
            "[LightGBM] [Warning] No further splits with positive gain, best gain: -inf\n",
            "[LightGBM] [Warning] No further splits with positive gain, best gain: -inf\n",
            "fold1 | precision:  0.69, recall:  0.69, recall:  0.69, accuracy:  0.76\n",
            "[LightGBM] [Warning] No further splits with positive gain, best gain: -inf\n",
            "[LightGBM] [Warning] No further splits with positive gain, best gain: -inf\n",
            "[LightGBM] [Warning] No further splits with positive gain, best gain: -inf\n",
            "[LightGBM] [Warning] No further splits with positive gain, best gain: -inf\n",
            "[LightGBM] [Warning] No further splits with positive gain, best gain: -inf\n",
            "[LightGBM] [Warning] No further splits with positive gain, best gain: -inf\n",
            "[LightGBM] [Warning] No further splits with positive gain, best gain: -inf\n",
            "[LightGBM] [Warning] No further splits with positive gain, best gain: -inf\n",
            "[LightGBM] [Warning] No further splits with positive gain, best gain: -inf\n",
            "[LightGBM] [Warning] No further splits with positive gain, best gain: -inf\n",
            "[LightGBM] [Warning] No further splits with positive gain, best gain: -inf\n",
            "[LightGBM] [Warning] No further splits with positive gain, best gain: -inf\n",
            "[LightGBM] [Warning] No further splits with positive gain, best gain: -inf\n",
            "[LightGBM] [Warning] No further splits with positive gain, best gain: -inf\n",
            "[LightGBM] [Warning] No further splits with positive gain, best gain: -inf\n",
            "[LightGBM] [Warning] No further splits with positive gain, best gain: -inf\n",
            "[LightGBM] [Warning] No further splits with positive gain, best gain: -inf\n",
            "[LightGBM] [Warning] No further splits with positive gain, best gain: -inf\n",
            "[LightGBM] [Warning] No further splits with positive gain, best gain: -inf\n",
            "[LightGBM] [Warning] No further splits with positive gain, best gain: -inf\n",
            "[LightGBM] [Warning] No further splits with positive gain, best gain: -inf\n",
            "[LightGBM] [Warning] No further splits with positive gain, best gain: -inf\n",
            "[LightGBM] [Warning] No further splits with positive gain, best gain: -inf\n",
            "[LightGBM] [Warning] No further splits with positive gain, best gain: -inf\n",
            "[LightGBM] [Warning] No further splits with positive gain, best gain: -inf\n",
            "[LightGBM] [Warning] No further splits with positive gain, best gain: -inf\n",
            "[LightGBM] [Warning] No further splits with positive gain, best gain: -inf\n",
            "[LightGBM] [Warning] No further splits with positive gain, best gain: -inf\n",
            "[LightGBM] [Warning] No further splits with positive gain, best gain: -inf\n",
            "[LightGBM] [Warning] No further splits with positive gain, best gain: -inf\n",
            "[LightGBM] [Warning] No further splits with positive gain, best gain: -inf\n",
            "[LightGBM] [Warning] No further splits with positive gain, best gain: -inf\n",
            "[LightGBM] [Warning] No further splits with positive gain, best gain: -inf\n",
            "[LightGBM] [Warning] No further splits with positive gain, best gain: -inf\n",
            "[LightGBM] [Warning] No further splits with positive gain, best gain: -inf\n",
            "[LightGBM] [Warning] No further splits with positive gain, best gain: -inf\n",
            "[LightGBM] [Warning] No further splits with positive gain, best gain: -inf\n",
            "[LightGBM] [Warning] No further splits with positive gain, best gain: -inf\n",
            "[LightGBM] [Warning] No further splits with positive gain, best gain: -inf\n",
            "[LightGBM] [Warning] No further splits with positive gain, best gain: -inf\n",
            "[LightGBM] [Warning] No further splits with positive gain, best gain: -inf\n",
            "[LightGBM] [Warning] No further splits with positive gain, best gain: -inf\n",
            "[LightGBM] [Warning] No further splits with positive gain, best gain: -inf\n",
            "[LightGBM] [Warning] No further splits with positive gain, best gain: -inf\n",
            "[LightGBM] [Warning] No further splits with positive gain, best gain: -inf\n",
            "[LightGBM] [Warning] No further splits with positive gain, best gain: -inf\n",
            "[LightGBM] [Warning] No further splits with positive gain, best gain: -inf\n",
            "[LightGBM] [Warning] No further splits with positive gain, best gain: -inf\n",
            "[LightGBM] [Warning] No further splits with positive gain, best gain: -inf\n",
            "[LightGBM] [Warning] No further splits with positive gain, best gain: -inf\n",
            "[LightGBM] [Warning] No further splits with positive gain, best gain: -inf\n",
            "[LightGBM] [Warning] No further splits with positive gain, best gain: -inf\n",
            "[LightGBM] [Warning] No further splits with positive gain, best gain: -inf\n",
            "[LightGBM] [Warning] No further splits with positive gain, best gain: -inf\n",
            "[LightGBM] [Warning] No further splits with positive gain, best gain: -inf\n",
            "[LightGBM] [Warning] No further splits with positive gain, best gain: -inf\n",
            "[LightGBM] [Warning] No further splits with positive gain, best gain: -inf\n",
            "[LightGBM] [Warning] No further splits with positive gain, best gain: -inf\n",
            "[LightGBM] [Warning] No further splits with positive gain, best gain: -inf\n",
            "[LightGBM] [Warning] No further splits with positive gain, best gain: -inf\n",
            "[LightGBM] [Warning] No further splits with positive gain, best gain: -inf\n",
            "[LightGBM] [Warning] No further splits with positive gain, best gain: -inf\n",
            "[LightGBM] [Warning] No further splits with positive gain, best gain: -inf\n",
            "[LightGBM] [Warning] No further splits with positive gain, best gain: -inf\n",
            "[LightGBM] [Warning] No further splits with positive gain, best gain: -inf\n",
            "[LightGBM] [Warning] No further splits with positive gain, best gain: -inf\n",
            "[LightGBM] [Warning] No further splits with positive gain, best gain: -inf\n",
            "[LightGBM] [Warning] No further splits with positive gain, best gain: -inf\n",
            "[LightGBM] [Warning] No further splits with positive gain, best gain: -inf\n",
            "[LightGBM] [Warning] No further splits with positive gain, best gain: -inf\n",
            "[LightGBM] [Warning] No further splits with positive gain, best gain: -inf\n",
            "[LightGBM] [Warning] No further splits with positive gain, best gain: -inf\n",
            "[LightGBM] [Warning] No further splits with positive gain, best gain: -inf\n",
            "[LightGBM] [Warning] No further splits with positive gain, best gain: -inf\n",
            "[LightGBM] [Warning] No further splits with positive gain, best gain: -inf\n",
            "[LightGBM] [Warning] No further splits with positive gain, best gain: -inf\n",
            "[LightGBM] [Warning] No further splits with positive gain, best gain: -inf\n",
            "[LightGBM] [Warning] No further splits with positive gain, best gain: -inf\n",
            "[LightGBM] [Warning] No further splits with positive gain, best gain: -inf\n",
            "[LightGBM] [Warning] No further splits with positive gain, best gain: -inf\n",
            "[LightGBM] [Warning] No further splits with positive gain, best gain: -inf\n",
            "[LightGBM] [Warning] No further splits with positive gain, best gain: -inf\n",
            "[LightGBM] [Warning] No further splits with positive gain, best gain: -inf\n",
            "[LightGBM] [Warning] No further splits with positive gain, best gain: -inf\n",
            "[LightGBM] [Warning] No further splits with positive gain, best gain: -inf\n",
            "[LightGBM] [Warning] No further splits with positive gain, best gain: -inf\n",
            "[LightGBM] [Warning] No further splits with positive gain, best gain: -inf\n",
            "[LightGBM] [Warning] No further splits with positive gain, best gain: -inf\n",
            "[LightGBM] [Warning] No further splits with positive gain, best gain: -inf\n",
            "[LightGBM] [Warning] No further splits with positive gain, best gain: -inf\n",
            "[LightGBM] [Warning] No further splits with positive gain, best gain: -inf\n",
            "[LightGBM] [Warning] No further splits with positive gain, best gain: -inf\n",
            "[LightGBM] [Warning] No further splits with positive gain, best gain: -inf\n",
            "[LightGBM] [Warning] No further splits with positive gain, best gain: -inf\n",
            "[LightGBM] [Warning] No further splits with positive gain, best gain: -inf\n",
            "[LightGBM] [Warning] No further splits with positive gain, best gain: -inf\n",
            "[LightGBM] [Warning] No further splits with positive gain, best gain: -inf\n",
            "[LightGBM] [Warning] No further splits with positive gain, best gain: -inf\n",
            "[LightGBM] [Warning] No further splits with positive gain, best gain: -inf\n",
            "[LightGBM] [Warning] No further splits with positive gain, best gain: -inf\n",
            "fold2 | precision:  0.87, recall:  0.66, recall:  0.66, accuracy:  0.81\n",
            "[LightGBM] [Warning] No further splits with positive gain, best gain: -inf\n",
            "[LightGBM] [Warning] No further splits with positive gain, best gain: -inf\n",
            "[LightGBM] [Warning] No further splits with positive gain, best gain: -inf\n",
            "[LightGBM] [Warning] No further splits with positive gain, best gain: -inf\n",
            "[LightGBM] [Warning] No further splits with positive gain, best gain: -inf\n",
            "[LightGBM] [Warning] No further splits with positive gain, best gain: -inf\n",
            "[LightGBM] [Warning] No further splits with positive gain, best gain: -inf\n",
            "[LightGBM] [Warning] No further splits with positive gain, best gain: -inf\n",
            "[LightGBM] [Warning] No further splits with positive gain, best gain: -inf\n",
            "[LightGBM] [Warning] No further splits with positive gain, best gain: -inf\n",
            "[LightGBM] [Warning] No further splits with positive gain, best gain: -inf\n",
            "[LightGBM] [Warning] No further splits with positive gain, best gain: -inf\n",
            "[LightGBM] [Warning] No further splits with positive gain, best gain: -inf\n",
            "[LightGBM] [Warning] No further splits with positive gain, best gain: -inf\n",
            "[LightGBM] [Warning] No further splits with positive gain, best gain: -inf\n",
            "[LightGBM] [Warning] No further splits with positive gain, best gain: -inf\n",
            "[LightGBM] [Warning] No further splits with positive gain, best gain: -inf\n",
            "[LightGBM] [Warning] No further splits with positive gain, best gain: -inf\n",
            "[LightGBM] [Warning] No further splits with positive gain, best gain: -inf\n",
            "[LightGBM] [Warning] No further splits with positive gain, best gain: -inf\n",
            "[LightGBM] [Warning] No further splits with positive gain, best gain: -inf\n",
            "[LightGBM] [Warning] No further splits with positive gain, best gain: -inf\n",
            "[LightGBM] [Warning] No further splits with positive gain, best gain: -inf\n",
            "[LightGBM] [Warning] No further splits with positive gain, best gain: -inf\n",
            "[LightGBM] [Warning] No further splits with positive gain, best gain: -inf\n",
            "[LightGBM] [Warning] No further splits with positive gain, best gain: -inf\n",
            "[LightGBM] [Warning] No further splits with positive gain, best gain: -inf\n",
            "[LightGBM] [Warning] No further splits with positive gain, best gain: -inf\n",
            "[LightGBM] [Warning] No further splits with positive gain, best gain: -inf\n",
            "[LightGBM] [Warning] No further splits with positive gain, best gain: -inf\n",
            "[LightGBM] [Warning] No further splits with positive gain, best gain: -inf\n",
            "[LightGBM] [Warning] No further splits with positive gain, best gain: -inf\n",
            "[LightGBM] [Warning] No further splits with positive gain, best gain: -inf\n",
            "[LightGBM] [Warning] No further splits with positive gain, best gain: -inf\n",
            "[LightGBM] [Warning] No further splits with positive gain, best gain: -inf\n",
            "[LightGBM] [Warning] No further splits with positive gain, best gain: -inf\n",
            "[LightGBM] [Warning] No further splits with positive gain, best gain: -inf\n",
            "[LightGBM] [Warning] No further splits with positive gain, best gain: -inf\n",
            "[LightGBM] [Warning] No further splits with positive gain, best gain: -inf\n",
            "[LightGBM] [Warning] No further splits with positive gain, best gain: -inf\n",
            "[LightGBM] [Warning] No further splits with positive gain, best gain: -inf\n",
            "[LightGBM] [Warning] No further splits with positive gain, best gain: -inf\n",
            "[LightGBM] [Warning] No further splits with positive gain, best gain: -inf\n",
            "[LightGBM] [Warning] No further splits with positive gain, best gain: -inf\n",
            "[LightGBM] [Warning] No further splits with positive gain, best gain: -inf\n",
            "[LightGBM] [Warning] No further splits with positive gain, best gain: -inf\n",
            "[LightGBM] [Warning] No further splits with positive gain, best gain: -inf\n",
            "[LightGBM] [Warning] No further splits with positive gain, best gain: -inf\n",
            "[LightGBM] [Warning] No further splits with positive gain, best gain: -inf\n",
            "[LightGBM] [Warning] No further splits with positive gain, best gain: -inf\n",
            "[LightGBM] [Warning] No further splits with positive gain, best gain: -inf\n",
            "[LightGBM] [Warning] No further splits with positive gain, best gain: -inf\n",
            "[LightGBM] [Warning] No further splits with positive gain, best gain: -inf\n",
            "[LightGBM] [Warning] No further splits with positive gain, best gain: -inf\n",
            "[LightGBM] [Warning] No further splits with positive gain, best gain: -inf\n",
            "[LightGBM] [Warning] No further splits with positive gain, best gain: -inf\n",
            "[LightGBM] [Warning] No further splits with positive gain, best gain: -inf\n",
            "[LightGBM] [Warning] No further splits with positive gain, best gain: -inf\n",
            "[LightGBM] [Warning] No further splits with positive gain, best gain: -inf\n",
            "[LightGBM] [Warning] No further splits with positive gain, best gain: -inf\n",
            "[LightGBM] [Warning] No further splits with positive gain, best gain: -inf\n",
            "[LightGBM] [Warning] No further splits with positive gain, best gain: -inf\n",
            "[LightGBM] [Warning] No further splits with positive gain, best gain: -inf\n",
            "[LightGBM] [Warning] No further splits with positive gain, best gain: -inf\n",
            "[LightGBM] [Warning] No further splits with positive gain, best gain: -inf\n",
            "[LightGBM] [Warning] No further splits with positive gain, best gain: -inf\n",
            "[LightGBM] [Warning] No further splits with positive gain, best gain: -inf\n",
            "[LightGBM] [Warning] No further splits with positive gain, best gain: -inf\n",
            "[LightGBM] [Warning] No further splits with positive gain, best gain: -inf\n",
            "[LightGBM] [Warning] No further splits with positive gain, best gain: -inf\n",
            "[LightGBM] [Warning] No further splits with positive gain, best gain: -inf\n",
            "[LightGBM] [Warning] No further splits with positive gain, best gain: -inf\n",
            "[LightGBM] [Warning] No further splits with positive gain, best gain: -inf\n",
            "[LightGBM] [Warning] No further splits with positive gain, best gain: -inf\n",
            "[LightGBM] [Warning] No further splits with positive gain, best gain: -inf\n",
            "[LightGBM] [Warning] No further splits with positive gain, best gain: -inf\n",
            "[LightGBM] [Warning] No further splits with positive gain, best gain: -inf\n",
            "[LightGBM] [Warning] No further splits with positive gain, best gain: -inf\n",
            "[LightGBM] [Warning] No further splits with positive gain, best gain: -inf\n",
            "[LightGBM] [Warning] No further splits with positive gain, best gain: -inf\n",
            "[LightGBM] [Warning] No further splits with positive gain, best gain: -inf\n",
            "[LightGBM] [Warning] No further splits with positive gain, best gain: -inf\n",
            "[LightGBM] [Warning] No further splits with positive gain, best gain: -inf\n",
            "[LightGBM] [Warning] No further splits with positive gain, best gain: -inf\n",
            "[LightGBM] [Warning] No further splits with positive gain, best gain: -inf\n",
            "[LightGBM] [Warning] No further splits with positive gain, best gain: -inf\n",
            "[LightGBM] [Warning] No further splits with positive gain, best gain: -inf\n",
            "[LightGBM] [Warning] No further splits with positive gain, best gain: -inf\n",
            "[LightGBM] [Warning] No further splits with positive gain, best gain: -inf\n",
            "[LightGBM] [Warning] No further splits with positive gain, best gain: -inf\n",
            "[LightGBM] [Warning] No further splits with positive gain, best gain: -inf\n",
            "[LightGBM] [Warning] No further splits with positive gain, best gain: -inf\n",
            "[LightGBM] [Warning] No further splits with positive gain, best gain: -inf\n",
            "[LightGBM] [Warning] No further splits with positive gain, best gain: -inf\n",
            "[LightGBM] [Warning] No further splits with positive gain, best gain: -inf\n",
            "[LightGBM] [Warning] No further splits with positive gain, best gain: -inf\n",
            "[LightGBM] [Warning] No further splits with positive gain, best gain: -inf\n",
            "[LightGBM] [Warning] No further splits with positive gain, best gain: -inf\n",
            "[LightGBM] [Warning] No further splits with positive gain, best gain: -inf\n",
            "[LightGBM] [Warning] No further splits with positive gain, best gain: -inf\n",
            "fold3 | precision:  0.83, recall:  0.76, recall:  0.76, accuracy:  0.84\n",
            "[LightGBM] [Warning] No further splits with positive gain, best gain: -inf\n",
            "[LightGBM] [Warning] No further splits with positive gain, best gain: -inf\n",
            "[LightGBM] [Warning] No further splits with positive gain, best gain: -inf\n",
            "[LightGBM] [Warning] No further splits with positive gain, best gain: -inf\n",
            "[LightGBM] [Warning] No further splits with positive gain, best gain: -inf\n",
            "[LightGBM] [Warning] No further splits with positive gain, best gain: -inf\n",
            "[LightGBM] [Warning] No further splits with positive gain, best gain: -inf\n",
            "[LightGBM] [Warning] No further splits with positive gain, best gain: -inf\n",
            "[LightGBM] [Warning] No further splits with positive gain, best gain: -inf\n",
            "[LightGBM] [Warning] No further splits with positive gain, best gain: -inf\n",
            "[LightGBM] [Warning] No further splits with positive gain, best gain: -inf\n",
            "[LightGBM] [Warning] No further splits with positive gain, best gain: -inf\n",
            "[LightGBM] [Warning] No further splits with positive gain, best gain: -inf\n",
            "[LightGBM] [Warning] No further splits with positive gain, best gain: -inf\n",
            "[LightGBM] [Warning] No further splits with positive gain, best gain: -inf\n",
            "[LightGBM] [Warning] No further splits with positive gain, best gain: -inf\n",
            "[LightGBM] [Warning] No further splits with positive gain, best gain: -inf\n",
            "[LightGBM] [Warning] No further splits with positive gain, best gain: -inf\n",
            "[LightGBM] [Warning] No further splits with positive gain, best gain: -inf\n",
            "[LightGBM] [Warning] No further splits with positive gain, best gain: -inf\n",
            "[LightGBM] [Warning] No further splits with positive gain, best gain: -inf\n",
            "[LightGBM] [Warning] No further splits with positive gain, best gain: -inf\n",
            "[LightGBM] [Warning] No further splits with positive gain, best gain: -inf\n",
            "[LightGBM] [Warning] No further splits with positive gain, best gain: -inf\n",
            "[LightGBM] [Warning] No further splits with positive gain, best gain: -inf\n",
            "[LightGBM] [Warning] No further splits with positive gain, best gain: -inf\n",
            "[LightGBM] [Warning] No further splits with positive gain, best gain: -inf\n",
            "[LightGBM] [Warning] No further splits with positive gain, best gain: -inf\n",
            "[LightGBM] [Warning] No further splits with positive gain, best gain: -inf\n",
            "[LightGBM] [Warning] No further splits with positive gain, best gain: -inf\n",
            "[LightGBM] [Warning] No further splits with positive gain, best gain: -inf\n",
            "[LightGBM] [Warning] No further splits with positive gain, best gain: -inf\n",
            "[LightGBM] [Warning] No further splits with positive gain, best gain: -inf\n",
            "[LightGBM] [Warning] No further splits with positive gain, best gain: -inf\n",
            "[LightGBM] [Warning] No further splits with positive gain, best gain: -inf\n",
            "[LightGBM] [Warning] No further splits with positive gain, best gain: -inf\n",
            "[LightGBM] [Warning] No further splits with positive gain, best gain: -inf\n",
            "[LightGBM] [Warning] No further splits with positive gain, best gain: -inf\n",
            "[LightGBM] [Warning] No further splits with positive gain, best gain: -inf\n",
            "[LightGBM] [Warning] No further splits with positive gain, best gain: -inf\n",
            "[LightGBM] [Warning] No further splits with positive gain, best gain: -inf\n",
            "[LightGBM] [Warning] No further splits with positive gain, best gain: -inf\n",
            "[LightGBM] [Warning] No further splits with positive gain, best gain: -inf\n",
            "[LightGBM] [Warning] No further splits with positive gain, best gain: -inf\n",
            "[LightGBM] [Warning] No further splits with positive gain, best gain: -inf\n",
            "[LightGBM] [Warning] No further splits with positive gain, best gain: -inf\n",
            "[LightGBM] [Warning] No further splits with positive gain, best gain: -inf\n",
            "[LightGBM] [Warning] No further splits with positive gain, best gain: -inf\n",
            "[LightGBM] [Warning] No further splits with positive gain, best gain: -inf\n",
            "[LightGBM] [Warning] No further splits with positive gain, best gain: -inf\n",
            "[LightGBM] [Warning] No further splits with positive gain, best gain: -inf\n",
            "[LightGBM] [Warning] No further splits with positive gain, best gain: -inf\n",
            "[LightGBM] [Warning] No further splits with positive gain, best gain: -inf\n",
            "[LightGBM] [Warning] No further splits with positive gain, best gain: -inf\n",
            "[LightGBM] [Warning] No further splits with positive gain, best gain: -inf\n",
            "[LightGBM] [Warning] No further splits with positive gain, best gain: -inf\n",
            "[LightGBM] [Warning] No further splits with positive gain, best gain: -inf\n",
            "[LightGBM] [Warning] No further splits with positive gain, best gain: -inf\n",
            "[LightGBM] [Warning] No further splits with positive gain, best gain: -inf\n",
            "[LightGBM] [Warning] No further splits with positive gain, best gain: -inf\n",
            "[LightGBM] [Warning] No further splits with positive gain, best gain: -inf\n",
            "[LightGBM] [Warning] No further splits with positive gain, best gain: -inf\n",
            "[LightGBM] [Warning] No further splits with positive gain, best gain: -inf\n",
            "[LightGBM] [Warning] No further splits with positive gain, best gain: -inf\n",
            "[LightGBM] [Warning] No further splits with positive gain, best gain: -inf\n",
            "[LightGBM] [Warning] No further splits with positive gain, best gain: -inf\n",
            "[LightGBM] [Warning] No further splits with positive gain, best gain: -inf\n",
            "[LightGBM] [Warning] No further splits with positive gain, best gain: -inf\n",
            "[LightGBM] [Warning] No further splits with positive gain, best gain: -inf\n",
            "[LightGBM] [Warning] No further splits with positive gain, best gain: -inf\n",
            "[LightGBM] [Warning] No further splits with positive gain, best gain: -inf\n",
            "[LightGBM] [Warning] No further splits with positive gain, best gain: -inf\n",
            "[LightGBM] [Warning] No further splits with positive gain, best gain: -inf\n",
            "[LightGBM] [Warning] No further splits with positive gain, best gain: -inf\n",
            "[LightGBM] [Warning] No further splits with positive gain, best gain: -inf\n",
            "[LightGBM] [Warning] No further splits with positive gain, best gain: -inf\n",
            "[LightGBM] [Warning] No further splits with positive gain, best gain: -inf\n",
            "[LightGBM] [Warning] No further splits with positive gain, best gain: -inf\n",
            "[LightGBM] [Warning] No further splits with positive gain, best gain: -inf\n",
            "[LightGBM] [Warning] No further splits with positive gain, best gain: -inf\n",
            "[LightGBM] [Warning] No further splits with positive gain, best gain: -inf\n",
            "[LightGBM] [Warning] No further splits with positive gain, best gain: -inf\n",
            "[LightGBM] [Warning] No further splits with positive gain, best gain: -inf\n",
            "[LightGBM] [Warning] No further splits with positive gain, best gain: -inf\n",
            "[LightGBM] [Warning] No further splits with positive gain, best gain: -inf\n",
            "[LightGBM] [Warning] No further splits with positive gain, best gain: -inf\n",
            "[LightGBM] [Warning] No further splits with positive gain, best gain: -inf\n",
            "[LightGBM] [Warning] No further splits with positive gain, best gain: -inf\n",
            "[LightGBM] [Warning] No further splits with positive gain, best gain: -inf\n",
            "[LightGBM] [Warning] No further splits with positive gain, best gain: -inf\n",
            "[LightGBM] [Warning] No further splits with positive gain, best gain: -inf\n",
            "[LightGBM] [Warning] No further splits with positive gain, best gain: -inf\n",
            "[LightGBM] [Warning] No further splits with positive gain, best gain: -inf\n",
            "[LightGBM] [Warning] No further splits with positive gain, best gain: -inf\n",
            "[LightGBM] [Warning] No further splits with positive gain, best gain: -inf\n",
            "[LightGBM] [Warning] No further splits with positive gain, best gain: -inf\n",
            "[LightGBM] [Warning] No further splits with positive gain, best gain: -inf\n",
            "[LightGBM] [Warning] No further splits with positive gain, best gain: -inf\n",
            "[LightGBM] [Warning] No further splits with positive gain, best gain: -inf\n",
            "[LightGBM] [Warning] No further splits with positive gain, best gain: -inf\n",
            "fold4 | precision:  0.78, recall:  0.81, recall:  0.81, accuracy:  0.85\n"
          ]
        }
      ],
      "source": [
        "results = {}\n",
        "k_fold = KFold(random_state=seed, shuffle=True)\n",
        "for i, (train_index, test_index) in enumerate(k_fold.split(titanic)):\n",
        "    temp = titanic.iloc[train_index]\n",
        "    test = titanic.iloc[test_index]\n",
        "    train, valid = train_test_split(temp, test_size=len(test)/len(temp))\n",
        "\n",
        "    lgbm = LGBMClassifier(verbose=0)\n",
        "    lgbm.fit(\n",
        "        train.drop(columns=['survived']), train.survived,\n",
        "        eval_set=(valid.drop(columns=['survived']), valid.survived)\n",
        "    )\n",
        "\n",
        "    confusion_matrix_result = confusion_matrix(\n",
        "        np.where(test.survived==0, 1, 0),\n",
        "        np.where(lgbm.predict(test.drop(columns=['survived']))==0, 1, 0),\n",
        "    )\n",
        "    TP = confusion_matrix_result[0, 0]\n",
        "    FN = confusion_matrix_result[0, 1]\n",
        "    FP = confusion_matrix_result[1, 0]\n",
        "    TN = confusion_matrix_result[1, 1]\n",
        "\n",
        "    precision = TP / (TP+FP)\n",
        "    recall = TP / (TP+FN)\n",
        "    f1 = 2*precision*recall / (precision+recall)\n",
        "    accuracy = (TP+TN) / (TP+TN+FP+FN)\n",
        "\n",
        "    results.update({\n",
        "        f'fold{i+1}': {\n",
        "            'precision': precision,\n",
        "            'recall': recall,\n",
        "            'f1': f1,\n",
        "            'accuracy': accuracy,\n",
        "        }\n",
        "    })\n",
        "\n",
        "    print(f'fold{i} | precision: {precision: .2f}, recall: {recall: .2f}, recall: {recall: .2f}, accuracy: {accuracy: .2f}')"
      ]
    },
    {
      "cell_type": "code",
      "execution_count": 77,
      "metadata": {},
      "outputs": [
        {
          "name": "stdout",
          "output_type": "stream",
          "text": [
            "fold1: {'precision': 0.803921568627451, 'recall': 0.6721311475409836, 'f1': 0.7321428571428572, 'accuracy': 0.7902097902097902}\n",
            "fold2: {'precision': 0.6909090909090909, 'recall': 0.6909090909090909, 'f1': 0.6909090909090909, 'accuracy': 0.7622377622377622}\n",
            "fold3: {'precision': 0.8695652173913043, 'recall': 0.6557377049180327, 'f1': 0.7476635514018691, 'accuracy': 0.8098591549295775}\n",
            "fold4: {'precision': 0.8333333333333334, 'recall': 0.7627118644067796, 'f1': 0.7964601769911505, 'accuracy': 0.8380281690140845}\n",
            "fold5: {'precision': 0.7777777777777778, 'recall': 0.8076923076923077, 'f1': 0.7924528301886792, 'accuracy': 0.8450704225352113}\n"
          ]
        }
      ],
      "source": [
        "for fold, result in results.items():\n",
        "    print(f'{fold}: {result}')"
      ]
    },
    {
      "cell_type": "code",
      "execution_count": 78,
      "metadata": {},
      "outputs": [],
      "source": [
        "results = {}\n",
        "train_indexs = []\n",
        "test_indexs = []\n",
        "k_fold = KFold(random_state=seed, shuffle=True)\n",
        "for i, (train_index, test_index) in enumerate(k_fold.split(titanic)):\n",
        "    if i not in [1, 4]:\n",
        "        continue\n",
        "    train_indexs.append(train_index)\n",
        "    test_indexs.append(test_index)    "
      ]
    },
    {
      "cell_type": "code",
      "execution_count": 81,
      "metadata": {},
      "outputs": [
        {
          "data": {
            "text/plain": [
              "<Axes: xlabel='pclass', ylabel='count'>"
            ]
          },
          "execution_count": 81,
          "metadata": {},
          "output_type": "execute_result"
        },
        {
          "data": {
            "image/png": "[encoded data removed]",
            "text/plain": [
              "<Figure size 640x480 with 1 Axes>"
            ]
          },
          "metadata": {},
          "output_type": "display_data"
        }
      ],
      "source": [
        "sns.countplot(\n",
        "    data=titanic.iloc[train_indexs[0]],\n",
        "    x='pclass',\n",
        "    hue='survived',\n",
        ")"
      ]
    },
    {
      "cell_type": "code",
      "execution_count": 82,
      "metadata": {},
      "outputs": [
        {
          "data": {
            "text/plain": [
              "<Axes: xlabel='pclass', ylabel='count'>"
            ]
          },
          "execution_count": 82,
          "metadata": {},
          "output_type": "execute_result"
        },
        {
          "data": {
            "image/png": "[encoded data removed]",
            "text/plain": [
              "<Figure size 640x480 with 1 Axes>"
            ]
          },
          "metadata": {},
          "output_type": "display_data"
        }
      ],
      "source": [
        "sns.countplot(\n",
        "    data=titanic.iloc[train_indexs[1]],\n",
        "    x='pclass',\n",
        "    hue='survived',\n",
        ")"
      ]
    },
    {
      "cell_type": "markdown",
      "metadata": {
        "id": "QR-BtdphrE2I"
      },
      "source": [
        "## Stratified K-fold\n",
        "\n",
        "<img src=\"https://images.prismic.io/turing/65a532e87a5e8b1120d58778_image1_11zon_10bb3bd085.webp?auto=format,compress\" width=\"700\" height=\"400\"/>\n",
        "\n",
        "<br>\n",
        "\n",
        "일반적인 K-fold의 단점은 fold 생성 시 데이터를 임의 분할한다는 점. <br>\n",
        "데이터 내 클래스가 unbalanced인 경우 일부 fold에서는 클래스를 할당받지 못하거나 매우 적은 class를 할당받을 수 있음. <br>\n",
        "    -> 이는 round별 모델의 성능의 편차가 커지는 결과 초래 <br>\n",
        "이를 방지하기 위해 **클래스별 비율이 동일하게 fold 분할**.\n",
        "\n",
        "<br>\n",
        "\n",
        "**사용 방법**\n",
        "\n",
        "> ```python\n",
        "> from sklearn.model_selection import StratifiedKFold\n",
        ">\n",
        "> stratified_k_fold = StratifiedKFold()  # n_splits: 5 (default)\n",
        "> for i, (train_index, test_index) in enumerate(stratified_k_fold.split(X, y)):\n",
        ">   train_x = data[train_index]\n",
        ">   train_y = data[test_index]\n",
        ">   ...\n",
        "> ```\n",
        "\n",
        "<br>\n",
        "\n",
        "**Parameters of StratifiedKFold**\n",
        "- shuffle: 데이터를 섞어서 fold 생성\n",
        "- random state: 재현성을 위한 시드 넘버\n",
        "- n_splits: 몇 개의 fold로 구성할 것인지 설정"
      ]
    },
    {
      "cell_type": "code",
      "execution_count": 87,
      "metadata": {},
      "outputs": [
        {
          "data": {
            "text/plain": [
              "survived\n",
              "0    0.595506\n",
              "1    0.404494\n",
              "Name: count, dtype: float64"
            ]
          },
          "execution_count": 87,
          "metadata": {},
          "output_type": "execute_result"
        }
      ],
      "source": [
        "titanic.survived.value_counts() / len(titanic.survived)"
      ]
    },
    {
      "cell_type": "code",
      "execution_count": 88,
      "metadata": {
        "id": "4xpMkM7mluDu"
      },
      "outputs": [
        {
          "name": "stdout",
          "output_type": "stream",
          "text": [
            "1-fold\n"
          ]
        },
        {
          "data": {
            "text/plain": [
              "survived\n",
              "0    0.607981\n",
              "1    0.392019\n",
              "Name: count, dtype: float64"
            ]
          },
          "metadata": {},
          "output_type": "display_data"
        },
        {
          "data": {
            "text/plain": [
              "survived\n",
              "0    0.58042\n",
              "1    0.41958\n",
              "Name: count, dtype: float64"
            ]
          },
          "metadata": {},
          "output_type": "display_data"
        },
        {
          "data": {
            "text/plain": [
              "survived\n",
              "0    0.573427\n",
              "1    0.426573\n",
              "Name: count, dtype: float64"
            ]
          },
          "metadata": {},
          "output_type": "display_data"
        },
        {
          "name": "stdout",
          "output_type": "stream",
          "text": [
            "2-fold\n"
          ]
        },
        {
          "data": {
            "text/plain": [
              "survived\n",
              "0    0.586854\n",
              "1    0.413146\n",
              "Name: count, dtype: float64"
            ]
          },
          "metadata": {},
          "output_type": "display_data"
        },
        {
          "data": {
            "text/plain": [
              "survived\n",
              "0    0.601399\n",
              "1    0.398601\n",
              "Name: count, dtype: float64"
            ]
          },
          "metadata": {},
          "output_type": "display_data"
        },
        {
          "data": {
            "text/plain": [
              "survived\n",
              "0    0.615385\n",
              "1    0.384615\n",
              "Name: count, dtype: float64"
            ]
          },
          "metadata": {},
          "output_type": "display_data"
        },
        {
          "name": "stdout",
          "output_type": "stream",
          "text": [
            "3-fold\n"
          ]
        },
        {
          "data": {
            "text/plain": [
              "survived\n",
              "0    0.598131\n",
              "1    0.401869\n",
              "Name: count, dtype: float64"
            ]
          },
          "metadata": {},
          "output_type": "display_data"
        },
        {
          "data": {
            "text/plain": [
              "survived\n",
              "0    0.612676\n",
              "1    0.387324\n",
              "Name: count, dtype: float64"
            ]
          },
          "metadata": {},
          "output_type": "display_data"
        },
        {
          "data": {
            "text/plain": [
              "survived\n",
              "0    0.570423\n",
              "1    0.429577\n",
              "Name: count, dtype: float64"
            ]
          },
          "metadata": {},
          "output_type": "display_data"
        },
        {
          "name": "stdout",
          "output_type": "stream",
          "text": [
            "4-fold\n"
          ]
        },
        {
          "data": {
            "text/plain": [
              "survived\n",
              "0    0.588785\n",
              "1    0.411215\n",
              "Name: count, dtype: float64"
            ]
          },
          "metadata": {},
          "output_type": "display_data"
        },
        {
          "data": {
            "text/plain": [
              "survived\n",
              "0    0.626761\n",
              "1    0.373239\n",
              "Name: count, dtype: float64"
            ]
          },
          "metadata": {},
          "output_type": "display_data"
        },
        {
          "data": {
            "text/plain": [
              "survived\n",
              "0    0.584507\n",
              "1    0.415493\n",
              "Name: count, dtype: float64"
            ]
          },
          "metadata": {},
          "output_type": "display_data"
        },
        {
          "name": "stdout",
          "output_type": "stream",
          "text": [
            "5-fold\n"
          ]
        },
        {
          "data": {
            "text/plain": [
              "survived\n",
              "0    0.598131\n",
              "1    0.401869\n",
              "Name: count, dtype: float64"
            ]
          },
          "metadata": {},
          "output_type": "display_data"
        },
        {
          "data": {
            "text/plain": [
              "survived\n",
              "0    0.549296\n",
              "1    0.450704\n",
              "Name: count, dtype: float64"
            ]
          },
          "metadata": {},
          "output_type": "display_data"
        },
        {
          "data": {
            "text/plain": [
              "survived\n",
              "0    0.633803\n",
              "1    0.366197\n",
              "Name: count, dtype: float64"
            ]
          },
          "metadata": {},
          "output_type": "display_data"
        }
      ],
      "source": [
        "results = {}\n",
        "k_fold = KFold(random_state=seed, shuffle=True)\n",
        "for i, (train_index, test_index) in enumerate(k_fold.split(titanic)):\n",
        "    temp = titanic.iloc[train_index]\n",
        "    test = titanic.iloc[test_index]\n",
        "    train, valid = train_test_split(temp, test_size=len(test)/len(temp))\n",
        "\n",
        "    print(f'{i+1}-fold')\n",
        "    display(train.survived.value_counts() / len(train.survived))\n",
        "    display(valid.survived.value_counts() / len(valid.survived))\n",
        "    display(test.survived.value_counts() / len(test.survived))"
      ]
    },
    {
      "cell_type": "code",
      "execution_count": 127,
      "metadata": {},
      "outputs": [
        {
          "name": "stdout",
          "output_type": "stream",
          "text": [
            "[LightGBM] [Warning] No further splits with positive gain, best gain: -inf\n",
            "[LightGBM] [Warning] No further splits with positive gain, best gain: -inf\n",
            "[LightGBM] [Warning] No further splits with positive gain, best gain: -inf\n",
            "[LightGBM] [Warning] No further splits with positive gain, best gain: -inf\n",
            "[LightGBM] [Warning] No further splits with positive gain, best gain: -inf\n",
            "[LightGBM] [Warning] No further splits with positive gain, best gain: -inf\n",
            "[LightGBM] [Warning] No further splits with positive gain, best gain: -inf\n",
            "[LightGBM] [Warning] No further splits with positive gain, best gain: -inf\n",
            "[LightGBM] [Warning] No further splits with positive gain, best gain: -inf\n",
            "[LightGBM] [Warning] No further splits with positive gain, best gain: -inf\n",
            "[LightGBM] [Warning] No further splits with positive gain, best gain: -inf\n",
            "[LightGBM] [Warning] No further splits with positive gain, best gain: -inf\n",
            "[LightGBM] [Warning] No further splits with positive gain, best gain: -inf\n",
            "[LightGBM] [Warning] No further splits with positive gain, best gain: -inf\n",
            "[LightGBM] [Warning] No further splits with positive gain, best gain: -inf\n",
            "[LightGBM] [Warning] No further splits with positive gain, best gain: -inf\n",
            "[LightGBM] [Warning] No further splits with positive gain, best gain: -inf\n",
            "[LightGBM] [Warning] No further splits with positive gain, best gain: -inf\n",
            "[LightGBM] [Warning] No further splits with positive gain, best gain: -inf\n",
            "[LightGBM] [Warning] No further splits with positive gain, best gain: -inf\n",
            "[LightGBM] [Warning] No further splits with positive gain, best gain: -inf\n",
            "[LightGBM] [Warning] No further splits with positive gain, best gain: -inf\n",
            "[LightGBM] [Warning] No further splits with positive gain, best gain: -inf\n",
            "[LightGBM] [Warning] No further splits with positive gain, best gain: -inf\n",
            "[LightGBM] [Warning] No further splits with positive gain, best gain: -inf\n",
            "[LightGBM] [Warning] No further splits with positive gain, best gain: -inf\n",
            "[LightGBM] [Warning] No further splits with positive gain, best gain: -inf\n",
            "[LightGBM] [Warning] No further splits with positive gain, best gain: -inf\n",
            "[LightGBM] [Warning] No further splits with positive gain, best gain: -inf\n",
            "[LightGBM] [Warning] No further splits with positive gain, best gain: -inf\n",
            "[LightGBM] [Warning] No further splits with positive gain, best gain: -inf\n",
            "[LightGBM] [Warning] No further splits with positive gain, best gain: -inf\n",
            "[LightGBM] [Warning] No further splits with positive gain, best gain: -inf\n",
            "[LightGBM] [Warning] No further splits with positive gain, best gain: -inf\n",
            "[LightGBM] [Warning] No further splits with positive gain, best gain: -inf\n",
            "[LightGBM] [Warning] No further splits with positive gain, best gain: -inf\n",
            "[LightGBM] [Warning] No further splits with positive gain, best gain: -inf\n",
            "[LightGBM] [Warning] No further splits with positive gain, best gain: -inf\n",
            "[LightGBM] [Warning] No further splits with positive gain, best gain: -inf\n",
            "[LightGBM] [Warning] No further splits with positive gain, best gain: -inf\n",
            "[LightGBM] [Warning] No further splits with positive gain, best gain: -inf\n",
            "[LightGBM] [Warning] No further splits with positive gain, best gain: -inf\n",
            "[LightGBM] [Warning] No further splits with positive gain, best gain: -inf\n",
            "[LightGBM] [Warning] No further splits with positive gain, best gain: -inf\n",
            "[LightGBM] [Warning] No further splits with positive gain, best gain: -inf\n",
            "[LightGBM] [Warning] No further splits with positive gain, best gain: -inf\n",
            "[LightGBM] [Warning] No further splits with positive gain, best gain: -inf\n",
            "[LightGBM] [Warning] No further splits with positive gain, best gain: -inf\n",
            "[LightGBM] [Warning] No further splits with positive gain, best gain: -inf\n",
            "[LightGBM] [Warning] No further splits with positive gain, best gain: -inf\n",
            "[LightGBM] [Warning] No further splits with positive gain, best gain: -inf\n",
            "[LightGBM] [Warning] No further splits with positive gain, best gain: -inf\n",
            "[LightGBM] [Warning] No further splits with positive gain, best gain: -inf\n",
            "[LightGBM] [Warning] No further splits with positive gain, best gain: -inf\n",
            "[LightGBM] [Warning] No further splits with positive gain, best gain: -inf\n",
            "[LightGBM] [Warning] No further splits with positive gain, best gain: -inf\n",
            "[LightGBM] [Warning] No further splits with positive gain, best gain: -inf\n",
            "[LightGBM] [Warning] No further splits with positive gain, best gain: -inf\n",
            "[LightGBM] [Warning] No further splits with positive gain, best gain: -inf\n",
            "[LightGBM] [Warning] No further splits with positive gain, best gain: -inf\n",
            "[LightGBM] [Warning] No further splits with positive gain, best gain: -inf\n",
            "[LightGBM] [Warning] No further splits with positive gain, best gain: -inf\n",
            "[LightGBM] [Warning] No further splits with positive gain, best gain: -inf\n",
            "[LightGBM] [Warning] No further splits with positive gain, best gain: -inf\n",
            "[LightGBM] [Warning] No further splits with positive gain, best gain: -inf\n",
            "[LightGBM] [Warning] No further splits with positive gain, best gain: -inf\n",
            "[LightGBM] [Warning] No further splits with positive gain, best gain: -inf\n",
            "[LightGBM] [Warning] No further splits with positive gain, best gain: -inf\n",
            "[LightGBM] [Warning] No further splits with positive gain, best gain: -inf\n",
            "[LightGBM] [Warning] No further splits with positive gain, best gain: -inf\n",
            "[LightGBM] [Warning] No further splits with positive gain, best gain: -inf\n",
            "[LightGBM] [Warning] No further splits with positive gain, best gain: -inf\n",
            "[LightGBM] [Warning] No further splits with positive gain, best gain: -inf\n",
            "[LightGBM] [Warning] No further splits with positive gain, best gain: -inf\n",
            "[LightGBM] [Warning] No further splits with positive gain, best gain: -inf\n",
            "[LightGBM] [Warning] No further splits with positive gain, best gain: -inf\n",
            "[LightGBM] [Warning] No further splits with positive gain, best gain: -inf\n",
            "[LightGBM] [Warning] No further splits with positive gain, best gain: -inf\n",
            "[LightGBM] [Warning] No further splits with positive gain, best gain: -inf\n",
            "[LightGBM] [Warning] No further splits with positive gain, best gain: -inf\n",
            "[LightGBM] [Warning] No further splits with positive gain, best gain: -inf\n",
            "[LightGBM] [Warning] No further splits with positive gain, best gain: -inf\n",
            "[LightGBM] [Warning] No further splits with positive gain, best gain: -inf\n",
            "[LightGBM] [Warning] No further splits with positive gain, best gain: -inf\n",
            "[LightGBM] [Warning] No further splits with positive gain, best gain: -inf\n",
            "[LightGBM] [Warning] No further splits with positive gain, best gain: -inf\n",
            "[LightGBM] [Warning] No further splits with positive gain, best gain: -inf\n",
            "[LightGBM] [Warning] No further splits with positive gain, best gain: -inf\n",
            "[LightGBM] [Warning] No further splits with positive gain, best gain: -inf\n",
            "[LightGBM] [Warning] No further splits with positive gain, best gain: -inf\n",
            "[LightGBM] [Warning] No further splits with positive gain, best gain: -inf\n",
            "[LightGBM] [Warning] No further splits with positive gain, best gain: -inf\n",
            "[LightGBM] [Warning] No further splits with positive gain, best gain: -inf\n",
            "[LightGBM] [Warning] No further splits with positive gain, best gain: -inf\n",
            "[LightGBM] [Warning] No further splits with positive gain, best gain: -inf\n",
            "[LightGBM] [Warning] No further splits with positive gain, best gain: -inf\n",
            "[LightGBM] [Warning] No further splits with positive gain, best gain: -inf\n",
            "[LightGBM] [Warning] No further splits with positive gain, best gain: -inf\n",
            "[LightGBM] [Warning] No further splits with positive gain, best gain: -inf\n",
            "[LightGBM] [Warning] No further splits with positive gain, best gain: -inf\n",
            "[LightGBM] [Warning] No further splits with positive gain, best gain: -inf\n",
            "[LightGBM] [Warning] No further splits with positive gain, best gain: -inf\n",
            "[LightGBM] [Warning] No further splits with positive gain, best gain: -inf\n",
            "[LightGBM] [Warning] No further splits with positive gain, best gain: -inf\n",
            "[LightGBM] [Warning] No further splits with positive gain, best gain: -inf\n",
            "[LightGBM] [Warning] No further splits with positive gain, best gain: -inf\n",
            "[LightGBM] [Warning] No further splits with positive gain, best gain: -inf\n",
            "[LightGBM] [Warning] No further splits with positive gain, best gain: -inf\n",
            "[LightGBM] [Warning] No further splits with positive gain, best gain: -inf\n",
            "[LightGBM] [Warning] No further splits with positive gain, best gain: -inf\n",
            "[LightGBM] [Warning] No further splits with positive gain, best gain: -inf\n",
            "[LightGBM] [Warning] No further splits with positive gain, best gain: -inf\n",
            "[LightGBM] [Warning] No further splits with positive gain, best gain: -inf\n",
            "[LightGBM] [Warning] No further splits with positive gain, best gain: -inf\n",
            "[LightGBM] [Warning] No further splits with positive gain, best gain: -inf\n",
            "[LightGBM] [Warning] No further splits with positive gain, best gain: -inf\n",
            "[LightGBM] [Warning] No further splits with positive gain, best gain: -inf\n",
            "[LightGBM] [Warning] No further splits with positive gain, best gain: -inf\n",
            "[LightGBM] [Warning] No further splits with positive gain, best gain: -inf\n",
            "[LightGBM] [Warning] No further splits with positive gain, best gain: -inf\n",
            "[LightGBM] [Warning] No further splits with positive gain, best gain: -inf\n",
            "[LightGBM] [Warning] No further splits with positive gain, best gain: -inf\n",
            "[LightGBM] [Warning] No further splits with positive gain, best gain: -inf\n",
            "[LightGBM] [Warning] No further splits with positive gain, best gain: -inf\n",
            "[LightGBM] [Warning] No further splits with positive gain, best gain: -inf\n",
            "[LightGBM] [Warning] No further splits with positive gain, best gain: -inf\n",
            "[LightGBM] [Warning] No further splits with positive gain, best gain: -inf\n",
            "[LightGBM] [Warning] No further splits with positive gain, best gain: -inf\n",
            "[LightGBM] [Warning] No further splits with positive gain, best gain: -inf\n",
            "[LightGBM] [Warning] No further splits with positive gain, best gain: -inf\n",
            "[LightGBM] [Warning] No further splits with positive gain, best gain: -inf\n",
            "[LightGBM] [Warning] No further splits with positive gain, best gain: -inf\n",
            "[LightGBM] [Warning] No further splits with positive gain, best gain: -inf\n",
            "[LightGBM] [Warning] No further splits with positive gain, best gain: -inf\n",
            "[LightGBM] [Warning] No further splits with positive gain, best gain: -inf\n",
            "[LightGBM] [Warning] No further splits with positive gain, best gain: -inf\n",
            "[LightGBM] [Warning] No further splits with positive gain, best gain: -inf\n",
            "[LightGBM] [Warning] No further splits with positive gain, best gain: -inf\n",
            "[LightGBM] [Warning] No further splits with positive gain, best gain: -inf\n",
            "[LightGBM] [Warning] No further splits with positive gain, best gain: -inf\n",
            "[LightGBM] [Warning] No further splits with positive gain, best gain: -inf\n",
            "[LightGBM] [Warning] No further splits with positive gain, best gain: -inf\n",
            "[LightGBM] [Warning] No further splits with positive gain, best gain: -inf\n",
            "[LightGBM] [Warning] No further splits with positive gain, best gain: -inf\n",
            "[LightGBM] [Warning] No further splits with positive gain, best gain: -inf\n",
            "[LightGBM] [Warning] No further splits with positive gain, best gain: -inf\n",
            "[LightGBM] [Warning] No further splits with positive gain, best gain: -inf\n",
            "[LightGBM] [Warning] No further splits with positive gain, best gain: -inf\n",
            "[LightGBM] [Warning] No further splits with positive gain, best gain: -inf\n",
            "[LightGBM] [Warning] No further splits with positive gain, best gain: -inf\n",
            "[LightGBM] [Warning] No further splits with positive gain, best gain: -inf\n",
            "[LightGBM] [Warning] No further splits with positive gain, best gain: -inf\n",
            "[LightGBM] [Warning] No further splits with positive gain, best gain: -inf\n",
            "[LightGBM] [Warning] No further splits with positive gain, best gain: -inf\n",
            "[LightGBM] [Warning] No further splits with positive gain, best gain: -inf\n",
            "[LightGBM] [Warning] No further splits with positive gain, best gain: -inf\n",
            "[LightGBM] [Warning] No further splits with positive gain, best gain: -inf\n",
            "[LightGBM] [Warning] No further splits with positive gain, best gain: -inf\n",
            "[LightGBM] [Warning] No further splits with positive gain, best gain: -inf\n",
            "[LightGBM] [Warning] No further splits with positive gain, best gain: -inf\n",
            "[LightGBM] [Warning] No further splits with positive gain, best gain: -inf\n",
            "[LightGBM] [Warning] No further splits with positive gain, best gain: -inf\n",
            "[LightGBM] [Warning] No further splits with positive gain, best gain: -inf\n",
            "[LightGBM] [Warning] No further splits with positive gain, best gain: -inf\n",
            "[LightGBM] [Warning] No further splits with positive gain, best gain: -inf\n",
            "[LightGBM] [Warning] No further splits with positive gain, best gain: -inf\n",
            "[LightGBM] [Warning] No further splits with positive gain, best gain: -inf\n",
            "[LightGBM] [Warning] No further splits with positive gain, best gain: -inf\n",
            "[LightGBM] [Warning] No further splits with positive gain, best gain: -inf\n",
            "[LightGBM] [Warning] No further splits with positive gain, best gain: -inf\n",
            "[LightGBM] [Warning] No further splits with positive gain, best gain: -inf\n",
            "[LightGBM] [Warning] No further splits with positive gain, best gain: -inf\n",
            "[LightGBM] [Warning] No further splits with positive gain, best gain: -inf\n",
            "[LightGBM] [Warning] No further splits with positive gain, best gain: -inf\n",
            "[LightGBM] [Warning] No further splits with positive gain, best gain: -inf\n",
            "[LightGBM] [Warning] No further splits with positive gain, best gain: -inf\n",
            "[LightGBM] [Warning] No further splits with positive gain, best gain: -inf\n",
            "[LightGBM] [Warning] No further splits with positive gain, best gain: -inf\n",
            "[LightGBM] [Warning] No further splits with positive gain, best gain: -inf\n",
            "[LightGBM] [Warning] No further splits with positive gain, best gain: -inf\n",
            "[LightGBM] [Warning] No further splits with positive gain, best gain: -inf\n",
            "[LightGBM] [Warning] No further splits with positive gain, best gain: -inf\n",
            "[LightGBM] [Warning] No further splits with positive gain, best gain: -inf\n",
            "[LightGBM] [Warning] No further splits with positive gain, best gain: -inf\n",
            "[LightGBM] [Warning] No further splits with positive gain, best gain: -inf\n",
            "[LightGBM] [Warning] No further splits with positive gain, best gain: -inf\n",
            "[LightGBM] [Warning] No further splits with positive gain, best gain: -inf\n",
            "[LightGBM] [Warning] No further splits with positive gain, best gain: -inf\n",
            "[LightGBM] [Warning] No further splits with positive gain, best gain: -inf\n",
            "[LightGBM] [Warning] No further splits with positive gain, best gain: -inf\n",
            "[LightGBM] [Warning] No further splits with positive gain, best gain: -inf\n",
            "[LightGBM] [Warning] No further splits with positive gain, best gain: -inf\n",
            "[LightGBM] [Warning] No further splits with positive gain, best gain: -inf\n",
            "[LightGBM] [Warning] No further splits with positive gain, best gain: -inf\n",
            "[LightGBM] [Warning] No further splits with positive gain, best gain: -inf\n",
            "[LightGBM] [Warning] No further splits with positive gain, best gain: -inf\n",
            "[LightGBM] [Warning] No further splits with positive gain, best gain: -inf\n",
            "[LightGBM] [Warning] No further splits with positive gain, best gain: -inf\n",
            "[LightGBM] [Warning] No further splits with positive gain, best gain: -inf\n",
            "[LightGBM] [Warning] No further splits with positive gain, best gain: -inf\n",
            "[LightGBM] [Warning] No further splits with positive gain, best gain: -inf\n",
            "[LightGBM] [Warning] No further splits with positive gain, best gain: -inf\n",
            "[LightGBM] [Warning] No further splits with positive gain, best gain: -inf\n",
            "[LightGBM] [Warning] No further splits with positive gain, best gain: -inf\n",
            "[LightGBM] [Warning] No further splits with positive gain, best gain: -inf\n",
            "[LightGBM] [Warning] No further splits with positive gain, best gain: -inf\n",
            "[LightGBM] [Warning] No further splits with positive gain, best gain: -inf\n",
            "[LightGBM] [Warning] No further splits with positive gain, best gain: -inf\n",
            "[LightGBM] [Warning] No further splits with positive gain, best gain: -inf\n",
            "[LightGBM] [Warning] No further splits with positive gain, best gain: -inf\n",
            "[LightGBM] [Warning] No further splits with positive gain, best gain: -inf\n",
            "[LightGBM] [Warning] No further splits with positive gain, best gain: -inf\n",
            "[LightGBM] [Warning] No further splits with positive gain, best gain: -inf\n",
            "[LightGBM] [Warning] No further splits with positive gain, best gain: -inf\n",
            "[LightGBM] [Warning] No further splits with positive gain, best gain: -inf\n",
            "[LightGBM] [Warning] No further splits with positive gain, best gain: -inf\n",
            "[LightGBM] [Warning] No further splits with positive gain, best gain: -inf\n",
            "[LightGBM] [Warning] No further splits with positive gain, best gain: -inf\n",
            "[LightGBM] [Warning] No further splits with positive gain, best gain: -inf\n",
            "[LightGBM] [Warning] No further splits with positive gain, best gain: -inf\n",
            "[LightGBM] [Warning] No further splits with positive gain, best gain: -inf\n",
            "[LightGBM] [Warning] No further splits with positive gain, best gain: -inf\n",
            "[LightGBM] [Warning] No further splits with positive gain, best gain: -inf\n",
            "[LightGBM] [Warning] No further splits with positive gain, best gain: -inf\n",
            "[LightGBM] [Warning] No further splits with positive gain, best gain: -inf\n",
            "[LightGBM] [Warning] No further splits with positive gain, best gain: -inf\n",
            "[LightGBM] [Warning] No further splits with positive gain, best gain: -inf\n",
            "[LightGBM] [Warning] No further splits with positive gain, best gain: -inf\n",
            "[LightGBM] [Warning] No further splits with positive gain, best gain: -inf\n",
            "[LightGBM] [Warning] No further splits with positive gain, best gain: -inf\n",
            "[LightGBM] [Warning] No further splits with positive gain, best gain: -inf\n",
            "[LightGBM] [Warning] No further splits with positive gain, best gain: -inf\n",
            "[LightGBM] [Warning] No further splits with positive gain, best gain: -inf\n",
            "[LightGBM] [Warning] No further splits with positive gain, best gain: -inf\n",
            "[LightGBM] [Warning] No further splits with positive gain, best gain: -inf\n",
            "[LightGBM] [Warning] No further splits with positive gain, best gain: -inf\n",
            "[LightGBM] [Warning] No further splits with positive gain, best gain: -inf\n",
            "[LightGBM] [Warning] No further splits with positive gain, best gain: -inf\n",
            "[LightGBM] [Warning] No further splits with positive gain, best gain: -inf\n",
            "[LightGBM] [Warning] No further splits with positive gain, best gain: -inf\n",
            "[LightGBM] [Warning] No further splits with positive gain, best gain: -inf\n",
            "[LightGBM] [Warning] No further splits with positive gain, best gain: -inf\n",
            "[LightGBM] [Warning] No further splits with positive gain, best gain: -inf\n",
            "[LightGBM] [Warning] No further splits with positive gain, best gain: -inf\n",
            "[LightGBM] [Warning] No further splits with positive gain, best gain: -inf\n",
            "[LightGBM] [Warning] No further splits with positive gain, best gain: -inf\n",
            "[LightGBM] [Warning] No further splits with positive gain, best gain: -inf\n",
            "[LightGBM] [Warning] No further splits with positive gain, best gain: -inf\n",
            "[LightGBM] [Warning] No further splits with positive gain, best gain: -inf\n",
            "[LightGBM] [Warning] No further splits with positive gain, best gain: -inf\n",
            "[LightGBM] [Warning] No further splits with positive gain, best gain: -inf\n",
            "[LightGBM] [Warning] No further splits with positive gain, best gain: -inf\n",
            "[LightGBM] [Warning] No further splits with positive gain, best gain: -inf\n",
            "[LightGBM] [Warning] No further splits with positive gain, best gain: -inf\n",
            "[LightGBM] [Warning] No further splits with positive gain, best gain: -inf\n",
            "[LightGBM] [Warning] No further splits with positive gain, best gain: -inf\n",
            "[LightGBM] [Warning] No further splits with positive gain, best gain: -inf\n",
            "[LightGBM] [Warning] No further splits with positive gain, best gain: -inf\n",
            "[LightGBM] [Warning] No further splits with positive gain, best gain: -inf\n",
            "[LightGBM] [Warning] No further splits with positive gain, best gain: -inf\n",
            "[LightGBM] [Warning] No further splits with positive gain, best gain: -inf\n",
            "[LightGBM] [Warning] No further splits with positive gain, best gain: -inf\n",
            "[LightGBM] [Warning] No further splits with positive gain, best gain: -inf\n",
            "[LightGBM] [Warning] No further splits with positive gain, best gain: -inf\n",
            "[LightGBM] [Warning] No further splits with positive gain, best gain: -inf\n",
            "[LightGBM] [Warning] No further splits with positive gain, best gain: -inf\n",
            "[LightGBM] [Warning] No further splits with positive gain, best gain: -inf\n",
            "[LightGBM] [Warning] No further splits with positive gain, best gain: -inf\n",
            "[LightGBM] [Warning] No further splits with positive gain, best gain: -inf\n",
            "[LightGBM] [Warning] No further splits with positive gain, best gain: -inf\n",
            "[LightGBM] [Warning] No further splits with positive gain, best gain: -inf\n",
            "[LightGBM] [Warning] No further splits with positive gain, best gain: -inf\n",
            "[LightGBM] [Warning] No further splits with positive gain, best gain: -inf\n",
            "[LightGBM] [Warning] No further splits with positive gain, best gain: -inf\n",
            "[LightGBM] [Warning] No further splits with positive gain, best gain: -inf\n",
            "[LightGBM] [Warning] No further splits with positive gain, best gain: -inf\n",
            "[LightGBM] [Warning] No further splits with positive gain, best gain: -inf\n",
            "[LightGBM] [Warning] No further splits with positive gain, best gain: -inf\n",
            "[LightGBM] [Warning] No further splits with positive gain, best gain: -inf\n",
            "[LightGBM] [Warning] No further splits with positive gain, best gain: -inf\n",
            "[LightGBM] [Warning] No further splits with positive gain, best gain: -inf\n",
            "[LightGBM] [Warning] No further splits with positive gain, best gain: -inf\n",
            "[LightGBM] [Warning] No further splits with positive gain, best gain: -inf\n",
            "[LightGBM] [Warning] No further splits with positive gain, best gain: -inf\n",
            "[LightGBM] [Warning] No further splits with positive gain, best gain: -inf\n",
            "[LightGBM] [Warning] No further splits with positive gain, best gain: -inf\n",
            "[LightGBM] [Warning] No further splits with positive gain, best gain: -inf\n",
            "[LightGBM] [Warning] No further splits with positive gain, best gain: -inf\n",
            "[LightGBM] [Warning] No further splits with positive gain, best gain: -inf\n",
            "[LightGBM] [Warning] No further splits with positive gain, best gain: -inf\n",
            "[LightGBM] [Warning] No further splits with positive gain, best gain: -inf\n",
            "[LightGBM] [Warning] No further splits with positive gain, best gain: -inf\n",
            "[LightGBM] [Warning] No further splits with positive gain, best gain: -inf\n",
            "[LightGBM] [Warning] No further splits with positive gain, best gain: -inf\n",
            "[LightGBM] [Warning] No further splits with positive gain, best gain: -inf\n",
            "[LightGBM] [Warning] No further splits with positive gain, best gain: -inf\n",
            "[LightGBM] [Warning] No further splits with positive gain, best gain: -inf\n",
            "[LightGBM] [Warning] No further splits with positive gain, best gain: -inf\n",
            "[LightGBM] [Warning] No further splits with positive gain, best gain: -inf\n",
            "[LightGBM] [Warning] No further splits with positive gain, best gain: -inf\n",
            "[LightGBM] [Warning] No further splits with positive gain, best gain: -inf\n",
            "[LightGBM] [Warning] No further splits with positive gain, best gain: -inf\n",
            "[LightGBM] [Warning] No further splits with positive gain, best gain: -inf\n",
            "[LightGBM] [Warning] No further splits with positive gain, best gain: -inf\n",
            "[LightGBM] [Warning] No further splits with positive gain, best gain: -inf\n",
            "[LightGBM] [Warning] No further splits with positive gain, best gain: -inf\n",
            "[LightGBM] [Warning] No further splits with positive gain, best gain: -inf\n",
            "[LightGBM] [Warning] No further splits with positive gain, best gain: -inf\n",
            "[LightGBM] [Warning] No further splits with positive gain, best gain: -inf\n",
            "[LightGBM] [Warning] No further splits with positive gain, best gain: -inf\n",
            "[LightGBM] [Warning] No further splits with positive gain, best gain: -inf\n",
            "[LightGBM] [Warning] No further splits with positive gain, best gain: -inf\n",
            "[LightGBM] [Warning] No further splits with positive gain, best gain: -inf\n",
            "[LightGBM] [Warning] No further splits with positive gain, best gain: -inf\n",
            "[LightGBM] [Warning] No further splits with positive gain, best gain: -inf\n",
            "[LightGBM] [Warning] No further splits with positive gain, best gain: -inf\n",
            "[LightGBM] [Warning] No further splits with positive gain, best gain: -inf\n",
            "[LightGBM] [Warning] No further splits with positive gain, best gain: -inf\n",
            "[LightGBM] [Warning] No further splits with positive gain, best gain: -inf\n",
            "[LightGBM] [Warning] No further splits with positive gain, best gain: -inf\n",
            "[LightGBM] [Warning] No further splits with positive gain, best gain: -inf\n",
            "[LightGBM] [Warning] No further splits with positive gain, best gain: -inf\n",
            "[LightGBM] [Warning] No further splits with positive gain, best gain: -inf\n",
            "[LightGBM] [Warning] No further splits with positive gain, best gain: -inf\n",
            "[LightGBM] [Warning] No further splits with positive gain, best gain: -inf\n",
            "[LightGBM] [Warning] No further splits with positive gain, best gain: -inf\n",
            "[LightGBM] [Warning] No further splits with positive gain, best gain: -inf\n",
            "[LightGBM] [Warning] No further splits with positive gain, best gain: -inf\n",
            "[LightGBM] [Warning] No further splits with positive gain, best gain: -inf\n",
            "[LightGBM] [Warning] No further splits with positive gain, best gain: -inf\n",
            "[LightGBM] [Warning] No further splits with positive gain, best gain: -inf\n",
            "[LightGBM] [Warning] No further splits with positive gain, best gain: -inf\n",
            "[LightGBM] [Warning] No further splits with positive gain, best gain: -inf\n",
            "[LightGBM] [Warning] No further splits with positive gain, best gain: -inf\n",
            "[LightGBM] [Warning] No further splits with positive gain, best gain: -inf\n",
            "[LightGBM] [Warning] No further splits with positive gain, best gain: -inf\n",
            "[LightGBM] [Warning] No further splits with positive gain, best gain: -inf\n",
            "[LightGBM] [Warning] No further splits with positive gain, best gain: -inf\n",
            "[LightGBM] [Warning] No further splits with positive gain, best gain: -inf\n",
            "[LightGBM] [Warning] No further splits with positive gain, best gain: -inf\n",
            "[LightGBM] [Warning] No further splits with positive gain, best gain: -inf\n",
            "[LightGBM] [Warning] No further splits with positive gain, best gain: -inf\n",
            "[LightGBM] [Warning] No further splits with positive gain, best gain: -inf\n",
            "[LightGBM] [Warning] No further splits with positive gain, best gain: -inf\n",
            "[LightGBM] [Warning] No further splits with positive gain, best gain: -inf\n",
            "[LightGBM] [Warning] No further splits with positive gain, best gain: -inf\n",
            "[LightGBM] [Warning] No further splits with positive gain, best gain: -inf\n",
            "[LightGBM] [Warning] No further splits with positive gain, best gain: -inf\n",
            "[LightGBM] [Warning] No further splits with positive gain, best gain: -inf\n",
            "[LightGBM] [Warning] No further splits with positive gain, best gain: -inf\n",
            "[LightGBM] [Warning] No further splits with positive gain, best gain: -inf\n",
            "[LightGBM] [Warning] No further splits with positive gain, best gain: -inf\n",
            "[LightGBM] [Warning] No further splits with positive gain, best gain: -inf\n",
            "[LightGBM] [Warning] No further splits with positive gain, best gain: -inf\n",
            "[LightGBM] [Warning] No further splits with positive gain, best gain: -inf\n",
            "[LightGBM] [Warning] No further splits with positive gain, best gain: -inf\n",
            "[LightGBM] [Warning] No further splits with positive gain, best gain: -inf\n",
            "[LightGBM] [Warning] No further splits with positive gain, best gain: -inf\n",
            "[LightGBM] [Warning] No further splits with positive gain, best gain: -inf\n",
            "[LightGBM] [Warning] No further splits with positive gain, best gain: -inf\n",
            "[LightGBM] [Warning] No further splits with positive gain, best gain: -inf\n",
            "[LightGBM] [Warning] No further splits with positive gain, best gain: -inf\n",
            "[LightGBM] [Warning] No further splits with positive gain, best gain: -inf\n",
            "[LightGBM] [Warning] No further splits with positive gain, best gain: -inf\n",
            "[LightGBM] [Warning] No further splits with positive gain, best gain: -inf\n",
            "[LightGBM] [Warning] No further splits with positive gain, best gain: -inf\n",
            "[LightGBM] [Warning] No further splits with positive gain, best gain: -inf\n",
            "[LightGBM] [Warning] No further splits with positive gain, best gain: -inf\n",
            "[LightGBM] [Warning] No further splits with positive gain, best gain: -inf\n",
            "[LightGBM] [Warning] No further splits with positive gain, best gain: -inf\n",
            "[LightGBM] [Warning] No further splits with positive gain, best gain: -inf\n",
            "[LightGBM] [Warning] No further splits with positive gain, best gain: -inf\n",
            "[LightGBM] [Warning] No further splits with positive gain, best gain: -inf\n",
            "[LightGBM] [Warning] No further splits with positive gain, best gain: -inf\n",
            "[LightGBM] [Warning] No further splits with positive gain, best gain: -inf\n",
            "[LightGBM] [Warning] No further splits with positive gain, best gain: -inf\n",
            "[LightGBM] [Warning] No further splits with positive gain, best gain: -inf\n",
            "[LightGBM] [Warning] No further splits with positive gain, best gain: -inf\n",
            "[LightGBM] [Warning] No further splits with positive gain, best gain: -inf\n",
            "[LightGBM] [Warning] No further splits with positive gain, best gain: -inf\n",
            "[LightGBM] [Warning] No further splits with positive gain, best gain: -inf\n",
            "[LightGBM] [Warning] No further splits with positive gain, best gain: -inf\n",
            "[LightGBM] [Warning] No further splits with positive gain, best gain: -inf\n",
            "[LightGBM] [Warning] No further splits with positive gain, best gain: -inf\n",
            "[LightGBM] [Warning] No further splits with positive gain, best gain: -inf\n",
            "[LightGBM] [Warning] No further splits with positive gain, best gain: -inf\n",
            "[LightGBM] [Warning] No further splits with positive gain, best gain: -inf\n",
            "[LightGBM] [Warning] No further splits with positive gain, best gain: -inf\n",
            "[LightGBM] [Warning] No further splits with positive gain, best gain: -inf\n",
            "[LightGBM] [Warning] No further splits with positive gain, best gain: -inf\n",
            "[LightGBM] [Warning] No further splits with positive gain, best gain: -inf\n",
            "[LightGBM] [Warning] No further splits with positive gain, best gain: -inf\n",
            "[LightGBM] [Warning] No further splits with positive gain, best gain: -inf\n",
            "[LightGBM] [Warning] No further splits with positive gain, best gain: -inf\n",
            "[LightGBM] [Warning] No further splits with positive gain, best gain: -inf\n",
            "[LightGBM] [Warning] No further splits with positive gain, best gain: -inf\n",
            "[LightGBM] [Warning] No further splits with positive gain, best gain: -inf\n",
            "[LightGBM] [Warning] No further splits with positive gain, best gain: -inf\n",
            "[LightGBM] [Warning] No further splits with positive gain, best gain: -inf\n",
            "[LightGBM] [Warning] No further splits with positive gain, best gain: -inf\n",
            "[LightGBM] [Warning] No further splits with positive gain, best gain: -inf\n",
            "[LightGBM] [Warning] No further splits with positive gain, best gain: -inf\n",
            "[LightGBM] [Warning] No further splits with positive gain, best gain: -inf\n",
            "[LightGBM] [Warning] No further splits with positive gain, best gain: -inf\n",
            "[LightGBM] [Warning] No further splits with positive gain, best gain: -inf\n",
            "[LightGBM] [Warning] No further splits with positive gain, best gain: -inf\n",
            "[LightGBM] [Warning] No further splits with positive gain, best gain: -inf\n",
            "[LightGBM] [Warning] No further splits with positive gain, best gain: -inf\n",
            "[LightGBM] [Warning] No further splits with positive gain, best gain: -inf\n",
            "[LightGBM] [Warning] No further splits with positive gain, best gain: -inf\n",
            "[LightGBM] [Warning] No further splits with positive gain, best gain: -inf\n",
            "[LightGBM] [Warning] No further splits with positive gain, best gain: -inf\n",
            "[LightGBM] [Warning] No further splits with positive gain, best gain: -inf\n",
            "[LightGBM] [Warning] No further splits with positive gain, best gain: -inf\n",
            "[LightGBM] [Warning] No further splits with positive gain, best gain: -inf\n",
            "[LightGBM] [Warning] No further splits with positive gain, best gain: -inf\n",
            "[LightGBM] [Warning] No further splits with positive gain, best gain: -inf\n",
            "[LightGBM] [Warning] No further splits with positive gain, best gain: -inf\n",
            "[LightGBM] [Warning] No further splits with positive gain, best gain: -inf\n",
            "[LightGBM] [Warning] No further splits with positive gain, best gain: -inf\n",
            "[LightGBM] [Warning] No further splits with positive gain, best gain: -inf\n",
            "[LightGBM] [Warning] No further splits with positive gain, best gain: -inf\n",
            "[LightGBM] [Warning] No further splits with positive gain, best gain: -inf\n",
            "[LightGBM] [Warning] No further splits with positive gain, best gain: -inf\n",
            "[LightGBM] [Warning] No further splits with positive gain, best gain: -inf\n",
            "[LightGBM] [Warning] No further splits with positive gain, best gain: -inf\n",
            "[LightGBM] [Warning] No further splits with positive gain, best gain: -inf\n",
            "[LightGBM] [Warning] No further splits with positive gain, best gain: -inf\n",
            "[LightGBM] [Warning] No further splits with positive gain, best gain: -inf\n",
            "[LightGBM] [Warning] No further splits with positive gain, best gain: -inf\n",
            "[LightGBM] [Warning] No further splits with positive gain, best gain: -inf\n",
            "[LightGBM] [Warning] No further splits with positive gain, best gain: -inf\n",
            "[LightGBM] [Warning] No further splits with positive gain, best gain: -inf\n",
            "[LightGBM] [Warning] No further splits with positive gain, best gain: -inf\n",
            "[LightGBM] [Warning] No further splits with positive gain, best gain: -inf\n",
            "[LightGBM] [Warning] No further splits with positive gain, best gain: -inf\n",
            "[LightGBM] [Warning] No further splits with positive gain, best gain: -inf\n",
            "[LightGBM] [Warning] No further splits with positive gain, best gain: -inf\n",
            "[LightGBM] [Warning] No further splits with positive gain, best gain: -inf\n",
            "[LightGBM] [Warning] No further splits with positive gain, best gain: -inf\n",
            "[LightGBM] [Warning] No further splits with positive gain, best gain: -inf\n",
            "[LightGBM] [Warning] No further splits with positive gain, best gain: -inf\n",
            "[LightGBM] [Warning] No further splits with positive gain, best gain: -inf\n",
            "[LightGBM] [Warning] No further splits with positive gain, best gain: -inf\n",
            "[LightGBM] [Warning] No further splits with positive gain, best gain: -inf\n",
            "[LightGBM] [Warning] No further splits with positive gain, best gain: -inf\n",
            "[LightGBM] [Warning] No further splits with positive gain, best gain: -inf\n",
            "[LightGBM] [Warning] No further splits with positive gain, best gain: -inf\n",
            "[LightGBM] [Warning] No further splits with positive gain, best gain: -inf\n",
            "[LightGBM] [Warning] No further splits with positive gain, best gain: -inf\n",
            "[LightGBM] [Warning] No further splits with positive gain, best gain: -inf\n",
            "[LightGBM] [Warning] No further splits with positive gain, best gain: -inf\n",
            "[LightGBM] [Warning] No further splits with positive gain, best gain: -inf\n",
            "[LightGBM] [Warning] No further splits with positive gain, best gain: -inf\n",
            "[LightGBM] [Warning] No further splits with positive gain, best gain: -inf\n",
            "[LightGBM] [Warning] No further splits with positive gain, best gain: -inf\n",
            "[LightGBM] [Warning] No further splits with positive gain, best gain: -inf\n",
            "[LightGBM] [Warning] No further splits with positive gain, best gain: -inf\n",
            "[LightGBM] [Warning] No further splits with positive gain, best gain: -inf\n",
            "[LightGBM] [Warning] No further splits with positive gain, best gain: -inf\n",
            "[LightGBM] [Warning] No further splits with positive gain, best gain: -inf\n",
            "[LightGBM] [Warning] No further splits with positive gain, best gain: -inf\n",
            "[LightGBM] [Warning] No further splits with positive gain, best gain: -inf\n",
            "[LightGBM] [Warning] No further splits with positive gain, best gain: -inf\n",
            "[LightGBM] [Warning] No further splits with positive gain, best gain: -inf\n",
            "[LightGBM] [Warning] No further splits with positive gain, best gain: -inf\n",
            "[LightGBM] [Warning] No further splits with positive gain, best gain: -inf\n",
            "[LightGBM] [Warning] No further splits with positive gain, best gain: -inf\n",
            "[LightGBM] [Warning] No further splits with positive gain, best gain: -inf\n",
            "[LightGBM] [Warning] No further splits with positive gain, best gain: -inf\n",
            "[LightGBM] [Warning] No further splits with positive gain, best gain: -inf\n",
            "[LightGBM] [Warning] No further splits with positive gain, best gain: -inf\n",
            "[LightGBM] [Warning] No further splits with positive gain, best gain: -inf\n",
            "[LightGBM] [Warning] No further splits with positive gain, best gain: -inf\n",
            "[LightGBM] [Warning] No further splits with positive gain, best gain: -inf\n",
            "[LightGBM] [Warning] No further splits with positive gain, best gain: -inf\n",
            "[LightGBM] [Warning] No further splits with positive gain, best gain: -inf\n",
            "[LightGBM] [Warning] No further splits with positive gain, best gain: -inf\n",
            "[LightGBM] [Warning] No further splits with positive gain, best gain: -inf\n",
            "[LightGBM] [Warning] No further splits with positive gain, best gain: -inf\n",
            "[LightGBM] [Warning] No further splits with positive gain, best gain: -inf\n",
            "[LightGBM] [Warning] No further splits with positive gain, best gain: -inf\n",
            "[LightGBM] [Warning] No further splits with positive gain, best gain: -inf\n",
            "[LightGBM] [Warning] No further splits with positive gain, best gain: -inf\n",
            "[LightGBM] [Warning] No further splits with positive gain, best gain: -inf\n",
            "[LightGBM] [Warning] No further splits with positive gain, best gain: -inf\n",
            "[LightGBM] [Warning] No further splits with positive gain, best gain: -inf\n",
            "[LightGBM] [Warning] No further splits with positive gain, best gain: -inf\n",
            "[LightGBM] [Warning] No further splits with positive gain, best gain: -inf\n",
            "[LightGBM] [Warning] No further splits with positive gain, best gain: -inf\n",
            "[LightGBM] [Warning] No further splits with positive gain, best gain: -inf\n",
            "[LightGBM] [Warning] No further splits with positive gain, best gain: -inf\n",
            "[LightGBM] [Warning] No further splits with positive gain, best gain: -inf\n",
            "[LightGBM] [Warning] No further splits with positive gain, best gain: -inf\n",
            "[LightGBM] [Warning] No further splits with positive gain, best gain: -inf\n",
            "[LightGBM] [Warning] No further splits with positive gain, best gain: -inf\n",
            "[LightGBM] [Warning] No further splits with positive gain, best gain: -inf\n",
            "[LightGBM] [Warning] No further splits with positive gain, best gain: -inf\n",
            "[LightGBM] [Warning] No further splits with positive gain, best gain: -inf\n",
            "[LightGBM] [Warning] No further splits with positive gain, best gain: -inf\n"
          ]
        }
      ],
      "source": [
        "results = {}\n",
        "stratified_k_fold = StratifiedKFold(random_state=seed, shuffle=True)\n",
        "for i, (train_index, test_index) in enumerate(stratified_k_fold.split(titanic, titanic.survived)):\n",
        "    temp = titanic.iloc[train_index]\n",
        "    test = titanic.iloc[test_index]\n",
        "    train, valid = train_test_split(temp, test_size=len(test)/len(temp))\n",
        "\n",
        "    lgbm = LGBMClassifier(verbose=0)\n",
        "    lgbm.fit(\n",
        "        train.drop(columns=['survived']), train.survived,\n",
        "        eval_set=(valid.drop(columns=['survived']), valid.survived)\n",
        "    )\n",
        "\n",
        "    confusion_matrix_result = confusion_matrix(\n",
        "        np.where(test.survived==0, 1, 0),\n",
        "        np.where(lgbm.predict(test.drop(columns=['survived']))==0, 1, 0),\n",
        "    )\n",
        "    TP = confusion_matrix_result[0, 0]\n",
        "    FN = confusion_matrix_result[0, 1]\n",
        "    FP = confusion_matrix_result[1, 0]\n",
        "    TN = confusion_matrix_result[1, 1]\n",
        "\n",
        "    precision = TP / (TP+FP)\n",
        "    recall = TP / (TP+FN)\n",
        "    f1 = 2*precision*recall / (precision+recall)\n",
        "    accuracy = (TP+TN) / (TP+TN+FP+FN)\n",
        "\n",
        "    results.update({\n",
        "        f'fold{i+1}': {\n",
        "            'precision': precision,\n",
        "            'recall': recall,\n",
        "            'f1': f1,\n",
        "            'accuracy': accuracy,\n",
        "        }\n",
        "    })"
      ]
    },
    {
      "cell_type": "code",
      "execution_count": 128,
      "metadata": {},
      "outputs": [
        {
          "name": "stdout",
          "output_type": "stream",
          "text": [
            "fold1: {'precision': 0.8431372549019608, 'recall': 0.7413793103448276, 'f1': 0.7889908256880734, 'accuracy': 0.8391608391608392}\n",
            "fold2: {'precision': 0.803921568627451, 'recall': 0.7068965517241379, 'f1': 0.7522935779816514, 'accuracy': 0.8111888111888111}\n",
            "fold3: {'precision': 0.7796610169491526, 'recall': 0.8070175438596491, 'f1': 0.7931034482758621, 'accuracy': 0.8309859154929577}\n",
            "fold4: {'precision': 0.7317073170731707, 'recall': 0.5263157894736842, 'f1': 0.6122448979591836, 'accuracy': 0.7323943661971831}\n",
            "fold5: {'precision': 0.65625, 'recall': 0.7241379310344828, 'f1': 0.6885245901639345, 'accuracy': 0.7323943661971831}\n"
          ]
        }
      ],
      "source": [
        "for fold, result in results.items():\n",
        "    print(f'{fold}: {result}')"
      ]
    },
    {
      "cell_type": "markdown",
      "metadata": {},
      "source": [
        "extreme small case"
      ]
    },
    {
      "cell_type": "code",
      "execution_count": 119,
      "metadata": {},
      "outputs": [],
      "source": [
        "titanic2 = titanic.copy()"
      ]
    },
    {
      "cell_type": "code",
      "execution_count": 120,
      "metadata": {},
      "outputs": [],
      "source": [
        "titanic2.loc[titanic2.loc[titanic2.survived == 1, 'survived'].index[:280], 'survived'] = 0"
      ]
    },
    {
      "cell_type": "code",
      "execution_count": 121,
      "metadata": {},
      "outputs": [
        {
          "data": {
            "text/plain": [
              "survived\n",
              "0    0.988764\n",
              "1    0.011236\n",
              "Name: count, dtype: float64"
            ]
          },
          "execution_count": 121,
          "metadata": {},
          "output_type": "execute_result"
        }
      ],
      "source": [
        "titanic2.survived.value_counts() / len(titanic2)"
      ]
    },
    {
      "cell_type": "code",
      "execution_count": 123,
      "metadata": {},
      "outputs": [
        {
          "name": "stdout",
          "output_type": "stream",
          "text": [
            "1-fold\n"
          ]
        },
        {
          "data": {
            "text/plain": [
              "survived\n",
              "0    0.995305\n",
              "1    0.004695\n",
              "Name: count, dtype: float64"
            ]
          },
          "metadata": {},
          "output_type": "display_data"
        },
        {
          "data": {
            "text/plain": [
              "survived\n",
              "0    0.972028\n",
              "1    0.027972\n",
              "Name: count, dtype: float64"
            ]
          },
          "metadata": {},
          "output_type": "display_data"
        },
        {
          "data": {
            "text/plain": [
              "survived\n",
              "0    0.986014\n",
              "1    0.013986\n",
              "Name: count, dtype: float64"
            ]
          },
          "metadata": {},
          "output_type": "display_data"
        },
        {
          "name": "stdout",
          "output_type": "stream",
          "text": [
            "2-fold\n"
          ]
        },
        {
          "data": {
            "text/plain": [
              "survived\n",
              "0    0.988263\n",
              "1    0.011737\n",
              "Name: count, dtype: float64"
            ]
          },
          "metadata": {},
          "output_type": "display_data"
        },
        {
          "data": {
            "text/plain": [
              "survived\n",
              "0    0.993007\n",
              "1    0.006993\n",
              "Name: count, dtype: float64"
            ]
          },
          "metadata": {},
          "output_type": "display_data"
        },
        {
          "data": {
            "text/plain": [
              "survived\n",
              "0    0.986014\n",
              "1    0.013986\n",
              "Name: count, dtype: float64"
            ]
          },
          "metadata": {},
          "output_type": "display_data"
        },
        {
          "name": "stdout",
          "output_type": "stream",
          "text": [
            "3-fold\n"
          ]
        },
        {
          "data": {
            "text/plain": [
              "survived\n",
              "0    0.992991\n",
              "1    0.007009\n",
              "Name: count, dtype: float64"
            ]
          },
          "metadata": {},
          "output_type": "display_data"
        },
        {
          "data": {
            "text/plain": [
              "survived\n",
              "0    0.978873\n",
              "1    0.021127\n",
              "Name: count, dtype: float64"
            ]
          },
          "metadata": {},
          "output_type": "display_data"
        },
        {
          "data": {
            "text/plain": [
              "survived\n",
              "0    0.985915\n",
              "1    0.014085\n",
              "Name: count, dtype: float64"
            ]
          },
          "metadata": {},
          "output_type": "display_data"
        },
        {
          "name": "stdout",
          "output_type": "stream",
          "text": [
            "4-fold\n"
          ]
        },
        {
          "data": {
            "text/plain": [
              "survived\n",
              "0    0.983645\n",
              "1    0.016355\n",
              "Name: count, dtype: float64"
            ]
          },
          "metadata": {},
          "output_type": "display_data"
        },
        {
          "data": {
            "text/plain": [
              "survived\n",
              "0    0.992958\n",
              "1    0.007042\n",
              "Name: count, dtype: float64"
            ]
          },
          "metadata": {},
          "output_type": "display_data"
        },
        {
          "data": {
            "text/plain": [
              "survived\n",
              "0    1.0\n",
              "Name: count, dtype: float64"
            ]
          },
          "metadata": {},
          "output_type": "display_data"
        },
        {
          "name": "stdout",
          "output_type": "stream",
          "text": [
            "5-fold\n"
          ]
        },
        {
          "data": {
            "text/plain": [
              "survived\n",
              "0    0.992991\n",
              "1    0.007009\n",
              "Name: count, dtype: float64"
            ]
          },
          "metadata": {},
          "output_type": "display_data"
        },
        {
          "data": {
            "text/plain": [
              "survived\n",
              "0    0.978873\n",
              "1    0.021127\n",
              "Name: count, dtype: float64"
            ]
          },
          "metadata": {},
          "output_type": "display_data"
        },
        {
          "data": {
            "text/plain": [
              "survived\n",
              "0    0.985915\n",
              "1    0.014085\n",
              "Name: count, dtype: float64"
            ]
          },
          "metadata": {},
          "output_type": "display_data"
        }
      ],
      "source": [
        "results = {}\n",
        "k_fold = KFold(random_state=seed, shuffle=True)\n",
        "for i, (train_index, test_index) in enumerate(k_fold.split(titanic2)):\n",
        "    temp = titanic2.iloc[train_index]\n",
        "    test = titanic2.iloc[test_index]\n",
        "    train, valid = train_test_split(temp, test_size=len(test)/len(temp))\n",
        "\n",
        "    print(f'{i+1}-fold')\n",
        "    display(train.survived.value_counts() / len(train.survived))\n",
        "    display(valid.survived.value_counts() / len(valid.survived))\n",
        "    display(test.survived.value_counts() / len(test.survived))"
      ]
    },
    {
      "cell_type": "code",
      "execution_count": 124,
      "metadata": {},
      "outputs": [
        {
          "name": "stdout",
          "output_type": "stream",
          "text": [
            "1-fold\n"
          ]
        },
        {
          "data": {
            "text/plain": [
              "survived\n",
              "0    0.99061\n",
              "1    0.00939\n",
              "Name: count, dtype: float64"
            ]
          },
          "metadata": {},
          "output_type": "display_data"
        },
        {
          "data": {
            "text/plain": [
              "survived\n",
              "0    0.986014\n",
              "1    0.013986\n",
              "Name: count, dtype: float64"
            ]
          },
          "metadata": {},
          "output_type": "display_data"
        },
        {
          "data": {
            "text/plain": [
              "survived\n",
              "0    0.986014\n",
              "1    0.013986\n",
              "Name: count, dtype: float64"
            ]
          },
          "metadata": {},
          "output_type": "display_data"
        },
        {
          "name": "stdout",
          "output_type": "stream",
          "text": [
            "2-fold\n"
          ]
        },
        {
          "data": {
            "text/plain": [
              "survived\n",
              "0    0.988263\n",
              "1    0.011737\n",
              "Name: count, dtype: float64"
            ]
          },
          "metadata": {},
          "output_type": "display_data"
        },
        {
          "data": {
            "text/plain": [
              "survived\n",
              "0    0.993007\n",
              "1    0.006993\n",
              "Name: count, dtype: float64"
            ]
          },
          "metadata": {},
          "output_type": "display_data"
        },
        {
          "data": {
            "text/plain": [
              "survived\n",
              "0    0.986014\n",
              "1    0.013986\n",
              "Name: count, dtype: float64"
            ]
          },
          "metadata": {},
          "output_type": "display_data"
        },
        {
          "name": "stdout",
          "output_type": "stream",
          "text": [
            "3-fold\n"
          ]
        },
        {
          "data": {
            "text/plain": [
              "survived\n",
              "0    0.990654\n",
              "1    0.009346\n",
              "Name: count, dtype: float64"
            ]
          },
          "metadata": {},
          "output_type": "display_data"
        },
        {
          "data": {
            "text/plain": [
              "survived\n",
              "0    0.978873\n",
              "1    0.021127\n",
              "Name: count, dtype: float64"
            ]
          },
          "metadata": {},
          "output_type": "display_data"
        },
        {
          "data": {
            "text/plain": [
              "survived\n",
              "0    0.992958\n",
              "1    0.007042\n",
              "Name: count, dtype: float64"
            ]
          },
          "metadata": {},
          "output_type": "display_data"
        },
        {
          "name": "stdout",
          "output_type": "stream",
          "text": [
            "4-fold\n"
          ]
        },
        {
          "data": {
            "text/plain": [
              "survived\n",
              "0    0.983645\n",
              "1    0.016355\n",
              "Name: count, dtype: float64"
            ]
          },
          "metadata": {},
          "output_type": "display_data"
        },
        {
          "data": {
            "text/plain": [
              "survived\n",
              "0    1.0\n",
              "Name: count, dtype: float64"
            ]
          },
          "metadata": {},
          "output_type": "display_data"
        },
        {
          "data": {
            "text/plain": [
              "survived\n",
              "0    0.992958\n",
              "1    0.007042\n",
              "Name: count, dtype: float64"
            ]
          },
          "metadata": {},
          "output_type": "display_data"
        },
        {
          "name": "stdout",
          "output_type": "stream",
          "text": [
            "5-fold\n"
          ]
        },
        {
          "data": {
            "text/plain": [
              "survived\n",
              "0    0.988318\n",
              "1    0.011682\n",
              "Name: count, dtype: float64"
            ]
          },
          "metadata": {},
          "output_type": "display_data"
        },
        {
          "data": {
            "text/plain": [
              "survived\n",
              "0    0.992958\n",
              "1    0.007042\n",
              "Name: count, dtype: float64"
            ]
          },
          "metadata": {},
          "output_type": "display_data"
        },
        {
          "data": {
            "text/plain": [
              "survived\n",
              "0    0.985915\n",
              "1    0.014085\n",
              "Name: count, dtype: float64"
            ]
          },
          "metadata": {},
          "output_type": "display_data"
        }
      ],
      "source": [
        "results = {}\n",
        "stratified_k_fold = StratifiedKFold(random_state=seed, shuffle=True)\n",
        "for i, (train_index, test_index) in enumerate(stratified_k_fold.split(titanic2, titanic2.survived)):\n",
        "    temp = titanic2.iloc[train_index]\n",
        "    test = titanic2.iloc[test_index]\n",
        "    train, valid = train_test_split(temp, test_size=len(test)/len(temp))\n",
        "\n",
        "    print(f'{i+1}-fold')\n",
        "    display(train.survived.value_counts() / len(train.survived))\n",
        "    display(valid.survived.value_counts() / len(valid.survived))\n",
        "    display(test.survived.value_counts() / len(test.survived))"
      ]
    },
    {
      "cell_type": "markdown",
      "metadata": {
        "id": "Q-sYdCs9t3Pm"
      },
      "source": [
        "## Walk Forward (Anchor)\n",
        "\n",
        "<img src=\"https://media.licdn.com/dms/image/C4D12AQEHWXK8cuV07w/article-inline_image-shrink_1000_1488/0/1637321417060?e=2147483647&v=beta&t=RzRHzXkbL1mBFMUjcbLS0EsOGZEGiISOM792YSaTo4A\" width=\"700\" height=\"400\"/>\n",
        "\n",
        "<br>\n",
        "\n",
        "시계열 데이터의 특성 상 sequential한 데이터의 성질을 잃어버리면 안 됨. <br>\n",
        "하지만 기본적인 cross-validation의 fold는 이를 임의로 섞기에 sequential한 정보를 잃어버림. <br>\n",
        "이러한 시계열의 특징을 살려 cross-validation을 진행하는 것이 Timeseries Cross-Validation. <br>\n",
        "\n",
        "Walk Forward (Anchor)은 시작 위치의 값이 이동하는 것이 아니라, 처음 위치에서부터 fold를 누적으로 확대. <br>\n",
        "test size는 일반적으로 고정되어 있음.\n",
        "\n",
        "<br>\n",
        "\n",
        "**사용 방법**\n",
        "\n",
        "> ```python\n",
        "> from sklearn.model_selection import TimeSeriesSplit\n",
        ">\n",
        "> time_series_split = TimeSeriesSplit()  # n_splits: 5 (default)\n",
        "> for i, (train_index, test_index) in enumerate(time_series_split.split(X)):\n",
        ">   train_x = data[train_index]\n",
        ">   train_y = data[test_index]\n",
        ">   ...\n",
        "> ```\n",
        "\n",
        "<br>\n",
        "\n",
        "**Parameters of TimeSeriesSplit**\n",
        "- shuffle: 데이터를 섞어서 fold 생성\n",
        "- random state: 재현성을 위한 시드 넘버\n",
        "- n_splits: 몇 개의 fold로 구성할 것인지 설정\n",
        "- max_train_size: 최대 학습 개수 설정. (non-anchor에서 사용)\n",
        "- test_size: test 구간의 크기 설정\n",
        "- gap: train과 test 사이에 몇 개의 데이터 간격을 둘 건지 설정 (purging을 목적으로 사용)"
      ]
    },
    {
      "cell_type": "code",
      "execution_count": 133,
      "metadata": {},
      "outputs": [
        {
          "name": "stdout",
          "output_type": "stream",
          "text": [
            "1 fold\n",
            "[  0   1   2   3   4   5   6   7   8   9  10  11  12  13  14  15  16  17\n",
            "  18  19  20  21  22  23  24  25  26  27  28  29  30  31  32  33  34  35\n",
            "  36  37  38  39  40  41  42  43  44  45  46  47  48  49  50  51  52  53\n",
            "  54  55  56  57  58  59  60  61  62  63  64  65  66  67  68  69  70  71\n",
            "  72  73  74  75  76  77  78  79  80  81  82  83  84  85  86  87  88  89\n",
            "  90  91  92  93  94  95  96  97  98  99 100 101 102 103 104 105 106 107\n",
            " 108 109 110 111 112 113 114 115 116 117 118 119 120 121]\n",
            "[122 123 124 125 126 127 128 129 130 131 132 133 134 135 136 137 138 139\n",
            " 140 141 142 143 144 145 146 147 148 149 150 151 152 153 154 155 156 157\n",
            " 158 159 160 161 162 163 164 165 166 167 168 169 170 171 172 173 174 175\n",
            " 176 177 178 179 180 181 182 183 184 185 186 187 188 189 190 191 192 193\n",
            " 194 195 196 197 198 199 200 201 202 203 204 205 206 207 208 209 210 211\n",
            " 212 213 214 215 216 217 218 219 220 221 222 223 224 225 226 227 228 229\n",
            " 230 231 232 233 234 235 236 237 238 239]\n",
            "2 fold\n",
            "[  0   1   2   3   4   5   6   7   8   9  10  11  12  13  14  15  16  17\n",
            "  18  19  20  21  22  23  24  25  26  27  28  29  30  31  32  33  34  35\n",
            "  36  37  38  39  40  41  42  43  44  45  46  47  48  49  50  51  52  53\n",
            "  54  55  56  57  58  59  60  61  62  63  64  65  66  67  68  69  70  71\n",
            "  72  73  74  75  76  77  78  79  80  81  82  83  84  85  86  87  88  89\n",
            "  90  91  92  93  94  95  96  97  98  99 100 101 102 103 104 105 106 107\n",
            " 108 109 110 111 112 113 114 115 116 117 118 119 120 121 122 123 124 125\n",
            " 126 127 128 129 130 131 132 133 134 135 136 137 138 139 140 141 142 143\n",
            " 144 145 146 147 148 149 150 151 152 153 154 155 156 157 158 159 160 161\n",
            " 162 163 164 165 166 167 168 169 170 171 172 173 174 175 176 177 178 179\n",
            " 180 181 182 183 184 185 186 187 188 189 190 191 192 193 194 195 196 197\n",
            " 198 199 200 201 202 203 204 205 206 207 208 209 210 211 212 213 214 215\n",
            " 216 217 218 219 220 221 222 223 224 225 226 227 228 229 230 231 232 233\n",
            " 234 235 236 237 238 239]\n",
            "[240 241 242 243 244 245 246 247 248 249 250 251 252 253 254 255 256 257\n",
            " 258 259 260 261 262 263 264 265 266 267 268 269 270 271 272 273 274 275\n",
            " 276 277 278 279 280 281 282 283 284 285 286 287 288 289 290 291 292 293\n",
            " 294 295 296 297 298 299 300 301 302 303 304 305 306 307 308 309 310 311\n",
            " 312 313 314 315 316 317 318 319 320 321 322 323 324 325 326 327 328 329\n",
            " 330 331 332 333 334 335 336 337 338 339 340 341 342 343 344 345 346 347\n",
            " 348 349 350 351 352 353 354 355 356 357]\n",
            "3 fold\n",
            "[  0   1   2   3   4   5   6   7   8   9  10  11  12  13  14  15  16  17\n",
            "  18  19  20  21  22  23  24  25  26  27  28  29  30  31  32  33  34  35\n",
            "  36  37  38  39  40  41  42  43  44  45  46  47  48  49  50  51  52  53\n",
            "  54  55  56  57  58  59  60  61  62  63  64  65  66  67  68  69  70  71\n",
            "  72  73  74  75  76  77  78  79  80  81  82  83  84  85  86  87  88  89\n",
            "  90  91  92  93  94  95  96  97  98  99 100 101 102 103 104 105 106 107\n",
            " 108 109 110 111 112 113 114 115 116 117 118 119 120 121 122 123 124 125\n",
            " 126 127 128 129 130 131 132 133 134 135 136 137 138 139 140 141 142 143\n",
            " 144 145 146 147 148 149 150 151 152 153 154 155 156 157 158 159 160 161\n",
            " 162 163 164 165 166 167 168 169 170 171 172 173 174 175 176 177 178 179\n",
            " 180 181 182 183 184 185 186 187 188 189 190 191 192 193 194 195 196 197\n",
            " 198 199 200 201 202 203 204 205 206 207 208 209 210 211 212 213 214 215\n",
            " 216 217 218 219 220 221 222 223 224 225 226 227 228 229 230 231 232 233\n",
            " 234 235 236 237 238 239 240 241 242 243 244 245 246 247 248 249 250 251\n",
            " 252 253 254 255 256 257 258 259 260 261 262 263 264 265 266 267 268 269\n",
            " 270 271 272 273 274 275 276 277 278 279 280 281 282 283 284 285 286 287\n",
            " 288 289 290 291 292 293 294 295 296 297 298 299 300 301 302 303 304 305\n",
            " 306 307 308 309 310 311 312 313 314 315 316 317 318 319 320 321 322 323\n",
            " 324 325 326 327 328 329 330 331 332 333 334 335 336 337 338 339 340 341\n",
            " 342 343 344 345 346 347 348 349 350 351 352 353 354 355 356 357]\n",
            "[358 359 360 361 362 363 364 365 366 367 368 369 370 371 372 373 374 375\n",
            " 376 377 378 379 380 381 382 383 384 385 386 387 388 389 390 391 392 393\n",
            " 394 395 396 397 398 399 400 401 402 403 404 405 406 407 408 409 410 411\n",
            " 412 413 414 415 416 417 418 419 420 421 422 423 424 425 426 427 428 429\n",
            " 430 431 432 433 434 435 436 437 438 439 440 441 442 443 444 445 446 447\n",
            " 448 449 450 451 452 453 454 455 456 457 458 459 460 461 462 463 464 465\n",
            " 466 467 468 469 470 471 472 473 474 475]\n",
            "4 fold\n",
            "[  0   1   2   3   4   5   6   7   8   9  10  11  12  13  14  15  16  17\n",
            "  18  19  20  21  22  23  24  25  26  27  28  29  30  31  32  33  34  35\n",
            "  36  37  38  39  40  41  42  43  44  45  46  47  48  49  50  51  52  53\n",
            "  54  55  56  57  58  59  60  61  62  63  64  65  66  67  68  69  70  71\n",
            "  72  73  74  75  76  77  78  79  80  81  82  83  84  85  86  87  88  89\n",
            "  90  91  92  93  94  95  96  97  98  99 100 101 102 103 104 105 106 107\n",
            " 108 109 110 111 112 113 114 115 116 117 118 119 120 121 122 123 124 125\n",
            " 126 127 128 129 130 131 132 133 134 135 136 137 138 139 140 141 142 143\n",
            " 144 145 146 147 148 149 150 151 152 153 154 155 156 157 158 159 160 161\n",
            " 162 163 164 165 166 167 168 169 170 171 172 173 174 175 176 177 178 179\n",
            " 180 181 182 183 184 185 186 187 188 189 190 191 192 193 194 195 196 197\n",
            " 198 199 200 201 202 203 204 205 206 207 208 209 210 211 212 213 214 215\n",
            " 216 217 218 219 220 221 222 223 224 225 226 227 228 229 230 231 232 233\n",
            " 234 235 236 237 238 239 240 241 242 243 244 245 246 247 248 249 250 251\n",
            " 252 253 254 255 256 257 258 259 260 261 262 263 264 265 266 267 268 269\n",
            " 270 271 272 273 274 275 276 277 278 279 280 281 282 283 284 285 286 287\n",
            " 288 289 290 291 292 293 294 295 296 297 298 299 300 301 302 303 304 305\n",
            " 306 307 308 309 310 311 312 313 314 315 316 317 318 319 320 321 322 323\n",
            " 324 325 326 327 328 329 330 331 332 333 334 335 336 337 338 339 340 341\n",
            " 342 343 344 345 346 347 348 349 350 351 352 353 354 355 356 357 358 359\n",
            " 360 361 362 363 364 365 366 367 368 369 370 371 372 373 374 375 376 377\n",
            " 378 379 380 381 382 383 384 385 386 387 388 389 390 391 392 393 394 395\n",
            " 396 397 398 399 400 401 402 403 404 405 406 407 408 409 410 411 412 413\n",
            " 414 415 416 417 418 419 420 421 422 423 424 425 426 427 428 429 430 431\n",
            " 432 433 434 435 436 437 438 439 440 441 442 443 444 445 446 447 448 449\n",
            " 450 451 452 453 454 455 456 457 458 459 460 461 462 463 464 465 466 467\n",
            " 468 469 470 471 472 473 474 475]\n",
            "[476 477 478 479 480 481 482 483 484 485 486 487 488 489 490 491 492 493\n",
            " 494 495 496 497 498 499 500 501 502 503 504 505 506 507 508 509 510 511\n",
            " 512 513 514 515 516 517 518 519 520 521 522 523 524 525 526 527 528 529\n",
            " 530 531 532 533 534 535 536 537 538 539 540 541 542 543 544 545 546 547\n",
            " 548 549 550 551 552 553 554 555 556 557 558 559 560 561 562 563 564 565\n",
            " 566 567 568 569 570 571 572 573 574 575 576 577 578 579 580 581 582 583\n",
            " 584 585 586 587 588 589 590 591 592 593]\n",
            "5 fold\n",
            "[  0   1   2   3   4   5   6   7   8   9  10  11  12  13  14  15  16  17\n",
            "  18  19  20  21  22  23  24  25  26  27  28  29  30  31  32  33  34  35\n",
            "  36  37  38  39  40  41  42  43  44  45  46  47  48  49  50  51  52  53\n",
            "  54  55  56  57  58  59  60  61  62  63  64  65  66  67  68  69  70  71\n",
            "  72  73  74  75  76  77  78  79  80  81  82  83  84  85  86  87  88  89\n",
            "  90  91  92  93  94  95  96  97  98  99 100 101 102 103 104 105 106 107\n",
            " 108 109 110 111 112 113 114 115 116 117 118 119 120 121 122 123 124 125\n",
            " 126 127 128 129 130 131 132 133 134 135 136 137 138 139 140 141 142 143\n",
            " 144 145 146 147 148 149 150 151 152 153 154 155 156 157 158 159 160 161\n",
            " 162 163 164 165 166 167 168 169 170 171 172 173 174 175 176 177 178 179\n",
            " 180 181 182 183 184 185 186 187 188 189 190 191 192 193 194 195 196 197\n",
            " 198 199 200 201 202 203 204 205 206 207 208 209 210 211 212 213 214 215\n",
            " 216 217 218 219 220 221 222 223 224 225 226 227 228 229 230 231 232 233\n",
            " 234 235 236 237 238 239 240 241 242 243 244 245 246 247 248 249 250 251\n",
            " 252 253 254 255 256 257 258 259 260 261 262 263 264 265 266 267 268 269\n",
            " 270 271 272 273 274 275 276 277 278 279 280 281 282 283 284 285 286 287\n",
            " 288 289 290 291 292 293 294 295 296 297 298 299 300 301 302 303 304 305\n",
            " 306 307 308 309 310 311 312 313 314 315 316 317 318 319 320 321 322 323\n",
            " 324 325 326 327 328 329 330 331 332 333 334 335 336 337 338 339 340 341\n",
            " 342 343 344 345 346 347 348 349 350 351 352 353 354 355 356 357 358 359\n",
            " 360 361 362 363 364 365 366 367 368 369 370 371 372 373 374 375 376 377\n",
            " 378 379 380 381 382 383 384 385 386 387 388 389 390 391 392 393 394 395\n",
            " 396 397 398 399 400 401 402 403 404 405 406 407 408 409 410 411 412 413\n",
            " 414 415 416 417 418 419 420 421 422 423 424 425 426 427 428 429 430 431\n",
            " 432 433 434 435 436 437 438 439 440 441 442 443 444 445 446 447 448 449\n",
            " 450 451 452 453 454 455 456 457 458 459 460 461 462 463 464 465 466 467\n",
            " 468 469 470 471 472 473 474 475 476 477 478 479 480 481 482 483 484 485\n",
            " 486 487 488 489 490 491 492 493 494 495 496 497 498 499 500 501 502 503\n",
            " 504 505 506 507 508 509 510 511 512 513 514 515 516 517 518 519 520 521\n",
            " 522 523 524 525 526 527 528 529 530 531 532 533 534 535 536 537 538 539\n",
            " 540 541 542 543 544 545 546 547 548 549 550 551 552 553 554 555 556 557\n",
            " 558 559 560 561 562 563 564 565 566 567 568 569 570 571 572 573 574 575\n",
            " 576 577 578 579 580 581 582 583 584 585 586 587 588 589 590 591 592 593]\n",
            "[594 595 596 597 598 599 600 601 602 603 604 605 606 607 608 609 610 611\n",
            " 612 613 614 615 616 617 618 619 620 621 622 623 624 625 626 627 628 629\n",
            " 630 631 632 633 634 635 636 637 638 639 640 641 642 643 644 645 646 647\n",
            " 648 649 650 651 652 653 654 655 656 657 658 659 660 661 662 663 664 665\n",
            " 666 667 668 669 670 671 672 673 674 675 676 677 678 679 680 681 682 683\n",
            " 684 685 686 687 688 689 690 691 692 693 694 695 696 697 698 699 700 701\n",
            " 702 703 704 705 706 707 708 709 710 711]\n"
          ]
        }
      ],
      "source": [
        "time_series_split = TimeSeriesSplit()\n",
        "for i, (train_index, test_index) in enumerate(time_series_split.split(titanic)):\n",
        "    print(f'{i+1} fold')\n",
        "    print(train_index)\n",
        "    print(test_index)"
      ]
    },
    {
      "cell_type": "markdown",
      "metadata": {
        "id": "ypywK_NPt3Yu"
      },
      "source": [
        "## Walk Forward (non-Anchor)\n",
        "\n",
        "<img src=\"https://media.licdn.com/dms/image/C4D12AQEp3jwtWRs3Ww/article-inline_image-shrink_1000_1488/0/1637321444844?e=2147483647&v=beta&t=q7NS-8RiHPeeuwfymNsMyYL8ce1bwsDjrUL-wGyqVQ4\" width=\"700\" height=\"400\"/>\n",
        "\n",
        "<br>\n",
        "\n",
        "non-anchor는 시작 위치를 고정하지 않는 것으로 구간을 오른쪽으로 점차 옮기면서 확인하는 것을 의미. <br>\n",
        "시계열의 연속성은 살리면서 특정 구간에 해당하는 데이터로만 검정 시 사용. <br>\n",
        "\n",
        "<br>\n",
        "\n",
        "**사용 방법**\n",
        "> ```python\n",
        "> from sklearn.model_selection import TimeSeriesSplit\n",
        ">\n",
        "> time_series_split = TimeSeriesSplit(max_train_size=10, test_size=3)  # n_splits: 5 (default)\n",
        "> for i, (train_index, test_index) in enumerate(time_series_split.split(X)):\n",
        ">   train_x = data[train_index]\n",
        ">   train_y = data[test_index]\n",
        ">   ...\n",
        "> ```\n"
      ]
    },
    {
      "cell_type": "code",
      "execution_count": 136,
      "metadata": {
        "id": "Gh667Sjbt3cE"
      },
      "outputs": [
        {
          "name": "stdout",
          "output_type": "stream",
          "text": [
            "1 fold\n",
            "[112 113 114 115 116 117 118 119 120 121 122 123 124 125 126 127 128 129\n",
            " 130 131 132 133 134 135 136 137 138 139 140 141 142 143 144 145 146 147\n",
            " 148 149 150 151 152 153 154 155 156 157 158 159 160 161 162 163 164 165\n",
            " 166 167 168 169 170 171 172 173 174 175 176 177 178 179 180 181 182 183\n",
            " 184 185 186 187 188 189 190 191 192 193 194 195 196 197 198 199 200 201\n",
            " 202 203 204 205 206 207 208 209 210 211]\n",
            "100\n",
            "[212 213 214 215 216 217 218 219 220 221 222 223 224 225 226 227 228 229\n",
            " 230 231 232 233 234 235 236 237 238 239 240 241 242 243 244 245 246 247\n",
            " 248 249 250 251 252 253 254 255 256 257 258 259 260 261 262 263 264 265\n",
            " 266 267 268 269 270 271 272 273 274 275 276 277 278 279 280 281 282 283\n",
            " 284 285 286 287 288 289 290 291 292 293 294 295 296 297 298 299 300 301\n",
            " 302 303 304 305 306 307 308 309 310 311]\n",
            "100\n",
            "2 fold\n",
            "[212 213 214 215 216 217 218 219 220 221 222 223 224 225 226 227 228 229\n",
            " 230 231 232 233 234 235 236 237 238 239 240 241 242 243 244 245 246 247\n",
            " 248 249 250 251 252 253 254 255 256 257 258 259 260 261 262 263 264 265\n",
            " 266 267 268 269 270 271 272 273 274 275 276 277 278 279 280 281 282 283\n",
            " 284 285 286 287 288 289 290 291 292 293 294 295 296 297 298 299 300 301\n",
            " 302 303 304 305 306 307 308 309 310 311]\n",
            "100\n",
            "[312 313 314 315 316 317 318 319 320 321 322 323 324 325 326 327 328 329\n",
            " 330 331 332 333 334 335 336 337 338 339 340 341 342 343 344 345 346 347\n",
            " 348 349 350 351 352 353 354 355 356 357 358 359 360 361 362 363 364 365\n",
            " 366 367 368 369 370 371 372 373 374 375 376 377 378 379 380 381 382 383\n",
            " 384 385 386 387 388 389 390 391 392 393 394 395 396 397 398 399 400 401\n",
            " 402 403 404 405 406 407 408 409 410 411]\n",
            "100\n",
            "3 fold\n",
            "[312 313 314 315 316 317 318 319 320 321 322 323 324 325 326 327 328 329\n",
            " 330 331 332 333 334 335 336 337 338 339 340 341 342 343 344 345 346 347\n",
            " 348 349 350 351 352 353 354 355 356 357 358 359 360 361 362 363 364 365\n",
            " 366 367 368 369 370 371 372 373 374 375 376 377 378 379 380 381 382 383\n",
            " 384 385 386 387 388 389 390 391 392 393 394 395 396 397 398 399 400 401\n",
            " 402 403 404 405 406 407 408 409 410 411]\n",
            "100\n",
            "[412 413 414 415 416 417 418 419 420 421 422 423 424 425 426 427 428 429\n",
            " 430 431 432 433 434 435 436 437 438 439 440 441 442 443 444 445 446 447\n",
            " 448 449 450 451 452 453 454 455 456 457 458 459 460 461 462 463 464 465\n",
            " 466 467 468 469 470 471 472 473 474 475 476 477 478 479 480 481 482 483\n",
            " 484 485 486 487 488 489 490 491 492 493 494 495 496 497 498 499 500 501\n",
            " 502 503 504 505 506 507 508 509 510 511]\n",
            "100\n",
            "4 fold\n",
            "[412 413 414 415 416 417 418 419 420 421 422 423 424 425 426 427 428 429\n",
            " 430 431 432 433 434 435 436 437 438 439 440 441 442 443 444 445 446 447\n",
            " 448 449 450 451 452 453 454 455 456 457 458 459 460 461 462 463 464 465\n",
            " 466 467 468 469 470 471 472 473 474 475 476 477 478 479 480 481 482 483\n",
            " 484 485 486 487 488 489 490 491 492 493 494 495 496 497 498 499 500 501\n",
            " 502 503 504 505 506 507 508 509 510 511]\n",
            "100\n",
            "[512 513 514 515 516 517 518 519 520 521 522 523 524 525 526 527 528 529\n",
            " 530 531 532 533 534 535 536 537 538 539 540 541 542 543 544 545 546 547\n",
            " 548 549 550 551 552 553 554 555 556 557 558 559 560 561 562 563 564 565\n",
            " 566 567 568 569 570 571 572 573 574 575 576 577 578 579 580 581 582 583\n",
            " 584 585 586 587 588 589 590 591 592 593 594 595 596 597 598 599 600 601\n",
            " 602 603 604 605 606 607 608 609 610 611]\n",
            "100\n",
            "5 fold\n",
            "[512 513 514 515 516 517 518 519 520 521 522 523 524 525 526 527 528 529\n",
            " 530 531 532 533 534 535 536 537 538 539 540 541 542 543 544 545 546 547\n",
            " 548 549 550 551 552 553 554 555 556 557 558 559 560 561 562 563 564 565\n",
            " 566 567 568 569 570 571 572 573 574 575 576 577 578 579 580 581 582 583\n",
            " 584 585 586 587 588 589 590 591 592 593 594 595 596 597 598 599 600 601\n",
            " 602 603 604 605 606 607 608 609 610 611]\n",
            "100\n",
            "[612 613 614 615 616 617 618 619 620 621 622 623 624 625 626 627 628 629\n",
            " 630 631 632 633 634 635 636 637 638 639 640 641 642 643 644 645 646 647\n",
            " 648 649 650 651 652 653 654 655 656 657 658 659 660 661 662 663 664 665\n",
            " 666 667 668 669 670 671 672 673 674 675 676 677 678 679 680 681 682 683\n",
            " 684 685 686 687 688 689 690 691 692 693 694 695 696 697 698 699 700 701\n",
            " 702 703 704 705 706 707 708 709 710 711]\n",
            "100\n"
          ]
        }
      ],
      "source": [
        "time_series_split = TimeSeriesSplit(max_train_size=100, test_size=100)\n",
        "for i, (train_index, test_index) in enumerate(time_series_split.split(titanic)):\n",
        "    print(f'{i+1} fold')\n",
        "    print(train_index)\n",
        "    print(len(train_index))\n",
        "    print(test_index)\n",
        "    print(len(test_index))"
      ]
    },
    {
      "cell_type": "markdown",
      "metadata": {
        "id": "iw4R5NXJyxS-"
      },
      "source": [
        "## Purged Cross-Validation\n",
        "\n",
        "<img src=\"https://www.researchgate.net/publication/364022775/figure/fig9/AS:11431281115413786@1674878761351/Combinatorial-embargoed-purging-K-fold-CV-The-blue-and-red-bars-indicate-the-training.png\" width=\"700\" height=\"400\"/>\n",
        "\n",
        "\n",
        "Walk forward 방법이 아래와 같은 단점 존재\n",
        "1. Data Leakage 문제: Walk forward는 시간에 따라 모델을 반복적으로 훈련하고 검증하기 때문에, 최신 데이터로 인해 데이터 유출 문제 발생 가능성 존재. <br>\n",
        "    -> 모델이 미래 정보를 활용하여 예측하려고 시도하게 만들어 정확한 성능 평가를 방해할 수 있음\n",
        "2. 편향된 모델 성능: 매 시간대에서 모델을 최적화하고 검증하는 과정에서, 해당 시간대에 최적화된 모델을 선택하게 되어 편향된 모델 성능 추정 발생 가능성 존재.\n",
        "    -> 이는 모델이 특정 시간대에서만 잘 작동하도록 만들어질 수 있을 가능성 존재\n",
        "\n",
        "위의 문제를 해결하기 위해 cross-validation 사용했었지만 아래와 같은 예제에서 문제 발생 <br>\n",
        "    ex) 2010~2019년 S&P500이 활황이었을 때 데이터를 학습 후 2007-2009년 금융 위기의 데이터를 테스트 한다고 할 때 테스트 데이터에서 일부 정보 유출이 발생하여 잘못된 결과를 도출할 가능성이 존재\n",
        "\n",
        "<br>\n",
        "\n",
        "Combinatorial Purged Cross-Validation(CPCV)은 Walk Forward와 Cross-Validation이 단일 경로만을 테스트하는 단점을 보완. <br>\n",
        "CPCV를 통해 사전에 특정된 서로 다른 train/test 셋의 조합을 통해 bactesting path를 생성. <br>\n",
        "\n",
        "<br>\n",
        "\n",
        "<img src=\"https://cdn-images-1.medium.com/proxy/1*-zIcqDu_jnPPkBAcEtQ4HA.png\" width=\"700\" height=\"400\"/>\n"
      ]
    },
    {
      "cell_type": "markdown",
      "metadata": {
        "id": "ynhA6dpmBdQw"
      },
      "source": [
        "### Purging\n",
        "\n",
        "![image.png](data:image/png;base64,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)\n",
        "\n",
        "<br>\n",
        "\n",
        "시계열 데이터는 이전 자신과의 연관도가 높기에 테스트 데이터 부근의 학습 데이터를 제거하여 학습 데이터로의 leakage 방지."
      ]
    },
    {
      "cell_type": "markdown",
      "metadata": {
        "id": "7SXfZnu2y3OK"
      },
      "source": [
        "### Embargoing\n",
        "\n",
        "![image.png](data:image/png;base64,iVBORw0KGgoAAAANSUhEUgAAAp0AAAEfCAYAAAADRX1wAAAKpGlDQ1BJQ0MgUHJvZmlsZQAASImVlgdQk9kWgO//pzcIBCKd0JsgnQBSQmihSwcbIQkQSgiB0OzI4gqsBRURUFesiIKrUm2IBdsioCjWBVkU1HWxYMPyfmAIu/vmvTfvzJz/fHP+c8895869MwcACpkrFqfCVADSRFmSUB8PRnRMLAM3ArCADkjAAphzeZliVkhIAEBkxv5d3t8B0KS9ZT6Z69///1dR4AsyeQBAIQjH8zN5aQifRPQpTyzJAgBVjfj1crLEk9yOsJIEKRDh25OcOM0jkxw/zV+mYsJD2QCgka7wZC5XkggAWQPxM7J5iUge8nyELUV8oQjhyXpd09LS+QgfQdgYiREjPJmfGf+XPIl/yxkvy8nlJsp4upcpwXsKM8Wp3Lz/8zj+t6SlSmf2MESUnCTxDUWsHHJm/Snp/jIWxQcFz7CQPxU/xUlS34gZ5mWyY2eYz/X0l61NDQqY4QShN0eWJ4sTPsOCTK+wGZakh8r2SpCwWTPMlczuK02JkPmTBBxZ/vyk8KgZzhZGBs1wZkqY/2wMW+aXSENl9QtEPh6z+3rLek/L/Eu/Qo5sbVZSuK+sd+5s/QIRazZnZrSsNr7A02s2JkIWL87ykO0lTg2RxQtSfWT+zOww2dos5ELOrg2RnWEy1y9khkEYsAa2wBPYIF9LALIEuVmTTbDTxXkSYWJSFoOFvC4BgyPiWcxlWFta2wIw+Vanr8Lb/qk3CNHxs76USADsTwMAc2Z9vM8ANCFKNZv1GRUBoOgHQHsrTyrJnvahJz8YQATyQAmoAi2gB4yBOVKhPXAG7sAL+IFgEA5iwBLAA0kgDUhADlgO1oAiUAI2gW2gEuwGe8EhcBQcB83gNDgPLoProBv0gQdgAAyDF2AMvAcTEAThIApEg1QhbcgAMoOsISbkCnlBAVAoFAPFQYmQCJJCy6G1UAlUBlVCe6Ba6BeoFToPXYV6oHvQIDQKvYE+wyiYDCvBmrAhPA9mwizYHw6HF8OJcAacDxfCG+AKuAY+AjfB5+HrcB88AL+Ax1EARULRUToocxQTxUYFo2JRCSgJaiWqGFWOqkHVo9pQnahbqAHUS9QnNBZNQzPQ5mhntC86As1DZ6BXokvRlehD6Cb0RfQt9CB6DP0NQ8FoYMwwThgOJhqTiMnBFGHKMQcwjZhLmD7MMOY9FoulY42wDlhfbAw2GbsMW4rdiW3AtmN7sEPYcRwOp4ozw7nggnFcXBauCLcDdwR3DteLG8Z9xJPw2nhrvDc+Fi/CF+DL8YfxZ/G9+Gf4CQKVYEBwIgQT+IQ8wkbCPkIb4SZhmDBBVCAaEV2I4cRk4hpiBbGeeIn4kPiWRCLpkhxJC0hC0mpSBekY6QppkPSJrEg2JbPJi8hS8gbyQXI7+R75LYVCMaS4U2IpWZQNlFrKBcpjykc5mpyFHEeOL7dKrkquSa5X7pU8Qd5AniW/RD5fvlz+hPxN+ZdUAtWQyqZyqSupVdRW6l3quAJNwUohWCFNoVThsMJVhRFFnKKhopciX7FQca/iBcUhGoqmR2PTeLS1tH20S7RhJaySkRJHKVmpROmoUpfSmLKisq1ypHKucpXyGeUBOopuSOfQU+kb6cfpd+if52jOYc0RzFk/p35O75wPKuoq7ioClWKVBpU+lc+qDFUv1RTVzarNqo/U0GqmagvUctR2qV1Se6mupO6szlMvVj+ufl8D1jDVCNVYprFX44bGuKaWpo+mWHOH5gXNl1p0LXetZK2tWme1RrVp2q7aQu2t2ue0nzOUGSxGKqOCcZExpqOh46sj1dmj06UzoWukG6FboNug+0iPqMfUS9DbqtehN6avrR+ov1y/Tv++AcGAaZBksN2g0+CDoZFhlOE6w2bDESMVI45RvlGd0UNjirGbcYZxjfFtE6wJ0yTFZKdJtylsameaZFpletMMNrM3E5rtNOuZi5nrOFc0t2buXXOyOcs827zOfNCCbhFgUWDRbPFqnv682Hmb53XO+2ZpZ5lquc/ygZWilZ9VgVWb1RtrU2uedZX1bRuKjbfNKpsWm9e2ZrYC2122/XY0u0C7dXYddl/tHewl9vX2ow76DnEO1Q53mUrMEGYp84ojxtHDcZXjacdPTvZOWU7Hnf50NndOcT7sPDLfaL5g/r75Qy66LlyXPS4DrgzXONefXQfcdNy4bjVuT9z13PnuB9yfsUxYyawjrFcelh4Sj0aPD2wn9gp2uyfK08ez2LPLS9ErwqvS67G3rneid533mI+dzzKfdl+Mr7/vZt+7HE0Oj1PLGfNz8Fvhd9Gf7B/mX+n/JMA0QBLQFggH+gVuCXwYZBAkCmoOBsGc4C3Bj0KMQjJCTi3ALghZULXgaahV6PLQzjBa2NKww2Hvwz3CN4Y/iDCOkEZ0RMpHLoqsjfwQ5RlVFjUQPS96RfT1GLUYYUxLLC42MvZA7PhCr4XbFg4vsltUtOjOYqPFuYuvLlFbkrrkzFL5pdylJ+IwcVFxh+O+cIO5NdzxeE58dfwYj83bznvBd+dv5Y8KXARlgmcJLgllCSOJLolbEkeT3JLKk14K2cJK4etk3+TdyR9SglMOpnxPjUptSMOnxaW1ihRFKaKL6Vrpuek9YjNxkXggwyljW8aYxF9yIBPKXJzZkqWEDEU3pMbSH6SD2a7ZVdkfcyJzTuQq5Ipyb+SZ5q3Pe5bvnb9/GXoZb1nHcp3la5YPrmCt2LMSWhm/smOV3qrCVcOrfVYfWkNck7Lm1wLLgrKCd2uj1rYVahauLhz6weeHuiK5IknR3XXO63b/iP5R+GPXepv1O9Z/K+YXXyuxLCkv+VLKK732k9VPFT9935CwoWuj/cZdm7CbRJvubHbbfKhMoSy/bGhL4JamrYytxVvfbVu67Wq5bfnu7cTt0u0DFQEVLTv0d2za8aUyqbKvyqOqoVqjen31h538nb273HfV79bcXbL788/Cn/v3+OxpqjGsKd+L3Zu99+m+yH2d+5n7aw+oHSg58PWg6ODAodBDF2sdamsPaxzeWAfXSetGjyw60n3U82hLvXn9ngZ6Q8kxcEx67Pkvcb/cOe5/vOME80T9SYOT1Y20xuImqCmvaaw5qXmgJaalp9WvtaPNua3xlMWpg6d1TledUT6z8SzxbOHZ7+fyz423i9tfnk88P9SxtOPBhegLty8uuNh1yf/Slcvely90sjrPXXG5cvqq09XWa8xrzdftrzfdsLvR+Kvdr41d9l1NNx1utnQ7drf1zO852+vWe/6W563Ltzm3r/cF9fXcibjTf3fR3YF+fv/IvdR7r+9n3594sPoh5mHxI+qj8scaj2t+M/mtYcB+4Myg5+CNJ2FPHgzxhl78nvn7l+HCp5Sn5c+0n9WOWI+cHvUe7X6+8PnwC/GLiZdFfyj8Uf3K+NXJP93/vDEWPTb8WvL6+5vSt6pvD76zfdcxHjL++H3a+4kPxR9VPx76xPzU+Tnq87OJnC+4LxVfTb62ffP/9vB72vfvYq6EOzUKoBCFExIAeHMQAEoMALRuAIgLp2fpKYGm5/8pAv+Jp+ftKbEHYP9qACLcAQhpB2AXooaIUhENQXzh7gC2sZHpzNw7NaNPSoA5AKRTsbFs/94zv+WCf8j0/P6Xuv9pgSzr3+y/AIGnBg4DG0z4AAAAVmVYSWZNTQAqAAAACAABh2kABAAAAAEAAAAaAAAAAAADkoYABwAAABIAAABEoAIABAAAAAEAAAKdoAMABAAAAAEAAAEfAAAAAEFTQ0lJAAAAU2NyZWVuc2hvdK68jNEAAAHWaVRYdFhNTDpjb20uYWRvYmUueG1wAAAAAAA8eDp4bXBtZXRhIHhtbG5zOng9ImFkb2JlOm5zOm1ldGEvIiB4OnhtcHRrPSJYTVAgQ29yZSA2LjAuMCI+CiAgIDxyZGY6UkRGIHhtbG5zOnJkZj0iaHR0cDovL3d3dy53My5vcmcvMTk5OS8wMi8yMi1yZGYtc3ludGF4LW5zIyI+CiAgICAgIDxyZGY6RGVzY3JpcHRpb24gcmRmOmFib3V0PSIiCiAgICAgICAgICAgIHhtbG5zOmV4aWY9Imh0dHA6Ly9ucy5hZG9iZS5jb20vZXhpZi8xLjAvIj4KICAgICAgICAgPGV4aWY6UGl4ZWxZRGltZW5zaW9uPjI4NzwvZXhpZjpQaXhlbFlEaW1lbnNpb24+CiAgICAgICAgIDxleGlmOlBpeGVsWERpbWVuc2lvbj42Njk8L2V4aWY6UGl4ZWxYRGltZW5zaW9uPgogICAgICAgICA8ZXhpZjpVc2VyQ29tbWVudD5TY3JlZW5zaG90PC9leGlmOlVzZXJDb21tZW50PgogICAgICA8L3JkZjpEZXNjcmlwdGlvbj4KICAgPC9yZGY6UkRGPgo8L3g6eG1wbWV0YT4KzjG8MgAAQABJREFUeAHsXQdgFNUWPRCSkIQECARCKAm9d+lIEQSsqIgVFQvit5ePiAoK9oYFv4pdFBF7QUXpKL33DoEESEII6T3hnzvLht3USciG3c29OmR25s0r5715c99tr0pmVvZpKCkCioAioAgoAoqAIqAIKAIORKCqA/PWrBUBRUARUAQUAUVAEVAEFAEDAWU6dSAoAoqAIqAIKAKKgCKgCDgcAWU6HQ6xFqAIKAKKgCKgCCgCioAioEynjgFFQBFQBBQBRUARUAQUAYcjUM1MCadPn0bEkWOIjUlA1apVUK9+IBo0rIcqVaqYefyc06SlpuPA/ghkZGTC19cbjZuEoIa/7znnqxkoAoqAIqAIKAKKgCKgCFQMAsUynYmJKfhh7h/489dlSExItquRMH8du7TBfx4ag+AGQXn3bhv9X8TExOb9tp5UqVIVQUGB6NS9La4ZPQxNmze23iry79bNezDnq1+xZf1O5ObaO9mHhARh+BWDcP3NlyH2xCncdt1jTJOLdz+ehuYtmxSZp+2Nxx9+Cds27cH/Pn0OzUzUx/bZws7/c8dkhB+IKHBLmPPAurWJV2tcfe0wtGrTtEAaZ7ggzP3773xtVOXu+25Qxt6mU5YsXIVXn5uJ68dchrHjRtvccd7TF575H/5dug5vfTAFrds2c96KnkPNZn/+M6Kj4jDi0gvRrlPLc8hJH1UEFAFFQBFwNAJFMp17dh3Cc1NmIDY6DmHNGuHq64ehSWhDZFLaeGD/YSxduBZrVm7B+AdusqvjafA/8odXXj0EDRoF591Lz0gzGLxF81dAjjvuuQ7X3jAi777tiUhWP535Lb77+k94eFTFgKG90b17e/j6++Akpa1b1m/DmtVbsWv7PuOxukG10f2C9li7Zhv+/mO5wQjb5lfY+fFjMdi6cQ+atwotF4ZTypB6S9uHXTYATZudZaozMjKwc9teLF+0FksXrMZNY6/ALbdfU1i1zus1kSQLfkK33XWNMp22vcF+lb6Vw1XIOh5dqc6lxXblv5twYO9hdOzcUpnO0oKn6RUBRUARqGAECmU6ww9G4KnHXkVychpuuetq3HjzFahK5s9Kg4f2wR13X4cFZB4bhNSzXrb723dgD3Tp1sbu2o1jgMOHIvHUhOn4+L1vEFSvNgZe1Msujfz46L05+HHu31Tj18G0Vx4m03uWgZP7V15zEU7ExOGQjVTx4ssuNJjOJYvWYNx9N6JaNQ9JWiQt/Otf497Fl1xYZJqy3ujVtzP6Xdi9wOPHjkbj6cdex+zPfkWdOoG49MpBBdKczwve1b0wctRQowo+Pt7nsypatiJgCoFBnD86dGyJJmENTaXXRIqAIqAIKALnD4GznOSZOmRn5+ClaTMNhvO6MZfi5ltH2jGc1qpWrVoVw6nSKq1dZ2jTRpg4+R4jm88++M6QDlrzlL9rV20xGE5R37/85uMFGE5r2qB6gejZp7P1J3r364aAmjWQGJ+Etau35F0v7EQkQIv+XAlPz2q4iFLUiqKQhvUx+YUHjeK++ORHCNbORD4+1Q0psZhM+Pr5OFPVtC6KQKEIjL7pUmPMuqv5QKGN1ouKgCKgCLgoAgWYzvm//4PDByMhNpO33uEYFXDHzq1Qn1LMqKhYiJrbSsIMfvTuHOPnmDtGIaRRfeutEv8KAzl4qEVquvBPixSzqIe2bNptlN2nv4VRLSqdI66LLascCacSEU6clRQBRUARUAQUAUVAEagMCBRgOv+et8xo9xWjhlFFXc1hGHh5eRp5Z2Vl5ZWxfes+REREwYdSzkuvHJh33ezJsMssz4i0ND4+scjH/v7zH+PexZf0LzKNI294n2l7ZsbZtjuyPHfMOysrGzlOJik2g7PYRIvDm7OTLAAzM7POa11zc3KRxTooKQKKgCKgCLgHAnZcZQI91PfuOWS0rGefTg5rYeSR44iMjIJfjepo2KhBXjkb1m01zrvQK7569dLbFDZv0cTwXD+w74jh6HTVtUPz8raepNJDe+Wy9agjzkc9O1gv5/19760vEReXSJvVa0slac3LoISTEyfisI+OD15e1SjxbJSXes3KzYaN7MCLeuDCQT3zrsvJ/N+XYz2dpEaOupgOE63y7n3wzld0UDqA196dhNSUNEYa+JPmCVtx89iRebay8tH+6fsFWDj/HyQlpaF9xxa0iR2GvbsPYtvmXTh6JAoDhvTErXeOMvJ97cWPafKQi8efujuvnJjok3j+6XfRtUdbXHvj5fj269+wevkmJCanIqxpCMu7Gp3omZ+fpE7fs05L/16FTDKI4r1/5dVDsXHDdtZ7P45xHFx9w6W8dlH+Rwv9LbbGv/60GBuJhUjJhQSPG2+7Ct0uaFfgmccfegk1avjhqan34ZcfFmLxgpWMrBCH4Pp1MXL0UAwZ1q/AM8JoffPlr1hG2+DUtEy0bdcUgy/uW8AMpMCDxVzIycnBd3P+xB+/LIFg6R/giwEX9cbt4661c9batWM/3n9rNobSbOXCQd3x1ae/YMOarcgkg926dShu5ZgUBzWxDf561m/YvGGnUa/2tGm8Y/xouygS9tU5jdUcX4v/XondOw4Yt/pe2A23jRsFMamwpQ3rdkAWZZvWbTciVnh4eKDPhV1x253XoHFoiG1SvPz8TJzkeH7t7UmIOh6LH7/5Exv53P3/vT3Pnts6Lpcs4BjIso6BIdi0YQd2GGMgClddPwIjrxmSl/e2LXsxe9bP2MG/WZnZnCPq45IrB+Pq0RfTsdDeVvvHb//GTjoUjh13DRo1PjuXTHvqbZoIpeKVt57A/N+W46/fl+H48ROowygSIy4fZNiF5xV45kQY7YXz/8W8Hxcj+sRJNG3RGFdeNdTAYf3arThy+DjDtQXj6Wn3539UfysCioAioAiYQMCO6bSqe2sF1jQmehPPlzpJclIq3nrlU34sgWuuG27n8BN+INLIr23HggyM2YIuvmQADuz7CuIoVBjT+c+SdUhPz8RV/ICJXWp+2kCG5ujRGFxHW7HypvT0DLz56qcQJkQYPx/fsx/8o5ExRnibsGYhyO/atG/PYeNePzIKtnQsItpYJOzeeRAvTHnX+DjWpa2rt7eFYRdJ4AuT3zU8/QcP64t69WrRe34NHn/wRYSynNZtW6BuvTqoWbtWXrZr/t2AnHySOJEqymLEu3o1PLJsKvz9a6B1hxbYs30/tmzczY/+a/hw1ot2TmXpaRmG09S+fYcxlBJlWWAs+msVlpABbc2QUWFcIAQ3qIcafmcxyKtEESfTX/oUh8Mj0atfV1w6cjDS0tPx+y9LMeXxN/DMSw+hRy/7hdJ+MvfCdD79xHTEHItFu46t4OXpiZ1k7l57/iP4+fnRFrhLXmk5lKxNmTidzNwueNARrUv3duwjX8x4Yxaq0XyjLCR9MHXSW4aTW5u2zTHs0n44wn7749cl2L5lN96Z+Sxx9TKylndDcA4KqmUwvk1CG6A9GXVhLlcxUsRORpR48L+38f35BO06tDKY+PW0X16+eC0OcqH1wefPF1rP6S9/jISEFHRlhIdmZKRkAfMzFyKHyMS/NH2iEXtXKiAS2MkT3jAY4X4DLkBI42DERp3AH78tY1334o3/Pcl54WxEiiOHjiKKDPD6tds5zmYgjX0eHFyX7bFoMWS8P/3fN7B3bzguHtGf+Vbne2kZA61aN0VThjYzxgDHhpV+46Livbe/JGNeA8OpuQio6cuF1DbD8XDt6s147pVHOb4teMkzu3fuN96Na0YPBxpbcwGdDCMNbcdL097H7u0H0KlrW3ixXlsZIu29t2ahuo8nhuVzIvxk5lx8//V8XNC7Iy7o2xFrVmzB1Cff5jsSaIyFDp1aceyrrfNZlPVMEVAEFIHSIWD3JU1KTDKeDiiHwOsRlGL5+Jz9OMgHadvmnVj45ypER8caH/sbxlxpV9ukM7FA/QP87K6X5sfgi3vjk/e/wf494Qg/FEFJnM2XiBktOBMSqCiv9bHjr0VKSrrhOV+acm3TCjO4Z9fBvEvp6VnYvm03Fv+5wmBou3Rvg9vvLr9Yj889/TZqBvjjyan3o3PX1nnOXf8uX4/VNDW48z/XY/SNlxj1GXntcNx9yxPwqFoNj068I6+OZk62bdlHidMgPPjYbUYZwqQ89/Q7WPUvpWgLV9Lp7Kq8bH7/dSl27jyAiVPG09a2j3H90isGs+wnUZMOX488fnteWrMno24cgR69O3ODgLNMSh86kD1491R89uH3BZhOyVcki/XINLxPhsxq0vHlpz9i9ue/GuGhbJnOH+bONxjOBg3q4oU3JuRJupMSUzFt8tuIiz1ltqp56eZ+Pc9gOK+kJE8ctKyOdyvpdT3tyXfwy48LCyxwVjAM0FhKNW8Yc7mRjzD9j937PBnScEPi/Pjku/MwFUb1XsaHjaRZyk5KMQuTONcLDsL0/03Ok6oejYzGhAdfNhYMf9OGe8QVA4xyZBH2yBN3GHnbRn9oFNYI/5v+Bb6d/QceyTdmMiiJfJ5joBGloA88eqtdPNA/GN9XGHyp70WUFgtdcsVFxhgIqOVXYAyI9Fs0Dc3IjL48/XEynpZ54Fbad0s8zi8//RkfMI7sQxPGGnmV9E9aaoYRLWPmFy/kLfB++XERpclf4u95y+2YzsPhRw2Gc8jwfpjw1Dgj6xvGXIGH7nkOx8lYP/DIrXmLg5LK1fuKgCKgCCgChSNgJ+qrekZ1lc2P3LmSfKQeGj8t73ji4Vf44fjNyPYefnyn0ItbpEm25FHNUp2sc7DVE4amd/+uRrYL8jkUycd2+7Z9Rkw/W4mNbR1EtT2CcTZr1Q6wvVyq808++Dav3YLBRKp5v/z4J6RTdSvxSZ9/bQK8vD1LlWdxib0o2Xx1xiRDpWllaiT9cgYGF7KV6NRmu3r06YKD+48wqLZFRW0kMvGP5C1qVmsZwqSI6lnoaMRZhzD5/S8lyiLxGjD4rKmAeO93oDp8A4P9S0zQ0pKE17JlOOV5CbTfODTYkPRFk8EsjET9bmU45f5FZ9TqR2niYUt/nbFnfur5B/IYTrlvqMMHlT7KgZg2/PjNfEP6J2G8rLhJnn3pxNazV0csX7JWftpRQE1/xrC1LBLkhjjJDRhiKT+UMXOtTLzck525+p4Z75FU/xZG11w3Io/hlPuirn7wsVuNpIsX/Gv3iEgkbRlOuTl0mGXRICr6/CSSXAltJkxifg/yFUvXUipZDQMHnw2LFsKdzDp2aYVNMgYoCbWlLz753jAXmPDkXXkMp/X+zWOvQqvWYZjPPoqimtwsCeNoq1G4eLhlvEZwLrClf870g+1i1JNS8UHEXZjXzRt32ibXc0VAEVAEFIEyIGAn6WzYqJ6RRTTt3iScT/6PT2nyv3Xc1bSHa5X3iHxw69WvbahgbT++eQl4EhwSjK2b9+J4PmbANo2Zc3EQEjX6YgZiv2P8dXl2YIussTkvtUh2zORVljQSaqpr9455j0p7g6jalpimhan08xKW8eTyqwcbtmr5HxcVt5A4ZtmS1Y5P1J+lIYlokJ8Zt+aVTZMBW0rPzDBU2flt8CS9mBdkUkJmqya1fba05wFU9wulp6YV+mi7Ds3trlsZV1tHpIjDxyCLkmZU+7doGWqXvqw/dlKtK7FuQ2hrOHe2ZcFlm1c6neiOMG6tSIxtx0XLNmEF3j0/Xx/j0bbt7dsiF31rWO7l7wPbsvKfX0BTBGGmpY6ihSguLqswbZ60QU5LSc2fjfH7GjLIhW1Lm8aFhTBu+ReXUpaYMoiU1PuM7bZIk7cyqkQY7Zzzx+W1FiqMt0h7RbIu9p1mSEwabMnKgObm2C+sre+ChGqzJev4tt63vafnioAioAgoAqVDwI7pbNQ4hLZOXkinA8VO2usVpqozm33TZk3IeLU1m9xI15J2XrIjzrate0r1XP7EF/ToaGw7KepQsV/r1bcLP+ziJLDSUPlfOKhH/kfK9XcoA1WXtu3nUoELetjbMlrzas9tAcVGVezYLujVwbgszhLbNu9GrcCAUtvt+tXwtWZd4t92HVri9/0RDAtFE4czwf1Fgi4qYLEnrXGGUSoxo3wJhGEVNf8OmitEHT+J2FhuEkDGrSgSht/KaBSVRq6LI4xQ47AGxt/y+McqkYtiWLC/f7eXKFrzr1W7Jt+3DLu4qMXhXFbcrOVZ/8qCsj5tasUMJe5kvN1YEAZrAx2C9tG+NCrqJOJ5P5tOQJ6e9poJa17derS3ntr9lTEgtqYHuYmDdZvZ7Oxs7CCj24Q4+9uY8RyNPG7YeYspRFFUv0Ed45YsEMySr8kx2572vt/PmQ8Jp2a7Te022t3KgqBNO3vm1Wz5mk4RUAQUAUXgLAJ2TKdsOXnhoF5YQO/VBfTiPBem82wR5s/6D+yGmTNm80N4uFB7TLM5ye5JF4/oi7lf/U5P3H8NplM+JmLfJ+ozq/TCbH7Onk484Quj4XSq+op2cO+8/hnue+QWBFEN+iu9uI+EHzuza1PhzxWWl+ValaJv5btzGb2Nf/95MV6a+j7ueWCMIQn79qt5RnzS/zx4k52qOd+jRf5c8c8GzHxnNvuRHuh0WGlOdWsTOrscOXSM3vvphT5HntMcVbGYdoiDW3lRNU9LnmPvupaOT4PMZ2u2zuZzLDSlNXRT1aqWAmVB8j297OfQe1/wFO/txmEh9JhvRA1E0QtBby976aC1sMuuHIR5Py3Cy9Pe4xi4xZCszj0zBu550N7cwPqMMKVFUZ7ZTynwqQJzicVWWCJafP35T5Tm+xvObv/QJvofmqiInWd9jjclRUARUAQUgXNDoADXcc11wxhaZQUW/7UCo64fjjDuIFRRVJte80Noc/UXQwR9/P539FR9pEzMidR3GMPOCNO5ZsVmJCam8ONhsZ2T665GwgyUhURKI/aBPn7eeOaJt4wsfOktLk4q0reOpI3rd0AccjIYKWDSo68aRQXU8sdDDKcjdnKlJbEBlLBN4mTy7EuPGF7Y1jwkBNXJE6V38rE+L39DGgYZP0UyW15klfBuZmiqUjGd5VWBYvKR0FDHIo4banOxyRT6nvanYo/cj4s/WSjIrl9W+p3hnkpLYrsrYyCLjnRPWscAba4ffGwsBg/pY5edOCJVIfO7hx764jgldqz5SSTcQqJJKG+KPHLMWBCJ+cIbDBsmJHGKR9CDXhZsSoqAIqAIKALnjkCBmV12y7mWXsJzv/rDCMPzCmPwBZIZLIpOxSVAmMXyojvvud7YxnL96q34mhIX2YazKCqubHEUkj2ZxXFo/ZotWL1iE1WI9dCBKmdXo2NUPZaFNjH0T4tWoXj+1UcpOY5EMuN0Ssgcq01jWfI0+4w4XnTq3h4PTxiLA3RayiTj0YKxJm0deszmJemW0dFDmO//PDjGjuGUe2Ifeq4kzjXikCRS031UObekFNWWUlMLt2e0TZP/XFTKTZjnmn83Gk5bhUnLxLZRNAyOpPwOO1LWYsbNlKgKfRkyymp3u2zRai7ywG1q/2PXTyJ9zMk5zXTmpIbWtmzduAOdurXDw4xUcJCmFrIAKWoM1OC2q917doS89+JcNYQhvmwpiV76/y5bZ9iH9hvQ3fZWuZxvYuivwDq18NqMJ41d0mJPxDPuZ/1yndvKpaKaiSKgCCgCLoxAoV+726gOHDCkFyIOR+ERhgxZxRAuVlWctFU+/hK3b+Kjr2DeL4vKtfkBNf3wwuv/Ney9xOP7tRc+wgk6NtmSSC4lzuD4254ygqLb3rM9v5he6ELfMJB2XGw8g273L1FyKnECZ8/6BSfLEB7HtuzSnvudiVcZHWXf1pVkWCRuZFnIjxLOHZR2ykdcdj8SNfxRhtaRrUeLU2OWpaz8z8je7WtXbTaCksvOMtVoD3iYcR3FY17sMktLErtS6N+la4zxZ31exuYBSjrLgyScj5DENhWnIitJ+KvvZs+z/jT9V+xJ77rvJoMpnsz4n7be8oLJCqpvJYi5o+n7uX/YvScypiRskNTv+luvzCu+Tt1ahl2lVSsgN+S9n8u2l6XPfPx8sYYhu1ZT2yDPlzQGxv3nOmOMznj9c46dLXn9HMsA9NOefBOJ8Um47uZLUZdq8PImPzpLifnNz98vRBLnF29Gl5B5R/qsLJEWyrt+mp8ioAgoAu6AQAFJpzRKDOefmDyeDiANMYfxDCVAsni6NmwYzJ1lshHNkCUp9MoVr+jLabtX3iQSorc/fJYM54cMKL7COCRQth8/Ygnc3lJC44iEqK0Y9xcjfBkwuAfeZ6Bp2UlE2jR0WP8Sq/rzt/ONWJo9enYq1CO8xAzKmKBD59aGx7LsG5+UkGQEbZdA6IcPHqPEtgUltvtLnbPY5/4492+8+Mx7BZ4VD+J+dKiSnZdEwlPeNIB5L+euPlMnFWSqxIFk8MV9jF2QCvN6LqwusnvQd3P+MJgCMZlo3KQB+ynacACqwYDd4v18riSbCWxet82IqzluzBPcvaklt9rMZRD1I2jNsVYW5r9n706MX3mbEfB83JhJxo5QntwGde/uQ4bkuRfvO5pSktNxy+hH0Zqq45hjJxjTM9qQaN59/812YY4uG3kR1jAIvQTO//6bv6jh8KcT0FEuWDIKVXeXVG8ZA8sWrjbmj/xpjTHA+K233DUqz6EolKY8k59/kDag7zNI/5toROmzf4A/d/A6ZETTuJRzzS23X50/q3L53atvV8PUQHb5yk/idCW7l91xz2iq9hvlv62/FQFFQBFQBEwi4DF5ypRnC0srUpCOZISGU1roz11BhMmT0CrVyLw1p8r2Su7Nfj+DQecPSZKUnIymDMjerUc7GuSXXe0ugaGH0/5SdpGRsCpp3FJRpCXi2duPWwSOuf0a2iaOslMD5m+H2IXV4EcrOLgO+g68AMIAlETJKckI44elKz1ya5j0fLXmKdvuNSEzJDu/yHZ7paEA7sASRmb71KkEehMnGB/5C3p2xmOT7qQnfiCDv9fgriiS71kGMYXxA8WhpmuPDnbez1KueCA/z12KTjGvbvRcF+9cCQckhywgjO04d4djHXd5GX75wDwVa1JSMlXyYejOCABWEqmc7BnehrsQCSNmSzlchIizhmxH2fxMqKH4U4l46Zn/cRvJdDpxdUab9i2McsUxxZd9KYuGXfRi37ltLy5mH8tYK4lq+PuhM1W1sdyeMJuRCLzJNEs8VrERDapX17Ad7CY4nAktJPlZ2hJqBJS3zV9MZGU8tWEopU7cctVKUo8LGVfUh1LadG6XKlswdmBMyYcn3EG1cFP4cOegjkwvDG9pSEIg9ef4y2G9YyjJTieWnbu24/gdjZvGXpnX/sKwtJYjdRHpW8euBcuXHbYCzuBTn2PdSmlsg3iDj7v3esZHbY2I8OOQbWBlK9T7HhlL29qe1qTG34Z0yhLv/TiqlnO5FarFxrofg7jfYfxuTntaCbVkJet478H3Kv+OTfFcHL40hWOA5eUfA37su2h6xcsY2LFtj2F/bR0DYuYgqnUvxvdMoGQzPZNYcWeo8Q/czG1gh+ZhZa2DtDEoKNB4X/2JgZWSk1OM91h2FxLbTFuSTSjakAHvdoElooPce/2ljyA7orVt14LjrK0xluVdCeL7JuP5IO+J+YHYIxcXXcC2HD1XBBQBRUARsEegCvd1LpuXin0++svJEPj1x0XG7i62O9vYVlFUhqLa3bB2h7GFZB9uLVle9PlH33Ebx9/x36fuwtDhBaXLor586rHXjS0fZ3z8LFqSyVVyLwS++Ph7zJk1z1g02QZct7ZSJNNP//c17KHE952PnjUCv1vvVfRf8cx//MGXMIi7mT0x+Z4CxYuJwQeMmiDv1G13X4Mb8+2kVuABvaAIKAKKgCJQKAKF2nQWmlIvuhQCRyMssQw7c8/pwkgCs/fpb4lXKhKl8iRR3wp17HxWimibv0ixL+hjkTKJM5iS+yGQNwZsJMm2rRRpu0ghhUQafz7p6BHLzlSdOhf+rohpzqCLLBEXEuISz2dVtWxFQBFQBFwaAWU6Xbr7iq583wE9DVWkxLW0dWCxPiH7XM/58heqo73RneYA5UnW4PsSHzQ2nxOYlLOOHsq/0GGjNm1JO1Dtr+R+CFjHwNtvfF7AEVBau37Ndo6BBRwDNdGephnnk7r1bG/Yp39NB8LddBrLT5EMLfXBjK+N90neKyVFQBFQBBSBsiGg6vWy4eYSTy2kE5YwnSkM9C3bCzaiLWIu7WLDGb4mkt7ZYg/60MQ7HbJ70g9z/8Is7qUtjjjNW4QiuFEQsqjSP7A3gjadsQhtGoIJT403Qjq5BJhayVIj8OO3f2MW1eyypW5z2kfWZ8iybEZROLD3iDEGmsgYePLuAuGpSl1QOTywmSGT3nr5Y+7AFIvGDJUUSvvqqh4ekP3sJXarH+18xz9wE4Zyb3olRUARUAQUgbIhoExn2XBzmafEoUM8kiVu5kmGngEDcIdwj3vZprM3PXa96RzjKBIp5yp6mkuQenGQ8qCaMpRBwDvRMaRXny4F9hd3VD003/OHQGFjoAnHgDgHOdsYkDiiq1dugmxEcOw4TUTo+FUnqA660ESlV7/OqFUr4PwBqSUrAoqAIuAGCCjT6QadqE1QBBQBRUARUAQUAUXA2RFQm05n7yGtnyKgCCgCioAioAgoAm6AgDKdbtCJ2gRFQBFQBBQBRUARUAScHQFlOp29h7R+ioAioAgoAoqAIqAIuAECynS6QSdqExQBRUARUAQUAUVAEXB2BJTpdPYe0vopAoqAIqAIKAKKgCLgBggo0+kGnahNUAQUAUVAEVAEFAFFwNkRUKbT2XtI66cIKAKKgCKgCCgCioAbIKBMpxt0ojZBEVAEFAFFQBFQBBQBZ0dAmU5n7yGtnyKgCCgCioAioAgoAm6AgDKdbtCJ2gRFQBFQBBQBRUARUAScHQFlOp29h7R+ioAioAgoAoqAIqAIuAECynS6QSdqExQBRUARUAQUAUVAEXB2BJTpdPYe0vopAoqAIqAIKAKKgCLgBggo0+kGnahNUAQUAUVAEVAEFAFFwNkRUKbT2XtI66cIKAKKgCKgCCgCioAbIKBMpxt0ojZBEVAEFAFFQBFQBBQBZ0dAmU5n7yGtnyKgCCgCioAioAgoAm6AgDKdbtCJ2gRFQBFQBBQBRUARUAScHQFlOp29h7R+ioAioAgoAoqAIqAIuAECynS6QSdqExQBRUARUAQUAUVAEXB2BJTpdPYe0vopAoqAIqAIKAKKgCLgBggo0+kGnahNUAQUAUVAEVAEFAFFwNkRUKbT2XtI66cIKAKKgCKgCCgCioAbIKBMpxt0ojZBEVAEFAFFQBFQBBQBZ0dAmU5n7yGtnyKgCCgCioAioAgoAm6AgDKdbtCJ2gRFQBFQBBQBRUARUAScHQFlOp29h7R+ioAioAgoAoqAIqAIuAECynS6QSdqExQBRUARUAQUAUVAEXB2BJTpdPYe0vopAoqAIqAIKAKKgCLgBggo0+kGnahNUAQUAUVAEVAEFAFFwNkRUKbT2XtI66cIKAKKgCKgCCgCioAbIFDNmdpQpQpQRf5RUgQUAUVAEVAEFAFFQBFwWQROnz4N/m9HTsZ0VoFHVRW+2vWQ/lAEFAFFQBFQBBQBRcDFEMjJzSXTac91KofnYp2o1VUEFAFFQBFQBBQBRcAVEVCm0xV7TeusCCgCioAioAgoAoqAiyGgTKeLdZhWVxFQBBQBRUARUAQUAVdEwKlsOisKQLExyMzMNJyW1HGpolDXchQB10fAYhh/Gh4eHsbhLvOHtCsrK8uwv6qqdvWuP1C1BYpABSKQS9tNs3NipWQ6s7Oz8fLLL2P37t3w9PSswK7RohQBRcDVEUhKSsJ9992HIUOGuHpT8uqfk5ODTz75BEuWLEH16tXzruuJIqAIKAIlIZCSkoIxY8Zg5MiRJUYgqpRMp0gnDhw4gEmTJqFly5Yl4an3FQFFQBEwEBCJ4Jw5c5CQkOBWiMicePToUdx///3o0aOHW7VNG6MIKAKORWDevHk4depUiQyn1KJSMp3ScJlkZUXv4+MjP5UUAUVAESgRAWE6RTviLmr1/A3WOTE/IvpbEVAESkJA5o3k5OSSkhn31ZHIFEyaSBFQBBQBRUARUAQUAUXgXBBQpvNc0NNnFQFFQBFQBBQBRUARUARMIaBMpymYNJEioAgoAoqAIqAIKAKKwLkgoEznuaCnzyoCioAioAgoAoqAIqAImELApRyJNm3ahO+++w4ZGRl44oknEBQUlNdIMfAXj/TZs2cjJiYGvXr1wujRo9VRKA8hPVEEFAF3Q2DXrl2GN318fDwmTpyIhg0b5jVR5sSIiAh8+eWXhmd6t27dcOONN8LPzy8vjZ4oAoqAIlCRCLiUpFOCj/br1w/bt29HamqqHU7y+80330SjRo1w7733YuHChVi9erVdGolFJwGQ5ZBgpkqKgCKgCLg6At27d8fevXshsfJsSTbA+PDDD1GjRg08+OCDWLNmDf766y/bJLCdE+VcSRFQBBQBRyLgUkxnp06dcNlllxUqvZQQJhL+yBoVX1bz+YMc//HHH7jzzjtx9913Y+XKlY7E1fnyJqONp6cAz04Fue6S6ydM+VezgXvvBxhMX8nNERCG47+PA9PfBFdkJTdWxsQb04FHHgW39yoxPYVuWLggBzePzjKTvMT8NIEFgbZt2xoBmYWxzE/WsHAS4kl2GZI50d/f3y7ZsmXLcNddd2HcuHGQWHtKJSAg417G/Hvvm3tPSshObzsxAjInyvdy6jRwdeaQikq2U5/JNg4HFeGQep9Lpi6lXi+uod7e3hg0aBBmzpyJn3/+GbVr10ZYWJjdIyNGjMDQoUON1f348ePt7rn9D2EkNm0GvLzAve7MNfdQOLBmvfn05nLVVM6IgIyJjRwfVNOaGh+SftduYM8+0x/fY8eAf382l70zQuRqdapWrRr69++P6dOnY8GCBcaivFWrVnbNGDBgAPr06WNofqZO5QdWqXgEZNyv32QZxGbn0eJz1LvOioD075atDOrtONmcUcRGlkOqLMPJcWhW8EA6efIkvv/+e0yePBmzZs2CTK6iSrJVo8uKX6ShIgGVCblSESXBCAsFQhtLZHxzTQ+uD7Sx/0iZe1BTuSQCLZoDTZqYq7qMoUa0H2wWZno8BQYC7QeaTm6uHpqqSATE5Eh2T3r00UeNOVFMk2SOtFWjyzxonRO9ZEGqVDwCMu5b8j2xsZ0t/gG967IISF83bco5joeDSIpo1sJyyHllIJfivGQSla2W0tPTDWehQH7F9uzZY0yizZo1M2yaoqKiDGN6+RsWFlYZ+tBcG+WD8r8Z5tJKKqrjMO4uy2H+KU3pqgjIIuxDqgzNkqR/9hmzqY11zuVXeEAOpfJDQOZCWXDL3+joaAQHByM8PByJiYno0qULTRkyDSei1q1b4xhFzSEhIW67m1L5oVpMTjLuP/24mAR6y20QoA8Jpr/u0OZIEa+/6enQMpwtc5eSdG7ZssXw0JSVuqiMlixZYnisixG9MKCPPPKIcU3URE0osRk2bJhhy+RsoJ+X+oh6fc9eYN9+c+pQkfUzCgAOHjSX/rw0SgstNwSkv8mskEMxp+eR9IcOATt3mRofkvzUqdN0eDltymS03Nrl5hnJ3Cde68JczpgxA7///jsOHz5sLMZ9fX0NByKJ+jFlyhTDoWjUqFE6J57LmLCO++PHzb0n51KWPnt+EZC+PnLEcsi5A8hSxGkWc7rSqNe5bHMdEtsjOYqivn37Qg6lQhAQA/gnJgGe3nQQ+txi21lIsrxL8jbM+QaY/zfw608WyWfeTT1xOwTEin0Cx0cY1esvvwh65BXfRBlPr71hsen8/RfQZqX49Ly7cEEuXn8uF8vXe4Im2ErlgIA4V3711VdF5tS1a1fIoVROCMh78ugEoFNHYMrTJb8n5VSsZnMeEJC+nvqc5dv3wXsO6Wsp4jk6Egm9/5Enzf7OQzsruMhK0MQKRtRZixMmMlO81kthOJKYRGlnrLO2SOtV3ghQTYua9t7NxRYhXutymKS0NCCKvkdKioDLIiDzaCzfkwQ63Cm5PwJxcfxkOlYhfLKSfWIdi6b7D0ltoSKgCCgCioAioAgoAoqACQSU6TQBkiZRBBQB90MgJzcHcigpAoqAIqAI0Dz/dC6ycy3qfkfhoep1RyHrbPlKPIZ6dS02nWbrVqsm0IBhk5QqBwL16wF1OEbMkIynwDpA/QQzqY00svtiww6mkzs0YWJGEt7a9B5qetfE/Z3HwaNqCTasDq2NZu4yCBjzKLdfZhxopUqAQF3Ohw6eG4I47ToDZeVmYe7eH7H1xC481fNRzo0BDqmWMp0OgdUJM5WQSZ99ar5iEjLpgfsth/mnNKWrIiAW7HO+Ml97Sf/qS6bTy7d61LUexmH6IQcm3BO3Dx/v+RlhvvVwaejFaBnY3IGladZug4CM+x++dZvmaEOKQUD6+qOZxSQ491tSxMxPnCNkUlJmMt7b+iUSMlPQJ+QCXN388nNvYCE5qHq9EFDc8pIlNgMQEWEu1IekZ0xUBvczl94tQatEjZL+ljAwsbRql/OSSNLI2AgPNx0yKTlZhp/jQoOIaig84TD+Cl+IiKRIZOZkYs/JfZDJND/tOLUT3lWrIT4rGQcTD+W/rb8VgcIRsL4n4nRn5j0pPBe96goISP8y9q0ROtBBfW0p4jSLcdy8GJ0ag6URy7EpeqthTnQkMQJRKWxXPopIiERiVioyqF7fFrsDOacdY3qkTGc+4N32p+y3LqE+nnjK3N7r8jZIyKT7HtS91912UNg0TGJ3PPEk8NY7pphISMikF18Gxt9r2oN9wd85uPW67NI4vNtUsOTT1Kw03LHwYYxfNgXvbfkEB+PDccvCB/H7ob8KPLw9di8612mBAE9fxKTHkn/geFdSBEpCQN6Txx5nfJsPzL0nJeWn950XAenrac8DzzOEnMS5dgBJES9MzTYOOXcEPbHiOdy6eCJe2PAmDsQfwv3LnsBL66YXKGpH/G409K2DFjUb4GRaHDKyzUcmKZBZMRco3FWqFAjIR1Vi1pRmZJ9kuIgjkZUCHm0kEYhgYHhuFWuauAsOUjmmTFISI3AdXG8ycRmSxaadQHR6PKoyLNi2uD3YGLsFUfx9ONF+DAtzGpFyFB1rt+LKPxcxKScN43lPj1K0vQz100fcAAGZRyM4nsQ+Xsn9ERBtjoNDJkVS+egoksX0wYQIY07cHx+BPfH7sDnuILIozZR7VcTuiSTn+07tR5BvbdT3qY+YtBik5aTB19On3Kumks5yh1QzVAQUgfOBwDGqjPw8vHFFaH/EpMZh3fFNRjWOp0TZSTJPkDlNy05H89rN0LhGfUSnnjAm4fNRZy1TEVAEFAFHISALbInQcX3z4ZzjcrA5ZptRVHZONlKoSrdSOufDw8nHUc+nHtpRAxTLxbpccwQp0+kIVDVPRUARqHAEjqdGI5AelxeHDkYsvdM3xu406hCRGmU3gcanJSCTnpqNazREv5DeaFe3Zd6Kv8IrrQUqAoqAIuAgBGJSYozIHAMa9UYjv7pYdnS1UVJKdgaOJlGKe4aSaNsutu8yJ3as3QH9gi+ANxfwjiBVrzsCVWfN068G4F0KFWJ1Djp/PqNUORCowZhGEtfILHFv79KMDwmgULOh2cxLny5aJJ1efmji1wjBPrVxiL8bVg9EckYyIjnBioe6qJGSspPpZJSFutXrYEDDfspwlh7qyv2EzIk+HPtK7o+AfDM9HCub8y/FJnClBfwYF9ziMBnoVRutazfFz4f/QRAX5uIktDdhP1oFtjCyTBUHopwMqtcD0aNBN/QM6V7aokynV6bTNFQunlC++O/PoH0KbTjM2O1JuvvoJHL3OIfsOeviaLpf9WWv9a++sPS1hMsqiSTWx3NTLU5pMrZM0NXXeGD4iKqmhp+J7OySCDMZQcYygExn44DGuL3dtXh10yfoG9wNm05uxz5OsA1qBGN9zEaEJx6myuk06vgEKsNph6L+KBEBGfffzDb/npSYoSZwWgRkTnz/XUv1zMyJZWiIFPHuTIsgSM7Lm46mHkf1at4I8qmL61pejVVRW9GxbivDUWjLie24qPFAw1M9MuU4UjPTUL96kMPnRGU6y7uXnTm/0nrg8UNuOB6dMTZ25qZp3coBAXEyK01fiwd7KZ5x1HDadmIHNsVuxVHabtb1qYOaXv64qtnlyMzKRF+qz+O3JeKP8AWIovr9zS2fw6eqF3yqVUdgdQ3wXQ6jpvJlIWPeQUxI5QPTyVss38zSzIllaI7Mi+VNMbRTn394IXYzHrFnNS/Url6Li/GGeKjr7ajrHYi9pw7gt0ML0LJ2c3yw7UvEU7UuC/c61P44mkyINBxdBc2/QhCQkEkPPQpMYLgPOS+J5E34Zi7wMJ8R5kLJvRGQD+lTk4F3KA03sziR9M+/ANw13nTIpMWLcnDHmPINmZTLus7Z+wNeWP8+bTj3oFGNEPIDVakmqov7ut6NrvU7YUjj/vj1yAo8yzRB1WtStXQaHvyQeHmYk9C6d8dr60qFgIz7x59gRO8Pzb0npcpcEzsVAjIPPsc57gWGhjMzJ5ah8pLtC9MYMolHeRYhDOe0de/h6/3z4c+wcAHe/oaN5pjW12NE2MUY3PBCHEqOwYRVr+EU7d8b16iHXJxGkJ/jmU6XknSuXLkSc+bMQXx8PF599VU0aNAgr5sTEhIwffp0xqoONzj2mJgYTJ06Fb169cpLU6lPhIkkRjCpCjWwOnYc2LG7UsNWqRq/e69pBpIvGZDEoOvxHFNyboIk7vyWRSYSmkiSQUP4lcdWo1pVT4QnHUEaHYOEmWxIFXp+al2zFXzJYKYyWPx1LS5H04BQ2nWe9dzMn96Vfm/cuBGzZs1inP5jxpwYFhaWV/00hkh76623sHv37rw5ccKECRgyZEheGj0pJQIy1uU98VObzlIi53rJpa8PHHBoyCQpYt8ey/wp5+dCsgDfTufJuIxT3CTjCDJPW4RF9avXQ7Uq9qxeIEMjNSWjuYcmST3qd8Td7W7B5pNb6b3OLV4dTPY1cXBh55q9MJljx47FlClTGGDaPnCpP61xJ06cyNVCrjEBP/bYYwgJCTnXIvV5RUARcEIEZEeN/658kWE/0pGaa5kLRHoZzG0t81NrGss/3/sxrDi6hjaevdAxqL3D7Zby18FRv+tyb+ibb74Z06ZNKzAnVq9eHQ8//DAtIHJw4sQJ49yWKXVUnTRfRUARqHgEUrO5yNzyIZYd34iqnAutFOxXr8B8V883CE/1eBh/H1mCPg16GBohcSCqCHIpprNp06aQw7MQRxhRqfnSm1aYzr///htdunRBw4b2rrIHDx7E/v37jUn46NGjFYGvlqEIKAIOQGDnqd1IZgw6obEtL8OehEPYevIAAxsXZDpr0LloVPMrcEmTofCmfZM1ILIDqlXhWTZp0gRyeHsz0kQ+knb6+PgYUs558+ahWbNmyM90Hj58GHv27DHmTZkflRQBRcA1EYhLj8OGmB3word6m1pN0KpWc8w5MB/BNQpKLz2pIRrYqD96MTSSR1UPmhs5wIupCBhdiuksog12l+Pi4rBw4UJMmjTJsO2yvSlqeZlYhTFNlo2gKxuJe1xpDOBlseQIl7rKhrurtFf62qMUUwInq9KMD1l8VyulVlICGydnpdAr3d+OWdzJPdXbBzYjM3kp+tbviQ92fIEdcYcMW87C4BYGzM+rlIUXlpELXpO5ThbiN954I7vL/uMi9w4dOmTMiTI/KplAQDB08C41JmqhSSoCAenn0syJZahTabM3wr7R8Ud2C6pGBtNKB7nw9uKuao90uoPhkVoywPtJg+lsUMhCXJ4xFqUO2HHIWp+i/p6tcVEpXOy6rNpF4tmyZcsCNe/atashARV10+rVliCpBRK56wWRDr/5BkcaGyhhP0oi4RDuoZPILWNKxViUlK3ed1IE5EP66YeWcFpmFiYyhp6iQ0UGVdsm7YRHXuWB/heaD5kkDOe3+37CPO6d/mLfyQgNaGKAJ5PuwcSDCGUg45HNLoMfDeW71Gtv2HZWp1e6kj0CIs2MpUFt+/bt7W/wV7t27dC2bVuD6YyMjCxwXy/kQ0DG/axPGe+YkmUz70m+x/WnCyEgc+KMtywVdlBfSxFvvWv5Hst5SSRz38borcY+6g92uhODGl+Y98iBxEOoR1vNixoPoENlQ+w+uZeB3sPQ0M9e45v3wHk6sbT2PBVe2mJPnjwJmUBlRb5z505+67ywY8cOOmNn4ZJLLjHUSAsWLDAM5WvVqlUge+Hs5RBJp/ytVCTtrU/Vo/w12/aAAJCDN5++UgHqho2lfaDpsSHND6LaRrx5TY4nanpRr568g+awi89MwJ/hi7CFavPwxCNo4t+Yz1Yxtm87nnqSu2b0gG81H+PayKaXGR6ZEgqpMlFiYqJhMiSOlDIXyoJbtDmnTp3CyJEjjTlx/vz56NmzJ+rXr18AGuucKB+zSjcnFkDD5AUZ9w5iQkzWQJNVFAJ1HO/NXaeOyQmRbc7mnulLjv6D9YzUsT1uFy5s2NdQj8v7uz8+nI5AEjKuJm06qxrhkGZe9Drt3Au+9xUFX2HluFTIJLHHnDFjBho3boxvv/0W4rkpDkVWp6JshvapWbOmwXSKjaeSDQISJknCH02YaC4EEgcxvv8BmDjJXHqbovTUBREQ5vHZ5yyhYKTvSyJJ/8JLDJl0j2mP9+XLcnDvuCxTEbuk+DQaxseQuUzk311xe4xdNOR6ZNJR415L7rBhZZRE1RTsV9+YbCVNZaEjR44Yc2JwcDB+/fVXSIQPmQczMjIMCESrIw5Fo0ePLqBarywYlWs7Zdw/PQX47HPTURvKtXzNrOIQoHAKr74OvEYNoZw7gCTb117Jxus8zBQh2/dGcWtLoS2xuwzTIzlPzEzC4aQINKnRADU8LbvKeVLVLhJPWxW8pD3f5FKSTgl/VFwIJHEweuSRR843ps5ZvjASx6MsqlAzTIW04sBBYOUa52yP1qr8EVi3HmgWZu5jKmMoOhoMFWEuPWsrvntLv2Pyz8xVXYK7x2UkolNgU8zdNw/XtboGtb1r4Qgn14zsTKqO2uUxneZydL9UHTp0wGefFQ1oNaqD77//fvdr+PlqkYz7tXxPchiOxuw8er7qquWeGwLSv5s2UZPjOAGWUcR6lkMyM5yE6TyRHot23HVtLXcX2sPg7z0bdMfx5CjuMpSA0S07G5LPc2u4Y592HJqOrbfmrggoAm6OgIQAOUmD+ZFNhyEmPR4xKSeQezoXEcmR3NrNC41rNnJzBLR5ioAioAicRSA7JwvRKbHow+1961QPwH7atotqXZyGkhjNo12t1mcTO+mZMp1O2jFaLUWgsiNwNOUYPOkh36RGIwTQWei7/T9j+4mdOJhwmE5EIU6nNqrs/aXtVwQUAccikJSehKi0ODSjg1CQbyCWRK7E8sgV3AL4uFFwQ/8Qx1agHHJ3KfV6ObRXs1AEFAEXQECc/X49+CedhRhv1y8Etbxr4KPdP9GpaBdi005hOD00lRQBRUARqEwILD62zNjWslNge6yL2oifD/+DjVyIN+O+6g25w1D1aoyq4OSkTKeTd1C5VU9CJj0z2eJ1aTZk0m23ACOvVE/NcusEJ85IHO8kPAidTkx55kp8jwcfAAPeWsIsmWja8BFV0W5VFVMRu6JSo3EoKRJjWl+Lhv4NDa/MHfFHOMHuRSO/ugxs3M9EiZpEEShnBGTcv/+uZRtMdVYtZ3CdLDvp35detETnMBtyo5RNkCJefI1jilTScMqiPeeqqE24oF5HNK/VDME+dJxkDMQTtHvPic/BI13v4G/nV14r01nKQeKyyeWl6dbVUn2zL1Aj2szJrk4lvQ0uC4pWPA8BGRNtSmEPJOnbtbU8bnJ8BAVVgYQHKSq52CZZ6WBCOL05T6NFzWaUcgbQhqk7vTX3onPdVrinw1j0anCBNan+VQQqDgEZ923bVFx5WtL5Q0D6umULS/ly7gAyimhpYRQLK8J2ToxJPUEtz0n0Du5qxCYe0Kgvfjm0EPX9AnFz61G4hruuuULUHmU6HTCQnDJLhlHB4wzm7enFUDfTSpZOCQPwy29gXCqLhNSMdNQpG66VMoWAxOt45VXGcmVMt9vHlhx7U0LHSPrDEcC7b5sKEL/i31z88G0OXnvTk1vZFqxVXPopLD36L7rW6Yh9CfuNED/NaoYZHuq3tLmRcTgHIIQhQWRnIYlDp6QIVDgCMu5ffBkICwXG3Fzye1LhFdQCyw0BmRPfoVTbg3PNffc6ZJMUKeLdt/ltJt3/ULUCG7xJXM5FEUtRt3pdZOZmGjGKO9Zpb8yJvbln+lfD3kWgT23U5MLc2UIjFdUPOnMXhYy7XZfRvXcfsI+HjUSp2GZu3w788Zf59MVmpjedGgEZEwuXAKtWm+tvSX8oHNi123QMu0OHTuOnmfbJZdehU+kJxgr+851z8NiKl/H65hn4I3wJWgaEGROq4CaMZus6LeFP205lOJ16JLl35WTcL1hkWYzLuZL7IiD9u3w547zxcBBJEcuWnDYO63CSCB1JjNpxkg5DSyKW44mVr+DpVS/hd+7MJnukd6jTzqiNMJktA5ujjk+gyzCcUnGVdDpoMGm2ioAiUDIC22N3YtySx41wH5lc1fvREP6PI6vRoHptPNjpLmUwS4ZQUygCioAbIRDN4O/jljyKffGR3BDjNLJP5yCR4ZAiU2PxaJexhmrdlZurkk5X7j2tuyLg4gjsit+LKMbgTMnJQCPfuri3403w8fCifdIItdt08b7V6isCikDpERC7za1xh5BGxyGhx7vcjiDG5BwQ0gWjml/l8htiqKSz9GNCn1AEFIFSIiD2mrFpsjWj/V7GsqOGUB2vGrij/XUY0mggAinlvDxsBLzIfCopAoqAIlCZEAhPPmI015vq88sa98c1La6kCr0OetbvhppkPl2dlOl09R40W39xBHqIIW4k5IccJZG40l1/HXBhf/VeLwkrd7gvLuXPPQv4ct/eotzLbdspY+i2W4GEhBKd0sRG6d0tM3Gwdjre+/VxhkyyeBGJZ+bBxCNoxAn1vs634trmIw1G84aWo1x+NW8LlZ67EQIy7l96HqhVy9x74kZNr3RNkXlwEp1vhQpzLbfcOad/pYgnJlu+x9Zp99Cpw6jp6YMbW1yGezrdYWz9e13Lq8+pHGd6WJlOZ+oNR9ZFJsthF5svQV6yVi0th/mnNKWrIiAzXr++5msv6WVBYoIysjNwOPkY0gJS0HNQKtc8vsZTmTmZOE77pXs63gxhND24+5CSIuDUCMi479/PqauolSsnBKSve/Yop8wKz8YooifLsaEjnCsHh1yAB7qMhz81QO5G9q11t9Zpe84iICGTnp0KPP8CIOclkXi7/70AeP0Nc+lLyk/vOzcCEgrmf+8B38y1dy8vqtaS/p0ZwISJQJbF9qiopCnZqYY35s7NXnhlWtW85DFplr3U6/sEqcNQUeDpdedCwDruf/zJ3HviXLXX2pQGAenrTz8DPvvcYX1tFPFJNj7lIecSzeNY6jHU960Hbzc1L1KmszSD0JXTyohetwHYsMn8C7RmLTDnO3MhdFwZG627pY9/+JlhkxaZ629ZlGzdBqzmGJGxlY9EdS4x5uRvWnYaUrPSEXUwAN++XgNZ2TnG9ePJ0UYIkFrVa6k6PR9++tNJEZBx/92PllA6HNtKboyA9O9v83j8bm5OLAMUUsS8n0/zyDXmxITMRCTTU72BXz14VrWYIZUhW6d+xKXU69HR0di1a5fROb169YKvr0VNZ0VY9mveu3cvDh48CH9/f3Tr1g1+frRRU1IEFIEKRSCCW1h+vP0LDG0ymN7oPjjJWJxAY5zKjsU7m3/Cwz3uxNHU46jmUQ11vAMrtG7uVFhsbNauOM4AAEAASURBVCx27NhB5UU2ZE6sUcNeHSdM/4EDBxiedx98fHyMOTEgwPWdEdypD7UtlRcBMTHKzM1grGJxtPRl6LgEY7Ee7FvfbRfiLsV07ty5E8uWLcOSJUswa9YshIaG5o1WmVyXM5Dr999/j44dO3IL6epo0aKFMp15COmJIlAxCGTlZOHnA79j9v75+DtiJer51kYSpZ3eVbyQjGzMP7wEV7S4CMcSj8GLq3nxzFQqGwLCTC5atAiLFy/Gp59+ilatWuVlJHPi+vXr8dlnnxlzojCdTZs2hTKdeRDpiSJwXhFIykpCfHoq9p46gM2xp+Hr6W1s/1vfN/i81suRhbsU0zlgwADIsXnz5gKYJCYm4quvvkLv3r3pWFgLrVu3Rr169ezS5VANaD1EKqqkCCgC5Y/AyfQ4/HlkCbpxn/SkrGQGOM7F2/2m4LvDHpjN/SgyyJQ+8M+TaMC4nDW9/LmFm3/5V6KS5CjSzZ49e0IW5PkpPT0d33zzDdq1a4e6deuiefPmaNSokV0y2/lQzpUUAUWg4hAIrB6IIF9/bDm5AxNXTke/Bh0g0T5C/LgdsZuSSzGdHsWE+klOTjaYUUkjjOfrr7+Ohx56CF27ds0TU//xxx/47rvvuJLIxapVq9y0S4toloRMunWMJcxHMTjmPS3e65dfDnTupKFB8kBx4xPp7wmPgnYp5sKDiNvl1VcBJ09yXzP7aeRUWjz2cDeNr4e9xb3Sg5FDG87Qmk3Q+NocDAzLhX/PezFt/Zs4lLwTd7a+Sp2IzmFYVZV+KIIyMzOxYcMGiAp+8ODBmDFjBu644w70798/b04UzdHnn39umCzJYv7qq90nNEsRsJzbZcF70uNAIE1CHBRG59wqqE+XGwLS1/ffZ+lnB/W1R9UqeOBhD4xMbIPvqtbFn5Fr0L1OKwT51C23ZjhbRvZfC2erXSnrU4UD4+6770b37t2RlpaGdevWoXPnzgzRYgnFMmLECAwdOtSQdo4fP76Uubt4csFA4m6aJXnJuna2HGaf0XSui4CMj0tGmK+/pL/s0kLTn0iPpeelJ+pVr4sm/o3z0rRuVRWtqf3NyR2KeUfm48+I1egU1D7vvp44BoGxY8caTGc1Lg6WLl2KPn36cJ1gmfpFcyS/ZSE+bdo0x1TAnXKVcX/pJe7UIm1LUQgI0znkoqLulst1KeKiIRxTCEPmtouxbeOH6BDY0rB1L5cCnDATl2I6xVheVu+iBsrIyGDolSzEx8cbq3RxHGrbti1iYmKQkpJCAcxJw35JGFEreXp6Qg7JxzrpWu+5/V8Jk/T2O5ZA3vf+p4B0qkD7xfxgxUrQM8sSBDyfNKtAer3g2giIavXrORYJjjCfMhsWR5L+i1nAsWPAREp++F5ZKSothgxnLXieCQIv18VLc9u2XCxbkot77q2G29veRI/2VHSq0876mP4tAwLWuVD+ykJb5sekpCRjbqxZs6ax6BYHTOucKNdspaMyD8ohz8vcqFQCAjLuv5oNNGgADB1S8ntSQnZ624kRkL7+gZEKZC68hhqAkubEMjRFivjxB/5DGjF8GNZGb8HAhu4dB7aEL0sZUHTgI2vXrsW4ceOwadMmTJw4EaIu//bbbw2nIvHalHti1/nAAw8YzKeolGwnWAdWzfmzltG9eCmwZJn5kElLmfa9Dx0WLsL5QatENRSu8DMykT8xbJKcl0SyKFlJE5W/FhYImRSTeoLOQbUo7fS2y2XzptN4/b+nKVVjzOXg7vhk6Aw0CWhil0Z/lA4B8VyXeU/U6E8//bThSPnbb7/ho48+MpwpRco5b948Y04Uu88rrrhC58TSQWyfWgbvx5+BHx9z74n90/rLlRCQeXDON1yM8zAzJ5ahbUYRX+ZiDo8QvxC8N/hVDGx0YRlycp1HXErS2alTJzsVUO3atQ3bJPHSFOayb9++hse6SEHFQ1PuKykCikDFIhCVEo063D89P9NpW4uqVarq3uq2gJTxXCJ02KrFRZLp5eVlSDpFyyPmRW+88QZSU1ONMHJ16mikgDJCrY8pAg5GoEqlmBNdiukUaWb+OHS2o0BsNxuI2kNJEVAEzgsCsgCMTotDoHetSjGBnheQbQqVWMXilV4UyWK8fn339YQtqt16XRFQBJwTAZdSrzsnhForRUARsCIgMTrjMuINSafE4FRSBBQBRUARUASsCLiUpNNaaf1bBgTE6/JKhkAShyAzBtHigCWee00am0tfhirpI06EgPT33XeCNimmQsFwg0tgUD9U69gBDA+R15BEBjvO4faXdWnTKSp0W+rWvQomvVPFNrntbT1XBJwfAZk7/3M3EMzg3TZOqs5fca1hqRGQvr71Vn7/ODc6qK+liFtut8yTZj7LpW6DEz6gTKcTdopDqiSMwbi7LFmbfYH69AZ693LYC+eQdmqmZUNAZrzrRpvu69+O/I1dLU/gwWvHo4ZNZIPE9ERkkemsU72OYW9tW5n27asyUHlVR83ftkXpuSLgGATkPbnhetPviWMqoblWCALynRx5haUos9/MUlbMKOIqy6LdQUWUskaOT25hsR1fjpZwvhEQ7/VP6XXJ7UMN9+GS6iNudRs2Mp7DT+bSl5Sf3j83BKQ/MlKAFAZjdwSJV+7v9MhdtrxYT02x2UzMSMKsHd/g1FefoOp779t5r8cwRmd2TjZCfAvaVu/bdxqzv5JdwRzRAM1TEagABOQ9+W2eJZycvJNK5xeB7AwgKZpzFvulvEn6dwGjcyxcVOyceC7FShELF+QYR2UZTsp0nsuIcaVn5Uv/0y/AL5wwzX71/5wPvPSaMp3O0M+57L+NX/ODNwHISi//GsmM9ybjuEoMwmJmv6zcLMzZ+x32nzqCPtsS4PvTn2DgW6M+mdmZ2J9wkNte5qBprdACdVy9KhdP35lrevgVyEAvKALnGwFhOl9/E4xNVex7cr6rWWnK5wYTmEsNXvSe8m+y9PUHM3k4LmygUcS7ufiAh5xXBlKmszL0srbR9RGggw5iObEe2cqA/X85hvE0gVJ0agy+3PUTrg4bgtCAhsaHNy7tFMSB6LNdX+GdLZ8jjLE3AxkySUkRUAQUAYchIIvjeG5OcewAsJkbW6Q6SAvksAZUzoyV6ayc/a6tdjUEKGFEMifVtGSaPDwJhP97Xlqw/9QBxGel4Ipml6CJX0McSYrEhBXPYMGRxVh2dCX8qlXH3e1uKeBEdF4qq4UqAoqA+yIgKvWUOC58+XfNt8Dqj923rW7UMnUkcqPO1Ka4MQI5mRZ7zpAWQNxx4ABtL1tcRIeGil03ro/ZitZUnTeuEYIgn0BsoePQquhtyPX2wsm0BNzd8WZ0D+7ixh2hTVMEFAGnQEBMjlJOAP6BjMrC8GyHqWoX0yPP6k5RPa1E4Qgo01k4Lu53VbzXL+SermZDJgkC4r1eM0A9Nc/XaLDaVopbY2IMcOIIMPAeqtn3ATtp4N72MqBhV4Ysktf4HMN6SBk30Hs9kBN4EW6U4iC089QeNA8IRS1fqs979yGzeQpenqew6cRu+FTzxoUN+sCj6tkQSrbQtWtfBeOnVDEVscv2OT1XBJwGAfFev4ne6w1pWlLEe+I0dXXHitjOiRnU+hxcybB+XOS2HMAteV+nmn0u0IX940EmVBbk59JH8uxVI88tjxL6wCjiWovg4FyqWkIxTnVbmU6n6g4HVkaYzkcethRgE1exyBLlDRg8iEwOX2Yz6YvMSG+UCQFZsceQuRSq15L7nNNLPIvSzrrNKOEcQmlnOJ0Z2J9Ne/ADyEm3HiWgTfqeYUCNp0r3j3xMbx9rmWALmf1yqcLaGrsTR5Oj0D+kB7y9fIGxt6H9zTdg0LoX8ePhpRharx0a+AUXWW7XrlXRqVNVY91TZCK9oQg4MwLyntx1Z5HviTNX3eXrxlBsOBlO6WYU57wLgK0/cCEeCbTmfNhyGBCxHlj0FrB/KdC4O+fK5kCzgYDMVWUhY4Fxo+VJOXcASbY33uRh5OygIhxQ63PLUpnOc8PPdZ4W17hffrUwkLJ6M8NI7iXTc4yG2oP44ppJ7zpoOHdNYw8Cyzl5hq+jqsgb6Hc3HYg2UFJ9KxnLPkB1f+CyV4Clb3ClT5XSriVAjZrANTPIfLZiaKUE9tsWIKwf4M20hTCRBQAQCcKKlcynBtCN0tN8zyRlJmPSyucQS3V6q1otUUXG06LF8Dp5Epf0HYTjaTG4rc11xdpyRkScxs4duRg23EMZzwIdoBdcAgHjPVnBTRSoEejU0SWq7BaVpLMiVnHhvXMBQyTxfPjjwCZKNVtRG9f1JsCX/TH4Cf6tS2knv3OHNrDZFJxcMZlpLmWEjVTg6CYyoq3Zd40LzG+FYiR9vY6MrJCD4lUbRazjXCpF9K4cMYyV6TS6uxL8I2FtZn3FVZ8XX8TLS2Yi5W344Qcyqr9Tyras5PSVAMIKaaJ4qS9+mYzkcqBWECWaXNX/9SrQZiCZz4fYfz6Wasgq/pq3yWBSxbRnPvDvTMaUm0qGtBYlAbEWj87+YziTkWH1Yz4lkTCRz70ING8GvP9ugdQn6Rl6kFLO+sy/Va0WljBaP/xIT/r9GDZqHoaGDSWfykm+GFq+LBfP3JOL3fHKdBYDk95yZgQk3NyUaUB3ahdeZzg5XYxXTG9t+gb4ZxYQUMei8ZE5sU5D4OIpnCcbWergy3uDyYz2ewCIXMv0nMcWc47cs9iiGTp+iBLRXtxp70mL9qiE+cqIYfTaG5Y+nvu1Q9op0+70VzmmSN98X7VSmB5VdQiSmqlzIiCMpBxmSZLKW6HkeASkXyK5Ev+HEs7I7Zw8xwOXPkOGkTa1YjDfdfRZhlNqIxOmBxcQssLvfB3v044pYjewj5JPsf0UXc2K2Ra1fGaaufpLHaSsQuhQ4mFUq+KB61tcjiCRJliJz1Sh7ZTYccq2lyUxnqIhU1IEXBoBeU/kUHI8AgnHOId9QOklBSDtBgNXTwcaNAMy04GOI+2lljInih2ntx/V6oOoGSLzmZII7CDTGRVOrRHtPGV+/PtZhlo6CnMkc6Jjv4Ey5RYx7ZqrooulYg8pKQKKwHlFQD5gJw4Af07mjkCfMHg/pZ2h/Ti5duakGkLG0p8STK7ii6KqVFiEtGMaX6anVPPiR2lMfwmvURq6gdLIQ8stXp1SDgO4G/kXlVcR1w8kHkLLmg1xNZnO/HuqF/GIXlYEFAFFoOwIiMZmKSWaC7gQjyXzKXaajbpxjgu15FmzgYXJLKwEYUBrhTFtfTKhnBd7c1E+6D+cE6mlidpH1Ty1fqIlkjlRpNeO2HCjsHrpNfBr5Tq0YsUKfP3114iLi8Mbb7yBkBB+kM9Qeno6XnvtNWzevJlmaTXQokULTJw4kdpkSoOUFAFnRoDbSmLxi5ZtLoOoKhJxYEAwmU0ymsG0QRJDeF+qzYujxr2B2yjZFPU7mUNk0oYpkar5eVQ3/UZmtgulAl1uoiSV6qb6bYBed1JSypW/TLpSPizG7FJEWnY6JwYvePK+OBAtP7oCPx2aj4Z+DVBbg74X1wsVfm/Dhg344osvEBkZienTpyMsLCyvDllZWZg5cyYWLVqEgIAANGrUCJMnT0b16tXz0uiJIuCUCMgcuHEOnYIomQxtDxw/QHtzLqglNJIwntG7OCfWK942U2w3R73HOY6SSqsdZ/sruLB/A1g7l3nuBIY9QzvRX+igdAgYMZV5BlrmxCxqh7K5+FcqdwRciumUSfOee+7BE088AZlQbSmXInCZeO+9914a5PamdrEqpekcoEoWBETd2rmTRcUgq0Az1IWSNpH7m01vJk9NUxAB2cJt/1rgWtqIeZJpFK/1AK7ipc8GTeBOG/GMRccVe3EksemC255N4VPT4kQ08GHL5L3+e9qJLrDYiLaIs6jjxf7z6Gaq4f9H+6imyOjfCfv9q+CHje+gV4MeGBY6BClZqZi6ZjoOJUejd70u8K3G+gnJmGhDhtiPqiyppwlq3rwKRt9vOrmJHDVJ/fr1cfvtt+OZZ55BZial2DZ0mguKqKgojBkzBiNGjDDmRF2E2wBUllMZ65cMo5NemM6LZcHP7DOyEBaVelculjteZ2EMw/panr5gDPHneRCllsWRhG6TqB62VJOL+p40XfKqwXmRzOYP95KBPUJmk9qkxGgL0ymq9xXvWDRCXfl8nVDbHMr1XKbRIcMt3+PK8pl1KaYzNNTS+YUxk2JLJhPwJ598gtmzZ2PYsGEYNWqUHeO5f/9+7N69m9L0HERERJTr4HH6zCQ+56SJlmrKeUkkb8BwTq5Dh1gMqUtKr/fLjkDkOq7EuWoPItMoK3KZUEUKKeRH+0k5ykLygWw+iBICMrCpTwLpVCfV4XksV/UpZGTFS/7Xx7nTEc/3rsIXzVvgQyTi1L4snMyIR98GvbE2ej1SKfm8s/VVuLn16LM2m+JA8Z97LKopk4u7nr2qoms3DZlUlq4s6hlZiMtRGDMpc2Lt2rXxzTffYN68eRg4cCBuvPFGeHt752UXHh6O7du302wtF3v37s27ridFICDvlISek78yRyo5BoEYjsWMVKBpf3qcN6Vz0H2cE89oLRkP2G6BXdoa1G8N9H/QMgdG7aDKvZnF5jOFTGcypam/cU6MoWRVdn9rTEHNaM6d0t8OIMn2zrss32MHFeGAWp9blia4j3MroKKelklXpKAe/BiK+n3KlCno0KGDcVjrkJKSgpiYGGOCFXV8pSJRo65eY2EgJQSSmQlTwiXFnuRqs4syno4cLInE2a82bTK5+pbVuY2q+5yLlX6WSXYkV+7CKMYdBuZyApf92xMiLeqqEVyMzHseOXv3o46/J04E+2BdzA6EJxzGZzu/5j7qAbi13Q3ca73J2erIeNq0mXkkUC013NT4iI09jfDw0+jZk45H0kwlhyIgc6FIOW+++WYkJycbc2KbNm0MTZC14LS0tLw5MTWVH3ml4hGQcb9rNzUPlIy1aF58Wr1bdgSSoiy2mGLLLs5BwmiWF8mcKKr6S6aSsUy0zIHf3MX57Ds6K1HCmkBJ53DOietmAdu2UUNIzVOXbua+maWsowynAwcsjkpt22rIpFLCd36TywRrtfEUiWdwcDCio6PtmM5OnToxOHUnZDN80PLly89vhSu6dDFH+N97VCtQDdu/H/+eWTUWVQ95G76ZS2bkT2AJ1bLKJRSFVNmvi60R1daIO8IJNoCqddpuOoJkkq1NtZKQxO1sTvvPHfMsq/dGXTnRXom02AO49b430ahpAH54qA9WnNiO38LnY1f8YdzedhQacttLOxLj+9lfGyGTMOQiU+NjyeJcPPffXGwOV6bTDksH/RATI5kLrSSaIjFBsiVhQuUQ7c+hQ4dsb+l5YQjIuJ9IyVcXSsBeftHUuC8sG71WDAKpcXSs3MP5kIxmWQO7F5N93i2x35RDTMi6Xc+wcx9ZGEsRALTiQlpMid6+k+r3txlu8PO8x8rzRBzjX3yW5ZO+mFM5Qia5lKTzxIkTXBUcwKlTp7BlyxZDqrljxw7DvnPQoEFYunQp6tWrh8OHDxu2TM2aNbMbH9ZwLvLXem6XwN1/ZGXzpco030pJn1bJJMLm0Tm3lMJwHvqHDP0bFtWOhAMpz9V8UbUTxlbUVbuWWpjOC2lkyXI9GTTZI7sqLgrqidbdH8Z9/zyJD3f9gOpU81/RdASqiYd8fpKFTD47wvxJbH9LqNjUWNsren6uCMhcuGfPHmNOFCdKUZ0L83iSQfsvv/xyLFy4EHXr1oXMnfv27cOtt95qV6R1Hqy0c6IdGiZ/iJZMdgdTKl8ERNBxKgL4g0z9MUqTJQ6neJ47mkS7VCfM4sG+Zzk93W9guX7UPnHBJvOlg7+BDs7e0eiVOv9CviSlzqPCHjh48CA+/PBDCDP5yy+/GEynSDjFYF4mzaNHj2L+/PmGHdOzzz6LsLCwCqubFqQIlAqB1FPcdWgGY3Lu5WOURPpxxS1qJEcT3xPDe128QIMaczu5bkaJ1UIo8QxsAD8a2IfWbIIbW4/E0qOr0KlOewT5UBWl5JQIyJwnc2KTJk3w559/GvNgUFBQ3pwozKZc96c6eNKkSYZU0ykbopVSBCRU3JoPqW/eQCzIgHqS8ROHn4ogf86FPiwrnSYmLSnlFBL7+kAeSuWKgEsxnb169YIcRdH48eOLuqXXFQHnQkA8JE9GMhxIO6rXj3N7S45rYQgdTVJGs0HADe/QLo0qd1EvyTWZYMXOieRNg/2b21yPq5uPhL+XHzwYFF7JOREQu/VPP/20yMqNHTsWcigpAk6PgGx1eYw2lMGhlHjGWMLFVaM5WEVQYBPgytcsC/8Qmk4I+VDNLsIApXJFwKWYznJteWXLTFzjmoZx9UgJl1nmpjnNE/r3qWxIVUx748Opms7gzkOT6AHO1XXYhRVTrpTizRV90wEFy+vVgwHpg43r3h7eZD69C6axXpEx1JhMaw515ibHU0Nqyy663nRya0n6VxFwHgRkrPfuaXEiMjnunafyTl6T5JN0XI3g5haPcUFcj/NLb4d5jRdAQqKFhLJfbUn6txs1QfzjKJIiuvewFFBZhpMynY4aTc6Wr4RJemay5YtvNmTS1VcBl11Kmz8dJuXenZEbqebmij6Ykk6xHzrfRDMVI6SW/JUFSkkk6R64n3ZQVImV5JR2Jq/+F3qgW3eJn1tS5npfEXBSBGTcT37KMidWFi6horri1AEGZOcitjEFHUEUeJxvknnwkYcstTAzJ5ahvpLtQ49avq8OKqIMtXLsI8pNOBZf58ldjLQPHrIwFIFnVKol1U7C4SSnWMKD6ARbElrm72cQ08PrKN3kytoaj9P8045LGRtrkYT7+pZchoynSJoIJCXxA0G1vInxkZJymuF5TqNmTXHkK7kITaEIOCUCJ/ieVKcWwIfezUrlg4C4cR9YzkU4mU2/muWTZ3nkInOikGyC4SCSUHJCfn6VY1Ikn61UKRAQidTrbzIEBJ1XZDVZEglTISFx7rnPEgC8pPR63zwCO36mRyQZ+pYXOQ/TKaFgHnscmP4WQ4jwA1ASSfqPPwGeZ9gYkx7sC/7OxY1X5hjC0ZKy1/uKgFMiIHPnw48C78809544ZSOcsFJRO7kQX8/wbdSsSfg4ZyCZ456ZCkx9zmF9LUVMnZJtHHJeGUglnZWhl61tTKWErTT7yaam0aA73vq0/i0KAWHQJQSSeJ+LCE9+y97Bci5OONb7EppDYtDtXkDpMaWDIWIv5ESr24REi+SyqHbmvy7BxEUSbpIyaMIad8hkYk2mCDgrAvGiAaKEX6loBKxznnVOlJQyJ8p1I/yazJHksuQ8mxPD7t8sjF3TC51nIS51TuSc6OCoIgn0n6pMpExnZeptbatjEJAA71spvewyijoSMpPp/CDJ3r3V6f0Y0oGMeySPcBql30IV0mJg3xoGaCfD6cjAx45pqeaqCCgCikDJCOQwjumG2YAwkfVaWhwOt3xLR6F9dMIayC0uuVg9zHmwzWW0j6WH+oqvGD84BKjJQ8mtEVCm0627VxtXIQgc4eS5kGrpei0YdoiT5pJXGPidjkKipvaQV4yrelnhcw9zpFJyLM4IofTMdCYpZ4UApYUoAopApUAglZ7oC6Zzz3TaRPrdASzlJhg7F1riYK7/wTL3yfwoe583H2SZH+u35ULdv1LAU5kbqUxnZel9YXDqUQrnRQN4s8xOo4ZAB04ESoUjIIxkfCSll0st9/+k7Y/s9iOSzNrEOp4Trw8N0DuMIMPJlf8eppOdTLpfBfS8s/A8z+fVtq0ZLN6kpEHGkDgQJVCqa3I8SfKuF5tOfj6R0LIVgcIRkLHetg3j6jbRgVwYQjInplMlvf2Munw1/QISj5PhXGL59sgz4l/QaRi1QJ2ARdQIpXEOaUhp6GDalDtYlV1YlYu8Jn3dshWFBI5zfZEiWrfhPyST02iR1XWVG8p0ukpPnWs9JU7NtGctI9tMCCR5A64dpSGTisJd7JE2zwVWf0KVESdVIQloHH+CxvCDGd/0Ad6js0HDrmQyxwDHaSi/4RcLE9qWKiUvH8szzvKvSF+nPmORwpqJ3SHpH7zf4kRkMmTSwEEe6NpNQyY5S5drPcqAgIz7F6bx/fWqPFyCWZiE4TyymozkKwzyTjW62LlnUruzeT7DwzUGLn+NC3RKO2WhPuJ5i+ZnE1XuJ48xgC/ny4D6ZkuqmHQyD078r6WfzcyJZaiVZDthEscUyUFFlKFWjn1EmU7H4us8ucuEII5BMrLl3MyySjw1ZVVqNr3ztNaxNRE8ZI/gtZ8DKXQq8KNKKEAkm9HEmKv2jlcy9EdbYCTVS4KzrN7rhPL6UP5tTilJT3P4O7YVBXO39nXBO4VfkT2oZeNgk+NDvDOtRZgZfoUXqlcVgfOMgAxiHcAFOyGL35c1n3GBfYC2mZwPxXFIFtcxnCub9wMadeYivCPnCz4q36FqZNw7Xwuc2EV795u54KVgxNnITKSXc6yzDKfKRMp0Vpbelpfn+RcsQY1nvm9ZqRfXdmEkJGTSXwuAH7+rPMuw4jCx3pMV/Kr/0RU7iqv3p2m2wInUk5PrPmIlxvGyj7nBbFpWsMZjYqs0bArxZzrxYnc2Eo5QQiaFUm34/DSLxLO4Okr6d9+j5IIfmG84TqpXLy61ce/vv3Iw/cVcLF7lCW9aeSgpAi6HgIz7hx6jyUw74OknS35PXK6B51Dh7T9yDlwFXHA1tTt3cIWZQi9/aoGEEW11qSVjWYBbtMmcB8l+dCezKcypM2yQkb/p0teTn2Ufs87v0gxApNzlTFLEs0+x/aQZH3hWin1YlOks50HktNkJExnH2AwmVaFGOyRc0jEyVpWRBK8cLkFl9Z1fqnGCjNae5TRQvIIGOVSVWyfMOuO4RR6PwkgmW9nL15kpKpp7sZMpNkOCj2wecNJ8vI8UfoMit5nJXNMoAk6KgIz7KM6JDYOdtIIOrpZ129v8C+eMZGDLD9xNiAvw7rfTtj3sTEXa0y6SGp7CSOZVZ4/gcYImUzJ3O5CiOe1WJlKmszL1trbVPAJJXKF/PdYSzuOS56kiok1mLpnQNpcAy9+gSr0mVUK3Of+kab7FmlIRUAQUgeIR+P4/QPRuYOADVKE3ZJSOf4EedzBkHKWccZwzr3zBYkpUfC56txIjoExnJe58bXoxCMSF00GIBu4i2Vj9IdXmG6guYhDjQ1QfHVhHT0s60Uj8ufxS0GKy1FuKgCKgCLgsAlm03z5KVUUSNWCb5lpibx7dR23Yds6Vh4CmtFVvNsDhkkGXxU8rbiDgUkzn8ePHsWPHDvIBp9GvXz/4FrJHdDZtF9etW0fzCw/07MmXQMmCgDBHtane9SxFl0uIpebNKieCIun0C7BMrNsXUYXubWFAdywGAqlaa3Wx+zGcYbTnbETphRmS8RRAfOpwTJlkvGX4te5rJnNNYxaBEydOYNu2bdyJNNOYE/39/Qs8mkPDsS1btiAtLc1IUyCBXjCPgIz1ZmF0FKyE6vWkaOJEVbMEcT9C5x/BQjQ++7kI96JNd+drLOZI5tF0/pQSGqsq2+lACm3qwMydMOtScCDnv/Z79uzBqlWrsHDhQsyaNQuhoaEFKrV582Y888wzxj1lOm3gkZBJz0zmC8RJQ85LIplQRtOz8DIagJsJsVRSfq50X4IWi6TTrxa3q+THZe9KOth04y4atGFMYrDjK19zv50zxEheHIikr2WMlESSXkImpVP6a2Y8Mb9Bgz3QqbOGTCoJ2tLcP0BHrn/++ceYEz/55BMUxnTu/X971wEfRbW9DyXUJNRACBBC770LUkRBLPiw+2yoqH99Ks8CFrpYUBEFsTwritiwo4CIdATpvfceIAmQECBA9v99dxjYhCQ7m+xkd3bv+bFkdufOnXu/e+fMuafdzZtl8ODBUqpUKS10egNuVmU57195yfCNt/KcZFWHE3+jxScJ2szC6H/19uCPP2PxXRE5S7uLLPlO5Ir/IitHOyf2LPs2c6yff9Y4b9NY8xbPvmCIYTwOBXKU0Nm5c2fhZ9kymDqzoISEBPnhhx/kuuuuQ1Atgj0yEVf87p9Mp4P/q9UgEROJUA0xPrBOZM1k7C5UFgwWqjkKnfxLp3ea2GNbWdbumVA64m/x4t4tMBixTk5pUdNJ2bRkScvFHQGZvxvZtm1b4YfazqzoOPaOnjhxolx//fWyfPnyS4qY/DAdCy0ea7KAAC1sFhdaFmpzRpGUQ/BlHwPLDxbk1TvAvA7+WDYOlrArYQHCb01vAe+ANSjYiDzRIn/LbdeLF7dXk5rbdtl1naOEzgI5DD5NR+PHj5f27dsr0/r27dsvwWzKlCkyadIkZZ6nxjSkiMnAhg43Vuhvjzb+5gQAV7ZfTkSi39lInfR56DBZRqwveMdIKNnqLpiS6sMtAf2PboTITAibpBzmoVHAgf9T4Hi6PwTqqkgTgjRQnpbdLD92HHxcd4qM/8RwP/DQ7T+nn5N33kyXydN1yiQPUFk+nRNPpMn9u+++kwYNGmADnVhZsWLFJfXOmTNHPv/8c+zYmi60EvXu3fuSMvoHNwQ47//7lLErUf9nPD8nbpc69pDvglXfI4BoJ7Jz3GnwQe4gFIeFeFVYgKo0AQ5FHNu9bBtOi9fQYeD3sPyMet2WseYthg3GOwc06q0wj2xXFXT4f44SOnPCeteuXfLll19K9+7dZf/+/bJ161aZPXu2XH755UoI5bU9e/aUq666Sq3oH3744ZyqC75zZBwHkOrDm5RJhw4jaOZS4T34wDnfI6YD2fAb/JVWYbIMxs5C1xh+nA/8hDyU8F1S+6gHbe9Fdu62ZlonBJxPh6D92LvPOLYAS1ISMk1BaawpfxCgv+f7778vXbt2lZkzZyq/zqlTp8qVV14JRV2YakSnTp3ksssuU0Ln8OFYlGrKGQHO++07sRCF600oEPt7EP6bKyF0tr7Z2GmNAuatH0MRAS2gMjsHocDJsWXfd4En2pgySd1ihzGReBwK5Cihk0FCp0+fFv6lZpMr+SS8yRhYFBMTIyNHjoQSqoAsWrRIkpOTpXLlyuq7OZCF4a/GD69noJEmjcAFBKjh3Lda5M9RItVbwWzUyWA2BVCiZPkLxfSBRiCQEDB5Ik3jJ5AIlTzxGPKnnoFlo2zZsoonkj+uXbtWGIhJP/iCbv5pJk/k9aYgGkj9023xIwJUwx3dA574EiwZ8Itpcruh0aSlp0QZPzZM39rJCDhK6KRJfPTo0co36cknn5QHHngAeXoPyilsx/fMM89Ijx491FiQEScmJkrt2jABaNIIeEKAPkkbpoj8/SGChU6KXA6n+GKRnq7S5zUCfkdg9erVMmLECFm8eLEMGDBA7rrrLqW13LNnjwwZMkRZdtjIknCmZSAmTe2aNAKWEIiHhvOvV+FCA7eMWxA8GVXT0mW6kEYgJwQcJXS2bNlSxoyBM/N5Kl06axMHzUnt2gVZJJ3Z6dz+5eo0HOlUihpmNUvV0IRUpZKloo4ulAZBc9MMRKYniLS5TaR0FUd3J9eNj8FYV6hg7XLOJ0YFRYRbK49S4Sga28xycV3QAgL169fPwBMZvU6NJTWd7tSqVSupV6+e+0/6ODcIcN5XwnNStlxurnbONdRy7l0qsmeNSMOueA+0dE7bfdnSChWNiH1f1pmpLk6nUCJHCZ3My0mHeE9UHBFn/GhyQ4CpcAY+Z/jg8NgTkbkyZRL8YIPeu/n0cSQ33oIdhm4S6fQkMApB1wu6m4wYZgSMuZlfs50mLP/oIwKbrmU/4S5dC0rDRgUgFGVbqz7hJQLkc1Z4YlFkouBHUx4R4Lx/7WUjcM7Kc5LH2/nt8nNpCBxCFo/K0Iz3hqKH+6SHGnGsX3jW6LVNY81bDBhoYMvjUKAQnEmhMKxZ9JFCJDVZ/MuPFUJev6DOcUPPbTLX/auwh/h+Iyoz2IOFchp3ajmtzg3Ww80DzkAbbvGa8HAKnAWsFs+ppfqcRsB/CERh3gerhECemI6AyqS9IlsWGAvxQiG8SuRY20xRURbfxza3I7+qt5AFOr+aou9jKwI0t734ksjL8NGBz6tHIvP55huRx/tZK++xwgAscAoazp+eEPkDmotYpP2ohE+oElPBPPeCyJix1qLRWZ4pk559XhC9Ygm1mX+dk3vuOAPTr6XiupBGIPAQ4LzvD+3Xhx9Ze04Crwc5tygd/Zs7GnzxP4ZVrC4sXaFKdDEYgXcD35k8toFY7cvDz6qPTbewodV5q1JrOvOGn3OuphDJ9EdMmcRjK7Rnn8hqmFiClY7Hi6yfC5MyMOn6L0Rklg3Wnlrr17oNgrQQ1uYH5xCCVWQr5pTF+cQMS8v/sFzcWpt1KY1AfiLAub52PczrXvDR/GxfXu9FLeeSSeADJ0Tawr2qfM281ujc6znWGzfCkmOfbo632LAe/4EsslHn4nm+5VrodPwQ6g7kGoGjO4wdeK6CH2e9ay2biXN9P32hRkAjoBEIZATo307pp8OdSAT/MPgjhGtNGgEfImCfCO/DRuqqNAK2IHB4G6JQo5GTsws0wMVtuYWuVCOgEdAIOAaBhJ3GQrzWFUg3Yb8/o2Nw0Q31GQJa0+kzKAO8IgZ7cK9sbyJYmeOmfJCZnDf8LvLPeOwogrRIexFAVL66Tv5uTt2yZZAuCoFBVonzyYssESxaoY7VynU5jUCAIlAOz0kkgiyDhbjj0LRB6FNlkeN7wQ/BAyJigqV3eesH+aFNketmw8oEefYts5/mXy10mkgE+1+mSXrmKeMBspwyCSmErroysCI1TccXixHTGYZVOdDAqXDXGuw+BF+dmFrY2u0eCOIQrkOdGI07YjgWJkirY4XJcg5hcwZJSfYqZVKt2jplUqhPNUf3n/P+FQSXlMAKyspzkh+dNXki75UbvrjnH/BE+u7DV7VCVZHmt2JRjr+hTuSJzyPNIDG1aax5i+d0yqRQn2lB2n8+OI0bGZ2zypgqVoQmEFtAWi1vB3RnTiF6/jQipCHcFMOq8wgCV8JKGLtjeNMuMuYURLIcWIv9gyFoNuwtUgqm9aJImK/JQKAGtL7eYFoHQjtDLi1eU6ZMASSI1ymT9HRzOAJ8TmwSQiwhcw7BPmkI9DmTinZACD6N45TDSODeDAqCMEtVXChE/rrjb7gYtcZObMjkQcsPeWIo5iq+AIrbQbVYty/2HMbG4t0cQoQZqykkEGCaJKZ+4Ep9CEwpnjJ0U0ib9L3IIqyCR48yrstPoHh/Cpvzx2IVvhhMFgy2GExaCbsgLEIYvmM8vkdaFnjkFITWmSMhJKHeeteLVKxn/dr87Le/7sVUMEOGQ/sLQfzxxzxjw/LvvY8I9r0io163pO2cM/ucfPFpunw0PkwlUfBXV/V9NQK5RoDzftAQkdq1RB7s6/k5yfWNsriQPJEpjTZMFlk6EUIn+CNVZWdOwiyeKHLPl4b/isVFoJxD7rKV3+AZXi1yJaxgVVtoYdMddi6oX3sDmEAopMaTWPuYeIs3RuLdDHp+UGE7buHjFue9Oh1IlHcMnVEDZ/fqNUj3ATMKmZcVYoqlBYusl7dSp9UyXIFPHyoyb7zIsYPwNawqshvtTz6KZO5bROa8KcI8m9kR91NPjoewCoZMopZz83yY0++CYNUwf18WRgsC//8lS0XWQBNsZX6wzKbNIivgF8u5ZYH2IQPX7EnWqrdQnS6iEch/BDjv/1kCwW9D/k9k3nvdzyK/jxA5tBMm8FhYfvaKHNwNXohF+fQXRRKxKM/u+eXvJ4+JpEJA5XFaCvoxXaRaS5EGN2iBM/NsIkYrViDP28rMZ3z2nbdYvtSlPjwOBSocCp3UfXQgAkl7sAqfAt+pcKzCB8D80xXMFStyaj9pIv97PITHJthRCKvEqAYwLeHYnU5COP32QZjRodVs0weCKxhzKphsbFsInHqt5Q6VPtYIaAQcgAB3T1sywdiso83N2LL3GZHDWICfPGJYgqa9BMXCt+CLzYzO1O2RsVNciP8JwfQsNJzXwup1AjzyyE6Y1bvD8gVfbk0agXxAQAud+QCyvkUuEEjcaqy8u8DUW6+n4asU18GoqCoEx41Yof80yPjeDOervJXxJoc3QSOKOg6/CyYLbef6aYjIRNRpeNmM5fQ3jYBGQCPgBAROQUt5GIvx9ncYOTSLlgDfa3qx5XsWYzehz4zvUZVFanUD33R7xdP3c+Mc+ICCH5YeC0sQrD/JSVi0175Yhz7SCNiMgNuMtPlOunr/I1AkzNh9x2pLGMkcGWG1tG/L0UxUOkqkRhdD4HSvPawYdsvoI7LwY6TsgSB5GMIlV++F0T/aKJKg1Zz7Do6xsk+DmX7WBxA4S4v0HAjNaTn3mvSxOwIRJSGU42OV6BfMHa4sEouWgpeEJo2AoxGIgPWlhBfPia86S77GZ65GF4PvZa6XwZF7VyIQqBR44nbwQQioDAwi0aw+721D4KRf6AJoTJn4vfP98G9vbJTR/1+KANMG2hw0FuGnV+ylnc2fX7TQmT84+/8uDCB66EHjAbLiEE1n9N5gYu3b2/7QZQCH/oFH9yJgCIJkcQiKxbJg7oysbHgDmG8nke2zIWC+Z1xDBktBcylW+9uXYwUPCadocTBi+B4ysrP+tRlupb+4IUDGSmf5ksDbCpPlHLrtVrgt4GXmKSjt/G06dCwoY7BO4FTUpBFwJAKc94NeMPLZWnlOfNXJ4/Brj19v8ENm8cgqWKgyeNxtH0HYBP/8tT/KwwfeFDq3zUZQKEzvXHxXrCOy5R+jrstgSdIbY2Q9Shzffk8YWGeFd9ZXefUrb/H4U4XUcObndPKqkT4u7Cj2P2/ePPnqq6/k8OHDMnbsWImJibkAx6lTp+T777+XOXPmyDlEGLZt21buuece5K6G0KHJECSu6GogYXV2V48TiatmTQjxFcZ7lopMftaIxqzXGQwxm2UgU4OEV4Bg2RB3hoC8Yw58PVfgGELnOpje45qKdHkKp/CS+Om/iMxs7qsWBmc9ZKqtEFBglVj+MixIuEiwOJ8qVy4g0dGFrBa32pKQLrd06VL57LPPZO/evTJmzBiJi4u7gMeZM2dk8uTJMm3aNDmL7BVNmzaVvn37Yl2RxULuwlX6IEcEOO/btM6xiM9Pnjwu8sMjhmm9bCUsDMtkfQs+hxHRsAzBQsUE71tngX/CBM90Sqt/hpkBVp4rwAurtIN/+//BioWytBppyhoBjnUzvEdIPLaB1C2aYdxANt3ChlbnrUpHCZ3Vq1eXJ554Qvr37y9kqO4UBm1L165dpUePHpKWliYDBgyQ1q1bS4sWLS4Uc7mFh7kfXygQzAdMmfTGKEPN9DSEMU/aKWL18y8iy6AxfHGY/eopNTa45zYwygSs6qlRiANz9LT3L/2RyDznfWAECjGwKLIsktoPFqkEgdQFU9Ltnxhlgnl889o3Co+vviYSXVHkgfs9c0CW/xi47tsvMhRYWzCzz5+XLpO+OSejx4Z5nH557U6oXF+5cmV59NFH5fnnn1d8z73fhfAMtYelomPHjmoh/sILL8iyZcukU6dOF4q580H34wsF9EFGBDjvX34FvClO5O67PD8nGa/27pv5vtq/DFrLnYZpvGJdCJRwO8qJaCGqBsF4yfdYgM88n1oJi/TeLyFK/XpcCQHqlveNGkJF0skJr+zOcazHjDXGmBpPvpN8TLzFO2/jnQV64snQSJnkKKGzSpUqanAKZ2GfI4MlA160aJFs27ZNSpQoIVFRGR/OzZs3y9q1axUD3r17t6orZP7j7F4IkwqFA5OZeer8+g0if8wQGT7UU8m8naeP0WZoJw+sNgJ+6kDYjIMWjQFEnohCad3u0HS+DvN5R1zXwUj6TuZMhloAU5zHmnJGgHNi1hy4LMSJ3H9fzmV5lvNpOTTLm7ZYTpm0c6dLfv0YaT3f9ly9LmENgUqVKgk/RbIQ+gtC88VzFDS3bt0KDXNBxSPda96xYweywqzAcKbLxo0b5YYbbnA/rY8zI8B5PwML45bNRO66M/NZ337fvxZ8cSryaELoLFdZpM4V+FwNy4IH4Yd8rzZ44sJvYF7Hde36GD7vta4EPzS0alLKeJf6tsFBVht54vwFBmYUOm0g3mLeHPwHehxK6FAgRwmdVgZk//79smnTJsVEKYi6E7WjJ06cUOdobtIUIAgw8fvy7+BntBDJjWNFug8Fk42z3rjGeFGWhqtFVD2RstWsX6dLagRCAIH4+HglUNLtKDNPJB9MTU3VPDHQ5gF907fNhL/6p7BKFYWvJlZqNboYC2krba3UGBtoQEtXDCb1GBxr0ggECAJBJ3T+61//kl69eglNSVzBu/t9NmzYUPgho505Ew+0psBA4PRxpO6ASb10eZjFnzWSHnvTshJloe3s4c0VuqxGIGQQuPrqq6V79+7y6quvKp/3uLi4C32vXbu28EOBlJYgTQGCAHcbOr4XAicsOV0fRX5hWH6owbRKhSGo1uhitbQupxHINwQcJXRyxU4tZkJCgixZsgTPYAFZt26d8u+84oorZNasWVKuXDk5fvy47Nq1C0EL8PVzI5Yn8a957HY6+A+p+bUY9KHACMP0YNoku4n5447B2b3r4waj9KaNdrctlOrnWBcrZr3HNPNlsibkdDGLlsC6QpPvEEhMTFQuQyZPpG87Teb8zsX3jBkzpHTp0nLy5EnFO939OdkKkw+GLE/MzVDwGaEwaCcxtzC3/G3YDbuo9YFvez7wYTv749S6i2CsC4Nx2UjFvWC5NjYj36p2lNBJP8yJEydKgwYN5K+//pJw5NAikyXRXykpKUlpMBmd+eSTT2YIIso3RAP1RvSDveUmQ0iwIihQQO8Jn0pohr0SVHPT/5SDyCMHwbMKnN89+Svlpn59jWcEKOg/gfQpVvPScQ5di/nRppXlILO27QrKcFgJs3DJ9tw+XSJLBA4cOKB4Yp06dWTu3LkqWwcX3vTxpCCZkpKieGXRokVV5Prll1+eZT36R4sIcN4/Cf++srCu2Lk45kL8MIXO67TAaXFofF6M4/twX0PDfF5h5et78BZ9HzH8bO2cTr5ud17qc5TQyWh0frIjpkjiR1MWCHBG//sO44TV2d24kQg/Nj1wF1p5EPnnykRB4MkmFciFgvrANgQ4xt2vsl49y193rRGUZmURg5pr1iwgNWoYOems30iXzAkBugv973//y7bIbbfdJvxo8hECnPdX9/BRZTlUc/wAsnEkG37qORTTp2xEgGPdpbNxAx7bQKy2cxdDk2rTLWxodd6qNETsvNWhr3YCAvDZkk/glD7+c+xXjmNPxLC6mbOQMuIda+U91Zfdea7ot84x0htll5Mzu2v1775DgFG5H34k8v0P1rIbsPx3k0Teex+RsdaC8pYtS5dXXzprtbjv+qZr0gj4CgHO+w8g5E/+zdpzkpv78h5b/jAW4hEVc1ODvsYXCHAcvpggMuFL28Za3eKLc/IFPjwOBdJCZyiMMvtIQfOXySK/TbGc4kYWLhL58mvbHjihwLkAQu2RXUjCe6ORyDhUxiPQ+slFxncQOKf/aW28ySH/miky6UfLi5L161zy4QhXyDDXQBti3R4fIMB5/zUybSB+wHLqOW9ue+4M0sYhP/I6CJ2NYEmIrOTN1bqsLxEgT/zlV+O9yWMbiNX++kO6+th0CxtanbcqtdCZN/z01XlBYO8SJCmD5rU0VvOxHWDG19MxL3DqazUCGgGHI3AiQWTaSCOvZoN/wZ/T5oAlh8Olm+88BPRb3nljFhwt5rJu8ww45EPg7PY8tJzFg6NfuhcaAY2ARiC3COz+GwJnGlLH9Yc/Z83c1qKv0wgELAKOCiQKWBSd0jB6KnvjrVwQ5e0KNT5xRGTvSuw6dAWi1lt41y6n4O20dnKsC3nBErycTyweFu40UHR7NQKZEOBzYkeWDZrWN8JlpVIdkVrd7LlHpq7orx4QUGnhvOCJHqrL6rRdr9is7hUIv9mLZiD0ULfBQIARxj0RdakYpkUFN/ayF2496o2gagVvajnj1yE68xiYaxfNXK1gZncZjvH99yJ4ARkErIw3MyB07oSk/HhBWoxeb96igPR/tYDV4nb3WNevEfAeAc77B+8XJIG29px4c4ekPUiThAT9Da4W4f7pmvyLAMeaW51S+WKFJ+aitbzFHXfjPxCPQ4G00BkKo8w+Utj8D3a2sEp8Ai5rb3ysXmO13NnTiFifBcYaKVK5tW0PtNXm6HJAgILj7bdZh4Llvdh7mjy7UaOC6mP9JrqkRiDAEOC8N1PP+bJpDFA6sEIk5SgWcsh/a5OQ48smB31dfAf2xhbLNpK6xY2YUyFEISJbh9CIZtdVRq//9rvI1GnWoo3JBJcsFfkWkZpWUixld9+sft8xV2TpTyK1O2tfzqzw8cdvHO+fEDU7a7a17AacEyz7A6LXLaRMonJ748Z0GT/+nJXi/kBA31Mj4BkBznvO+bnzrD0nnms0ShzZLvL3JyIVampfTquY2V2OPHHKVOOdyWMbiNVOnXJOfWy6hQ2tzluVWujMG37OuZqCwfv/Qy7Gj60LkdP+EHl9tO+YKyWPUykQOL9CKhCYcetgRa8pMBAgx3vnXZGJGBuOkydieZZ9GymvLAidrG7xPy4Z+mC6z9cwnpqqz2sEfIYA5z3n/I8QPK08J1ZuTF/OdagvCQnhmyN1XEFtgLQCm+1lONYf4X35ERYDvhrrTI1Wt3g/XT7Ch8ehQHp2h8IoB0ofk3YhL+c4mJE2irS9C6b1xoHSMt0OjYBGQCOQ/wgwV/GiD0XWIIdyHAIqGyJNkk4dl//joO+YbwhooTPfoA7BG3F1uH22yGqYbSvUFVn1vchRRK1HQMtZu3sIAqK7rBHQCIQ8Aoe3QtB8X6RcLaSN+wuL8G0QNIEK91kvFBby8GgAghsBLXQG9/jmb+8oZLpgIzgITeY+JH5Px/dFn0LQPAyT0Z8i5SuL3DBCpFRVCKFguJoCDwGbAxi0Eifwhly3yGYEyBeTD4psgH9gyXLwlf9cZPd68EQEkPBzdX9skAGeGNve5obo6nOFgN08kQuOECItdIbKYDPqslNH71ImMXq9dCnrkZRpMBUtnQDNJvyTEuCfJGC2kWWRAD5aJBFMtwbqq8u0TUVDBXXn9JOM9Y5bMVYYLytMlmGXbVojpRYWEpxbFqhhowLy8OACIZMaxAIkuojTEOC8v/N2uAZh3lt5Ts6dhbD5u8iKb0V2roKQieupzaxcBwtzpEeKweKbPDG8gtOQCP72cnx7093BPqmQVd9wkxFaY+NtAmqstNAZUMNhY2OYMunZAdZvQObY7QrjY+UqruYPYvW+4BOkQgoXKREhknYSq/jBIjsWQOMJplu2ujYfWcHSH2UoOD7Y1/qdWf6hBy2XJ0Nt2bKg+li+SBfUCAQaApz3//ew9ValYLG9AKb05CREpVdBHs69Ilc8AmtPjMjPzxsazrCS1uvTJfMPAY71PXfbej91i3txnxAiRwmd+/fvl1WrViGQzCWdO3eWkiUvPqxnzpyRDRs2yLZt25CSsjBebi0lJgYPtiYDAab6mDcPqzYIkx07eNZOUYjcADP5XjDJK7sZK3R3LNOxgo/HSj2i/MVV+r5lIkWLi/SBgJmwA+chhMZdjjJVkX8OewpXbIQa7Fs1ujdPH3uJAEMn58yF+Q/PVOtWnlf3LL94CV6myXiJdvU4nziddu1yyZrV6XLNtYWsKke97EToFY+Pj5eVK1dKWlqa4omRkZEXQDiHZ37Tpk2yZcsW9Vvz5s0lNjb2wnl9kAsEOO9nz4GwiOTtzZtlfE44ycn3XOC15WsavJbBk4fAQ+/6ANdUQ5T6zyKNkfuxEKw9TaDhjGmObbpwrCnwEOBY/73QaBetflTE+JjULRbgPqDLOhS04xY+bnHeq3OU0Ll161YldE6bNk0aNmyYQehMSUnB/DNwAAA9MElEQVSRP/74Q8qVKydJSUny22+/yauvvgprIcyFmoy0Nm+MRl7MIiLt23kUElSKCKYF+QWmoa5dMj5wZ07hYcTqfeUP0F6Ckda7SqTZ7ZAqFsPcCiZaHIFCcRXxwX1I0fVErhsJ5losI5M2zur/AwEBcr+XXhWpWQMqSUTRcgmeE3ER8/EnIpsg0FwOtw1P5VHX3DnpMvT/0qX7US105gStN+d27twpy5YtE/LEunXrirvQefr0acUTIyIi5NSpU/LLL7/IyJEjpUIFbcr1BuMMZTnvh43AMwKBs2mTi/Oez8/machd+xZ4JZ6dut1Q5h4s2ldAq4l3UHmY0yOAe8fHL1bXA/XQBKBTJF3EJJCOOKZvYjzJ2/jOtIF4i7ffxJwCtWuvhU4bIM5blZ06dRJ+Fi1adElFZbB9X//+/dXv6RjJu+66Sw4ePJhB6DyLfIJc/ZufSyrRP2REAAv3LJOHcbu2BZ9BmKyJ6HRoN+O3QpgtYaRC6gTTUWYmSsZaFCZ3TYGNADU16QYDtKuhVJBr8h0Cbdu2FX6WL19+SaUlSpSQJ598Uv1OnvjAAw9A27wrg9Bp8kSep7VIkwUE+Jzw407cZW3Bh4bAefQQrErgj7Tq7ISmLK4l+F+Ee2njmItwTQGOAHkiJEMbyWaWa2PLc1e1ozSdVrpIJspVf6lSpaRq1aoZLpk6dapMmjRJmecXLjyvNs9QQn/JEQEmMV7+FXw3Vxt+m1c8J7L+V+SYwwp/2mswH2ElX72T1mbmCKI+qRHIXwS4yJ4H15pC0NjUqlUrw83nzJkjX3zxBd6r6cpMf9NNN2U4r79YQGDrXyJ7sPg+slvk+hdFUhMhgH4EP/aJhum8cz9tQrcAoy4SGggEndBJ5vrNN9/IoEGDhGYld+rZs6d0794dG6iclYcfftj9lD62gsCp4yIzYG5IO4VIdKzeK9bHKr4tGCpM9n9/bZiUaG4PlTA8K5jpMhoBPyOwdOlS+fDDD+WZZ54RWoTcib7xHTt2VNaf4cOHu5/Sx1YR+GsUFuI74GoEl6LydZEOrjZ8o+Hr/t1TItWawuWoDXii7/0BrTZPl9MIBBICjhI6af6hnxKFxpMnTyrn+YSEBKW5pJ8SBc4JEyYok1L16tXV6r2gm/MvA4z44Yqfn5Ai4tAC/paMYrcqFNJRnqYFs/zhDYb5tSjMQrE0GZ03mbfpi+8QPqviY5YNKXCDoLMct6vhm0t/PytjyDLwq4YTIUyK1l6oNWsWkFsf0ymTfDlbyAvpr0lt5okTJxR/PHr0qOKNlZHW559//lEC56OPPioNGjTIlify+rCwMF82LTjr4ly/9mrwu1jjOTmJhfiJo+CrwC4GgZKMSifR4nP7GEMI1WZ0AxOn/U8exyBaK/wwl31j1d164D+QjbfJZevsuaxA2pmzcFoIDCpYsIAUyuEFRqFy9OjRwpV748aN5f7775dDhw4ppnvnnXfKjTfeqJhvzZo1lXmd/ky1a2PVmYnIqOnfNHDgQKlTBw7emi5BgBkC0vGhOFGAqZDCy2FHoUnIN/cDopX/i4CTK2BiL3XJdfoHjUAwI8Dnggvb8PBw6d27N14UxgvDX32mL+eIESOUTycDicgH2ca9yDrRr18/ufXWWxWPrFevntDH8/HHH5cmTRAAk4kodA4dOlR69eolbdpAM6cpewSArxzdL3ImFab0wwi2HICMD3eL1O8pUgbCqCaNQIghMHnyZDly5Ij06dMnA088B6VVOjeJcSNHaTpbt24t77333oXm03xOpk8mW7x4cfnpp5+U0MkC1HBmNiVduDAUD6ixXLLU0EoxOjkH4Z7wLN2VKL/9OF+eqZokEYcnwnQE/1gmOi5XTaQOVvpFiociisHbZ86PpfBLY8qkBnCb8CRMsfyatUiFlYKwS2i4PVgO+J7ev9+F9D0uufzygp6KBy/OPu4Zs3i480QKw7TiUIhkSjn6a3KRTSJPLM1UP5pyjwDn/d/zMffHY87Hw3yO9GJF8cwwwbsWOHOPayBeybFeuQq8EKqXZlioeeKJueiDusXKdFV106Y6ej0XENp7SbFixaRSpUrZ3kSnAskWGqzKEQT04ksQFsNkyWvj5EzhQtIuLgovoks1NRTiZ288KOE/T5KIHdNF7oMfWAJW9hQsLsOK3kZzEe+t6SIC+aZJI/cbNBQa7Ooi48Z6FCIh1Yi8M85ImfTnVM/l0aVZM9Nl2BPpsu6gFjovjnDejooWLZojT4yKisrbDfTVGRE4tE3kv4+DjyJCvQcE+EO7RKpjEV8q+/dSxgr0N8cgQJ74ykis1vDe+3qCJR7nbd94i5EjwEtBX03SQqe3+OnyDkDgWOoZefG39VK4eJh8cGekVIyEf2YmOgt1+Mq9SdKC8h9TIdXvBDMSmCz3VW+E6FYbVnxmExhFe+zYsQsaa/P3UPtLrRQ1VRQq8k3wpEbMxrQ5ZLBnoBjVpBFwLAKR0Vh0w5e9LIyEsdVE6NPZ8nYIJAim1BR8CNC6R8ZlI503RNh4h8Cq2lHm9cCCzpmt2XY4RXYnpUpKUiF5Z9Zmub1lValUuoSs2J0oNctHyMIdRySyeGE5cPS0VIgsCmETTPbGdyAtHDMEEtNR3obuU8vJxP6pqanKZy7fhC0b+pLXKhk0x91mKlasmL+CZ14brq/XCAQzArTyFIaAWbONyM0vIJPHCUPLaeNCPJjh1H0LPQS00BliY340NU1oUb+jZRX5euleCJcn5eqG0fLEpNXSsWYZmbc1Sbiuq1iysDSNQaDQQXyheSG8ou1IUctJgZO7SNE3LZSJAjiD5BiRTG2nJo2ARiCAEKBXUomy2GVIuy8E0KjopjgAAS10OmCQ8tLEJAiZC7bES6MKkRJXu5Ykno6XaGg2n7+6gVSMKCafL9wlxQsXkHMwpc/fliS3NIuWq+pHy+mz56T+Zmg3w8Fd83kVH3LprLIZYKb3ylcf1w7YXzgaiwsr480y1eOMsh6C0szuca+Gq+6yVr15jf6rEfA1AqfPnJMF2w5JVMliUg8L67BCzNFhkTjvO14mUqumnsgWIXNsMY51awSKWeRvueknb9GmHf4D8TgUSAudQTbKSkOWfFpST5+V2HIl5Mdle2TwbxukVbVIeeWZwTJn7laJhc9myaKFpXOt8vLWzC3y49p46Vm/vDSpUlZualZZqpUviQeAD1ycyJ3wV8pnCmWzujvUxCHfhE7mbx0x3P32OR+z/ECYFy0Sp1PXKwqpj8VLdDGNgM8QSD51RvYkpEq9ShGyZNcReeTrlRJRtJCMuqmJdKpTEdYfi298zvtXX/ZZu3RFAYwAA2dfeN7WBvIWzw0MLTEstHpr6/TJ/8opkJyAcLklPllS4Y3cKKa0bD+UImNmbZL9x05LsyqlZPKag9Kkcrhs2J8s22b+IyfXHZCWPbBSB1UqU1JaxZaSM1BzjujVFL6dxaQwbO9K6GMUOXL9yVFoOxs2sHW1l//IXbzjgQMHZNOmTRd/wBGzJDAPLAN5sqP169fLihUr5LbbblMbDmQut3PnTpkyZYo89NBDWZ7PXN7v3zneGzai8zDlY2MFj8tuOtdvRSTviVSRpo09zg9Wf/iwS/bscUnz5qERpen3MQ3RBqTBSrPrSKrsTEyWZrHlJOXkGfnin50yde1B6d6gokxfHy9lEUh5Iu2czN58RNrXiJKiYXj7WyFO5PUbkFoMAZbVqnl+TqzUqcsEJgIc6y1bjbbVrmXLWKtbII0cqXZtvnuN2wXz/1rodPDoJsJ0/trU9TJtPRLkn0tXAuSWgyfkBJguDUar9yVLySIF5dHONeWTvzZL5PAX5N9ImVTk3itVr8uVLCJDejZGJqQCSiuaAQo+DRO/Epk8RWT2DI9CRYZrffDFDg1fVhpU7t6ydu1a2bdvn8yYMUPuvfdeJWzGxcVd2KHFzHvIbtHkzchybjpQHcIZzzHoh3XTJ5Xn+FuVKlVUXTw28yTyPMuxDhK/M5+i2S7+bh6rAvn5H1MgPTMA25tC4ByDrU65BM+JWP71N0Q2gylPxxyBoO6J/pyeLi/1xx7fOwvCT9VTaX1eI+A9AnQL+nLhTvkUn+3QbF5Wo4wkpZyRvcdPSQQEyw/n78QzJvJQhzjBxigyZe0BubFpjDSJhX+mFWKo8X+fNvI2jnzF83NipU5dJjARII8bPAxMH7zwi89sGWveYvhAzCnQ51+H4d2gDoP6vxDoorPGL/FEmmw/kiKNK5eSopzsOdDyXQnyw6r9UrpoGLSUxeVkGnZa6lBdrmlcSY6inslgqI1hTuoM89G6nYelCHyX6lctIwUqIe8miDk6G1XNYVchMGU5dTqHFth3KhV9mb05Xow1YN7vQ21GuZKXSjrcqYW7Uq1atUp2794tjzzyiHzyyScyePBgJRz27IldRkDccYHbDXKv6j59+siiRYuUkDpo0CB58MEHhVsOUnBlANSQIUNUENA777wjo0aNUjvGUIhOTExUAinr5sYFY8aMUQJvdHQ0Eqfvl5dffllq1aqV987mtgaONfroFXFxYpHIYFOPWCysi2kEziNAQXL13qNSt2IkMmtgu8kcaH/iSflg3jZJw0Z7jWMilCXoinoVpFeTGCldvIhMWrFXosKLSFfwxKUws0/fcFhW7D1mXejkvfmMnEnLoRX6VNAgkMax9sLnNxcdP+kly83FLQLqEi10BtBwcNvJj+Zvky8X7ZZxdzSTy2tVUIJhVk08A0b87dI9SPBeWvp1qytVYCovhCV8hQgjr2NsuZJgpIZwSYHngQ61pGSV0tDiQfCChjPQKenEGXn2x3UQOq0LNTn16av72mQpdFKzSG0kP+YxhUtqJ1988UW1gwu39+LOLynYfYeCYbdu3ZR2k99JFCYvu+wytcXggAEDlNmdGxUkJycrn0xqUyncPv/882obV27nSi0pzfojR46EyXmPupZaT00aAY3ARQTIu+ZtOSRPfrdaHu9SS+7vCOuC6QJ0sZg6Ytlp6w8ojjH6liZSN7qUwGCJXMRFoawyBIenr6p74aoyJStJragIiSkDU7kmjYBGIF8Q0EJnvsBs7SaHEQD018Z4iYeWcuS0DVLwGmwAVKOCYrKZa9h55IRsik+R/15RG0FC5XJ0hKcwRWFUPGgJMt/Dn9/pX7rw2a4+a0Jxqz5b5+/Yvn17lSMzLS1Nfv/9d1mwYIESIHfs2AHfxMMZ2sUtWFu2bKnKU+PJVEfuu2PRbM4tXJkKimZ3Jr9nmZo1a0pMTIzaEzs2NjZDnfqLRkAjIHIW/uY/Lt+jeOK7c7ZKeLFCcmOLKlIs7NJX1ylEpU/fcEC61Y2SDliwF/PwzIcXC5PGsPxo0ghoBPIPgUuf3Py7t76TGwJcpW85dFxoXm9aKVyW7U2G4LlRxvcpDXNQRrMwzU3ztxqCT32s5i1FXtKRCQIRt8FUTk1u9872sCrKN22U7Wk7TxSCb2REMf9pZIsUKaI0nxQQf/vtNxk4cKDabpDmd/piuhP9OMPCwlR5CvgcS3fieX5IPM/rS5UqpZK/UxuakJCgjt2v8ctxIwSMxVSydmvOJ7gFCG1DPLZAUP5Ky6stFNRFNALnEdh/7JRsQ1BQ3agSsulwqgz9fYM0rFRKmp634phAncMztWJPohxOPiO3tiwD1ySbTKKc640bCkwVlue92Ub912EIcKxhofLo356HbvEW9RtAH4/papGN5uFugXGpFjoDYxzkHNIYrYJvUckiheWWFlVlAwROBgIdhxBKoTMFUerHcFwOGsvP/94hY2dvQeBQaaQ3smgaghAlH75vvbcUkuC7qD7Wrwq6ktRixsXFyZdffqk0kidPnvRJH2mupwl/6NChqj4zuMgnleemEnqwj33b+pUs/9KLlsuToV7ds5D6WL5IFwxpBLh423HkuNod7b6OcfL+nO1y9NRZ2Xo4WQmdjFLfj80tqsA8PgMaztf+2IScmwXAF8uqxZ0t4HHevzfOlqp1pQGGAFyu7E6PxVu8/FpoiWGh1dsAm9Nmc9LOpsNRPlF+QE7NDjXKSW+Yj8KLFZYh2CN9z9ETEhdVEkncdyDScr+8dkMT+XrJbulWp7w8fVUDKQEh1RJRO7djJ6KH8PZnqo/zmrdsr6W2jmZk+i1C6PJYPtuKnHGC0egjRoxQjWUaJPp4kiIiImTYsGEq0IfHJJrOqa3kNRQWX3nlFWVa57lHH31UpVwqUaKE8v9k2qX+/ftLuXLleFp69+6t/tLU/uyzzypTPTWdTLHEa/xGHO9du7CvNDThMPl7XHazPAKvEAKMLQFreJwfLH70qEvgHgu3ggLBPp38NozBcmMuwvdhu96J/+ySymWKyl1tqkn96HAZPWOLbEvA1pMgWnsGT14nI3s3kgkoF4Hte1++vrHUqGDjbmbmc8L0C9T0czWlKTgR4FjD314Rd7awYayNW+A+oKpVofEMgelkUWJRmOj/bECAq/mluxPk8a9WSFREEbm7XRz+FlNBRJUit8vW+BNSp8JpMN/dcjD5lHzy93ZJhe/STdgznUncLRPS+sh/nzKEim8mwszuwXTNp+HzL0Sm/GGkxPEkpFpuSGAWpMBXnSYzEPc7d6fy5csLP5nJFELN63iePpsmmb9Xo5B/nkxfT2pMf/nlF9m4cSOEsaNy44034h2Gl5i/iEFM/Z4UqR4n8uYozyYlpo556RUjZdIfv1tKmfTHtHR5ZWC6LNkQplMm+WucHXLffUkn5T/fLJX9Safl5X81VEGAHWtWkCmr94MnHoevZ7p8CUFzG0zuH83bLtvx9yZs7Wu7jybn/aOPw+2oiaHpP784dQisupneIECeOHCwsaD+9GPPPNGbus+X5S0GP4c5BfrkC50y6TwsgfNn7ty5MmHCBGhLjsi4ceNUmhqzdTRVTp06Vb755hulfXrrrbdU4IZ5PhD/UuCk8/tcJCguCLPQuNtaSo2Kxio9skRhqRlVXP5BWqRkpA86jh01wuE8//3KA1Ie0eeVI70QOM3OU9tJYdIqMYXO8WSrpXU5LxDgfup33323inCnPygFXf71KyVDg5RiaJEstYNziXPKIiEmS46dVxxYvEQX84DA4sWL5bPPPlPpvsgTzYUOL2M2BPLMzz//XGVeYAqvSpUs+ux6uK+dp89AoFx3IFHW7k+RD/7dXLrVi4ZmvIAUL1JI6kSXlu9hEfp15V5Yh45LlVLFZNbmBGVWr4q0cflCybD+nEzNl1vpm/gZAVr66HBpI8GtP6TIXjR9DCVzGD7zzDMqXY2ZcNu8BQM1uIvMPffco/IpZg72YDkKefyYx+rAT/+dRg5M7v876JfV8j2iM3sglxzN6GZQUARyb9atWFrmbEmQTxbskOZVI2Us0ii1q460R9i+LRrR3ZqciwDna1RUlNSoUQNmlapQPHvQPDu3q7rlNiLArAdPPPGEWmhzkwJ3YtAaXUDuu+8+JYBm5pksG0g8kTx73b4kmNA3yajpW2DhKSltqpe/kO6IwYU0sR+Gb/tQbO1bCub0t25tIrc0j1H7p8eU0TzRffz1sUYgEBFwlHmd6WVIWQVd8CUeFxcnp0+fzvI8r9uwYYNKAk7mRh86f9JMpEZ6/ue1Kq0H88hd37xyhtRIXNnf3LyKxB9LlYU7k5A6KUo61a4g1UqXlN3HTqi90/3Zfn1vjYBGwP8I0CWDn6y05OSJpruH6aOcucXbtm2TpUuXKh9lbu16ww03ZC6Sb9+5dWW/71ZJAoRKblN5X/s47I+e8RXF9HB3t42VadjSsk7FkmoLy3qVSstV2N6yNc5p0ghoBAIbgYxPdGC31Set4+qfn/wkahOY+J1aTN77NEzqi3clYaUeJm/f0kzKw4czBprLzO2qHR0hr9/cXLZhP/WKMCPx+upwkufHa2KfsQuOZJHfLtu6yoOJV6ua7Wl9IsgQYIosb8yvkZEiZUtbBqEUitdsbbm4LhjkCDBYCGtrxfeY8mj9wSRk6Tgjw66tL02rlpVK4HlmUncTilIlisiA7vXl9paxMLkXVOeZ3aNnI8zd/CDy0VjwRFgpNAU5AhxrphnEPLOLeIsq51+xPA4FCimhs379+sIPfZ2mTZtm+/gyn+Y2BAKVRELjWdBsdqwVJdWwU9Ak7CT0wbwd0rNBlDRDvrnMwqZ7w4og31z9GLyt80r0F/wMztAkpv3wRHwCHnpQpO8D1sp7qk+fD2wEGBDx8YeUAKwxWc6h1141+mRlPqHkdb0KSc9rC6kA+cAGI3Raxw0K+FGm7XXrbO84F99bsalFmZJhMnPjQRUM2QIC5hpsczn0141SvGhB6VK3olC4zI5oBYqLysXCO7sKvfmdz8n4T6w/J97UrcsGFgIUNt9602iTTYInq31zjOHLb9MtAgtTtMaC9BE4bT5w4IAykXNHmL///lv5I61du1a4awyjf2kyX7hwoRw8eFCdb9euXYadYdyFO/djO3pI7ebXiK78EP6YURFhsmT3MakPRtkurqz8vPqARCPf5r/bxOYocPq8XUyBRKHCapQ0nahT4TBvtbzPG2x/hQy0+PTTT9UcYiJ4+lkyUr1fv37K1zKnFnBLzF69eilf4pzKOeYctvNUCxKkc7JESUlImYToIGoDLBC3rGbapJiYEFnSW8Akr0UYVLl69WqVeos8kdo/8kHyyDvuuEPIM+fPn692wCJv5HnummWSOx90PzbP+/rv+n3H5ekfV0gVWHbmbU2UCGxW0a1eefl7R6IkQcvZt2Ntj/ur+7pNXteHFGcq+wctR5qCGwFkFlGURfYSX3WcPJFUvnxo8EVHCZ0UJrk7TNu2bZUfEtPPhIeHqyTbHDRuUUgG3LRpU8VoGaRhpqjh+fwkJnOftTletsJPaWdCAelSu6ysQrL3T5H66Oam0XJ722rKHynf2kTh4JH/wLwODcJXE6ylTBr/uci06SK//mSkWsq3xuJGjIpON1JJ+OS2BTHVs1hKcrvLZs2ayZo1a2TMmDEyduxYFenLbS9//fVXad68udpXnQIpsyNw+0oGZ/AzefJk9VLnfGQkuqOJuTse+y9yssaKjHzFc3oQpo4ZPAwpk7aITJ1sKWXSlN/PyagR6TJ3qU6Z5Ku5QqGTPJHbsJL3ccHEHLClSxtuD/v27RNGuLdq1UrxTKbvchc6fdUOK/Wkw5w+e0u82vRiBXZcax0biR3Yzsj4xXulU80y8gT2Vr+hWZX8XYhbabh7Gc77Rx4TadJYZMggz8+J+7X62FkIkCc+94Lx3vjgPVvGmrd4YYDxnnv/I50yKeAmCAUAfrKjrl27Cj+BQIkpabIdAmc1+CVdVqOM9O9RX16csk6YCH7gdY2lIjSd+aFZyIAFzP1SEB+rxHRJh45YLe3bcskHRb6+D3V6keIppxbc8Bb8FRteUoIBGPxw8cII8kj4KY4fP15OnDgh3DWIx3TH2LJlixJMu3fvrrSizOvJF3vdunWVy8YlFTvxB2pwSkVYb/k5MEu+hC0SN3M6uNFiYV3MEgL1sE3f6NGjsy1LYZOfQKBUpH5bt/+YlCsRhnRwJeTVG5rK7+v2y58b4mXg1Q08uhoFQh9UG47gOTl2XgMWMI3SDbEFAVp/bE6ZlOCnV6wteFmo1FGaTgv9CZgih1JOyS4kOP7i3lbSJq68yjE39JpGKh9ndKRO7eFxoIogD2njXt7lFc2p0hLWTGFMO/Ptt99Ko0aNJBEMZw92pKD/LzWbe/fuVem4unTpgpisMkqLzkVQoLzUc+q+PqcR8DcCybD+bDiQLA92rC592lfHDkJhUgm5NW9qVlXisNFFvi/C/Q2Ivr9GIAQR0EKnTYO+6WCylC6GXJvRpaTE+bQflcv6cZtDm/ppW7XFIkUue8SH1Vvzl6HQyf3Wr732WiVU0leYCbVptoyLi5N58+bJxIkT5f3331cvSTPvqw8bqqvSCAQlAonHT8n2xFRpEVv6QqBQGWx0wY8mjYBGIDQQsC8XQGjgl2Uvj59Mkynr9kmzqhFS0ure6FnW5OMf4bSvfDqtVlscGtnSpayW9m05BjzRrOGzjzWhk2ZzbjKwefNmtV86TevJ2DKCPp/Ubl511VVqR6xTiIrhNpjMc8i904OCIhERHIGPVWJCey+S2rNomWpWK9flggkBblv585oDyL9ZRKoi17Cjibm/SnrxnDi6syHeePB4r1yOcgEXM8+V8tNrNhfNzfMlWtOZZwgzVsCUIFPW7JfNB1PlxV71AyeJO9/44z81otfDjBQNGVue6RuFvkehaXywb0ikTKIvp+kvzF2vqM184403VHJtRgHHx8crsztTyzz11FNq28o+ffqoLQZ3794tQ4YMyQSgw74yFcwX4w2n+SwCri7pjZkyiT6dRYtecjqrH3rfWEi69yjojZyaVTX6N4chQGvABvhyTl17QG5pVUXlHHZYFy42l/N+4hcGT7TynFy8Uh85DQHyxHffMVpt01jzFu98YLyPeRwKpIVOH4/yzyv2yJhZW6VJlQi5qn5Mhl2GfHwr76tjRLg3Dw8FzxCh6tWry9NPP616y+jeAQMGZOg5fTqvvPLKDL8FUpBGhobl5Ys3Yw5hAnnLvLqbN9V7VbEuHLAIrNydKIMmr4E7CtawHWrAv93hrx12RE/kgJ1vPm1YPoxzPtzCp5DktTJtXs8rgm7Xc1eNz5Gbc1vCSWlTrTw2/wkgeOGrKA89Cu3l44LN691anc0hhYnPsaJ/4CGvIpSzqU3/HOgIMHdHvydFXh9lpKvy1F5qOAcOFvn33YK9Zz2VVuf/mHZObul1VqX2tHSBLhQUCHy8YDvyFCdLLUSsRyFrh6OJz8ljT4i8Pcbac+LozoZ44znWLwwSGQQ+R4WNDcRqBz13Rn1suoUNrc5blQ5fcuat87m9msIl9wcug10zwgpdFCzjj52W46lnsF9wIWlWLcCcNChEpp6AAAkzu1U6fATJT3dZLa3LOR2BXXu8y0XHHEgnsHmARWKe5S2LLBbWxRyFAN2Kjp48I8XAD83ASXYgDWnajp/C71iAt8RC3PER6uSj5IllrWXDcNQg6sZeigCyl9iZMonTaff5VyyPQ4G00JmLUd6D/JuPfLtUHkMy41Np6XIauTe71qsof206KPHJadKvay1pVsXiri65uL++RCOgEdAIBBICSange98uk3rI1tG+RjnZk5Cqtv1NOHka/pwpckOjinI3NsTQpBHQCIQ2AlrozMX470hKlmV7sLvQ39gBCbsMnT3nkspzt8nJ0+ekA3bWuA856IqFhYhXcC7w05doBDQCwYUALTzTNybI8t3H5c/18bITqZG41W9JpIsrCcvP01fVu5AmKbh6rnujEdAIeIPARduwN1eFeNkNB7AnOWjetqNStlgRbHFZTrYeTpVDWO3f0TpWJT0OCogKwmGe0ZqaQgMBhk8Wsm+86TBfWKeqDcq5dCgFrhagIxA+tyWckJubxchB7Mq29iC0nM2rSGw5h6dJch81Pic271Ljfjt97EcECtrLE9kzslwb2a4fwcv61va9YbK+n+N/ZfqPlXuSJBbbW9aLLim3tYqVDrWiZFDKGUk4eUoaVTL2PA64jjJl0sf/M6IuvUmZ1OfeoBY89+/fLxs2bMgwXMWKFZOmTZuqrTEznHD7sn79elmxYoXcfvvtUiiLXBc7d+6UKVOmyEMPPQS53QGPGfvwxafWU8GwT6+8ZASlWczVyZRJnbvolElu0yhoDtfuOY7NMApLo5hw6VonWu5oEyv9utWTQ8mp2G0oIniCvTnvv0KAJee8N5lAgmakQ6gj5Inv2Z8yadwHxvshi9dIUIJt9DYou2ZPp+gsv/3wCbmvQxy2c6shRQpjYoLKliwqNSXAEwaX9dLPlIlxS/pHQ2HHTj9ZBTEcP35cJYLft2+fTJ8+Xe677z61I1GNGjWUMFkQLxYKldypiMT92fmdKZSqVauG905BBG+fVgESTCTPc9zLvUqVKnL33Xer72lpaepanmd51kHid54zhVZex/N+o3LlvEsFg73nVcokizk/sNET8ptC3akpqBBIT3fB3ShBLqtRWt68uYWUCz8foQ52GFsuCFXb2J1MC5xBNYWz74y378zsa8r2TNmyocUTtdCZ7VS49AQjNOdviZfUM+ekaZXIDJHrl5YOsF8oNP0fUiaFQeB5dyz+ekgQz1C6iV+JzF+A1d44z+V93N3UMydlzr55ki6+CelrH91GyhW/VOiuW7eu1KlTR1auXCk7duyQhx9+WD788EMZNGiQ0lByO0wKwJMnT1b7rl9++eXywAMPyMKFC2XGjBkyePBg6du3rxIyqTXljkbDhg2TQ4cOyZgxY2T06NHy4osvIuNGuhxF+DaFSiaSLwtm9tZbb6mdjrjNJoXeV199VQmzPobSWnVMD/Lsc4I9P0Wefgr2HmMxle3FLD94mGBLJiNZtoUE8TP+PAdle7pM/DZMJ4jPFlhnneCzsSU+WdbB5eimFlVURg9n9cDL1nLeP91fpE5tkf+An1pccHl5F108EBBgDqPhI4wFxtDBnnliLtrMW4wYhvRzoKEvFvbIdnNxi4C7RAudXgxJClJ//LRyn9SPjpDWTkv/QSHy0GHDLMRjK7R7j8jyVVZK+rzM0dNH5cXFY3wmdH7SdVSWQie1n/xQ28i/FAqpfeTLdPjw4dierJTa9rJBgwZqO8yRI0eqrTDPIk/liRNIQQWitpSa0X79+smzzz6rzO4VK1aU1FQjnRDPN2zYUAmoFELnz58v1ZGMfuvWrTJq1CjZg7Qcjz32mBJMfQ6kNxWuWiuSbPgre7yMcygBKbXiD1lOEI9NnWTxb5aLe2yCLuB/BM5ByzlzU7xwQX5zy6p4foJca8N5v3I1BBBYJHisKXgR4PiuW4eFhX3WJ95i7WpjHoXKdHKU0Ll3715Zvny5muTdunWD5Tej6TclJUUWLFggSUlJ0rZtW/Vi99UTQaa6L/EkgocS5c3ejaWojk73FbRZ1hNdsqLMvPGHLM/l5sciBT1odjNV2q5dO6lQoYISQH/99Vel2WQRakMPH4bw7kb0AW3ZsqXaGjMmJkadp9BpEn06W7RoofZu525H1HhSE0pBlVrO4rA701SvSSPgLQIHDx6UZcuWKS08d8ziIsmdTiKX6t9//622ceUOWtTq+4q4MEs+fVYmr9knV9StIJUii/mqal2PRkAjEKQI2CfC2wAYX/hbtmxRZskjR6BlcSP61dEsSpMnhU6aNGmy9AWdTDsrHyMl0uPfrZAK4UWkSdVLzbS+uI+u4yIChRA1WCKsuM8+hb0MD6TfJTWfx44dUwFB1ES+9NJLUh7+XHzZuhO1oxQsTa1pVudNX02WIVE4oMBALSjn8oEDB9yr1McaAUsIUEu+DtqYsWPHKsHS/SJq47/55hvhoola+ZdfflkY4OYLoh/nn+sPSN8Ji1Xmjq71otT890Xdug6NgEYgeBFwlKaT/nT8zJs375IRSUxMVFrO119/XWrWrAlXs23KT4+aJZPIhPlhAAc/VulI8mn5bOFO2QZN5x0tKkk0Itc1hQYC9NGsVauWfPrppxIZGak0Sr7oeaNGjeS7775TvqM07ZvBRb6oW9cROgi0bt1a+Fm8ePElnaZ7x59//inPPfecNGnSROhzTN4ZFxd3oazJE+lzbAbLXTiZw8E5LLy+W7YHlp8kaVU1UupWzKhhzeFSfUojoBEIYQQcJXTmNE7UdJJxUkggRUdHKw0StU6mdmnq1KkyadIkpaliIIhVqlS6uLx9W1N5f85WuaZxjBQNpD3VrXaCgUPjsF8wNW3QynkklnvwAZHbbrXFgdrj/fO5AM2O1GSS3NMghYeHq8AfaiVNdw6a3TnXGIREDScDgExzOjWiNLfTZP7KK6+oa/jSL1PG2DbvpptuUvOP359++mlJSEhQ5vhdu3ZdqD+fu27cjoFDH32AgDHMDSsR9JxDQ7AvcRoC1M5H43tq93XXF5RWqwp4jGHzVI8+bw0BCpHUcHKxRGJGBbp1cO6amve5c+fK+PHj1ZxkMB3npxUqDN/Nwdc2wiYY66VmVKREmRHrVi52chnO+88+FimGCH0rz4mT+xrqbSdPfOtNAwWbxpq3GP0O5hSIx6FARm+DoKemaZMMlcQVfOb8iD179pTu3bsrLSfzJ1qlwnAabxNXHgFEpdQOG6YQa/X6gCjHhwbBK5aJQicEd/WxfJFzC1JIjIuLUx2gUOlO5ZBKiJ/MRIGUZF7HY/p0mmT+zpe9STTPk+hr99NPPynTaHJystx8880XBFezbL7+LYDxrlnD+i1ZPjbWcnkWZ2qQUEsPYhkgGwqST1G4NK06FEKZlsudf3Xq1Ek6dOigBNFhw4ZZbgXrqIaE76/d2EwogJJHhgRxIteqGRJdDflOcqzj4myFwbgF7hNC5Cihk0zz1KlTSqCk6YjaTfrDUdCMQE5JfjZv3qwYK/+SobozWAqh/FAgNXMjWh1r1hNZHOmGNGkEfIBAUaQYYk5QCpw0rUdFRal564OqdRUhhAB5GRcwFCwZSEmeSJ92/uWc4iKIPp/0IV6zZo306tUrS57I6ymQeksli3p/jbf30OU1AhqB4EHAUULnokWLVBARmWj//v3VS5uRxGSwjz/+uPr+0Ucfqe+M1GzevHnwjFQI9YSLiMzBOMHWfS5imKuTH5Pc+8xjU2tvntd/NQKZEVi9erVyC+HfF154Qf7973+rIgyiZPque++9V8aNGycTJkxQabs6duyYuQr9XSOgEdAI5BsCjhI627RpIxQqTaL/Jl/efEHTjMQgI6am4eqf/nfUJmlyDgIcQ44Ztdemb65zWu/bllLzRA0WtVWaNALZIcCANHeeSDcRPkdcsPAvF9/vvvuuChLSPDE7FPXvGgGNQH4h4CihkwJJToIkTeam03x+Aajv4zsEuICg7ySDH7hwCGWiqZNzmUFJxEWTRiArBOiakZW/sVmWgifdjjRpBDQCGoFAQMBRQmcgAKbbYC8CeuGQEV8tcGbEQ3/TCGgENAIaAecioIVO545dULZcC1lBOay6UxoBjYBGQCOgEZCQFTrpB8o9thkNr0kjoBHQCFhBgHyDrh/8G4ykeWIwjqruk0bAXgQYzG2VJ4ak0ElwuFMRt8qkz5wVYnAL/ewy721s5dpAKcOUU4xq5T7fTtUocuyYSJ3jl5sUL4EyFtx/ncFCOfnjBUpbs2sHg1U4FnHIZefk+cStJJk/1WrwGlMS/ec//8kOFkf+zueKc/Gtt96yvEkBceB17hkYnNb5YJnDfA65QQUDyZxKTB/HVIjmRhtO7Ic5n/iOpT+1U8ncDMWqPzi3c2bmDPIDT++CAmlnzgbMkr0gkgwXyoeBIjCUzEmeAGIZlv/ss89Uzrurr76aPzmSuL/3wIED1R71mRPnO6VD1DIxsb/7LkBOabt7OydPnqzyKd59992W5qD7tYFyTCvBo48+Kv/73/8cuwCg4M+dofr27SuMBLdCfLGYOX+t8A8rdfq7DHkctZxWXhpmW7///nul9eUOXk4lBi0y3Z7T5/DDDz+sUmTVrl3bqUMh8+fPlyVLlki/fv0cK7DxGfq///s/+eCDDxy7tTH52+jRo6V9+/Zq4wgrE4p8g/EY5IvuPPEc6kpPzyhihqSmk6BY1XAScPMlQ81aTtHzVgbHn2XYfk4M9sGpQifbb/bByWPBqGNzPrk/pP6cH97em8+FORZO1TpT6OSzwPFw8nzyduwyl+cc9Kb/fMlwzHkdsXPqHOYi1ulz2OyD0+ewuZDjPHSylpDzycljQb7OZ5vj4Q1PyMxTsvsekkJndmDk9HvNmjWldOnSORUJ+HMUtNu1a+fYFwQB5suNfeBD7WSqVKmS49N7kbk6fT5xDrVs2dLxY+GPZ6Fq1aoXttj0x/19cc9gmMPkiW3btrXsFuEL3Oyog9sP16tXz46q861OCsvkiU4WmglW/fr1JfN20L4CMSTN696Cx1U9NSJ8uMmknEpcwXBVbGoonNgPjkVWe0g7rS+cT6ZJwqlaomAYC/bB1BQ5/UWRn88AcSM/IRE3PYfzE/2M9zKfQ2qmnDyHNU/MOK7++sb55Ct5JyvzuhY6/TWy+r4aAY2ARkAjoBHQCGgEghSBrIRO54ZXBekg6W5pBDQCGgGNgEZAI6ARCEYEtE+nhVGlGSk+Pl6Y0oEpk7gfdqCaMZhy4tChQ8pkSJ8rOgJTXc4UCExrwPbTV4PtZwQ/Uyixf/QxNPeytwCJrUXYLraX0dHcLzo6Olo5NbMf+/fvl5SUFClTpoxKc8N+cI9y/k6KiYkJiK0j2dbDhw8LUyPR9EjMiT2jG4k5zRfsF/tH4thw3Oiryj4EWmAO5wgxJt5sH/vB73R1YD/Cw8Mz9IPtD5S0Vmwj0yKZGSs4d5iWhZHLnGd0mWGf+KywnxyHY8eOqfFiOaeajtWA2PQf57eJE8eeOAWq6xHbyucwISFB8RHyRbbVfQ6z/WZ6GPJ58nvOYc6LQPAfZ1tNnkjffPJrto9988TbTT4TCPOYqQeZaovEFF18FuneQp7I59R9HMjn2bdAGgf3x4nYMyMMeQZ5nXs/yO/NLbnNftD9geUCYT6xrXv37lXvTvaJbeVc57uUfSKxrZxr7J85bnzWOffyIv9ooVPBm/N/mzZtkmHDhikBgQ8/j2vVqpXzRX46u2zZMvn0009l9erVMnHiROWYvXnzZpWTlDnc+OIdMmSIMLXG119/LVOnTlUv2zp16sgzzzzjVVS/XV1ct26dSmFCISAxMVHuueceufLKK2XVqlXyxhtvKOGYQhvHgS8QprOaN2+eeqG0aNFCpfGxI+rOm/6yfT///LOsX79e5Z6jcDlixAhhqqSffvpJ5dNjLrcXXnjhwphQ8OTnwQcflEBLzbV79265//77pWHDhvLOO++oPvzwww+qHxwDpuLiS4NjwpcKGS3LX3PNNd7AZktZCsd9+vRRzwLH4fLLL5cePXrIm2++Kdu3b1fCZ69evYTpq7Zs2SIvvfSSeg74rAwePFg9K7Y0zMGVcj6Qj/BFyoUux99qyqn87jafRT53v/32m+In3377rRJ4yPu++uorNdYUEpi3mS9jjj8XjHwWmXvwpptuyu8mX3I/zlPmUKXAQp54ww03yM0336zm68svv3xhvg4aNEi9m8jb2WcKCTVq1FC83VzgXlJ5Pv4wZcoUWb58+YUFILFeuHCh4uEUfCiEkoeQfzMtHoVRCkK33HKL+uRjUz3eioLYI488ohann3zyifz555/y0UcfqYBjBh2zHxTaXnvtNbXoZT84l2677TaPddtdgAswpnaiAMm2tm7dWs2n999/X1auXKmUIp06dVJl+KyzL3zWuSDjO6tp06a5byLzdAbK5+y5c1g8BBZBynfhQXa9++67LjAhF15UrlGjRgVWI91ag5e9CxoIV+/evV0bNmxwgYm6IEy6kIdOtZ/9gODmwkrehQfZBYHUhcTCLrx0XRD23Gry3yH7wPbhZebCi8IFIcwFTYX6i5eEC1oo18iRI1WfduzYofqBB8MFgcF17bXXuvibv4nzhvOFfWBfwGxc//zzj+vWW2914aF2QRBy4aXhWrx4sWvatGmuu+66y4UXnWvWrFmue++91wWBx99duHB/4g2moz79+/d3gfG4kJvRhZeHC6ti1Y9Fixa5pk+f7rrzzjtVP2bPnu2CEOeCtvpCPf462LlzpwtCvOuPP/5wrV27Vo0JFjCuf/3rX2ru8xngWOAF58KLzvXhhx+qPvJZGTp0qHqG/NX2QLwv5zYEHRdepmqOY9Gn5kYgtpVtYnshqKmxx+LVBWHBBeWBeuYWLFig5isWtq6ZM2e65s6dq55RzuulS5eqec7n2N9EPgKtn5q7bCP5O/vE55K8HVp7FwQGNSbk5+Q3O8AHOfdvvPFGF5QQ/u6Cuj95B9tKXsf3D/kdeQbHgXwSQr7rr7/+Ut/vuOMO9Rt5JI8htAVEH9gIvqOGDx/uwkLFhVzF6p1EHg7lh3r/kveRH0KgVm1n35CDVM2nQOgH5xL5HxQHam6wP5wv119/vQsLHHVMnsj36nvvvadkBr4HPv/8c9djjz3mgoLB0lhQpsssX2qfTg/yOrU3W7duVSkpaH6hhM/dHwKVuJql+d80dXF1xfZzJcP2N2jQQK26qFrnKowaT2qqaIKhlicQiH2g5oHto5aWGkGa2sFA1ThwRcxx2LZtm+oLzTTsA8vRhM1y/iaasrgyZJLgp556SuFMMxFegEpbyBVm9erVhVp0fjgu3BWH40TTLlfRgUBs76+//qrwZVoW9ss0qzdu3FjNG2r9N27cqD5MtcF+tGrVSq2KA6Ef1Jq0adNGaVSoFfryyy9VW6tUqSL88BmgFYD94qqefaCGiGPB+cdnSNNFBKgNpAafY+zOUy6WCKwjzllq0ExzJ1tHTSY1tNTOcr7WrVtX9Yk8kPOZ/LB58+bKBA+Bwe8d4vyk6Zk8kW2MjY1VvITHHAe6RrEv5H3k7Zy/cdgpjCZS8kZqSgOByAMhuKgNGWjOJfZ0c+GzRp7PcSA/JD/hOPA38hlaHUyzbyD0Y8aMGUpDSKsJ5xfnE7WA5JF8/zL1E3kHFD/CdIvsB8eH8gT5jL+J40CrIC2i1Chjoa3ay+eEc4tzhxpQyjqcOxwDPj8dOnQQCKeqr7ntQ+HcXhgq10GcVw+36cPAv/zNSUTBwRRC+YCw/fyYfWJfeJ5mqEAhPpw0T5OJUp1vtt9sc3b9MH8PhH7QFNazZ0/1ANOkzpcBiW0ksU8cG+Ju9sv8GyhzjL6QkyZNEmgalFmMDIcvBZLZD7Y585wKpH6Q4T/77LMKb7afx926dVOYm30w5w37Yf5mPhOBMhYK9AD4L/NYm9gFQNMsN4HPHckc66zmMM8FUt/YZroEwGKi3D4oOHAsTN5o9sV9Dpt9DBTezoU4XaUoCNMFwBSGTX5hjgP7av4WaOPARcgXX3wh0CDLihUr1EIVFhQ1n8w2m/3IanzMuacu8NN/FCi5ExvnDhUDTzzxhFqosN3mPDLnvvt8cu9XbpuuNZ0ekKPgwBUZVywUhPjS4oozUIkThAzG/EstD7U5ZvspRHAlxpU8VOrKYZ4+eFxFxmF1EwjE9v/4449C/58nn3xStZcrdwoPFHjoV8tx4Cqe/eBDw1Um/zJggAzN32TiTy3addddp3zIuBomw+EYEHv+pbaTGlpqo6nNpeaC2oxA2c+aL7bu3bur1TlXvfQFMsnsB3/n3GE/qH1mP/g30PrBFx41QpxffKbpL8a5z4AYjgfnF59tLg6ozeMzw7nEfmi6iADnBMeamhziRLyosQpU4rPI544f87lkezkf2HbOVwo/5rNIbTe1b1zwsjwtKf4mzlm44Qi3HqWwwPnLeUkeSK0gx4HPIecvP/RH5dwmP6RmjdqrQCD2gz6m9FnnHCIf5ziQ/1HzzO/8nWXYH1oZyGcoAPH5DASioEafcAqfnCP0sWU7KSuQf7MfnE/E3L0fptKB76xAIOLOD9+tfDY4l9gXvkf5l/OHv9Eqx7Gg/MN4C84vXpNbKjR4yJBhub3Y19dxYhXEJ5CIbaLJlsEqfJHC90Tuu+8+NRCB1E6zLZwcbOvs2bMV46TQSTX6hAkTVPsZcAOfQWVSZNnff/9d7XdLkzadtfng+JvgHyjwHZSOHTsqswUFHTIiCmJmP+Dno8bBNO2aGgAyY/h1+j36my8BOv6vWbNG4LekBJwHHnhAmYl++eUXgb+YetAZJEUmRAGbJkv2g0Ied8nh3PM3kbmwLeYuUHxB03meY0LtLYMCuAjog0AdMie2n4yJf6nRoOnP3/3gi2HcuHEKX2ptmzVrJvBnUm1n+9nWJk2aqBchnwPOMb78uBc0g6EoePq7D/6eB+73JxZ88RAnCguc3/DLU8+oe7lAOabgSO3gd999p/g3tTXkE3zhUohj4ASFs4ceekgJNuwPn1sG4nTu3FnxIX+PPzVpbB/N0BQoKUjGYaFHnsiAUXO+kp/QPYSCMxfu7BsXCdTK0UTvb+JzyGduzpw5atHSt29fJTyzD+wjBR3yEvaNJmxqEuFrq/YB517g/h4H4kcc6XpBnkj3EioTuF88XQDoukP+R8GNcgIXMmw/A3zhq6rM75dddpnf+0El09tvv60W1t98840SjhmYxoUk+R7lBwrNDFij/EPNLuUf9oHjQ5cBK2PBZw//MlABOnlm+MWPXwoWxI4/YAiBRlydUcPGgaLWkICTYQUi8QHgBDeJDy/9ZKi1IaMyfdi4WqN2kBHhFJDob8IVvZWJZNZt11/izHaZRK0EfTjZZj7QXGFSCOU48AVCH0izPH1PaDrwdz+4cuSLi1o0CvLUePJFRw0KXwRcNbpvNcax4QNPoYcCUCBq1zi3uALmfOJqnv2gwJlVP6hR5JgFQj+IOV9e1EbQZ4kR+GwXXwycT3yWKYhSwOazznGgVoLPCn2z/D2XzOcgkP7yZUKtDoUbLjaY/YLCTSAS20rNE9tL4niT3/FlSr7BecE5zX6QyF/ILzlHOC8CQVjjXOVC1SS2ncoEYs53E+crF0fkM+ST1Nzz+SRv53wnDw2EecznjfydY0AtINtMYY3jQJ6S1ThQccJxIE8JNCI/ZFon8gnyQrMffB7I70l8B3A+8T1Ankge72/inCdPJG+kryafB+JLoZ/vLc4VtpXzjDyRzw+VVFxsMv6Ac8wKZZUcXgudVpDTZTQCGgGNgEZAI6AR0AhoBCwjkJXQGXhqRcvd0QU1AhoBjYBGQCOgEdAIaAScgoAWOp0yUrqdGgGNgEZAI6AR0AhoBByMgBY6HTx4uukaAY2ARkAjoBHQCGgEnIKAFjqdMlK6nRoBjYBGQCOgEdAIaAQcjIAWOh08eLrpGgGNgEZAI6AR0AhoBJyCgBY6nTJSup0aAY2ARkAjoBHQCGgEHIzA/wM7gNv5dQ2lZQAAAABJRU5ErkJggg==)\n",
        "\n",
        "<br>\n",
        "\n",
        "test 구간과 연관성이 높은 train의 앞 부분을 제거했다고 해도 여전히 그 연관성이 높을 수 있음. <br>\n",
        "이 경우 추가적으로 연관성을 제거하기 위해 학습 데이터의 앞 부분 일부를 제거하는 것 <br>"
      ]
    },
    {
      "cell_type": "markdown",
      "metadata": {},
      "source": [
        "# Practice"
      ]
    },
    {
      "cell_type": "markdown",
      "metadata": {},
      "source": [
        "## Stratified K-Fold"
      ]
    },
    {
      "cell_type": "code",
      "execution_count": null,
      "metadata": {},
      "outputs": [],
      "source": [
        "# diamonds 데이터 셋에서 cut을 맞추는 lightgbm모델 작성\n",
        "# target: cut, fair: 1, otherwise: 0\n",
        "# stratified cv를 적용하여 fold별 performance를 비교\n",
        "# cv별 random search를 통하여 hyperparameter tuning 및 parameter 비교"
      ]
    },
    {
      "cell_type": "code",
      "execution_count": 151,
      "metadata": {},
      "outputs": [],
      "source": [
        "diamonds = sns.load_dataset('diamonds')\n",
        "diamonds['cut'] = np.where(diamonds['cut']=='Fair', 1, 0)\n",
        "\n",
        "results = {}\n",
        "stratified_k_fold = StratifiedKFold()\n",
        "for i, (train_index, test_index) in enumerate(stratified_k_fold.split(\n",
        "    diamonds.drop(columns='cut'), diamonds['cut']\n",
        "    )):\n",
        "    train = diamonds.iloc[train_index]\n",
        "    train, valid = train_test_split(\n",
        "        train,\n",
        "        test_size=len(test)/len(train),\n",
        "        random_state=seed,\n",
        "    )\n",
        "    test = diamonds.iloc[test_index]\n",
        "    lgbm = LGBMClassifier().fit(\n",
        "        train.drop(columns=['cut']),\n",
        "        train['cut'],\n",
        "        eval_set=(valid.drop(columns=['cut']), valid['cut']),\n",
        "    )\n",
        "\n",
        "    confusion_matrix_result = confusion_matrix(\n",
        "        test['cut'],\n",
        "        lgbm.predict(test.drop(columns=['cut'])),\n",
        "    )\n",
        "    TP = confusion_matrix_result[0, 0]\n",
        "    FN = confusion_matrix_result[0, 1]\n",
        "    FP = confusion_matrix_result[1, 0]\n",
        "    TN = confusion_matrix_result[1, 1]\n",
        "\n",
        "    precision = TP / (TP+FP)\n",
        "    recall = TP / (TP+FN)\n",
        "    f1 = 2*precision*recall / (precision+recall)\n",
        "    accuracy = (TP+TN) / (TP+TN+FP+FN)\n",
        "\n",
        "    results.update({\n",
        "        f'fold{i+1}': {\n",
        "            'precision': precision,\n",
        "            'recall': recall,\n",
        "            'f1': f1,\n",
        "            'accuracy': accuracy,\n",
        "        }\n",
        "    })"
      ]
    },
    {
      "cell_type": "code",
      "execution_count": 155,
      "metadata": {},
      "outputs": [
        {
          "name": "stdout",
          "output_type": "stream",
          "text": [
            "fold1: {'precision': 0.9987123081875737, 'recall': 0.8892604624498376, 'f1': 0.9408137477887288, 'accuracy': 0.8914534668149796}\n",
            "fold2: {'precision': 0.9845812855353185, 'recall': 0.9762086757118288, 'f1': 0.9803771050232692, 'accuracy': 0.9620875046347794}\n",
            "fold3: {'precision': 0.9853959222380275, 'recall': 0.9928339384674183, 'f1': 0.9891009471229356, 'accuracy': 0.9787727104189841}\n",
            "fold4: {'precision': 0.9800487073810416, 'recall': 0.9997133575386967, 'f1': 0.9897833695960646, 'accuracy': 0.9799777530589544}\n",
            "fold5: {'precision': 0.996903725205612, 'recall': 0.9844257596025224, 'f1': 0.9906254506994856, 'accuracy': 0.981924360400445}\n"
          ]
        }
      ],
      "source": [
        "for fold, result in results.items():\n",
        "    print(f'{fold}: {result}')"
      ]
    },
    {
      "cell_type": "code",
      "execution_count": null,
      "metadata": {},
      "outputs": [],
      "source": [
        "## IMDB\n",
        "\n",
        "# 1. day32 IMDB 모델의 confusion matrix 확인\n",
        "    # 1.1 모델 학습\n",
        "    # 1.2 test data에 대해서 confusion matrix 확인\n",
        "# 2. cross validation을 통하여 5개 fold의 결과 확인 및 비교\n",
        "    # 2.1 fold별 모델 학습\n",
        "    # 2.2 모델 결과 비교"
      ]
    }
  ],
  "metadata": {
    "colab": {
      "provenance": [],
      "toc_visible": true
    },
    "kernelspec": {
      "display_name": "Python 3.9.12 ('base')",
      "language": "python",
      "name": "python3"
    },
    "language_info": {
      "codemirror_mode": {
        "name": "ipython",
        "version": 3
      },
      "file_extension": ".py",
      "mimetype": "text/x-python",
      "name": "python",
      "nbconvert_exporter": "python",
      "pygments_lexer": "ipython3",
      "version": "3.10.14"
    },
    "vscode": {
      "interpreter": {
        "hash": "e4af6128c7e0808fede432f38729c473c5b0d80882e83c469acdb54455c56396"
      }
    }
  },
  "nbformat": 4,
  "nbformat_minor": 0
}
