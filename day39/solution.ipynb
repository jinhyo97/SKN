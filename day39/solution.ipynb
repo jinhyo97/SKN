{
 "cells": [
  {
   "cell_type": "code",
   "execution_count": 211,
   "metadata": {},
   "outputs": [],
   "source": [
    "import pandas as pd\n",
    "import numpy as np"
   ]
  },
  {
   "cell_type": "code",
   "execution_count": 3,
   "metadata": {},
   "outputs": [
    {
     "name": "stderr",
     "output_type": "stream",
     "text": [
      "C:\\Users\\USER\\AppData\\Local\\Temp\\ipykernel_23912\\1658827424.py:1: DtypeWarning: Columns (23) have mixed types. Specify dtype option on import or set low_memory=False.\n",
      "  data = pd.read_csv(r'C:\\Users\\USER\\Documents\\git\\temp\\경기도경기부동산포털토지실거래가정보.csv', encoding='cp949')\n"
     ]
    }
   ],
   "source": [
    "data = pd.read_csv(r'C:\\Users\\USER\\Documents\\git\\temp\\경기도경기부동산포털토지실거래가정보.csv', encoding='cp949')"
   ]
  },
  {
   "cell_type": "markdown",
   "metadata": {},
   "source": [
    "# 1"
   ]
  },
  {
   "cell_type": "code",
   "execution_count": 34,
   "metadata": {},
   "outputs": [
    {
     "data": {
      "text/plain": [
       "Index(['시군구코드', '접수년도', '처리구분', '접수번호', '물건번호', '상세물건번호', '변경구분', '공개반영일',\n",
       "       '읍면동코드', '시군구명', '읍면동리명', '용도지역코드', '용도지역명', '지목코드', '지목명', '계약일',\n",
       "       '토지거래면적', '지분거래구분', '거래금액', '해제여부', '해제사유', '해제사유발생일', '중개구분', '중개업소주소',\n",
       "       '신고번호', '물건번호.1'],\n",
       "      dtype='object')"
      ]
     },
     "execution_count": 34,
     "metadata": {},
     "output_type": "execute_result"
    }
   ],
   "source": [
    "data.columns"
   ]
  },
  {
   "cell_type": "markdown",
   "metadata": {},
   "source": [
    "# 2"
   ]
  },
  {
   "cell_type": "code",
   "execution_count": 32,
   "metadata": {},
   "outputs": [
    {
     "data": {
      "text/plain": [
       "용도지역명          4\n",
       "용도지역코드         9\n",
       "중개구분         236\n",
       "변경구분       16265\n",
       "공개반영일      16265\n",
       "중개업소주소     48522\n",
       "해제사유발생일    49191\n",
       "dtype: int64"
      ]
     },
     "execution_count": 32,
     "metadata": {},
     "output_type": "execute_result"
    }
   ],
   "source": [
    "data.loc[:, data.isna().sum() != 0].isna().sum().sort_values()"
   ]
  },
  {
   "cell_type": "markdown",
   "metadata": {},
   "source": [
    "# 3"
   ]
  },
  {
   "cell_type": "code",
   "execution_count": 22,
   "metadata": {},
   "outputs": [
    {
     "data": {
      "text/plain": [
       "시군구코드          0\n",
       "접수년도           0\n",
       "처리구분           0\n",
       "접수번호           0\n",
       "물건번호           0\n",
       "상세물건번호         0\n",
       "변경구분           0\n",
       "공개반영일          0\n",
       "읍면동코드          0\n",
       "시군구명           0\n",
       "읍면동리명          0\n",
       "용도지역코드         4\n",
       "용도지역명          4\n",
       "지목코드           0\n",
       "지목명            0\n",
       "계약일            0\n",
       "토지거래면적         0\n",
       "지분거래구분         0\n",
       "거래금액           0\n",
       "해제여부           0\n",
       "해제사유           0\n",
       "해제사유발생일    33624\n",
       "중개구분         129\n",
       "중개업소주소     36681\n",
       "신고번호           0\n",
       "물건번호.1         0\n",
       "dtype: int64"
      ]
     },
     "execution_count": 22,
     "metadata": {},
     "output_type": "execute_result"
    }
   ],
   "source": [
    "data.isna().sum() - data.query('변경구분 != 변경구분').isna().sum()"
   ]
  },
  {
   "cell_type": "markdown",
   "metadata": {},
   "source": [
    "# 4"
   ]
  },
  {
   "cell_type": "code",
   "execution_count": 44,
   "metadata": {},
   "outputs": [
    {
     "data": {
      "text/plain": [
       "(52702, 22)"
      ]
     },
     "execution_count": 44,
     "metadata": {},
     "output_type": "execute_result"
    }
   ],
   "source": [
    "data = data.loc[:, data.isna().sum() < 300].dropna()\n",
    "data.shape"
   ]
  },
  {
   "cell_type": "markdown",
   "metadata": {},
   "source": [
    "# 5"
   ]
  },
  {
   "cell_type": "code",
   "execution_count": 68,
   "metadata": {},
   "outputs": [
    {
     "data": {
      "text/html": [
       "<div>\n",
       "<style scoped>\n",
       "    .dataframe tbody tr th:only-of-type {\n",
       "        vertical-align: middle;\n",
       "    }\n",
       "\n",
       "    .dataframe tbody tr th {\n",
       "        vertical-align: top;\n",
       "    }\n",
       "\n",
       "    .dataframe thead th {\n",
       "        text-align: right;\n",
       "    }\n",
       "</style>\n",
       "<table border=\"1\" class=\"dataframe\">\n",
       "  <thead>\n",
       "    <tr style=\"text-align: right;\">\n",
       "      <th></th>\n",
       "      <th>중개구분</th>\n",
       "      <th>직거래</th>\n",
       "    </tr>\n",
       "    <tr>\n",
       "      <th></th>\n",
       "      <th>지목명</th>\n",
       "      <th></th>\n",
       "    </tr>\n",
       "  </thead>\n",
       "  <tbody>\n",
       "    <tr>\n",
       "      <th rowspan=\"26\" valign=\"top\">거래금액</th>\n",
       "      <th>제방</th>\n",
       "      <td>189.692075</td>\n",
       "    </tr>\n",
       "    <tr>\n",
       "      <th>잡종지</th>\n",
       "      <td>251.537567</td>\n",
       "    </tr>\n",
       "    <tr>\n",
       "      <th>도로</th>\n",
       "      <td>492.342967</td>\n",
       "    </tr>\n",
       "    <tr>\n",
       "      <th>염전</th>\n",
       "      <td>1864.752874</td>\n",
       "    </tr>\n",
       "    <tr>\n",
       "      <th>수도용지</th>\n",
       "      <td>2743.119048</td>\n",
       "    </tr>\n",
       "    <tr>\n",
       "      <th>하천</th>\n",
       "      <td>5450.341608</td>\n",
       "    </tr>\n",
       "    <tr>\n",
       "      <th>구거</th>\n",
       "      <td>7055.533333</td>\n",
       "    </tr>\n",
       "    <tr>\n",
       "      <th>주유소용지</th>\n",
       "      <td>7197.660256</td>\n",
       "    </tr>\n",
       "    <tr>\n",
       "      <th>주차장</th>\n",
       "      <td>7293.577443</td>\n",
       "    </tr>\n",
       "    <tr>\n",
       "      <th>답</th>\n",
       "      <td>10184.591666</td>\n",
       "    </tr>\n",
       "    <tr>\n",
       "      <th>전</th>\n",
       "      <td>10801.453766</td>\n",
       "    </tr>\n",
       "    <tr>\n",
       "      <th>창고용지</th>\n",
       "      <td>12309.788122</td>\n",
       "    </tr>\n",
       "    <tr>\n",
       "      <th>묘지</th>\n",
       "      <td>12702.324740</td>\n",
       "    </tr>\n",
       "    <tr>\n",
       "      <th>과수원</th>\n",
       "      <td>14789.556667</td>\n",
       "    </tr>\n",
       "    <tr>\n",
       "      <th>임야</th>\n",
       "      <td>20415.617734</td>\n",
       "    </tr>\n",
       "    <tr>\n",
       "      <th>목장용지</th>\n",
       "      <td>20958.328423</td>\n",
       "    </tr>\n",
       "    <tr>\n",
       "      <th>유지</th>\n",
       "      <td>23020.035256</td>\n",
       "    </tr>\n",
       "    <tr>\n",
       "      <th>유원지</th>\n",
       "      <td>24586.175000</td>\n",
       "    </tr>\n",
       "    <tr>\n",
       "      <th>공장용지</th>\n",
       "      <td>24891.579687</td>\n",
       "    </tr>\n",
       "    <tr>\n",
       "      <th>대</th>\n",
       "      <td>26357.556049</td>\n",
       "    </tr>\n",
       "    <tr>\n",
       "      <th>공원</th>\n",
       "      <td>27328.329787</td>\n",
       "    </tr>\n",
       "    <tr>\n",
       "      <th>양어장</th>\n",
       "      <td>29134.020000</td>\n",
       "    </tr>\n",
       "    <tr>\n",
       "      <th>종교용지</th>\n",
       "      <td>33142.625000</td>\n",
       "    </tr>\n",
       "    <tr>\n",
       "      <th>철도용지</th>\n",
       "      <td>40140.888889</td>\n",
       "    </tr>\n",
       "    <tr>\n",
       "      <th>체육용지</th>\n",
       "      <td>172109.339422</td>\n",
       "    </tr>\n",
       "    <tr>\n",
       "      <th>학교용지</th>\n",
       "      <td>NaN</td>\n",
       "    </tr>\n",
       "  </tbody>\n",
       "</table>\n",
       "</div>"
      ],
      "text/plain": [
       "중개구분                  직거래\n",
       "     지목명                 \n",
       "거래금액 제방        189.692075\n",
       "     잡종지       251.537567\n",
       "     도로        492.342967\n",
       "     염전       1864.752874\n",
       "     수도용지     2743.119048\n",
       "     하천       5450.341608\n",
       "     구거       7055.533333\n",
       "     주유소용지    7197.660256\n",
       "     주차장      7293.577443\n",
       "     답       10184.591666\n",
       "     전       10801.453766\n",
       "     창고용지    12309.788122\n",
       "     묘지      12702.324740\n",
       "     과수원     14789.556667\n",
       "     임야      20415.617734\n",
       "     목장용지    20958.328423\n",
       "     유지      23020.035256\n",
       "     유원지     24586.175000\n",
       "     공장용지    24891.579687\n",
       "     대       26357.556049\n",
       "     공원      27328.329787\n",
       "     양어장     29134.020000\n",
       "     종교용지    33142.625000\n",
       "     철도용지    40140.888889\n",
       "     체육용지   172109.339422\n",
       "     학교용지             NaN"
      ]
     },
     "execution_count": 68,
     "metadata": {},
     "output_type": "execute_result"
    }
   ],
   "source": [
    "(\n",
    "    data.filter(items=['지목명', '중개구분', '거래금액'])\n",
    "    .groupby(['지목명', '중개구분']).mean()\n",
    "    .reset_index()\n",
    "    .pivot(index=['중개구분'], columns=['지목명'], values=['거래금액'])\n",
    "    .diff().abs().iloc[1:]\n",
    "    .T\n",
    "    .sort_values(by=['직거래'])\n",
    ")"
   ]
  },
  {
   "cell_type": "markdown",
   "metadata": {},
   "source": [
    "# 6"
   ]
  },
  {
   "cell_type": "code",
   "execution_count": 116,
   "metadata": {},
   "outputs": [
    {
     "data": {
      "text/plain": [
       "신고번호\n",
       "78151505     76\n",
       "14281996     76\n",
       "122227421    75\n",
       "61458212     73\n",
       "22886087     71\n",
       "Name: count, dtype: int64"
      ]
     },
     "execution_count": 116,
     "metadata": {},
     "output_type": "execute_result"
    }
   ],
   "source": [
    "data.신고번호.value_counts().head(5)"
   ]
  },
  {
   "cell_type": "code",
   "execution_count": 125,
   "metadata": {},
   "outputs": [
    {
     "data": {
      "text/plain": [
       "524534"
      ]
     },
     "execution_count": 125,
     "metadata": {},
     "output_type": "execute_result"
    }
   ],
   "source": [
    "max_ = data.query('신고번호==122227421').토지거래면적.max()\n",
    "max_"
   ]
  },
  {
   "cell_type": "code",
   "execution_count": 126,
   "metadata": {},
   "outputs": [
    {
     "data": {
      "text/html": [
       "<div>\n",
       "<style scoped>\n",
       "    .dataframe tbody tr th:only-of-type {\n",
       "        vertical-align: middle;\n",
       "    }\n",
       "\n",
       "    .dataframe tbody tr th {\n",
       "        vertical-align: top;\n",
       "    }\n",
       "\n",
       "    .dataframe thead th {\n",
       "        text-align: right;\n",
       "    }\n",
       "</style>\n",
       "<table border=\"1\" class=\"dataframe\">\n",
       "  <thead>\n",
       "    <tr style=\"text-align: right;\">\n",
       "      <th></th>\n",
       "      <th>시군구코드</th>\n",
       "      <th>접수년도</th>\n",
       "      <th>처리구분</th>\n",
       "      <th>접수번호</th>\n",
       "      <th>물건번호</th>\n",
       "      <th>상세물건번호</th>\n",
       "      <th>읍면동코드</th>\n",
       "      <th>시군구명</th>\n",
       "      <th>읍면동리명</th>\n",
       "      <th>용도지역코드</th>\n",
       "      <th>...</th>\n",
       "      <th>지목명</th>\n",
       "      <th>계약일</th>\n",
       "      <th>토지거래면적</th>\n",
       "      <th>지분거래구분</th>\n",
       "      <th>거래금액</th>\n",
       "      <th>해제여부</th>\n",
       "      <th>해제사유</th>\n",
       "      <th>중개구분</th>\n",
       "      <th>신고번호</th>\n",
       "      <th>물건번호.1</th>\n",
       "    </tr>\n",
       "  </thead>\n",
       "  <tbody>\n",
       "    <tr>\n",
       "      <th>48398</th>\n",
       "      <td>41670</td>\n",
       "      <td>2024</td>\n",
       "      <td>4</td>\n",
       "      <td>2439</td>\n",
       "      <td>73</td>\n",
       "      <td>1</td>\n",
       "      <td>4167025035</td>\n",
       "      <td>경기도여주시</td>\n",
       "      <td>가남읍 양귀리</td>\n",
       "      <td>UQB100</td>\n",
       "      <td>...</td>\n",
       "      <td>체육용지</td>\n",
       "      <td>20240214</td>\n",
       "      <td>524534</td>\n",
       "      <td>전체거래</td>\n",
       "      <td>9756347</td>\n",
       "      <td>2</td>\n",
       "      <td>추가입력완료</td>\n",
       "      <td>직거래</td>\n",
       "      <td>122227421</td>\n",
       "      <td>73</td>\n",
       "    </tr>\n",
       "  </tbody>\n",
       "</table>\n",
       "<p>1 rows × 22 columns</p>\n",
       "</div>"
      ],
      "text/plain": [
       "       시군구코드  접수년도  처리구분  접수번호  물건번호  상세물건번호       읍면동코드    시군구명    읍면동리명  \\\n",
       "48398  41670  2024     4  2439    73       1  4167025035  경기도여주시  가남읍 양귀리   \n",
       "\n",
       "       용도지역코드  ...   지목명       계약일  토지거래면적  지분거래구분     거래금액 해제여부    해제사유 중개구분  \\\n",
       "48398  UQB100  ...  체육용지  20240214  524534    전체거래  9756347    2  추가입력완료  직거래   \n",
       "\n",
       "            신고번호 물건번호.1  \n",
       "48398  122227421     73  \n",
       "\n",
       "[1 rows x 22 columns]"
      ]
     },
     "execution_count": 126,
     "metadata": {},
     "output_type": "execute_result"
    }
   ],
   "source": [
    "data.query(f'신고번호==122227421 and 토지거래면적=={max_}')"
   ]
  },
  {
   "cell_type": "markdown",
   "metadata": {},
   "source": [
    "# 7"
   ]
  },
  {
   "cell_type": "code",
   "execution_count": 161,
   "metadata": {},
   "outputs": [
    {
     "data": {
      "text/html": [
       "<div>\n",
       "<style scoped>\n",
       "    .dataframe tbody tr th:only-of-type {\n",
       "        vertical-align: middle;\n",
       "    }\n",
       "\n",
       "    .dataframe tbody tr th {\n",
       "        vertical-align: top;\n",
       "    }\n",
       "\n",
       "    .dataframe thead th {\n",
       "        text-align: right;\n",
       "    }\n",
       "</style>\n",
       "<table border=\"1\" class=\"dataframe\">\n",
       "  <thead>\n",
       "    <tr style=\"text-align: right;\">\n",
       "      <th></th>\n",
       "      <th>count</th>\n",
       "    </tr>\n",
       "    <tr>\n",
       "      <th>접수번호</th>\n",
       "      <th></th>\n",
       "    </tr>\n",
       "  </thead>\n",
       "  <tbody>\n",
       "    <tr>\n",
       "      <th>1534</th>\n",
       "      <td>13</td>\n",
       "    </tr>\n",
       "    <tr>\n",
       "      <th>961</th>\n",
       "      <td>12</td>\n",
       "    </tr>\n",
       "    <tr>\n",
       "      <th>1514</th>\n",
       "      <td>12</td>\n",
       "    </tr>\n",
       "    <tr>\n",
       "      <th>1524</th>\n",
       "      <td>11</td>\n",
       "    </tr>\n",
       "    <tr>\n",
       "      <th>1647</th>\n",
       "      <td>11</td>\n",
       "    </tr>\n",
       "    <tr>\n",
       "      <th>...</th>\n",
       "      <td>...</td>\n",
       "    </tr>\n",
       "    <tr>\n",
       "      <th>9589</th>\n",
       "      <td>2</td>\n",
       "    </tr>\n",
       "    <tr>\n",
       "      <th>7286</th>\n",
       "      <td>2</td>\n",
       "    </tr>\n",
       "    <tr>\n",
       "      <th>7276</th>\n",
       "      <td>2</td>\n",
       "    </tr>\n",
       "    <tr>\n",
       "      <th>3110</th>\n",
       "      <td>2</td>\n",
       "    </tr>\n",
       "    <tr>\n",
       "      <th>5973</th>\n",
       "      <td>2</td>\n",
       "    </tr>\n",
       "  </tbody>\n",
       "</table>\n",
       "<p>6066 rows × 1 columns</p>\n",
       "</div>"
      ],
      "text/plain": [
       "      count\n",
       "접수번호       \n",
       "1534     13\n",
       "961      12\n",
       "1514     12\n",
       "1524     11\n",
       "1647     11\n",
       "...     ...\n",
       "9589      2\n",
       "7286      2\n",
       "7276      2\n",
       "3110      2\n",
       "5973      2\n",
       "\n",
       "[6066 rows x 1 columns]"
      ]
     },
     "execution_count": 161,
     "metadata": {},
     "output_type": "execute_result"
    }
   ],
   "source": [
    "(\n",
    "    data.groupby(['접수번호', '신고번호']).count()\n",
    "    .iloc[:, :1]\n",
    "    .sort_values(by='시군구코드', ascending=False)\n",
    "    .reset_index()\n",
    "    .접수번호.value_counts()\n",
    "    .to_frame()\n",
    "    .query('count >= 2')\n",
    ")"
   ]
  },
  {
   "cell_type": "markdown",
   "metadata": {},
   "source": [
    "# 8"
   ]
  },
  {
   "cell_type": "code",
   "execution_count": 279,
   "metadata": {},
   "outputs": [],
   "source": [
    "target_dates = data.계약일.value_counts().head(5).index"
   ]
  },
  {
   "cell_type": "code",
   "execution_count": 290,
   "metadata": {},
   "outputs": [
    {
     "data": {
      "text/html": [
       "<div>\n",
       "<style scoped>\n",
       "    .dataframe tbody tr th:only-of-type {\n",
       "        vertical-align: middle;\n",
       "    }\n",
       "\n",
       "    .dataframe tbody tr th {\n",
       "        vertical-align: top;\n",
       "    }\n",
       "\n",
       "    .dataframe thead th {\n",
       "        text-align: right;\n",
       "    }\n",
       "</style>\n",
       "<table border=\"1\" class=\"dataframe\">\n",
       "  <thead>\n",
       "    <tr style=\"text-align: right;\">\n",
       "      <th></th>\n",
       "      <th>거래금액</th>\n",
       "    </tr>\n",
       "    <tr>\n",
       "      <th>지목명</th>\n",
       "      <th></th>\n",
       "    </tr>\n",
       "  </thead>\n",
       "  <tbody>\n",
       "    <tr>\n",
       "      <th>대</th>\n",
       "      <td>21580.187192</td>\n",
       "    </tr>\n",
       "    <tr>\n",
       "      <th>전</th>\n",
       "      <td>10693.898964</td>\n",
       "    </tr>\n",
       "    <tr>\n",
       "      <th>답</th>\n",
       "      <td>9162.932692</td>\n",
       "    </tr>\n",
       "    <tr>\n",
       "      <th>임야</th>\n",
       "      <td>5540.376991</td>\n",
       "    </tr>\n",
       "    <tr>\n",
       "      <th>도로</th>\n",
       "      <td>1047.071556</td>\n",
       "    </tr>\n",
       "  </tbody>\n",
       "</table>\n",
       "</div>"
      ],
      "text/plain": [
       "             거래금액\n",
       "지목명              \n",
       "대    21580.187192\n",
       "전    10693.898964\n",
       "답     9162.932692\n",
       "임야    5540.376991\n",
       "도로    1047.071556"
      ]
     },
     "execution_count": 290,
     "metadata": {},
     "output_type": "execute_result"
    }
   ],
   "source": [
    "temp = data.query('계약일 in @target_dates and 토지거래면적 < 1000')\n",
    "target_land_category = temp.지목명.value_counts().index[:5]\n",
    "temp.query('지목명 in @target_land_category').filter(items=['지목명', '거래금액']).groupby(['지목명']).mean().sort_values(by=['거래금액'], ascending=False)"
   ]
  },
  {
   "cell_type": "markdown",
   "metadata": {},
   "source": [
    "# 9"
   ]
  },
  {
   "cell_type": "code",
   "execution_count": 267,
   "metadata": {},
   "outputs": [
    {
     "data": {
      "text/html": [
       "<div>\n",
       "<style scoped>\n",
       "    .dataframe tbody tr th:only-of-type {\n",
       "        vertical-align: middle;\n",
       "    }\n",
       "\n",
       "    .dataframe tbody tr th {\n",
       "        vertical-align: top;\n",
       "    }\n",
       "\n",
       "    .dataframe thead th {\n",
       "        text-align: right;\n",
       "    }\n",
       "</style>\n",
       "<table border=\"1\" class=\"dataframe\">\n",
       "  <thead>\n",
       "    <tr style=\"text-align: right;\">\n",
       "      <th></th>\n",
       "      <th>거래금액</th>\n",
       "    </tr>\n",
       "    <tr>\n",
       "      <th>시군구명</th>\n",
       "      <th></th>\n",
       "    </tr>\n",
       "  </thead>\n",
       "  <tbody>\n",
       "    <tr>\n",
       "      <th>경기도 성남시수정구</th>\n",
       "      <td>NaN</td>\n",
       "    </tr>\n",
       "    <tr>\n",
       "      <th>경기도구리시</th>\n",
       "      <td>362367.33333</td>\n",
       "    </tr>\n",
       "    <tr>\n",
       "      <th>경기도안양시동안구</th>\n",
       "      <td>15446251.16667</td>\n",
       "    </tr>\n",
       "    <tr>\n",
       "      <th>경기도 오산시</th>\n",
       "      <td>41646.19231</td>\n",
       "    </tr>\n",
       "    <tr>\n",
       "      <th>경기도부천시오정구</th>\n",
       "      <td>82044.39860</td>\n",
       "    </tr>\n",
       "    <tr>\n",
       "      <th>...</th>\n",
       "      <td>...</td>\n",
       "    </tr>\n",
       "    <tr>\n",
       "      <th>경기도 양평군</th>\n",
       "      <td>378.85097</td>\n",
       "    </tr>\n",
       "    <tr>\n",
       "      <th>경기도연천군</th>\n",
       "      <td>2251.04798</td>\n",
       "    </tr>\n",
       "    <tr>\n",
       "      <th>경기도 연천군</th>\n",
       "      <td>5197.48616</td>\n",
       "    </tr>\n",
       "    <tr>\n",
       "      <th>경기도 성남시중원구</th>\n",
       "      <td>7130.88688</td>\n",
       "    </tr>\n",
       "    <tr>\n",
       "      <th>경기도 안양시동안구</th>\n",
       "      <td>1049.38235</td>\n",
       "    </tr>\n",
       "  </tbody>\n",
       "</table>\n",
       "<p>88 rows × 1 columns</p>\n",
       "</div>"
      ],
      "text/plain": [
       "                     거래금액\n",
       "시군구명                     \n",
       "경기도 성남시수정구            NaN\n",
       "경기도구리시       362367.33333\n",
       "경기도안양시동안구  15446251.16667\n",
       "경기도 오산시       41646.19231\n",
       "경기도부천시오정구     82044.39860\n",
       "...                   ...\n",
       "경기도 양평군         378.85097\n",
       "경기도연천군         2251.04798\n",
       "경기도 연천군        5197.48616\n",
       "경기도 성남시중원구     7130.88688\n",
       "경기도 안양시동안구     1049.38235\n",
       "\n",
       "[88 rows x 1 columns]"
      ]
     },
     "execution_count": 267,
     "metadata": {},
     "output_type": "execute_result"
    }
   ],
   "source": [
    "(\n",
    "    data.filter(items=['시군구명', '거래금액'])\n",
    "    .merge(data.filter(items=['시군구명', '거래금액']).groupby(['시군구명']).mean().rename(columns={'거래금액': '평균거래금액'}).reset_index())\n",
    "    .query('거래금액 > 평균거래금액')\n",
    "    .drop(columns=['평균거래금액'])\n",
    "    .groupby(['시군구명']).mean()\n",
    "    .sort_values(by=['거래금액'], ascending=False)\n",
    "    .diff().abs()\n",
    ")"
   ]
  },
  {
   "cell_type": "code",
   "execution_count": 248,
   "metadata": {},
   "outputs": [
    {
     "data": {
      "text/html": [
       "<div>\n",
       "<style scoped>\n",
       "    .dataframe tbody tr th:only-of-type {\n",
       "        vertical-align: middle;\n",
       "    }\n",
       "\n",
       "    .dataframe tbody tr th {\n",
       "        vertical-align: top;\n",
       "    }\n",
       "\n",
       "    .dataframe thead th {\n",
       "        text-align: right;\n",
       "    }\n",
       "</style>\n",
       "<table border=\"1\" class=\"dataframe\">\n",
       "  <thead>\n",
       "    <tr style=\"text-align: right;\">\n",
       "      <th></th>\n",
       "      <th>토지거래면적</th>\n",
       "    </tr>\n",
       "    <tr>\n",
       "      <th>지목명</th>\n",
       "      <th></th>\n",
       "    </tr>\n",
       "  </thead>\n",
       "  <tbody>\n",
       "    <tr>\n",
       "      <th>체육용지</th>\n",
       "      <td>10210.951220</td>\n",
       "    </tr>\n",
       "    <tr>\n",
       "      <th>학교용지</th>\n",
       "      <td>5435.166667</td>\n",
       "    </tr>\n",
       "    <tr>\n",
       "      <th>임야</th>\n",
       "      <td>1423.680316</td>\n",
       "    </tr>\n",
       "    <tr>\n",
       "      <th>답</th>\n",
       "      <td>1238.822792</td>\n",
       "    </tr>\n",
       "    <tr>\n",
       "      <th>창고용지</th>\n",
       "      <td>936.804348</td>\n",
       "    </tr>\n",
       "    <tr>\n",
       "      <th>공장용지</th>\n",
       "      <td>934.679644</td>\n",
       "    </tr>\n",
       "    <tr>\n",
       "      <th>주차장</th>\n",
       "      <td>931.629213</td>\n",
       "    </tr>\n",
       "    <tr>\n",
       "      <th>유지</th>\n",
       "      <td>883.560000</td>\n",
       "    </tr>\n",
       "    <tr>\n",
       "      <th>목장용지</th>\n",
       "      <td>794.443299</td>\n",
       "    </tr>\n",
       "    <tr>\n",
       "      <th>전</th>\n",
       "      <td>762.444062</td>\n",
       "    </tr>\n",
       "    <tr>\n",
       "      <th>과수원</th>\n",
       "      <td>730.843537</td>\n",
       "    </tr>\n",
       "    <tr>\n",
       "      <th>잡종지</th>\n",
       "      <td>721.639394</td>\n",
       "    </tr>\n",
       "    <tr>\n",
       "      <th>공원</th>\n",
       "      <td>689.766234</td>\n",
       "    </tr>\n",
       "    <tr>\n",
       "      <th>묘지</th>\n",
       "      <td>537.110000</td>\n",
       "    </tr>\n",
       "    <tr>\n",
       "      <th>유원지</th>\n",
       "      <td>536.071429</td>\n",
       "    </tr>\n",
       "    <tr>\n",
       "      <th>종교용지</th>\n",
       "      <td>517.125000</td>\n",
       "    </tr>\n",
       "    <tr>\n",
       "      <th>양어장</th>\n",
       "      <td>507.551020</td>\n",
       "    </tr>\n",
       "    <tr>\n",
       "      <th>염전</th>\n",
       "      <td>392.485714</td>\n",
       "    </tr>\n",
       "    <tr>\n",
       "      <th>주유소용지</th>\n",
       "      <td>371.947368</td>\n",
       "    </tr>\n",
       "    <tr>\n",
       "      <th>하천</th>\n",
       "      <td>339.814208</td>\n",
       "    </tr>\n",
       "    <tr>\n",
       "      <th>대</th>\n",
       "      <td>326.898011</td>\n",
       "    </tr>\n",
       "    <tr>\n",
       "      <th>수도용지</th>\n",
       "      <td>302.050000</td>\n",
       "    </tr>\n",
       "    <tr>\n",
       "      <th>철도용지</th>\n",
       "      <td>206.526316</td>\n",
       "    </tr>\n",
       "    <tr>\n",
       "      <th>구거</th>\n",
       "      <td>146.678571</td>\n",
       "    </tr>\n",
       "    <tr>\n",
       "      <th>제방</th>\n",
       "      <td>65.872449</td>\n",
       "    </tr>\n",
       "    <tr>\n",
       "      <th>도로</th>\n",
       "      <td>57.228001</td>\n",
       "    </tr>\n",
       "  </tbody>\n",
       "</table>\n",
       "</div>"
      ],
      "text/plain": [
       "             토지거래면적\n",
       "지목명                \n",
       "체육용지   10210.951220\n",
       "학교용지    5435.166667\n",
       "임야      1423.680316\n",
       "답       1238.822792\n",
       "창고용지     936.804348\n",
       "공장용지     934.679644\n",
       "주차장      931.629213\n",
       "유지       883.560000\n",
       "목장용지     794.443299\n",
       "전        762.444062\n",
       "과수원      730.843537\n",
       "잡종지      721.639394\n",
       "공원       689.766234\n",
       "묘지       537.110000\n",
       "유원지      536.071429\n",
       "종교용지     517.125000\n",
       "양어장      507.551020\n",
       "염전       392.485714\n",
       "주유소용지    371.947368\n",
       "하천       339.814208\n",
       "대        326.898011\n",
       "수도용지     302.050000\n",
       "철도용지     206.526316\n",
       "구거       146.678571\n",
       "제방        65.872449\n",
       "도로        57.228001"
      ]
     },
     "execution_count": 248,
     "metadata": {},
     "output_type": "execute_result"
    }
   ],
   "source": [
    "data.filter(items=['지목명', '토지거래면적']).groupby(['지목명']).mean().sort_values(by=['토지거래면적'], ascending=False)"
   ]
  },
  {
   "cell_type": "markdown",
   "metadata": {},
   "source": [
    "# 10"
   ]
  },
  {
   "cell_type": "code",
   "execution_count": 241,
   "metadata": {},
   "outputs": [
    {
     "data": {
      "text/html": [
       "<div>\n",
       "<style scoped>\n",
       "    .dataframe tbody tr th:only-of-type {\n",
       "        vertical-align: middle;\n",
       "    }\n",
       "\n",
       "    .dataframe tbody tr th {\n",
       "        vertical-align: top;\n",
       "    }\n",
       "\n",
       "    .dataframe thead th {\n",
       "        text-align: right;\n",
       "    }\n",
       "</style>\n",
       "<table border=\"1\" class=\"dataframe\">\n",
       "  <thead>\n",
       "    <tr style=\"text-align: right;\">\n",
       "      <th></th>\n",
       "      <th>시군구명</th>\n",
       "      <th>거래금액</th>\n",
       "    </tr>\n",
       "    <tr>\n",
       "      <th>year</th>\n",
       "      <th></th>\n",
       "      <th></th>\n",
       "    </tr>\n",
       "  </thead>\n",
       "  <tbody>\n",
       "    <tr>\n",
       "      <th>2021</th>\n",
       "      <td>경기도용인시기흥구</td>\n",
       "      <td>49304.0</td>\n",
       "    </tr>\n",
       "    <tr>\n",
       "      <th>2022</th>\n",
       "      <td>경기도수원시팔달구</td>\n",
       "      <td>292300.0</td>\n",
       "    </tr>\n",
       "    <tr>\n",
       "      <th>2023</th>\n",
       "      <td>경기도화성시</td>\n",
       "      <td>69300.0</td>\n",
       "    </tr>\n",
       "    <tr>\n",
       "      <th>2024</th>\n",
       "      <td>경기도화성시</td>\n",
       "      <td>230000.0</td>\n",
       "    </tr>\n",
       "  </tbody>\n",
       "</table>\n",
       "</div>"
      ],
      "text/plain": [
       "           시군구명      거래금액\n",
       "year                     \n",
       "2021  경기도용인시기흥구   49304.0\n",
       "2022  경기도수원시팔달구  292300.0\n",
       "2023     경기도화성시   69300.0\n",
       "2024     경기도화성시  230000.0"
      ]
     },
     "execution_count": 241,
     "metadata": {},
     "output_type": "execute_result"
    }
   ],
   "source": [
    "temp = data.query('토지거래면적 < 500')\n",
    "temp = temp.loc[np.where(temp.용도지역명.str.extract('(주거)', expand=False).isna(), False, True)]\n",
    "temp['year'] = temp.계약일.apply(lambda x: str(x)[:4])\n",
    "temp.filter(items=['year', '시군구명', '거래금액']).groupby(['year', '시군구명']).mean().reset_index().groupby(['year']).max()"
   ]
  }
 ],
 "metadata": {
  "kernelspec": {
   "display_name": "deep_learning",
   "language": "python",
   "name": "python3"
  },
  "language_info": {
   "codemirror_mode": {
    "name": "ipython",
    "version": 3
   },
   "file_extension": ".py",
   "mimetype": "text/x-python",
   "name": "python",
   "nbconvert_exporter": "python",
   "pygments_lexer": "ipython3",
   "version": "3.10.14"
  }
 },
 "nbformat": 4,
 "nbformat_minor": 2
}
